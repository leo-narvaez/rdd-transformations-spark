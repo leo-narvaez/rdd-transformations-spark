{
 "cells": [
  {
   "cell_type": "markdown",
   "metadata": {
    "application/vnd.databricks.v1+cell": {
     "cellMetadata": {},
     "inputWidgets": {},
     "nuid": "c564fafc-f48b-4e67-b48b-b6caa00a9fe6",
     "showTitle": false,
     "tableResultSettingsMap": {},
     "title": ""
    }
   },
   "source": [
    "# Primeros pasos con Spark"
   ]
  },
  {
   "cell_type": "markdown",
   "metadata": {
    "application/vnd.databricks.v1+cell": {
     "cellMetadata": {},
     "inputWidgets": {},
     "nuid": "c5f44474-9ced-4569-b4a3-30177d11cd03",
     "showTitle": false,
     "tableResultSettingsMap": {},
     "title": ""
    }
   },
   "source": [
    "## SparkContext vs SparkSession"
   ]
  },
  {
   "cell_type": "markdown",
   "metadata": {
    "application/vnd.databricks.v1+cell": {
     "cellMetadata": {},
     "inputWidgets": {},
     "nuid": "512d8d83-63f7-4d08-a8ae-783d536851c8",
     "showTitle": false,
     "tableResultSettingsMap": {},
     "title": ""
    }
   },
   "source": [
    "SparkContext es el punto de entrada a Spark desde las versiones 1.x y se utiliza para crear de forma programativa RDD, acumuladores y variables broadcast en el clúster. Desde Spark 2.0, la mayoría de funcionalidades (métodos) disponibles en SparkContext también los están en SparkSession. Su objeto sc está disponible en el spark-shell y se puede crear de forma programativa mediante la clase SparkContext."
   ]
  },
  {
   "cell_type": "code",
   "execution_count": 0,
   "metadata": {
    "application/vnd.databricks.v1+cell": {
     "cellMetadata": {
      "byteLimit": 2048000,
      "rowLimit": 10000
     },
     "inputWidgets": {},
     "nuid": "ea7c7fef-1f2b-4b1f-bb40-35c62ff8e309",
     "showTitle": false,
     "tableResultSettingsMap": {},
     "title": ""
    }
   },
   "outputs": [],
   "source": [
    "from pyspark import SparkContext\n",
    "sc = SparkContext.getOrCreate()"
   ]
  },
  {
   "cell_type": "markdown",
   "metadata": {
    "application/vnd.databricks.v1+cell": {
     "cellMetadata": {},
     "inputWidgets": {},
     "nuid": "31b10f71-63bc-4e5e-8a3a-bce66d452f35",
     "showTitle": false,
     "tableResultSettingsMap": {},
     "title": ""
    }
   },
   "source": [
    "SparkSession se introdujo en la versión 2.0 y es el punto de entrada para crear RDD, DataFrames y DataSets. El objeto spark se encuentra disponible por defecto en el spark-shell y se puede crear de forma programativa mediante el patrón builder de SparkSession."
   ]
  },
  {
   "cell_type": "code",
   "execution_count": 0,
   "metadata": {
    "application/vnd.databricks.v1+cell": {
     "cellMetadata": {
      "byteLimit": 2048000,
      "rowLimit": 10000
     },
     "inputWidgets": {},
     "nuid": "58ddebbe-eaa6-4ed9-87b7-b0a161804d63",
     "showTitle": false,
     "tableResultSettingsMap": {},
     "title": ""
    }
   },
   "outputs": [],
   "source": [
    "from pyspark.sql import SparkSession\n",
    "spark = SparkSession.builder.getOrCreate() "
   ]
  },
  {
   "cell_type": "markdown",
   "metadata": {
    "application/vnd.databricks.v1+cell": {
     "cellMetadata": {},
     "inputWidgets": {},
     "nuid": "02491a35-9dad-4f91-87dd-04382ffda8f8",
     "showTitle": false,
     "tableResultSettingsMap": {},
     "title": ""
    }
   },
   "source": [
    "Además, desde una sesión de Spark podemos obtener un contexto a través de la propiedad sparkContext:"
   ]
  },
  {
   "cell_type": "code",
   "execution_count": 0,
   "metadata": {
    "application/vnd.databricks.v1+cell": {
     "cellMetadata": {
      "byteLimit": 2048000,
      "rowLimit": 10000
     },
     "inputWidgets": {},
     "nuid": "07d63877-8295-49e0-ad10-b9a364630b04",
     "showTitle": false,
     "tableResultSettingsMap": {},
     "title": ""
    }
   },
   "outputs": [],
   "source": [
    "from pyspark.sql import SparkSession\n",
    "spark = SparkSession.builder.getOrCreate()\n",
    "sc = spark.sparkContext"
   ]
  },
  {
   "cell_type": "markdown",
   "metadata": {
    "application/vnd.databricks.v1+cell": {
     "cellMetadata": {},
     "inputWidgets": {},
     "nuid": "20d6b204-c169-4163-aab7-7d5c03bde703",
     "showTitle": false,
     "tableResultSettingsMap": {},
     "title": ""
    }
   },
   "source": [
    "### Hola Spark"
   ]
  },
  {
   "cell_type": "markdown",
   "metadata": {
    "application/vnd.databricks.v1+cell": {
     "cellMetadata": {},
     "inputWidgets": {},
     "nuid": "90a7e5c4-4092-41d3-9361-c5da47b51fbf",
     "showTitle": false,
     "tableResultSettingsMap": {},
     "title": ""
    }
   },
   "source": [
    "Lo primero que debemos hacer siempre es conectarnos a la sesión de Spark, el cual le indica a Spark como acceder al clúster. Si utilizamos la imagen de Docker, debemos obtener siempre la sesión a partir de la clase SparkSession:"
   ]
  },
  {
   "cell_type": "code",
   "execution_count": 0,
   "metadata": {
    "application/vnd.databricks.v1+cell": {
     "cellMetadata": {
      "byteLimit": 2048000,
      "rowLimit": 10000
     },
     "inputWidgets": {},
     "nuid": "1e6c0d0e-2dc3-4e6a-b558-dc8416408969",
     "showTitle": false,
     "tableResultSettingsMap": {},
     "title": ""
    }
   },
   "outputs": [
    {
     "output_type": "display_data",
     "data": {
      "text/html": [
       "\n",
       "            <div>\n",
       "                <p><b>SparkSession - hive</b></p>\n",
       "                \n",
       "        <div>\n",
       "            <p><b>SparkContext</b></p>\n",
       "\n",
       "            <p><a href=\"/?o=1014752695775501#setting/sparkui/1118-191143-2m46bi48/driver-1418094755610786061\">Spark UI</a></p>\n",
       "\n",
       "            <dl>\n",
       "              <dt>Version</dt>\n",
       "                <dd><code>v3.3.2</code></dd>\n",
       "              <dt>Master</dt>\n",
       "                <dd><code>local[8]</code></dd>\n",
       "              <dt>AppName</dt>\n",
       "                <dd><code>Databricks Shell</code></dd>\n",
       "            </dl>\n",
       "        </div>\n",
       "        \n",
       "            </div>\n",
       "        "
      ]
     },
     "metadata": {
      "application/vnd.databricks.v1+output": {
       "addedWidgets": {},
       "arguments": {},
       "data": "\n            <div>\n                <p><b>SparkSession - hive</b></p>\n                \n        <div>\n            <p><b>SparkContext</b></p>\n\n            <p><a href=\"/?o=1014752695775501#setting/sparkui/1118-191143-2m46bi48/driver-1418094755610786061\">Spark UI</a></p>\n\n            <dl>\n              <dt>Version</dt>\n                <dd><code>v3.3.2</code></dd>\n              <dt>Master</dt>\n                <dd><code>local[8]</code></dd>\n              <dt>AppName</dt>\n                <dd><code>Databricks Shell</code></dd>\n            </dl>\n        </div>\n        \n            </div>\n        ",
       "datasetInfos": [],
       "metadata": {},
       "removedWidgets": [],
       "textData": null,
       "type": "htmlSandbox"
      }
     },
     "output_type": "display_data"
    }
   ],
   "source": [
    "from pyspark.sql import SparkSession\n",
    "\n",
    "spark = SparkSession.builder.getOrCreate() # SparkSession de forma programativa\n",
    "spark"
   ]
  },
  {
   "cell_type": "code",
   "execution_count": 0,
   "metadata": {
    "application/vnd.databricks.v1+cell": {
     "cellMetadata": {},
     "inputWidgets": {},
     "nuid": "9c1bf511-ecc2-4447-80b1-850ef8340ec7",
     "showTitle": false,
     "tableResultSettingsMap": {},
     "title": ""
    }
   },
   "outputs": [],
   "source": [
    "sc = spark.sparkContext                    # SparkContext a partir de la sesión"
   ]
  },
  {
   "cell_type": "code",
   "execution_count": 0,
   "metadata": {
    "application/vnd.databricks.v1+cell": {
     "cellMetadata": {},
     "inputWidgets": {},
     "nuid": "4370d1c2-9c99-4ac5-8580-65826374aee2",
     "showTitle": false,
     "tableResultSettingsMap": {},
     "title": ""
    }
   },
   "outputs": [
    {
     "output_type": "execute_result",
     "data": {
      "text/plain": [
       "5050"
      ]
     },
     "execution_count": 6,
     "metadata": {},
     "output_type": "execute_result"
    }
   ],
   "source": [
    "# Suma de los 100 primeros números\n",
    "rdd = sc.parallelize(range(100 + 1))\n",
    "rdd.sum()"
   ]
  },
  {
   "cell_type": "markdown",
   "metadata": {
    "application/vnd.databricks.v1+cell": {
     "cellMetadata": {},
     "inputWidgets": {},
     "nuid": "fd3a5523-3b8d-4cae-82a2-3f1a40823d82",
     "showTitle": false,
     "tableResultSettingsMap": {},
     "title": ""
    }
   },
   "source": [
    "En cambio, si utilizamos la instalación de PySpark (o la solución de Databricks) que tenemos en la máquina virtual, directamente podemos acceder a la instancia de SparkSession a través del objeto global spark:"
   ]
  },
  {
   "cell_type": "code",
   "execution_count": 0,
   "metadata": {
    "application/vnd.databricks.v1+cell": {
     "cellMetadata": {
      "byteLimit": 2048000,
      "rowLimit": 10000
     },
     "inputWidgets": {},
     "nuid": "f0e26de4-d5a2-481f-8b47-3d46c9be8deb",
     "showTitle": false,
     "tableResultSettingsMap": {},
     "title": ""
    }
   },
   "outputs": [],
   "source": [
    "sc = spark.sparkContext     # spark es una instancia de la clase SparkSession"
   ]
  },
  {
   "cell_type": "code",
   "execution_count": 0,
   "metadata": {
    "application/vnd.databricks.v1+cell": {
     "cellMetadata": {
      "byteLimit": 2048000,
      "rowLimit": 10000
     },
     "inputWidgets": {},
     "nuid": "03b45349-9fb2-4b37-9be4-46989307e38e",
     "showTitle": false,
     "tableResultSettingsMap": {},
     "title": ""
    }
   },
   "outputs": [
    {
     "output_type": "stream",
     "name": "stdout",
     "output_type": "stream",
     "text": [
      "Out[5]: 5050"
     ]
    }
   ],
   "source": [
    "rdd = sc.parallelize(range(100 + 1))\n",
    "rdd.sum()"
   ]
  },
  {
   "cell_type": "markdown",
   "metadata": {
    "application/vnd.databricks.v1+cell": {
     "cellMetadata": {},
     "inputWidgets": {},
     "nuid": "b68fef6c-2119-4afa-8950-1ede3d056d74",
     "showTitle": false,
     "tableResultSettingsMap": {},
     "title": ""
    }
   },
   "source": [
    "## Arquitectura"
   ]
  },
  {
   "cell_type": "markdown",
   "metadata": {
    "application/vnd.databricks.v1+cell": {
     "cellMetadata": {},
     "inputWidgets": {},
     "nuid": "a697276c-0d81-428d-bdd4-1577624cdac0",
     "showTitle": false,
     "tableResultSettingsMap": {},
     "title": ""
    }
   },
   "source": [
    "Ya hemos comentado que Spark es un sistema distribuido diseñado para procesar grandes volúmenes de datos de forma rápida y eficiente. Este sistema normalmente se despliega en un conjunto de máquinas que se conocen como un clúster Spark, pudiendo estar compuesta de unas pocas máquinas o miles de ellas. Según el FAQ de Spark, el clúster más grande de Spark contiene más de 8000 nodos."
   ]
  },
  {
   "cell_type": "markdown",
   "metadata": {
    "application/vnd.databricks.v1+cell": {
     "cellMetadata": {},
     "inputWidgets": {},
     "nuid": "13167ca0-05bd-4495-8ec1-d7e6d848cce9",
     "showTitle": false,
     "tableResultSettingsMap": {},
     "title": ""
    }
   },
   "source": [
    "A la hora del despliegue, se utiliza un sistema de gestión de recursos como el gestor propio de Spark (conocido como Spark Standalone), Apache Mesos, Kubernetes o YARN para gestionar de forma inteligente y eficiente el clúster."
   ]
  },
  {
   "cell_type": "markdown",
   "metadata": {
    "application/vnd.databricks.v1+cell": {
     "cellMetadata": {},
     "inputWidgets": {},
     "nuid": "85ec73fb-f20d-4deb-b777-da7605ba4a05",
     "showTitle": false,
     "tableResultSettingsMap": {},
     "title": ""
    }
   },
   "source": [
    "Los dos componentes principales del clúster son:"
   ]
  },
  {
   "cell_type": "markdown",
   "metadata": {
    "application/vnd.databricks.v1+cell": {
     "cellMetadata": {},
     "inputWidgets": {},
     "nuid": "cfedc4c8-2050-4ae7-be71-d2852fdbc34f",
     "showTitle": false,
     "tableResultSettingsMap": {},
     "title": ""
    }
   },
   "source": [
    "- el gestor del clúster: nodo maestro que sabe donde se localizan los trabajadores, cuanta memoria disponen y el número de cores CPU de cada nodo. Su mayor responsabilidad es orquestar el trabajo asignándolo a los diferentes nodos."
   ]
  },
  {
   "cell_type": "markdown",
   "metadata": {
    "application/vnd.databricks.v1+cell": {
     "cellMetadata": {},
     "inputWidgets": {},
     "nuid": "5752e325-99fb-4f88-a7f4-3be7ee076213",
     "showTitle": false,
     "tableResultSettingsMap": {},
     "title": ""
    }
   },
   "source": [
    "- los nodos trabajadores (workers): cada nodo ofrece recursos (memoria, CPU, etc...) al gestor del clúster y realiza las tareas que se le asignen."
   ]
  },
  {
   "cell_type": "markdown",
   "metadata": {
    "application/vnd.databricks.v1+cell": {
     "cellMetadata": {},
     "inputWidgets": {},
     "nuid": "567ec93e-49ad-4448-a742-cf7ce73e232d",
     "showTitle": false,
     "tableResultSettingsMap": {},
     "title": ""
    }
   },
   "source": [
    "### Aplicaciones Spark"
   ]
  },
  {
   "cell_type": "markdown",
   "metadata": {
    "application/vnd.databricks.v1+cell": {
     "cellMetadata": {},
     "inputWidgets": {},
     "nuid": "36d0afc7-94f2-4ead-ba01-1762fcf9b3b8",
     "showTitle": false,
     "tableResultSettingsMap": {},
     "title": ""
    }
   },
   "source": [
    "Una aplicación Spark se compone de dos partes:"
   ]
  },
  {
   "cell_type": "markdown",
   "metadata": {
    "application/vnd.databricks.v1+cell": {
     "cellMetadata": {},
     "inputWidgets": {},
     "nuid": "b3e3c8ac-0d6a-49f1-8c9f-f80f9614131c",
     "showTitle": false,
     "tableResultSettingsMap": {},
     "title": ""
    }
   },
   "source": [
    "1. La lógica de procesamiento de los datos, la cual realizamos mediante alguna de las API que ofrece Spark (Java, Scala, Python, etc...), desde algo sencillo que realice una ETL sobre los datos a problemas más complejos que requieran múltiples iteraciones y tarden varias horas como entrenar un modelo de machine learning."
   ]
  },
  {
   "cell_type": "markdown",
   "metadata": {
    "application/vnd.databricks.v1+cell": {
     "cellMetadata": {},
     "inputWidgets": {},
     "nuid": "1a102be0-0872-4840-bf31-b3dc873b178b",
     "showTitle": false,
     "tableResultSettingsMap": {},
     "title": ""
    }
   },
   "source": [
    "2. Driver: es el coordinador central encargado de interactuar con el clúster Spark y averiguar qué máquinas deben ejecutar la lógica de procesamiento. Para cada una de esas máquinas, el driver realiza una petición al clúster para lanzar un proceso conocido como ejecutor (executor). Además, el driver Spark es responsable de gestionar y distribuir las tareas a cada ejecutor, y si es necesario, recoger y fusionar los datos resultantes para presentarlos al usuario. Estas tareas se realizan a través de la SparkSession."
   ]
  },
  {
   "cell_type": "markdown",
   "metadata": {
    "application/vnd.databricks.v1+cell": {
     "cellMetadata": {},
     "inputWidgets": {},
     "nuid": "bed31fd8-0b64-42f0-b30e-262b28bf3996",
     "showTitle": false,
     "tableResultSettingsMap": {},
     "title": ""
    }
   },
   "source": [
    "Cada ejecutor es un proceso JVM (Java Virtual Machine) dedicado para una aplicación Spark específica. Un ejecutor vivirá tanto como dure la aplicación Spark, lo cual puede ser segundos, minutos o días, dependiendo de la complejidad de la aplicación. Conviene destacar que los ejecutores son elementos aislados que no se comparten entre aplicaciones Spark, por lo que la única manera de compartir información entre diferente ejecutores es mediante un sistema de almacenamiento externo como HDFS o S3."
   ]
  },
  {
   "cell_type": "markdown",
   "metadata": {
    "application/vnd.databricks.v1+cell": {
     "cellMetadata": {},
     "inputWidgets": {},
     "nuid": "d25fd1af-b6e0-4997-9ec3-39a0556963b8",
     "showTitle": false,
     "tableResultSettingsMap": {},
     "title": ""
    }
   },
   "source": [
    "![](https://community.cloud.databricks.com/files/shared_uploads/notebook_1/1.jpg)"
   ]
  },
  {
   "cell_type": "markdown",
   "metadata": {
    "application/vnd.databricks.v1+cell": {
     "cellMetadata": {},
     "inputWidgets": {},
     "nuid": "cef046c5-2fe0-4b06-acec-9da8305f376e",
     "showTitle": false,
     "tableResultSettingsMap": {},
     "title": ""
    }
   },
   "source": [
    "Así pues, Spark utiliza una arquitectura maestro/esclavo, donde el driver es el maestro, y los ejecutores los esclavos. Cada uno de estos componentes se ejecutan como un proceso independiente en el clúster Spark. Por lo tanto, una aplicación Spark se compone de un driver y múltiples ejecutores. Cada ejecutor realiza lo que se le pide en forma de tareas, ejecutando cada una de ellas en un núcleo CPU separado. Así es como el procesamiento paralelo acelera el tratamiento de los datos. Además, cada ejecutor, bajo petición de la lógica de la aplicación, se responsabiliza de cachear un fragmento de los datos en memoria y/o disco."
   ]
  },
  {
   "cell_type": "markdown",
   "metadata": {
    "application/vnd.databricks.v1+cell": {
     "cellMetadata": {},
     "inputWidgets": {},
     "nuid": "40374408-e8df-4885-9493-a2edaa13ab7e",
     "showTitle": false,
     "tableResultSettingsMap": {},
     "title": ""
    }
   },
   "source": [
    "Al lanzar una aplicación Spark, podemos indicar el número de ejecutores que necesita la aplicación, así como la cantidad de memoria y número de núcleos que debería tener cada ejecutor."
   ]
  },
  {
   "cell_type": "markdown",
   "metadata": {
    "application/vnd.databricks.v1+cell": {
     "cellMetadata": {},
     "inputWidgets": {},
     "nuid": "5ef9e538-e61b-4a8d-b8af-a737d2dd5c6f",
     "showTitle": false,
     "tableResultSettingsMap": {},
     "title": ""
    }
   },
   "source": [
    "![2](https://community.cloud.databricks.com/files/shared_uploads/notebook_1/2.png)"
   ]
  },
  {
   "cell_type": "markdown",
   "metadata": {
    "application/vnd.databricks.v1+cell": {
     "cellMetadata": {},
     "inputWidgets": {},
     "nuid": "c3501fea-4bc9-4cc9-9a34-d89152715124",
     "showTitle": false,
     "tableResultSettingsMap": {},
     "title": ""
    }
   },
   "source": [
    "### Job, Stage y Task"
   ]
  },
  {
   "cell_type": "markdown",
   "metadata": {
    "application/vnd.databricks.v1+cell": {
     "cellMetadata": {},
     "inputWidgets": {},
     "nuid": "976790dc-d2dc-4814-94c3-03cc89b3961d",
     "showTitle": false,
     "tableResultSettingsMap": {},
     "title": ""
    }
   },
   "source": [
    "Cuando creamos una aplicación Spark, por debajo, se distinguen los siguientes elementos:"
   ]
  },
  {
   "cell_type": "markdown",
   "metadata": {
    "application/vnd.databricks.v1+cell": {
     "cellMetadata": {},
     "inputWidgets": {},
     "nuid": "bdf05b0b-95e2-4d73-9f25-ef8bf13795e4",
     "showTitle": false,
     "tableResultSettingsMap": {},
     "title": ""
    }
   },
   "source": [
    "- Job (trabajo): computación paralela compuesta de múltiples tareas que se crean tras una acción de Spark (save, collect, etc...). Al codificar nuestro código mediante PySpark, el driver convierte la aplicación Spark en uno o más jobs, y a continuación, estos jobs los transforma en un DAG (grafo). Este grafo, en esencia, es el plan de ejecución, donde cada elemento dentro del DAG puede implicar una o varias stages (escenas)."
   ]
  },
  {
   "cell_type": "markdown",
   "metadata": {
    "application/vnd.databricks.v1+cell": {
     "cellMetadata": {},
     "inputWidgets": {},
     "nuid": "c12082ed-ef81-4c24-9bc3-7cfde32a3275",
     "showTitle": false,
     "tableResultSettingsMap": {},
     "title": ""
    }
   },
   "source": [
    "- Stage (escena): cada job se divide en pequeños conjuntos de tareas que forman un escenario. Como parte del grafo, las stages se crean a partir de si las operaciones se pueden realizar de forma paralela o de forma secuencial. Como no todas las operaciones pueden realizarse en una única stage, en ocasiones se dividen en varias, normalmente debido a los límites computacionales de los diferentes ejecutores."
   ]
  },
  {
   "cell_type": "markdown",
   "metadata": {
    "application/vnd.databricks.v1+cell": {
     "cellMetadata": {},
     "inputWidgets": {},
     "nuid": "20b72a9d-2516-4c2b-8e67-e484510e65ff",
     "showTitle": false,
     "tableResultSettingsMap": {},
     "title": ""
    }
   },
   "source": [
    "- Task (tarea): unidad de trabajo más pequeña que se envía a los ejecutores Spark. Cada escenario se compone de varias tareas. Cada una de las tareas se asigna a un único núcleo y trabaja con una única partición de los datos. Por ello, un ejecutor con 16 núcleos puede tener 16 o más tareas trabajando en 16 o más particiones en paralelo."
   ]
  },
  {
   "cell_type": "markdown",
   "metadata": {
    "application/vnd.databricks.v1+cell": {
     "cellMetadata": {},
     "inputWidgets": {},
     "nuid": "29c268de-36ab-4a44-91be-0d4a573bc4e4",
     "showTitle": false,
     "tableResultSettingsMap": {},
     "title": ""
    }
   },
   "source": [
    "![3](https://community.cloud.databricks.com/files/shared_uploads/notebook_1/3.png)"
   ]
  },
  {
   "cell_type": "markdown",
   "metadata": {
    "application/vnd.databricks.v1+cell": {
     "cellMetadata": {},
     "inputWidgets": {},
     "nuid": "12a02ea1-5c4b-4b88-b153-8454296a5266",
     "showTitle": false,
     "tableResultSettingsMap": {},
     "title": ""
    }
   },
   "source": [
    "### DataFrame"
   ]
  },
  {
   "cell_type": "markdown",
   "metadata": {
    "application/vnd.databricks.v1+cell": {
     "cellMetadata": {},
     "inputWidgets": {},
     "nuid": "442541f2-5052-43a7-8554-6d13596c93e7",
     "showTitle": false,
     "tableResultSettingsMap": {},
     "title": ""
    }
   },
   "source": [
    "La principal abstracción de los datos en Spark es el Dataset. Se pueden crear desde las fuentes de entrada de Hadoop (como ficheros que provienen de HDFS o S3) o mediante transformaciones de otros Datasets. Dado el cariz de Python, no necesitamos que los Dataset estén fuertemente tipados, por eso, todos los Dataset que usemos serán Dataset[Row] (si trabajásemos mediante Java o Scala sí deberíamos indicar el tipo de sus datos), y por consistencia con el concepto de Pandas y R, los llamaremos DataFrame."
   ]
  },
  {
   "cell_type": "markdown",
   "metadata": {
    "application/vnd.databricks.v1+cell": {
     "cellMetadata": {},
     "inputWidgets": {},
     "nuid": "1e4c17c6-60a0-4235-bad9-4c0eee74ab92",
     "showTitle": false,
     "tableResultSettingsMap": {},
     "title": ""
    }
   },
   "source": [
    "Por ejemplo, veamos cómo podemos crear un DataFrame a partir de un fichero de texto:"
   ]
  },
  {
   "cell_type": "code",
   "execution_count": 0,
   "metadata": {
    "application/vnd.databricks.v1+cell": {
     "cellMetadata": {
      "byteLimit": 2048000,
      "rowLimit": 10000
     },
     "inputWidgets": {},
     "nuid": "2ff5a76b-dc4d-463c-8ae6-1e79585c63b3",
     "showTitle": false,
     "tableResultSettingsMap": {},
     "title": ""
    }
   },
   "outputs": [
    {
     "output_type": "stream",
     "name": "stdout",
     "output_type": "stream",
     "text": [
      "Out[9]: 2186"
     ]
    }
   ],
   "source": [
    "from pyspark.sql import SparkSession\n",
    "\n",
    "spark = SparkSession.builder.getOrCreate() \n",
    "\n",
    "quijoteTxt = spark.read.text(\"dbfs:/FileStore/shared_uploads/notebook_1/el_quijote.txt\")\n",
    "quijoteTxt.count()  # número de filas del DataFrame - 2186\n"
   ]
  },
  {
   "cell_type": "markdown",
   "metadata": {
    "application/vnd.databricks.v1+cell": {
     "cellMetadata": {},
     "inputWidgets": {},
     "nuid": "0f65b708-e91c-46f8-9121-72819ee103dc",
     "showTitle": false,
     "tableResultSettingsMap": {},
     "title": ""
    }
   },
   "source": [
    "#### Explicar linea a linea el codigo de arriba"
   ]
  },
  {
   "cell_type": "code",
   "execution_count": 0,
   "metadata": {
    "application/vnd.databricks.v1+cell": {
     "cellMetadata": {
      "byteLimit": 2048000,
      "rowLimit": 10000
     },
     "inputWidgets": {},
     "nuid": "32102037-2734-48be-afc4-4b53894ddf47",
     "showTitle": false,
     "tableResultSettingsMap": {},
     "title": ""
    }
   },
   "outputs": [
    {
     "output_type": "stream",
     "name": "stdout",
     "output_type": "stream",
     "text": [
      "Out[10]: Row(value='DON QUIJOTE DE LA MANCHA')"
     ]
    }
   ],
   "source": [
    "quijoteTxt.first()  # primera fila - Row(value='DON QUIJOTE DE LA MANCHA')"
   ]
  },
  {
   "cell_type": "code",
   "execution_count": 0,
   "metadata": {
    "application/vnd.databricks.v1+cell": {
     "cellMetadata": {
      "byteLimit": 2048000,
      "rowLimit": 10000
     },
     "inputWidgets": {},
     "nuid": "fe003ec7-df15-4c06-be6d-0754cdf2eaa1",
     "showTitle": false,
     "tableResultSettingsMap": {},
     "title": ""
    }
   },
   "outputs": [
    {
     "output_type": "stream",
     "name": "stdout",
     "output_type": "stream",
     "text": [
      "Out[11]: 584"
     ]
    }
   ],
   "source": [
    "# Transformamos un DataFrame en otro nuevo\n",
    "lineasConQuijote = quijoteTxt.filter(quijoteTxt.value.contains(\"Quijote\"))  # DataFrame con las líneas que contiene la palabra Quijote\n",
    "lineasConQuijote.count()  # cantidad de líneas con la palabra Quijote - 584"
   ]
  },
  {
   "cell_type": "code",
   "execution_count": 0,
   "metadata": {
    "application/vnd.databricks.v1+cell": {
     "cellMetadata": {
      "byteLimit": 2048000,
      "rowLimit": 10000
     },
     "inputWidgets": {},
     "nuid": "a2f0a580-e3f6-4f2c-b512-b165e90f2d0a",
     "showTitle": false,
     "tableResultSettingsMap": {},
     "title": ""
    }
   },
   "outputs": [
    {
     "output_type": "stream",
     "name": "stdout",
     "output_type": "stream",
     "text": [
      "Out[12]: 584"
     ]
    }
   ],
   "source": [
    "# Las transformaciones se pueden encadenar\n",
    "quijoteTxt.filter(quijoteTxt.value.contains(\"Quijote\")).count()     # idem - 584"
   ]
  },
  {
   "cell_type": "markdown",
   "metadata": {
    "application/vnd.databricks.v1+cell": {
     "cellMetadata": {},
     "inputWidgets": {},
     "nuid": "797c53b9-d7f7-4eaa-9877-bf2df4ffe08c",
     "showTitle": false,
     "tableResultSettingsMap": {},
     "title": ""
    }
   },
   "source": [
    "Estudiaremos los DataFrame en profundidad en las próximas clases"
   ]
  },
  {
   "cell_type": "markdown",
   "metadata": {
    "application/vnd.databricks.v1+cell": {
     "cellMetadata": {},
     "inputWidgets": {},
     "nuid": "2c9c1805-0553-4b4d-8b12-5db9ebc4aa90",
     "showTitle": false,
     "tableResultSettingsMap": {},
     "title": ""
    }
   },
   "source": [
    "### Spark UI (Jupyter Lab)"
   ]
  },
  {
   "cell_type": "markdown",
   "metadata": {
    "application/vnd.databricks.v1+cell": {
     "cellMetadata": {},
     "inputWidgets": {},
     "nuid": "c7fd21f3-3246-4694-9993-7cdb91d0d2a2",
     "showTitle": false,
     "tableResultSettingsMap": {},
     "title": ""
    }
   },
   "source": [
    "Si accedemos a la dirección 'http://127.0.0.1:4040/', veremos un interfaz gráfico donde podemos monitorizar y analizar el código Spark ejecutado. La barra superior muestra un menú con las opciones para visualizar los jobs, stages, el almacenamiento, el entorno y sus variables de configuración, y finalmente los ejecutores:"
   ]
  },
  {
   "cell_type": "markdown",
   "metadata": {
    "application/vnd.databricks.v1+cell": {
     "cellMetadata": {},
     "inputWidgets": {},
     "nuid": "1642662f-372e-4b6b-bda2-836d2339414d",
     "showTitle": false,
     "tableResultSettingsMap": {},
     "title": ""
    }
   },
   "source": [
    "![4](https://community.cloud.databricks.com/files/shared_uploads/notebook_1/4.png)"
   ]
  },
  {
   "cell_type": "markdown",
   "metadata": {
    "application/vnd.databricks.v1+cell": {
     "cellMetadata": {},
     "inputWidgets": {},
     "nuid": "5ef151ae-9b24-4796-8f50-a18adc63619b",
     "showTitle": false,
     "tableResultSettingsMap": {},
     "title": ""
    }
   },
   "source": [
    "![5](https://community.cloud.databricks.com/files/shared_uploads/notebook_1/5.png)"
   ]
  },
  {
   "cell_type": "markdown",
   "metadata": {
    "application/vnd.databricks.v1+cell": {
     "cellMetadata": {},
     "inputWidgets": {},
     "nuid": "9c9dce1b-c10e-40b0-8d15-7c1d27a05723",
     "showTitle": false,
     "tableResultSettingsMap": {},
     "title": ""
    }
   },
   "source": [
    "### Spark UI en Databricks"
   ]
  },
  {
   "cell_type": "markdown",
   "metadata": {
    "application/vnd.databricks.v1+cell": {
     "cellMetadata": {},
     "inputWidgets": {},
     "nuid": "b79dfc40-fbd4-4881-85ab-1111290dd017",
     "showTitle": false,
     "tableResultSettingsMap": {},
     "title": ""
    }
   },
   "source": [
    "Para acceder a la herramienta de monitorización en Databricks, una vez creado un clúster, en la opción Compute/Calcular podremos seleccionar el clúster creado y en la pestaña IU de Spark acceder al mismo interfaz gráfico:"
   ]
  },
  {
   "cell_type": "markdown",
   "metadata": {
    "application/vnd.databricks.v1+cell": {
     "cellMetadata": {},
     "inputWidgets": {},
     "nuid": "e94f91e6-007d-474a-b17f-2d994d1b9f3d",
     "showTitle": false,
     "tableResultSettingsMap": {},
     "title": ""
    }
   },
   "source": [
    "![](https://community.cloud.databricks.com/files/shared_uploads/notebook_1/6.png)"
   ]
  },
  {
   "cell_type": "markdown",
   "metadata": {
    "application/vnd.databricks.v1+cell": {
     "cellMetadata": {},
     "inputWidgets": {},
     "nuid": "1758f248-0d50-4655-b8ef-e8fb214274b1",
     "showTitle": false,
     "tableResultSettingsMap": {},
     "title": ""
    }
   },
   "source": [
    "# Actividad"
   ]
  },
  {
   "cell_type": "markdown",
   "metadata": {
    "application/vnd.databricks.v1+cell": {
     "cellMetadata": {},
     "inputWidgets": {},
     "nuid": "3ae1271c-6f2d-4483-a795-049c02ae23a8",
     "showTitle": false,
     "tableResultSettingsMap": {},
     "title": ""
    }
   },
   "source": [
    "En otro notebook hacer los ejemplos de código anteriores utilizando Scala"
   ]
  },
  {
   "cell_type": "markdown",
   "metadata": {
    "application/vnd.databricks.v1+cell": {
     "cellMetadata": {},
     "inputWidgets": {},
     "nuid": "7ff9ba74-9777-4f54-a8f3-0c7eed13500e",
     "showTitle": false,
     "tableResultSettingsMap": {},
     "title": ""
    }
   },
   "source": [
    "# RDD"
   ]
  },
  {
   "cell_type": "markdown",
   "metadata": {
    "application/vnd.databricks.v1+cell": {
     "cellMetadata": {},
     "inputWidgets": {},
     "nuid": "d3615ac3-f0fc-4470-94ec-557165e26f37",
     "showTitle": false,
     "tableResultSettingsMap": {},
     "title": ""
    }
   },
   "source": [
    "Un RDD (Resilient Distributed Datasets) es una estructura de datos que abstrae los datos para su procesamiento en paralelo."
   ]
  },
  {
   "cell_type": "markdown",
   "metadata": {
    "application/vnd.databricks.v1+cell": {
     "cellMetadata": {},
     "inputWidgets": {},
     "nuid": "fa71ca6c-8e9a-42d6-9843-6406e663966d",
     "showTitle": false,
     "tableResultSettingsMap": {},
     "title": ""
    }
   },
   "source": [
    "Antes de Spark 2.0, los RDD eran el interfaz principal para interactuar con los datos."
   ]
  },
  {
   "cell_type": "markdown",
   "metadata": {
    "application/vnd.databricks.v1+cell": {
     "cellMetadata": {},
     "inputWidgets": {},
     "nuid": "f54489dd-9435-4362-8507-27502c8088cc",
     "showTitle": false,
     "tableResultSettingsMap": {},
     "title": ""
    }
   },
   "source": [
    "Se trata de una colección de elementos tolerantes a fallos que son immutables (una vez creados, no se pueden modificar) y diseñados para su procesamiento distribuido. Cada conjunto de datos en los RDD se divide en particiones lógicas, que se pueden calcular en diferentes nodos del clúster."
   ]
  },
  {
   "cell_type": "markdown",
   "metadata": {
    "application/vnd.databricks.v1+cell": {
     "cellMetadata": {},
     "inputWidgets": {},
     "nuid": "60694c84-b157-483f-bade-5437cf039d6a",
     "showTitle": false,
     "tableResultSettingsMap": {},
     "title": ""
    }
   },
   "source": [
    "Hay dos formas de crear un RDD:"
   ]
  },
  {
   "cell_type": "markdown",
   "metadata": {
    "application/vnd.databricks.v1+cell": {
     "cellMetadata": {},
     "inputWidgets": {},
     "nuid": "85f5c085-5615-457e-8fe6-9ca4b0f09cca",
     "showTitle": false,
     "tableResultSettingsMap": {},
     "title": ""
    }
   },
   "source": [
    "- Paralelizando una colección ya existente en nuestra aplicación Spark."
   ]
  },
  {
   "cell_type": "markdown",
   "metadata": {
    "application/vnd.databricks.v1+cell": {
     "cellMetadata": {},
     "inputWidgets": {},
     "nuid": "1e311aa5-3ea7-4b2e-9d61-22cd8297e341",
     "showTitle": false,
     "tableResultSettingsMap": {},
     "title": ""
    }
   },
   "source": [
    "- Referenciando un dataset de un sistema externo como HDFS, HBase, etc..."
   ]
  },
  {
   "cell_type": "markdown",
   "metadata": {
    "application/vnd.databricks.v1+cell": {
     "cellMetadata": {},
     "inputWidgets": {},
     "nuid": "411e1263-001e-498b-ace4-5a61a718e305",
     "showTitle": false,
     "tableResultSettingsMap": {},
     "title": ""
    }
   },
   "source": [
    "Sobre los RDD se pueden realizar dos tipos de operaciones:"
   ]
  },
  {
   "cell_type": "markdown",
   "metadata": {
    "application/vnd.databricks.v1+cell": {
     "cellMetadata": {},
     "inputWidgets": {},
     "nuid": "ce1a298e-2b1b-48b2-b9e1-3eb39d5de8b7",
     "showTitle": false,
     "tableResultSettingsMap": {},
     "title": ""
    }
   },
   "source": [
    "- Acción: devuelven un valor tras ejecutar una computación sobre el conjunto de datos."
   ]
  },
  {
   "cell_type": "markdown",
   "metadata": {
    "application/vnd.databricks.v1+cell": {
     "cellMetadata": {},
     "inputWidgets": {},
     "nuid": "cb72acf4-6bb2-4084-8fe7-c184755de7fc",
     "showTitle": false,
     "tableResultSettingsMap": {},
     "title": ""
    }
   },
   "source": [
    "- Transformación: es una operación perezosa (lazy) que crea un nuevo conjunto de datos a partir de otro RDD/Dataset, tras realizar un filtrado, join, etc..."
   ]
  },
  {
   "cell_type": "markdown",
   "metadata": {
    "application/vnd.databricks.v1+cell": {
     "cellMetadata": {},
     "inputWidgets": {},
     "nuid": "105f70b7-cc3d-40cc-aea5-4e1364099092",
     "showTitle": false,
     "tableResultSettingsMap": {},
     "title": ""
    }
   },
   "source": [
    "> **¿ Esta obsoleto RDD?**\n",
    "> \n",
    "> Antes de la versión 2.0, el principal interfaz para programar en Spark eran los RDD. Tras la versión 2.0, fueron sustituidos por los Dataset, que son RDD fuertemente tipados que además están optimizados a bajo nivel. Aunque el interfaz RDD todavía tiene soporte, sin embargo, se recomienda el uso de los Dataset por su mejor rendimiento.\n",
    "> Contexto y evolución\n",
    "RDD (Resilient Distributed Dataset): Es la abstracción fundamental que Apache Spark introdujo inicialmente. Los RDDs son colecciones distribuidas de objetos que pueden ser procesadas en paralelo. Proporcionan una API de bajo nivel y permiten un control detallado sobre las transformaciones y acciones en el procesamiento de datos distribuidos.\n",
    "\n",
    "> DataFrame API: Introducida en Spark 1.3, la API de DataFrame se basa en el concepto de tablas de bases de datos. Ofrece una capa de abstracción más alta que los RDDs y permite realizar operaciones de manera declarativa. Los DataFrames también ofrecen optimizaciones automáticas gracias al Catalyst Optimizer y el uso de Tungsten para la gestión de memoria, lo que hace que el procesamiento sea más eficiente.\n",
    "\n",
    ">Dataset API: Introducida en Spark 1.6 y diseñada para el uso en Scala y Java, combina las ventajas de los RDDs (tipos de datos específicos y seguridad de tipo) con las optimizaciones de los DataFrames. La API de Dataset es más fuerte en cuanto a tipo, lo que mejora la seguridad de tipo y reduce errores en tiempo de compilación.\n",
    ">¿Por qué se prefieren DataFrames y Datasets sobre RDDs?\n",
    ">Optimización: Las APIs de DataFrame y Dataset son optimizadas automáticamente por el Catalyst Optimizer, lo que permite ejecutar código de forma mucho más eficiente.\n",
    "\n",
    "> Facilidad de uso: DataFrames y Datasets proporcionan una API de más alto nivel, que es más intuitiva y se asemeja al lenguaje SQL, haciéndolas más accesibles para usuarios no especializados en programación funcional.\n",
    "\n",
    "> Mejor manejo de memoria: La gestión de memoria en DataFrames y Datasets está mejorada por el proyecto Tungsten, que reduce el consumo de memoria y mejora el rendimiento general de Spark.\n",
    "\n",
    "> Compatibilidad con SQL: Los DataFrames y Datasets están diseñados para trabajar de manera fluida con SQL, lo cual facilita el análisis y manipulación de datos estructurados."
   ]
  },
  {
   "cell_type": "markdown",
   "metadata": {
    "application/vnd.databricks.v1+cell": {
     "cellMetadata": {},
     "inputWidgets": {},
     "nuid": "afa5f78b-9a15-4c16-ae96-e60fb929242f",
     "showTitle": false,
     "tableResultSettingsMap": {},
     "title": ""
    }
   },
   "source": [
    "> ¿Cuándo usar RDDs?\n",
    "> Aunque los DataFrames y Datasets son generalmente recomendados, los RDDs aún son útiles en ciertas situaciones:\n",
    "\n",
    "> Procesamiento de datos no estructurados o semiestructurados: Cuando necesitas realizar operaciones complejas en datos que no pueden ser representados fácilmente como DataFrames o Datasets, los RDDs pueden ser una opción.\n",
    "Transformaciones personalizadas: Si necesitas un control detallado sobre las transformaciones o si las optimizaciones automáticas de Catalyst no son aplicables, RDDs te ofrecen más control.\n",
    "API de bajo nivel: Los RDDs proporcionan una API de bajo nivel que puede ser útil para desarrolladores avanzados que necesitan manipular datos distribuidos de forma muy específica."
   ]
  },
  {
   "cell_type": "markdown",
   "metadata": {
    "application/vnd.databricks.v1+cell": {
     "cellMetadata": {},
     "inputWidgets": {},
     "nuid": "816f272a-d995-4d9e-a98e-b5dabf0b263e",
     "showTitle": false,
     "tableResultSettingsMap": {},
     "title": ""
    }
   },
   "source": [
    "## Acciones"
   ]
  },
  {
   "cell_type": "markdown",
   "metadata": {
    "application/vnd.databricks.v1+cell": {
     "cellMetadata": {},
     "inputWidgets": {},
     "nuid": "e1f7d548-28bd-4533-ac03-b0339fd97607",
     "showTitle": false,
     "tableResultSettingsMap": {},
     "title": ""
    }
   },
   "source": [
    "En Apache Spark, las acciones son operaciones que se ejecutan sobre RDDs, DataFrames o Datasets y que desencadenan el cómputo real en el clúster. Es decir, las acciones inician el procesamiento y devuelven un valor o resultado al controlador del programa o escriben datos a un almacenamiento externo.\n",
    "\n",
    "Las acciones contrastan con las transformaciones, que son operaciones que definen cómo deben transformarse los datos pero no ejecutan inmediatamente el procesamiento. Las transformaciones son \"perezosas\" (lazy), mientras que las acciones desencadenan la ejecución."
   ]
  },
  {
   "cell_type": "markdown",
   "metadata": {
    "application/vnd.databricks.v1+cell": {
     "cellMetadata": {},
     "inputWidgets": {},
     "nuid": "64343e6a-3233-4726-aead-7a409cc7204c",
     "showTitle": false,
     "tableResultSettingsMap": {},
     "title": ""
    }
   },
   "source": [
    "A continuación vamos a revisar las acciones más comunes. Puedes consultar todas las acciones disponibles en la  [documentación oficial](https://spark.apache.org/docs/latest/rdd-programming-guide.html#actions)\r\n",
    "de Spark:"
   ]
  },
  {
   "cell_type": "markdown",
   "metadata": {
    "application/vnd.databricks.v1+cell": {
     "cellMetadata": {},
     "inputWidgets": {},
     "nuid": "7729af38-8a24-493f-9667-d69bdef16519",
     "showTitle": false,
     "tableResultSettingsMap": {},
     "title": ""
    }
   },
   "source": [
    "> Recuerda importar el contexto:"
   ]
  },
  {
   "cell_type": "code",
   "execution_count": 0,
   "metadata": {
    "application/vnd.databricks.v1+cell": {
     "cellMetadata": {
      "byteLimit": 2048000,
      "rowLimit": 10000
     },
     "inputWidgets": {},
     "nuid": "76f507ce-140e-4b59-bb37-8b4b86a5e8f6",
     "showTitle": false,
     "tableResultSettingsMap": {},
     "title": ""
    }
   },
   "outputs": [],
   "source": [
    "from pyspark.sql import SparkSession\n",
    "\n",
    "spark = SparkSession.builder.getOrCreate()\n",
    "sc = spark.sparkContext"
   ]
  },
  {
   "cell_type": "markdown",
   "metadata": {
    "application/vnd.databricks.v1+cell": {
     "cellMetadata": {},
     "inputWidgets": {},
     "nuid": "b3300d67-3c05-4f31-9497-1739fe1b1a5d",
     "showTitle": false,
     "tableResultSettingsMap": {},
     "title": ""
    }
   },
   "source": [
    "### Parallelize"
   ]
  },
  {
   "cell_type": "markdown",
   "metadata": {
    "application/vnd.databricks.v1+cell": {
     "cellMetadata": {},
     "inputWidgets": {},
     "nuid": "632a7c6c-bc6c-465e-9820-44a0b765c39b",
     "showTitle": false,
     "tableResultSettingsMap": {},
     "title": ""
    }
   },
   "source": [
    "En Apache Spark, parallelize es un método utilizado para crear un RDD (Resilient Distributed Dataset) a partir de una colección de datos en el controlador del programa. Permite distribuir los datos en paralelo entre los nodos del clúster para realizar operaciones distribuidas.\n",
    "\n"
   ]
  },
  {
   "cell_type": "markdown",
   "metadata": {
    "application/vnd.databricks.v1+cell": {
     "cellMetadata": {},
     "inputWidgets": {},
     "nuid": "f631730e-becf-4dd8-98f0-5f71458fc5b5",
     "showTitle": false,
     "tableResultSettingsMap": {},
     "title": ""
    }
   },
   "source": [
    "Podemos crear RDD directamente desde cero sin necesidad de leer los datos desde un fichero. Para ello, a partir de un `SparkContext` podemos utilizar `parallelize` sobre una lista."
   ]
  },
  {
   "cell_type": "markdown",
   "metadata": {
    "application/vnd.databricks.v1+cell": {
     "cellMetadata": {},
     "inputWidgets": {},
     "nuid": "11694850-0fb9-4337-a7d2-819eb7a3c752",
     "showTitle": false,
     "tableResultSettingsMap": {},
     "title": ""
    }
   },
   "source": [
    "Esta acción divide una colección de elementos entre los nodos de nuestro clústers. Por ejemplo:"
   ]
  },
  {
   "cell_type": "code",
   "execution_count": 0,
   "metadata": {
    "application/vnd.databricks.v1+cell": {
     "cellMetadata": {
      "byteLimit": 2048000,
      "rowLimit": 10000
     },
     "inputWidgets": {},
     "nuid": "8cad9bc7-4953-408f-a605-099b83427d07",
     "showTitle": false,
     "tableResultSettingsMap": {},
     "title": ""
    }
   },
   "outputs": [],
   "source": [
    "miRDD = sc.parallelize([1,2,3,4,5,6,7,8,9])\n",
    "\n",
    "lista  = ['Hola', 'Adiós', 'Hasta luego']\n",
    "listaRDD = sc.parallelize(lista) # Creamos un RDD a partir de una lista\n",
    "listaRDD4 = sc.parallelize(lista,4) # Creamos un RDD con 4 particiones"
   ]
  },
  {
   "cell_type": "markdown",
   "metadata": {
    "application/vnd.databricks.v1+cell": {
     "cellMetadata": {},
     "inputWidgets": {},
     "nuid": "caffb12c-557a-41ec-94d6-380673c6c3da",
     "showTitle": false,
     "tableResultSettingsMap": {},
     "title": ""
    }
   },
   "source": [
    "Explica el codigo de arriba"
   ]
  },
  {
   "cell_type": "code",
   "execution_count": 0,
   "metadata": {
    "application/vnd.databricks.v1+cell": {
     "cellMetadata": {
      "byteLimit": 2048000,
      "rowLimit": 10000
     },
     "inputWidgets": {},
     "nuid": "00370341-1cb2-430e-9c6f-9073a85afc3f",
     "showTitle": false,
     "tableResultSettingsMap": {},
     "title": ""
    }
   },
   "outputs": [
    {
     "output_type": "stream",
     "name": "stdout",
     "output_type": "stream",
     "text": [
      "Out[15]: ['Hola', 'Adiós', 'Hasta luego']"
     ]
    }
   ],
   "source": [
    "lista"
   ]
  },
  {
   "cell_type": "code",
   "execution_count": 0,
   "metadata": {
    "application/vnd.databricks.v1+cell": {
     "cellMetadata": {
      "byteLimit": 2048000,
      "rowLimit": 10000
     },
     "inputWidgets": {},
     "nuid": "5049316e-6097-41a5-81bf-c8273f68f641",
     "showTitle": false,
     "tableResultSettingsMap": {},
     "title": ""
    }
   },
   "outputs": [
    {
     "output_type": "stream",
     "name": "stdout",
     "output_type": "stream",
     "text": [
      "Out[16]: ParallelCollectionRDD[23] at readRDDFromInputStream at PythonRDD.scala:435"
     ]
    }
   ],
   "source": [
    "listaRDD"
   ]
  },
  {
   "cell_type": "markdown",
   "metadata": {
    "application/vnd.databricks.v1+cell": {
     "cellMetadata": {},
     "inputWidgets": {},
     "nuid": "90c00b8b-0be2-41c6-86bd-f45ee99419b0",
     "showTitle": false,
     "tableResultSettingsMap": {},
     "title": ""
    }
   },
   "source": [
    "> Explica la salida"
   ]
  },
  {
   "cell_type": "code",
   "execution_count": 0,
   "metadata": {
    "application/vnd.databricks.v1+cell": {
     "cellMetadata": {
      "byteLimit": 2048000,
      "rowLimit": 10000
     },
     "inputWidgets": {},
     "nuid": "602db0eb-e81e-4065-b6bf-1691e9f0fd79",
     "showTitle": false,
     "tableResultSettingsMap": {},
     "title": ""
    }
   },
   "outputs": [
    {
     "output_type": "stream",
     "name": "stdout",
     "output_type": "stream",
     "text": [
      "Out[17]: ParallelCollectionRDD[24] at readRDDFromInputStream at PythonRDD.scala:435"
     ]
    }
   ],
   "source": [
    "listaRDD4"
   ]
  },
  {
   "cell_type": "markdown",
   "metadata": {
    "application/vnd.databricks.v1+cell": {
     "cellMetadata": {},
     "inputWidgets": {},
     "nuid": "3522ba70-a4dd-45ca-bd3a-b0ad5b6754e1",
     "showTitle": false,
     "tableResultSettingsMap": {},
     "title": ""
    }
   },
   "source": [
    "> Explica la salida"
   ]
  },
  {
   "cell_type": "markdown",
   "metadata": {
    "application/vnd.databricks.v1+cell": {
     "cellMetadata": {},
     "inputWidgets": {},
     "nuid": "5c3e4d52-5c36-41c8-a295-a6d6eea733c0",
     "showTitle": false,
     "tableResultSettingsMap": {},
     "title": ""
    }
   },
   "source": [
    "### Take y Sample"
   ]
  },
  {
   "cell_type": "markdown",
   "metadata": {
    "application/vnd.databricks.v1+cell": {
     "cellMetadata": {},
     "inputWidgets": {},
     "nuid": "1f0d1f2a-adc7-4884-9968-4dc5d3efd137",
     "showTitle": false,
     "tableResultSettingsMap": {},
     "title": ""
    }
   },
   "source": [
    "Son métodos utilizados en RDDs, DataFrames y Datasets para interactuar con los datos. Ambos sirven para trabajar con subconjuntos, pero tienen usos y características diferentes. Una vez tenemos un RDD, y sobre él queremos recuperar un número determinado de resultados, de forma similar a limit en SQL, tenemos la acción `take`:"
   ]
  },
  {
   "cell_type": "code",
   "execution_count": 0,
   "metadata": {
    "application/vnd.databricks.v1+cell": {
     "cellMetadata": {
      "byteLimit": 2048000,
      "rowLimit": 10000
     },
     "inputWidgets": {},
     "nuid": "ec4bdd22-864c-4873-8676-5ca07ea2d349",
     "showTitle": false,
     "tableResultSettingsMap": {},
     "title": ""
    }
   },
   "outputs": [
    {
     "output_type": "stream",
     "name": "stdout",
     "output_type": "stream",
     "text": [
      "Out[18]: [1, 2, 3]"
     ]
    }
   ],
   "source": [
    "miRDD.take(3)       # [1, 2, 3]]"
   ]
  },
  {
   "cell_type": "markdown",
   "metadata": {
    "application/vnd.databricks.v1+cell": {
     "cellMetadata": {},
     "inputWidgets": {},
     "nuid": "d45c44ca-56f1-4c4a-a638-215cfefe0f71",
     "showTitle": false,
     "tableResultSettingsMap": {},
     "title": ""
    }
   },
   "source": [
    "> Explicar"
   ]
  },
  {
   "cell_type": "code",
   "execution_count": 0,
   "metadata": {
    "application/vnd.databricks.v1+cell": {
     "cellMetadata": {
      "byteLimit": 2048000,
      "rowLimit": 10000
     },
     "inputWidgets": {},
     "nuid": "1acff8ff-04eb-4842-9c89-b8471e5e744f",
     "showTitle": false,
     "tableResultSettingsMap": {},
     "title": ""
    }
   },
   "outputs": [
    {
     "output_type": "stream",
     "name": "stdout",
     "output_type": "stream",
     "text": [
      "Out[19]: ['Hola', 'Adiós']"
     ]
    }
   ],
   "source": [
    "listaRDD.take(2)    # ['Hola', 'Adiós']"
   ]
  },
  {
   "cell_type": "markdown",
   "metadata": {
    "application/vnd.databricks.v1+cell": {
     "cellMetadata": {},
     "inputWidgets": {},
     "nuid": "bf8388b3-a2cc-4232-bcbd-902d5de7f5d9",
     "showTitle": false,
     "tableResultSettingsMap": {},
     "title": ""
    }
   },
   "source": [
    "Otra opción es utilizar `sample` para obtener una muestra de los datos, aunque en este caso no es una acción sino una transformación, ya que va a obtener información posiblemente de varias particiones, teniendo que barajar los datos (**shuffle**):"
   ]
  },
  {
   "cell_type": "code",
   "execution_count": 0,
   "metadata": {
    "application/vnd.databricks.v1+cell": {
     "cellMetadata": {
      "byteLimit": 2048000,
      "rowLimit": 10000
     },
     "inputWidgets": {},
     "nuid": "2a83b128-8792-4ccd-b7f9-e06fbe5cac5c",
     "showTitle": false,
     "tableResultSettingsMap": {},
     "title": ""
    }
   },
   "outputs": [],
   "source": [
    "miRDDmuestra = miRDD.sample(False, 0.5)"
   ]
  },
  {
   "cell_type": "markdown",
   "metadata": {
    "application/vnd.databricks.v1+cell": {
     "cellMetadata": {},
     "inputWidgets": {},
     "nuid": "2d99f9a2-c33a-475a-b546-a1d449b43f85",
     "showTitle": false,
     "tableResultSettingsMap": {},
     "title": ""
    }
   },
   "source": [
    "> Explica la linea de código arriba"
   ]
  },
  {
   "cell_type": "code",
   "execution_count": 0,
   "metadata": {
    "application/vnd.databricks.v1+cell": {
     "cellMetadata": {
      "byteLimit": 2048000,
      "rowLimit": 10000
     },
     "inputWidgets": {},
     "nuid": "c64255c9-6f3a-4228-8286-9167f4d292d3",
     "showTitle": false,
     "tableResultSettingsMap": {},
     "title": ""
    }
   },
   "outputs": [
    {
     "output_type": "stream",
     "name": "stdout",
     "output_type": "stream",
     "text": [
      "Out[21]: [5, 6, 8, 9]"
     ]
    }
   ],
   "source": [
    "miRDDmuestra.collect()  # [2, 4, 6, 7, 8, 9] / [1, 2, 3, 4, 6] / [5, 8, 9]"
   ]
  },
  {
   "cell_type": "markdown",
   "metadata": {
    "application/vnd.databricks.v1+cell": {
     "cellMetadata": {},
     "inputWidgets": {},
     "nuid": "b9526082-760b-4ff2-ba63-6e50fce056b0",
     "showTitle": false,
     "tableResultSettingsMap": {},
     "title": ""
    }
   },
   "source": [
    "> Explica el resultado de arriba"
   ]
  },
  {
   "cell_type": "markdown",
   "metadata": {
    "application/vnd.databricks.v1+cell": {
     "cellMetadata": {},
     "inputWidgets": {},
     "nuid": "6819d3ce-36c7-42d7-b9b6-243ba1027230",
     "showTitle": false,
     "tableResultSettingsMap": {},
     "title": ""
    }
   },
   "source": [
    "Esta transformación recibe varios parámetros:"
   ]
  },
  {
   "cell_type": "markdown",
   "metadata": {
    "application/vnd.databricks.v1+cell": {
     "cellMetadata": {},
     "inputWidgets": {},
     "nuid": "2210bf6c-271b-4104-bdf7-d4516c39c537",
     "showTitle": false,
     "tableResultSettingsMap": {},
     "title": ""
    }
   },
   "source": [
    "- `withReplacement`: booleano para indicar si queremos elementos repetidos\n",
    "- `fraction` : valor entre 0 y 1 que expresa la probabilidad de elegir cada elemento\n",
    "- opcionalmente se le puede pasar un tercer valor con la semilla"
   ]
  },
  {
   "cell_type": "markdown",
   "metadata": {
    "application/vnd.databricks.v1+cell": {
     "cellMetadata": {},
     "inputWidgets": {},
     "nuid": "249631ba-a900-44e8-ba8e-9e0bd721ad72",
     "showTitle": false,
     "tableResultSettingsMap": {},
     "title": ""
    }
   },
   "source": [
    "Así pues, en el ejemplo anterior, cada llamada a sample ha generado un RDD diferente, sin valores repetidos, pero con un tamaño de RDD variable."
   ]
  },
  {
   "cell_type": "markdown",
   "metadata": {
    "application/vnd.databricks.v1+cell": {
     "cellMetadata": {},
     "inputWidgets": {},
     "nuid": "7f694929-89c3-4946-8ea0-d168496ee390",
     "showTitle": false,
     "tableResultSettingsMap": {},
     "title": ""
    }
   },
   "source": [
    "**Muestra Estratificada**  \n",
    "\n",
    "Si necesitamos que nuestra muestra esté estratificada para que los datos no estén sesgados podemos utilizar `sampleByKey`:"
   ]
  },
  {
   "cell_type": "markdown",
   "metadata": {
    "application/vnd.databricks.v1+cell": {
     "cellMetadata": {},
     "inputWidgets": {},
     "nuid": "fdb0d3b4-6828-403c-ae53-3934792a5928",
     "showTitle": false,
     "tableResultSettingsMap": {},
     "title": ""
    }
   },
   "source": [
    "¿Qué es una muestra estratificada en este contexto?"
   ]
  },
  {
   "cell_type": "code",
   "execution_count": 0,
   "metadata": {
    "application/vnd.databricks.v1+cell": {
     "cellMetadata": {
      "byteLimit": 2048000,
      "rowLimit": 10000
     },
     "inputWidgets": {},
     "nuid": "842bc884-15c0-4531-bcbd-f388bef9880e",
     "showTitle": false,
     "tableResultSettingsMap": {},
     "title": ""
    }
   },
   "outputs": [
    {
     "output_type": "stream",
     "name": "stdout",
     "output_type": "stream",
     "text": [
      "[(2, 'd'), (2, 'e')]\n"
     ]
    }
   ],
   "source": [
    "datos = sc.parallelize([(1, 'a'), (1, 'b'), (2, 'c'), (2, 'd'), (2, 'e'), (3, 'f')])\n",
    "\n",
    "# indicamos la probabilidad para cada clave\n",
    "fracciones = {1: 0.1, 2: 0.6, 3: 0.3}\n",
    "\n",
    "approxSample = datos.sampleByKey(False, fracciones)     # [(2, 'c'), (2, 'd')] el resultado puede variar\n",
    "print(approxSample.collect())"
   ]
  },
  {
   "cell_type": "markdown",
   "metadata": {
    "application/vnd.databricks.v1+cell": {
     "cellMetadata": {},
     "inputWidgets": {},
     "nuid": "60778104-b68f-4166-8311-476b71433536",
     "showTitle": false,
     "tableResultSettingsMap": {},
     "title": ""
    }
   },
   "source": [
    "Para obtener una muestra mediante una acción, tenemos la opción `takeSample` que funciona de forma similar pero sin hacer `shuffle` y devuelve una lista:"
   ]
  },
  {
   "cell_type": "code",
   "execution_count": 0,
   "metadata": {
    "application/vnd.databricks.v1+cell": {
     "cellMetadata": {
      "byteLimit": 2048000,
      "rowLimit": 10000
     },
     "inputWidgets": {},
     "nuid": "12c86267-76e0-4951-8819-49958f483d58",
     "showTitle": false,
     "tableResultSettingsMap": {},
     "title": ""
    }
   },
   "outputs": [
    {
     "output_type": "stream",
     "name": "stdout",
     "output_type": "stream",
     "text": [
      "[6, 4, 1, 9, 3]\n"
     ]
    }
   ],
   "source": [
    "miRDDmuestraT = miRDD.takeSample(False, 5)\n",
    "print(miRDDmuestraT)  # [1, 8, 9, 7, 2] el resultado puede variar"
   ]
  },
  {
   "cell_type": "markdown",
   "metadata": {
    "application/vnd.databricks.v1+cell": {
     "cellMetadata": {},
     "inputWidgets": {},
     "nuid": "89dcc28b-3a0b-4b6a-810e-17055c92724a",
     "showTitle": false,
     "tableResultSettingsMap": {},
     "title": ""
    }
   },
   "source": [
    "El primer parámetro vuelve a indicar si hay repetidos, pero el segundo fija la cantidad de elementos a devolver."
   ]
  },
  {
   "cell_type": "markdown",
   "metadata": {
    "application/vnd.databricks.v1+cell": {
     "cellMetadata": {},
     "inputWidgets": {},
     "nuid": "c19e34da-8a90-450f-856a-8bb44e465f27",
     "showTitle": false,
     "tableResultSettingsMap": {},
     "title": ""
    }
   },
   "source": [
    "Por último, mediante `top` obtenemos los primeros elementos una vez ordenado el RDD:"
   ]
  },
  {
   "cell_type": "code",
   "execution_count": 0,
   "metadata": {
    "application/vnd.databricks.v1+cell": {
     "cellMetadata": {
      "byteLimit": 2048000,
      "rowLimit": 10000
     },
     "inputWidgets": {},
     "nuid": "a0750a36-e640-4e52-99d7-36a2ae04dcec",
     "showTitle": false,
     "tableResultSettingsMap": {},
     "title": ""
    }
   },
   "outputs": [
    {
     "output_type": "stream",
     "name": "stdout",
     "output_type": "stream",
     "text": [
      "Out[26]: [9, 8, 7]"
     ]
    }
   ],
   "source": [
    "miRDD.top(3)    # [9, 8, 7]"
   ]
  },
  {
   "cell_type": "markdown",
   "metadata": {
    "application/vnd.databricks.v1+cell": {
     "cellMetadata": {},
     "inputWidgets": {},
     "nuid": "710f87bd-787e-4f87-83f6-bca1a796c5ae",
     "showTitle": false,
     "tableResultSettingsMap": {},
     "title": ""
    }
   },
   "source": [
    "De forma similar, tenemos `takeOrdered` que recupera la cantidad de registros necesarios pero ordenados ascendentemente (al contrario que `top`), con la opción de ordenarlos descendentemente (similar a `top`):"
   ]
  },
  {
   "cell_type": "code",
   "execution_count": 0,
   "metadata": {
    "application/vnd.databricks.v1+cell": {
     "cellMetadata": {
      "byteLimit": 2048000,
      "rowLimit": 10000
     },
     "inputWidgets": {},
     "nuid": "8216eea2-37a6-4894-a460-f1ebeadd6978",
     "showTitle": false,
     "tableResultSettingsMap": {},
     "title": ""
    }
   },
   "outputs": [
    {
     "output_type": "stream",
     "name": "stdout",
     "output_type": "stream",
     "text": [
      "Out[27]: [1, 2, 3]"
     ]
    }
   ],
   "source": [
    "miRDD.takeOrdered(3)    # [1, 2, 3]"
   ]
  },
  {
   "cell_type": "code",
   "execution_count": 0,
   "metadata": {
    "application/vnd.databricks.v1+cell": {
     "cellMetadata": {
      "byteLimit": 2048000,
      "rowLimit": 10000
     },
     "inputWidgets": {},
     "nuid": "1d743651-e3a6-4e38-a4cb-7b10cc83df57",
     "showTitle": false,
     "tableResultSettingsMap": {},
     "title": ""
    }
   },
   "outputs": [
    {
     "output_type": "stream",
     "name": "stdout",
     "output_type": "stream",
     "text": [
      "Out[28]: [9, 8, 7]"
     ]
    }
   ],
   "source": [
    "miRDD.takeOrdered(3, lambda x: -x)    # [9, 8, 7]"
   ]
  },
  {
   "cell_type": "markdown",
   "metadata": {
    "application/vnd.databricks.v1+cell": {
     "cellMetadata": {},
     "inputWidgets": {},
     "nuid": "10f84247-fe1b-42b7-a90b-662cc65982fc",
     "showTitle": false,
     "tableResultSettingsMap": {},
     "title": ""
    }
   },
   "source": [
    "> Explicar las funciones lambda de python. Añada ejemplos simples"
   ]
  },
  {
   "cell_type": "markdown",
   "metadata": {
    "application/vnd.databricks.v1+cell": {
     "cellMetadata": {},
     "inputWidgets": {},
     "nuid": "24ba89d0-f554-4d06-a350-6a9bda0bc2a1",
     "showTitle": false,
     "tableResultSettingsMap": {},
     "title": ""
    }
   },
   "source": [
    "Hay que tener cuidado si el conjunto de datos es muy grande, porque tanto `take` como `takeSample`, `takeOrdered` y `top` llevarán todos los datos a memoria."
   ]
  },
  {
   "cell_type": "markdown",
   "metadata": {
    "application/vnd.databricks.v1+cell": {
     "cellMetadata": {},
     "inputWidgets": {},
     "nuid": "610fa6e0-4dd1-47ac-9148-8e8370ceecd3",
     "showTitle": false,
     "tableResultSettingsMap": {},
     "title": ""
    }
   },
   "source": [
    "> ¿Que alternativas tengo?"
   ]
  },
  {
   "cell_type": "markdown",
   "metadata": {
    "application/vnd.databricks.v1+cell": {
     "cellMetadata": {},
     "inputWidgets": {},
     "nuid": "e7c6fbbd-41a2-4f6f-85d3-1ab6bcc7fbae",
     "showTitle": false,
     "tableResultSettingsMap": {},
     "title": ""
    }
   },
   "source": [
    "> Funciones lambda\n",
    "> \n",
    "> *Spark* hace un uso extensivo de las funciones *lambda de Python* para simplificar el código.\n",
    "> Una función lambda no es más que una función anónima condensada en una sola línea:"
   ]
  },
  {
   "cell_type": "code",
   "execution_count": 0,
   "metadata": {
    "application/vnd.databricks.v1+cell": {
     "cellMetadata": {
      "byteLimit": 2048000,
      "rowLimit": 10000
     },
     "inputWidgets": {},
     "nuid": "07e7bcf2-77a2-4a56-ac37-6e4097ca52f4",
     "showTitle": false,
     "tableResultSettingsMap": {},
     "title": ""
    }
   },
   "outputs": [
    {
     "output_type": "stream",
     "name": "stdout",
     "output_type": "stream",
     "text": [
      "Out[29]: <function __main__.<lambda>(par1, par2)>"
     ]
    }
   ],
   "source": [
    "# par1 y par2 son los parámetros de entrada, y expresión el código de la función\n",
    "lambda par1, par2: expresión"
   ]
  },
  {
   "cell_type": "markdown",
   "metadata": {
    "application/vnd.databricks.v1+cell": {
     "cellMetadata": {},
     "inputWidgets": {},
     "nuid": "17c7ce80-e2b7-4674-b22c-67ef6c4bb893",
     "showTitle": false,
     "tableResultSettingsMap": {},
     "title": ""
    }
   },
   "source": [
    "> Explica la salida del codigo de arriba."
   ]
  },
  {
   "cell_type": "markdown",
   "metadata": {
    "application/vnd.databricks.v1+cell": {
     "cellMetadata": {},
     "inputWidgets": {},
     "nuid": "961d4308-0195-4085-b27e-74dff8e33e34",
     "showTitle": false,
     "tableResultSettingsMap": {},
     "title": ""
    }
   },
   "source": [
    "> Por ejemplo, si tuviéramos una función que suma dos números, podríamos hacerla en Python de estas dos maneras:"
   ]
  },
  {
   "cell_type": "code",
   "execution_count": 0,
   "metadata": {
    "application/vnd.databricks.v1+cell": {
     "cellMetadata": {
      "byteLimit": 2048000,
      "rowLimit": 10000
     },
     "inputWidgets": {},
     "nuid": "319d95f2-a8b3-41f0-b3a9-cd4d0c294a4a",
     "showTitle": false,
     "tableResultSettingsMap": {},
     "title": ""
    }
   },
   "outputs": [],
   "source": [
    "def suma(x,y):\n",
    "    return(x + y)\n",
    "\n",
    "sumaL = lambda x,y : x + y\n",
    "\n",
    "res = suma(3, 4)\n",
    "resL = sumaL(3, 4)"
   ]
  },
  {
   "cell_type": "markdown",
   "metadata": {
    "application/vnd.databricks.v1+cell": {
     "cellMetadata": {},
     "inputWidgets": {},
     "nuid": "5853575d-12b8-456a-b097-cb259b8b2da0",
     "showTitle": false,
     "tableResultSettingsMap": {},
     "title": ""
    }
   },
   "source": [
    "A lo largo de los ejemplos de esta sesión y las siguientes nos iremos familiarizando con su uso"
   ]
  },
  {
   "cell_type": "markdown",
   "metadata": {
    "application/vnd.databricks.v1+cell": {
     "cellMetadata": {},
     "inputWidgets": {},
     "nuid": "4b36fc8b-527e-4a2a-8a1e-6321df05626e",
     "showTitle": false,
     "tableResultSettingsMap": {},
     "title": ""
    }
   },
   "source": [
    "### Collect"
   ]
  },
  {
   "cell_type": "markdown",
   "metadata": {
    "application/vnd.databricks.v1+cell": {
     "cellMetadata": {},
     "inputWidgets": {},
     "nuid": "d1709a17-b045-4601-96b9-23fece7b8172",
     "showTitle": false,
     "tableResultSettingsMap": {},
     "title": ""
    }
   },
   "source": [
    "Es una acción que se utiliza para recuperar todos los elementos de un RDD, DataFrame o Dataset desde los nodos distribuidos del clúster y traerlos al controlador (la máquina que ejecuta tu aplicación Spark)."
   ]
  },
  {
   "cell_type": "markdown",
   "metadata": {
    "application/vnd.databricks.v1+cell": {
     "cellMetadata": {},
     "inputWidgets": {},
     "nuid": "909eef86-5dfa-4382-b214-b90e45c764f4",
     "showTitle": false,
     "tableResultSettingsMap": {},
     "title": ""
    }
   },
   "source": [
    "Un fallo muy posible a la hora de mostrar los datos de un RDD es utilizar `rdd.foreach(print)` o `rdd.map(print)`."
   ]
  },
  {
   "cell_type": "markdown",
   "metadata": {
    "application/vnd.databricks.v1+cell": {
     "cellMetadata": {},
     "inputWidgets": {},
     "nuid": "7374d282-55b7-46c4-b72a-b7f17e5a2244",
     "showTitle": false,
     "tableResultSettingsMap": {},
     "title": ""
    }
   },
   "source": [
    "En una única máquina, esta operación generaría la salida esperada mostrando todos los elementos del RDD. Sin embargo, al trabajar en un clúster, la salida a stdout la realizarían los diferentes nodos y no el nodo principal. Así pues, para mostrar todos los elementos de un RDD/DataFrame/Dataset hemos de emplear el método collect, el cual primero mostrará los RDD del nodo principal (driver node), y luego para cada nodo del cluster mostrará sus datos."
   ]
  },
  {
   "cell_type": "code",
   "execution_count": 0,
   "metadata": {
    "application/vnd.databricks.v1+cell": {
     "cellMetadata": {
      "byteLimit": 2048000,
      "rowLimit": 10000
     },
     "inputWidgets": {},
     "nuid": "f0e68861-d2c2-4d26-b8b8-47af1ef1396b",
     "showTitle": false,
     "tableResultSettingsMap": {},
     "title": ""
    }
   },
   "outputs": [
    {
     "output_type": "stream",
     "name": "stdout",
     "output_type": "stream",
     "text": [
      "Out[31]: [0,\n 1,\n 2,\n 3,\n 4,\n 5,\n 6,\n 7,\n 8,\n 9,\n 10,\n 11,\n 12,\n 13,\n 14,\n 15,\n 16,\n 17,\n 18,\n 19,\n 20,\n 21,\n 22,\n 23,\n 24,\n 25,\n 26,\n 27,\n 28,\n 29,\n 30,\n 31,\n 32,\n 33,\n 34,\n 35,\n 36,\n 37,\n 38,\n 39,\n 40,\n 41,\n 42,\n 43,\n 44,\n 45,\n 46,\n 47,\n 48,\n 49,\n 50,\n 51,\n 52,\n 53,\n 54,\n 55,\n 56,\n 57,\n 58,\n 59,\n 60,\n 61,\n 62,\n 63,\n 64,\n 65,\n 66,\n 67,\n 68,\n 69,\n 70,\n 71,\n 72,\n 73,\n 74,\n 75,\n 76,\n 77,\n 78,\n 79,\n 80,\n 81,\n 82,\n 83,\n 84,\n 85,\n 86,\n 87,\n 88,\n 89,\n 90,\n 91,\n 92,\n 93,\n 94,\n 95,\n 96,\n 97,\n 98,\n 99,\n 100]"
     ]
    }
   ],
   "source": [
    "rdd.collect()"
   ]
  },
  {
   "cell_type": "markdown",
   "metadata": {
    "application/vnd.databricks.v1+cell": {
     "cellMetadata": {},
     "inputWidgets": {},
     "nuid": "3cedf4bd-503e-4203-a7a6-5579bc75ce9a",
     "showTitle": false,
     "tableResultSettingsMap": {},
     "title": ""
    }
   },
   "source": [
    "> **Out of memory**\n",
    "> \n",
    "> Hay que tener mucho cuidado, ya que nos podemos quedar fácilmente sin memoria, ya que `collect` se trae los datos de todos los ejecutores a un único nodo, el que ésta ejecutando el código (driver)."
   ]
  },
  {
   "cell_type": "markdown",
   "metadata": {
    "application/vnd.databricks.v1+cell": {
     "cellMetadata": {},
     "inputWidgets": {},
     "nuid": "4577419c-036b-40d9-9692-01267cf3c668",
     "showTitle": false,
     "tableResultSettingsMap": {},
     "title": ""
    }
   },
   "source": [
    "Si sólo necesitamos mostrar unos pocos elementos, un enfoque más seguro es utilizar `take`:"
   ]
  },
  {
   "cell_type": "code",
   "execution_count": 0,
   "metadata": {
    "application/vnd.databricks.v1+cell": {
     "cellMetadata": {
      "byteLimit": 2048000,
      "rowLimit": 10000
     },
     "inputWidgets": {},
     "nuid": "9dcce1bc-f8bf-4c62-b6d4-57ca89c71bbd",
     "showTitle": false,
     "tableResultSettingsMap": {},
     "title": ""
    }
   },
   "outputs": [
    {
     "output_type": "stream",
     "name": "stdout",
     "output_type": "stream",
     "text": [
      "Out[32]: [0,\n 1,\n 2,\n 3,\n 4,\n 5,\n 6,\n 7,\n 8,\n 9,\n 10,\n 11,\n 12,\n 13,\n 14,\n 15,\n 16,\n 17,\n 18,\n 19,\n 20,\n 21,\n 22,\n 23,\n 24,\n 25,\n 26,\n 27,\n 28,\n 29,\n 30,\n 31,\n 32,\n 33,\n 34,\n 35,\n 36,\n 37,\n 38,\n 39,\n 40,\n 41,\n 42,\n 43,\n 44,\n 45,\n 46,\n 47,\n 48,\n 49,\n 50,\n 51,\n 52,\n 53,\n 54,\n 55,\n 56,\n 57,\n 58,\n 59,\n 60,\n 61,\n 62,\n 63,\n 64,\n 65,\n 66,\n 67,\n 68,\n 69,\n 70,\n 71,\n 72,\n 73,\n 74,\n 75,\n 76,\n 77,\n 78,\n 79,\n 80,\n 81,\n 82,\n 83,\n 84,\n 85,\n 86,\n 87,\n 88,\n 89,\n 90,\n 91,\n 92,\n 93,\n 94,\n 95,\n 96,\n 97,\n 98,\n 99]"
     ]
    }
   ],
   "source": [
    "rdd.take(100)"
   ]
  },
  {
   "cell_type": "markdown",
   "metadata": {
    "application/vnd.databricks.v1+cell": {
     "cellMetadata": {},
     "inputWidgets": {},
     "nuid": "c34a2723-d654-4bce-8637-026592afdb98",
     "showTitle": false,
     "tableResultSettingsMap": {},
     "title": ""
    }
   },
   "source": [
    "### Transformaciones"
   ]
  },
  {
   "cell_type": "markdown",
   "metadata": {
    "application/vnd.databricks.v1+cell": {
     "cellMetadata": {},
     "inputWidgets": {},
     "nuid": "4ece8db2-6fc0-4f41-b6e0-c2c3623a738b",
     "showTitle": false,
     "tableResultSettingsMap": {},
     "title": ""
    }
   },
   "source": [
    "Las transformaciones son operaciones aplicadas a un RDD, DataFrame o Dataset que producen un nuevo conjunto de datos. Estas operaciones son perezosas (lazy), lo que significa que no se ejecutan inmediatamente, sino que solo se registran en un plan lógico de ejecución. Las transformaciones no procesan los datos directamente hasta que se llama a una acción."
   ]
  },
  {
   "cell_type": "markdown",
   "metadata": {
    "application/vnd.databricks.v1+cell": {
     "cellMetadata": {},
     "inputWidgets": {},
     "nuid": "e3cf9455-05be-4dc4-abcf-2d1b138e5cf2",
     "showTitle": false,
     "tableResultSettingsMap": {},
     "title": ""
    }
   },
   "source": [
    "En Spark, las estructuras de datos son inmutables, de manera que una vez creadas no se pueden modificar. Para poder modificar un RDD/DataFrame hace falta realizar una transformación, siendo el modo de expresar la lógica de negocio mediante Spark."
   ]
  },
  {
   "cell_type": "markdown",
   "metadata": {
    "application/vnd.databricks.v1+cell": {
     "cellMetadata": {},
     "inputWidgets": {},
     "nuid": "0ee0a047-d666-49fc-99c9-8485abc7202b",
     "showTitle": false,
     "tableResultSettingsMap": {},
     "title": ""
    }
   },
   "source": [
    "Todas las transformaciones en Spark se evalúan de manera perezosa (lazy evaluation), de manera que los resultados no se computan inmediatamente, sino que se retrasa el cálculo hasta que el valor sea necesario. Para ello, se van almacenando los pasos necesarios y se ejecutan únicamente cuando una acción requiere devolver un resultado al driver. Este diseño facilita un mejor rendimiento (por ejemplo, imagina que tras una operación map se realiza un reduce y en vez de devolver todo el conjunto de datos tras el map, sólo le enviamos al driver el resultado de la reducción)."
   ]
  },
  {
   "cell_type": "markdown",
   "metadata": {
    "application/vnd.databricks.v1+cell": {
     "cellMetadata": {},
     "inputWidgets": {},
     "nuid": "1d9a289c-77c0-45fd-9364-e9a1d207c9bb",
     "showTitle": false,
     "tableResultSettingsMap": {},
     "title": ""
    }
   },
   "source": [
    "> Explica el párrafo de arriba"
   ]
  },
  {
   "cell_type": "markdown",
   "metadata": {
    "application/vnd.databricks.v1+cell": {
     "cellMetadata": {},
     "inputWidgets": {},
     "nuid": "70519218-03c1-4331-9321-9d48d4e6d544",
     "showTitle": false,
     "tableResultSettingsMap": {},
     "title": ""
    }
   },
   "source": [
    "Así pues, las acciones provocan la evaluación de todas las transformaciones previas que se habían evaluado de forma perezosa y estaban a la espera."
   ]
  },
  {
   "cell_type": "markdown",
   "metadata": {
    "application/vnd.databricks.v1+cell": {
     "cellMetadata": {},
     "inputWidgets": {},
     "nuid": "cee7507e-e855-42aa-90ce-26009270a34e",
     "showTitle": false,
     "tableResultSettingsMap": {},
     "title": ""
    }
   },
   "source": [
    "Por defecto, cada transformación RDD/DataSet se puede recalcular cada vez que se ejecute una acción. Sin embargo, podemos persistir un RDD en memoria mediante los métodos persist (o cache), de manera que Spark mantendrá los datos para un posterior acceso más eficiente. También podemos persistir un RDD en disco o replicarlo en múltiples nodos."
   ]
  },
  {
   "cell_type": "markdown",
   "metadata": {
    "application/vnd.databricks.v1+cell": {
     "cellMetadata": {},
     "inputWidgets": {},
     "nuid": "ec79054d-829f-4054-aed7-c21001c979e6",
     "showTitle": false,
     "tableResultSettingsMap": {},
     "title": ""
    }
   },
   "source": [
    "### Tipos de transformaciones"
   ]
  },
  {
   "cell_type": "markdown",
   "metadata": {
    "application/vnd.databricks.v1+cell": {
     "cellMetadata": {},
     "inputWidgets": {},
     "nuid": "56d55e13-1a90-4246-aa41-1ce1479550bd",
     "showTitle": false,
     "tableResultSettingsMap": {},
     "title": ""
    }
   },
   "source": [
    "Existen dos tipos de transformaciones, dependiendo de las dependencias entre las particiones de datos:"
   ]
  },
  {
   "cell_type": "markdown",
   "metadata": {
    "application/vnd.databricks.v1+cell": {
     "cellMetadata": {},
     "inputWidgets": {},
     "nuid": "a1ef987c-baf0-4c23-9a31-7a1efcdeb5f8",
     "showTitle": false,
     "tableResultSettingsMap": {},
     "title": ""
    }
   },
   "source": [
    "- Transformaciones **Narrow**: consisten en dependencias estrechas en las que cada partición de entrada contribuye a una única partición de salida."
   ]
  },
  {
   "cell_type": "markdown",
   "metadata": {
    "application/vnd.databricks.v1+cell": {
     "cellMetadata": {},
     "inputWidgets": {},
     "nuid": "581f766e-9fc3-413e-8a4c-a1e36ac607fc",
     "showTitle": false,
     "tableResultSettingsMap": {},
     "title": ""
    }
   },
   "source": [
    "> Explicar"
   ]
  },
  {
   "cell_type": "markdown",
   "metadata": {
    "application/vnd.databricks.v1+cell": {
     "cellMetadata": {},
     "inputWidgets": {},
     "nuid": "980e1a6c-26db-4ac4-8c7f-ad9ae3e5feec",
     "showTitle": false,
     "tableResultSettingsMap": {},
     "title": ""
    }
   },
   "source": [
    "- Transformaciones **Wide**: consisten en dependencias anchas de manera que varias particiones de entrada contribuyen a muchas otras particiones de salida, es decir, cada partición de salida depende de diferentes particiones de entrada. Este proceso también se conoce como shuffle, ya que Spark baraja los datos entre las particiones del clúster."
   ]
  },
  {
   "cell_type": "markdown",
   "metadata": {
    "application/vnd.databricks.v1+cell": {
     "cellMetadata": {},
     "inputWidgets": {},
     "nuid": "438a9523-9a17-4196-b4c2-107588d9db62",
     "showTitle": false,
     "tableResultSettingsMap": {},
     "title": ""
    }
   },
   "source": [
    "> Explicar"
   ]
  },
  {
   "cell_type": "markdown",
   "metadata": {
    "application/vnd.databricks.v1+cell": {
     "cellMetadata": {},
     "inputWidgets": {},
     "nuid": "a05132ad-fdef-47f1-beb9-95e60b9fc1d7",
     "showTitle": false,
     "tableResultSettingsMap": {},
     "title": ""
    }
   },
   "source": [
    "![7](https://community.cloud.databricks.com/files/shared_uploads/notebook_1/7.png)"
   ]
  },
  {
   "cell_type": "markdown",
   "metadata": {
    "application/vnd.databricks.v1+cell": {
     "cellMetadata": {},
     "inputWidgets": {},
     "nuid": "a88fa827-b850-446a-8e06-9520a9fc8816",
     "showTitle": false,
     "tableResultSettingsMap": {},
     "title": ""
    }
   },
   "source": [
    "Con las transformaciones narrow, Spark realiza un pipeline de las dependencias, de manera que si especificamos múltiples filtros sobre DataFrames/RDD, se realizarán todos en memoria."
   ]
  },
  {
   "cell_type": "markdown",
   "metadata": {
    "application/vnd.databricks.v1+cell": {
     "cellMetadata": {},
     "inputWidgets": {},
     "nuid": "89c8a8a2-5676-41c6-8c7a-1949a89b449b",
     "showTitle": false,
     "tableResultSettingsMap": {},
     "title": ""
    }
   },
   "source": [
    "Esto no sucede con las transformaciones wide, ya que al realizar un shuffle los resultados se persisten en disco."
   ]
  },
  {
   "cell_type": "markdown",
   "metadata": {
    "application/vnd.databricks.v1+cell": {
     "cellMetadata": {},
     "inputWidgets": {},
     "nuid": "8d3e9066-44c8-48be-a613-8299f14909e2",
     "showTitle": false,
     "tableResultSettingsMap": {},
     "title": ""
    }
   },
   "source": [
    "El shuffle ocurre cuando Spark necesita repartir los datos de forma que ciertas claves o valores relacionados estén en la misma partición. Esto es necesario en transformaciones como groupByKey, reduceByKey, join, etc., donde los cálculos dependen de combinar datos relacionados que podrían estar en diferentes particiones."
   ]
  },
  {
   "cell_type": "markdown",
   "metadata": {
    "application/vnd.databricks.v1+cell": {
     "cellMetadata": {},
     "inputWidgets": {},
     "nuid": "20751bfe-e563-4b89-b2cf-9a04d5c8fefd",
     "showTitle": false,
     "tableResultSettingsMap": {},
     "title": ""
    }
   },
   "source": [
    "> Cuidado con shuffle\n",
    "> Las operaciones shuffle son computacionalmente caras, ya que implican E/S en disco, serialización de datos y E/S en red. Para organizar los datos previos al shuffle, Spark genera un conjunto de tareas (tareas map para organizar los datos, y reduce para agregar los resultados).\n",
    "> Internamente, el resultado de las tareas map se mantienen en memoria hasta que no caben. Entonces, se ordenan en la partición destino y se persisten en un único archivo. En la fase de reducción, las tareas leen los bloques ordenados que son relevantes.\n",
    "> Las operaciones reduceByKey y aggregateByKey son de las que más memoria consumen, al tener que crear las estructuras de datos para organizar los registros en las tareas de map, y luego generar los resultados agregados en la de reduce. Si los datos no caben en memoria, Spark los lleva a disco, incurriendo en operaciones adicionales de E/S en disco y del recolector de basura."
   ]
  },
  {
   "cell_type": "markdown",
   "metadata": {
    "application/vnd.databricks.v1+cell": {
     "cellMetadata": {},
     "inputWidgets": {},
     "nuid": "e4b01210-87b2-4d34-aa94-608546b92cba",
     "showTitle": false,
     "tableResultSettingsMap": {},
     "title": ""
    }
   },
   "source": [
    "A continuación veremos las diferentes transformaciones que podemos realizar con Spark."
   ]
  },
  {
   "cell_type": "markdown",
   "metadata": {
    "application/vnd.databricks.v1+cell": {
     "cellMetadata": {},
     "inputWidgets": {},
     "nuid": "9ddca778-7efb-47b7-85b1-cab1847f1b91",
     "showTitle": false,
     "tableResultSettingsMap": {},
     "title": ""
    }
   },
   "source": [
    "### Transformaciones Narrow"
   ]
  },
  {
   "cell_type": "markdown",
   "metadata": {
    "application/vnd.databricks.v1+cell": {
     "cellMetadata": {},
     "inputWidgets": {},
     "nuid": "06050c0f-1d54-402a-960a-da200c314870",
     "showTitle": false,
     "tableResultSettingsMap": {},
     "title": ""
    }
   },
   "source": [
    "Para los siguientes ejemplo, utilizaremos el siguiente fichero de `empleados.txt` que contiene para cada empleado los siguiente cinco campos:"
   ]
  },
  {
   "cell_type": "markdown",
   "metadata": {
    "application/vnd.databricks.v1+cell": {
     "cellMetadata": {},
     "inputWidgets": {},
     "nuid": "d1316bbe-a97f-4718-9812-59cf7ee0105f",
     "showTitle": false,
     "tableResultSettingsMap": {},
     "title": ""
    }
   },
   "source": [
    "- el nombre"
   ]
  },
  {
   "cell_type": "markdown",
   "metadata": {
    "application/vnd.databricks.v1+cell": {
     "cellMetadata": {},
     "inputWidgets": {},
     "nuid": "59560175-e3ef-45ce-bb9f-1c7b0ec0a963",
     "showTitle": false,
     "tableResultSettingsMap": {},
     "title": ""
    }
   },
   "source": [
    "- un array de ciudades donde trabaja separadas por coma"
   ]
  },
  {
   "cell_type": "markdown",
   "metadata": {
    "application/vnd.databricks.v1+cell": {
     "cellMetadata": {},
     "inputWidgets": {},
     "nuid": "cd3738c9-88a1-4482-94dc-2cad9032fd33",
     "showTitle": false,
     "tableResultSettingsMap": {},
     "title": ""
    }
   },
   "source": [
    "- una estructura compuesta del sexo y la edad separadas de nuevo por comas"
   ]
  },
  {
   "cell_type": "markdown",
   "metadata": {
    "application/vnd.databricks.v1+cell": {
     "cellMetadata": {},
     "inputWidgets": {},
     "nuid": "250dc96f-7578-47e5-94f9-24766caeccd7",
     "showTitle": false,
     "tableResultSettingsMap": {},
     "title": ""
    }
   },
   "source": [
    "- un array de mapas con sus destrezas y calificación"
   ]
  },
  {
   "cell_type": "markdown",
   "metadata": {
    "application/vnd.databricks.v1+cell": {
     "cellMetadata": {},
     "inputWidgets": {},
     "nuid": "018975db-0d3a-46e0-84fb-91e51a2652c8",
     "showTitle": false,
     "tableResultSettingsMap": {},
     "title": ""
    }
   },
   "source": [
    "- y finalmente un array de cargos y su consiguiente array de destrezas"
   ]
  },
  {
   "cell_type": "markdown",
   "metadata": {
    "application/vnd.databricks.v1+cell": {
     "cellMetadata": {},
     "inputWidgets": {},
     "nuid": "9f5491fe-f489-4072-8803-a307d35726d1",
     "showTitle": false,
     "tableResultSettingsMap": {},
     "title": ""
    }
   },
   "source": [
    "### Map"
   ]
  },
  {
   "cell_type": "markdown",
   "metadata": {
    "application/vnd.databricks.v1+cell": {
     "cellMetadata": {},
     "inputWidgets": {},
     "nuid": "b8751290-11ce-4c26-a1d9-2bd15342eda9",
     "showTitle": false,
     "tableResultSettingsMap": {},
     "title": ""
    }
   },
   "source": [
    " Es una transformación que aplica una función específica a cada elemento de un RDD, y devuelve un nuevo conjunto de datos donde cada elemento de salida es el resultado de aplicar la función a su correspondiente elemento de entrada. Es una de las transformaciones estrechas (narrow transformations), lo que significa que cada partición de salida depende de una única partición de entrada. Esto lo hace más eficiente porque no requiere un shuffle (reorganización de datos entre particiones)."
   ]
  },
  {
   "cell_type": "markdown",
   "metadata": {
    "application/vnd.databricks.v1+cell": {
     "cellMetadata": {},
     "inputWidgets": {},
     "nuid": "251d7ec3-9c0e-40d9-89d1-635d5bff8a37",
     "showTitle": false,
     "tableResultSettingsMap": {},
     "title": ""
    }
   },
   "source": [
    "La transformación [map](https://spark.apache.org/docs/latest/api/python/reference/api/pyspark.RDD.map.html) aplica la función recibida a cada elemento del RDD, de manera que vamos a poder añadir una nueva columna, modificar una existente, etc..."
   ]
  },
  {
   "cell_type": "markdown",
   "metadata": {
    "application/vnd.databricks.v1+cell": {
     "cellMetadata": {},
     "inputWidgets": {},
     "nuid": "5687d96d-3dfd-4255-989a-bc4bf9926d73",
     "showTitle": false,
     "tableResultSettingsMap": {},
     "title": ""
    }
   },
   "source": [
    "Por ejemplo, si la entrada es un RDD que contiene `[1, 2, 3, 4, 5]`, al hacer `rdd.map(lambda x: x*2)` obtendríamos un nuevo RDD cuyos valores contiene su doble, es decir, `[2, 4, 6, 8, 10]`:"
   ]
  },
  {
   "cell_type": "code",
   "execution_count": 0,
   "metadata": {
    "application/vnd.databricks.v1+cell": {
     "cellMetadata": {
      "byteLimit": 2048000,
      "rowLimit": 10000
     },
     "inputWidgets": {},
     "nuid": "ce5b700b-4ab4-4cdd-bc4c-7fd545ef4b91",
     "showTitle": false,
     "tableResultSettingsMap": {},
     "title": ""
    }
   },
   "outputs": [
    {
     "output_type": "stream",
     "name": "stdout",
     "output_type": "stream",
     "text": [
      "Out[33]: [2, 4, 6, 8, 10]"
     ]
    }
   ],
   "source": [
    "rdd = sc.parallelize([1, 2, 3, 4, 5])\n",
    "resultRDD = rdd.map(lambda x: x*2)\n",
    "resultRDD.collect()          # [2, 4, 6, 8, 10]"
   ]
  },
  {
   "cell_type": "markdown",
   "metadata": {
    "application/vnd.databricks.v1+cell": {
     "cellMetadata": {},
     "inputWidgets": {},
     "nuid": "c8336191-5649-4320-abc6-c7d64bfe258b",
     "showTitle": false,
     "tableResultSettingsMap": {},
     "title": ""
    }
   },
   "source": [
    "> Explicar código de arriba"
   ]
  },
  {
   "cell_type": "markdown",
   "metadata": {
    "application/vnd.databricks.v1+cell": {
     "cellMetadata": {},
     "inputWidgets": {},
     "nuid": "4b4cb529-9d30-4a78-9876-1497cc70c03e",
     "showTitle": false,
     "tableResultSettingsMap": {},
     "title": ""
    }
   },
   "source": [
    "(No hacer los codigos relativos a Hadoop o HDFS) Mediante la función textFile podemos cargar un archivo. Supongamos que tenemos cargado en Hadoop el archivo empleados.txt:"
   ]
  },
  {
   "cell_type": "markdown",
   "metadata": {
    "application/vnd.databricks.v1+cell": {
     "cellMetadata": {},
     "inputWidgets": {},
     "nuid": "bd1fab64-f020-49c4-9d3f-e3b7fa424e9d",
     "showTitle": false,
     "tableResultSettingsMap": {},
     "title": ""
    }
   },
   "source": [
    "rddLocal = sc.textFile(\"empleados.txt\")\n",
    "rdd = sc.textFile(\"hdfs://iabd-virtualbox:9000/user/iabd/datos/empleados.txt\") \n",
    "rdd.count()                 # 4 - cantidad de líneas\n",
    "resultRDD = rdd.map(len)    # obtenemos la cantidad de caracteres de cada línea\n",
    "resultRDD.collect()         # [61, 52, 60, 50]"
   ]
  },
  {
   "cell_type": "markdown",
   "metadata": {
    "application/vnd.databricks.v1+cell": {
     "cellMetadata": {},
     "inputWidgets": {},
     "nuid": "b906f274-7664-4a60-ad26-207b64084090",
     "showTitle": false,
     "tableResultSettingsMap": {},
     "title": ""
    }
   },
   "source": [
    "Si sobre el fichero de empleados, realizamos un split para separar los campos haciendo uso de map mediante una función lambda:"
   ]
  },
  {
   "cell_type": "markdown",
   "metadata": {
    "application/vnd.databricks.v1+cell": {
     "cellMetadata": {},
     "inputWidgets": {},
     "nuid": "31715554-de26-4302-beab-84be736b78ae",
     "showTitle": false,
     "tableResultSettingsMap": {},
     "title": ""
    }
   },
   "source": [
    "resultMap = rddLocal.map(lambda x: x.split(\"|\"))\n",
    "resultMap.collect()"
   ]
  },
  {
   "cell_type": "markdown",
   "metadata": {
    "application/vnd.databricks.v1+cell": {
     "cellMetadata": {},
     "inputWidgets": {},
     "nuid": "0b6ca366-baf2-4179-a4ea-7aff0afa8e7c",
     "showTitle": false,
     "tableResultSettingsMap": {},
     "title": ""
    }
   },
   "source": [
    "Obtenemos una lista de listas por cada fila del fichero, cada lista conteniendo los cincos campos de cada empleado:"
   ]
  },
  {
   "cell_type": "markdown",
   "metadata": {
    "application/vnd.databricks.v1+cell": {
     "cellMetadata": {},
     "inputWidgets": {},
     "nuid": "6f1151cc-181e-4145-bbff-d007532dba2e",
     "showTitle": false,
     "tableResultSettingsMap": {},
     "title": ""
    }
   },
   "source": [
    "[['Michael',\r\n",
    "  'Montreal,Toronto',\r\n",
    "  'Male,30',\r\n",
    "  'DB:80',\r\n",
    "  'Product:Developer\\x04Lead'],\r\n",
    " ['Will', 'Montreal', 'Male,35', 'Perl:85', 'Product:Lead,Test:Lead'],\r\n",
    " ['Shelley', 'New York', 'Female,27', 'Python:80', 'Test:Lead,COE:Architect'],\r\n",
    " ['Lucy', 'Vancouver', 'Female,57', 'Sales:89,HR:94', 'Sales:Lead']]"
   ]
  },
  {
   "cell_type": "markdown",
   "metadata": {
    "application/vnd.databricks.v1+cell": {
     "cellMetadata": {},
     "inputWidgets": {},
     "nuid": "3293e41e-4fa5-429f-a506-db93c908a649",
     "showTitle": false,
     "tableResultSettingsMap": {},
     "title": ""
    }
   },
   "source": [
    "### FlatMap"
   ]
  },
  {
   "cell_type": "markdown",
   "metadata": {
    "application/vnd.databricks.v1+cell": {
     "cellMetadata": {},
     "inputWidgets": {},
     "nuid": "8d211e05-af52-4bf3-a01b-e569f25b2056",
     "showTitle": false,
     "tableResultSettingsMap": {},
     "title": ""
    }
   },
   "source": [
    "Es una transformación que aplica una función a cada elemento de un RDD, y genera cero, uno o más elementos por cada entrada. A diferencia de map, que siempre genera exactamente un elemento por entrada, flatMap \"aplana\" los resultados en un solo conjunto de datos. Es particularmente útil cuando se necesita dividir, expandir o descomponer los elementos de un conjunto de datos en varios elementos."
   ]
  },
  {
   "cell_type": "markdown",
   "metadata": {
    "application/vnd.databricks.v1+cell": {
     "cellMetadata": {},
     "inputWidgets": {},
     "nuid": "629ab748-51eb-457e-8215-61efa88b784f",
     "showTitle": false,
     "tableResultSettingsMap": {},
     "title": ""
    }
   },
   "source": [
    "La transformación `flatMap` es muy similar a la anterior, pero en vez de devolver una lista con un elemento por cada entrada, devuelve una única lista deshaciendo las colecciones en elementos individuales:"
   ]
  },
  {
   "cell_type": "code",
   "execution_count": 0,
   "metadata": {
    "application/vnd.databricks.v1+cell": {
     "cellMetadata": {
      "byteLimit": 2048000,
      "rowLimit": 10000
     },
     "inputWidgets": {},
     "nuid": "9460c96f-626e-4b1e-89b9-1c6492026d39",
     "showTitle": false,
     "tableResultSettingsMap": {},
     "title": ""
    }
   },
   "outputs": [
    {
     "output_type": "stream",
     "name": "stdout",
     "output_type": "stream",
     "text": [
      "Out[38]: ['Michael',\n 'Montreal,Toronto',\n 'Male,30',\n 'DB:80',\n 'Product:Developer\\x04Lead',\n 'Will',\n 'Montreal',\n 'Male,35',\n 'Perl:85',\n 'Product:Lead,Test:Lead',\n 'Shelley',\n 'New York',\n 'Female,27',\n 'Python:80',\n 'Test:Lead,COE:Architect',\n 'Lucy',\n 'Vancouver',\n 'Female,57',\n 'Sales:89,HR:94',\n 'Sales:Lead']"
     ]
    }
   ],
   "source": [
    "rdd = sc.textFile(\"/FileStore/shared_uploads/notebook_1/empleados.txt\") \n",
    "resultFM = rdd.flatMap(lambda x: x.split(\"|\"))\n",
    "resultFM.collect()\n",
    "# Obtendríamos cada atributo separado y todos dentro de la misma lista"
   ]
  },
  {
   "cell_type": "markdown",
   "metadata": {
    "application/vnd.databricks.v1+cell": {
     "cellMetadata": {},
     "inputWidgets": {},
     "nuid": "5c1a2c68-c024-4e9c-898a-7a70bfae2d6a",
     "showTitle": false,
     "tableResultSettingsMap": {},
     "title": ""
    }
   },
   "source": [
    "### Filter"
   ]
  },
  {
   "cell_type": "markdown",
   "metadata": {
    "application/vnd.databricks.v1+cell": {
     "cellMetadata": {},
     "inputWidgets": {},
     "nuid": "cbcf4986-6a39-4b3c-b7b5-a65314c7af17",
     "showTitle": false,
     "tableResultSettingsMap": {},
     "title": ""
    }
   },
   "source": [
    "Es una transformación que se utiliza para filtrar elementos de un RDD según una condición específica. Solo los elementos que cumplen la condición se incluyen en el resultado, mientras que los demás se descartan.\n",
    "\n",
    "Es una transformación estrecha (narrow), lo que significa que los elementos de salida de cada partición dependen únicamente de los elementos de entrada de la misma partición. Esto lo hace eficiente porque no requiere un shuffle (reorganización de datos entre nodos)."
   ]
  },
  {
   "cell_type": "markdown",
   "metadata": {
    "application/vnd.databricks.v1+cell": {
     "cellMetadata": {},
     "inputWidgets": {},
     "nuid": "6e472f55-47fb-4ec5-8ab7-02eb0be0dd36",
     "showTitle": false,
     "tableResultSettingsMap": {},
     "title": ""
    }
   },
   "source": [
    "Permite filtrar los elementos que cumplen una condición mediante `filter`:"
   ]
  },
  {
   "cell_type": "code",
   "execution_count": 0,
   "metadata": {
    "application/vnd.databricks.v1+cell": {
     "cellMetadata": {
      "byteLimit": 2048000,
      "rowLimit": 10000
     },
     "inputWidgets": {},
     "nuid": "be5ba318-3a24-4d24-81b3-46091f2c71a4",
     "showTitle": false,
     "tableResultSettingsMap": {},
     "title": ""
    }
   },
   "outputs": [
    {
     "output_type": "stream",
     "name": "stdout",
     "output_type": "stream",
     "text": [
      "Out[39]: [2, 4]"
     ]
    }
   ],
   "source": [
    "rdd = sc.parallelize([1, 2, 3, 4, 5])\n",
    "resultRDD = rdd.filter(lambda x: x%2==0)\n",
    "resultRDD.collect()     # [2, 4]"
   ]
  },
  {
   "cell_type": "markdown",
   "metadata": {
    "application/vnd.databricks.v1+cell": {
     "cellMetadata": {},
     "inputWidgets": {},
     "nuid": "36876856-ee74-4dd8-8458-b04ed2156248",
     "showTitle": false,
     "tableResultSettingsMap": {},
     "title": ""
    }
   },
   "source": [
    "También podemos anidar diferentes transformaciones. Para este ejemplo, vamos a crear tuplas formadas por un número y su cuadrado, y luego quitar los que no coincide el número con su cuadrado (sólo coinciden el 0 y el 1), y luego aplanarlo en una lista:"
   ]
  },
  {
   "cell_type": "code",
   "execution_count": 0,
   "metadata": {
    "application/vnd.databricks.v1+cell": {
     "cellMetadata": {
      "byteLimit": 2048000,
      "rowLimit": 10000
     },
     "inputWidgets": {},
     "nuid": "1727f8c4-44c1-4cb2-be99-aa8309775a7e",
     "showTitle": false,
     "tableResultSettingsMap": {},
     "title": ""
    }
   },
   "outputs": [
    {
     "output_type": "stream",
     "name": "stdout",
     "output_type": "stream",
     "text": [
      "Out[40]: [2, 4, 3, 9, 4, 16, 5, 25, 6, 36, 7, 49, 8, 64, 9, 81, 10, 100]"
     ]
    }
   ],
   "source": [
    "rdd10 = sc.parallelize(range(10+1))\n",
    "rddPares = rdd10.map(lambda x: (x, x**2)).filter(lambda x: (x[0] != x[1])).flatMap(lambda x: x)\n",
    "rddPares.collect()      # [2, 4, 3, 9, 4, 16, 5, 25, 6, 36, 7, 49, 8, 64, 9, 81, 10, 100]"
   ]
  },
  {
   "cell_type": "markdown",
   "metadata": {
    "application/vnd.databricks.v1+cell": {
     "cellMetadata": {},
     "inputWidgets": {},
     "nuid": "e4ebc8a2-229d-4ba8-b152-33a9642c74b3",
     "showTitle": false,
     "tableResultSettingsMap": {},
     "title": ""
    }
   },
   "source": [
    "> Explicar el código de arriba"
   ]
  },
  {
   "cell_type": "markdown",
   "metadata": {
    "application/vnd.databricks.v1+cell": {
     "cellMetadata": {},
     "inputWidgets": {},
     "nuid": "7cd9156d-aceb-47c5-acf2-ac692aca687e",
     "showTitle": false,
     "tableResultSettingsMap": {},
     "title": ""
    }
   },
   "source": [
    "Veamos otro ejemplo. Retomamos los datos de los empleados y si queremos filtrar los empleados que son hombres, primero separamos por las | y nos quedamos con el tercer elemento que contiene el sexo y la edad. A continuación, separamos por la coma para quedarnos en el sexo en la posición 0 y la edad en el 1, y comparamos con el valor deseado:"
   ]
  },
  {
   "cell_type": "code",
   "execution_count": 0,
   "metadata": {
    "application/vnd.databricks.v1+cell": {
     "cellMetadata": {
      "byteLimit": 2048000,
      "rowLimit": 10000
     },
     "inputWidgets": {},
     "nuid": "c8411c09-6238-4848-9b97-497c4b832cd9",
     "showTitle": false,
     "tableResultSettingsMap": {},
     "title": ""
    }
   },
   "outputs": [
    {
     "output_type": "stream",
     "name": "stdout",
     "output_type": "stream",
     "text": [
      "['Michael|Montreal,Toronto|Male,30|DB:80|Product:Developer\\x04Lead', 'Will|Montreal|Male,35|Perl:85|Product:Lead,Test:Lead']\n"
     ]
    }
   ],
   "source": [
    "\n",
    "rdd = sc.textFile(\"/FileStore/shared_uploads/notebook_1/empleados.txt\") \n",
    "# Filtrar registros donde el campo de género contiene \"Male\"\n",
    "hombres = rdd.filter(lambda x: len(x.split(\"|\")) > 2 and x.split(\"|\")[2].split(\",\")[0] == \"Male\")\n",
    "\n",
    "# Mostrar los resultados\n",
    "print(hombres.collect())"
   ]
  },
  {
   "cell_type": "markdown",
   "metadata": {
    "application/vnd.databricks.v1+cell": {
     "cellMetadata": {},
     "inputWidgets": {},
     "nuid": "f9cf9478-9d2b-48f1-b8f8-1665d55f1ede",
     "showTitle": false,
     "tableResultSettingsMap": {},
     "title": ""
    }
   },
   "source": [
    "> Explicar el codigo de arriba"
   ]
  },
  {
   "cell_type": "markdown",
   "metadata": {
    "application/vnd.databricks.v1+cell": {
     "cellMetadata": {},
     "inputWidgets": {},
     "nuid": "70adca0b-573d-403d-bfac-7a98ccf22fb7",
     "showTitle": false,
     "tableResultSettingsMap": {},
     "title": ""
    }
   },
   "source": [
    "Obteniendo:"
   ]
  },
  {
   "cell_type": "markdown",
   "metadata": {
    "application/vnd.databricks.v1+cell": {
     "cellMetadata": {},
     "inputWidgets": {},
     "nuid": "7c71cb94-7d74-4309-9b89-8d9799e80fe7",
     "showTitle": false,
     "tableResultSettingsMap": {},
     "title": ""
    }
   },
   "source": [
    "['Michael|Montreal,Toronto|Male,30|DB:80|Product:Developer\\x04Lead',\n",
    " 'Will|Montreal|Male,35|Perl:85|Product:Lead,Test:Lead']"
   ]
  },
  {
   "cell_type": "markdown",
   "metadata": {
    "application/vnd.databricks.v1+cell": {
     "cellMetadata": {},
     "inputWidgets": {},
     "nuid": "548ea963-8165-46e6-9fb4-e4d2cde6920c",
     "showTitle": false,
     "tableResultSettingsMap": {},
     "title": ""
    }
   },
   "source": [
    "### Distinct"
   ]
  },
  {
   "cell_type": "markdown",
   "metadata": {
    "application/vnd.databricks.v1+cell": {
     "cellMetadata": {},
     "inputWidgets": {},
     "nuid": "80b1ebe9-efa8-4dba-b665-7fcee8a51816",
     "showTitle": false,
     "tableResultSettingsMap": {},
     "title": ""
    }
   },
   "source": [
    "Si utilizamos [distinct](https://spark.apache.org/docs/latest/api/python/reference/api/pyspark.RDD.distinct.html) eliminaremos los elementos repetidos:"
   ]
  },
  {
   "cell_type": "markdown",
   "metadata": {
    "application/vnd.databricks.v1+cell": {
     "cellMetadata": {},
     "inputWidgets": {},
     "nuid": "fbe55980-fe5c-4e98-a920-d42ab13128bb",
     "showTitle": false,
     "tableResultSettingsMap": {},
     "title": ""
    }
   },
   "source": [
    "### Trabajando con conjuntos"
   ]
  },
  {
   "cell_type": "markdown",
   "metadata": {
    "application/vnd.databricks.v1+cell": {
     "cellMetadata": {},
     "inputWidgets": {},
     "nuid": "6f688bc7-4387-4597-b95a-648e1e6f9351",
     "showTitle": false,
     "tableResultSettingsMap": {},
     "title": ""
    }
   },
   "source": [
    "**Union**"
   ]
  },
  {
   "cell_type": "markdown",
   "metadata": {
    "application/vnd.databricks.v1+cell": {
     "cellMetadata": {},
     "inputWidgets": {},
     "nuid": "2eb5d482-e983-4c85-a8cf-a03212372ec8",
     "showTitle": false,
     "tableResultSettingsMap": {},
     "title": ""
    }
   },
   "source": [
    "Mediante [union](https://spark.apache.org/docs/latest/api/python/reference/api/pyspark.RDD.union.html) unimos dos RDD en uno:"
   ]
  },
  {
   "cell_type": "code",
   "execution_count": 0,
   "metadata": {
    "application/vnd.databricks.v1+cell": {
     "cellMetadata": {
      "byteLimit": 2048000,
      "rowLimit": 10000
     },
     "inputWidgets": {},
     "nuid": "82f421aa-9a15-4226-9402-02f33119ecf4",
     "showTitle": false,
     "tableResultSettingsMap": {},
     "title": ""
    }
   },
   "outputs": [
    {
     "output_type": "stream",
     "name": "stdout",
     "output_type": "stream",
     "text": [
      "Out[1]: [1, 2, 3, 4, 5, 6, 7, 8]"
     ]
    }
   ],
   "source": [
    "rdd1 = sc.parallelize([1,2,3,4])\r\n",
    "rdd2 = sc.parallelize([5,6,7,8])\r\n",
    "resultRDD = rdd1.union(rdd2)\r\n",
    "resultRDD.collect()     # [1, 2, 3, 4, 5, 6, 7, 8]"
   ]
  },
  {
   "cell_type": "markdown",
   "metadata": {
    "application/vnd.databricks.v1+cell": {
     "cellMetadata": {},
     "inputWidgets": {},
     "nuid": "58c25c87-a43b-4462-a49b-b3d6d8271b2b",
     "showTitle": false,
     "tableResultSettingsMap": {},
     "title": ""
    }
   },
   "source": [
    "**Intersection**"
   ]
  },
  {
   "cell_type": "markdown",
   "metadata": {
    "application/vnd.databricks.v1+cell": {
     "cellMetadata": {},
     "inputWidgets": {},
     "nuid": "0a273d7f-727b-4998-a750-4bdbbb2455dd",
     "showTitle": false,
     "tableResultSettingsMap": {},
     "title": ""
    }
   },
   "source": [
    "Mediante [intersection](https://spark.apache.org/docs/latest/api/python/reference/api/pyspark.RDD.intersection.html), obtendremos los elementos que tengan en común:"
   ]
  },
  {
   "cell_type": "markdown",
   "metadata": {
    "application/vnd.databricks.v1+cell": {
     "cellMetadata": {},
     "inputWidgets": {},
     "nuid": "5119e146-e592-4ad0-9e35-1b376e37d47c",
     "showTitle": false,
     "tableResultSettingsMap": {},
     "title": ""
    }
   },
   "source": [
    "**Subtract**"
   ]
  },
  {
   "cell_type": "markdown",
   "metadata": {
    "application/vnd.databricks.v1+cell": {
     "cellMetadata": {},
     "inputWidgets": {},
     "nuid": "503684d3-1bcd-44ef-9822-34a8bb7e2b3c",
     "showTitle": false,
     "tableResultSettingsMap": {},
     "title": ""
    }
   },
   "source": [
    "Mediante [subtract](https://spark.apache.org/docs/latest/api/python/reference/api/pyspark.RDD.subtract.html), obtendremos los elementos propios que no estén en el RDD recibido:"
   ]
  },
  {
   "cell_type": "code",
   "execution_count": 0,
   "metadata": {
    "application/vnd.databricks.v1+cell": {
     "cellMetadata": {
      "byteLimit": 2048000,
      "rowLimit": 10000
     },
     "inputWidgets": {},
     "nuid": "d9e853a0-5597-44a4-972f-5dee5dc0d09d",
     "showTitle": false,
     "tableResultSettingsMap": {},
     "title": ""
    }
   },
   "outputs": [
    {
     "output_type": "stream",
     "name": "stdout",
     "output_type": "stream",
     "text": [
      "Out[2]: [1, 2]"
     ]
    }
   ],
   "source": [
    "rdd1 = sc.parallelize([1,2,3,4])\n",
    "rdd2 = sc.parallelize([3,4,5,6])\n",
    "resultRDD = rdd1.subtract(rdd2)\n",
    "resultRDD.collect()     # [1, 2]"
   ]
  },
  {
   "cell_type": "markdown",
   "metadata": {
    "application/vnd.databricks.v1+cell": {
     "cellMetadata": {},
     "inputWidgets": {},
     "nuid": "0b0ae89e-1896-4fdb-9a2a-dd0b881b1d51",
     "showTitle": false,
     "tableResultSettingsMap": {},
     "title": ""
    }
   },
   "source": [
    "### Actividad:"
   ]
  },
  {
   "cell_type": "markdown",
   "metadata": {
    "application/vnd.databricks.v1+cell": {
     "cellMetadata": {},
     "inputWidgets": {},
     "nuid": "d590bdcf-8b42-4055-b7b4-df5b638a3476",
     "showTitle": false,
     "tableResultSettingsMap": {},
     "title": ""
    }
   },
   "source": [
    "Si tenemos dos RDD (A y B):"
   ]
  },
  {
   "cell_type": "code",
   "execution_count": 0,
   "metadata": {
    "application/vnd.databricks.v1+cell": {
     "cellMetadata": {
      "byteLimit": 2048000,
      "rowLimit": 10000
     },
     "inputWidgets": {},
     "nuid": "679d9c4f-cf40-441f-a624-f09fbca20c47",
     "showTitle": false,
     "tableResultSettingsMap": {},
     "title": ""
    }
   },
   "outputs": [],
   "source": [
    "rddA = sc.parallelize([1,2,3,4])\n",
    "rddB = sc.parallelize([3,4,5,6])"
   ]
  },
  {
   "cell_type": "markdown",
   "metadata": {
    "application/vnd.databricks.v1+cell": {
     "cellMetadata": {},
     "inputWidgets": {},
     "nuid": "fb67d715-2b8b-468d-992d-6bd8700c13f5",
     "showTitle": false,
     "tableResultSettingsMap": {},
     "title": ""
    }
   },
   "source": [
    "¿Cómo conseguimos los elementos que están en A y no B y los de B que no están en A? (es decir [1, 2, 5, 6])):"
   ]
  },
  {
   "cell_type": "code",
   "execution_count": 0,
   "metadata": {
    "application/vnd.databricks.v1+cell": {
     "cellMetadata": {},
     "inputWidgets": {},
     "nuid": "61872845-b167-43fb-a180-1d27bc2b3d3c",
     "showTitle": false,
     "tableResultSettingsMap": {},
     "title": ""
    }
   },
   "outputs": [],
   "source": [
    "# Escriba la respuesta aqui\n"
   ]
  },
  {
   "cell_type": "markdown",
   "metadata": {
    "application/vnd.databricks.v1+cell": {
     "cellMetadata": {},
     "inputWidgets": {},
     "nuid": "125222b3-ada2-4c4f-b4a5-51b4897c9f11",
     "showTitle": false,
     "tableResultSettingsMap": {},
     "title": ""
    }
   },
   "source": [
    "### RDD de Pares"
   ]
  },
  {
   "cell_type": "markdown",
   "metadata": {
    "application/vnd.databricks.v1+cell": {
     "cellMetadata": {},
     "inputWidgets": {},
     "nuid": "8c9d3e39-ee26-4422-8ecc-3369a8c0ab68",
     "showTitle": false,
     "tableResultSettingsMap": {},
     "title": ""
    }
   },
   "source": [
    "Una técnica muy común a la hora de trabajar con RDD es hacerlo con elementos que tienen el formato (`clave, valor`), pudiendo las claves y los valores ser de cualquier tipo."
   ]
  },
  {
   "cell_type": "code",
   "execution_count": 0,
   "metadata": {
    "application/vnd.databricks.v1+cell": {
     "cellMetadata": {
      "byteLimit": 2048000,
      "rowLimit": 10000
     },
     "inputWidgets": {},
     "nuid": "d336bb5e-44c2-467d-bf4a-b0be59951218",
     "showTitle": false,
     "tableResultSettingsMap": {},
     "title": ""
    }
   },
   "outputs": [],
   "source": [
    "listaTuplas = [(1,'a'), (2,'b'), (3,'c'), (4,'d')]\n",
    "rddTuplas= sc.parallelize(listaTuplas)"
   ]
  },
  {
   "cell_type": "markdown",
   "metadata": {
    "application/vnd.databricks.v1+cell": {
     "cellMetadata": {},
     "inputWidgets": {},
     "nuid": "878385b0-4d6d-4d33-9b6f-8cb0811c9a23",
     "showTitle": false,
     "tableResultSettingsMap": {},
     "title": ""
    }
   },
   "source": [
    "Sobre estos RDD podemos realizar algoritmos MapReduce para muchas funciones de procesamiento de datos, como es la agrupación, ordenación, join, count, etc..."
   ]
  },
  {
   "cell_type": "markdown",
   "metadata": {
    "application/vnd.databricks.v1+cell": {
     "cellMetadata": {},
     "inputWidgets": {},
     "nuid": "d893790b-f7e7-4180-ae97-cefbd146c222",
     "showTitle": false,
     "tableResultSettingsMap": {},
     "title": ""
    }
   },
   "source": [
    "Para generar un RDD de pares, además de crearlo nosotros a partir de una lista, podemos emplear las siguientes operaciones:"
   ]
  },
  {
   "cell_type": "markdown",
   "metadata": {
    "application/vnd.databricks.v1+cell": {
     "cellMetadata": {},
     "inputWidgets": {},
     "nuid": "09b0b496-54d0-44ed-a705-864d9a09f0ea",
     "showTitle": false,
     "tableResultSettingsMap": {},
     "title": ""
    }
   },
   "source": [
    "- [zip](https://spark.apache.org/docs/latest/api/python/reference/api/pyspark.RDD.zip.html): une dos RDDs del mismo tamaño:"
   ]
  },
  {
   "cell_type": "code",
   "execution_count": 0,
   "metadata": {
    "application/vnd.databricks.v1+cell": {
     "cellMetadata": {
      "byteLimit": 2048000,
      "rowLimit": 10000
     },
     "inputWidgets": {},
     "nuid": "5be4fe4c-05b3-4ece-a4f9-7911578ec8ce",
     "showTitle": false,
     "tableResultSettingsMap": {},
     "title": ""
    }
   },
   "outputs": [],
   "source": [
    "lista1 = ['a','b','c','e','f','g','h']\n",
    "lista2 = [4, 5, 6, 7, 8, 9, 10]\n",
    "rddZip = sc.parallelize(lista1).zip(sc.parallelize(lista2)).collect()\n",
    "# [('a', 4), ('b', 5), ('c', 6), ('e', 7), ('f', 8), ('g', 9), ('h', 10)]"
   ]
  },
  {
   "cell_type": "code",
   "execution_count": 0,
   "metadata": {
    "application/vnd.databricks.v1+cell": {
     "cellMetadata": {
      "byteLimit": 2048000,
      "rowLimit": 10000
     },
     "inputWidgets": {},
     "nuid": "34694e2d-56d9-461a-b29d-22eebf000f9a",
     "showTitle": false,
     "tableResultSettingsMap": {},
     "title": ""
    }
   },
   "outputs": [],
   "source": [
    "rddZipSecuencia = sc.parallelize(zip(lista1,range(len(lista1)))) # usando el tamaño de la lista\n",
    "# [('a', 0), ('b', 1), ('c', 2), ('e', 3), ('f', 4), ('g', 5), ('h', 6)]"
   ]
  },
  {
   "cell_type": "markdown",
   "metadata": {
    "application/vnd.databricks.v1+cell": {
     "cellMetadata": {},
     "inputWidgets": {},
     "nuid": "ed9d5686-6f45-4b31-a7ba-72811b9fc5ca",
     "showTitle": false,
     "tableResultSettingsMap": {},
     "title": ""
    }
   },
   "source": [
    "- `map`: asignando a cada elemento un valor o cálculo sobre él mismo:"
   ]
  },
  {
   "cell_type": "code",
   "execution_count": 0,
   "metadata": {
    "application/vnd.databricks.v1+cell": {
     "cellMetadata": {
      "byteLimit": 2048000,
      "rowLimit": 10000
     },
     "inputWidgets": {},
     "nuid": "f4677e79-f7c0-464f-b208-cd159c033c0f",
     "showTitle": false,
     "tableResultSettingsMap": {},
     "title": ""
    }
   },
   "outputs": [],
   "source": [
    "lista  = ['Hola', 'Adiós', 'Hasta luego']\n",
    "rddMap = sc.parallelize(lista).map(lambda x: (x, len(x)))\n",
    "# [('Hola', 4), ('Adiós', 5), ('Hasta luego', 11)]"
   ]
  },
  {
   "cell_type": "markdown",
   "metadata": {
    "application/vnd.databricks.v1+cell": {
     "cellMetadata": {},
     "inputWidgets": {},
     "nuid": "31918915-ee23-478e-be51-3b269ba3e661",
     "showTitle": false,
     "tableResultSettingsMap": {},
     "title": ""
    }
   },
   "source": [
    "- `keyBy`: permite crear las claves a partir de cada elemento:"
   ]
  },
  {
   "cell_type": "code",
   "execution_count": 0,
   "metadata": {
    "application/vnd.databricks.v1+cell": {
     "cellMetadata": {
      "byteLimit": 2048000,
      "rowLimit": 10000
     },
     "inputWidgets": {},
     "nuid": "d0cc4efb-571d-47ca-943a-5f5bd6f5399e",
     "showTitle": false,
     "tableResultSettingsMap": {},
     "title": ""
    }
   },
   "outputs": [],
   "source": [
    "rddKeyBy = sc.parallelize(lista).keyBy(lambda x: x[0])  # creamos una clave con la primera letra\n",
    "# [('H', 'Hola'), ('A', 'Adiós'), ('H', 'Hasta luego')]"
   ]
  },
  {
   "cell_type": "markdown",
   "metadata": {
    "application/vnd.databricks.v1+cell": {
     "cellMetadata": {},
     "inputWidgets": {},
     "nuid": "c77a9131-47f9-471b-b2ea-1ffc00cdae71",
     "showTitle": false,
     "tableResultSettingsMap": {},
     "title": ""
    }
   },
   "source": [
    "### Actividad:"
   ]
  },
  {
   "cell_type": "markdown",
   "metadata": {
    "application/vnd.databricks.v1+cell": {
     "cellMetadata": {},
     "inputWidgets": {},
     "nuid": "bbbd24a9-f640-4a6b-85a0-c29fae4244db",
     "showTitle": false,
     "tableResultSettingsMap": {},
     "title": ""
    }
   },
   "source": [
    "A partir de la lista `\"Perro Gato Loro Pez León Tortuga Gallina\"`"
   ]
  },
  {
   "cell_type": "markdown",
   "metadata": {
    "application/vnd.databricks.v1+cell": {
     "cellMetadata": {},
     "inputWidgets": {},
     "nuid": "62581ae5-518d-4af4-98b1-1b8078b35903",
     "showTitle": false,
     "tableResultSettingsMap": {},
     "title": ""
    }
   },
   "source": [
    "1. Crea un RDD a partir de esta lista\n",
    "2. Convierte el RDD normal en un RDD de pares cuya clave sea la primera letra del animal\n",
    "3. Crea otro RDD de pares pero poniendo como clave un número incremental\n",
    "4. ¿Y si queremos que el índice incremental empiece en 100?"
   ]
  },
  {
   "cell_type": "markdown",
   "metadata": {
    "application/vnd.databricks.v1+cell": {
     "cellMetadata": {},
     "inputWidgets": {},
     "nuid": "0f5b6f8a-fa48-44e0-8dae-97bd3d48939e",
     "showTitle": false,
     "tableResultSettingsMap": {},
     "title": ""
    }
   },
   "source": [
    "#### Solucion"
   ]
  },
  {
   "cell_type": "code",
   "execution_count": 0,
   "metadata": {
    "application/vnd.databricks.v1+cell": {
     "cellMetadata": {},
     "inputWidgets": {},
     "nuid": "62f6de6c-0ad5-46bb-a05a-64719068ff4a",
     "showTitle": false,
     "tableResultSettingsMap": {},
     "title": ""
    }
   },
   "outputs": [],
   "source": [
    "# Coloca tus respuestas aqui\n"
   ]
  },
  {
   "cell_type": "markdown",
   "metadata": {
    "application/vnd.databricks.v1+cell": {
     "cellMetadata": {},
     "inputWidgets": {},
     "nuid": "49a7b3bb-c80c-407f-8941-1f58d78e75c1",
     "showTitle": false,
     "tableResultSettingsMap": {},
     "title": ""
    }
   },
   "source": [
    "Sobre los RDD de pares, podemos realizar las siguientes transformaciones:"
   ]
  },
  {
   "cell_type": "markdown",
   "metadata": {
    "application/vnd.databricks.v1+cell": {
     "cellMetadata": {},
     "inputWidgets": {},
     "nuid": "32f53d0b-7055-455a-828b-d3c59602e343",
     "showTitle": false,
     "tableResultSettingsMap": {},
     "title": ""
    }
   },
   "source": [
    "- [`keys`](https://spark.apache.org/docs/latest/api/python/reference/api/pyspark.RDD.keys.html): devuelve las claves\n",
    "- [`values`](https://spark.apache.org/docs/latest/api/python/reference/api/pyspark.RDD.values.html): devuelve los valores\n",
    "- [`mapValues`](https://spark.apache.org/docs/latest/api/python/reference/api/pyspark.RDD.mapValues.html): Aplica la función sobre los valores\n",
    "- [`flatMapValues`](https://spark.apache.org/docs/latest/api/python/reference/api/pyspark.RDD.flatMapValues.html) Aplica la función sobre los valores y los aplana.\n",
    "  "
   ]
  },
  {
   "cell_type": "markdown",
   "metadata": {
    "application/vnd.databricks.v1+cell": {
     "cellMetadata": {},
     "inputWidgets": {},
     "nuid": "6e7c03d5-59c1-4978-ab84-48bfdb417a70",
     "showTitle": false,
     "tableResultSettingsMap": {},
     "title": ""
    }
   },
   "source": [
    "A continuación se muestra un fragmento de código para poner en práctica las transformaciones comentadas:"
   ]
  },
  {
   "cell_type": "code",
   "execution_count": 0,
   "metadata": {
    "application/vnd.databricks.v1+cell": {
     "cellMetadata": {},
     "inputWidgets": {},
     "nuid": "76e6d2d9-1367-422d-9e68-7e4c94e0d510",
     "showTitle": false,
     "tableResultSettingsMap": {},
     "title": ""
    }
   },
   "outputs": [],
   "source": [
    "listaTuplas = [('a',1), ('z',3), ('b',4), ('c',3), ('a',4)]\n",
    "rddTuplas = sc.parallelize(listaTuplas)\n",
    "\n",
    "claves = rddTuplas.keys()       # ['a', 'z', 'b', 'c', 'a']\n",
    "valores = rddTuplas.values()    # [1, 3, 4, 3, 4]\n",
    "\n",
    "rddMapValues = rddTuplas.mapValues(lambda x: (x,x*2))\n",
    "# [('a', (1, 2)), ('z', (3, 6)), ('b', (4, 8)), ('c', (3, 6)), ('a', (4, 8))]\n",
    "rddFMV = rddTuplas.flatMapValues(lambda x: (x,x*2))\n",
    "# [('a', 1),\n",
    "#  ('a', 2),\n",
    "#  ('z', 3),\n",
    "#  ('z', 6),\n",
    "#  ('b', 4),\n",
    "# ..."
   ]
  },
  {
   "cell_type": "markdown",
   "metadata": {
    "application/vnd.databricks.v1+cell": {
     "cellMetadata": {},
     "inputWidgets": {},
     "nuid": "90743f3c-51f1-4eec-a77c-53f44502c35a",
     "showTitle": false,
     "tableResultSettingsMap": {},
     "title": ""
    }
   },
   "source": [
    "### Transformaciones Wide"
   ]
  },
  {
   "cell_type": "markdown",
   "metadata": {
    "application/vnd.databricks.v1+cell": {
     "cellMetadata": {},
     "inputWidgets": {},
     "nuid": "09b37e2d-96c5-4327-a819-99c6a799fc5c",
     "showTitle": false,
     "tableResultSettingsMap": {},
     "title": ""
    }
   },
   "source": [
    "Las siguientes transformaciones, además de trabajar con RDD de pares, mezclan los datos de las particiones mediante el shuffle de los elementos."
   ]
  },
  {
   "cell_type": "markdown",
   "metadata": {
    "application/vnd.databricks.v1+cell": {
     "cellMetadata": {},
     "inputWidgets": {},
     "nuid": "09b0ed63-c852-4943-8889-9d34c19f99bf",
     "showTitle": false,
     "tableResultSettingsMap": {},
     "title": ""
    }
   },
   "source": [
    "Para los siguientes ejemplos, utilizaremos un fichero de ventas [`pdi_sales.csv`](https://tajamar365.sharepoint.com/:x:/s/3405-MasterIA2024-2025/EdbX1Ds2BShClAxQaHHZYyYBwu5DY1Li3jvXLN_Z7KbhHg?e=Vj3xFq) (versión extendida) / [`pdi_sales_small.csv`](https://tajamar365.sharepoint.com/:x:/s/3405-MasterIA2024-2025/EdbX1Ds2BShClAxQaHHZYyYBwu5DY1Li3jvXLN_Z7KbhHg?e=Vj3xFq) (versión reducida) el cual tiene el siguiente formato:"
   ]
  },
  {
   "cell_type": "markdown",
   "metadata": {
    "application/vnd.databricks.v1+cell": {
     "cellMetadata": {},
     "inputWidgets": {},
     "nuid": "6413465e-8d26-4f10-b518-2cb380037ac1",
     "showTitle": false,
     "tableResultSettingsMap": {},
     "title": ""
    }
   },
   "source": [
    "ProductID;Date;Zip;Units;Revenue;Country\n",
    "725;1/15/1999;41540          ;1;115.5;Germany\n",
    "787;6/6/2002;41540          ;1;314.9;Germany\n",
    "..."
   ]
  },
  {
   "cell_type": "markdown",
   "metadata": {
    "application/vnd.databricks.v1+cell": {
     "cellMetadata": {},
     "inputWidgets": {},
     "nuid": "868ec63b-19b6-4bbf-90e6-8387f09b15bf",
     "showTitle": false,
     "tableResultSettingsMap": {},
     "title": ""
    }
   },
   "source": [
    "### ReduceByKey"
   ]
  },
  {
   "cell_type": "markdown",
   "metadata": {
    "application/vnd.databricks.v1+cell": {
     "cellMetadata": {},
     "inputWidgets": {},
     "nuid": "1f145515-9a5c-403e-8afe-b6c714a931e6",
     "showTitle": false,
     "tableResultSettingsMap": {},
     "title": ""
    }
   },
   "source": [
    "Mediante la transformación [`reducedByKey`](https://spark.apache.org/docs/latest/api/python/reference/api/pyspark.RDD.reduceByKey.html) los datos se calculan utilizando una función de reducción a partir de la clave combinando en la misma máquina las parejas con la misma clave antes de que los datos se barajen."
   ]
  },
  {
   "cell_type": "markdown",
   "metadata": {
    "application/vnd.databricks.v1+cell": {
     "cellMetadata": {},
     "inputWidgets": {},
     "nuid": "00e98de2-81f6-455f-aa31-100b0fa4351c",
     "showTitle": false,
     "tableResultSettingsMap": {},
     "title": ""
    }
   },
   "source": [
    "Vamos a comenzar con un ejemplo sencillo, contando cuantas ventas se han realizado en cada país, o lo que es lo mismo, las veces que aparece cada palabra en el fichero:"
   ]
  },
  {
   "cell_type": "code",
   "execution_count": 0,
   "metadata": {
    "application/vnd.databricks.v1+cell": {
     "cellMetadata": {},
     "inputWidgets": {},
     "nuid": "d65f74ef-5f73-4147-81db-cdc8d273e28c",
     "showTitle": false,
     "tableResultSettingsMap": {},
     "title": ""
    }
   },
   "outputs": [],
   "source": [
    "rdd = sc.textFile(\"pdi_sales_small.csv\")\n",
    "# Recogemos el país y las unidades de las ventas\n",
    "parPais1 = rdd.map(lambda x: (x.split(\";\")[-1].strip(), 1))\n",
    "# parPais1.collect()\n",
    "# [('Country', 1),\n",
    "#  ('Germany', 1),\n",
    "#  ('Germany', 1),\n",
    "#  ('Germany', 1), ..."
   ]
  },
  {
   "cell_type": "markdown",
   "metadata": {
    "application/vnd.databricks.v1+cell": {
     "cellMetadata": {},
     "inputWidgets": {},
     "nuid": "d01ed328-8db0-4617-8e12-3fba4a8ab29a",
     "showTitle": false,
     "tableResultSettingsMap": {},
     "title": ""
    }
   },
   "source": [
    "Hemos creado un RDD de pares compuesto por el nombre del país y el número uno, para luego en la fase de reducción sumar estos valores. Pero si nos fijamos, el archivo csv contiene el encabezado con los datos, el cual debemos quitar:"
   ]
  },
  {
   "cell_type": "code",
   "execution_count": 0,
   "metadata": {
    "application/vnd.databricks.v1+cell": {
     "cellMetadata": {},
     "inputWidgets": {},
     "nuid": "ef1102fa-6ec0-46be-80df-4e8590a8e590",
     "showTitle": false,
     "tableResultSettingsMap": {},
     "title": ""
    }
   },
   "outputs": [],
   "source": [
    "header = parPais1.first()\n",
    "parPais1SinHeader = parPais1.filter(lambda linea: linea != header)\n",
    "# parPais1SinHeader.collect()\n",
    "# [('Germany', 1),\n",
    "#  ('Germany', 1),\n",
    "#  ('Germany', 1), ..."
   ]
  },
  {
   "cell_type": "markdown",
   "metadata": {
    "application/vnd.databricks.v1+cell": {
     "cellMetadata": {},
     "inputWidgets": {},
     "nuid": "4472ab35-0077-4e01-8853-a5fabe7359ae",
     "showTitle": false,
     "tableResultSettingsMap": {},
     "title": ""
    }
   },
   "source": [
    "Y finalmente, ya podemos reducir por la clave:"
   ]
  },
  {
   "cell_type": "code",
   "execution_count": 0,
   "metadata": {
    "application/vnd.databricks.v1+cell": {
     "cellMetadata": {},
     "inputWidgets": {},
     "nuid": "c5909ee9-04d1-4a4e-bf4d-516641da44f7",
     "showTitle": false,
     "tableResultSettingsMap": {},
     "title": ""
    }
   },
   "outputs": [],
   "source": [
    "paisesTotal = parPais1SinHeader.reduceByKey(lambda a,b: a+b)\n",
    "# paisesTotal.collect()\n",
    "# [('Mexico', 30060), ('France', 30060), ('Germany', 30059), ('Canada', 30060)]"
   ]
  },
  {
   "cell_type": "markdown",
   "metadata": {
    "application/vnd.databricks.v1+cell": {
     "cellMetadata": {},
     "inputWidgets": {},
     "nuid": "033be23f-bafa-49d7-a824-031197fce755",
     "showTitle": false,
     "tableResultSettingsMap": {},
     "title": ""
    }
   },
   "source": [
    "> Funciones lambda en reduce\n",
    "> Al aplicar una transformación de tipo reduce, la función lambda recibirá dos parámetros, siendo el primero el valor acumulado y el segundo el valor del elemento a operar."
   ]
  },
  {
   "cell_type": "markdown",
   "metadata": {
    "application/vnd.databricks.v1+cell": {
     "cellMetadata": {},
     "inputWidgets": {},
     "nuid": "7622888a-e6f8-4376-8755-d718dcea95d5",
     "showTitle": false,
     "tableResultSettingsMap": {},
     "title": ""
    }
   },
   "source": [
    "Veamos otro ejemplo, en este caso vamos a calcular el total de unidades vendidas por país, de manera que vamos a coger el nombre del país (Country) y las unidades (Units) vendidas:"
   ]
  },
  {
   "cell_type": "code",
   "execution_count": 0,
   "metadata": {
    "application/vnd.databricks.v1+cell": {
     "cellMetadata": {},
     "inputWidgets": {},
     "nuid": "7d53cc99-1ca1-46c1-b85b-d367d7a347af",
     "showTitle": false,
     "tableResultSettingsMap": {},
     "title": ""
    }
   },
   "outputs": [
    {
     "output_type": "execute_result",
     "data": {
      "text/plain": [
       "[('Germany', 31746), ('Mexico', 31095), ('France', 31739), ('Canada', 31148)]"
      ]
     },
     "execution_count": 47,
     "metadata": {},
     "output_type": "execute_result"
    }
   ],
   "source": [
    "rdd = sc.textFile(\"pdi_sales_small.csv\")\n",
    "# Recogemos el país y las unidades de las ventas\n",
    "paisesUnidades = rdd.map(lambda x: (x.split(\";\")[-1].strip(), x.split(\";\")[3]))\n",
    "# Le quitamos el encabezado\n",
    "header = paisesUnidades.first()\n",
    "paisesUnidadesSinHeader = paisesUnidades.filter(lambda linea: linea != header)\n",
    "# Pasamos las unidades a un número entero\n",
    "paisesUnidadesInt = paisesUnidadesSinHeader.map(lambda x: (x[0], int(x[1])))\n",
    "# Reducimos por el país y sumamos las unidades\n",
    "paisesTotalUnidades = paisesUnidadesInt.reduceByKey(lambda a,b: a+b)\n",
    "paisesTotalUnidades.collect()"
   ]
  },
  {
   "cell_type": "markdown",
   "metadata": {
    "application/vnd.databricks.v1+cell": {
     "cellMetadata": {},
     "inputWidgets": {},
     "nuid": "8f1bbb07-250b-44f2-8ed3-985845d3de56",
     "showTitle": false,
     "tableResultSettingsMap": {},
     "title": ""
    }
   },
   "source": [
    "### Actividad:"
   ]
  },
  {
   "cell_type": "markdown",
   "metadata": {
    "application/vnd.databricks.v1+cell": {
     "cellMetadata": {},
     "inputWidgets": {},
     "nuid": "6facd4f8-840f-4009-beca-d3e60b420f78",
     "showTitle": false,
     "tableResultSettingsMap": {},
     "title": ""
    }
   },
   "source": [
    "Dada la siguiente lista de compra:"
   ]
  },
  {
   "cell_type": "code",
   "execution_count": 0,
   "metadata": {
    "application/vnd.databricks.v1+cell": {
     "cellMetadata": {},
     "inputWidgets": {},
     "nuid": "da48d897-15f9-4e58-85d7-766e55fc32ba",
     "showTitle": false,
     "tableResultSettingsMap": {},
     "title": ""
    }
   },
   "outputs": [],
   "source": [
    "lista = [('pan',3), ('agua',2), ('azúcar',1), ('leche',2), ('pan',1), ('cereales',3), ('agua',0.5), ('leche',2), ('filetes',5)]"
   ]
  },
  {
   "cell_type": "markdown",
   "metadata": {
    "application/vnd.databricks.v1+cell": {
     "cellMetadata": {},
     "inputWidgets": {},
     "nuid": "fd9a5fe1-5f0d-4e7a-8f7e-3d432907dfcf",
     "showTitle": false,
     "tableResultSettingsMap": {},
     "title": ""
    }
   },
   "source": [
    "**Calcula**"
   ]
  },
  {
   "cell_type": "markdown",
   "metadata": {
    "application/vnd.databricks.v1+cell": {
     "cellMetadata": {},
     "inputWidgets": {},
     "nuid": "6964ec58-fde9-4a44-b34a-bd21dbfd65cb",
     "showTitle": false,
     "tableResultSettingsMap": {},
     "title": ""
    }
   },
   "source": [
    "1. El total que se ha gastado por cada producto  \n",
    "2. Cuánto es lo máximo que se ha pagado por cada producto"
   ]
  },
  {
   "cell_type": "markdown",
   "metadata": {
    "application/vnd.databricks.v1+cell": {
     "cellMetadata": {},
     "inputWidgets": {},
     "nuid": "bcc2bcb5-f6b7-49b0-bc97-32a6f92c1a66",
     "showTitle": false,
     "tableResultSettingsMap": {},
     "title": ""
    }
   },
   "source": [
    "### GroupByKey"
   ]
  },
  {
   "cell_type": "markdown",
   "metadata": {
    "application/vnd.databricks.v1+cell": {
     "cellMetadata": {},
     "inputWidgets": {},
     "nuid": "a6050fcf-473e-4479-a146-3f0a2abfa8af",
     "showTitle": false,
     "tableResultSettingsMap": {},
     "title": ""
    }
   },
   "source": [
    "Permite agrupar los datos a partir de una clave, repartiendo los resultados (shuffle) entre todos los nodos:"
   ]
  },
  {
   "cell_type": "code",
   "execution_count": 0,
   "metadata": {
    "application/vnd.databricks.v1+cell": {
     "cellMetadata": {},
     "inputWidgets": {},
     "nuid": "5c7ac763-5acb-42ea-aec5-efc414aee699",
     "showTitle": false,
     "tableResultSettingsMap": {},
     "title": ""
    }
   },
   "outputs": [
    {
     "output_type": "execute_result",
     "data": {
      "text/plain": [
       "[('Country', <pyspark.resultiterable.ResultIterable at 0x7fe60c2b1750>),\n",
       " ('Germany', <pyspark.resultiterable.ResultIterable at 0x7fe5f0d99950>),\n",
       " ('Mexico', <pyspark.resultiterable.ResultIterable at 0x7fe5df34d410>),\n",
       " ('France', <pyspark.resultiterable.ResultIterable at 0x7fe5acb1a110>),\n",
       " ('Canada', <pyspark.resultiterable.ResultIterable at 0x7fe5a763bc50>)]"
      ]
     },
     "execution_count": 49,
     "metadata": {},
     "output_type": "execute_result"
    }
   ],
   "source": [
    "rdd = sc.textFile(\"pdi_sales_small.csv\")\n",
    "# Creamos un RDD de pares con el nombre del país como clave, y una lista con los valores\n",
    "ventas = rdd.map(lambda x: (x.split(\";\")[-1].strip(), x.split(\";\")))\n",
    "# Quitamos el primer elemento que es el encabezado del CSV\n",
    "header = paisesUnidades.first()\n",
    "paisesUnidadesSinHeader = paisesUnidades.filter(lambda linea: linea != header)\n",
    "# Agrupamos las ventas por nombre del país\n",
    "paisesAgrupados = ventas.groupByKey()\n",
    "paisesAgrupados.collect()\n",
    "# Obtendremos para cada pais, un iterable con todos sus datos:"
   ]
  },
  {
   "cell_type": "markdown",
   "metadata": {
    "application/vnd.databricks.v1+cell": {
     "cellMetadata": {},
     "inputWidgets": {},
     "nuid": "8a034f82-bc14-4864-9f8e-9344705e708b",
     "showTitle": false,
     "tableResultSettingsMap": {},
     "title": ""
    }
   },
   "source": [
    "Podemos transformar los iterables a una lista:"
   ]
  },
  {
   "cell_type": "code",
   "execution_count": 0,
   "metadata": {
    "application/vnd.databricks.v1+cell": {
     "cellMetadata": {},
     "inputWidgets": {},
     "nuid": "d683d2dc-5c65-4e29-a9e2-16002064c7c2",
     "showTitle": false,
     "tableResultSettingsMap": {},
     "title": ""
    }
   },
   "outputs": [
    {
     "output_type": "execute_result",
     "data": {
      "text/plain": [
       "[('Country', [['ProductID', 'Date', 'Zip', 'Units', 'Revenue', 'Country']]),\n",
       " ('Germany',\n",
       "  [['725', '1/15/1999', '41540          ', '1', '115.5', 'Germany'],\n",
       "   ['787', '6/6/2002', '41540          ', '1', '314.9', 'Germany'],\n",
       "   ['788', '6/6/2002', '41540          ', '1', '314.9', 'Germany'],\n",
       "   ['940', '1/15/1999', '22587          ', '1', '687.7', 'Germany'],\n",
       "   ['396', '1/15/1999', '22587          ', '1', '857.1', 'Germany'],\n",
       "   ['734', '4/10/2003', '22587          ', '1', '330.7', 'Germany'],\n",
       "   ['769', '2/15/1999', '22587          ', '1', '257.2', 'Germany'],\n",
       "   ['499', '1/15/1999', '12555          ', '1', '846.3', 'Germany'],\n",
       "   ['2254', '1/15/1999', '40217          ', '1', '57.7', 'Germany'],\n",
       "   ['31', '5/31/2002', '40217          ', '1', '761.2', 'Germany'],\n",
       "   ['475', '2/15/1999', '13583          ', '1', '970.2', 'Germany'],\n",
       "   ['510', '1/15/1999', '22337          ', '1', '837.1', 'Germany'],\n",
       "   ['499', '6/5/2002', '22337          ', '1', '883', 'Germany'],\n",
       "   ['289', '2/15/1999', '13587          ', '1', '866', 'Germany'],\n",
       "   ['702', '2/15/1999', '13587          ', '1', '286.1', 'Germany'],\n",
       "   ['910', '3/15/1999', '13587          ', '1', '414.7', 'Germany'],\n",
       "   ['901', '2/15/1999', '13587          ', '2', '818.9', 'Germany'],\n",
       "   ['550', '1/15/1999', '22177          ', '1', '404', 'Germany'],\n",
       "   ['559', '1/15/1999', '22177          ', '1', '585.6', 'Germany'],\n",
       "   ['767', '6/7/2002', '22177          ', '1', '105', 'Germany'],\n",
       "   ['1000', '4/11/2003', '13589          ', '1', '89.2', 'Germany'],\n",
       "   ['559', '1/15/1999', '21129          ', '1', '585.6', 'Germany'],\n",
       "   ['716', '4/10/2003', '21129          ', '1', '152.2', 'Germany'],\n",
       "   ['966', '4/10/2003', '21129          ', '1', '472.4', 'Germany'],\n",
       "   ['604', '1/15/1999', '42549          ', '1', '461.7', 'Germany'],\n",
       "   ['609', '1/15/1999', '42549          ', '1', '778.8', 'Germany'],\n",
       "   ['2054', '6/5/2002', '42549          ', '1', '546', 'Germany'],\n",
       "   ['2205', '6/5/2002', '42549          ', '1', '157.4', 'Germany'],\n",
       "   ['2204', '6/5/2002', '42549          ', '1', '157.4', 'Germany'],\n",
       "   ['2252', '6/5/2002', '42549          ', '1', '136.4', 'Germany'],\n",
       "   ['2253', '6/5/2002', '42549          ', '1', '136.4', 'Germany'],\n",
       "   ['574', '6/8/2002', '13595          ', '1', '869.1', 'Germany'],\n",
       "   ['676', '1/15/1999', '21107          ', '2', '1603.9', 'Germany'],\n",
       "   ['727', '1/15/1999', '22149          ', '1', '63', 'Germany'],\n",
       "   ['472', '4/10/2003', '22149          ', '1', '961.3', 'Germany'],\n",
       "   ['921', '1/15/1999', '27499          ', '1', '525', 'Germany'],\n",
       "   ['946', '5/31/2002', '27499          ', '1', '693', 'Germany'],\n",
       "   ['606', '2/15/1999', '10119          ', '1', '314.7', 'Germany'],\n",
       "   ['1066', '1/15/1999', '41066          ', '1', '296.6', 'Germany'],\n",
       "   ['1065', '1/15/1999', '41066          ', '1', '296.6', 'Germany'],\n",
       "   ['559', '6/6/2002', '41066          ', '1', '624.5', 'Germany'],\n",
       "   ['1188', '1/15/1999', '22359          ', '1', '472.4', 'Germany'],\n",
       "   ['36', '2/15/1999', '22359          ', '1', '414.8', 'Germany'],\n",
       "   ['1014', '2/15/1999', '22359          ', '1', '86.6', 'Germany'],\n",
       "   ['2331', '1/15/1999', '10243          ', '1', '535.5', 'Germany'],\n",
       "   ['532', '3/15/1999', '10243          ', '1', '556.5', 'Germany'],\n",
       "   ['604', '4/10/2003', '10243          ', '2', '989.6', 'Germany'],\n",
       "   ['647', '4/10/2003', '10243          ', '1', '922.2', 'Germany'],\n",
       "   ['1014', '5/31/2002', '10243          ', '1', '86.6', 'Germany'],\n",
       "   ['571', '6/11/2003', '10243          ', '1', '527.1', 'Germany'],\n",
       "   ['1990', '1/15/1999', '45138          ', '1', '257.2', 'Germany'],\n",
       "   ['2396', '6/10/2002', '10245          ', '1', '89.2', 'Germany'],\n",
       "   ['906', '4/12/2003', '10247          ', '1', '419.9', 'Germany'],\n",
       "   ['2240', '4/13/2003', '10247          ', '1', '89.2', 'Germany'],\n",
       "   ['2241', '4/13/2003', '10247          ', '1', '89.2', 'Germany'],\n",
       "   ['2400', '4/13/2003', '10247          ', '1', '89.2', 'Germany'],\n",
       "   ['433', '2/15/1999', '10247          ', '1', '804.3', 'Germany'],\n",
       "   ['475', '1/15/1999', '45130          ', '1', '970.2', 'Germany'],\n",
       "   ['491', '1/15/1999', '22761          ', '1', '815.3', 'Germany'],\n",
       "   ['769', '5/31/2002', '22761          ', '1', '262.4', 'Germany'],\n",
       "   ['573', '2/15/1999', '22761          ', '1', '280.6', 'Germany'],\n",
       "   ['631', '2/15/1999', '10315          ', '1', '346.2', 'Germany'],\n",
       "   ['2254', '2/15/1999', '10315          ', '1', '57.7', 'Germany'],\n",
       "   ['475', '2/15/1999', '10315          ', '1', '970.2', 'Germany'],\n",
       "   ['2255', '2/15/1999', '10315          ', '1', '57.7', 'Germany'],\n",
       "   ['604', '1/15/1999', '10315          ', '1', '461.7', 'Germany'],\n",
       "   ['565', '6/3/2002', '10315          ', '1', '881.7', 'Germany'],\n",
       "   ['573', '1/15/1999', '22767          ', '1', '280.6', 'Germany'],\n",
       "   ['580', '2/15/1999', '10318          ', '1', '734.7', 'Germany'],\n",
       "   ['609', '2/15/1999', '10318          ', '1', '778.8', 'Germany'],\n",
       "   ['396', '2/15/1999', '10318          ', '1', '857.1', 'Germany'],\n",
       "   ['550', '6/3/2002', '10318          ', '1', '429.2', 'Germany'],\n",
       "   ['604', '1/15/1999', '41469          ', '1', '461.7', 'Germany'],\n",
       "   ['491', '3/15/1999', '10319          ', '2', '1630.7', 'Germany'],\n",
       "   ['725', '5/31/2002', '10319          ', '1', '120.7', 'Germany'],\n",
       "   ['1215', '2/15/1999', '10319          ', '1', '362.2', 'Germany'],\n",
       "   ['606', '2/15/1999', '10319          ', '1', '314.7', 'Germany'],\n",
       "   ['609', '1/15/1999', '22111          ', '1', '778.8', 'Germany'],\n",
       "   ['445', '6/6/2002', '22111          ', '1', '860.5', 'Germany'],\n",
       "   ['676', '2/15/1999', '22111          ', '1', '801.9', 'Germany'],\n",
       "   ['1975', '2/15/1999', '10365          ', '1', '52.5', 'Germany'],\n",
       "   ['1081', '2/15/1999', '10365          ', '1', '225.7', 'Germany'],\n",
       "   ['964', '3/15/1999', '10365          ', '1', '346.4', 'Germany'],\n",
       "   ['2056', '3/15/1999', '10365          ', '1', '320.2', 'Germany'],\n",
       "   ['533', '6/7/2002', '10365          ', '1', '524.7', 'Germany'],\n",
       "   ['683', '1/15/1999', '10365          ', '1', '788', 'Germany'],\n",
       "   ['396', '2/15/1999', '10365          ', '1', '857.1', 'Germany'],\n",
       "   ['499', '2/15/1999', '10367          ', '1', '851.5', 'Germany'],\n",
       "   ['676', '3/15/1999', '10367          ', '1', '801.9', 'Germany'],\n",
       "   ['1017', '6/8/2002', '10367          ', '1', '262.4', 'Germany'],\n",
       "   ['2407', '2/15/1999', '10367          ', '1', '73.5', 'Germany'],\n",
       "   ['396', '2/15/1999', '10367          ', '1', '857.1', 'Germany'],\n",
       "   ['574', '5/31/2002', '40591          ', '1', '869.1', 'Germany'],\n",
       "   ['725', '5/31/2002', '40591          ', '1', '120.7', 'Germany'],\n",
       "   ['1116', '2/15/1999', '40591          ', '1', '251.9', 'Germany'],\n",
       "   ['396', '2/15/1999', '40591          ', '1', '857.1', 'Germany'],\n",
       "   ['475', '4/12/2003', '10407          ', '1', '1037.4', 'Germany'],\n",
       "   ['2375', '4/13/2003', '10407          ', '1', '698.2', 'Germany'],\n",
       "   ['1911', '3/15/1999', '10407          ', '1', '244.1', 'Germany'],\n",
       "   ['2094', '3/15/1999', '10407          ', '1', '433.1', 'Germany'],\n",
       "   ['906', '5/31/2002', '10407          ', '1', '419.9', 'Germany'],\n",
       "   ['691', '6/3/2002', '10407          ', '1', '351.5', 'Germany'],\n",
       "   ['475', '2/15/1999', '10407          ', '1', '970.2', 'Germany'],\n",
       "   ['2287', '2/15/1999', '10407          ', '1', '840', 'Germany'],\n",
       "   ['513', '2/15/1999', '10407          ', '1', '451.4', 'Germany'],\n",
       "   ['580', '2/15/1999', '10407          ', '1', '734.7', 'Germany'],\n",
       "   ['739', '5/31/2002', '41470          ', '1', '173.2', 'Germany'],\n",
       "   ['826', '5/31/2002', '10409          ', '1', '945', 'Germany'],\n",
       "   ['609', '6/8/2002', '10409          ', '1', '829.2', 'Germany'],\n",
       "   ['580', '2/15/1999', '10409          ', '1', '734.7', 'Germany'],\n",
       "   ['475', '6/3/2002', '10409          ', '1', '1007.2', 'Germany'],\n",
       "   ['767', '5/31/2002', '41169          ', '1', '105', 'Germany'],\n",
       "   ['981', '6/6/2002', '41169          ', '1', '157.4', 'Germany'],\n",
       "   ['475', '2/15/1999', '10435          ', '1', '970.2', 'Germany'],\n",
       "   ['910', '3/15/1999', '10435          ', '2', '829.4', 'Germany'],\n",
       "   ['559', '4/11/2003', '10435          ', '1', '643.4', 'Germany'],\n",
       "   ['491', '1/15/1999', '10435          ', '1', '815.3', 'Germany'],\n",
       "   ['758', '5/31/2002', '10435          ', '1', '84', 'Germany'],\n",
       "   ['967', '5/31/2002', '10435          ', '1', '672', 'Germany'],\n",
       "   ['1157', '3/15/1999', '10435          ', '1', '377.9', 'Germany'],\n",
       "   ['645', '3/15/1999', '10435          ', '2', '1493.1', 'Germany'],\n",
       "   ['475', '6/7/2002', '10435          ', '1', '1007.2', 'Germany'],\n",
       "   ['475', '1/15/1999', '10435          ', '1', '970.2', 'Germany'],\n",
       "   ['862', '4/10/2003', '10435          ', '2', '608.9', 'Germany'],\n",
       "   ['488', '4/11/2003', '10435          ', '1', '1098.6', 'Germany'],\n",
       "   ['785', '5/31/2002', '10435          ', '1', '68.2', 'Germany'],\n",
       "   ['499', '2/15/1999', '10435          ', '2', '1692.6', 'Germany'],\n",
       "   ['604', '2/15/1999', '10435          ', '1', '461.7', 'Germany'],\n",
       "   ['826', '5/31/2002', '40233          ', '1', '945', 'Germany'],\n",
       "   ['396', '1/15/1999', '10551          ', '1', '857.1', 'Germany'],\n",
       "   ['1903', '6/5/2002', '10551          ', '1', '766.5', 'Germany'],\n",
       "   ['1006', '5/31/2002', '41065          ', '1', '89.2', 'Germany'],\n",
       "   ['2400', '6/5/2002', '41065          ', '1', '94.5', 'Germany'],\n",
       "   ['606', '6/5/2002', '41065          ', '1', '323.1', 'Germany'],\n",
       "   ['475', '2/15/1999', '41065          ', '1', '970.2', 'Germany'],\n",
       "   ['606', '2/15/1999', '10553          ', '1', '314.7', 'Germany'],\n",
       "   ['2046', '5/31/2002', '22041          ', '1', '433.1', 'Germany'],\n",
       "   ['2071', '5/31/2002', '22417          ', '1', '346.4', 'Germany'],\n",
       "   ['2074', '5/31/2002', '22417          ', '1', '335.9', 'Germany'],\n",
       "   ['599', '2/15/1999', '22417          ', '1', '753.6', 'Germany'],\n",
       "   ['2331', '5/31/2002', '10557          ', '1', '540.7', 'Germany'],\n",
       "   ['1000', '6/8/2002', '10557          ', '1', '89.2', 'Germany'],\n",
       "   ['426', '6/10/2002', '10557          ', '1', '843.1', 'Germany'],\n",
       "   ['94', '6/10/2002', '10557          ', '1', '892', 'Germany'],\n",
       "   ['1204', '3/15/1999', '10559          ', '1', '419.9', 'Germany'],\n",
       "   ['2353', '5/31/2002', '40597          ', '1', '414.7', 'Germany'],\n",
       "   ['604', '6/7/2002', '40597          ', '1', '480.6', 'Germany'],\n",
       "   ['604', '2/15/1999', '40597          ', '1', '461.7', 'Germany'],\n",
       "   ['2074', '5/31/2002', '40597          ', '1', '335.9', 'Germany'],\n",
       "   ['663', '2/15/1999', '40597          ', '1', '765.5', 'Germany'],\n",
       "   ['533', '6/1/2002', '10585          ', '1', '524.7', 'Germany'],\n",
       "   ['596', '6/3/2002', '10585          ', '1', '776.7', 'Germany'],\n",
       "   ['396', '3/15/1999', '10585          ', '1', '857.1', 'Germany'],\n",
       "   ['658', '1/15/1999', '10585          ', '1', '902.7', 'Germany'],\n",
       "   ['1203', '3/15/1999', '10585          ', '1', '314.9', 'Germany'],\n",
       "   ['922', '3/15/1999', '10585          ', '1', '472.4', 'Germany'],\n",
       "   ['433', '6/3/2002', '10585          ', '1', '851.5', 'Germany'],\n",
       "   ['671', '6/5/2002', '10585          ', '1', '892.2', 'Germany'],\n",
       "   ['671', '6/11/2003', '10585          ', '1', '944.7', 'Germany'],\n",
       "   ['2373', '5/31/2002', '41464          ', '1', '588', 'Germany'],\n",
       "   ['491', '3/15/1999', '10587          ', '1', '815.3', 'Germany'],\n",
       "   ['596', '1/15/1999', '10587          ', '1', '746.5', 'Germany'],\n",
       "   ['396', '2/15/1999', '10587          ', '1', '857.1', 'Germany'],\n",
       "   ['599', '2/15/1999', '10587          ', '1', '753.6', 'Germany'],\n",
       "   ['488', '6/4/2002', '10587          ', '1', '1007.2', 'Germany'],\n",
       "   ['133', '6/5/2002', '10587          ', '1', '640', 'Germany'],\n",
       "   ['604', '2/15/1999', '10587          ', '1', '461.7', 'Germany'],\n",
       "   ['499', '2/15/1999', '10587          ', '1', '846.3', 'Germany'],\n",
       "   ['573', '5/31/2002', '40212          ', '1', '299', 'Germany'],\n",
       "   ['530', '2/15/1999', '40212          ', '1', '619.5', 'Germany'],\n",
       "   ['725', '5/31/2002', '22305          ', '1', '120.7', 'Germany'],\n",
       "   ['1383', '6/5/2002', '22305          ', '1', '341.1', 'Germany'],\n",
       "   ['1384', '6/5/2002', '22305          ', '1', '341.1', 'Germany'],\n",
       "   ['638', '4/9/2003', '41063          ', '1', '1008.8', 'Germany'],\n",
       "   ['786', '4/9/2003', '40764          ', '1', '57.7', 'Germany'],\n",
       "   ['1191', '4/11/2003', '10627          ', '1', '267.7', 'Germany'],\n",
       "   ['1063', '3/15/1999', '10627          ', '1', '233.6', 'Germany'],\n",
       "   ['2373', '2/15/1999', '10627          ', '1', '551.2', 'Germany'],\n",
       "   ['609', '2/15/1999', '10627          ', '1', '778.8', 'Germany'],\n",
       "   ['2388', '3/15/1999', '10629          ', '1', '309.7', 'Germany'],\n",
       "   ['2234', '3/15/1999', '10629          ', '1', '65.6', 'Germany'],\n",
       "   ['910', '4/10/2003', '42369          ', '1', '430.4', 'Germany'],\n",
       "   ['606', '6/5/2002', '42369          ', '1', '323.1', 'Germany'],\n",
       "   ['604', '2/15/1999', '42369          ', '1', '461.7', 'Germany'],\n",
       "   ['2199', '4/10/2003', '22297          ', '1', '188.9', 'Germany'],\n",
       "   ['443', '4/10/2003', '22297          ', '1', '851.3', 'Germany'],\n",
       "   ['400', '6/5/2002', '22297          ', '1', '734.7', 'Germany'],\n",
       "   ['475', '3/15/1999', '10711          ', '1', '970.2', 'Germany'],\n",
       "   ['760', '4/11/2003', '10713          ', '1', '146.9', 'Germany'],\n",
       "   ['759', '4/11/2003', '10713          ', '1', '146.9', 'Germany'],\n",
       "   ['502', '4/10/2003', '22115          ', '1', '1105.9', 'Germany'],\n",
       "   ['599', '2/15/1999', '10715          ', '1', '753.6', 'Germany'],\n",
       "   ['669', '4/10/2003', '22087          ', '1', '1364.7', 'Germany'],\n",
       "   ['103', '6/5/2002', '22087          ', '1', '855.2', 'Germany'],\n",
       "   ['573', '2/15/1999', '22087          ', '1', '280.6', 'Germany'],\n",
       "   ['838', '3/15/1999', '10717          ', '1', '934.5', 'Germany'],\n",
       "   ['1227', '3/15/1999', '10717          ', '1', '314.9', 'Germany'],\n",
       "   ['551', '4/12/2003', '10717          ', '1', '922.2', 'Germany'],\n",
       "   ['396', '1/15/1999', '10717          ', '1', '857.1', 'Germany'],\n",
       "   ['604', '6/7/2002', '10717          ', '1', '480.6', 'Germany'],\n",
       "   ['2045', '2/15/1999', '10719          ', '1', '409.4', 'Germany'],\n",
       "   ['464', '6/7/2002', '10719          ', '1', '866.2', 'Germany'],\n",
       "   ['433', '2/15/1999', '10777          ', '1', '804.3', 'Germany'],\n",
       "   ['990', '3/15/1999', '10777          ', '1', '472.4', 'Germany'],\n",
       "   ['606', '6/4/2002', '10777          ', '1', '323.1', 'Germany'],\n",
       "   ['797', '4/10/2003', '22609          ', '1', '309.7', 'Germany'],\n",
       "   ['1066', '2/15/1999', '22609          ', '1', '296.6', 'Germany'],\n",
       "   ['727', '1/15/1999', '45143          ', '1', '63', 'Germany'],\n",
       "   ['2407', '2/15/1999', '45143          ', '1', '73.5', 'Germany'],\n",
       "   ['491', '2/15/1999', '45143          ', '1', '815.3', 'Germany'],\n",
       "   ['740', '1/15/1999', '41517          ', '1', '170.6', 'Germany'],\n",
       "   ['726', '6/6/2002', '41517          ', '1', '120.7', 'Germany'],\n",
       "   ['725', '6/6/2002', '41517          ', '1', '120.7', 'Germany'],\n",
       "   ['609', '2/15/1999', '10785          ', '1', '778.8', 'Germany'],\n",
       "   ['1066', '1/15/1999', '41749          ', '1', '296.6', 'Germany'],\n",
       "   ['2235', '6/6/2002', '41749          ', '1', '70.8', 'Germany'],\n",
       "   ['2234', '6/6/2002', '41749          ', '1', '70.8', 'Germany'],\n",
       "   ['396', '4/12/2003', '10787          ', '1', '913.8', 'Germany'],\n",
       "   ['683', '2/15/1999', '42389          ', '1', '788', 'Germany'],\n",
       "   ['530', '3/15/1999', '10789          ', '1', '619.5', 'Germany'],\n",
       "   ['1157', '3/15/1999', '10789          ', '1', '377.9', 'Germany'],\n",
       "   ['797', '2/15/1999', '21149          ', '1', '301.8', 'Germany'],\n",
       "   ['758', '3/15/1999', '10823          ', '1', '84', 'Germany'],\n",
       "   ['1948', '3/15/1999', '10823          ', '1', '293.9', 'Germany'],\n",
       "   ['1836', '4/10/2003', '10823          ', '1', '146.9', 'Germany'],\n",
       "   ['1014', '5/31/2002', '10823          ', '1', '86.6', 'Germany'],\n",
       "   ['663', '2/15/1999', '10823          ', '1', '765.5', 'Germany'],\n",
       "   ['330', '2/15/1999', '10823          ', '1', '577.2', 'Germany'],\n",
       "   ['467', '6/5/2002', '21073          ', '1', '900.6', 'Germany'],\n",
       "   ['396', '2/15/1999', '10827          ', '1', '857.1', 'Germany'],\n",
       "   ['513', '3/15/1999', '10829          ', '1', '451.4', 'Germany'],\n",
       "   ['2331', '2/15/1999', '10829          ', '1', '535.5', 'Germany'],\n",
       "   ['1191', '3/15/1999', '10967          ', '1', '257.2', 'Germany'],\n",
       "   ['2387', '4/13/2003', '10967          ', '1', '493.4', 'Germany'],\n",
       "   ['2253', '5/31/2002', '10967          ', '1', '136.4', 'Germany'],\n",
       "   ['2252', '5/31/2002', '10967          ', '1', '136.4', 'Germany'],\n",
       "   ['2145', '6/5/2002', '22559          ', '1', '383.2', 'Germany'],\n",
       "   ['687', '6/7/2002', '22559          ', '1', '456.5', 'Germany'],\n",
       "   ['2388', '6/10/2002', '12043          ', '1', '309.7', 'Germany'],\n",
       "   ['687', '2/15/1999', '12043          ', '1', '446', 'Germany'],\n",
       "   ['989', '2/15/1999', '12043          ', '1', '467.2', 'Germany'],\n",
       "   ['532', '6/5/2002', '45145          ', '1', '577.2', 'Germany'],\n",
       "   ['683', '6/5/2002', '45145          ', '1', '839.7', 'Germany'],\n",
       "   ['981', '6/6/2002', '45145          ', '1', '157.4', 'Germany'],\n",
       "   ['574', '6/5/2002', '22395          ', '1', '869.1', 'Germany'],\n",
       "   ['622', '6/6/2002', '22395          ', '1', '816.4', 'Germany'],\n",
       "   ['1478', '2/15/1999', '22395          ', '1', '317.5', 'Germany'],\n",
       "   ['609', '6/5/2002', '22045          ', '1', '829.2', 'Germany'],\n",
       "   ['647', '6/5/2002', '45147          ', '1', '900.6', 'Germany'],\n",
       "   ['676', '6/5/2002', '45147          ', '1', '837.4', 'Germany'],\n",
       "   ['2112', '6/5/2002', '22547          ', '1', '572.2', 'Germany'],\n",
       "   ['2053', '5/31/2002', '22547          ', '1', '325.4', 'Germany'],\n",
       "   ['396', '2/15/1999', '12101          ', '1', '857.1', 'Germany'],\n",
       "   ['797', '2/15/1999', '12101          ', '1', '301.8', 'Germany'],\n",
       "   ['642', '4/11/2003', '12101          ', '1', '903.8', 'Germany'],\n",
       "   ['2112', '6/5/2002', '41179          ', '1', '572.2', 'Germany'],\n",
       "   ['559', '2/15/1999', '12103          ', '1', '585.6', 'Germany'],\n",
       "   ['2270', '5/31/2002', '12103          ', '1', '314.9', 'Germany'],\n",
       "   ['687', '3/15/1999', '12103          ', '1', '446', 'Germany'],\n",
       "   ['2359', '6/5/2002', '42657          ', '1', '430.4', 'Germany'],\n",
       "   ['609', '2/15/1999', '12107          ', '1', '778.8', 'Germany'],\n",
       "   ['2400', '6/5/2002', '42651          ', '1', '94.5', 'Germany'],\n",
       "   ['573', '2/15/1999', '12109          ', '1', '280.6', 'Germany'],\n",
       "   ['992', '5/31/2002', '12157          ', '1', '278.2', 'Germany'],\n",
       "   ['785', '6/6/2002', '22527          ', '1', '68.2', 'Germany'],\n",
       "   ['786', '6/6/2002', '22527          ', '1', '68.2', 'Germany'],\n",
       "   ['786', '6/7/2002', '22527          ', '1', '68.2', 'Germany'],\n",
       "   ['475', '2/15/1999', '12159          ', '1', '970.2', 'Germany'],\n",
       "   ['500', '4/12/2003', '12159          ', '1', '892.2', 'Germany'],\n",
       "   ['2083', '3/15/1999', '12159          ', '1', '309.7', 'Germany'],\n",
       "   ['559', '3/15/1999', '12159          ', '1', '585.6', 'Germany'],\n",
       "   ['2074', '2/15/1999', '12159          ', '1', '328.1', 'Germany'],\n",
       "   ['1836', '6/6/2002', '22089          ', '1', '146.9', 'Germany'],\n",
       "   ['1182', '1/15/1999', '12163          ', '1', '157.4', 'Germany'],\n",
       "   ['727', '1/15/1999', '12165          ', '1', '63', 'Germany'],\n",
       "   ['726', '4/10/2003', '12165          ', '1', '110.2', 'Germany'],\n",
       "   ['761', '4/10/2003', '12165          ', '1', '173.2', 'Germany'],\n",
       "   ['512', '6/6/2002', '42107          ', '1', '230.7', 'Germany'],\n",
       "   ['396', '2/15/1999', '42107          ', '1', '857.1', 'Germany'],\n",
       "   ['2359', '4/13/2003', '12169          ', '1', '430.4', 'Germany'],\n",
       "   ['2396', '6/6/2002', '42115          ', '1', '89.2', 'Germany'],\n",
       "   ['467', '6/6/2002', '41516          ', '1', '900.6', 'Germany'],\n",
       "   ['580', '2/15/1999', '41516          ', '1', '734.7', 'Germany'],\n",
       "   ['573', '2/15/1999', '41516          ', '1', '280.6', 'Germany'],\n",
       "   ['967', '4/11/2003', '12207          ', '1', '698.2', 'Germany'],\n",
       "   ['726', '5/31/2002', '12207          ', '1', '115.5', 'Germany'],\n",
       "   ['989', '3/15/1999', '12207          ', '1', '451.4', 'Germany'],\n",
       "   ['2252', '6/10/2002', '12207          ', '1', '136.4', 'Germany'],\n",
       "   ['2253', '6/10/2002', '12207          ', '1', '136.4', 'Germany'],\n",
       "   ['910', '3/15/1999', '12207          ', '1', '414.7', 'Germany'],\n",
       "   ['2045', '4/10/2003', '12207          ', '1', '419.9', 'Germany'],\n",
       "   ['550', '6/6/2002', '22393          ', '1', '429.2', 'Germany'],\n",
       "   ['676', '2/15/1999', '22393          ', '1', '801.9', 'Germany'],\n",
       "   ['433', '4/14/2003', '12209          ', '1', '880.2', 'Germany'],\n",
       "   ['966', '6/6/2002', '40468          ', '1', '488.2', 'Germany'],\n",
       "   ['1948', '3/15/1999', '12247          ', '1', '296.6', 'Germany'],\n",
       "   ['1948', '2/15/1999', '12249          ', '1', '296.6', 'Germany'],\n",
       "   ['606', '3/15/1999', '12249          ', '1', '314.7', 'Germany'],\n",
       "   ['2016', '5/31/2002', '12249          ', '1', '304.4', 'Germany'],\n",
       "   ['671', '6/7/2002', '12249          ', '1', '892.2', 'Germany'],\n",
       "   ['550', '4/11/2003', '12249          ', '1', '433.4', 'Germany'],\n",
       "   ['631', '2/15/1999', '12277          ', '1', '346.2', 'Germany'],\n",
       "   ['2050', '5/31/2002', '12277          ', '1', '503.9', 'Germany'],\n",
       "   ['597', '2/15/1999', '12277          ', '1', '892.2', 'Germany'],\n",
       "   ['609', '2/15/1999', '12279          ', '1', '778.8', 'Germany'],\n",
       "   ['1948', '3/15/1999', '12279          ', '1', '296.6', 'Germany'],\n",
       "   ['1974', '3/15/1999', '12279          ', '1', '52.5', 'Germany'],\n",
       "   ['964', '6/7/2002', '12305          ', '1', '330.7', 'Germany'],\n",
       "   ['1131', '3/15/1999', '12305          ', '1', '419.9', 'Germany'],\n",
       "   ['681', '6/6/2002', '41366          ', '1', '682.2', 'Germany'],\n",
       "   ['475', '6/8/2002', '12307          ', '1', '1007.2', 'Germany'],\n",
       "   ['838', '3/15/1999', '12309          ', '1', '934.5', 'Germany'],\n",
       "   ['2016', '3/15/1999', '12351          ', '1', '299.2', 'Germany'],\n",
       "   ['2332', '5/31/2002', '12351          ', '1', '367.4', 'Germany'],\n",
       "   ['2094', '3/15/1999', '12351          ', '1', '433.1', 'Germany'],\n",
       "   ['475', '3/15/1999', '12351          ', '1', '970.2', 'Germany'],\n",
       "   ['606', '6/3/2002', '12351          ', '1', '317.9', 'Germany'],\n",
       "   ['1000', '6/7/2002', '22085          ', '1', '89.2', 'Germany'],\n",
       "   ['2056', '2/15/1999', '12353          ', '1', '325.4', 'Germany'],\n",
       "   ['2400', '6/7/2002', '42279          ', '1', '94.5', 'Germany'],\n",
       "   ['94', '6/7/2002', '40229          ', '1', '892', 'Germany'],\n",
       "   ['2284', '3/15/1999', '12357          ', '1', '293.9', 'Germany'],\n",
       "   ['725', '3/15/1999', '12357          ', '1', '115.5', 'Germany'],\n",
       "   ['472', '4/14/2003', '12357          ', '1', '961.3', 'Germany'],\n",
       "   ['1894', '1/15/1999', '12359          ', '1', '682.2', 'Germany'],\n",
       "   ['2371', '3/15/1999', '12359          ', '1', '551.2', 'Germany'],\n",
       "   ['976', '6/7/2002', '12359          ', '1', '314.9', 'Germany'],\n",
       "   ['1061', '6/3/2002', '12359          ', '1', '149.6', 'Germany'],\n",
       "   ['1062', '6/3/2002', '12359          ', '1', '149.6', 'Germany'],\n",
       "   ['195', '2/15/1999', '12359          ', '1', '750.2', 'Germany'],\n",
       "   ['491', '2/15/1999', '12359          ', '1', '815.3', 'Germany'],\n",
       "   ['609', '2/15/1999', '12435          ', '1', '778.8', 'Germany'],\n",
       "   ['1926', '5/31/2002', '12439          ', '1', '99.7', 'Germany'],\n",
       "   ['1960', '1/15/1999', '12439          ', '1', '97.1', 'Germany'],\n",
       "   ['1927', '5/31/2002', '12439          ', '1', '99.7', 'Germany'],\n",
       "   ['1053', '1/15/1999', '12439          ', '1', '251.9', 'Germany'],\n",
       "   ['1185', '2/15/1999', '22143          ', '1', '419.9', 'Germany'],\n",
       "   ['2275', '6/11/2003', '12489          ', '1', '330.7', 'Germany'],\n",
       "   ['550', '6/10/2002', '12526          ', '1', '429.2', 'Germany'],\n",
       "   ['2407', '4/10/2003', '12526          ', '1', '81.3', 'Germany'],\n",
       "   ['2287', '2/15/1999', '12527          ', '1', '840', 'Germany'],\n",
       "   ['609', '3/15/1999', '12589          ', '1', '778.8', 'Germany'],\n",
       "   ['687', '2/15/1999', '12619          ', '1', '446', 'Germany'],\n",
       "   ['609', '2/15/1999', '42283          ', '1', '778.8', 'Germany'],\n",
       "   ['631', '2/15/1999', '40880          ', '2', '692.5', 'Germany'],\n",
       "   ['768', '2/15/1999', '12627          ', '1', '105', 'Germany'],\n",
       "   ['1116', '3/15/1999', '12627          ', '1', '251.9', 'Germany'],\n",
       "   ['2045', '3/15/1999', '12627          ', '1', '409.4', 'Germany'],\n",
       "   ['2074', '3/15/1999', '12627          ', '1', '328.1', 'Germany'],\n",
       "   ['491', '1/15/1999', '12627          ', '1', '815.3', 'Germany'],\n",
       "   ['2277', '5/31/2002', '12627          ', '1', '262.4', 'Germany'],\n",
       "   ['816', '6/7/2002', '12627          ', '1', '330.7', 'Germany'],\n",
       "   ['1201', '6/7/2002', '12627          ', '1', '577.5', 'Germany'],\n",
       "   ['757', '2/15/1999', '12627          ', '1', '84', 'Germany'],\n",
       "   ['551', '4/11/2003', '12627          ', '1', '922.2', 'Germany'],\n",
       "   ['635', '6/3/2002', '12627          ', '2', '1716.2', 'Germany'],\n",
       "   ['770', '2/15/1999', '12629          ', '1', '257.2', 'Germany'],\n",
       "   ['1957', '3/15/1999', '12629          ', '1', '153.8', 'Germany'],\n",
       "   ['1916', '5/31/2002', '12629          ', '1', '286.1', 'Germany'],\n",
       "   ['770', '5/31/2002', '12629          ', '1', '262.4', 'Germany'],\n",
       "   ['609', '1/15/1999', '12629          ', '1', '778.8', 'Germany'],\n",
       "   ['396', '2/15/1999', '12629          ', '1', '857.1', 'Germany'],\n",
       "   ['676', '6/4/2002', '12629          ', '1', '837.4', 'Germany'],\n",
       "   ['491', '2/15/1999', '12629          ', '1', '815.3', 'Germany'],\n",
       "   ['606', '2/15/1999', '12629          ', '1', '314.7', 'Germany'],\n",
       "   ['609', '2/15/1999', '12629          ', '1', '778.8', 'Germany'],\n",
       "   ['952', '6/11/2003', '12629          ', '1', '262.4', 'Germany'],\n",
       "   ['676', '2/15/1999', '40723          ', '1', '801.9', 'Germany'],\n",
       "   ['676', '2/15/1999', '40883          ', '1', '801.9', 'Germany'],\n",
       "   ['758', '2/15/1999', '12681          ', '1', '84', 'Germany'],\n",
       "   ['2252', '6/3/2002', '12681          ', '1', '136.4', 'Germany'],\n",
       "   ['631', '1/15/1999', '12681          ', '1', '346.2', 'Germany'],\n",
       "   ['2252', '5/31/2002', '12681          ', '1', '136.4', 'Germany'],\n",
       "   ['681', '3/15/1999', '12681          ', '1', '629.7', 'Germany'],\n",
       "   ['757', '2/15/1999', '12681          ', '1', '84', 'Germany'],\n",
       "   ['2253', '6/3/2002', '12681          ', '1', '136.4', 'Germany'],\n",
       "   ['645', '2/15/1999', '12681          ', '2', '1493.1', 'Germany'],\n",
       "   ['769', '2/15/1999', '41239          ', '1', '257.2', 'Germany'],\n",
       "   ['770', '2/15/1999', '41239          ', '1', '257.2', 'Germany'],\n",
       "   ['797', '2/15/1999', '41352          ', '1', '301.8', 'Germany'],\n",
       "   ['1230', '5/31/2002', '42799          ', '1', '525', 'Germany'],\n",
       "   ['2400', '5/31/2002', '12687          ', '1', '94.5', 'Germany'],\n",
       "   ['1915', '5/31/2002', '47804          ', '1', '467.2', 'Germany'],\n",
       "   ['687', '2/15/1999', '47804          ', '1', '446', 'Germany'],\n",
       "   ['400', '2/15/1999', '47804          ', '1', '683.8', 'Germany'],\n",
       "   ['676', '2/15/1999', '47804          ', '1', '801.9', 'Germany'],\n",
       "   ['2400', '5/31/2002', '47804          ', '1', '94.5', 'Germany'],\n",
       "   ['396', '5/31/2002', '47804          ', '1', '892.2', 'Germany'],\n",
       "   ['1000', '5/31/2002', '47804          ', '1', '89.2', 'Germany'],\n",
       "   ['2331', '3/15/1999', '47804          ', '1', '535.5', 'Germany'],\n",
       "   ['604', '2/15/1999', '47804          ', '1', '461.7', 'Germany'],\n",
       "   ['2410', '3/15/1999', '12689          ', '1', '99.7', 'Germany'],\n",
       "   ['2252', '5/31/2002', '46485          ', '1', '136.4', 'Germany'],\n",
       "   ['989', '3/15/1999', '46485          ', '1', '467.2', 'Germany'],\n",
       "   ['609', '3/15/1999', '46485          ', '1', '778.8', 'Germany'],\n",
       "   ['631', '1/15/1999', '46485          ', '1', '346.2', 'Germany'],\n",
       "   ['596', '6/7/2002', '46485          ', '1', '776.7', 'Germany'],\n",
       "   ['597', '2/15/1999', '46485          ', '1', '892.2', 'Germany'],\n",
       "   ['2352', '2/15/1999', '46485          ', '1', '367.4', 'Germany'],\n",
       "   ['663', '2/15/1999', '46485          ', '1', '765.5', 'Germany'],\n",
       "   ['559', '2/15/1999', '13051          ', '1', '585.6', 'Germany'],\n",
       "   ['2262', '5/31/2002', '45359          ', '1', '299.2', 'Germany'],\n",
       "   ['683', '2/15/1999', '45359          ', '1', '788', 'Germany'],\n",
       "   ['1009', '4/12/2003', '45359          ', '1', '99.7', 'Germany'],\n",
       "   ['2263', '5/31/2002', '45359          ', '1', '299.2', 'Germany'],\n",
       "   ['2277', '5/31/2002', '45359          ', '3', '929.1', 'Germany'],\n",
       "   ['676', '1/15/1999', '45359          ', '1', '801.9', 'Germany'],\n",
       "   ['475', '2/15/1999', '45359          ', '1', '970.2', 'Germany'],\n",
       "   ['488', '2/15/1999', '45359          ', '1', '970.2', 'Germany'],\n",
       "   ['761', '6/11/2003', '45359          ', '1', '173.2', 'Germany'],\n",
       "   ['2280', '5/31/2002', '50767          ', '1', '170.6', 'Germany'],\n",
       "   ['606', '2/15/1999', '50767          ', '1', '314.7', 'Germany'],\n",
       "   ['609', '2/15/1999', '50767          ', '1', '778.8', 'Germany'],\n",
       "   ['676', '2/15/1999', '50767          ', '1', '801.9', 'Germany'],\n",
       "   ['2396', '5/31/2002', '50767          ', '1', '89.2', 'Germany'],\n",
       "   ['2047', '3/15/1999', '50767          ', '1', '377.9', 'Germany'],\n",
       "   ['2373', '5/31/2002', '50767          ', '1', '556.5', 'Germany'],\n",
       "   ['910', '5/31/2002', '50767          ', '1', '430.4', 'Germany'],\n",
       "   ['2359', '5/31/2002', '50767          ', '1', '430.4', 'Germany'],\n",
       "   ['609', '3/15/1999', '50767          ', '1', '778.8', 'Germany'],\n",
       "   ['2396', '6/7/2002', '50767          ', '1', '89.2', 'Germany'],\n",
       "   ['2235', '5/31/2002', '13059          ', '1', '70.8', 'Germany'],\n",
       "   ['2255', '5/31/2002', '13059          ', '1', '60.3', 'Germany'],\n",
       "   ['663', '2/15/1999', '47051          ', '1', '765.5', 'Germany'],\n",
       "   ['609', '4/11/2003', '47051          ', '1', '850.2', 'Germany'],\n",
       "   ['2352', '3/15/1999', '47051          ', '1', '388.4', 'Germany'],\n",
       "   ['488', '3/15/1999', '47051          ', '1', '970.2', 'Germany'],\n",
       "   ['1000', '6/10/2003', '47051          ', '1', '89.2', 'Germany'],\n",
       "   ['676', '2/15/1999', '52159          ', '1', '801.9', 'Germany'],\n",
       "   ['769', '2/15/1999', '52159          ', '1', '257.2', 'Germany'],\n",
       "   ['2064', '3/15/1999', '52159          ', '1', '488.2', 'Germany'],\n",
       "   ['396', '1/15/1999', '52159          ', '1', '857.1', 'Germany'],\n",
       "   ['826', '5/31/2002', '52159          ', '1', '945', 'Germany'],\n",
       "   ['981', '6/7/2002', '52159          ', '1', '157.4', 'Germany'],\n",
       "   ['2332', '6/7/2002', '52159          ', '1', '367.4', 'Germany'],\n",
       "   ['940', '6/8/2002', '52159          ', '1', '687.7', 'Germany'],\n",
       "   ['2282', '1/15/1999', '52159          ', '1', '304.4', 'Germany'],\n",
       "   ['609', '2/15/1999', '52159          ', '1', '778.8', 'Germany'],\n",
       "   ['551', '4/10/2003', '52159          ', '1', '922.2', 'Germany'],\n",
       "   ['1131', '6/4/2002', '52159          ', '1', '430.4', 'Germany'],\n",
       "   ['599', '2/15/1999', '52159          ', '1', '753.6', 'Germany'],\n",
       "   ['631', '2/15/1999', '52159          ', '2', '692.5', 'Germany'],\n",
       "   ['1990', '2/15/1999', '52159          ', '1', '257.2', 'Germany'],\n",
       "   ['770', '2/15/1999', '52159          ', '1', '257.2', 'Germany'],\n",
       "   ['2277', '2/15/1999', '52159          ', '1', '251.9', 'Germany'],\n",
       "   ['740', '6/7/2002', '13089          ', '1', '173.2', 'Germany'],\n",
       "   ['739', '6/7/2002', '13089          ', '1', '173.2', 'Germany'],\n",
       "   ['1065', '6/3/2002', '13089          ', '1', '304.4', 'Germany'],\n",
       "   ['1066', '6/3/2002', '13089          ', '1', '304.4', 'Germany'],\n",
       "   ['1086', '6/4/2002', '13089          ', '1', '84', 'Germany'],\n",
       "   ['1085', '6/4/2002', '13089          ', '1', '84', 'Germany'],\n",
       "   ['767', '2/15/1999', '46145          ', '1', '105', 'Germany'],\n",
       "   ['1045', '3/15/1999', '46145          ', '1', '207.3', 'Germany'],\n",
       "   ['768', '2/15/1999', '46145          ', '1', '105', 'Germany'],\n",
       "   ['826', '4/11/2003', '13129          ', '1', '918.7', 'Germany'],\n",
       "   ['676', '1/15/1999', '13129          ', '1', '801.9', 'Germany'],\n",
       "   ['1065', '1/15/1999', '13129          ', '1', '296.6', 'Germany'],\n",
       "   ['464', '6/3/2002', '13129          ', '1', '866.2', 'Germany'],\n",
       "   ['797', '2/15/1999', '46537          ', '1', '301.8', 'Germany'],\n",
       "   ['550', '6/3/2002', '46537          ', '1', '429.2', 'Germany'],\n",
       "   ['604', '6/3/2002', '46537          ', '1', '480.6', 'Germany'],\n",
       "   ['475', '3/15/1999', '46537          ', '3', '2910.6', 'Germany'],\n",
       "   ['1017', '5/31/2002', '46537          ', '1', '262.4', 'Germany'],\n",
       "   ['906', '6/7/2002', '46537          ', '1', '419.9', 'Germany'],\n",
       "   ['475', '2/15/1999', '46537          ', '3', '2910.6', 'Germany'],\n",
       "   ['687', '2/15/1999', '46537          ', '1', '446', 'Germany'],\n",
       "   ['443', '2/15/1999', '46537          ', '1', '790.9', 'Germany'],\n",
       "   ['604', '2/15/1999', '46537          ', '1', '461.7', 'Germany'],\n",
       "   ['663', '2/15/1999', '46537          ', '1', '765.5', 'Germany'],\n",
       "   ['989', '2/15/1999', '47877          ', '1', '451.4', 'Germany'],\n",
       "   ['1008', '3/15/1999', '47877          ', '1', '236.2', 'Germany'],\n",
       "   ['1008', '2/15/1999', '46483          ', '1', '236.2', 'Germany'],\n",
       "   ['599', '2/15/1999', '46483          ', '3', '2260.9', 'Germany'],\n",
       "   ['1949', '2/15/1999', '46483          ', '2', '593.1', 'Germany'],\n",
       "   ['676', '3/15/1999', '46483          ', '1', '801.9', 'Germany'],\n",
       "   ['2064', '4/11/2003', '46483          ', '1', '496.1', 'Germany'],\n",
       "   ['1202', '6/3/2002', '46483          ', '1', '619.5', 'Germany'],\n",
       "   ['604', '4/14/2003', '13159          ', '1', '494.8', 'Germany'],\n",
       "   ['2234', '5/31/2002', '13159          ', '2', '141.7', 'Germany'],\n",
       "   ['400', '3/15/1999', '13159          ', '1', '683.8', 'Germany'],\n",
       "   ['2352', '6/7/2002', '13159          ', '1', '367.4', 'Germany'],\n",
       "   ['396', '2/15/1999', '13159          ', '1', '857.1', 'Germany'],\n",
       "   ['550', '2/15/1999', '13159          ', '1', '404', 'Germany'],\n",
       "   ['609', '2/15/1999', '13159          ', '1', '778.8', 'Germany'],\n",
       "   ['1157', '2/15/1999', '47443          ', '1', '377.9', 'Germany'],\n",
       "   ['400', '1/15/1999', '47443          ', '1', '683.8', 'Germany'],\n",
       "   ['499', '3/15/1999', '47443          ', '1', '846.3', 'Germany'],\n",
       "   ['631', '1/15/1999', '47443          ', '1', '346.2', 'Germany'],\n",
       "   ['2083', '2/15/1999', '50999          ', '1', '309.7', 'Germany'],\n",
       "   ['475', '2/15/1999', '50999          ', '1', '970.2', 'Germany'],\n",
       "   ['910', '3/15/1999', '50999          ', '2', '829.4', 'Germany'],\n",
       "   ['1909', '3/15/1999', '50999          ', '1', '199.4', 'Germany'],\n",
       "   ['491', '3/15/1999', '50999          ', '1', '815.3', 'Germany'],\n",
       "   ['785', '4/10/2003', '50999          ', '1', '57.7', 'Germany'],\n",
       "   ['786', '4/10/2003', '50999          ', '1', '57.7', 'Germany'],\n",
       "   ['910', '5/31/2002', '50999          ', '1', '430.4', 'Germany'],\n",
       "   ['2400', '6/3/2002', '50999          ', '1', '94.5', 'Germany'],\n",
       "   ['609', '2/15/1999', '50999          ', '1', '778.8', 'Germany'],\n",
       "   ['2295', '5/31/2002', '13189          ', '1', '887.2', 'Germany'],\n",
       "   ['604', '3/15/1999', '13189          ', '1', '461.7', 'Germany'],\n",
       "   ['2255', '2/15/1999', '45468          ', '1', '57.7', 'Germany'],\n",
       "   ['2254', '2/15/1999', '45468          ', '1', '57.7', 'Germany'],\n",
       "   ['499', '2/15/1999', '45468          ', '1', '846.3', 'Germany'],\n",
       "   ['604', '2/15/1999', '13347          ', '1', '461.7', 'Germany'],\n",
       "   ['2410', '2/15/1999', '13347          ', '1', '99.7', 'Germany'],\n",
       "   ['512', '6/1/2002', '13347          ', '1', '230.7', 'Germany'],\n",
       "   ['1065', '1/15/1999', '13347          ', '1', '296.6', 'Germany'],\n",
       "   ['910', '5/31/2002', '13347          ', '1', '430.4', 'Germany'],\n",
       "   ['475', '3/15/1999', '13347          ', '1', '970.2', 'Germany'],\n",
       "   ['1895', '6/8/2002', '13347          ', '1', '756', 'Germany'],\n",
       "   ['1066', '1/15/1999', '13347          ', '1', '296.6', 'Germany'],\n",
       "   ['609', '2/15/1999', '13347          ', '1', '778.8', 'Germany'],\n",
       "   ['676', '2/15/1999', '13347          ', '1', '801.9', 'Germany'],\n",
       "   ['433', '2/15/1999', '46499          ', '1', '804.3', 'Germany'],\n",
       "   ['499', '2/15/1999', '13353          ', '3', '2538.9', 'Germany'],\n",
       "   ['609', '2/15/1999', '13353          ', '1', '778.8', 'Germany'],\n",
       "   ['604', '6/3/2002', '13353          ', '1', '480.6', 'Germany'],\n",
       "   ['499', '6/7/2002', '13353          ', '1', '883', 'Germany'],\n",
       "   ['475', '6/10/2002', '13353          ', '1', '1007.2', 'Germany'],\n",
       "   ['443', '2/15/1999', '13353          ', '1', '790.9', 'Germany'],\n",
       "   ['475', '2/15/1999', '13353          ', '1', '970.2', 'Germany'],\n",
       "   ['475', '6/4/2002', '13353          ', '1', '1007.2', 'Germany'],\n",
       "   ['491', '2/15/1999', '13353          ', '1', '815.3', 'Germany'],\n",
       "   ['599', '2/15/1999', '13353          ', '2', '1507.3', 'Germany'],\n",
       "   ['499', '2/15/1999', '46117          ', '1', '846.3', 'Germany'],\n",
       "   ['826', '4/12/2003', '46117          ', '1', '929.2', 'Germany'],\n",
       "   ['2332', '4/13/2003', '46117          ', '2', '839.9', 'Germany'],\n",
       "   ['2396', '4/13/2003', '46117          ', '1', '89.2', 'Germany'],\n",
       "   ['676', '1/15/1999', '46117          ', '1', '801.9', 'Germany'],\n",
       "   ['551', '4/11/2003', '46117          ', '1', '922.2', 'Germany'],\n",
       "   ['2064', '6/3/2002', '46117          ', '1', '496.1', 'Germany'],\n",
       "   ['599', '2/15/1999', '46117          ', '1', '753.6', 'Germany'],\n",
       "   ['550', '2/15/1999', '47055          ', '1', '404', 'Germany'],\n",
       "   ['491', '1/15/1999', '47055          ', '1', '815.3', 'Germany'],\n",
       "   ['443', '3/15/1999', '47055          ', '1', '790.9', 'Germany'],\n",
       "   ['443', '2/15/1999', '13357          ', '1', '790.9', 'Germany'],\n",
       "   ['730', '3/15/1999', '13357          ', '1', '299.2', 'Germany'],\n",
       "   ['2396', '5/31/2002', '13357          ', '3', '267.6', 'Germany'],\n",
       "   ['2235', '5/31/2002', '13357          ', '1', '70.8', 'Germany'],\n",
       "   ['2074', '3/15/1999', '13357          ', '1', '328.1', 'Germany'],\n",
       "   ['729', '3/15/1999', '13357          ', '1', '299.2', 'Germany'],\n",
       "   ['2250', '6/7/2002', '13357          ', '1', '126', 'Germany'],\n",
       "   ['573', '2/15/1999', '47551          ', '1', '280.6', 'Germany'],\n",
       "   ['863', '3/15/1999', '47551          ', '1', '304.4', 'Germany'],\n",
       "   ['964', '1/15/1999', '47551          ', '1', '356.9', 'Germany'],\n",
       "   ['2353', '5/31/2002', '13359          ', '1', '414.7', 'Germany'],\n",
       "   ['2359', '5/31/2002', '13359          ', '1', '430.4', 'Germany'],\n",
       "   ['676', '6/8/2002', '13359          ', '1', '837.4', 'Germany'],\n",
       "   ['580', '2/15/1999', '47239          ', '1', '734.7', 'Germany'],\n",
       "   ['475', '2/15/1999', '47239          ', '1', '970.2', 'Germany'],\n",
       "   ['838', '3/15/1999', '47239          ', '2', '1868.9', 'Germany'],\n",
       "   ['2396', '4/13/2003', '47239          ', '1', '89.2', 'Germany'],\n",
       "   ['797', '3/15/1999', '47239          ', '1', '301.8', 'Germany'],\n",
       "   ['396', '3/15/1999', '47239          ', '2', '1714.1', 'Germany'],\n",
       "   ['635', '6/4/2002', '47239          ', '1', '860.7', 'Germany'],\n",
       "   ['499', '2/15/1999', '47239          ', '1', '846.3', 'Germany'],\n",
       "   ['599', '2/15/1999', '50169          ', '1', '753.6', 'Germany'],\n",
       "   ['631', '2/15/1999', '50169          ', '2', '692.5', 'Germany'],\n",
       "   ['297', '3/15/1999', '50169          ', '1', '708.5', 'Germany'],\n",
       "   ['596', '3/15/1999', '50169          ', '1', '746.5', 'Germany'],\n",
       "   ['2400', '5/31/2002', '50169          ', '1', '94.5', 'Germany'],\n",
       "   ['1014', '3/15/1999', '50169          ', '1', '86.6', 'Germany'],\n",
       "   ['676', '3/15/1999', '50169          ', '1', '801.9', 'Germany'],\n",
       "   ['485', '6/10/2002', '50169          ', '1', '851.5', 'Germany'],\n",
       "   ['488', '6/10/2002', '50169          ', '1', '1007.2', 'Germany'],\n",
       "   ['400', '6/10/2002', '50169          ', '1', '734.7', 'Germany'],\n",
       "   ['1132', '3/15/1999', '50169          ', '1', '630', 'Germany'],\n",
       "   ['396', '1/15/1999', '50169          ', '1', '857.1', 'Germany'],\n",
       "   ['573', '1/15/1999', '50169          ', '1', '280.6', 'Germany'],\n",
       "   ['320', '2/15/1999', '50169          ', '1', '1364.7', 'Germany'],\n",
       "   ['1182', '6/3/2002', '50169          ', '1', '157.4', 'Germany'],\n",
       "   ['475', '2/15/1999', '50169          ', '1', '970.2', 'Germany'],\n",
       "   ['1894', '2/15/1999', '50169          ', '1', '682.2', 'Germany'],\n",
       "   ['580', '2/15/1999', '50169          ', '1', '734.7', 'Germany'],\n",
       "   ['609', '2/15/1999', '50169          ', '1', '778.8', 'Germany'],\n",
       "   ['676', '2/15/1999', '46047          ', '1', '801.9', 'Germany'],\n",
       "   ['833', '2/15/1999', '46047          ', '1', '787.5', 'Germany'],\n",
       "   ['609', '2/15/1999', '46047          ', '1', '778.8', 'Germany'],\n",
       "   ['2219', '4/11/2003', '46047          ', '1', '141.7', 'Germany'],\n",
       "   ['1000', '4/11/2003', '46047          ', '1', '89.2', 'Germany'],\n",
       "   ['1836', '6/7/2002', '46047          ', '1', '146.9', 'Germany'],\n",
       "   ['2407', '1/15/1999', '46047          ', '1', '73.5', 'Germany'],\n",
       "   ['604', '2/15/1999', '46047          ', '1', '461.7', 'Germany'],\n",
       "   ['2218', '4/11/2003', '46047          ', '1', '141.7', 'Germany'],\n",
       "   ['663', '2/15/1999', '46047          ', '1', '765.5', 'Germany'],\n",
       "   ['437', '6/11/2003', '46047          ', '1', '803.8', 'Germany'],\n",
       "   ['596', '6/11/2003', '46047          ', '1', '797.2', 'Germany'],\n",
       "   ['676', '2/15/1999', '51429          ', '1', '801.9', 'Germany'],\n",
       "   ['631', '2/15/1999', '13465          ', '1', '346.2', 'Germany'],\n",
       "   ['833', '3/15/1999', '13467          ', '1', '792.7', 'Germany'],\n",
       "   ['163', '4/11/2003', '13467          ', '1', '524.5', 'Germany'],\n",
       "   ['1191', '6/4/2002', '13467          ', '1', '267.7', 'Germany'],\n",
       "   ['1229', '2/15/1999', '47665          ', '1', '236.2', 'Germany'],\n",
       "   ['976', '5/31/2002', '47665          ', '1', '314.9', 'Germany'],\n",
       "   ['2277', '2/15/1999', '47506          ', '1', '251.9', 'Germany'],\n",
       "   ['550', '6/1/2002', '47506          ', '1', '429.2', 'Germany'],\n",
       "   ['1185', '3/15/1999', '47506          ', '1', '419.9', 'Germany'],\n",
       "   ['645', '3/15/1999', '47506          ', '1', '746.5', 'Germany'],\n",
       "   ['728', '1/15/1999', '47506          ', '2', '125.9', 'Germany'],\n",
       "   ['757', '1/15/1999', '47506          ', '2', '167.9', 'Germany'],\n",
       "   ['573', '1/15/1999', '47506          ', '1', '280.6', 'Germany'],\n",
       "   ['914', '4/11/2003', '47506          ', '1', '577.5', 'Germany'],\n",
       "   ['163', '6/4/2002', '47506          ', '1', '524.5', 'Germany'],\n",
       "   ['910', '6/12/2002', '47506          ', '1', '430.4', 'Germany'],\n",
       "   ['2407', '2/15/1999', '47509          ', '1', '73.5', 'Germany'],\n",
       "   ['609', '2/15/1999', '13509          ', '1', '778.8', 'Germany'],\n",
       "   ['922', '3/15/1999', '13509          ', '1', '472.4', 'Germany'],\n",
       "   ['2071', '4/11/2003', '13509          ', '1', '346.4', 'Germany'],\n",
       "   ['1053', '3/15/1999', '13509          ', '1', '251.9', 'Germany'],\n",
       "   ['1203', '3/15/1999', '13509          ', '1', '314.9', 'Germany'],\n",
       "   ['604', '2/15/1999', '13509          ', '1', '461.7', 'Germany'],\n",
       "   ['396', '2/15/1999', '51709          ', '1', '857.1', 'Germany'],\n",
       "   ['1777', '4/11/2003', '51709          ', '1', '603.2', 'Germany'],\n",
       "   ['2375', '4/11/2003', '51709          ', '1', '698.2', 'Germany'],\n",
       "   ['415', '2/15/1999', '47829          ', '1', '482.7', 'Germany'],\n",
       "   ['443', '2/15/1999', '45357          ', '1', '790.9', 'Germany'],\n",
       "   ['1751', '6/1/2002', '45357          ', '1', '682.5', 'Germany'],\n",
       "   ['514', '6/3/2002', '45357          ', '1', '472.2', 'Germany'],\n",
       "   ['2275', '4/11/2003', '45357          ', '1', '330.7', 'Germany'],\n",
       "   ['433', '1/15/1999', '45357          ', '1', '804.3', 'Germany'],\n",
       "   ['671', '6/10/2002', '45357          ', '1', '892.2', 'Germany'],\n",
       "   ['838', '3/15/1999', '45357          ', '1', '913.5', 'Germany'],\n",
       "   ['647', '6/3/2002', '45357          ', '1', '900.6', 'Germany'],\n",
       "   ['647', '6/12/2002', '45357          ', '1', '900.6', 'Germany'],\n",
       "   ['475', '2/15/1999', '45481          ', '1', '970.2', 'Germany'],\n",
       "   ['922', '3/15/1999', '45481          ', '2', '944.9', 'Germany'],\n",
       "   ['2396', '4/11/2003', '45481          ', '1', '89.2', 'Germany'],\n",
       "   ['1949', '1/15/1999', '45481          ', '1', '296.6', 'Germany'],\n",
       "   ['475', '1/15/1999', '45481          ', '2', '1940.4', 'Germany'],\n",
       "   ['635', '6/3/2002', '45481          ', '1', '860.7', 'Germany'],\n",
       "   ['596', '2/15/1999', '45481          ', '1', '746.5', 'Germany'],\n",
       "   ['663', '2/15/1999', '45481          ', '1', '765.5', 'Germany'],\n",
       "   ['396', '2/15/1999', '45481          ', '1', '857.1', 'Germany'],\n",
       "   ['797', '3/15/1999', '13597          ', '1', '301.8', 'Germany'],\n",
       "   ['1215', '3/15/1999', '13597          ', '1', '356.9', 'Germany'],\n",
       "   ['2057', '3/15/1999', '13597          ', '1', '472.4', 'Germany'],\n",
       "   ['2074', '3/15/1999', '13597          ', '1', '328.1', 'Germany'],\n",
       "   ['609', '2/15/1999', '13597          ', '1', '778.8', 'Germany'],\n",
       "   ['2081', '2/15/1999', '13597          ', '1', '220.4', 'Germany'],\n",
       "   ['2064', '2/15/1999', '13597          ', '1', '488.2', 'Germany'],\n",
       "   ['488', '2/15/1999', '47057          ', '1', '970.2', 'Germany'],\n",
       "   ['2070', '3/15/1999', '47057          ', '1', '519.7', 'Germany'],\n",
       "   ['671', '6/3/2002', '47057          ', '1', '892.2', 'Germany'],\n",
       "   ['513', '2/15/1999', '47169          ', '1', '451.4', 'Germany'],\n",
       "   ['901', '3/15/1999', '47169          ', '1', '409.4', 'Germany'],\n",
       "   ['729', '1/15/1999', '47169          ', '1', '301.8', 'Germany'],\n",
       "   ['1949', '2/15/1999', '47169          ', '1', '296.6', 'Germany'],\n",
       "   ['1948', '2/15/1999', '47169          ', '1', '296.6', 'Germany'],\n",
       "   ['597', '2/15/1999', '52134          ', '1', '892.2', 'Germany'],\n",
       "   ['508', '4/11/2003', '52134          ', '1', '969.7', 'Germany'],\n",
       "   ['2380', '5/31/2002', '52134          ', '1', '293.9', 'Germany'],\n",
       "   ['915', '5/31/2002', '52134          ', '1', '556.5', 'Germany'],\n",
       "   ['604', '3/15/1999', '52134          ', '1', '461.7', 'Germany'],\n",
       "   ['1086', '6/7/2002', '52134          ', '1', '84', 'Germany'],\n",
       "   ['1085', '6/7/2002', '52134          ', '1', '84', 'Germany'],\n",
       "   ['1014', '6/8/2002', '52134          ', '2', '173.2', 'Germany'],\n",
       "   ['400', '2/15/1999', '52134          ', '2', '1367.6', 'Germany'],\n",
       "   ['609', '2/15/1999', '52134          ', '1', '778.8', 'Germany'],\n",
       "   ['604', '6/1/2002', '14050          ', '1', '480.6', 'Germany'],\n",
       "   ['604', '2/15/1999', '47058          ', '1', '461.7', 'Germany'],\n",
       "   ['499', '6/3/2002', '47058          ', '1', '883', 'Germany'],\n",
       "   ['606', '2/15/1999', '47058          ', '1', '314.7', 'Germany'],\n",
       "   ['2235', '3/15/1999', '14052          ', '1', '65.6', 'Germany'],\n",
       "   ['676', '2/15/1999', '50739          ', '1', '801.9', 'Germany'],\n",
       "   ['1230', '3/15/1999', '50739          ', '1', '525', 'Germany'],\n",
       "   ['757', '2/15/1999', '47441          ', '1', '84', 'Germany'],\n",
       "   ['725', '4/11/2003', '47441          ', '1', '110.2', 'Germany'],\n",
       "   ['726', '4/11/2003', '47441          ', '1', '110.2', 'Germany'],\n",
       "   ['758', '2/15/1999', '47441          ', '1', '84', 'Germany'],\n",
       "   ['932', '2/15/1999', '47441          ', '1', '430.4', 'Germany'],\n",
       "   ['2379', '5/31/2002', '14057          ', '1', '178.4', 'Germany'],\n",
       "   ['1066', '2/15/1999', '51377          ', '1', '296.6', 'Germany'],\n",
       "   ['1225', '3/15/1999', '51377          ', '1', '236.2', 'Germany'],\n",
       "   ['990', '3/15/1999', '51377          ', '1', '472.4', 'Germany'],\n",
       "   ['1065', '2/15/1999', '51377          ', '1', '296.6', 'Germany'],\n",
       "   ['1990', '2/15/1999', '14059          ', '2', '514.4', 'Germany'],\n",
       "   ['1066', '2/15/1999', '14059          ', '1', '296.6', 'Germany'],\n",
       "   ['1066', '3/15/1999', '14059          ', '1', '296.6', 'Germany'],\n",
       "   ['2210', '3/15/1999', '14059          ', '1', '107.6', 'Germany'],\n",
       "   ['604', '3/15/1999', '14059          ', '1', '461.7', 'Germany'],\n",
       "   ['2352', '3/15/1999', '14059          ', '1', '388.4', 'Germany'],\n",
       "   ['120', '3/15/1999', '14059          ', '1', '829.5', 'Germany'],\n",
       "   ['631', '3/15/1999', '14059          ', '1', '346.2', 'Germany'],\n",
       "   ['966', '6/7/2002', '14059          ', '1', '488.2', 'Germany'],\n",
       "   ['1017', '4/11/2003', '14059          ', '1', '288.7', 'Germany'],\n",
       "   ['1085', '6/5/2002', '14059          ', '1', '84', 'Germany'],\n",
       "   ['676', '2/15/1999', '14059          ', '2', '1603.9', 'Germany'],\n",
       "   ['604', '2/15/1999', '14059          ', '1', '461.7', 'Germany'],\n",
       "   ['609', '2/15/1999', '14059          ', '1', '778.8', 'Germany'],\n",
       "   ['2254', '2/15/1999', '46446          ', '1', '57.7', 'Germany'],\n",
       "   ['2396', '6/10/2003', '46446          ', '1', '89.2', 'Germany'],\n",
       "   ['761', '6/10/2003', '46446          ', '1', '173.2', 'Germany'],\n",
       "   ['762', '6/10/2003', '46446          ', '1', '173.2', 'Germany'],\n",
       "   ['597', '2/15/1999', '46446          ', '1', '892.2', 'Germany'],\n",
       "   ['2370', '3/15/1999', '14131          ', '1', '732.3', 'Germany'],\n",
       "   ['475', '6/3/2002', '45476          ', '1', '1007.2', 'Germany'],\n",
       "   ['635', '4/11/2003', '45476          ', '1', '881.7', 'Germany'],\n",
       "   ['2396', '4/11/2003', '14165          ', '2', '178.4', 'Germany'],\n",
       "   ['499', '6/3/2002', '46049          ', '1', '883', 'Germany'],\n",
       "   ['491', '1/15/1999', '46049          ', '1', '815.3', 'Germany'],\n",
       "   ['475', '3/15/1999', '46049          ', '2', '1940.4', 'Germany'],\n",
       "   ['475', '2/15/1999', '46049          ', '1', '970.2', 'Germany'],\n",
       "   ['597', '2/15/1999', '46049          ', '1', '892.2', 'Germany'],\n",
       "   ['532', '2/15/1999', '46049          ', '1', '556.5', 'Germany'],\n",
       "   ['609', '6/3/2002', '46519          ', '1', '829.2', 'Germany'],\n",
       "   ['488', '6/3/2002', '46519          ', '1', '1007.2', 'Germany'],\n",
       "   ['467', '6/4/2002', '46519          ', '1', '900.6', 'Germany'],\n",
       "   ['989', '2/15/1999', '46519          ', '1', '451.4', 'Germany'],\n",
       "   ['2388', '6/10/2002', '14193          ', '1', '309.7', 'Germany'],\n",
       "   ['823', '3/15/1999', '47249          ', '1', '619.5', 'Germany'],\n",
       "   ['979', '3/15/1999', '46119          ', '1', '356.9', 'Germany'],\n",
       "   ['1948', '1/15/1999', '46119          ', '1', '296.6', 'Germany'],\n",
       "   ['2287', '2/15/1999', '46119          ', '1', '840', 'Germany'],\n",
       "   ['1080', '3/15/1999', '51145          ', '1', '262.4', 'Germany'],\n",
       "   ['475', '1/15/1999', '51145          ', '1', '970.2', 'Germany'],\n",
       "   ['1079', '3/15/1999', '51145          ', '1', '262.4', 'Germany'],\n",
       "   ['1974', '6/10/2003', '51145          ', '1', '57.7', 'Germany'],\n",
       "   ['1975', '6/10/2003', '51145          ', '1', '57.7', 'Germany'],\n",
       "   ['2343', '6/3/2002', '20148          ', '1', '446.2', 'Germany'],\n",
       "   ['566', '4/11/2003', '20148          ', '1', '981.5', 'Germany'],\n",
       "   ['2379', '3/15/1999', '20148          ', '1', '173.2', 'Germany'],\n",
       "   ['770', '3/15/1999', '20148          ', '1', '257.2', 'Germany'],\n",
       "   ['1040', '6/10/2002', '20148          ', '1', '1259.7', 'Germany'],\n",
       "   ['475', '2/15/1999', '20148          ', '1', '970.2', 'Germany'],\n",
       "   ['635', '6/4/2002', '20148          ', '1', '860.7', 'Germany'],\n",
       "   ['770', '2/15/1999', '20148          ', '1', '257.2', 'Germany'],\n",
       "   ['1112', '3/15/1999', '41844          ', '1', '116.5', 'Germany'],\n",
       "   ['2234', '2/15/1999', '20251          ', '1', '65.6', 'Germany'],\n",
       "   ['475', '2/15/1999', '20251          ', '1', '970.2', 'Germany'],\n",
       "   ['1961', '3/15/1999', '20251          ', '1', '97.1', 'Germany'],\n",
       "   ['2083', '3/15/1999', '20251          ', '3', '929.1', 'Germany'],\n",
       "   ['2332', '6/7/2002', '20251          ', '1', '367.4', 'Germany'],\n",
       "   ['981', '6/7/2002', '20251          ', '1', '157.4', 'Germany'],\n",
       "   ['2253', '6/7/2002', '20251          ', '1', '136.4', 'Germany'],\n",
       "   ['1201', '6/7/2002', '20251          ', '1', '577.5', 'Germany'],\n",
       "   ['2252', '6/7/2002', '20251          ', '1', '136.4', 'Germany'],\n",
       "   ['2255', '1/15/1999', '20251          ', '1', '57.7', 'Germany'],\n",
       "   ['396', '2/15/1999', '20251          ', '1', '857.1', 'Germany'],\n",
       "   ['2287', '2/15/1999', '20251          ', '1', '840', 'Germany'],\n",
       "   ['400', '2/15/1999', '20251          ', '1', '683.8', 'Germany'],\n",
       "   ['2235', '2/15/1999', '20251          ', '1', '65.6', 'Germany'],\n",
       "   ['2331', '2/15/1999', '20251          ', '1', '535.5', 'Germany'],\n",
       "   ['1230', '3/15/1999', '47259          ', '1', '519.7', 'Germany'],\n",
       "   ['1086', '6/7/2002', '47259          ', '1', '84', 'Germany'],\n",
       "   ['1085', '6/7/2002', '47259          ', '1', '84', 'Germany'],\n",
       "   ['512', '6/10/2002', '47259          ', '1', '230.7', 'Germany'],\n",
       "   ['2407', '1/15/1999', '47259          ', '1', '73.5', 'Germany'],\n",
       "   ['2353', '4/11/2003', '47259          ', '1', '414.7', 'Germany'],\n",
       "   ['1894', '3/15/1999', '50679          ', '1', '682.2', 'Germany'],\n",
       "   ['725', '4/11/2003', '50679          ', '1', '120.7', 'Germany'],\n",
       "   ['2407', '3/15/1999', '50679          ', '1', '73.5', 'Germany'],\n",
       "   ['433', '1/15/1999', '50679          ', '1', '804.3', 'Germany'],\n",
       "   ['604', '3/15/1999', '50679          ', '1', '461.7', 'Germany'],\n",
       "   ['2253', '6/10/2003', '50679          ', '1', '136.4', 'Germany'],\n",
       "   ['726', '4/11/2003', '50679          ', '1', '120.7', 'Germany'],\n",
       "   ['681', '6/1/2002', '20255          ', '1', '682.2', 'Germany'],\n",
       "   ['976', '4/11/2003', '20255          ', '1', '325.4', 'Germany'],\n",
       "   ['1034', '6/7/2002', '20255          ', '1', '892.2', 'Germany'],\n",
       "   ['862', '4/11/2003', '47546          ', '1', '178.4', 'Germany'],\n",
       "   ['2032', '3/15/1999', '47546          ', '1', '220.4', 'Germany'],\n",
       "   ['2145', '5/31/2002', '47546          ', '1', '383.2', 'Germany'],\n",
       "   ['2351', '3/15/1999', '47546          ', '1', '314.9', 'Germany'],\n",
       "   ['819', '6/8/2002', '47546          ', '1', '981.7', 'Germany'],\n",
       "   ['488', '6/5/2002', '20259          ', '1', '1007.2', 'Germany'],\n",
       "   ['1009', '4/11/2003', '47269          ', '1', '99.7', 'Germany'],\n",
       "   ['757', '5/31/2002', '47269          ', '1', '84', 'Germany'],\n",
       "   ['2332', '4/11/2003', '47269          ', '1', '419.9', 'Germany'],\n",
       "   ['992', '5/31/2002', '47269          ', '1', '278.2', 'Germany'],\n",
       "   ['1182', '6/4/2002', '47269          ', '1', '157.4', 'Germany'],\n",
       "   ['2235', '3/15/1999', '20350          ', '1', '65.6', 'Germany'],\n",
       "   ['617', '4/11/2003', '52062          ', '1', '844.7', 'Germany'],\n",
       "   ['609', '4/11/2003', '52062          ', '1', '850.2', 'Germany'],\n",
       "   ['2083', '3/15/1999', '52062          ', '2', '619.4', 'Germany'],\n",
       "   ['964', '3/15/1999', '52062          ', '1', '356.9', 'Germany'],\n",
       "   ['1208', '3/15/1999', '52062          ', '1', '330.7', 'Germany'],\n",
       "   ['1065', '3/15/1999', '52062          ', '1', '296.6', 'Germany'],\n",
       "   ['1133', '2/15/1999', '52062          ', '1', '630', 'Germany'],\n",
       "   ['491', '4/11/2003', '45356          ', '1', '890.7', 'Germany'],\n",
       "   ['1228', '4/11/2003', '45356          ', '1', '131.2', 'Germany'],\n",
       "   ['445', '6/10/2002', '45356          ', '1', '860.5', 'Germany'],\n",
       "   ['518', '4/11/2003', '52355          ', '1', '524.7', 'Germany'],\n",
       "   ['609', '3/15/1999', '52355          ', '1', '778.8', 'Germany'],\n",
       "   ['2332', '6/7/2002', '52355          ', '1', '367.4', 'Germany'],\n",
       "   ['433', '6/10/2002', '52355          ', '1', '851.5', 'Germany'],\n",
       "   ['1008', '3/15/1999', '20359          ', '1', '236.2', 'Germany'],\n",
       "   ['1188', '3/15/1999', '20359          ', '1', '472.4', 'Germany'],\n",
       "   ['1133', '6/7/2002', '20359          ', '1', '645.7', 'Germany'],\n",
       "   ['2252', '5/31/2002', '20459          ', '1', '136.4', 'Germany'],\n",
       "   ['580', '4/11/2003', '20459          ', '1', '809.8', 'Germany'],\n",
       "   ['728', '3/15/1999', '20459          ', '1', '63', 'Germany'],\n",
       "   ['2253', '5/31/2002', '20459          ', '1', '136.4', 'Germany'],\n",
       "   ['727', '3/15/1999', '20459          ', '1', '63', 'Germany'],\n",
       "   ['1085', '6/7/2002', '20459          ', '1', '84', 'Germany'],\n",
       "   ['1086', '6/7/2002', '20459          ', '1', '84', 'Germany'],\n",
       "   ['2332', '4/10/2003', '20459          ', '1', '419.9', 'Germany'],\n",
       "   ['2353', '4/10/2003', '20459          ', '1', '414.7', 'Germany'],\n",
       "   ['596', '4/11/2003', '42929          ', '1', '797.2', 'Germany'],\n",
       "   ['596', '2/15/1999', '42929          ', '1', '746.5', 'Germany'],\n",
       "   ['550', '2/15/1999', '20537          ', '1', '404', 'Germany'],\n",
       "   ['1133', '4/11/2003', '20539          ', '1', '645.7', 'Germany'],\n",
       "   ['759', '4/11/2003', '51766          ', '1', '146.9', 'Germany'],\n",
       "   ['760', '4/11/2003', '51766          ', '1', '146.9', 'Germany'],\n",
       "   ['499', '3/15/1999', '51766          ', '1', '846.3', 'Germany'],\n",
       "   ['1916', '5/31/2002', '51766          ', '1', '286.1', 'Germany'],\n",
       "   ['671', '6/4/2002', '51766          ', '1', '892.2', 'Germany'],\n",
       "   ['513', '6/3/2002', '21031          ', '1', '472.2', 'Germany'],\n",
       "   ['1203', '3/15/1999', '21035          ', '1', '314.9', 'Germany'],\n",
       "   ['1535', '3/15/1999', '21037          ', '1', '309.6', 'Germany'],\n",
       "   ['502', '4/11/2003', '21037          ', '1', '1105.9', 'Germany'],\n",
       "   ['727', '3/15/1999', '21037          ', '1', '63', 'Germany'],\n",
       "   ['1041', '6/7/2002', '21037          ', '1', '971', 'Germany'],\n",
       "   ['2359', '6/4/2002', '21037          ', '1', '430.4', 'Germany'],\n",
       "   ['2253', '4/13/2003', '51067          ', '1', '136.4', 'Germany'],\n",
       "   ['2252', '4/13/2003', '51067          ', '1', '136.4', 'Germany'],\n",
       "   ['2280', '4/13/2003', '51427          ', '1', '154.8', 'Germany'],\n",
       "   ['433', '2/15/1999', '22049          ', '1', '804.3', 'Germany'],\n",
       "   ['2050', '3/15/1999', '47625          ', '1', '498.7', 'Germany'],\n",
       "   ['910', '5/31/2002', '47625          ', '1', '430.4', 'Germany'],\n",
       "   ['2380', '3/15/1999', '42477          ', '1', '309.7', 'Germany'],\n",
       "   ['2332', '6/7/2002', '42477          ', '1', '367.4', 'Germany'],\n",
       "   ['599', '2/15/1999', '42477          ', '1', '753.6', 'Germany'],\n",
       "   ['396', '3/15/1999', '41849          ', '1', '857.1', 'Germany'],\n",
       "   ['475', '2/15/1999', '41849          ', '1', '970.2', 'Germany'],\n",
       "   ['604', '2/15/1999', '22119          ', '1', '461.7', 'Germany'],\n",
       "   ['599', '3/15/1999', '45472          ', '1', '753.6', 'Germany'],\n",
       "   ['604', '3/15/1999', '50825          ', '1', '461.7', 'Germany'],\n",
       "   ['609', '3/15/1999', '46539          ', '1', '778.8', 'Germany'],\n",
       "   ['502', '6/10/2003', '46539          ', '1', '1105.9', 'Germany'],\n",
       "   ['631', '3/15/1999', '51515          ', '2', '692.5', 'Germany'],\n",
       "   ['2234', '5/31/2002', '51515          ', '1', '70.8', 'Germany'],\n",
       "   ['1008', '2/15/1999', '51515          ', '1', '236.2', 'Germany'],\n",
       "   ['687', '3/15/1999', '45327          ', '1', '446', 'Germany'],\n",
       "   ['676', '2/15/1999', '22419          ', '1', '801.9', 'Germany'],\n",
       "   ['597', '2/15/1999', '22605          ', '1', '892.2', 'Germany'],\n",
       "   ['1066', '2/15/1999', '22763          ', '1', '296.6', 'Germany'],\n",
       "   ['2284', '2/15/1999', '40211          ', '1', '293.9', 'Germany'],\n",
       "   ['120', '1/15/1999', '47178          ', '1', '829.5', 'Germany'],\n",
       "   ['510', '1/15/1999', '47053          ', '1', '837.1', 'Germany'],\n",
       "   ['1182', '3/15/1999', '47053          ', '1', '157.4', 'Germany'],\n",
       "   ['635', '6/10/2003', '47053          ', '1', '881.7', 'Germany'],\n",
       "   ['1215', '6/10/2003', '47053          ', '1', '356.9', 'Germany'],\n",
       "   ['530', '2/15/1999', '47053          ', '1', '619.5', 'Germany'],\n",
       "   ['396', '6/3/2002', '47053          ', '1', '892.2', 'Germany'],\n",
       "   ['1143', '6/4/2002', '47053          ', '1', '551.2', 'Germany'],\n",
       "   ['488', '2/15/1999', '47053          ', '1', '970.2', 'Germany'],\n",
       "   ['604', '1/15/1999', '47669          ', '1', '461.7', 'Germany'],\n",
       "   ['2252', '5/31/2002', '50126          ', '1', '136.4', 'Germany'],\n",
       "   ['2253', '5/31/2002', '50126          ', '1', '136.4', 'Germany'],\n",
       "   ['2407', '5/31/2002', '51789          ', '1', '81.3', 'Germany'],\n",
       "   ['2241', '5/31/2002', '52146          ', '1', '89.2', 'Germany'],\n",
       "   ['565', '5/31/2002', '47805          ', '1', '881.7', 'Germany'],\n",
       "   ['671', '6/8/2002', '47805          ', '1', '892.2', 'Germany'],\n",
       "   ['671', '5/31/2002', '46045          ', '1', '892.2', 'Germany'],\n",
       "   ['559', '2/15/1999', '46045          ', '1', '585.6', 'Germany'],\n",
       "   ['1001', '4/10/2003', '46045          ', '1', '393.7', 'Germany'],\n",
       "   ['433', '6/13/2002', '46045          ', '1', '851.5', 'Germany'],\n",
       "   ['726', '5/31/2002', '52372          ', '1', '120.7', 'Germany'],\n",
       "   ['1110', '3/15/1999', '52372          ', '1', '209.9', 'Germany'],\n",
       "   ['622', '6/12/2002', '52372          ', '1', '816.4', 'Germany'],\n",
       "   ['976', '5/31/2002', '50677          ', '1', '314.9', 'Germany'],\n",
       "   ['2081', '5/31/2002', '50127          ', '1', '225.7', 'Germany'],\n",
       "   ['1964', '6/10/2003', '50127          ', '1', '89.2', 'Germany'],\n",
       "   ['604', '1/15/1999', '50259          ', '1', '461.7', 'Germany'],\n",
       "   ['433', '1/15/1999', '46509          ', '1', '804.3', 'Germany'],\n",
       "   ['475', '1/15/1999', '50171          ', '2', '1940.4', 'Germany'],\n",
       "   ['604', '1/15/1999', '46535          ', '1', '461.7', 'Germany'],\n",
       "   ['604', '1/15/1999', '51647          ', '1', '461.7', 'Germany'],\n",
       "   ['2083', '3/15/1999', '51643          ', '1', '309.7', 'Germany'],\n",
       "   ['195', '2/15/1999', '45259          ', '1', '750.2', 'Germany'],\n",
       "   ['513', '3/15/1999', '45475          ', '1', '451.4', 'Germany'],\n",
       "   ['103', '6/7/2002', '47533          ', '1', '855.2', 'Germany'],\n",
       "   ['445', '6/7/2002', '50374          ', '1', '860.5', 'Germany'],\n",
       "   ['592', '6/3/2002', '45403          ', '1', '939.5', 'Germany'],\n",
       "   ['491', '1/15/1999', '45470          ', '1', '815.3', 'Germany'],\n",
       "   ['464', '6/7/2002', '50858          ', '1', '866.2', 'Germany'],\n",
       "   ['670', '6/10/2002', '50829          ', '1', '871.2', 'Germany'],\n",
       "   ['596', '2/15/1999', '46147          ', '1', '746.5', 'Germany'],\n",
       "   ['573', '1/15/1999', '46149          ', '1', '280.6', 'Germany'],\n",
       "   ['1014', '6/10/2002', '47929          ', '1', '86.6', 'Germany'],\n",
       "   ['964', '6/10/2002', '42499          ', '1', '335.9', 'Germany'],\n",
       "   ['604', '2/15/1999', '42499          ', '1', '461.7', 'Germany'],\n",
       "   ['2253', '6/10/2002', '47626          ', '1', '136.4', 'Germany'],\n",
       "   ['2045', '4/10/2003', '47626          ', '1', '419.9', 'Germany'],\n",
       "   ['1920', '6/10/2002', '51519          ', '1', '262.4', 'Germany'],\n",
       "   ['676', '2/15/1999', '46514          ', '1', '801.9', 'Germany'],\n",
       "   ['1318', '3/15/1999', '50968          ', '1', '307', 'Germany'],\n",
       "   ['604', '6/10/2003', '47559          ', '1', '494.8', 'Germany'],\n",
       "   ['676', '1/15/1999', '47167          ', '1', '801.9', 'Germany'],\n",
       "   ['2253', '5/31/2002', '48351          ', '1', '136.4', 'Germany'],\n",
       "   ['676', '2/15/1999', '53225          ', '1', '801.9', 'Germany'],\n",
       "   ['604', '2/15/1999', '53225          ', '1', '461.7', 'Germany'],\n",
       "   ['981', '4/12/2003', '53225          ', '1', '157.4', 'Germany'],\n",
       "   ['604', '4/14/2003', '53225          ', '1', '494.8', 'Germany'],\n",
       "   ['671', '6/5/2002', '47228          ', '1', '892.2', 'Germany'],\n",
       "   ['676', '2/15/1999', '45768          ', '1', '801.9', 'Germany'],\n",
       "   ['2032', '2/15/1999', '45768          ', '1', '220.4', 'Germany'],\n",
       "   ['599', '2/15/1999', '45768          ', '1', '753.6', 'Germany'],\n",
       "   ['491', '2/15/1999', '45768          ', '1', '815.3', 'Germany'],\n",
       "   ['604', '4/11/2003', '45768          ', '1', '494.8', 'Germany'],\n",
       "   ['1948', '1/15/1999', '45768          ', '1', '296.6', 'Germany'],\n",
       "   ['2012', '1/15/1999', '45768          ', '1', '377.9', 'Germany'],\n",
       "   ['2282', '1/15/1999', '45768          ', '1', '304.4', 'Germany'],\n",
       "   ['683', '2/15/1999', '52385          ', '1', '788', 'Germany'],\n",
       "   ['499', '2/15/1999', '52385          ', '1', '846.3', 'Germany'],\n",
       "   ['604', '2/15/1999', '52385          ', '1', '461.7', 'Germany'],\n",
       "   ['1478', '2/15/1999', '52385          ', '1', '317.5', 'Germany'],\n",
       "   ['485', '5/31/2002', '52385          ', '1', '851.5', 'Germany'],\n",
       "   ['758', '2/15/1999', '46242          ', '2', '167.9', 'Germany'],\n",
       "   ['757', '2/15/1999', '46242          ', '2', '167.9', 'Germany'],\n",
       "   ['580', '3/15/1999', '46242          ', '1', '734.7', 'Germany'],\n",
       "   ['767', '2/15/1999', '53332          ', '1', '105', 'Germany'],\n",
       "   ['2277', '2/15/1999', '53332          ', '1', '251.9', 'Germany'],\n",
       "   ['1005', '3/15/1999', '53332          ', '1', '107.6', 'Germany'],\n",
       "   ['1181', '4/11/2003', '53332          ', '1', '419.9', 'Germany'],\n",
       "   ['2053', '6/10/2002', '53332          ', '1', '325.4', 'Germany'],\n",
       "   ['823', '2/15/1999', '53229          ', '1', '619.5', 'Germany'],\n",
       "   ['514', '6/3/2002', '53229          ', '1', '472.2', 'Germany'],\n",
       "   ['962', '3/15/1999', '53229          ', '1', '509.2', 'Germany'],\n",
       "   ['530', '3/15/1999', '53229          ', '1', '619.5', 'Germany'],\n",
       "   ['491', '3/15/1999', '53229          ', '1', '815.3', 'Germany'],\n",
       "   ['1957', '2/15/1999', '46397          ', '1', '153.8', 'Germany'],\n",
       "   ['2074', '5/31/2002', '46397          ', '1', '335.9', 'Germany'],\n",
       "   ['606', '1/15/1999', '46397          ', '1', '314.7', 'Germany'],\n",
       "   ['2332', '6/7/2002', '46397          ', '1', '367.4', 'Germany'],\n",
       "   ['2056', '2/15/1999', '48153          ', '1', '320.2', 'Germany'],\n",
       "   ['2287', '2/15/1999', '44577          ', '1', '840', 'Germany'],\n",
       "   ['1173', '2/15/1999', '44577          ', '1', '525', 'Germany'],\n",
       "   ['2400', '6/3/2002', '44577          ', '1', '94.5', 'Germany'],\n",
       "   ['1975', '5/31/2002', '44577          ', '1', '57.7', 'Germany'],\n",
       "   ['445', '6/7/2002', '44577          ', '1', '860.5', 'Germany'],\n",
       "   ['671', '6/10/2002', '44577          ', '1', '892.2', 'Germany'],\n",
       "   ['2373', '2/15/1999', '53902          ', '1', '551.2', 'Germany'],\n",
       "   ['1157', '3/15/1999', '53902          ', '1', '377.9', 'Germany'],\n",
       "   ['575', '4/11/2003', '53902          ', '1', '929.2', 'Germany'],\n",
       "   ['396', '3/15/1999', '53902          ', '1', '857.1', 'Germany'],\n",
       "   ['396', '1/15/1999', '53902          ', '1', '857.1', 'Germany'],\n",
       "   ['2388', '1/15/1999', '53902          ', '1', '309.7', 'Germany'],\n",
       "   ['491', '1/15/1999', '53902          ', '1', '815.3', 'Germany'],\n",
       "   ['475', '6/3/2002', '47475          ', '1', '1007.2', 'Germany'],\n",
       "   ['318', '2/15/1999', '45659          ', '1', '866', 'Germany'],\n",
       "   ['559', '2/15/1999', '45659          ', '1', '585.6', 'Germany'],\n",
       "   ['2070', '3/15/1999', '45659          ', '1', '519.7', 'Germany'],\n",
       "   ['565', '5/31/2002', '45659          ', '1', '881.7', 'Germany'],\n",
       "   ['491', '3/15/1999', '45659          ', '1', '815.3', 'Germany'],\n",
       "   ['433', '2/15/1999', '53117          ', '1', '804.3', 'Germany'],\n",
       "   ['488', '2/15/1999', '53117          ', '1', '970.2', 'Germany'],\n",
       "   ['819', '4/12/2003', '53117          ', '1', '997.5', 'Germany'],\n",
       "   ['2282', '3/15/1999', '53117          ', '1', '304.4', 'Germany'],\n",
       "   ['532', '3/15/1999', '53117          ', '1', '556.5', 'Germany'],\n",
       "   ['2396', '6/7/2002', '53117          ', '2', '178.4', 'Germany'],\n",
       "   ['475', '2/15/1999', '52538          ', '2', '1940.4', 'Germany'],\n",
       "   ['989', '2/15/1999', '52538          ', '1', '451.4', 'Germany'],\n",
       "   ['604', '6/1/2002', '52538          ', '1', '480.6', 'Germany'],\n",
       "   ['1226', '4/11/2003', '52538          ', '1', '551.2', 'Germany'],\n",
       "   ['396', '4/12/2003', '52538          ', '1', '913.8', 'Germany'],\n",
       "   ['499', '2/15/1999', '52441          ', '1', '846.3', 'Germany'],\n",
       "   ['671', '6/1/2002', '52441          ', '1', '892.2', 'Germany'],\n",
       "   ['93', '3/15/1999', '52441          ', '1', '992.2', 'Germany'],\n",
       "   ['1000', '6/8/2002', '52441          ', '2', '178.4', 'Germany'],\n",
       "   ['964', '3/15/1999', '52441          ', '1', '356.9', 'Germany'],\n",
       "   ['604', '2/15/1999', '53879          ', '1', '461.7', 'Germany'],\n",
       "   ['676', '2/15/1999', '53227          ', '1', '801.9', 'Germany'],\n",
       "   ['681', '1/15/1999', '53227          ', '1', '629.7', 'Germany'],\n",
       "   ['676', '2/15/1999', '53819          ', '1', '801.9', 'Germany'],\n",
       "   ['676', '2/15/1999', '45701          ', '1', '801.9', 'Germany'],\n",
       "   ['2270', '6/10/2002', '45701          ', '1', '314.9', 'Germany'],\n",
       "   ['770', '2/15/1999', '52428          ', '1', '257.2', 'Germany'],\n",
       "   ['599', '2/15/1999', '52428          ', '1', '753.6', 'Germany'],\n",
       "   ['785', '5/31/2002', '52428          ', '1', '68.2', 'Germany'],\n",
       "   ['596', '5/31/2002', '52428          ', '1', '776.7', 'Germany'],\n",
       "   ['1920', '5/31/2002', '52428          ', '1', '262.4', 'Germany'],\n",
       "   ['2370', '3/15/1999', '52428          ', '1', '732.3', 'Germany'],\n",
       "   ['671', '6/10/2002', '52428          ', '1', '892.2', 'Germany'],\n",
       "   ['797', '2/15/1999', '53340          ', '1', '301.8', 'Germany'],\n",
       "   ['93', '4/11/2003', '53340          ', '1', '1039.5', 'Germany'],\n",
       "   ['604', '1/15/1999', '53340          ', '1', '461.7', 'Germany'],\n",
       "   ['491', '1/15/1999', '53340          ', '1', '815.3', 'Germany'],\n",
       "   ['758', '1/15/1999', '53340          ', '1', '84', 'Germany'],\n",
       "   ['1818', '6/10/2002', '53340          ', '1', '208.9', 'Germany'],\n",
       "   ['921', '2/15/1999', '53119          ', '1', '525', 'Germany'],\n",
       "   ['499', '1/15/1999', '53119          ', '1', '846.3', 'Germany'],\n",
       "   ['1014', '2/15/1999', '52396          ', '1', '86.6', 'Germany'],\n",
       "   ['2407', '1/15/1999', '52396          ', '1', '73.5', 'Germany'],\n",
       "   ['631', '6/10/2002', '52396          ', '1', '356.7', 'Germany'],\n",
       "   ['1014', '2/15/1999', '46419          ', '1', '86.6', 'Germany'],\n",
       "   ['599', '2/15/1999', '46419          ', '1', '753.6', 'Germany'],\n",
       "   ['2352', '3/15/1999', '46419          ', '1', '388.4', 'Germany'],\n",
       "   ['2353', '5/31/2002', '46419          ', '1', '414.7', 'Germany'],\n",
       "   ['1116', '2/15/1999', '45663          ', '1', '251.9', 'Germany'],\n",
       "   ['645', '6/1/2002', '45663          ', '1', '729.5', 'Germany'],\n",
       "   ['990', '3/15/1999', '45663          ', '1', '482.9', 'Germany'],\n",
       "   ['1045', '2/15/1999', '47661          ', '1', '204.7', 'Germany'],\n",
       "   ['1122', '2/15/1999', '53173          ', '1', '157.4', 'Germany'],\n",
       "   ['475', '2/15/1999', '53173          ', '1', '970.2', 'Germany'],\n",
       "   ['559', '2/15/1999', '53173          ', '1', '585.6', 'Germany'],\n",
       "   ['2373', '4/13/2003', '53173          ', '1', '624.7', 'Germany'],\n",
       "   ['2396', '4/13/2003', '53173          ', '1', '89.2', 'Germany'],\n",
       "   ['93', '3/15/1999', '53173          ', '1', '887.2', 'Germany'],\n",
       "   ['1182', '2/15/1999', '53804          ', '1', '157.4', 'Germany'],\n",
       "   ['485', '3/15/1999', '53804          ', '1', '807.2', 'Germany'],\n",
       "   ...]),\n",
       " ('Mexico',\n",
       "  [['2235', '1/15/1999', '8650           ', '1', '65.6', 'Mexico '],\n",
       "   ['837', '2/15/1999', '8650           ', '1', '840', 'Mexico '],\n",
       "   ['491', '2/15/1999', '8650           ', '1', '815.3', 'Mexico '],\n",
       "   ['426', '5/31/2002', '8650           ', '1', '843.1', 'Mexico '],\n",
       "   ['400', '6/6/2002', '8650           ', '1', '734.7', 'Mexico '],\n",
       "   ['1131', '2/15/1999', '8650           ', '1', '419.9', 'Mexico '],\n",
       "   ['2277', '3/15/1999', '8650           ', '1', '251.9', 'Mexico '],\n",
       "   ['491', '3/15/1999', '8650           ', '1', '815.3', 'Mexico '],\n",
       "   ['467', '6/8/2002', '8650           ', '1', '900.6', 'Mexico '],\n",
       "   ['565', '4/12/2003', '2000           ', '1', '890.7', 'Mexico '],\n",
       "   ['604', '4/12/2003', '2000           ', '1', '494.8', 'Mexico '],\n",
       "   ['940', '3/15/1999', '2000           ', '1', '687.7', 'Mexico '],\n",
       "   ['2277', '1/15/1999', '8640           ', '1', '251.9', 'Mexico '],\n",
       "   ['739', '1/15/1999', '2008           ', '1', '170.6', 'Mexico '],\n",
       "   ['2188', '1/15/1999', '2008           ', '1', '233.6', 'Mexico '],\n",
       "   ['1894', '1/15/1999', '2008           ', '1', '682.2', 'Mexico '],\n",
       "   ['757', '4/11/2003', '2008           ', '1', '73.5', 'Mexico '],\n",
       "   ['758', '4/11/2003', '2008           ', '1', '73.5', 'Mexico '],\n",
       "   ['2373', '3/15/1999', '2008           ', '1', '551.2', 'Mexico '],\n",
       "   ['606', '1/15/1999', '8830           ', '1', '314.7', 'Mexico '],\n",
       "   ['2082', '4/10/2003', '8830           ', '1', '335.9', 'Mexico '],\n",
       "   ['2284', '2/15/1999', '8830           ', '1', '293.9', 'Mexico '],\n",
       "   ['2055', '6/3/2002', '2009           ', '1', '569.6', 'Mexico '],\n",
       "   ['396', '3/15/1999', '2009           ', '1', '857.1', 'Mexico '],\n",
       "   ['658', '1/15/1999', '9130           ', '1', '902.7', 'Mexico '],\n",
       "   ['992', '4/11/2003', '9130           ', '1', '278.2', 'Mexico '],\n",
       "   ['2282', '1/15/1999', '9130           ', '1', '304.4', 'Mexico '],\n",
       "   ['2255', '5/31/2002', '9130           ', '1', '60.3', 'Mexico '],\n",
       "   ['1182', '2/15/1999', '9130           ', '1', '157.4', 'Mexico '],\n",
       "   ['2056', '2/15/1999', '9130           ', '1', '325.4', 'Mexico '],\n",
       "   ['2254', '5/31/2002', '9130           ', '1', '60.3', 'Mexico '],\n",
       "   ['671', '6/3/2002', '9130           ', '1', '892.2', 'Mexico '],\n",
       "   ['687', '1/15/1999', '9160           ', '1', '446', 'Mexico '],\n",
       "   ['599', '2/15/1999', '9160           ', '1', '753.6', 'Mexico '],\n",
       "   ['1927', '5/31/2002', '9160           ', '1', '99.7', 'Mexico '],\n",
       "   ['1926', '5/31/2002', '9160           ', '1', '99.7', 'Mexico '],\n",
       "   ['2074', '5/31/2002', '9160           ', '1', '335.9', 'Mexico '],\n",
       "   ['683', '3/15/1999', '2020           ', '1', '788', 'Mexico '],\n",
       "   ['713', '1/15/1999', '7708           ', '1', '160.1', 'Mexico '],\n",
       "   ['1116', '2/15/1999', '7708           ', '1', '251.9', 'Mexico '],\n",
       "   ['725', '1/15/1999', '9410           ', '1', '115.5', 'Mexico '],\n",
       "   ['2388', '2/15/1999', '9410           ', '1', '309.7', 'Mexico '],\n",
       "   ['2045', '2/15/1999', '9410           ', '1', '409.4', 'Mexico '],\n",
       "   ['2234', '2/15/1999', '9410           ', '1', '65.6', 'Mexico '],\n",
       "   ['726', '1/15/1999', '9410           ', '1', '115.5', 'Mexico '],\n",
       "   ['758', '1/15/1999', '9410           ', '1', '84', 'Mexico '],\n",
       "   ['767', '1/15/1999', '9410           ', '1', '105', 'Mexico '],\n",
       "   ['2235', '2/15/1999', '9410           ', '1', '65.6', 'Mexico '],\n",
       "   ['726', '1/15/1999', '8730           ', '1', '115.5', 'Mexico '],\n",
       "   ['728', '2/15/1999', '8730           ', '1', '63', 'Mexico '],\n",
       "   ['725', '1/15/1999', '8730           ', '1', '115.5', 'Mexico '],\n",
       "   ['727', '2/15/1999', '8730           ', '1', '63', 'Mexico '],\n",
       "   ['433', '1/15/1999', '2060           ', '1', '804.3', 'Mexico '],\n",
       "   ['728', '1/15/1999', '8010           ', '1', '63', 'Mexico '],\n",
       "   ['1990', '2/15/1999', '8010           ', '1', '257.2', 'Mexico '],\n",
       "   ['727', '1/15/1999', '8010           ', '1', '63', 'Mexico '],\n",
       "   ['1116', '1/15/1999', '8010           ', '1', '251.9', 'Mexico '],\n",
       "   ['2083', '3/15/1999', '8010           ', '1', '309.7', 'Mexico '],\n",
       "   ['981', '1/15/1999', '2070           ', '1', '157.4', 'Mexico '],\n",
       "   ['2235', '1/15/1999', '2070           ', '1', '65.6', 'Mexico '],\n",
       "   ['740', '1/15/1999', '7740           ', '1', '170.6', 'Mexico '],\n",
       "   ['739', '1/15/1999', '7740           ', '1', '170.6', 'Mexico '],\n",
       "   ['2211', '1/15/1999', '7740           ', '1', '107.6', 'Mexico '],\n",
       "   ['2234', '1/15/1999', '7740           ', '1', '65.6', 'Mexico '],\n",
       "   ['609', '2/15/1999', '7740           ', '1', '778.8', 'Mexico '],\n",
       "   ['2284', '3/15/1999', '7740           ', '1', '293.9', 'Mexico '],\n",
       "   ['757', '1/15/1999', '7580           ', '2', '167.9', 'Mexico '],\n",
       "   ['1173', '2/15/1999', '7580           ', '1', '525', 'Mexico '],\n",
       "   ['491', '2/15/1999', '7580           ', '2', '1630.7', 'Mexico '],\n",
       "   ['574', '6/3/2002', '7580           ', '1', '869.1', 'Mexico '],\n",
       "   ['443', '2/15/1999', '7580           ', '1', '790.9', 'Mexico '],\n",
       "   ['597', '2/15/1999', '7580           ', '1', '892.2', 'Mexico '],\n",
       "   ['433', '1/15/1999', '7580           ', '1', '804.3', 'Mexico '],\n",
       "   ['491', '1/15/1999', '7580           ', '2', '1630.7', 'Mexico '],\n",
       "   ['767', '1/15/1999', '7580           ', '1', '105', 'Mexico '],\n",
       "   ['1975', '1/15/1999', '7580           ', '1', '52.5', 'Mexico '],\n",
       "   ['2270', '5/31/2002', '7580           ', '1', '314.9', 'Mexico '],\n",
       "   ['2094', '2/15/1999', '7580           ', '1', '433.1', 'Mexico '],\n",
       "   ['2277', '2/15/1999', '7580           ', '1', '251.9', 'Mexico '],\n",
       "   ['1185', '2/15/1999', '7580           ', '1', '419.9', 'Mexico '],\n",
       "   ['426', '2/15/1999', '7580           ', '1', '795.1', 'Mexico '],\n",
       "   ['533', '6/3/2002', '7580           ', '1', '524.7', 'Mexico '],\n",
       "   ['676', '3/15/1999', '7580           ', '2', '1603.9', 'Mexico '],\n",
       "   ['758', '1/15/1999', '9400           ', '1', '84', 'Mexico '],\n",
       "   ['2373', '4/10/2003', '9400           ', '1', '619.5', 'Mexico '],\n",
       "   ['1920', '6/4/2002', '9400           ', '1', '262.4', 'Mexico '],\n",
       "   ['2211', '1/15/1999', '9400           ', '1', '107.6', 'Mexico '],\n",
       "   ['1122', '2/15/1999', '9400           ', '1', '157.4', 'Mexico '],\n",
       "   ['604', '2/15/1999', '9400           ', '1', '461.7', 'Mexico '],\n",
       "   ['772', '1/15/1999', '9330           ', '1', '165.3', 'Mexico '],\n",
       "   ['979', '1/15/1999', '8188           ', '1', '393.7', 'Mexico '],\n",
       "   ['631', '2/15/1999', '2109           ', '1', '346.2', 'Mexico '],\n",
       "   ['1120', '1/15/1999', '7729           ', '1', '173.2', 'Mexico '],\n",
       "   ['606', '4/11/2003', '7729           ', '1', '337.8', 'Mexico '],\n",
       "   ['2234', '2/15/1999', '7729           ', '1', '65.6', 'Mexico '],\n",
       "   ['1916', '6/5/2002', '7729           ', '1', '286.1', 'Mexico '],\n",
       "   ['2235', '2/15/1999', '7729           ', '1', '65.6', 'Mexico '],\n",
       "   ['1517', '3/15/1999', '7729           ', '1', '141.7', 'Mexico '],\n",
       "   ['728', '3/15/1999', '7729           ', '1', '63', 'Mexico '],\n",
       "   ['499', '1/15/1999', '2110           ', '1', '846.3', 'Mexico '],\n",
       "   ['730', '5/31/2002', '2110           ', '1', '309.7', 'Mexico '],\n",
       "   ['823', '5/31/2002', '2110           ', '1', '624.7', 'Mexico '],\n",
       "   ['826', '5/31/2002', '2110           ', '1', '918.7', 'Mexico '],\n",
       "   ['2081', '1/15/1999', '2110           ', '1', '220.4', 'Mexico '],\n",
       "   ['1065', '2/15/1999', '2110           ', '1', '296.6', 'Mexico '],\n",
       "   ['2268', '3/15/1999', '2110           ', '1', '309.7', 'Mexico '],\n",
       "   ['1990', '1/15/1999', '9010           ', '1', '257.2', 'Mexico '],\n",
       "   ['559', '4/10/2003', '9010           ', '1', '643.4', 'Mexico '],\n",
       "   ['1948', '1/15/1999', '9010           ', '2', '593.1', 'Mexico '],\n",
       "   ['400', '1/15/1999', '9010           ', '1', '683.8', 'Mexico '],\n",
       "   ['910', '2/15/1999', '9010           ', '1', '414.7', 'Mexico '],\n",
       "   ['2192', '3/15/1999', '9010           ', '1', '202.1', 'Mexico '],\n",
       "   ['2331', '1/15/1999', '7880           ', '1', '535.5', 'Mexico '],\n",
       "   ['596', '2/15/1999', '7880           ', '1', '746.5', 'Mexico '],\n",
       "   ['2016', '4/10/2003', '7880           ', '1', '309.7', 'Mexico '],\n",
       "   ['964', '4/11/2003', '7880           ', '1', '330.7', 'Mexico '],\n",
       "   ['580', '2/15/1999', '7880           ', '1', '734.7', 'Mexico '],\n",
       "   ['1935', '5/31/2002', '7880           ', '1', '136.4', 'Mexico '],\n",
       "   ['981', '2/15/1999', '7880           ', '1', '157.4', 'Mexico '],\n",
       "   ['1133', '6/3/2002', '2125           ', '1', '645.7', 'Mexico '],\n",
       "   ['193', '2/15/1999', '8500           ', '1', '682', 'Mexico '],\n",
       "   ['2279', '2/15/1999', '8500           ', '1', '165.3', 'Mexico '],\n",
       "   ['767', '1/15/1999', '8500           ', '1', '105', 'Mexico '],\n",
       "   ['1116', '2/15/1999', '8500           ', '1', '251.9', 'Mexico '],\n",
       "   ['726', '6/8/2002', '8500           ', '1', '120.7', 'Mexico '],\n",
       "   ['725', '6/8/2002', '8500           ', '1', '120.7', 'Mexico '],\n",
       "   ['433', '2/15/1999', '9300           ', '1', '804.3', 'Mexico '],\n",
       "   ['491', '2/15/1999', '9300           ', '1', '815.3', 'Mexico '],\n",
       "   ['1956', '2/15/1999', '9300           ', '1', '153.8', 'Mexico '],\n",
       "   ['1957', '2/15/1999', '9300           ', '1', '153.8', 'Mexico '],\n",
       "   ['2071', '5/31/2002', '9300           ', '1', '346.4', 'Mexico '],\n",
       "   ['550', '2/15/1999', '9300           ', '1', '404', 'Mexico '],\n",
       "   ['2083', '2/15/1999', '9300           ', '1', '309.7', 'Mexico '],\n",
       "   ['758', '1/15/1999', '2128           ', '2', '167.9', 'Mexico '],\n",
       "   ['757', '1/15/1999', '2128           ', '2', '167.9', 'Mexico '],\n",
       "   ['2012', '3/15/1999', '2128           ', '1', '377.9', 'Mexico '],\n",
       "   ['482', '2/15/1999', '9260           ', '1', '672', 'Mexico '],\n",
       "   ['491', '4/12/2003', '2129           ', '1', '890.7', 'Mexico '],\n",
       "   ['2094', '6/4/2002', '2129           ', '1', '438.3', 'Mexico '],\n",
       "   ['727', '3/15/1999', '2129           ', '1', '63', 'Mexico '],\n",
       "   ['901', '3/15/1999', '2129           ', '1', '409.4', 'Mexico '],\n",
       "   ['532', '2/15/1999', '2140           ', '1', '556.5', 'Mexico '],\n",
       "   ['604', '2/15/1999', '7800           ', '1', '461.7', 'Mexico '],\n",
       "   ['550', '2/15/1999', '7800           ', '2', '808', 'Mexico '],\n",
       "   ['318', '1/15/1999', '7800           ', '1', '866', 'Mexico '],\n",
       "   ['573', '1/15/1999', '7800           ', '1', '275.4', 'Mexico '],\n",
       "   ['2234', '1/15/1999', '7800           ', '1', '65.6', 'Mexico '],\n",
       "   ['400', '2/15/1999', '7800           ', '1', '683.8', 'Mexico '],\n",
       "   ['1436', '3/15/1999', '7800           ', '1', '312.3', 'Mexico '],\n",
       "   ['2005', '3/15/1999', '7800           ', '1', '299.2', 'Mexico '],\n",
       "   ['713', '2/15/1999', '7570           ', '1', '160.1', 'Mexico '],\n",
       "   ['714', '2/15/1999', '7570           ', '1', '160.1', 'Mexico '],\n",
       "   ['1182', '2/15/1999', '7570           ', '1', '157.4', 'Mexico '],\n",
       "   ['797', '1/15/1999', '7570           ', '1', '301.8', 'Mexico '],\n",
       "   ['1915', '5/31/2002', '7570           ', '1', '467.2', 'Mexico '],\n",
       "   ['976', '5/31/2002', '7570           ', '2', '629.9', 'Mexico '],\n",
       "   ['727', '1/15/1999', '7570           ', '1', '63', 'Mexico '],\n",
       "   ['767', '2/15/1999', '7570           ', '1', '105', 'Mexico '],\n",
       "   ['426', '3/15/1999', '7570           ', '1', '795.1', 'Mexico '],\n",
       "   ['768', '2/15/1999', '7570           ', '1', '105', 'Mexico '],\n",
       "   ['400', '4/12/2003', '2160           ', '1', '772.3', 'Mexico '],\n",
       "   ['725', '2/15/1999', '9359           ', '1', '115.5', 'Mexico '],\n",
       "   ['726', '2/15/1999', '9359           ', '1', '115.5', 'Mexico '],\n",
       "   ['946', '5/31/2002', '2169           ', '1', '708.7', 'Mexico '],\n",
       "   ['758', '1/15/1999', '2169           ', '1', '84', 'Mexico '],\n",
       "   ['757', '3/15/1999', '2169           ', '1', '84', 'Mexico '],\n",
       "   ['550', '2/15/1999', '2169           ', '1', '404', 'Mexico '],\n",
       "   ['1045', '6/3/2002', '2169           ', '1', '217.8', 'Mexico '],\n",
       "   ['1173', '2/15/1999', '2169           ', '1', '525', 'Mexico '],\n",
       "   ['2081', '2/15/1999', '2200           ', '2', '440.9', 'Mexico '],\n",
       "   ['767', '2/15/1999', '7909           ', '1', '105', 'Mexico '],\n",
       "   ['2331', '2/15/1999', '7909           ', '1', '535.5', 'Mexico '],\n",
       "   ['513', '2/15/1999', '7909           ', '1', '451.4', 'Mexico '],\n",
       "   ['754', '2/15/1999', '7909           ', '1', '244.1', 'Mexico '],\n",
       "   ['768', '2/15/1999', '7909           ', '1', '105', 'Mexico '],\n",
       "   ['753', '2/15/1999', '7909           ', '1', '244.1', 'Mexico '],\n",
       "   ['2050', '2/15/1999', '7909           ', '1', '498.7', 'Mexico '],\n",
       "   ['992', '3/15/1999', '7909           ', '1', '278.2', 'Mexico '],\n",
       "   ['769', '2/15/1999', '7548           ', '1', '257.2', 'Mexico '],\n",
       "   ['770', '2/15/1999', '7548           ', '1', '257.2', 'Mexico '],\n",
       "   ['725', '1/15/1999', '2240           ', '1', '115.5', 'Mexico '],\n",
       "   ['769', '2/15/1999', '9200           ', '1', '257.2', 'Mexico '],\n",
       "   ['396', '2/15/1999', '9200           ', '1', '857.1', 'Mexico '],\n",
       "   ['770', '2/15/1999', '9200           ', '1', '257.2', 'Mexico '],\n",
       "   ['901', '2/15/1999', '9200           ', '1', '409.4', 'Mexico '],\n",
       "   ['443', '2/15/1999', '9200           ', '1', '790.9', 'Mexico '],\n",
       "   ['1168', '6/3/2002', '9200           ', '1', '377.9', 'Mexico '],\n",
       "   ['754', '3/15/1999', '9200           ', '1', '241.4', 'Mexico '],\n",
       "   ['726', '1/15/1999', '2250           ', '1', '115.5', 'Mexico '],\n",
       "   ['758', '1/15/1999', '2250           ', '1', '84', 'Mexico '],\n",
       "   ['491', '4/12/2003', '2250           ', '1', '890.7', 'Mexico '],\n",
       "   ['767', '1/15/1999', '2250           ', '1', '105', 'Mexico '],\n",
       "   ['2388', '2/15/1999', '2250           ', '1', '309.7', 'Mexico '],\n",
       "   ['769', '2/15/1999', '9249           ', '1', '251.9', 'Mexico '],\n",
       "   ['770', '2/15/1999', '9249           ', '1', '251.9', 'Mexico '],\n",
       "   ['609', '1/15/1999', '2260           ', '1', '778.8', 'Mexico '],\n",
       "   ['599', '1/15/1999', '2310           ', '1', '753.6', 'Mexico '],\n",
       "   ['1188', '2/15/1999', '9099           ', '1', '472.4', 'Mexico '],\n",
       "   ['940', '2/15/1999', '2320           ', '1', '687.7', 'Mexico '],\n",
       "   ['2120', '2/15/1999', '2320           ', '1', '524.7', 'Mexico '],\n",
       "   ['1969', '2/15/1999', '7859           ', '2', '477.6', 'Mexico '],\n",
       "   ['713', '2/15/1999', '7859           ', '1', '160.1', 'Mexico '],\n",
       "   ['2255', '2/15/1999', '7859           ', '1', '57.7', 'Mexico '],\n",
       "   ['2188', '1/15/1999', '7859           ', '1', '233.6', 'Mexico '],\n",
       "   ['826', '5/31/2002', '7859           ', '1', '918.7', 'Mexico '],\n",
       "   ['2254', '2/15/1999', '7859           ', '1', '57.7', 'Mexico '],\n",
       "   ['714', '2/15/1999', '7859           ', '1', '160.1', 'Mexico '],\n",
       "   ['1968', '2/15/1999', '7859           ', '2', '477.6', 'Mexico '],\n",
       "   ['1139', '6/3/2002', '7859           ', '1', '682.5', 'Mexico '],\n",
       "   ['2374', '3/15/1999', '7859           ', '1', '630', 'Mexico '],\n",
       "   ['725', '1/15/1999', '2330           ', '1', '115.5', 'Mexico '],\n",
       "   ['728', '1/15/1999', '2330           ', '1', '63', 'Mexico '],\n",
       "   ['2380', '5/31/2002', '2330           ', '1', '293.9', 'Mexico '],\n",
       "   ['2352', '2/15/1999', '2330           ', '1', '367.4', 'Mexico '],\n",
       "   ['725', '3/15/1999', '2330           ', '1', '115.5', 'Mexico '],\n",
       "   ['604', '1/15/1999', '2340           ', '1', '461.7', 'Mexico '],\n",
       "   ['2331', '2/15/1999', '2340           ', '1', '535.5', 'Mexico '],\n",
       "   ['550', '2/15/1999', '2340           ', '1', '404', 'Mexico '],\n",
       "   ['714', '3/15/1999', '2340           ', '1', '160.1', 'Mexico '],\n",
       "   ['2081', '2/15/1999', '7780           ', '1', '220.4', 'Mexico '],\n",
       "   ['2204', '2/15/1999', '9540           ', '1', '173.2', 'Mexico '],\n",
       "   ['910', '5/31/2002', '9540           ', '1', '430.4', 'Mexico '],\n",
       "   ['2053', '6/3/2002', '9540           ', '1', '325.4', 'Mexico '],\n",
       "   ['559', '2/15/1999', '9540           ', '1', '585.6', 'Mexico '],\n",
       "   ['2255', '2/15/1999', '9540           ', '1', '57.7', 'Mexico '],\n",
       "   ['559', '5/31/2002', '9540           ', '1', '624.5', 'Mexico '],\n",
       "   ['2081', '2/15/1999', '9540           ', '1', '220.4', 'Mexico '],\n",
       "   ['901', '2/15/1999', '9540           ', '1', '409.4', 'Mexico '],\n",
       "   ['2205', '2/15/1999', '9540           ', '1', '173.2', 'Mexico '],\n",
       "   ['1168', '2/15/1999', '9540           ', '1', '367.4', 'Mexico '],\n",
       "   ['2254', '2/15/1999', '9540           ', '1', '57.7', 'Mexico '],\n",
       "   ['2352', '3/15/1999', '9540           ', '1', '367.4', 'Mexico '],\n",
       "   ['2255', '1/15/1999', '2360           ', '1', '57.7', 'Mexico '],\n",
       "   ['981', '1/15/1999', '2360           ', '1', '167.9', 'Mexico '],\n",
       "   ['597', '3/15/1999', '2360           ', '1', '892.2', 'Mexico '],\n",
       "   ['2211', '2/15/1999', '9430           ', '1', '107.6', 'Mexico '],\n",
       "   ['491', '4/11/2003', '9430           ', '1', '890.7', 'Mexico '],\n",
       "   ['1144', '6/6/2002', '9430           ', '1', '414.7', 'Mexico '],\n",
       "   ['2210', '2/15/1999', '9430           ', '1', '107.6', 'Mexico '],\n",
       "   ['645', '1/15/1999', '2400           ', '1', '746.5', 'Mexico '],\n",
       "   ['606', '2/15/1999', '2400           ', '1', '314.7', 'Mexico '],\n",
       "   ['2235', '2/15/1999', '8760           ', '1', '65.6', 'Mexico '],\n",
       "   ['964', '5/31/2002', '8760           ', '2', '656.1', 'Mexico '],\n",
       "   ['979', '2/15/1999', '8760           ', '1', '393.7', 'Mexico '],\n",
       "   ['2235', '1/15/1999', '8760           ', '1', '65.6', 'Mexico '],\n",
       "   ['1436', '1/15/1999', '8760           ', '1', '312.3', 'Mexico '],\n",
       "   ['396', '1/15/1999', '8760           ', '1', '857.1', 'Mexico '],\n",
       "   ['2234', '2/15/1999', '8760           ', '1', '65.6', 'Mexico '],\n",
       "   ['2388', '2/15/1999', '8760           ', '1', '309.7', 'Mexico '],\n",
       "   ['992', '3/15/1999', '8760           ', '1', '288.7', 'Mexico '],\n",
       "   ['2380', '3/15/1999', '8760           ', '1', '309.7', 'Mexico '],\n",
       "   ['2255', '2/15/1999', '8030           ', '1', '57.7', 'Mexico '],\n",
       "   ['2254', '2/15/1999', '8030           ', '1', '57.7', 'Mexico '],\n",
       "   ['2277', '2/15/1999', '7550           ', '1', '251.9', 'Mexico '],\n",
       "   ['1047', '4/10/2003', '7550           ', '1', '209.9', 'Mexico '],\n",
       "   ['989', '5/31/2002', '7550           ', '1', '419.9', 'Mexico '],\n",
       "   ['1935', '6/3/2002', '7550           ', '1', '136.4', 'Mexico '],\n",
       "   ['513', '2/15/1999', '7550           ', '1', '451.4', 'Mexico '],\n",
       "   ['609', '2/15/1999', '7550           ', '1', '778.8', 'Mexico '],\n",
       "   ['725', '2/15/1999', '7550           ', '1', '115.5', 'Mexico '],\n",
       "   ['1065', '2/15/1999', '7550           ', '1', '296.6', 'Mexico '],\n",
       "   ['433', '1/15/1999', '7550           ', '2', '1608.6', 'Mexico '],\n",
       "   ['726', '1/15/1999', '7550           ', '1', '115.5', 'Mexico '],\n",
       "   ['726', '2/15/1999', '7550           ', '1', '115.5', 'Mexico '],\n",
       "   ['767', '2/15/1999', '7550           ', '1', '105', 'Mexico '],\n",
       "   ['1066', '2/15/1999', '7550           ', '1', '296.6', 'Mexico '],\n",
       "   ['559', '2/15/1999', '7550           ', '1', '585.6', 'Mexico '],\n",
       "   ['768', '2/15/1999', '7550           ', '1', '105', 'Mexico '],\n",
       "   ['573', '2/15/1999', '7550           ', '1', '280.6', 'Mexico '],\n",
       "   ['1934', '6/3/2002', '7550           ', '1', '136.4', 'Mexico '],\n",
       "   ['475', '6/3/2002', '7550           ', '1', '1007.2', 'Mexico '],\n",
       "   ['2373', '3/15/1999', '7550           ', '1', '551.2', 'Mexico '],\n",
       "   ['989', '6/7/2002', '7550           ', '1', '419.9', 'Mexico '],\n",
       "   ['2277', '2/15/1999', '7889           ', '1', '251.9', 'Mexico '],\n",
       "   ['1173', '3/15/1999', '2420           ', '1', '525', 'Mexico '],\n",
       "   ['2373', '2/15/1999', '9207           ', '1', '551.2', 'Mexico '],\n",
       "   ['396', '2/15/1999', '9207           ', '2', '1714.1', 'Mexico '],\n",
       "   ['2388', '1/15/1999', '9207           ', '1', '309.7', 'Mexico '],\n",
       "   ['1085', '5/31/2002', '9207           ', '1', '84', 'Mexico '],\n",
       "   ['1201', '5/31/2002', '9207           ', '1', '577.5', 'Mexico '],\n",
       "   ['1927', '5/31/2002', '9207           ', '1', '99.7', 'Mexico '],\n",
       "   ['1086', '5/31/2002', '9207           ', '1', '84', 'Mexico '],\n",
       "   ['852', '2/15/1999', '9207           ', '1', '761.2', 'Mexico '],\n",
       "   ['94', '2/15/1999', '9207           ', '1', '866.2', 'Mexico '],\n",
       "   ['604', '2/15/1999', '9207           ', '1', '461.7', 'Mexico '],\n",
       "   ['2012', '3/15/1999', '9207           ', '1', '377.9', 'Mexico '],\n",
       "   ['2047', '3/15/1999', '9207           ', '1', '377.9', 'Mexico '],\n",
       "   ['2070', '3/15/1999', '9207           ', '1', '519.7', 'Mexico '],\n",
       "   ['729', '3/15/1999', '9207           ', '1', '301.8', 'Mexico '],\n",
       "   ['396', '2/15/1999', '7810           ', '1', '857.1', 'Mexico '],\n",
       "   ['2234', '3/15/1999', '2450           ', '1', '65.6', 'Mexico '],\n",
       "   ['433', '2/15/1999', '9479           ', '1', '804.3', 'Mexico '],\n",
       "   ['966', '5/31/2002', '9479           ', '1', '472.4', 'Mexico '],\n",
       "   ['989', '2/15/1999', '9479           ', '1', '467.2', 'Mexico '],\n",
       "   ['2192', '2/15/1999', '9479           ', '1', '202.1', 'Mexico '],\n",
       "   ['725', '1/15/1999', '2460           ', '1', '115.5', 'Mexico '],\n",
       "   ['767', '1/15/1999', '2470           ', '1', '105', 'Mexico '],\n",
       "   ['757', '3/15/1999', '2470           ', '1', '84', 'Mexico '],\n",
       "   ['551', '4/11/2003', '2470           ', '1', '922.2', 'Mexico '],\n",
       "   ['573', '2/15/1999', '7930           ', '1', '280.6', 'Mexico '],\n",
       "   ['2251', '4/11/2003', '7930           ', '1', '126', 'Mexico '],\n",
       "   ['1081', '2/15/1999', '2479           ', '1', '225.7', 'Mexico '],\n",
       "   ['604', '2/15/1999', '8820           ', '1', '461.7', 'Mexico '],\n",
       "   ['2081', '5/31/2002', '8820           ', '1', '225.7', 'Mexico '],\n",
       "   ['786', '5/31/2002', '8820           ', '1', '68.2', 'Mexico '],\n",
       "   ['2054', '5/31/2002', '8820           ', '1', '546', 'Mexico '],\n",
       "   ['1173', '2/15/1999', '8820           ', '1', '525', 'Mexico '],\n",
       "   ['609', '2/15/1999', '8820           ', '1', '778.8', 'Mexico '],\n",
       "   ['676', '2/15/1999', '8820           ', '1', '801.9', 'Mexico '],\n",
       "   ['1110', '3/15/1999', '8820           ', '1', '209.9', 'Mexico '],\n",
       "   ['2253', '4/10/2003', '7890           ', '1', '136.4', 'Mexico '],\n",
       "   ['2252', '4/10/2003', '7890           ', '1', '136.4', 'Mexico '],\n",
       "   ['2359', '6/5/2002', '7890           ', '1', '430.4', 'Mexico '],\n",
       "   ['2252', '4/10/2003', '7910           ', '1', '136.4', 'Mexico '],\n",
       "   ['2359', '5/31/2002', '7910           ', '1', '430.4', 'Mexico '],\n",
       "   ['1227', '6/4/2002', '2500           ', '1', '314.9', 'Mexico '],\n",
       "   ['1974', '4/10/2003', '8810           ', '1', '57.7', 'Mexico '],\n",
       "   ['1980', '4/10/2003', '8810           ', '1', '167.9', 'Mexico '],\n",
       "   ['1109', '4/11/2003', '2519           ', '1', '209.9', 'Mexico '],\n",
       "   ['1110', '4/11/2003', '2519           ', '1', '209.9', 'Mexico '],\n",
       "   ['550', '4/10/2003', '2519           ', '1', '433.4', 'Mexico '],\n",
       "   ['604', '3/15/1999', '2519           ', '2', '923.5', 'Mexico '],\n",
       "   ['2204', '3/15/1999', '2525           ', '1', '173.2', 'Mexico '],\n",
       "   ['676', '4/10/2003', '8770           ', '1', '856.3', 'Mexico '],\n",
       "   ['1005', '4/11/2003', '2530           ', '1', '110.2', 'Mexico '],\n",
       "   ['1000', '4/10/2003', '2530           ', '2', '178.4', 'Mexico '],\n",
       "   ['1203', '2/15/1999', '2530           ', '1', '314.9', 'Mexico '],\n",
       "   ['895', '4/10/2003', '8580           ', '1', '577.5', 'Mexico '],\n",
       "   ['559', '6/4/2002', '8580           ', '1', '624.5', 'Mexico '],\n",
       "   ['1173', '2/15/1999', '8580           ', '1', '525', 'Mexico '],\n",
       "   ['1174', '6/3/2002', '8580           ', '1', '577.5', 'Mexico '],\n",
       "   ['1110', '4/11/2003', '2640           ', '1', '209.9', 'Mexico '],\n",
       "   ['1109', '4/11/2003', '2640           ', '1', '209.9', 'Mexico '],\n",
       "   ['2407', '4/13/2003', '2640           ', '1', '81.3', 'Mexico '],\n",
       "   ['443', '4/11/2003', '7760           ', '1', '851.3', 'Mexico '],\n",
       "   ['2254', '2/15/1999', '7760           ', '1', '57.7', 'Mexico '],\n",
       "   ['645', '1/15/1999', '7760           ', '1', '746.5', 'Mexico '],\n",
       "   ['1005', '1/15/1999', '7760           ', '1', '107.6', 'Mexico '],\n",
       "   ['758', '1/15/1999', '7760           ', '1', '84', 'Mexico '],\n",
       "   ['1106', '2/15/1999', '7760           ', '1', '246.7', 'Mexico '],\n",
       "   ['1132', '2/15/1999', '7760           ', '1', '630', 'Mexico '],\n",
       "   ['1105', '2/15/1999', '7760           ', '1', '246.7', 'Mexico '],\n",
       "   ['2255', '2/15/1999', '7760           ', '1', '57.7', 'Mexico '],\n",
       "   ['1911', '3/15/1999', '7760           ', '1', '244.1', 'Mexico '],\n",
       "   ['1157', '1/15/1999', '2680           ', '1', '377.9', 'Mexico '],\n",
       "   ['1046', '1/15/1999', '2710           ', '1', '99.7', 'Mexico '],\n",
       "   ['952', '5/31/2002', '2710           ', '1', '262.4', 'Mexico '],\n",
       "   ['964', '5/31/2002', '7540           ', '1', '330.7', 'Mexico '],\n",
       "   ['838', '2/15/1999', '7540           ', '1', '934.5', 'Mexico '],\n",
       "   ['964', '1/15/1999', '2729           ', '1', '346.4', 'Mexico '],\n",
       "   ['2282', '1/15/1999', '2729           ', '1', '304.4', 'Mexico '],\n",
       "   ['728', '1/15/1999', '2729           ', '1', '63', 'Mexico '],\n",
       "   ['852', '3/15/1999', '2729           ', '1', '745.5', 'Mexico '],\n",
       "   ['910', '4/12/2003', '2729           ', '1', '430.4', 'Mexico '],\n",
       "   ['976', '4/12/2003', '2729           ', '1', '325.4', 'Mexico '],\n",
       "   ['2074', '2/15/1999', '2729           ', '1', '328.1', 'Mexico '],\n",
       "   ['1148', '6/3/2002', '2729           ', '1', '314.9', 'Mexico '],\n",
       "   ['609', '2/15/1999', '2729           ', '1', '778.8', 'Mexico '],\n",
       "   ['676', '2/15/1999', '2729           ', '1', '801.9', 'Mexico '],\n",
       "   ['1489', '2/15/1999', '2729           ', '1', '262.4', 'Mexico '],\n",
       "   ['604', '2/15/1999', '2729           ', '1', '461.7', 'Mexico '],\n",
       "   ['1215', '6/3/2002', '8029           ', '1', '356.9', 'Mexico '],\n",
       "   ['1131', '2/15/1999', '8029           ', '1', '419.9', 'Mexico '],\n",
       "   ['728', '1/15/1999', '2730           ', '1', '63', 'Mexico '],\n",
       "   ['681', '1/15/1999', '2730           ', '1', '629.7', 'Mexico '],\n",
       "   ['1956', '1/15/1999', '2730           ', '2', '307.6', 'Mexico '],\n",
       "   ['2284', '1/15/1999', '2730           ', '1', '293.9', 'Mexico '],\n",
       "   ['768', '1/15/1999', '2730           ', '1', '105', 'Mexico '],\n",
       "   ['716', '4/12/2003', '2730           ', '1', '152.2', 'Mexico '],\n",
       "   ['785', '4/12/2003', '2730           ', '1', '57.7', 'Mexico '],\n",
       "   ['715', '4/12/2003', '2730           ', '1', '152.2', 'Mexico '],\n",
       "   ['915', '4/12/2003', '2730           ', '1', '556.5', 'Mexico '],\n",
       "   ['786', '4/12/2003', '2730           ', '1', '57.7', 'Mexico '],\n",
       "   ['981', '4/12/2003', '2730           ', '1', '157.4', 'Mexico '],\n",
       "   ['573', '1/15/1999', '2730           ', '1', '280.6', 'Mexico '],\n",
       "   ['727', '1/15/1999', '2730           ', '1', '63', 'Mexico '],\n",
       "   ['1948', '3/15/1999', '2730           ', '1', '296.6', 'Mexico '],\n",
       "   ['606', '3/15/1999', '2730           ', '2', '629.5', 'Mexico '],\n",
       "   ['2380', '4/11/2003', '2739           ', '1', '293.9', 'Mexico '],\n",
       "   ['758', '1/15/1999', '2739           ', '1', '84', 'Mexico '],\n",
       "   ['1957', '1/15/1999', '2739           ', '1', '153.8', 'Mexico '],\n",
       "   ['2388', '4/10/2003', '2739           ', '1', '309.7', 'Mexico '],\n",
       "   ['493', '4/10/2003', '2760           ', '1', '969.7', 'Mexico '],\n",
       "   ['475', '3/15/1999', '2760           ', '1', '970.2', 'Mexico '],\n",
       "   ['2210', '3/15/1999', '2770           ', '1', '107.6', 'Mexico '],\n",
       "   ['1080', '2/15/1999', '2770           ', '1', '262.4', 'Mexico '],\n",
       "   ['1079', '2/15/1999', '2770           ', '1', '262.4', 'Mexico '],\n",
       "   ['1169', '2/15/1999', '2770           ', '1', '419.9', 'Mexico '],\n",
       "   ['574', '6/4/2002', '8520           ', '1', '869.1', 'Mexico '],\n",
       "   ['962', '2/15/1999', '8520           ', '1', '525', 'Mexico '],\n",
       "   ['2277', '2/15/1999', '8520           ', '1', '251.9', 'Mexico '],\n",
       "   ['1927', '5/31/2002', '8520           ', '1', '99.7', 'Mexico '],\n",
       "   ['2388', '2/15/1999', '8520           ', '1', '309.7', 'Mexico '],\n",
       "   ['2070', '2/15/1999', '8520           ', '2', '1039.4', 'Mexico '],\n",
       "   ['761', '4/12/2003', '2810           ', '1', '173.2', 'Mexico '],\n",
       "   ['762', '4/12/2003', '2810           ', '1', '173.2', 'Mexico '],\n",
       "   ['2282', '2/15/1999', '7918           ', '1', '304.4', 'Mexico '],\n",
       "   ['2282', '2/15/1999', '9009           ', '1', '304.4', 'Mexico '],\n",
       "   ['826', '6/8/2002', '9009           ', '1', '918.7', 'Mexico '],\n",
       "   ['966', '5/31/2002', '2840           ', '1', '472.4', 'Mexico '],\n",
       "   ['728', '1/15/1999', '2840           ', '1', '63', 'Mexico '],\n",
       "   ['2284', '2/15/1999', '9340           ', '1', '293.9', 'Mexico '],\n",
       "   ['1518', '2/15/1999', '9340           ', '1', '141.7', 'Mexico '],\n",
       "   ['726', '5/31/2002', '9340           ', '1', '120.7', 'Mexico '],\n",
       "   ['767', '2/15/1999', '9340           ', '1', '105', 'Mexico '],\n",
       "   ['768', '2/15/1999', '9340           ', '1', '105', 'Mexico '],\n",
       "   ['797', '2/15/1999', '9340           ', '1', '301.8', 'Mexico '],\n",
       "   ['1517', '2/15/1999', '9340           ', '1', '141.7', 'Mexico '],\n",
       "   ['1346', '1/15/1999', '2860           ', '1', '304.4', 'Mexico '],\n",
       "   ['932', '3/15/1999', '2860           ', '1', '430.4', 'Mexico '],\n",
       "   ['1345', '1/15/1999', '2860           ', '1', '304.4', 'Mexico '],\n",
       "   ['2211', '2/15/1999', '2860           ', '1', '107.6', 'Mexico '],\n",
       "   ['671', '4/10/2003', '2860           ', '1', '944.7', 'Mexico '],\n",
       "   ['2210', '2/15/1999', '2860           ', '1', '107.6', 'Mexico '],\n",
       "   ['910', '5/31/2002', '2920           ', '1', '430.4', 'Mexico '],\n",
       "   ['2211', '2/15/1999', '2920           ', '1', '107.6', 'Mexico '],\n",
       "   ['758', '1/15/1999', '2940           ', '1', '84', 'Mexico '],\n",
       "   ['1948', '3/15/1999', '2940           ', '1', '296.6', 'Mexico '],\n",
       "   ['1949', '3/15/1999', '2940           ', '1', '296.6', 'Mexico '],\n",
       "   ['767', '2/15/1999', '7739           ', '1', '102.3', 'Mexico '],\n",
       "   ['768', '2/15/1999', '7739           ', '1', '102.3', 'Mexico '],\n",
       "   ['2282', '1/15/1999', '2980           ', '1', '304.4', 'Mexico '],\n",
       "   ['559', '6/5/2002', '2980           ', '1', '624.5', 'Mexico '],\n",
       "   ['1185', '2/15/1999', '7950           ', '1', '419.9', 'Mexico '],\n",
       "   ['1053', '2/15/1999', '7950           ', '1', '251.9', 'Mexico '],\n",
       "   ['1957', '2/15/1999', '8040           ', '1', '153.8', 'Mexico '],\n",
       "   ['1956', '2/15/1999', '8040           ', '1', '153.8', 'Mexico '],\n",
       "   ['2254', '1/15/1999', '4000           ', '1', '57.7', 'Mexico '],\n",
       "   ['2192', '4/11/2003', '4000           ', '1', '209.9', 'Mexico '],\n",
       "   ['2255', '1/15/1999', '4000           ', '1', '57.7', 'Mexico '],\n",
       "   ['2046', '6/3/2002', '4000           ', '1', '433.1', 'Mexico '],\n",
       "   ['1169', '1/15/1999', '4009           ', '1', '435.7', 'Mexico '],\n",
       "   ['1430', '1/15/1999', '4009           ', '1', '283.4', 'Mexico '],\n",
       "   ['2380', '5/31/2002', '4009           ', '1', '293.9', 'Mexico '],\n",
       "   ['2064', '4/10/2003', '4009           ', '1', '496.1', 'Mexico '],\n",
       "   ['2235', '2/15/1999', '9239           ', '1', '65.6', 'Mexico '],\n",
       "   ['2234', '2/15/1999', '9239           ', '1', '65.6', 'Mexico '],\n",
       "   ['757', '1/15/1999', '4010           ', '1', '84', 'Mexico '],\n",
       "   ['758', '1/15/1999', '4010           ', '1', '84', 'Mexico '],\n",
       "   ['1116', '1/15/1999', '4020           ', '1', '251.9', 'Mexico '],\n",
       "   ['433', '4/11/2003', '4020           ', '1', '880.2', 'Mexico '],\n",
       "   ['120', '2/15/1999', '4020           ', '1', '829.5', 'Mexico '],\n",
       "   ['753', '3/15/1999', '4020           ', '1', '244.1', 'Mexico '],\n",
       "   ['400', '2/15/1999', '9250           ', '1', '683.8', 'Mexico '],\n",
       "   ['976', '5/31/2002', '9250           ', '1', '314.9', 'Mexico '],\n",
       "   ['396', '6/7/2002', '9250           ', '1', '892.2', 'Mexico '],\n",
       "   ['635', '4/9/2003', '4100           ', '1', '881.7', 'Mexico '],\n",
       "   ['2082', '4/10/2003', '4100           ', '1', '335.9', 'Mexico '],\n",
       "   ['964', '4/12/2003', '4100           ', '1', '320.2', 'Mexico '],\n",
       "   ['609', '2/15/1999', '4100           ', '1', '778.8', 'Mexico '],\n",
       "   ['676', '2/15/1999', '4100           ', '1', '801.9', 'Mexico '],\n",
       "   ['2331', '2/15/1999', '4100           ', '1', '535.5', 'Mexico '],\n",
       "   ['2359', '4/10/2003', '4100           ', '1', '430.4', 'Mexico '],\n",
       "   ['475', '2/15/1999', '4100           ', '1', '970.2', 'Mexico '],\n",
       "   ['491', '2/15/1999', '4129           ', '1', '815.3', 'Mexico '],\n",
       "   ['681', '2/15/1999', '7790           ', '1', '629.7', 'Mexico '],\n",
       "   ['2255', '6/7/2002', '7790           ', '1', '60.3', 'Mexico '],\n",
       "   ['2254', '6/7/2002', '7790           ', '1', '60.3', 'Mexico '],\n",
       "   ['2022', '5/31/2002', '4210           ', '1', '230.9', 'Mexico '],\n",
       "   ['2054', '5/31/2002', '4210           ', '1', '546', 'Mexico '],\n",
       "   ['2284', '1/15/1999', '4210           ', '1', '293.9', 'Mexico '],\n",
       "   ['826', '5/31/2002', '4210           ', '1', '945', 'Mexico '],\n",
       "   ['725', '2/15/1999', '9080           ', '1', '115.5', 'Mexico '],\n",
       "   ['2340', '2/15/1999', '9080           ', '1', '461.9', 'Mexico '],\n",
       "   ['726', '2/15/1999', '9080           ', '1', '115.5', 'Mexico '],\n",
       "   ['981', '5/31/2002', '4230           ', '1', '157.4', 'Mexico '],\n",
       "   ['727', '2/15/1999', '9320           ', '1', '68.2', 'Mexico '],\n",
       "   ['728', '2/15/1999', '9320           ', '1', '68.2', 'Mexico '],\n",
       "   ['837', '2/15/1999', '9320           ', '1', '813.7', 'Mexico '],\n",
       "   ['768', '1/15/1999', '4239           ', '1', '105', 'Mexico '],\n",
       "   ['1110', '1/15/1999', '4240           ', '1', '209.9', 'Mexico '],\n",
       "   ['797', '3/15/1999', '4240           ', '1', '301.8', 'Mexico '],\n",
       "   ['1116', '2/15/1999', '9369           ', '1', '251.9', 'Mexico '],\n",
       "   ['2359', '5/31/2002', '9369           ', '2', '860.9', 'Mexico '],\n",
       "   ['1112', '2/15/1999', '9369           ', '1', '116.5', 'Mexico '],\n",
       "   ['1111', '2/15/1999', '9369           ', '1', '116.5', 'Mexico '],\n",
       "   ['754', '1/15/1999', '4259           ', '1', '244.1', 'Mexico '],\n",
       "   ['2331', '1/15/1999', '4259           ', '1', '535.5', 'Mexico '],\n",
       "   ['2056', '2/15/1999', '4259           ', '1', '325.4', 'Mexico '],\n",
       "   ['964', '4/10/2003', '4269           ', '1', '330.7', 'Mexico '],\n",
       "   ['757', '2/15/1999', '4269           ', '1', '84', 'Mexico '],\n",
       "   ['2057', '1/15/1999', '4270           ', '1', '472.4', 'Mexico '],\n",
       "   ['1965', '4/10/2003', '4270           ', '1', '89.2', 'Mexico '],\n",
       "   ['740', '2/15/1999', '4270           ', '1', '170.6', 'Mexico '],\n",
       "   ['1964', '4/10/2003', '4270           ', '1', '89.2', 'Mexico '],\n",
       "   ['1229', '2/15/1999', '4270           ', '1', '236.2', 'Mexico '],\n",
       "   ['2064', '5/31/2002', '4280           ', '1', '496.1', 'Mexico '],\n",
       "   ['726', '1/15/1999', '4280           ', '1', '115.5', 'Mexico '],\n",
       "   ['1911', '2/15/1999', '4280           ', '1', '244.1', 'Mexico '],\n",
       "   ['1085', '6/3/2002', '4280           ', '1', '84', 'Mexico '],\n",
       "   ['1086', '6/3/2002', '4280           ', '1', '84', 'Mexico '],\n",
       "   ['990', '3/15/1999', '4280           ', '1', '503.9', 'Mexico '],\n",
       "   ['1960', '2/15/1999', '7560           ', '1', '97.1', 'Mexico '],\n",
       "   ['573', '1/15/1999', '7560           ', '1', '280.6', 'Mexico '],\n",
       "   ['1961', '2/15/1999', '7560           ', '1', '97.1', 'Mexico '],\n",
       "   ['645', '2/15/1999', '7560           ', '1', '746.5', 'Mexico '],\n",
       "   ['1122', '2/15/1999', '7560           ', '1', '157.4', 'Mexico '],\n",
       "   ['1132', '2/15/1999', '7560           ', '1', '630', 'Mexico '],\n",
       "   ['609', '2/15/1999', '7560           ', '2', '1557.7', 'Mexico '],\n",
       "   ['609', '6/4/2002', '4309           ', '1', '829.2', 'Mexico '],\n",
       "   ['2012', '5/31/2002', '4317           ', '1', '388.4', 'Mexico '],\n",
       "   ['989', '2/15/1999', '4317           ', '1', '467.2', 'Mexico '],\n",
       "   ['2255', '2/15/1999', '7969           ', '1', '57.7', 'Mexico '],\n",
       "   ['1066', '1/15/1999', '7969           ', '1', '296.6', 'Mexico '],\n",
       "   ['2255', '5/31/2002', '7969           ', '1', '60.3', 'Mexico '],\n",
       "   ['1116', '2/15/1999', '7969           ', '1', '251.9', 'Mexico '],\n",
       "   ['2254', '2/15/1999', '7969           ', '1', '57.7', 'Mexico '],\n",
       "   ['2388', '5/31/2002', '7969           ', '1', '309.7', 'Mexico '],\n",
       "   ['2056', '3/15/1999', '7969           ', '1', '325.4', 'Mexico '],\n",
       "   ['2045', '5/31/2002', '4319           ', '1', '419.9', 'Mexico '],\n",
       "   ['597', '2/15/1999', '4319           ', '1', '892.2', 'Mexico '],\n",
       "   ['901', '3/15/1999', '4319           ', '1', '409.4', 'Mexico '],\n",
       "   ['740', '5/31/2002', '4320           ', '1', '173.2', 'Mexico '],\n",
       "   ['1201', '4/11/2003', '4320           ', '1', '577.5', 'Mexico '],\n",
       "   ['642', '4/11/2003', '4320           ', '1', '903.8', 'Mexico '],\n",
       "   ['819', '4/11/2003', '4320           ', '1', '997.5', 'Mexico '],\n",
       "   ['2379', '1/15/1999', '8720           ', '1', '209.9', 'Mexico '],\n",
       "   ['1975', '3/15/1999', '8720           ', '1', '52.5', 'Mexico '],\n",
       "   ['396', '1/15/1999', '4326           ', '1', '857.1', 'Mexico '],\n",
       "   ['1517', '1/15/1999', '4326           ', '1', '141.7', 'Mexico '],\n",
       "   ['1182', '3/15/1999', '4326           ', '1', '157.4', 'Mexico '],\n",
       "   ['786', '4/11/2003', '4326           ', '1', '57.7', 'Mexico '],\n",
       "   ['1894', '1/15/1999', '4326           ', '1', '682.2', 'Mexico '],\n",
       "   ['634', '4/11/2003', '4326           ', '1', '897.8', 'Mexico '],\n",
       "   ['785', '4/11/2003', '4326           ', '1', '57.7', 'Mexico '],\n",
       "   ['575', '4/11/2003', '4326           ', '1', '929.2', 'Mexico '],\n",
       "   ['676', '2/15/1999', '4326           ', '1', '801.9', 'Mexico '],\n",
       "   ['2331', '2/15/1999', '4326           ', '1', '535.5', 'Mexico '],\n",
       "   ['2222', '3/15/1999', '4326           ', '1', '246.7', 'Mexico '],\n",
       "   ['767', '3/15/1999', '4326           ', '1', '105', 'Mexico '],\n",
       "   ['499', '3/15/1999', '4336           ', '1', '846.3', 'Mexico '],\n",
       "   ['767', '1/15/1999', '4338           ', '1', '105', 'Mexico '],\n",
       "   ['726', '1/15/1999', '4338           ', '1', '115.5', 'Mexico '],\n",
       "   ['768', '2/15/1999', '4350           ', '1', '105', 'Mexico '],\n",
       "   ['728', '1/15/1999', '9000           ', '1', '63', 'Mexico '],\n",
       "   ['1956', '3/15/1999', '9000           ', '1', '153.8', 'Mexico '],\n",
       "   ['1182', '1/15/1999', '7840           ', '1', '157.4', 'Mexico '],\n",
       "   ['2045', '5/31/2002', '4420           ', '1', '419.9', 'Mexico '],\n",
       "   ['2138', '5/31/2002', '4420           ', '1', '398.9', 'Mexico '],\n",
       "   ['396', '1/15/1999', '4430           ', '1', '857.1', 'Mexico '],\n",
       "   ['2121', '1/15/1999', '4430           ', '1', '629.7', 'Mexico '],\n",
       "   ['930', '4/11/2003', '4430           ', '1', '525', 'Mexico '],\n",
       "   ['1174', '5/31/2002', '4450           ', '1', '577.5', 'Mexico '],\n",
       "   ['491', '2/15/1999', '4450           ', '1', '815.3', 'Mexico '],\n",
       "   ['2045', '1/15/1999', '4470           ', '1', '409.4', 'Mexico '],\n",
       "   ['2047', '2/15/1999', '4470           ', '1', '377.9', 'Mexico '],\n",
       "   ['901', '3/15/1999', '4470           ', '1', '409.4', 'Mexico '],\n",
       "   ['550', '2/15/1999', '4484           ', '1', '404', 'Mexico '],\n",
       "   ['550', '3/15/1999', '4484           ', '1', '404', 'Mexico '],\n",
       "   ['910', '3/15/1999', '4484           ', '1', '414.7', 'Mexico '],\n",
       "   ['669', '4/10/2003', '4513           ', '1', '1364.7', 'Mexico '],\n",
       "   ['609', '3/15/1999', '4530           ', '1', '778.8', 'Mexico '],\n",
       "   ['2252', '5/31/2002', '7530           ', '1', '136.4', 'Mexico '],\n",
       "   ['2253', '5/31/2002', '7530           ', '1', '136.4', 'Mexico '],\n",
       "   ['2373', '5/31/2002', '9480           ', '1', '619.5', 'Mexico '],\n",
       "   ['606', '6/3/2002', '9480           ', '1', '323.1', 'Mexico '],\n",
       "   ['2199', '1/15/1999', '4610           ', '1', '178.4', 'Mexico '],\n",
       "   ['1990', '3/15/1999', '4610           ', '1', '257.2', 'Mexico '],\n",
       "   ['2064', '2/15/1999', '4610           ', '1', '472.4', 'Mexico '],\n",
       "   ['2331', '2/15/1999', '4610           ', '1', '535.5', 'Mexico '],\n",
       "   ['2094', '3/15/1999', '4610           ', '1', '433.1', 'Mexico '],\n",
       "   ['600', '5/31/2002', '7869           ', '1', '713.7', 'Mexico '],\n",
       "   ['739', '1/15/1999', '4620           ', '1', '170.6', 'Mexico '],\n",
       "   ['992', '1/15/1999', '4620           ', '1', '278.2', 'Mexico '],\n",
       "   ['740', '1/15/1999', '4620           ', '1', '170.6', 'Mexico '],\n",
       "   ['981', '5/31/2002', '7720           ', '1', '157.4', 'Mexico '],\n",
       "   ['914', '2/15/1999', '7720           ', '1', '603.7', 'Mexico '],\n",
       "   ['475', '2/15/1999', '7720           ', '1', '970.2', 'Mexico '],\n",
       "   ['816', '5/31/2002', '4700           ', '1', '330.7', 'Mexico '],\n",
       "   ['2380', '5/31/2002', '8840           ', '1', '293.9', 'Mexico '],\n",
       "   ['604', '5/31/2002', '7640           ', '1', '480.6', 'Mexico '],\n",
       "   ['768', '1/15/1999', '7640           ', '1', '105', 'Mexico '],\n",
       "   ['491', '3/15/1999', '4720           ', '1', '815.3', 'Mexico '],\n",
       "   ['725', '5/31/2002', '7939           ', '1', '120.7', 'Mexico '],\n",
       "   ['767', '1/15/1999', '7939           ', '1', '105', 'Mexico '],\n",
       "   ['571', '4/11/2003', '4729           ', '1', '527.1', 'Mexico '],\n",
       "   ['2373', '3/15/1999', '4729           ', '1', '551.2', 'Mexico '],\n",
       "   ['769', '1/15/1999', '4730           ', '1', '257.2', 'Mexico '],\n",
       "   ['714', '1/15/1999', '4730           ', '1', '160.1', 'Mexico '],\n",
       "   ['962', '3/15/1999', '4737           ', '1', '525', 'Mexico '],\n",
       "   ['2371', '1/15/1999', '4737           ', '1', '551.2', 'Mexico '],\n",
       "   ['728', '2/15/1999', '4737           ', '1', '63', 'Mexico '],\n",
       "   ['964', '5/31/2002', '9310           ', '1', '314.9', 'Mexico '],\n",
       "   ['2388', '3/15/1999', '4800           ', '1', '309.7', 'Mexico '],\n",
       "   ['596', '1/15/1999', '4849           ', '1', '746.5', 'Mexico '],\n",
       "   ['1185', '2/15/1999', '4849           ', '1', '419.9', 'Mexico '],\n",
       "   ['631', '1/15/1999', '8100           ', '1', '346.2', 'Mexico '],\n",
       "   ['2277', '2/15/1999', '4890           ', '1', '251.9', 'Mexico '],\n",
       "   ['962', '1/15/1999', '4908           ', '1', '525', 'Mexico '],\n",
       "   ['571', '4/12/2003', '4908           ', '1', '527.1', 'Mexico '],\n",
       "   ['573', '2/15/1999', '4908           ', '1', '280.6', 'Mexico '],\n",
       "   ['981', '5/31/2002', '4908           ', '1', '157.4', 'Mexico '],\n",
       "   ['443', '2/15/1999', '4908           ', '1', '790.9', 'Mexico '],\n",
       "   ['2254', '1/15/1999', '9450           ', '1', '57.7', 'Mexico '],\n",
       "   ['2388', '1/15/1999', '9368           ', '1', '309.7', 'Mexico '],\n",
       "   ['604', '1/15/1999', '8320           ', '1', '461.7', 'Mexico '],\n",
       "   ['609', '1/15/1999', '7858           ', '1', '778.8', 'Mexico '],\n",
       "   ['609', '1/15/1999', '7980           ', '1', '778.8', 'Mexico '],\n",
       "   ['2016', '5/31/2002', '7980           ', '1', '304.4', 'Mexico '],\n",
       "   ['1182', '2/15/1999', '4970           ', '1', '157.4', 'Mexico '],\n",
       "   ['604', '2/15/1999', '4970           ', '1', '461.7', 'Mexico '],\n",
       "   ['1082', '2/15/1999', '4970           ', '1', '225.7', 'Mexico '],\n",
       "   ['2070', '3/15/1999', '4970           ', '1', '519.7', 'Mexico '],\n",
       "   ['1131', '2/15/1999', '4980           ', '1', '419.9', 'Mexico '],\n",
       "   ['645', '2/15/1999', '5008           ', '1', '746.5', 'Mexico '],\n",
       "   ['2359', '6/5/2002', '8619           ', '1', '430.4', 'Mexico '],\n",
       "   ['443', '3/15/1999', '8619           ', '1', '790.9', 'Mexico '],\n",
       "   ['2351', '2/15/1999', '8619           ', '1', '314.9', 'Mexico '],\n",
       "   ['2045', '6/5/2002', '9120           ', '1', '419.9', 'Mexico '],\n",
       "   ['767', '1/15/1999', '5030           ', '1', '105', 'Mexico '],\n",
       "   ['631', '2/15/1999', '5030           ', '1', '346.2', 'Mexico '],\n",
       "   ['2352', '6/3/2002', '5030           ', '1', '367.4', 'Mexico '],\n",
       "   ['443', '2/15/1999', '5030           ', '1', '790.9', 'Mexico '],\n",
       "   ['2091', '3/15/1999', '5030           ', '1', '152.2', 'Mexico '],\n",
       "   ['574', '6/5/2002', '7600           ', '1', '869.1', 'Mexico '],\n",
       "   ['573', '2/15/1999', '7600           ', '1', '280.6', 'Mexico '],\n",
       "   ['319', '3/15/1999', '7600           ', '1', '1102.2', 'Mexico '],\n",
       "   ['2234', '1/15/1999', '5039           ', '1', '65.6', 'Mexico '],\n",
       "   ['1975', '2/15/1999', '5039           ', '1', '52.5', 'Mexico '],\n",
       "   ['2054', '6/5/2002', '9060           ', '1', '546', 'Mexico '],\n",
       "   ['739', '1/15/1999', '5050           ', '1', '170.6', 'Mexico '],\n",
       "   ['606', '2/15/1999', '5050           ', '1', '314.7', 'Mexico '],\n",
       "   ['1329', '2/15/1999', '5050           ', '1', '92.8', 'Mexico '],\n",
       "   ['2269', '4/10/2003', '5050           ', '1', '293.9', 'Mexico '],\n",
       "   ['823', '6/6/2002', '9500           ', '1', '624.7', 'Mexico '],\n",
       "   ['768', '6/8/2002', '9500           ', '1', '105', 'Mexico '],\n",
       "   ['767', '6/8/2002', '9500           ', '1', '105', 'Mexico '],\n",
       "   ['573', '2/15/1999', '5086           ', '1', '280.6', 'Mexico '],\n",
       "   ['2282', '1/15/1999', '5088           ', '1', '304.4', 'Mexico '],\n",
       "   ['726', '1/15/1999', '5088           ', '2', '230.9', 'Mexico '],\n",
       "   ['1477', '2/15/1999', '5088           ', '1', '317.5', 'Mexico '],\n",
       "   ['532', '2/15/1999', '5088           ', '1', '556.5', 'Mexico '],\n",
       "   ['599', '2/15/1999', '5088           ', '1', '753.6', 'Mexico '],\n",
       "   ['901', '2/15/1999', '5088           ', '1', '409.4', 'Mexico '],\n",
       "   ['962', '2/15/1999', '5088           ', '1', '525', 'Mexico '],\n",
       "   ['550', '2/15/1999', '5088           ', '2', '808', 'Mexico '],\n",
       "   ['604', '6/7/2002', '8230           ', '1', '480.6', 'Mexico '],\n",
       "   ['1005', '1/15/1999', '5089           ', '1', '107.6', 'Mexico '],\n",
       "   ['631', '2/15/1999', '5089           ', '1', '346.2', 'Mexico '],\n",
       "   ['837', '2/15/1999', '5089           ', '1', '840', 'Mexico '],\n",
       "   ['2074', '2/15/1999', '5089           ', '1', '328.1', 'Mexico '],\n",
       "   ['1112', '2/15/1999', '9228           ', '1', '116.5', 'Mexico '],\n",
       "   ['1111', '2/15/1999', '9228           ', '1', '116.5', 'Mexico '],\n",
       "   ['713', '2/15/1999', '5129           ', '1', '160.1', 'Mexico '],\n",
       "   ['550', '2/15/1999', '5210           ', '1', '404', 'Mexico '],\n",
       "   ['491', '2/15/1999', '8400           ', '1', '815.3', 'Mexico '],\n",
       "   ['992', '2/15/1999', '8400           ', '1', '278.2', 'Mexico '],\n",
       "   ['2074', '6/3/2002', '8400           ', '1', '335.9', 'Mexico '],\n",
       "   ['2332', '6/7/2002', '8400           ', '1', '367.4', 'Mexico '],\n",
       "   ['604', '2/15/1999', '7990           ', '1', '461.7', 'Mexico '],\n",
       "   ['2083', '6/4/2002', '5220           ', '1', '317.6', 'Mexico '],\n",
       "   ['2250', '6/3/2002', '5268           ', '1', '126', 'Mexico '],\n",
       "   ['2251', '6/3/2002', '5268           ', '1', '126', 'Mexico '],\n",
       "   ['786', '5/31/2002', '5269           ', '1', '68.2', 'Mexico '],\n",
       "   ['2277', '6/4/2002', '5270           ', '1', '309.7', 'Mexico '],\n",
       "   ['936', '2/15/1999', '5270           ', '1', '498.7', 'Mexico '],\n",
       "   ['2205', '3/15/1999', '5270           ', '1', '173.2', 'Mexico '],\n",
       "   ['2211', '3/15/1999', '5270           ', '1', '107.6', 'Mexico '],\n",
       "   ['1948', '2/15/1999', '9366           ', '1', '296.6', 'Mexico '],\n",
       "   ['1949', '2/15/1999', '9366           ', '1', '296.6', 'Mexico '],\n",
       "   ['964', '4/10/2003', '5348           ', '1', '314.9', 'Mexico '],\n",
       "   ['2277', '2/15/1999', '5349           ', '1', '251.9', 'Mexico '],\n",
       "   ['443', '3/15/1999', '7630           ', '1', '790.9', 'Mexico '],\n",
       "   ['76', '4/11/2003', '5370           ', '1', '865.7', 'Mexico '],\n",
       "   ['475', '1/15/1999', '5379           ', '1', '970.2', 'Mexico '],\n",
       "   ['1111', '1/15/1999', '5379           ', '1', '116.5', 'Mexico '],\n",
       "   ['2064', '4/10/2003', '5379           ', '1', '496.1', 'Mexico '],\n",
       "   ['1213', '6/3/2002', '5379           ', '1', '556.5', 'Mexico '],\n",
       "   ['2241', '6/3/2002', '5379           ', '1', '89.2', 'Mexico '],\n",
       "   ['2252', '6/3/2002', '5379           ', '1', '136.4', 'Mexico '],\n",
       "   ['2240', '6/3/2002', '5379           ', '1', '89.2', 'Mexico '],\n",
       "   ['1956', '2/15/1999', '5410           ', '1', '153.8', 'Mexico '],\n",
       "   ['596', '1/15/1999', '5480           ', '1', '746.5', 'Mexico '],\n",
       "   ['1949', '1/15/1999', '5480           ', '2', '593.1', 'Mexico '],\n",
       "   ['1109', '6/3/2002', '5509           ', '1', '209.9', 'Mexico '],\n",
       "   ['1110', '6/3/2002', '5509           ', '1', '209.9', 'Mexico '],\n",
       "   ['609', '2/15/1999', '5509           ', '1', '778.8', 'Mexico '],\n",
       "   ['638', '4/10/2003', '5510           ', '1', '1008.8', 'Mexico '],\n",
       "   ['631', '2/15/1999', '5520           ', '1', '346.2', 'Mexico '],\n",
       "   ['2254', '6/4/2002', '5619           ', '1', '60.3', 'Mexico '],\n",
       "   ['2255', '6/4/2002', '5619           ', '1', '60.3', 'Mexico '],\n",
       "   ['2364', '2/15/1999', '5700           ', '1', '325.4', 'Mexico '],\n",
       "   ['2331', '2/15/1999', '5720           ', '1', '535.5', 'Mexico '],\n",
       "   ['1131', '2/15/1999', '5720           ', '1', '419.9', 'Mexico '],\n",
       "   ['1173', '2/15/1999', '5760           ', '1', '525', 'Mexico '],\n",
       "   ['499', '2/15/1999', '5770           ', '1', '846.3', 'Mexico '],\n",
       "   ['2234', '2/15/1999', '7000           ', '1', '65.6', 'Mexico '],\n",
       "   ['2055', '4/10/2003', '7000           ', '1', '569.6', 'Mexico '],\n",
       "   ['1201', '4/10/2003', '7000           ', '1', '577.5', 'Mexico '],\n",
       "   ['2235', '2/15/1999', '7000           ', '1', '65.6', 'Mexico '],\n",
       "   ['1430', '3/15/1999', '7020           ', '1', '283.4', 'Mexico '],\n",
       "   ['433', '2/15/1999', '7050           ', '1', '804.3', 'Mexico '],\n",
       "   ['1066', '4/10/2003', '7080           ', '1', '304.4', 'Mexico '],\n",
       "   ['606', '1/15/1999', '7089           ', '1', '314.7', 'Mexico '],\n",
       "   ['1517', '2/15/1999', '7089           ', '1', '141.7', 'Mexico '],\n",
       "   ['2239', '4/11/2003', '7089           ', '1', '126', 'Mexico '],\n",
       "   ['2284', '2/15/1999', '7089           ', '1', '293.9', 'Mexico '],\n",
       "   ['1518', '2/15/1999', '7089           ', '1', '141.7', 'Mexico '],\n",
       "   ['990', '2/15/1999', '7100           ', '1', '472.4', 'Mexico '],\n",
       "   ['599', '2/15/1999', '7100           ', '1', '753.6', 'Mexico '],\n",
       "   ['604', '1/15/1999', '7110           ', '1', '461.7', 'Mexico '],\n",
       "   ['475', '2/15/1999', '7110           ', '1', '970.2', 'Mexico '],\n",
       "   ['609', '2/15/1999', '7148           ', '1', '778.8', 'Mexico '],\n",
       "   ['2331', '1/15/1999', '7150           ', '1', '535.5', 'Mexico '],\n",
       "   ['739', '2/15/1999', '7160           ', '1', '170.6', 'Mexico '],\n",
       "   ['740', '2/15/1999', '7160           ', '1', '170.6', 'Mexico '],\n",
       "   ['573', '1/15/1999', '7183           ', '1', '280.6', 'Mexico '],\n",
       "   ['1116', '4/11/2003', '7183           ', '1', '262.4', 'Mexico '],\n",
       "   ['954', '5/31/2002', '7187           ', '1', '682.5', 'Mexico '],\n",
       "   ['604', '2/15/1999', '7187           ', '1', '461.7', 'Mexico '],\n",
       "   ['2081', '3/15/1999', '7199           ', '1', '220.4', 'Mexico '],\n",
       "   ['758', '1/15/1999', '7200           ', '1', '84', 'Mexico '],\n",
       "   ['1168', '5/31/2002', '7209           ', '2', '734.9', 'Mexico '],\n",
       "   ['499', '2/15/1999', '7210           ', '1', '846.3', 'Mexico '],\n",
       "   ['658', '2/15/1999', '7219           ', '1', '902.7', 'Mexico '],\n",
       "   ['631', '2/15/1999', '7219           ', '1', '346.2', 'Mexico '],\n",
       "   ['768', '2/15/1999', '7230           ', '1', '105', 'Mexico '],\n",
       "   ['2054', '6/3/2002', '7230           ', '1', '546', 'Mexico '],\n",
       "   ['491', '2/15/1999', '7230           ', '1', '815.3', 'Mexico '],\n",
       "   ['2045', '3/15/1999', '7230           ', '1', '409.4', 'Mexico '],\n",
       "   ['1082', '5/31/2002', '7240           ', '1', '230.9', 'Mexico '],\n",
       "   ['443', '2/15/1999', '7280           ', '1', '790.9', 'Mexico '],\n",
       "   ['768', '1/15/1999', '7326           ', '1', '105', 'Mexico '],\n",
       "   ['502', '4/11/2003', '7350           ', '1', '1105.9', 'Mexico '],\n",
       "   ['767', '5/31/2002', '7359           ', '1', '105', 'Mexico '],\n",
       "   ['2235', '2/15/1999', '7380           ', '1', '65.6', 'Mexico '],\n",
       "   ['728', '2/15/1999', '7410           ', '1', '63', 'Mexico '],\n",
       "   ['1081', '2/15/1999', '7450           ', '1', '225.7', 'Mexico '],\n",
       "   ['796', '5/31/2002', '7458           ', '1', '278.2', 'Mexico '],\n",
       "   ['1225', '2/15/1999', '7458           ', '1', '236.2', 'Mexico '],\n",
       "   ['1065', '1/15/1999', '7509           ', '1', '296.6', 'Mexico '],\n",
       "   ['120', '2/15/1999', '7509           ', '1', '829.5', 'Mexico '],\n",
       "   ['1215', '2/15/1999', '7509           ', '1', '356.9', 'Mexico '],\n",
       "   ['1173', '3/15/1999', '7573           ', '1', '525', 'Mexico '],\n",
       "   ['396', '3/15/1999', '7860           ', '1', '857.1', 'Mexico '],\n",
       "   ['663', '2/15/1999', '7958           ', '1', '765.5', 'Mexico '],\n",
       "   ['596', '2/15/1999', '7958           ', '1', '746.5', 'Mexico '],\n",
       "   ['2050', '3/15/1999', '7958           ', '1', '498.7', 'Mexico '],\n",
       "   ['574', '6/8/2002', '8000           ', '1', '869.1', 'Mexico '],\n",
       "   ['491', '2/15/1999', '8210           ', '1', '815.3', 'Mexico '],\n",
       "   ['1065', '3/15/1999', '8240           ', '1', '296.6', 'Mexico '],\n",
       "   ['2204', '3/15/1999', '8300           ', '1', '173.2', 'Mexico '],\n",
       "   ['2371', '3/15/1999', '8510           ', '1', '551.2', 'Mexico '],\n",
       "   ['606', '2/15/1999', '9208           ', '1', '314.7', 'Mexico '],\n",
       "   ['740', '2/15/1999', '9440           ', '1', '170.6', 'Mexico '],\n",
       "   ['739', '2/15/1999', '9440           ', '1', '170.6', 'Mexico '],\n",
       "   ['2277', '2/15/1999', '9438           ', '1', '251.9', 'Mexico '],\n",
       "   ['2234', '3/15/1999', '5129           ', '1', '65.6', 'Mexico '],\n",
       "   ['2255', '3/15/1999', '5050           ', '1', '57.7', 'Mexico '],\n",
       "   ['2373', '3/15/1999', '5089           ', '1', '551.2', 'Mexico '],\n",
       "   ['2388', '3/15/1999', '7219           ', '1', '309.7', 'Mexico '],\n",
       "   ['443', '3/15/1999', '5210           ', '1', '790.9', 'Mexico '],\n",
       "   ['475', '3/15/1999', '7239           ', '1', '970.2', 'Mexico '],\n",
       "   ['513', '3/15/1999', '7509           ', '1', '451.4', 'Mexico '],\n",
       "   ['687', '3/15/1999', '5088           ', '1', '446', 'Mexico '],\n",
       "   ['757', '3/15/1999', '5509           ', '1', '84', 'Mexico '],\n",
       "   ['769', '3/15/1999', '7328           ', '1', '257.2', 'Mexico '],\n",
       "   ['833', '3/15/1999', '7328           ', '1', '792.7', 'Mexico '],\n",
       "   ['964', '3/15/1999', '5130           ', '1', '346.4', 'Mexico '],\n",
       "   ['992', '3/15/1999', '7219           ', '1', '278.2', 'Mexico '],\n",
       "   ['1005', '3/15/1999', '7240           ', '1', '107.6', 'Mexico '],\n",
       "   ['1168', '3/15/1999', '7210           ', '1', '367.4', 'Mexico '],\n",
       "   ['714', '1/15/1999', '7708           ', '1', '160.1', 'Mexico '],\n",
       "   ['757', '1/15/1999', '9410           ', '1', '84', 'Mexico '],\n",
       "   ['758', '1/15/1999', '7790           ', '1', '84', 'Mexico '],\n",
       "   ['767', '1/15/1999', '7640           ', '1', '105', 'Mexico '],\n",
       "   ['768', '1/15/1999', '8500           ', '1', '105', 'Mexico '],\n",
       "   ['771', '1/15/1999', '9330           ', '1', '165.3', 'Mexico '],\n",
       "   ['1065', '1/15/1999', '7969           ', '1', '296.6', 'Mexico '],\n",
       "   ['1166', '1/15/1999', '8830           ', '1', '535.5', 'Mexico '],\n",
       "   ['1517', '1/15/1999', '9429           ', '1', '141.7', 'Mexico '],\n",
       "   ['1948', '1/15/1999', '9000           ', '1', '296.6', 'Mexico '],\n",
       "   ['1949', '1/15/1999', '9010           ', '2', '593.1', 'Mexico '],\n",
       "   ['1974', '1/15/1999', '7580           ', '1', '52.5', 'Mexico '],\n",
       "   ['2064', '1/15/1999', '7958           ', '1', '488.2', 'Mexico '],\n",
       "   ['2210', '1/15/1999', '9400           ', '1', '107.6', 'Mexico '],\n",
       "   ['2235', '1/15/1999', '7740           ', '1', '65.6', 'Mexico '],\n",
       "   ['2235', '1/15/1999', '7800           ', '1', '65.6', 'Mexico '],\n",
       "   ['2255', '1/15/1999', '9450           ', '1', '57.7', 'Mexico '],\n",
       "   ['606', '1/15/1999', '7859           ', '1', '314.7', 'Mexico '],\n",
       "   ['609', '1/15/1999', '7909           ', '1', '778.8', 'Mexico '],\n",
       "   ['676', '1/15/1999', '9227           ', '1', '801.9', 'Mexico '],\n",
       "   ['726', '1/15/1999', '7580           ', '1', '115.5', 'Mexico '],\n",
       "   ['757', '1/15/1999', '9020           ', '1', '84', 'Mexico '],\n",
       "   ['758', '1/15/1999', '7580           ', '2', '167.9', 'Mexico '],\n",
       "   ['1005', '1/15/1999', '9150           ', '1', '107.6', 'Mexico '],\n",
       "   ['1957', '1/15/1999', '9010           ', '1', '153.8', 'Mexico '],\n",
       "   ['2032', '1/15/1999', '7909           ', '1', '220.4', 'Mexico '],\n",
       "   ['2234', '1/15/1999', '8760           ', '1', '65.6', 'Mexico '],\n",
       "   ['491', '1/15/1999', '9099           ', '1', '815.3', 'Mexico '],\n",
       "   ['559', '1/15/1999', '7958           ', '1', '585.6', 'Mexico '],\n",
       "   ['606', '1/15/1999', '8580           ', '1', '312.1', 'Mexico '],\n",
       "   ['676', '1/15/1999', '7990           ', '1', '801.9', 'Mexico '],\n",
       "   ['238', '5/31/2002', '8210           ', '1', '367.2', 'Mexico '],\n",
       "   ['596', '5/31/2002', '9540           ', '1', '776.7', 'Mexico '],\n",
       "   ['635', '5/31/2002', '7600           ', '1', '860.7', 'Mexico '],\n",
       "   ['770', '5/31/2002', '7770           ', '1', '251.9', 'Mexico '],\n",
       "   ['966', '5/31/2002', '7800           ', '1', '472.4', 'Mexico '],\n",
       "   ['966', '5/31/2002', '8619           ', '1', '472.4', 'Mexico '],\n",
       "   ['989', '5/31/2002', '8029           ', '1', '419.9', 'Mexico '],\n",
       "   ['1909', '5/31/2002', '9160           ', '1', '204.7', 'Mexico '],\n",
       "   ['2254', '5/31/2002', '7969           ', '1', '60.3', 'Mexico '],\n",
       "   ['464', '5/31/2002', '9207           ', '1', '866.2', 'Mexico '],\n",
       "   ['647', '5/31/2002', '9207           ', '1', '900.6', 'Mexico '],\n",
       "   ['1981', '4/10/2003', '8810           ', '1', '167.9', 'Mexico '],\n",
       "   ['2253', '4/10/2003', '7910           ', '1', '136.4', 'Mexico '],\n",
       "   ['964', '4/10/2003', '8650           ', '1', '330.7', 'Mexico '],\n",
       "   ['976', '4/10/2003', '7990           ', '1', '325.4', 'Mexico '],\n",
       "   ['1047', '4/10/2003', '7760           ', '1', '209.9', 'Mexico '],\n",
       "   ['1975', '4/10/2003', '8810           ', '1', '57.7', 'Mexico '],\n",
       "   ['2064', '4/10/2003', '8619           ', '1', '496.1', 'Mexico '],\n",
       "   ['725', '1/15/1999', '7550           ', '1', '115.5', 'Mexico '],\n",
       "   ['725', '1/15/1999', '7580           ', '1', '115.5', 'Mexico '],\n",
       "   ['728', '1/15/1999', '7600           ', '1', '63', 'Mexico '],\n",
       "   ['757', '1/15/1999', '7760           ', '1', '84', 'Mexico '],\n",
       "   ['757', '1/15/1999', '7790           ', '1', '84', 'Mexico '],\n",
       "   ['758', '1/15/1999', '9020           ', '1', '84', 'Mexico '],\n",
       "   ['768', '1/15/1999', '7939           ', '1', '105', 'Mexico '],\n",
       "   ['768', '1/15/1999', '7958           ', '1', '105', 'Mexico '],\n",
       "   ['768', '1/15/1999', '9410           ', '1', '105', 'Mexico '],\n",
       "   ['833', '1/15/1999', '9080           ', '1', '798', 'Mexico '],\n",
       "   ['1182', '1/15/1999', '7740           ', '1', '157.4', 'Mexico '],\n",
       "   ['1435', '1/15/1999', '8760           ', '1', '312.3', 'Mexico '],\n",
       "   ['1949', '1/15/1999', '9000           ', '1', '296.6', 'Mexico '],\n",
       "   ['2083', '1/15/1999', '9229           ', '1', '309.7', 'Mexico '],\n",
       "   ['2210', '1/15/1999', '9220           ', '1', '107.6', 'Mexico '],\n",
       "   ['757', '3/15/1999', '7570           ', '1', '84', 'Mexico '],\n",
       "   ['757', '3/15/1999', '7859           ', '1', '84', 'Mexico '],\n",
       "   ['757', '3/15/1999', '8520           ', '1', '84', 'Mexico '],\n",
       "   ['771', '3/15/1999', '9240           ', '1', '165.3', 'Mexico '],\n",
       "   ['797', '3/15/1999', '7729           ', '1', '301.8', 'Mexico '],\n",
       "   ['838', '3/15/1999', '8400           ', '1', '934.5', 'Mexico '],\n",
       "   ['847', '3/15/1999', '9080           ', '1', '551.2', 'Mexico '],\n",
       "   ['921', '3/15/1999', '9540           ', '2', '1049.9', 'Mexico '],\n",
       "   ['936', '3/15/1999', '9340           ', '1', '498.7', 'Mexico '],\n",
       "   ['936', '3/15/1999', '9410           ', '1', '498.7', 'Mexico '],\n",
       "   ['962', '3/15/1999', '7760           ', '1', '509.2', 'Mexico '],\n",
       "   ['992', '3/15/1999', '7570           ', '1', '278.2', 'Mexico '],\n",
       "   ['1116', '3/15/1999', '7550           ', '1', '251.9', 'Mexico '],\n",
       "   ['1330', '3/15/1999', '9229           ', '1', '92.8', 'Mexico '],\n",
       "   ['1894', '3/15/1999', '7550           ', '1', '682.2', 'Mexico '],\n",
       "   ['1930', '3/15/1999', '7740           ', '1', '286.1', 'Mexico '],\n",
       "   ['1961', '3/15/1999', '7548           ', '1', '97.1', 'Mexico '],\n",
       "   ['1974', '3/15/1999', '9009           ', '1', '52.5', 'Mexico '],\n",
       "   ['1974', '3/15/1999', '9207           ', '1', '52.5', 'Mexico '],\n",
       "   ['762', '4/11/2003', '9410           ', '1', '173.2', 'Mexico '],\n",
       "   ['2250', '4/11/2003', '7930           ', '1', '126', 'Mexico '],\n",
       "   ['976', '4/11/2003', '7570           ', '1', '314.9', 'Mexico '],\n",
       "   ['498', '4/11/2003', '9070           ', '1', '1469.7', 'Mexico '],\n",
       "   ['600', '4/11/2003', '7969           ', '1', '747.3', 'Mexico '],\n",
       "   ['606', '4/11/2003', '7550           ', '1', '337.8', 'Mexico '],\n",
       "   ['609', '4/11/2003', '7550           ', '1', '850.2', 'Mexico '],\n",
       "   ['761', '4/11/2003', '9410           ', '1', '173.2', 'Mexico '],\n",
       "   ['486', '4/11/2003', '7858           ', '1', '980.2', 'Mexico '],\n",
       "   ['606', '4/11/2003', '8510           ', '1', '337.8', 'Mexico '],\n",
       "   ['989', '4/11/2003', '9430           ', '1', '419.9', 'Mexico '],\n",
       "   ['443', '4/12/2003', '7630           ', '1', '851.3', 'Mexico '],\n",
       "   ['551', '4/12/2003', '9207           ', '1', '922.2', 'Mexico '],\n",
       "   ['725', '4/12/2003', '8500           ', '1', '110.2', 'Mexico '],\n",
       "   ['726', '4/12/2003', '8500           ', '1', '110.2', 'Mexico '],\n",
       "   ['508', '4/12/2003', '7740           ', '1', '969.7', 'Mexico '],\n",
       "   ['493', '4/14/2003', '8500           ', '1', '969.7', 'Mexico '],\n",
       "   ['2032', '3/15/1999', '9207           ', '1', '223.1', 'Mexico '],\n",
       "   ['2083', '3/15/1999', '8820           ', '1', '309.7', 'Mexico '],\n",
       "   ['2094', '3/15/1999', '9540           ', '1', '433.1', 'Mexico '],\n",
       "   ['2167', '3/15/1999', '7780           ', '1', '577.2', 'Mexico '],\n",
       "   ['2211', '3/15/1999', '9200           ', '1', '107.6', 'Mexico '],\n",
       "   ['2234', '3/15/1999', '7550           ', '1', '65.6', 'Mexico '],\n",
       "   ['2235', '3/15/1999', '7740           ', '1', '65.6', 'Mexico '],\n",
       "   ['2255', '3/15/1999', '7740           ', '2', '115.4', 'Mexico '],\n",
       "   ['2255', '3/15/1999', '7800           ', '2', '115.4', 'Mexico '],\n",
       "   ['2290', '3/15/1999', '7740           ', '1', '787.5', 'Mexico '],\n",
       "   ['2331', '3/15/1999', '8520           ', '1', '535.5', 'Mexico '],\n",
       "   ['2352', '3/15/1999', '9010           ', '2', '734.9', 'Mexico '],\n",
       "   ['2373', '3/15/1999', '7780           ', '1', '551.2', 'Mexico '],\n",
       "   ['2388', '3/15/1999', '7548           ', '1', '309.7', 'Mexico '],\n",
       "   ['2388', '3/15/1999', '8510           ', '1', '309.7', 'Mexico '],\n",
       "   ['36', '3/15/1999', '8830           ', '1', '414.8', 'Mexico '],\n",
       "   ['93', '3/15/1999', '8210           ', '1', '939.8', 'Mexico '],\n",
       "   ['400', '3/15/1999', '7880           ', '1', '683.8', 'Mexico '],\n",
       "   ['475', '3/15/1999', '8820           ', '1', '970.2', 'Mexico '],\n",
       "   ['604', '3/15/1999', '7810           ', '1', '461.7', 'Mexico '],\n",
       "   ['609', '3/15/1999', '8500           ', '1', '778.8', 'Mexico '],\n",
       "   ['681', '3/15/1999', '7560           ', '1', '629.7', 'Mexico '],\n",
       "   ['727', '3/15/1999', '7729           ', '1', '63', 'Mexico '],\n",
       "   ['729', '3/15/1999', '9540           ', '1', '301.8', 'Mexico '],\n",
       "   ['768', '3/15/1999', '7570           ', '1', '105', 'Mexico '],\n",
       "   ['796', '3/15/1999', '7760           ', '1', '275.6', 'Mexico '],\n",
       "   ['862', '3/15/1999', '9207           ', '1', '162.7', 'Mexico '],\n",
       "   ['2254', '1/15/1999', '9636           ', '1', '57.7', 'Mexico '],\n",
       "   ['2254', '1/15/1999', '9696           ', '1', '57.7', 'Mexico '],\n",
       "   ['2255', '1/15/1999', '9638           ', '1', '57.7', 'Mexico '],\n",
       "   ['433', '1/15/1999', '9760           ', '1', '804.3', 'Mexico '],\n",
       "   ['475', '1/15/1999', '10580          ', '1', '970.2', 'Mexico '],\n",
       "   ['532', '1/15/1999', '9898           ', '1', '556.5', 'Mexico '],\n",
       "   ['596', '1/15/1999', '12400          ', '1', '746.5', 'Mexico '],\n",
       "   ['609', '1/15/1999', '9600           ', '1', '778.8', 'Mexico '],\n",
       "   ['658', '1/15/1999', '10580          ', '1', '902.7', 'Mexico '],\n",
       "   ['702', '1/15/1999', '9800           ', '1', '286.1', 'Mexico '],\n",
       "   ['725', '1/15/1999', '9739           ', '1', '115.5', 'Mexico '],\n",
       "   ['769', '1/15/1999', '9688           ', '1', '257.2', 'Mexico '],\n",
       "   ['1003', '1/15/1999', '9696           ', '1', '86.6', 'Mexico '],\n",
       "   ['1065', '1/15/1999', '9864           ', '1', '296.6', 'Mexico '],\n",
       "   ['1066', '1/15/1999', '9689           ', '1', '296.6', 'Mexico '],\n",
       "   ['1949', '1/15/1999', '9897           ', '4', '1186.3', 'Mexico '],\n",
       "   ['2081', '1/15/1999', '9600           ', '1', '220.4', 'Mexico '],\n",
       "   ['2255', '1/15/1999', '9699           ', '1', '57.7', 'Mexico '],\n",
       "   ['2277', '1/15/1999', '9780           ', '1', '251.9', 'Mexico '],\n",
       "   ['2284', '1/15/1999', '9570           ', '1', '293.9', 'Mexico '],\n",
       "   ['609', '2/15/1999', '9636           ', '1', '778.8', 'Mexico '],\n",
       "   ['658', '2/15/1999', '12000          ', '1', '902.7', 'Mexico '],\n",
       "   ['726', '2/15/1999', '9696           ', '1', '115.5', 'Mexico '],\n",
       "   ['728', '2/15/1999', '10330          ', '1', '68.2', 'Mexico '],\n",
       "   ['910', '2/15/1999', '12400          ', '1', '414.7', 'Mexico '],\n",
       "   ['914', '2/15/1999', '9636           ', '1', '603.7', 'Mexico '],\n",
       "   ['990', '2/15/1999', '9898           ', '1', '525', 'Mexico '],\n",
       "   ['992', '2/15/1999', '1028           ', '1', '288.7', 'Mexico '],\n",
       "   ['1974', '2/15/1999', '9839           ', '1', '52.5', 'Mexico '],\n",
       "   ['2282', '2/15/1999', '9638           ', '1', '304.4', 'Mexico '],\n",
       "   ['2331', '2/15/1999', '10640          ', '1', '535.5', 'Mexico '],\n",
       "   ['2371', '2/15/1999', '9767           ', '1', '551.2', 'Mexico '],\n",
       "   ['2373', '2/15/1999', '9740           ', '1', '551.2', 'Mexico '],\n",
       "   ['247', '2/15/1999', '9707           ', '1', '367.2', 'Mexico '],\n",
       "   ['475', '2/15/1999', '12400          ', '1', '970.2', 'Mexico '],\n",
       "   ['499', '2/15/1999', '9800           ', '1', '846.3', 'Mexico '],\n",
       "   ['2053', '4/10/2003', '10509          ', '1', '325.4', 'Mexico '],\n",
       "   ['36', '4/10/2003', '9839           ', '1', '456.2', 'Mexico '],\n",
       "   ['642', '4/10/2003', '1028           ', '1', '903.8', 'Mexico '],\n",
       "   ['2275', '4/10/2003', '10330          ', '1', '330.7', 'Mexico '],\n",
       "   ['2331', '4/10/2003', '10900          ', '1', '540.7', 'Mexico '],\n",
       "   ['1001', '4/10/2003', '10330          ', '1', '393.7', 'Mexico '],\n",
       "   ['1228', '4/10/2003', '9637           ', '1', '131.2', 'Mexico '],\n",
       "   ['2380', '4/11/2003', '9897           ', '1', '293.9', 'Mexico '],\n",
       "   ['759', '4/11/2003', '9704           ', '1', '146.9', 'Mexico '],\n",
       "   ['2275', '4/11/2003', '9636           ', '1', '330.7', 'Mexico '],\n",
       "   ['2332', '4/11/2003', '10010          ', '1', '419.9', 'Mexico '],\n",
       "   ['769', '5/31/2002', '10000          ', '1', '262.4', 'Mexico '],\n",
       "   ['915', '5/31/2002', '9636           ', '1', '556.5', 'Mexico '],\n",
       "   ['966', '5/31/2002', '10130          ', '1', '472.4', 'Mexico '],\n",
       "   ['976', '5/31/2002', '9636           ', '1', '314.9', 'Mexico '],\n",
       "   ['671', '6/3/2002', '1028           ', '1', '892.2', 'Mexico '],\n",
       "   ['1143', '6/3/2002', '9696           ', '1', '551.2', 'Mexico '],\n",
       "   ['1436', '6/3/2002', '1028           ', '1', '330.6', 'Mexico '],\n",
       "   ['2022', '6/3/2002', '9690           ', '1', '230.9', 'Mexico '],\n",
       "   ['2071', '6/3/2002', '9696           ', '1', '346.4', 'Mexico '],\n",
       "   ['1927', '6/3/2002', '9690           ', '1', '99.7', 'Mexico '],\n",
       "   ['1086', '6/4/2002', '9660           ', '1', '84', 'Mexico '],\n",
       "   ['2254', '6/4/2002', '9707           ', '1', '60.3', 'Mexico '],\n",
       "   ['1203', '6/4/2002', '9638           ', '1', '320.2', 'Mexico '],\n",
       "   ['1085', '6/4/2002', '9660           ', '1', '84', 'Mexico '],\n",
       "   ['1191', '6/4/2002', '10330          ', '1', '267.7', 'Mexico '],\n",
       "   ['574', '6/4/2002', '10330          ', '1', '869.1', 'Mexico '],\n",
       "   ['1909', '6/4/2002', '9890           ', '1', '204.7', 'Mexico '],\n",
       "   ['2120', '6/4/2002', '9858           ', '1', '572.2', 'Mexico '],\n",
       "   ['2255', '6/4/2002', '9707           ', '1', '60.3', 'Mexico '],\n",
       "   ['2352', '2/15/1999', '9578           ', '1', '367.4', 'Mexico '],\n",
       "   ['433', '2/15/1999', '9689           ', '1', '804.3', 'Mexico '],\n",
       "   ['550', '2/15/1999', '10620          ', '1', '404', 'Mexico '],\n",
       "   ['604', '2/15/1999', '9637           ', '1', '461.7', 'Mexico '],\n",
       "   ['725', '2/15/1999', '9696           ', '1', '115.5', 'Mexico '],\n",
       "   ['767', '2/15/1999', '9685           ', '1', '105', 'Mexico '],\n",
       "   ['1120', '2/15/1999', '9670           ', '1', '173.2', 'Mexico '],\n",
       "   ['1956', '2/15/1999', '9696           ', '1', '153.8', 'Mexico '],\n",
       "   ['1974', '2/15/1999', '9930           ', '1', '52.5', 'Mexico '],\n",
       "   ['1975', '2/15/1999', '9839           ', '1', '52.5', 'Mexico '],\n",
       "   ['2234', '2/15/1999', '9779           ', '1', '65.6', 'Mexico '],\n",
       "   ['247', '2/15/1999', '1028           ', '1', '367.2', 'Mexico '],\n",
       "   ['400', '2/15/1999', '10589          ', '1', '683.8', 'Mexico '],\n",
       "   ['491', '2/15/1999', '9685           ', '1', '815.3', 'Mexico '],\n",
       "   ['491', '2/15/1999', '1028           ', '1', '815.3', 'Mexico '],\n",
       "   ['559', '2/15/1999', '9696           ', '1', '585.6', 'Mexico '],\n",
       "   ['573', '2/15/1999', '9570           ', '1', '280.6', 'Mexico '],\n",
       "   ['596', '2/15/1999', '9636           ', '1', '736.8', 'Mexico '],\n",
       "   ['604', '2/15/1999', '10020          ', '1', '461.7', 'Mexico '],\n",
       "   ['604', '2/15/1999', '10926          ', '1', '461.7', 'Mexico '],\n",
       "   ['747', '2/15/1999', '9636           ', '1', '291.3', 'Mexico '],\n",
       "   ['823', '2/15/1999', '9638           ', '1', '619.5', 'Mexico '],\n",
       "   ['962', '2/15/1999', '9570           ', '1', '525', 'Mexico '],\n",
       "   ['1122', '2/15/1999', '9898           ', '1', '157.4', 'Mexico '],\n",
       "   ['1188', '2/15/1999', '9856           ', '1', '472.4', 'Mexico '],\n",
       "   ['2070', '2/15/1999', '10110          ', '1', '519.7', 'Mexico '],\n",
       "   ['2210', '2/15/1999', '9889           ', '1', '107.6', 'Mexico '],\n",
       "   ['2254', '2/15/1999', '9570           ', '1', '57.7', 'Mexico '],\n",
       "   ['2379', '2/15/1999', '9689           ', '1', '173.2', 'Mexico '],\n",
       "   ['2410', '2/15/1999', '9550           ', '1', '99.7', 'Mexico '],\n",
       "   ['396', '2/15/1999', '9637           ', '1', '857.1', 'Mexico '],\n",
       "   ['488', '2/15/1999', '10600          ', '1', '970.2', 'Mexico '],\n",
       "   ['609', '2/15/1999', '10926          ', '1', '778.8', 'Mexico '],\n",
       "   ['642', '2/15/1999', '9890           ', '1', '822.9', 'Mexico '],\n",
       "   ['676', '2/15/1999', '9696           ', '1', '801.9', 'Mexico '],\n",
       "   ['1974', '3/15/1999', '9638           ', '1', '52.5', 'Mexico '],\n",
       "   ['2016', '3/15/1999', '10290          ', '1', '299.2', 'Mexico '],\n",
       "   ['2064', '3/15/1999', '9800           ', '2', '971.1', 'Mexico '],\n",
       "   ['2070', '3/15/1999', '12400          ', '1', '519.7', 'Mexico '],\n",
       "   ['2211', '3/15/1999', '12000          ', '1', '107.6', 'Mexico '],\n",
       "   ['2234', '3/15/1999', '12000          ', '1', '65.6', 'Mexico '],\n",
       "   ['2234', '3/15/1999', '1028           ', '1', '65.6', 'Mexico '],\n",
       "   ['2235', '3/15/1999', '9608           ', '1', '65.6', 'Mexico '],\n",
       "   ['2235', '3/15/1999', '9638           ', '1', '65.6', 'Mexico '],\n",
       "   ['2254', '3/15/1999', '9690           ', '1', '57.7', 'Mexico '],\n",
       "   ...]),\n",
       " ('France',\n",
       "  [['726', '1/15/1999', '75056 CEDEX 01 ', '1', '115.5', 'France '],\n",
       "   ['1909', '1/15/1999', '75056 CEDEX 01 ', '2', '398.9', 'France '],\n",
       "   ['1961', '2/15/1999', '75056 CEDEX 01 ', '1', '97.1', 'France '],\n",
       "   ['1517', '2/15/1999', '75056 CEDEX 01 ', '1', '141.7', 'France '],\n",
       "   ['606', '2/15/1999', '75056 CEDEX 01 ', '1', '314.7', 'France '],\n",
       "   ['1518', '2/15/1999', '75056 CEDEX 01 ', '1', '141.7', 'France '],\n",
       "   ['786', '5/31/2002', '75001          ', '1', '68.2', 'France '],\n",
       "   ['727', '1/15/1999', '75063 CEDEX 02 ', '2', '125.9', 'France '],\n",
       "   ['559', '1/15/1999', '75063 CEDEX 02 ', '1', '585.6', 'France '],\n",
       "   ['728', '1/15/1999', '75063 CEDEX 02 ', '2', '125.9', 'France '],\n",
       "   ['964', '4/10/2003', '75063 CEDEX 02 ', '1', '320.2', 'France '],\n",
       "   ['475', '4/11/2003', '75063 CEDEX 02 ', '1', '1037.4', 'France '],\n",
       "   ['2055', '6/5/2002', '75063 CEDEX 02 ', '1', '569.6', 'France '],\n",
       "   ['1535', '2/15/1999', '75063 CEDEX 02 ', '1', '309.6', 'France '],\n",
       "   ['1536', '2/15/1999', '75063 CEDEX 02 ', '1', '309.6', 'France '],\n",
       "   ['757', '1/15/1999', '75048 CEDEX 01 ', '2', '167.9', 'France '],\n",
       "   ['2047', '2/15/1999', '75048 CEDEX 01 ', '1', '372.7', 'France '],\n",
       "   ['758', '3/15/1999', '75003          ', '1', '84', 'France '],\n",
       "   ['767', '1/15/1999', '75020          ', '1', '105', 'France '],\n",
       "   ['2199', '1/15/1999', '75020          ', '1', '175.8', 'France '],\n",
       "   ['2254', '1/15/1999', '75020          ', '1', '57.7', 'France '],\n",
       "   ['2240', '5/31/2002', '75020          ', '1', '89.2', 'France '],\n",
       "   ['2295', '5/31/2002', '75020          ', '1', '861', 'France '],\n",
       "   ['1186', '6/3/2002', '75020          ', '1', '404.2', 'France '],\n",
       "   ['768', '1/15/1999', '75020          ', '1', '105', 'France '],\n",
       "   ['767', '2/15/1999', '75020          ', '1', '105', 'France '],\n",
       "   ['2277', '2/15/1999', '75020          ', '1', '251.9', 'France '],\n",
       "   ['663', '2/15/1999', '75020          ', '1', '765.5', 'France '],\n",
       "   ['768', '2/15/1999', '75020          ', '1', '105', 'France '],\n",
       "   ['1122', '2/15/1999', '75020          ', '2', '314.9', 'France '],\n",
       "   ['901', '3/15/1999', '75020          ', '1', '409.4', 'France '],\n",
       "   ['396', '5/31/2002', '75004          ', '1', '892.2', 'France '],\n",
       "   ['770', '2/15/1999', '75004          ', '3', '771.6', 'France '],\n",
       "   ['901', '2/15/1999', '75004          ', '1', '409.4', 'France '],\n",
       "   ['921', '2/15/1999', '75004          ', '1', '525', 'France '],\n",
       "   ['726', '2/15/1999', '75004          ', '2', '230.9', 'France '],\n",
       "   ['758', '2/15/1999', '75004          ', '2', '167.9', 'France '],\n",
       "   ['964', '2/15/1999', '75004          ', '2', '713.9', 'France '],\n",
       "   ['797', '2/15/1999', '75004          ', '3', '905.5', 'France '],\n",
       "   ['838', '2/15/1999', '75004          ', '1', '934.5', 'France '],\n",
       "   ['901', '3/15/1999', '75004          ', '1', '409.4', 'France '],\n",
       "   ['769', '2/15/1999', '75004          ', '3', '771.6', 'France '],\n",
       "   ['609', '2/15/1999', '75004          ', '1', '778.8', 'France '],\n",
       "   ['725', '2/15/1999', '75004          ', '2', '230.9', 'France '],\n",
       "   ['757', '2/15/1999', '75004          ', '2', '167.9', 'France '],\n",
       "   ['901', '1/15/1999', '75082 CEDEX 02 ', '1', '409.4', 'France '],\n",
       "   ['687', '1/15/1999', '75005          ', '1', '446', 'France '],\n",
       "   ['683', '6/1/2002', '75005          ', '1', '839.7', 'France '],\n",
       "   ['1173', '1/15/1999', '75134 CEDEX 11 ', '1', '525', 'France '],\n",
       "   ['2056', '5/31/2002', '75134 CEDEX 11 ', '1', '330.7', 'France '],\n",
       "   ['2254', '2/15/1999', '75134 CEDEX 11 ', '1', '57.7', 'France '],\n",
       "   ['726', '3/15/1999', '75134 CEDEX 11 ', '1', '115.5', 'France '],\n",
       "   ['2255', '2/15/1999', '75134 CEDEX 11 ', '1', '57.7', 'France '],\n",
       "   ['2032', '3/15/1999', '75134 CEDEX 11 ', '1', '220.4', 'France '],\n",
       "   ['2255', '2/15/1999', '75006          ', '1', '57.7', 'France '],\n",
       "   ['989', '3/15/1999', '75006          ', '1', '451.4', 'France '],\n",
       "   ['2234', '1/15/1999', '75215 CEDEX 16 ', '2', '131.2', 'France '],\n",
       "   ['2277', '1/15/1999', '75215 CEDEX 16 ', '1', '251.9', 'France '],\n",
       "   ['2240', '5/31/2002', '75215 CEDEX 16 ', '1', '89.2', 'France '],\n",
       "   ['676', '6/6/2002', '75007          ', '1', '837.4', 'France '],\n",
       "   ['2254', '1/15/1999', '75023 CEDEX 01 ', '1', '57.7', 'France '],\n",
       "   ['2255', '1/15/1999', '75023 CEDEX 01 ', '1', '57.7', 'France '],\n",
       "   ['901', '3/15/1999', '75023 CEDEX 01 ', '2', '818.9', 'France '],\n",
       "   ['796', '3/15/1999', '75008          ', '1', '267.7', 'France '],\n",
       "   ['1014', '3/15/1999', '75008          ', '2', '173.2', 'France '],\n",
       "   ['2277', '1/15/1999', '75172 CEDEX 17 ', '1', '251.9', 'France '],\n",
       "   ['2282', '1/15/1999', '75229 CEDEX 05 ', '1', '304.4', 'France '],\n",
       "   ['1116', '2/15/1999', '75229 CEDEX 05 ', '1', '251.9', 'France '],\n",
       "   ['2254', '2/15/1999', '75229 CEDEX 05 ', '1', '57.7', 'France '],\n",
       "   ['2255', '2/15/1999', '75229 CEDEX 05 ', '1', '57.7', 'France '],\n",
       "   ['739', '1/15/1999', '75010          ', '1', '170.6', 'France '],\n",
       "   ['2277', '3/15/1999', '75010          ', '1', '251.9', 'France '],\n",
       "   ['2407', '1/15/1999', '75011          ', '1', '73.5', 'France '],\n",
       "   ['1005', '1/15/1999', '75011          ', '1', '107.6', 'France '],\n",
       "   ['921', '2/15/1999', '75011          ', '1', '525', 'France '],\n",
       "   ['475', '2/15/1999', '75011          ', '1', '970.2', 'France '],\n",
       "   ['1166', '2/15/1999', '75011          ', '1', '535.5', 'France '],\n",
       "   ['400', '1/15/1999', '75120 CEDEX 02 ', '1', '683.8', 'France '],\n",
       "   ['729', '4/10/2003', '75120 CEDEX 02 ', '1', '309.7', 'France '],\n",
       "   ['730', '4/10/2003', '75120 CEDEX 02 ', '1', '309.7', 'France '],\n",
       "   ['2081', '6/3/2002', '75012          ', '1', '225.7', 'France '],\n",
       "   ['1957', '2/15/1999', '75012          ', '1', '148', 'France '],\n",
       "   ['964', '6/7/2002', '75012          ', '1', '320.2', 'France '],\n",
       "   ['1956', '2/15/1999', '75012          ', '1', '148', 'France '],\n",
       "   ['443', '1/15/1999', '75118 CEDEX 02 ', '1', '790.9', 'France '],\n",
       "   ['2255', '6/3/2002', '75118 CEDEX 02 ', '1', '60.3', 'France '],\n",
       "   ['2254', '6/3/2002', '75118 CEDEX 02 ', '1', '60.3', 'France '],\n",
       "   ['604', '6/6/2002', '75013          ', '1', '480.6', 'France '],\n",
       "   ['475', '1/15/1999', '75077 CEDEX 02 ', '1', '970.2', 'France '],\n",
       "   ['396', '1/15/1999', '75077 CEDEX 02 ', '1', '857.1', 'France '],\n",
       "   ['433', '2/15/1999', '75077 CEDEX 02 ', '1', '804.3', 'France '],\n",
       "   ['396', '2/15/1999', '75014          ', '1', '857.1', 'France '],\n",
       "   ['2339', '2/15/1999', '75014          ', '1', '488.2', 'France '],\n",
       "   ['1974', '3/15/1999', '75014          ', '1', '52.5', 'France '],\n",
       "   ['499', '1/15/1999', '75015          ', '1', '846.3', 'France '],\n",
       "   ['671', '6/6/2002', '75015          ', '1', '892.2', 'France '],\n",
       "   ['94', '2/15/1999', '75015          ', '2', '1732.5', 'France '],\n",
       "   ['2235', '1/15/1999', '75016          ', '1', '65.6', 'France '],\n",
       "   ['757', '3/15/1999', '75016          ', '1', '84', 'France '],\n",
       "   ['195', '2/15/1999', '75016          ', '1', '750.2', 'France '],\n",
       "   ['604', '1/15/1999', '75106 CEDEX 02 ', '1', '461.7', 'France '],\n",
       "   ['786', '5/31/2002', '75106 CEDEX 02 ', '1', '68.2', 'France '],\n",
       "   ['1085', '5/31/2002', '75106 CEDEX 02 ', '1', '84', 'France '],\n",
       "   ['467', '5/31/2002', '75106 CEDEX 02 ', '1', '900.6', 'France '],\n",
       "   ['2211', '2/15/1999', '75106 CEDEX 02 ', '1', '102.3', 'France '],\n",
       "   ['550', '2/15/1999', '75106 CEDEX 02 ', '2', '808', 'France '],\n",
       "   ['2057', '1/15/1999', '75017          ', '1', '472.4', 'France '],\n",
       "   ['826', '5/31/2002', '75017          ', '1', '918.7', 'France '],\n",
       "   ['753', '5/31/2002', '75017          ', '1', '246.7', 'France '],\n",
       "   ['606', '6/3/2002', '75017          ', '1', '323.1', 'France '],\n",
       "   ['631', '2/15/1999', '75017          ', '1', '346.2', 'France '],\n",
       "   ['2284', '2/15/1999', '75017          ', '1', '293.9', 'France '],\n",
       "   ['606', '2/15/1999', '75017          ', '1', '314.7', 'France '],\n",
       "   ['727', '3/15/1999', '75017          ', '1', '63', 'France '],\n",
       "   ['604', '2/15/1999', '75017          ', '1', '461.7', 'France '],\n",
       "   ['2410', '2/15/1999', '75018          ', '1', '99.7', 'France '],\n",
       "   ['727', '1/15/1999', '75068 CEDEX 02 ', '1', '63', 'France '],\n",
       "   ['2373', '2/15/1999', '75068 CEDEX 02 ', '1', '551.2', 'France '],\n",
       "   ['2126', '6/6/2002', '75068 CEDEX 02 ', '1', '472.4', 'France '],\n",
       "   ['1215', '2/15/1999', '75068 CEDEX 02 ', '1', '356.9', 'France '],\n",
       "   ['1517', '2/15/1999', '75068 CEDEX 02 ', '1', '141.7', 'France '],\n",
       "   ['1518', '2/15/1999', '75068 CEDEX 02 ', '1', '141.7', 'France '],\n",
       "   ['2056', '3/15/1999', '75068 CEDEX 02 ', '1', '320.2', 'France '],\n",
       "   ['728', '1/15/1999', '75256 CEDEX 05 ', '1', '63', 'France '],\n",
       "   ['1329', '1/15/1999', '75256 CEDEX 05 ', '1', '92.8', 'France '],\n",
       "   ['2222', '5/31/2002', '75256 CEDEX 05 ', '1', '246.7', 'France '],\n",
       "   ['727', '1/15/1999', '75256 CEDEX 05 ', '1', '63', 'France '],\n",
       "   ['768', '1/15/1999', '75072 CEDEX 02 ', '1', '105', 'France '],\n",
       "   ['740', '5/31/2002', '75021 CEDEX 01 ', '2', '346.4', 'France '],\n",
       "   ['1040', '6/3/2002', '75021 CEDEX 01 ', '1', '1259.7', 'France '],\n",
       "   ['1053', '6/3/2002', '75021 CEDEX 01 ', '1', '262.4', 'France '],\n",
       "   ['2145', '5/31/2002', '75021 CEDEX 01 ', '1', '367.4', 'France '],\n",
       "   ['676', '2/15/1999', '75021 CEDEX 01 ', '1', '801.9', 'France '],\n",
       "   ['1916', '6/4/2002', '75021 CEDEX 01 ', '1', '286.1', 'France '],\n",
       "   ['195', '2/15/1999', '75021 CEDEX 01 ', '1', '750.2', 'France '],\n",
       "   ['767', '2/15/1999', '75021 CEDEX 01 ', '1', '105', 'France '],\n",
       "   ['768', '1/15/1999', '75103 CEDEX 02 ', '1', '105', 'France '],\n",
       "   ['767', '1/15/1999', '75103 CEDEX 02 ', '1', '105', 'France '],\n",
       "   ['2254', '2/15/1999', '75103 CEDEX 02 ', '1', '68.2', 'France '],\n",
       "   ['769', '1/15/1999', '75219 CEDEX 16 ', '1', '257.2', 'France '],\n",
       "   ['770', '1/15/1999', '75219 CEDEX 16 ', '1', '257.2', 'France '],\n",
       "   ['609', '2/15/1999', '75219 CEDEX 16 ', '1', '778.8', 'France '],\n",
       "   ['770', '1/15/1999', '75031 CEDEX 01 ', '1', '257.2', 'France '],\n",
       "   ['631', '5/31/2002', '75031 CEDEX 01 ', '1', '356.7', 'France '],\n",
       "   ['575', '4/9/2003', '75031 CEDEX 01 ', '1', '929.2', 'France '],\n",
       "   ['727', '1/15/1999', '75031 CEDEX 01 ', '1', '63', 'France '],\n",
       "   ['2277', '2/15/1999', '75031 CEDEX 01 ', '1', '251.9', 'France '],\n",
       "   ['2083', '2/15/1999', '75031 CEDEX 01 ', '1', '309.7', 'France '],\n",
       "   ['1046', '3/15/1999', '75031 CEDEX 01 ', '1', '99.7', 'France '],\n",
       "   ['2332', '6/4/2002', '75031 CEDEX 01 ', '1', '367.4', 'France '],\n",
       "   ['1065', '1/15/1999', '75036 CEDEX 01 ', '1', '296.6', 'France '],\n",
       "   ['396', '6/5/2002', '75036 CEDEX 01 ', '1', '892.2', 'France '],\n",
       "   ['1157', '2/15/1999', '75036 CEDEX 01 ', '1', '377.9', 'France '],\n",
       "   ['1111', '1/15/1999', '75180 CEDEX 04 ', '1', '116.5', 'France '],\n",
       "   ['1112', '1/15/1999', '75180 CEDEX 04 ', '1', '116.5', 'France '],\n",
       "   ['2340', '2/15/1999', '75180 CEDEX 04 ', '1', '461.9', 'France '],\n",
       "   ['2253', '5/31/2002', '75029 CEDEX 01 ', '1', '136.4', 'France '],\n",
       "   ['635', '4/10/2003', '75030 CEDEX 01 ', '1', '881.7', 'France '],\n",
       "   ['2353', '4/10/2003', '75030 CEDEX 01 ', '1', '414.7', 'France '],\n",
       "   ['2328', '2/15/1999', '75030 CEDEX 01 ', '1', '393.7', 'France '],\n",
       "   ['645', '2/15/1999', '75030 CEDEX 01 ', '1', '746.5', 'France '],\n",
       "   ['2074', '3/15/1999', '75030 CEDEX 01 ', '1', '328.1', 'France '],\n",
       "   ['1347', '1/15/1999', '75062 CEDEX 02 ', '1', '299.1', 'France '],\n",
       "   ['786', '4/10/2003', '75062 CEDEX 02 ', '1', '57.7', 'France '],\n",
       "   ['1957', '1/15/1999', '75062 CEDEX 02 ', '1', '153.8', 'France '],\n",
       "   ['1188', '1/15/1999', '75062 CEDEX 02 ', '1', '472.4', 'France '],\n",
       "   ['785', '4/10/2003', '75062 CEDEX 02 ', '1', '57.7', 'France '],\n",
       "   ['1916', '5/31/2002', '75062 CEDEX 02 ', '1', '286.1', 'France '],\n",
       "   ['604', '2/15/1999', '75062 CEDEX 02 ', '1', '461.7', 'France '],\n",
       "   ['1894', '1/15/1999', '75108 CEDEX 02 ', '1', '682.2', 'France '],\n",
       "   ['847', '2/15/1999', '75108 CEDEX 02 ', '1', '603.7', 'France '],\n",
       "   ['1894', '1/15/1999', '75109 CEDEX 02 ', '1', '682.2', 'France '],\n",
       "   ['1112', '1/15/1999', '75109 CEDEX 02 ', '1', '116.5', 'France '],\n",
       "   ['785', '4/11/2003', '75109 CEDEX 02 ', '1', '57.7', 'France '],\n",
       "   ['499', '1/15/1999', '75033 CEDEX 01 ', '1', '846.3', 'France '],\n",
       "   ['797', '2/15/1999', '75033 CEDEX 01 ', '1', '301.8', 'France '],\n",
       "   ['676', '2/15/1999', '75033 CEDEX 01 ', '1', '801.9', 'France '],\n",
       "   ['1948', '1/15/1999', '75214 CEDEX 13 ', '1', '296.6', 'France '],\n",
       "   ['1949', '1/15/1999', '75214 CEDEX 13 ', '1', '296.6', 'France '],\n",
       "   ['1961', '1/15/1999', '75085 CEDEX 02 ', '1', '97.1', 'France '],\n",
       "   ['691', '5/31/2002', '75085 CEDEX 02 ', '1', '351.5', 'France '],\n",
       "   ['1960', '1/15/1999', '75085 CEDEX 02 ', '1', '97.1', 'France '],\n",
       "   ['676', '2/15/1999', '75085 CEDEX 02 ', '1', '801.9', 'France '],\n",
       "   ['833', '1/15/1999', '75035 CEDEX 01 ', '1', '798', 'France '],\n",
       "   ['604', '6/3/2002', '75035 CEDEX 01 ', '1', '480.6', 'France '],\n",
       "   ['691', '6/3/2002', '75035 CEDEX 01 ', '1', '351.5', 'France '],\n",
       "   ['663', '2/15/1999', '75035 CEDEX 01 ', '1', '765.5', 'France '],\n",
       "   ['2210', '1/15/1999', '75250 CEDEX 05 ', '1', '105', 'France '],\n",
       "   ['2211', '1/15/1999', '75250 CEDEX 05 ', '1', '105', 'France '],\n",
       "   ['2234', '2/15/1999', '75250 CEDEX 05 ', '1', '65.6', 'France '],\n",
       "   ['2255', '1/15/1999', '75039 CEDEX 01 ', '1', '57.7', 'France '],\n",
       "   ['681', '1/15/1999', '75039 CEDEX 01 ', '1', '629.7', 'France '],\n",
       "   ['770', '5/31/2002', '75039 CEDEX 01 ', '1', '262.4', 'France '],\n",
       "   ['1014', '5/31/2002', '75039 CEDEX 01 ', '1', '86.6', 'France '],\n",
       "   ['2332', '4/10/2003', '75039 CEDEX 01 ', '1', '419.9', 'France '],\n",
       "   ['1065', '2/15/1999', '75039 CEDEX 01 ', '1', '296.6', 'France '],\n",
       "   ['932', '2/15/1999', '75039 CEDEX 01 ', '1', '430.4', 'France '],\n",
       "   ['1066', '2/15/1999', '75039 CEDEX 01 ', '1', '296.6', 'France '],\n",
       "   ['609', '6/3/2002', '75039 CEDEX 01 ', '1', '829.2', 'France '],\n",
       "   ['1215', '2/15/1999', '75039 CEDEX 01 ', '1', '356.9', 'France '],\n",
       "   ['2083', '2/15/1999', '75039 CEDEX 01 ', '1', '309.7', 'France '],\n",
       "   ['2388', '2/15/1999', '75039 CEDEX 01 ', '1', '309.7', 'France '],\n",
       "   ['2012', '3/15/1999', '75039 CEDEX 01 ', '1', '377.9', 'France '],\n",
       "   ['2255', '3/15/1999', '75040 CEDEX 01 ', '1', '57.7', 'France '],\n",
       "   ['36', '5/31/2002', '75041 CEDEX 01 ', '1', '451.5', 'France '],\n",
       "   ['573', '5/31/2002', '75041 CEDEX 01 ', '1', '299', 'France '],\n",
       "   ['758', '2/15/1999', '75041 CEDEX 01 ', '1', '84', 'France '],\n",
       "   ['2332', '4/10/2003', '75041 CEDEX 01 ', '1', '419.9', 'France '],\n",
       "   ['475', '6/5/2002', '75041 CEDEX 01 ', '1', '1007.2', 'France '],\n",
       "   ['727', '2/15/1999', '75041 CEDEX 01 ', '1', '63', 'France '],\n",
       "   ['921', '3/15/1999', '75041 CEDEX 01 ', '1', '525', 'France '],\n",
       "   ['2056', '3/15/1999', '75042 CEDEX 01 ', '1', '325.4', 'France '],\n",
       "   ['2128', '2/15/1999', '75043 CEDEX 01 ', '1', '398.7', 'France '],\n",
       "   ['2331', '1/15/1999', '75088 CEDEX 02 ', '1', '535.5', 'France '],\n",
       "   ['596', '5/31/2002', '75088 CEDEX 02 ', '1', '776.7', 'France '],\n",
       "   ['631', '5/31/2002', '75088 CEDEX 02 ', '1', '356.7', 'France '],\n",
       "   ['25', '2/15/1999', '75088 CEDEX 02 ', '1', '792.8', 'France '],\n",
       "   ['837', '2/15/1999', '75088 CEDEX 02 ', '1', '813.7', 'France '],\n",
       "   ['1186', '6/5/2002', '75045 CEDEX 01 ', '1', '404.2', 'France '],\n",
       "   ['1157', '2/15/1999', '75045 CEDEX 01 ', '1', '377.9', 'France '],\n",
       "   ['475', '1/15/1999', '75140 CEDEX 03 ', '1', '970.2', 'France '],\n",
       "   ['475', '6/4/2002', '75140 CEDEX 03 ', '1', '1007.2', 'France '],\n",
       "   ['645', '1/15/1999', '75196 CEDEX 04 ', '1', '746.5', 'France '],\n",
       "   ['967', '5/31/2002', '75196 CEDEX 04 ', '1', '656.2', 'France '],\n",
       "   ['2235', '2/15/1999', '75196 CEDEX 04 ', '1', '65.6', 'France '],\n",
       "   ['687', '1/15/1999', '75157 CEDEX 03 ', '1', '446', 'France '],\n",
       "   ['1076', '6/5/2002', '75157 CEDEX 03 ', '1', '259.8', 'France '],\n",
       "   ['1075', '6/5/2002', '75157 CEDEX 03 ', '1', '259.8', 'France '],\n",
       "   ['2277', '2/15/1999', '75157 CEDEX 03 ', '1', '251.9', 'France '],\n",
       "   ['2012', '3/15/1999', '75049 CEDEX 01 ', '1', '377.9', 'France '],\n",
       "   ['2064', '3/15/1999', '75049 CEDEX 01 ', '1', '488.2', 'France '],\n",
       "   ['2396', '5/31/2002', '75231 CEDEX 05 ', '1', '89.2', 'France '],\n",
       "   ['1956', '2/15/1999', '75231 CEDEX 05 ', '1', '153.8', 'France '],\n",
       "   ['687', '6/6/2002', '75231 CEDEX 05 ', '1', '456.5', 'France '],\n",
       "   ['1957', '2/15/1999', '75231 CEDEX 05 ', '1', '153.8', 'France '],\n",
       "   ['1014', '1/15/1999', '75051 CEDEX 01 ', '2', '173.2', 'France '],\n",
       "   ['2045', '2/15/1999', '75051 CEDEX 01 ', '2', '818.9', 'France '],\n",
       "   ['833', '3/15/1999', '75051 CEDEX 01 ', '1', '787.5', 'France '],\n",
       "   ['964', '3/15/1999', '75051 CEDEX 01 ', '1', '346.4', 'France '],\n",
       "   ['574', '5/31/2002', '75288 CEDEX 06 ', '1', '869.1', 'France '],\n",
       "   ['475', '5/31/2002', '75288 CEDEX 06 ', '1', '1007.2', 'France '],\n",
       "   ['1081', '2/15/1999', '75288 CEDEX 06 ', '1', '225.7', 'France '],\n",
       "   ['1082', '2/15/1999', '75288 CEDEX 06 ', '1', '225.7', 'France '],\n",
       "   ['676', '2/15/1999', '75288 CEDEX 06 ', '1', '801.9', 'France '],\n",
       "   ['499', '2/15/1999', '75288 CEDEX 06 ', '1', '846.3', 'France '],\n",
       "   ['2234', '6/4/2002', '75288 CEDEX 06 ', '1', '70.8', 'France '],\n",
       "   ['2235', '6/4/2002', '75288 CEDEX 06 ', '1', '70.8', 'France '],\n",
       "   ['604', '2/15/1999', '75288 CEDEX 06 ', '1', '461.7', 'France '],\n",
       "   ['575', '4/10/2003', '75055 CEDEX 01 ', '1', '929.2', 'France '],\n",
       "   ['1960', '1/15/1999', '75055 CEDEX 01 ', '1', '97.1', 'France '],\n",
       "   ['396', '6/3/2002', '75055 CEDEX 01 ', '1', '892.2', 'France '],\n",
       "   ['592', '6/5/2002', '75055 CEDEX 01 ', '1', '939.5', 'France '],\n",
       "   ['1186', '6/4/2002', '75055 CEDEX 01 ', '1', '404.2', 'France '],\n",
       "   ['550', '2/15/1999', '75055 CEDEX 01 ', '1', '404', 'France '],\n",
       "   ['901', '2/15/1999', '75055 CEDEX 01 ', '1', '409.4', 'France '],\n",
       "   ['757', '5/31/2002', '75114 CEDEX 08 ', '1', '84', 'France '],\n",
       "   ['1960', '1/15/1999', '75114 CEDEX 08 ', '1', '97.1', 'France '],\n",
       "   ['2270', '4/10/2003', '75114 CEDEX 08 ', '1', '314.9', 'France '],\n",
       "   ['609', '2/15/1999', '75114 CEDEX 08 ', '1', '778.8', 'France '],\n",
       "   ['838', '3/15/1999', '75114 CEDEX 08 ', '1', '945', 'France '],\n",
       "   ['604', '2/15/1999', '75114 CEDEX 08 ', '1', '461.7', 'France '],\n",
       "   ['2083', '3/15/1999', '75114 CEDEX 08 ', '1', '309.7', 'France '],\n",
       "   ['2081', '1/15/1999', '75058 CEDEX 01 ', '1', '220.4', 'France '],\n",
       "   ['771', '2/15/1999', '75058 CEDEX 01 ', '1', '165.3', 'France '],\n",
       "   ['772', '2/15/1999', '75058 CEDEX 01 ', '1', '165.3', 'France '],\n",
       "   ['758', '5/31/2002', '75131 CEDEX 12 ', '1', '84', 'France '],\n",
       "   ['2234', '1/15/1999', '75131 CEDEX 12 ', '1', '65.6', 'France '],\n",
       "   ['2280', '5/31/2002', '75131 CEDEX 12 ', '1', '170.6', 'France '],\n",
       "   ['1435', '2/15/1999', '75131 CEDEX 12 ', '1', '312.3', 'France '],\n",
       "   ['2140', '2/15/1999', '75059 CEDEX 01 ', '1', '551', 'France '],\n",
       "   ['2380', '6/3/2002', '75059 CEDEX 01 ', '1', '293.9', 'France '],\n",
       "   ['769', '3/15/1999', '75059 CEDEX 01 ', '1', '257.2', 'France '],\n",
       "   ['770', '5/31/2002', '75207 CEDEX 16 ', '1', '262.4', 'France '],\n",
       "   ['915', '4/10/2003', '75207 CEDEX 16 ', '1', '556.5', 'France '],\n",
       "   ['2094', '6/6/2002', '75207 CEDEX 16 ', '1', '438.3', 'France '],\n",
       "   ['714', '2/15/1999', '75207 CEDEX 16 ', '1', '160.1', 'France '],\n",
       "   ['2282', '2/15/1999', '75207 CEDEX 16 ', '1', '304.4', 'France '],\n",
       "   ['635', '6/1/2002', '75207 CEDEX 16 ', '1', '860.7', 'France '],\n",
       "   ['758', '3/15/1999', '75207 CEDEX 16 ', '1', '84', 'France '],\n",
       "   ['767', '3/15/1999', '75207 CEDEX 16 ', '1', '105', 'France '],\n",
       "   ['2396', '6/4/2002', '75207 CEDEX 16 ', '2', '178.4', 'France '],\n",
       "   ['713', '2/15/1999', '75207 CEDEX 16 ', '1', '160.1', 'France '],\n",
       "   ['609', '2/15/1999', '75207 CEDEX 16 ', '1', '778.8', 'France '],\n",
       "   ['1173', '6/7/2002', '75061 CEDEX 02 ', '1', '535.5', 'France '],\n",
       "   ['475', '2/15/1999', '75061 CEDEX 02 ', '1', '970.2', 'France '],\n",
       "   ['597', '2/15/1999', '75061 CEDEX 02 ', '1', '892.2', 'France '],\n",
       "   ['785', '5/31/2002', '75127 CEDEX 11 ', '1', '68.2', 'France '],\n",
       "   ['964', '5/31/2002', '75239 CEDEX 05 ', '1', '330.7', 'France '],\n",
       "   ['2332', '6/3/2002', '75239 CEDEX 05 ', '1', '367.4', 'France '],\n",
       "   ['767', '5/31/2002', '75239 CEDEX 05 ', '1', '105', 'France '],\n",
       "   ['2388', '6/3/2002', '75239 CEDEX 05 ', '1', '309.7', 'France '],\n",
       "   ['606', '2/15/1999', '75239 CEDEX 05 ', '1', '314.7', 'France '],\n",
       "   ['767', '1/15/1999', '75067 CEDEX 02 ', '1', '105', 'France '],\n",
       "   ['1065', '2/15/1999', '75067 CEDEX 02 ', '1', '296.6', 'France '],\n",
       "   ['499', '6/6/2002', '75067 CEDEX 02 ', '1', '883', 'France '],\n",
       "   ['491', '2/15/1999', '75067 CEDEX 02 ', '1', '815.3', 'France '],\n",
       "   ['726', '2/15/1999', '75067 CEDEX 02 ', '1', '115.5', 'France '],\n",
       "   ['1066', '2/15/1999', '75067 CEDEX 02 ', '1', '296.6', 'France '],\n",
       "   ['1047', '6/3/2002', '75067 CEDEX 02 ', '1', '209.9', 'France '],\n",
       "   ['727', '2/15/1999', '75067 CEDEX 02 ', '1', '63', 'France '],\n",
       "   ['753', '2/15/1999', '75067 CEDEX 02 ', '1', '244.1', 'France '],\n",
       "   ['1483', '5/31/2002', '75101 CEDEX 02 ', '1', '70.8', 'France '],\n",
       "   ['2270', '5/31/2002', '75101 CEDEX 02 ', '1', '314.9', 'France '],\n",
       "   ['733', '4/10/2003', '75101 CEDEX 02 ', '1', '330.7', 'France '],\n",
       "   ['734', '4/10/2003', '75101 CEDEX 02 ', '1', '330.7', 'France '],\n",
       "   ['1894', '1/15/1999', '75069 CEDEX 02 ', '1', '682.2', 'France '],\n",
       "   ['467', '5/31/2002', '75073 CEDEX 02 ', '1', '900.6', 'France '],\n",
       "   ['120', '2/15/1999', '75073 CEDEX 02 ', '1', '829.5', 'France '],\n",
       "   ['2255', '5/31/2002', '75086 CEDEX 02 ', '2', '120.7', 'France '],\n",
       "   ['981', '6/6/2002', '75086 CEDEX 02 ', '1', '157.4', 'France '],\n",
       "   ['1111', '2/15/1999', '75086 CEDEX 02 ', '1', '116.5', 'France '],\n",
       "   ['837', '2/15/1999', '75086 CEDEX 02 ', '1', '813.7', 'France '],\n",
       "   ['604', '2/15/1999', '75086 CEDEX 02 ', '1', '461.7', 'France '],\n",
       "   ['1112', '2/15/1999', '75086 CEDEX 02 ', '1', '116.5', 'France '],\n",
       "   ['2255', '2/15/1999', '75086 CEDEX 02 ', '1', '57.7', 'France '],\n",
       "   ['676', '2/15/1999', '75086 CEDEX 02 ', '1', '801.9', 'France '],\n",
       "   ['597', '2/15/1999', '75086 CEDEX 02 ', '1', '892.2', 'France '],\n",
       "   ['1974', '3/15/1999', '75086 CEDEX 02 ', '1', '52.5', 'France '],\n",
       "   ['2374', '5/31/2002', '75252 CEDEX 05 ', '1', '661.5', 'France '],\n",
       "   ['533', '5/31/2002', '75078 CEDEX 02 ', '1', '524.7', 'France '],\n",
       "   ['484', '6/6/2002', '75078 CEDEX 02 ', '1', '1312.2', 'France '],\n",
       "   ['1182', '2/15/1999', '75078 CEDEX 02 ', '1', '157.4', 'France '],\n",
       "   ['1188', '2/15/1999', '75078 CEDEX 02 ', '1', '472.4', 'France '],\n",
       "   ['2277', '2/15/1999', '75078 CEDEX 02 ', '1', '251.9', 'France '],\n",
       "   ['396', '2/15/1999', '75078 CEDEX 02 ', '1', '857.1', 'France '],\n",
       "   ['1452', '6/4/2002', '75078 CEDEX 02 ', '1', '385.8', 'France '],\n",
       "   ['1451', '6/4/2002', '75078 CEDEX 02 ', '1', '385.8', 'France '],\n",
       "   ['609', '2/15/1999', '75078 CEDEX 02 ', '1', '778.8', 'France '],\n",
       "   ['2331', '2/15/1999', '75078 CEDEX 02 ', '1', '535.5', 'France '],\n",
       "   ['2380', '5/31/2002', '75308 CEDEX 09 ', '1', '293.9', 'France '],\n",
       "   ['580', '2/15/1999', '75079 CEDEX 02 ', '1', '734.7', 'France '],\n",
       "   ['400', '6/5/2002', '75079 CEDEX 02 ', '1', '734.7', 'France '],\n",
       "   ['1173', '6/3/2002', '75079 CEDEX 02 ', '1', '535.5', 'France '],\n",
       "   ['2255', '3/15/1999', '75079 CEDEX 02 ', '1', '57.7', 'France '],\n",
       "   ['2388', '5/31/2002', '75212 CEDEX 13 ', '1', '309.7', 'France '],\n",
       "   ['10', '4/9/2003', '75212 CEDEX 13 ', '1', '682', 'France '],\n",
       "   ['800', '4/11/2003', '75212 CEDEX 13 ', '1', '262.4', 'France '],\n",
       "   ['2284', '2/15/1999', '75081 CEDEX 02 ', '1', '293.9', 'France '],\n",
       "   ['163', '5/31/2002', '75150 CEDEX 03 ', '1', '524.5', 'France '],\n",
       "   ['433', '5/31/2002', '75150 CEDEX 03 ', '1', '851.5', 'France '],\n",
       "   ['1786', '4/11/2003', '75150 CEDEX 03 ', '1', '630', 'France '],\n",
       "   ['467', '6/6/2002', '75150 CEDEX 03 ', '1', '900.6', 'France '],\n",
       "   ['727', '2/15/1999', '75150 CEDEX 03 ', '2', '136.4', 'France '],\n",
       "   ['433', '6/4/2002', '75150 CEDEX 03 ', '1', '851.5', 'France '],\n",
       "   ['728', '2/15/1999', '75150 CEDEX 03 ', '2', '136.4', 'France '],\n",
       "   ['2331', '2/15/1999', '75150 CEDEX 03 ', '1', '535.5', 'France '],\n",
       "   ['475', '2/15/1999', '75150 CEDEX 03 ', '1', '970.2', 'France '],\n",
       "   ['838', '2/15/1999', '75150 CEDEX 03 ', '1', '934.5', 'France '],\n",
       "   ['2070', '3/15/1999', '75150 CEDEX 03 ', '1', '519.7', 'France '],\n",
       "   ['2254', '4/9/2003', '75084 CEDEX 02 ', '1', '60.3', 'France '],\n",
       "   ['2262', '6/6/2002', '75084 CEDEX 02 ', '1', '299.2', 'France '],\n",
       "   ['2263', '6/6/2002', '75084 CEDEX 02 ', '1', '299.2', 'France '],\n",
       "   ['609', '2/15/1999', '75084 CEDEX 02 ', '1', '778.8', 'France '],\n",
       "   ['510', '5/31/2002', '75123 CEDEX 03 ', '1', '874.6', 'France '],\n",
       "   ['433', '2/15/1999', '75123 CEDEX 03 ', '1', '804.3', 'France '],\n",
       "   ['565', '5/31/2002', '75211 CEDEX 13 ', '1', '881.7', 'France '],\n",
       "   ['768', '4/11/2003', '75211 CEDEX 13 ', '1', '94.5', 'France '],\n",
       "   ['2252', '5/31/2002', '75211 CEDEX 13 ', '1', '136.4', 'France '],\n",
       "   ['2277', '2/15/1999', '75211 CEDEX 13 ', '1', '251.9', 'France '],\n",
       "   ['491', '2/15/1999', '75211 CEDEX 13 ', '1', '815.3', 'France '],\n",
       "   ['604', '2/15/1999', '75089 CEDEX 02 ', '1', '461.7', 'France '],\n",
       "   ['1894', '2/15/1999', '75089 CEDEX 02 ', '1', '682.2', 'France '],\n",
       "   ['989', '3/15/1999', '75089 CEDEX 02 ', '1', '451.4', 'France '],\n",
       "   ['604', '5/31/2002', '75167 CEDEX 19 ', '1', '480.6', 'France '],\n",
       "   ['671', '5/31/2002', '75167 CEDEX 19 ', '1', '892.2', 'France '],\n",
       "   ['2047', '2/15/1999', '75167 CEDEX 19 ', '1', '377.9', 'France '],\n",
       "   ['559', '2/15/1999', '75167 CEDEX 19 ', '1', '585.6', 'France '],\n",
       "   ['681', '1/15/1999', '75096 CEDEX 02 ', '1', '629.7', 'France '],\n",
       "   ['443', '2/15/1999', '75096 CEDEX 02 ', '1', '790.9', 'France '],\n",
       "   ['910', '3/15/1999', '75096 CEDEX 02 ', '1', '414.7', 'France '],\n",
       "   ['727', '2/15/1999', '75097 CEDEX 02 ', '1', '63', 'France '],\n",
       "   ['728', '2/15/1999', '75097 CEDEX 02 ', '1', '63', 'France '],\n",
       "   ['901', '1/15/1999', '75100 CEDEX 01 ', '1', '409.4', 'France '],\n",
       "   ['635', '4/11/2003', '75100 CEDEX 01 ', '1', '881.7', 'France '],\n",
       "   ['796', '5/31/2002', '75100 CEDEX 01 ', '1', '278.2', 'France '],\n",
       "   ['976', '5/31/2002', '75100 CEDEX 01 ', '1', '314.9', 'France '],\n",
       "   ['491', '2/15/1999', '75100 CEDEX 01 ', '1', '815.3', 'France '],\n",
       "   ['2373', '2/15/1999', '75102 CEDEX 02 ', '1', '551.2', 'France '],\n",
       "   ['1122', '2/15/1999', '75104 CEDEX 02 ', '1', '157.4', 'France '],\n",
       "   ['2282', '2/15/1999', '75104 CEDEX 02 ', '1', '304.4', 'France '],\n",
       "   ['2234', '3/15/1999', '75104 CEDEX 02 ', '1', '65.6', 'France '],\n",
       "   ['502', '4/10/2003', '75283 CEDEX 06 ', '1', '1105.9', 'France '],\n",
       "   ['1116', '2/15/1999', '75283 CEDEX 06 ', '1', '251.9', 'France '],\n",
       "   ['658', '1/15/1999', '75105 CEDEX 02 ', '1', '902.7', 'France '],\n",
       "   ['550', '2/15/1999', '75105 CEDEX 02 ', '1', '404', 'France '],\n",
       "   ['2277', '2/15/1999', '75113 CEDEX 02 ', '1', '251.9', 'France '],\n",
       "   ['726', '3/15/1999', '75113 CEDEX 02 ', '1', '115.5', 'France '],\n",
       "   ['901', '1/15/1999', '75124 CEDEX 03 ', '1', '409.4', 'France '],\n",
       "   ['1229', '2/15/1999', '75124 CEDEX 03 ', '1', '236.2', 'France '],\n",
       "   ['769', '3/15/1999', '75125 CEDEX 11 ', '1', '257.2', 'France '],\n",
       "   ['1641', '2/15/1999', '75126 CEDEX 11 ', '1', '70.8', 'France '],\n",
       "   ['606', '6/3/2002', '75204 CEDEX 13 ', '1', '323.1', 'France '],\n",
       "   ['1215', '6/3/2002', '75204 CEDEX 13 ', '1', '356.9', 'France '],\n",
       "   ['2353', '6/6/2002', '75204 CEDEX 13 ', '1', '414.7', 'France '],\n",
       "   ['797', '2/15/1999', '75204 CEDEX 13 ', '1', '301.8', 'France '],\n",
       "   ['443', '2/15/1999', '75204 CEDEX 13 ', '1', '790.9', 'France '],\n",
       "   ['2388', '6/3/2002', '75253 CEDEX 05 ', '1', '309.7', 'France '],\n",
       "   ['573', '4/10/2003', '75253 CEDEX 05 ', '1', '313.7', 'France '],\n",
       "   ['2255', '2/15/1999', '75253 CEDEX 05 ', '1', '57.7', 'France '],\n",
       "   ['596', '2/15/1999', '75253 CEDEX 05 ', '1', '746.5', 'France '],\n",
       "   ['2253', '6/3/2002', '75310 CEDEX 09 ', '1', '136.4', 'France '],\n",
       "   ['2252', '6/3/2002', '75310 CEDEX 09 ', '1', '136.4', 'France '],\n",
       "   ['1014', '1/15/1999', '75144 CEDEX 19 ', '1', '86.6', 'France '],\n",
       "   ['2254', '1/15/1999', '75144 CEDEX 19 ', '1', '57.7', 'France '],\n",
       "   ['757', '1/15/1999', '75152 CEDEX 03 ', '1', '84', 'France '],\n",
       "   ['797', '3/15/1999', '75152 CEDEX 03 ', '1', '301.8', 'France '],\n",
       "   ['645', '2/15/1999', '75152 CEDEX 03 ', '1', '746.5', 'France '],\n",
       "   ['2277', '1/15/1999', '75217 CEDEX 16 ', '1', '251.9', 'France '],\n",
       "   ['1086', '5/31/2002', '75217 CEDEX 16 ', '1', '84', 'France '],\n",
       "   ['1215', '6/5/2002', '75155 CEDEX 03 ', '1', '356.9', 'France '],\n",
       "   ['758', '1/15/1999', '75305 CEDEX 09 ', '1', '84', 'France '],\n",
       "   ['1949', '2/15/1999', '75163 CEDEX 04 ', '1', '296.6', 'France '],\n",
       "   ['2210', '2/15/1999', '75163 CEDEX 04 ', '1', '105', 'France '],\n",
       "   ['1948', '2/15/1999', '75163 CEDEX 04 ', '1', '296.6', 'France '],\n",
       "   ['1065', '3/15/1999', '75163 CEDEX 04 ', '1', '296.6', 'France '],\n",
       "   ['767', '1/15/1999', '75221 CEDEX 05 ', '1', '105', 'France '],\n",
       "   ['596', '2/15/1999', '75221 CEDEX 05 ', '1', '746.5', 'France '],\n",
       "   ['1111', '6/7/2002', '75221 CEDEX 05 ', '1', '120.7', 'France '],\n",
       "   ['1949', '2/15/1999', '75164 CEDEX 19 ', '1', '296.6', 'France '],\n",
       "   ['1948', '2/15/1999', '75164 CEDEX 19 ', '1', '296.6', 'France '],\n",
       "   ['2083', '2/15/1999', '75169 CEDEX 19 ', '1', '309.7', 'France '],\n",
       "   ['1046', '2/15/1999', '75169 CEDEX 19 ', '1', '99.7', 'France '],\n",
       "   ['1920', '2/15/1999', '75169 CEDEX 19 ', '1', '280.8', 'France '],\n",
       "   ['2277', '2/15/1999', '75171 CEDEX 19 ', '1', '251.9', 'France '],\n",
       "   ['2250', '4/10/2003', '75171 CEDEX 19 ', '1', '126', 'France '],\n",
       "   ['2251', '4/10/2003', '75171 CEDEX 19 ', '1', '126', 'France '],\n",
       "   ['2211', '1/15/1999', '75236 CEDEX 05 ', '1', '107.6', 'France '],\n",
       "   ['910', '2/15/1999', '75236 CEDEX 05 ', '1', '414.7', 'France '],\n",
       "   ['475', '2/15/1999', '75174 CEDEX 17 ', '1', '970.2', 'France '],\n",
       "   ['400', '2/15/1999', '75234 CEDEX 05 ', '1', '683.8', 'France '],\n",
       "   ['1894', '2/15/1999', '75234 CEDEX 05 ', '1', '682.2', 'France '],\n",
       "   ['475', '2/15/1999', '75213 CEDEX 16 ', '1', '970.2', 'France '],\n",
       "   ['1116', '2/15/1999', '75213 CEDEX 16 ', '1', '251.9', 'France '],\n",
       "   ['495', '6/4/2002', '75213 CEDEX 16 ', '8', '6720', 'France '],\n",
       "   ['464', '2/15/1999', '75213 CEDEX 16 ', '10', '5662.1', 'France '],\n",
       "   ['2284', '2/15/1999', '75181 CEDEX 04 ', '1', '293.9', 'France '],\n",
       "   ['604', '2/15/1999', '75244 CEDEX 13 ', '1', '461.7', 'France '],\n",
       "   ['1112', '2/15/1999', '75244 CEDEX 13 ', '1', '116.5', 'France '],\n",
       "   ['714', '2/15/1999', '75244 CEDEX 13 ', '1', '160.1', 'France '],\n",
       "   ['1111', '2/15/1999', '75244 CEDEX 13 ', '1', '116.5', 'France '],\n",
       "   ['1490', '6/4/2002', '75244 CEDEX 13 ', '1', '262.4', 'France '],\n",
       "   ['1489', '6/4/2002', '75244 CEDEX 13 ', '1', '262.4', 'France '],\n",
       "   ['713', '2/15/1999', '75244 CEDEX 13 ', '1', '160.1', 'France '],\n",
       "   ['1960', '3/15/1999', '75184 CEDEX 04 ', '1', '97.1', 'France '],\n",
       "   ['609', '2/15/1999', '75306 CEDEX 09 ', '1', '778.8', 'France '],\n",
       "   ['2282', '2/15/1999', '75186 CEDEX 04 ', '1', '304.4', 'France '],\n",
       "   ['728', '2/15/1999', '75186 CEDEX 04 ', '1', '63', 'France '],\n",
       "   ['989', '2/15/1999', '75188 CEDEX 04 ', '1', '467.2', 'France '],\n",
       "   ['727', '2/15/1999', '75198 CEDEX 04 ', '1', '63', 'France '],\n",
       "   ['609', '2/15/1999', '75198 CEDEX 04 ', '1', '778.8', 'France '],\n",
       "   ['728', '2/15/1999', '75198 CEDEX 04 ', '1', '63', 'France '],\n",
       "   ['2331', '2/15/1999', '75198 CEDEX 04 ', '1', '535.5', 'France '],\n",
       "   ['606', '2/15/1999', '75198 CEDEX 04 ', '1', '314.7', 'France '],\n",
       "   ['2254', '3/15/1999', '75198 CEDEX 04 ', '1', '57.7', 'France '],\n",
       "   ['992', '5/31/2002', '75189 CEDEX 04 ', '1', '278.2', 'France '],\n",
       "   ['550', '2/15/1999', '75189 CEDEX 04 ', '1', '404', 'France '],\n",
       "   ['2282', '2/15/1999', '75191 CEDEX 04 ', '1', '304.4', 'France '],\n",
       "   ['768', '2/15/1999', '75230 CEDEX 05 ', '1', '105', 'France '],\n",
       "   ['910', '4/11/2003', '75230 CEDEX 05 ', '1', '430.4', 'France '],\n",
       "   ['1894', '2/15/1999', '75230 CEDEX 05 ', '1', '682.2', 'France '],\n",
       "   ['2255', '2/15/1999', '75195 CEDEX 04 ', '1', '57.7', 'France '],\n",
       "   ['2254', '2/15/1999', '75195 CEDEX 04 ', '1', '57.7', 'France '],\n",
       "   ['726', '2/15/1999', '75195 CEDEX 04 ', '1', '115.5', 'France '],\n",
       "   ['671', '6/3/2002', '75197 CEDEX 04 ', '1', '892.2', 'France '],\n",
       "   ['2094', '6/3/2002', '75197 CEDEX 04 ', '1', '438.3', 'France '],\n",
       "   ['797', '3/15/1999', '75197 CEDEX 04 ', '1', '301.8', 'France '],\n",
       "   ['1975', '2/15/1999', '75201 CEDEX 13 ', '1', '52.5', 'France '],\n",
       "   ['728', '2/15/1999', '75202 CEDEX 16 ', '1', '63', 'France '],\n",
       "   ['2371', '2/15/1999', '75202 CEDEX 16 ', '1', '551.2', 'France '],\n",
       "   ['727', '2/15/1999', '75202 CEDEX 16 ', '1', '63', 'France '],\n",
       "   ['992', '3/15/1999', '75203 CEDEX 16 ', '1', '278.2', 'France '],\n",
       "   ['2234', '3/15/1999', '75203 CEDEX 16 ', '1', '65.6', 'France '],\n",
       "   ['1081', '2/15/1999', '75210 CEDEX 13 ', '1', '225.7', 'France '],\n",
       "   ['1188', '6/6/2002', '75210 CEDEX 13 ', '1', '472.4', 'France '],\n",
       "   ['2045', '6/6/2002', '75210 CEDEX 13 ', '1', '419.9', 'France '],\n",
       "   ['1082', '2/15/1999', '75210 CEDEX 13 ', '1', '225.7', 'France '],\n",
       "   ['2282', '2/15/1999', '75205 CEDEX 13 ', '1', '304.4', 'France '],\n",
       "   ['1894', '3/15/1999', '75205 CEDEX 13 ', '1', '682.2', 'France '],\n",
       "   ['2254', '3/15/1999', '75205 CEDEX 13 ', '1', '57.7', 'France '],\n",
       "   ['599', '2/15/1999', '75208 CEDEX 16 ', '1', '753.6', 'France '],\n",
       "   ['2279', '2/15/1999', '75278 CEDEX 06 ', '1', '165.3', 'France '],\n",
       "   ['989', '2/15/1999', '75278 CEDEX 06 ', '1', '451.4', 'France '],\n",
       "   ['604', '2/15/1999', '75216 CEDEX 16 ', '1', '461.7', 'France '],\n",
       "   ['226', '2/15/1999', '75216 CEDEX 16 ', '1', '761', 'France '],\n",
       "   ['852', '3/15/1999', '75220 CEDEX 16 ', '1', '771.7', 'France '],\n",
       "   ['631', '2/15/1999', '75222 CEDEX 05 ', '1', '346.2', 'France '],\n",
       "   ['2359', '6/5/2002', '75227 CEDEX 05 ', '1', '430.4', 'France '],\n",
       "   ['1975', '2/15/1999', '75227 CEDEX 05 ', '1', '52.5', 'France '],\n",
       "   ['499', '6/4/2002', '75227 CEDEX 05 ', '1', '883', 'France '],\n",
       "   ['1975', '6/7/2002', '75228 CEDEX 05 ', '1', '57.7', 'France '],\n",
       "   ['1975', '2/15/1999', '75228 CEDEX 05 ', '1', '52.5', 'France '],\n",
       "   ['597', '2/15/1999', '75228 CEDEX 05 ', '1', '892.2', 'France '],\n",
       "   ['1974', '2/15/1999', '75228 CEDEX 05 ', '1', '52.5', 'France '],\n",
       "   ['599', '2/15/1999', '75233 CEDEX 05 ', '1', '753.6', 'France '],\n",
       "   ['2054', '4/11/2003', '75238 CEDEX 05 ', '1', '546', 'France '],\n",
       "   ['2252', '4/11/2003', '75275 CEDEX 06 ', '1', '136.4', 'France '],\n",
       "   ['604', '2/15/1999', '75248 CEDEX 05 ', '1', '461.7', 'France '],\n",
       "   ['609', '2/15/1999', '75248 CEDEX 05 ', '1', '778.8', 'France '],\n",
       "   ['596', '6/1/2002', '75260 CEDEX 06 ', '1', '776.7', 'France '],\n",
       "   ['645', '2/15/1999', '75260 CEDEX 06 ', '1', '746.5', 'France '],\n",
       "   ['2255', '3/15/1999', '75260 CEDEX 06 ', '1', '57.7', 'France '],\n",
       "   ['2241', '6/4/2002', '75265 CEDEX 06 ', '1', '89.2', 'France '],\n",
       "   ['2240', '6/4/2002', '75265 CEDEX 06 ', '1', '89.2', 'France '],\n",
       "   ['1122', '2/15/1999', '75280 CEDEX 06 ', '1', '157.4', 'France '],\n",
       "   ['1148', '6/6/2002', '75327 CEDEX 07 ', '1', '314.9', 'France '],\n",
       "   ['1213', '6/6/2002', '75327 CEDEX 07 ', '1', '556.5', 'France '],\n",
       "   ['1122', '2/15/1999', '75290 CEDEX 06 ', '1', '157.4', 'France '],\n",
       "   ['725', '1/15/1999', '75755 CEDEX 15 ', '1', '115.5', 'France '],\n",
       "   ['1139', '4/10/2003', '75755 CEDEX 15 ', '1', '682.5', 'France '],\n",
       "   ['726', '1/15/1999', '75761 CEDEX 16 ', '1', '115.5', 'France '],\n",
       "   ['758', '1/15/1999', '75761 CEDEX 16 ', '1', '84', 'France '],\n",
       "   ['757', '1/15/1999', '75761 CEDEX 16 ', '1', '84', 'France '],\n",
       "   ['964', '4/10/2003', '75761 CEDEX 16 ', '1', '330.7', 'France '],\n",
       "   ['847', '3/15/1999', '75320 CEDEX 09 ', '1', '603.7', 'France '],\n",
       "   ['726', '1/15/1999', '75877 CEDEX 18 ', '1', '115.5', 'France '],\n",
       "   ['2254', '1/15/1999', '75877 CEDEX 18 ', '1', '57.7', 'France '],\n",
       "   ['1014', '1/15/1999', '75877 CEDEX 18 ', '1', '86.6', 'France '],\n",
       "   ['1053', '2/15/1999', '75877 CEDEX 18 ', '1', '251.9', 'France '],\n",
       "   ['727', '1/15/1999', '75757 CEDEX 15 ', '2', '125.9', 'France '],\n",
       "   ['936', '1/15/1999', '75757 CEDEX 15 ', '1', '498.7', 'France '],\n",
       "   ['767', '1/15/1999', '75757 CEDEX 15 ', '1', '105', 'France '],\n",
       "   ['727', '1/15/1999', '75878 CEDEX 18 ', '1', '63', 'France '],\n",
       "   ['2351', '2/15/1999', '75878 CEDEX 18 ', '1', '314.9', 'France '],\n",
       "   ['728', '1/15/1999', '75712 CEDEX 15 ', '1', '63', 'France '],\n",
       "   ['2277', '1/15/1999', '75712 CEDEX 15 ', '1', '251.9', 'France '],\n",
       "   ['2388', '2/15/1999', '75712 CEDEX 15 ', '1', '309.7', 'France '],\n",
       "   ['1213', '4/11/2003', '75712 CEDEX 15 ', '1', '567', 'France '],\n",
       "   ['767', '1/15/1999', '75922 CEDEX 19 ', '1', '105', 'France '],\n",
       "   ['729', '1/15/1999', '75922 CEDEX 19 ', '1', '301.8', 'France '],\n",
       "   ['676', '1/15/1999', '75922 CEDEX 19 ', '1', '801.9', 'France '],\n",
       "   ['2263', '6/5/2002', '75922 CEDEX 19 ', '1', '299.2', 'France '],\n",
       "   ['2262', '6/5/2002', '75922 CEDEX 19 ', '1', '299.2', 'France '],\n",
       "   ['795', '1/15/1999', '75852 CEDEX 17 ', '1', '275.6', 'France '],\n",
       "   ['604', '5/31/2002', '75852 CEDEX 17 ', '1', '480.6', 'France '],\n",
       "   ['796', '1/15/1999', '75852 CEDEX 17 ', '1', '275.6', 'France '],\n",
       "   ['2277', '4/10/2003', '75852 CEDEX 17 ', '1', '262.4', 'France '],\n",
       "   ['2269', '4/10/2003', '75852 CEDEX 17 ', '1', '293.9', 'France '],\n",
       "   ['852', '1/15/1999', '75893 CEDEX 18 ', '1', '745.5', 'France '],\n",
       "   ['433', '5/31/2002', '75893 CEDEX 18 ', '1', '851.5', 'France '],\n",
       "   ['635', '6/3/2002', '75893 CEDEX 18 ', '1', '860.7', 'France '],\n",
       "   ['1112', '1/15/1999', '75909 CEDEX 15 ', '1', '116.5', 'France '],\n",
       "   ['1122', '1/15/1999', '75770 CEDEX 16 ', '1', '157.4', 'France '],\n",
       "   ['1435', '1/15/1999', '75767 CEDEX 16 ', '1', '312.3', 'France '],\n",
       "   ['1894', '1/15/1999', '75798 CEDEX 16 ', '1', '682.2', 'France '],\n",
       "   ['2400', '6/3/2002', '75798 CEDEX 16 ', '1', '94.5', 'France '],\n",
       "   ['2282', '1/15/1999', '75798 CEDEX 16 ', '1', '304.4', 'France '],\n",
       "   ['597', '2/15/1999', '75798 CEDEX 16 ', '1', '892.2', 'France '],\n",
       "   ['1948', '1/15/1999', '75890 CEDEX 18 ', '1', '296.6', 'France '],\n",
       "   ['1961', '1/15/1999', '75920 CEDEX 19 ', '2', '194.2', 'France '],\n",
       "   ['2380', '6/3/2002', '75920 CEDEX 19 ', '1', '293.9', 'France '],\n",
       "   ['2388', '6/5/2002', '75920 CEDEX 19 ', '1', '309.7', 'France '],\n",
       "   ['2254', '1/15/1999', '75703 CEDEX 13 ', '1', '57.7', 'France '],\n",
       "   ['2255', '1/15/1999', '75703 CEDEX 13 ', '1', '57.7', 'France '],\n",
       "   ['2254', '1/15/1999', '75885 CEDEX 18 ', '1', '57.7', 'France '],\n",
       "   ['2277', '1/15/1999', '75885 CEDEX 18 ', '1', '251.9', 'France '],\n",
       "   ['396', '1/15/1999', '75885 CEDEX 18 ', '1', '857.1', 'France '],\n",
       "   ['1116', '4/11/2003', '75885 CEDEX 18 ', '1', '259.8', 'France '],\n",
       "   ['2255', '1/15/1999', '75766 CEDEX 16 ', '1', '57.7', 'France '],\n",
       "   ['609', '1/15/1999', '75766 CEDEX 16 ', '1', '778.8', 'France '],\n",
       "   ['631', '1/15/1999', '75766 CEDEX 16 ', '1', '346.2', 'France '],\n",
       "   ['2252', '4/9/2003', '75766 CEDEX 16 ', '1', '136.4', 'France '],\n",
       "   ['739', '1/15/1999', '75766 CEDEX 16 ', '1', '170.6', 'France '],\n",
       "   ['1204', '2/15/1999', '75766 CEDEX 16 ', '1', '419.9', 'France '],\n",
       "   ['1352', '2/15/1999', '75766 CEDEX 16 ', '1', '309.6', 'France '],\n",
       "   ['2235', '2/15/1999', '75766 CEDEX 16 ', '1', '65.6', 'France '],\n",
       "   ['786', '4/10/2003', '75766 CEDEX 16 ', '1', '57.7', 'France '],\n",
       "   ['785', '4/10/2003', '75766 CEDEX 16 ', '1', '57.7', 'France '],\n",
       "   ['559', '6/5/2002', '75766 CEDEX 16 ', '1', '624.5', 'France '],\n",
       "   ['2255', '1/15/1999', '75860 CEDEX 18 ', '1', '57.7', 'France '],\n",
       "   ['1962', '4/9/2003', '75860 CEDEX 18 ', '1', '149.6', 'France '],\n",
       "   ['2295', '6/4/2002', '75860 CEDEX 18 ', '1', '887.2', 'France '],\n",
       "   ['2279', '2/15/1999', '75860 CEDEX 18 ', '1', '165.3', 'France '],\n",
       "   ['396', '1/15/1999', '75714 CEDEX 15 ', '1', '857.1', 'France '],\n",
       "   ['488', '1/15/1999', '75725 CEDEX 15 ', '1', '970.2', 'France '],\n",
       "   ['488', '2/15/1999', '75725 CEDEX 15 ', '1', '970.2', 'France '],\n",
       "   ['491', '1/15/1999', '75907 CEDEX 15 ', '1', '815.3', 'France '],\n",
       "   ['2277', '1/15/1999', '75907 CEDEX 15 ', '1', '251.9', 'France '],\n",
       "   ['318', '2/15/1999', '75907 CEDEX 15 ', '1', '866', 'France '],\n",
       "   ['559', '1/15/1999', '75739 CEDEX 15 ', '1', '585.6', 'France '],\n",
       "   ['725', '5/31/2002', '75739 CEDEX 15 ', '1', '120.7', 'France '],\n",
       "   ['786', '5/31/2002', '75739 CEDEX 15 ', '1', '68.2', 'France '],\n",
       "   ['2255', '5/31/2002', '75739 CEDEX 15 ', '1', '60.3', 'France '],\n",
       "   ['2253', '6/4/2002', '75739 CEDEX 15 ', '1', '136.4', 'France '],\n",
       "   ['1003', '2/15/1999', '75739 CEDEX 15 ', '1', '86.6', 'France '],\n",
       "   ['768', '5/31/2002', '75739 CEDEX 15 ', '1', '105', 'France '],\n",
       "   ['606', '1/15/1999', '75845 CEDEX 17 ', '1', '314.7', 'France '],\n",
       "   ['609', '1/15/1999', '75702 CEDEX 13 ', '1', '778.8', 'France '],\n",
       "   ['676', '1/15/1999', '75702 CEDEX 13 ', '1', '801.9', 'France '],\n",
       "   ['728', '1/15/1999', '75702 CEDEX 13 ', '1', '63', 'France '],\n",
       "   ['725', '2/15/1999', '75702 CEDEX 13 ', '1', '115.5', 'France '],\n",
       "   ['940', '2/15/1999', '75702 CEDEX 13 ', '1', '687.7', 'France '],\n",
       "   ['2235', '2/15/1999', '75702 CEDEX 13 ', '1', '65.6', 'France '],\n",
       "   ['976', '4/10/2003', '75702 CEDEX 13 ', '1', '314.9', 'France '],\n",
       "   ['757', '5/31/2002', '75702 CEDEX 13 ', '1', '84', 'France '],\n",
       "   ['609', '1/15/1999', '75717 CEDEX 15 ', '1', '778.8', 'France '],\n",
       "   ['2332', '6/3/2002', '75717 CEDEX 15 ', '1', '367.4', 'France '],\n",
       "   ['2284', '1/15/1999', '75717 CEDEX 15 ', '1', '293.9', 'France '],\n",
       "   ['491', '2/15/1999', '75717 CEDEX 15 ', '1', '815.3', 'France '],\n",
       "   ['833', '2/15/1999', '75717 CEDEX 15 ', '1', '798', 'France '],\n",
       "   ['609', '1/15/1999', '75773 CEDEX 16 ', '1', '778.8', 'France '],\n",
       "   ['445', '5/31/2002', '75773 CEDEX 16 ', '1', '860.5', 'France '],\n",
       "   ['797', '1/15/1999', '75773 CEDEX 16 ', '1', '301.8', 'France '],\n",
       "   ['757', '2/15/1999', '75773 CEDEX 16 ', '1', '84', 'France '],\n",
       "   ['714', '1/15/1999', '75756 CEDEX 15 ', '1', '160.1', 'France '],\n",
       "   ['713', '1/15/1999', '75756 CEDEX 15 ', '1', '160.1', 'France '],\n",
       "   ['491', '2/15/1999', '75756 CEDEX 15 ', '1', '815.3', 'France '],\n",
       "   ['726', '1/15/1999', '75879 CEDEX 18 ', '1', '115.5', 'France '],\n",
       "   ['727', '1/15/1999', '75789 CEDEX 16 ', '1', '63', 'France '],\n",
       "   ['2284', '4/9/2003', '75789 CEDEX 16 ', '1', '309.7', 'France '],\n",
       "   ['676', '2/15/1999', '75789 CEDEX 16 ', '1', '801.9', 'France '],\n",
       "   ['802', '5/31/2002', '75789 CEDEX 16 ', '1', '167.9', 'France '],\n",
       "   ['728', '1/15/1999', '75771 CEDEX 16 ', '2', '125.9', 'France '],\n",
       "   ['2012', '1/15/1999', '75771 CEDEX 16 ', '1', '377.9', 'France '],\n",
       "   ['767', '1/15/1999', '75918 CEDEX 19 ', '1', '105', 'France '],\n",
       "   ['2335', '1/15/1999', '75918 CEDEX 19 ', '1', '514.5', 'France '],\n",
       "   ['2254', '5/31/2002', '75918 CEDEX 19 ', '1', '60.3', 'France '],\n",
       "   ['768', '1/15/1999', '75918 CEDEX 19 ', '1', '105', 'France '],\n",
       "   ['635', '4/10/2003', '75918 CEDEX 19 ', '1', '881.7', 'France '],\n",
       "   ['769', '2/15/1999', '75918 CEDEX 19 ', '1', '257.2', 'France '],\n",
       "   ['1053', '1/15/1999', '75957 CEDEX 19 ', '1', '251.9', 'France '],\n",
       "   ['1065', '1/15/1999', '75972 CEDEX 20 ', '1', '296.6', 'France '],\n",
       "   ['1317', '1/15/1999', '75913 CEDEX 19 ', '1', '307', 'France '],\n",
       "   ['1318', '1/15/1999', '75913 CEDEX 19 ', '1', '307', 'France '],\n",
       "   ['757', '1/15/1999', '75913 CEDEX 19 ', '1', '84', 'France '],\n",
       "   ['2282', '2/15/1999', '75913 CEDEX 19 ', '1', '304.4', 'France '],\n",
       "   ['1478', '1/15/1999', '75690 CEDEX 14 ', '1', '317.5', 'France '],\n",
       "   ['1112', '5/31/2002', '75690 CEDEX 14 ', '1', '120.7', 'France '],\n",
       "   ['1518', '1/15/1999', '75908 CEDEX 15 ', '1', '141.7', 'France '],\n",
       "   ['645', '2/15/1999', '75908 CEDEX 15 ', '1', '746.5', 'France '],\n",
       "   ['1066', '2/15/1999', '75908 CEDEX 15 ', '1', '296.6', 'France '],\n",
       "   ['681', '4/10/2003', '75908 CEDEX 15 ', '1', '715.8', 'France '],\n",
       "   ['1961', '1/15/1999', '75853 CEDEX 17 ', '1', '97.1', 'France '],\n",
       "   ['2234', '1/15/1999', '75716 CEDEX 15 ', '1', '65.6', 'France '],\n",
       "   ['2254', '1/15/1999', '75921 CEDEX 19 ', '1', '57.7', 'France '],\n",
       "   ['491', '1/15/1999', '75921 CEDEX 19 ', '1', '815.3', 'France '],\n",
       "   ['2254', '1/15/1999', '75926 CEDEX 19 ', '1', '57.7', 'France '],\n",
       "   ['1066', '2/15/1999', '75926 CEDEX 19 ', '1', '296.6', 'France '],\n",
       "   ['355', '2/15/1999', '75926 CEDEX 19 ', '1', '435.5', 'France '],\n",
       "   ['2255', '1/15/1999', '75722 CEDEX 15 ', '1', '57.7', 'France '],\n",
       "   ['2254', '1/15/1999', '75722 CEDEX 15 ', '1', '57.7', 'France '],\n",
       "   ['2282', '1/15/1999', '75685 CEDEX 14 ', '1', '304.4', 'France '],\n",
       "   ['475', '1/15/1999', '75696 CEDEX 14 ', '1', '970.2', 'France '],\n",
       "   ['573', '6/3/2002', '75696 CEDEX 14 ', '1', '299', 'France '],\n",
       "   ['475', '1/15/1999', '75738 CEDEX 15 ', '1', '970.2', 'France '],\n",
       "   ['2284', '1/15/1999', '75738 CEDEX 15 ', '1', '293.9', 'France '],\n",
       "   ['426', '1/15/1999', '75738 CEDEX 15 ', '1', '795.1', 'France '],\n",
       "   ['491', '1/15/1999', '75706 CEDEX 13 ', '1', '815.3', 'France '],\n",
       "   ['491', '1/15/1999', '75718 CEDEX 15 ', '1', '815.3', 'France '],\n",
       "   ['499', '1/15/1999', '75883 CEDEX 18 ', '1', '846.3', 'France '],\n",
       "   ['786', '4/11/2003', '75883 CEDEX 18 ', '1', '57.7', 'France '],\n",
       "   ['645', '1/15/1999', '75950 CEDEX 19 ', '1', '746.5', 'France '],\n",
       "   ['687', '1/15/1999', '75726 CEDEX 15 ', '1', '446', 'France '],\n",
       "   ['2400', '5/31/2002', '75987 CEDEX 20 ', '1', '94.5', 'France '],\n",
       "   ['196', '5/31/2002', '75831 CEDEX 17 ', '1', '839.5', 'France '],\n",
       "   ['396', '2/15/1999', '75831 CEDEX 17 ', '1', '857.1', 'France '],\n",
       "   ['443', '5/31/2002', '75719 CEDEX 15 ', '1', '829', 'France '],\n",
       "   ['2331', '1/15/1999', '75719 CEDEX 15 ', '1', '535.5', 'France '],\n",
       "   ['910', '5/31/2002', '75783 CEDEX 16 ', '1', '430.4', 'France '],\n",
       "   ['910', '5/31/2002', '75848 CEDEX 17 ', '1', '430.4', 'France '],\n",
       "   ['2235', '6/5/2002', '75848 CEDEX 17 ', '1', '70.8', 'France '],\n",
       "   ['964', '5/31/2002', '75808 CEDEX 17 ', '1', '314.9', 'France '],\n",
       "   ['1112', '5/31/2002', '75927 CEDEX 19 ', '1', '120.7', 'France '],\n",
       "   ['2241', '6/4/2002', '75927 CEDEX 19 ', '1', '89.2', 'France '],\n",
       "   ['990', '5/31/2002', '75927 CEDEX 19 ', '1', '440.9', 'France '],\n",
       "   ['2064', '5/31/2002', '75727 CEDEX 15 ', '1', '496.1', 'France '],\n",
       "   ['2407', '1/15/1999', '75727 CEDEX 15 ', '1', '73.5', 'France '],\n",
       "   ['645', '2/15/1999', '75727 CEDEX 15 ', '1', '746.5', 'France '],\n",
       "   ['2056', '4/11/2003', '75727 CEDEX 15 ', '1', '330.7', 'France '],\n",
       "   ['2074', '5/31/2002', '75699 CEDEX 14 ', '1', '335.9', 'France '],\n",
       "   ['1436', '6/3/2002', '75699 CEDEX 14 ', '1', '330.6', 'France '],\n",
       "   ['1435', '6/3/2002', '75699 CEDEX 14 ', '1', '330.6', 'France '],\n",
       "   ['2254', '5/31/2002', '75715 CEDEX 08 ', '1', '60.3', 'France '],\n",
       "   ['2371', '5/31/2002', '75897 CEDEX 18 ', '1', '572.2', 'France '],\n",
       "   ['940', '5/31/2002', '75897 CEDEX 18 ', '1', '698.2', 'France '],\n",
       "   ['676', '5/31/2002', '75866 CEDEX 18 ', '1', '837.4', 'France '],\n",
       "   ['2250', '4/10/2003', '75866 CEDEX 18 ', '1', '126', 'France '],\n",
       "   ['2251', '4/10/2003', '75866 CEDEX 18 ', '1', '126', 'France '],\n",
       "   ['1974', '4/9/2003', '75903 CEDEX 15 ', '1', '57.7', 'France '],\n",
       "   ['2407', '2/15/1999', '75903 CEDEX 15 ', '1', '73.5', 'France '],\n",
       "   ['785', '5/31/2002', '75903 CEDEX 15 ', '1', '68.2', 'France '],\n",
       "   ['915', '4/9/2003', '75855 CEDEX 17 ', '1', '556.5', 'France '],\n",
       "   ['600', '4/10/2003', '75898 CEDEX 18 ', '1', '747.3', 'France '],\n",
       "   ['785', '4/10/2003', '75749 CEDEX 15 ', '1', '57.7', 'France '],\n",
       "   ['786', '4/10/2003', '75749 CEDEX 15 ', '1', '57.7', 'France '],\n",
       "   ['1980', '4/10/2003', '75721 CEDEX 15 ', '1', '167.9', 'France '],\n",
       "   ['1981', '4/10/2003', '75721 CEDEX 15 ', '1', '167.9', 'France '],\n",
       "   ['726', '1/15/1999', '75892 CEDEX 18 ', '1', '115.5', 'France '],\n",
       "   ['758', '1/15/1999', '75892 CEDEX 18 ', '1', '84', 'France '],\n",
       "   ['1489', '4/11/2003', '75892 CEDEX 18 ', '1', '262.4', 'France '],\n",
       "   ['681', '2/15/1999', '75892 CEDEX 18 ', '1', '629.7', 'France '],\n",
       "   ['2074', '1/15/1999', '75764 CEDEX 16 ', '1', '328.1', 'France '],\n",
       "   ['559', '2/15/1999', '75764 CEDEX 16 ', '1', '585.6', 'France '],\n",
       "   ['2284', '2/15/1999', '75764 CEDEX 16 ', '2', '587.9', 'France '],\n",
       "   ['1979', '6/3/2002', '75683 CEDEX 14 ', '1', '262.4', 'France '],\n",
       "   ['1978', '6/3/2002', '75683 CEDEX 14 ', '1', '262.4', 'France '],\n",
       "   ['1116', '6/4/2002', '75683 CEDEX 14 ', '1', '259.8', 'France '],\n",
       "   ['2255', '6/3/2002', '75829 CEDEX 17 ', '1', '60.3', 'France '],\n",
       "   ['2254', '6/3/2002', '75829 CEDEX 17 ', '1', '60.3', 'France '],\n",
       "   ['1081', '6/3/2002', '75741 CEDEX 15 ', '1', '230.9', 'France '],\n",
       "   ['609', '2/15/1999', '75741 CEDEX 15 ', '1', '778.8', 'France '],\n",
       "   ['2204', '6/3/2002', '75915 CEDEX 04 ', '1', '157.4', 'France '],\n",
       "   ['2205', '6/3/2002', '75915 CEDEX 04 ', '1', '157.4', 'France '],\n",
       "   ['510', '4/10/2003', '75915 CEDEX 04 ', '1', '916.1', 'France '],\n",
       "   ['2251', '6/3/2002', '75817 CEDEX 17 ', '1', '126', 'France '],\n",
       "   ['2250', '6/3/2002', '75817 CEDEX 17 ', '1', '126', 'France '],\n",
       "   ['2359', '4/10/2003', '75817 CEDEX 17 ', '1', '430.4', 'France '],\n",
       "   ['671', '6/3/2002', '75709 CEDEX 13 ', '1', '892.2', 'France '],\n",
       "   ['631', '1/15/1999', '75709 CEDEX 13 ', '1', '346.2', 'France '],\n",
       "   ['1114', '6/3/2002', '75974 CEDEX 20 ', '1', '167.9', 'France '],\n",
       "   ['2234', '2/15/1999', '75974 CEDEX 20 ', '1', '65.6', 'France '],\n",
       "   ['2005', '6/5/2002', '75974 CEDEX 20 ', '1', '307.1', 'France '],\n",
       "   ['1916', '6/3/2002', '75977 CEDEX 20 ', '1', '286.1', 'France '],\n",
       "   ['2359', '6/3/2002', '75911 CEDEX 15 ', '1', '430.4', 'France '],\n",
       "   ['550', '1/15/1999', '75911 CEDEX 15 ', '1', '404', 'France '],\n",
       "   ['575', '4/10/2003', '75911 CEDEX 15 ', '1', '929.2', 'France '],\n",
       "   ['2374', '6/3/2002', '75849 CEDEX 17 ', '1', '661.5', 'France '],\n",
       "   ['726', '2/15/1999', '75849 CEDEX 17 ', '1', '115.5', 'France '],\n",
       "   ['2374', '6/3/2002', '75813 CEDEX 17 ', '1', '661.5', 'France '],\n",
       "   ['604', '6/4/2002', '75840 CEDEX 17 ', '1', '480.6', 'France '],\n",
       "   ['443', '6/4/2002', '75840 CEDEX 17 ', '1', '829', 'France '],\n",
       "   ['550', '1/15/1999', '75840 CEDEX 17 ', '1', '404', 'France '],\n",
       "   ['687', '2/15/1999', '75840 CEDEX 17 ', '1', '446', 'France '],\n",
       "   ['2240', '6/5/2002', '75840 CEDEX 17 ', '1', '89.2', 'France '],\n",
       "   ['488', '6/4/2002', '75707 CEDEX 13 ', '1', '1007.2', 'France '],\n",
       "   ['609', '6/5/2002', '75707 CEDEX 13 ', '1', '829.2', 'France '],\n",
       "   ['1518', '6/4/2002', '75692 CEDEX 14 ', '1', '162.7', 'France '],\n",
       "   ['1517', '6/4/2002', '75692 CEDEX 14 ', '1', '162.7', 'France '],\n",
       "   ['550', '6/4/2002', '75864 CEDEX 18 ', '1', '429.2', 'France '],\n",
       "   ['758', '5/31/2002', '75864 CEDEX 18 ', '1', '84', 'France '],\n",
       "   ['797', '2/15/1999', '75864 CEDEX 18 ', '1', '301.8', 'France '],\n",
       "   ['2388', '6/5/2002', '75864 CEDEX 18 ', '1', '309.7', 'France '],\n",
       "   ['396', '1/15/1999', '75745 CEDEX 15 ', '1', '857.1', 'France '],\n",
       "   ['1426', '2/15/1999', '75745 CEDEX 15 ', '1', '286', 'France '],\n",
       "   ['767', '5/31/2002', '75745 CEDEX 15 ', '1', '105', 'France '],\n",
       "   ['491', '1/15/1999', '75747 CEDEX 15 ', '1', '815.3', 'France '],\n",
       "   ['573', '1/15/1999', '75802 CEDEX 08 ', '1', '280.6', 'France '],\n",
       "   ['609', '1/15/1999', '75781 CEDEX 16 ', '1', '778.8', 'France '],\n",
       "   ['318', '2/15/1999', '75781 CEDEX 16 ', '1', '866', 'France '],\n",
       "   ['681', '1/15/1999', '75689 CEDEX 14 ', '1', '629.7', 'France '],\n",
       "   ['962', '1/15/1999', '75943 CEDEX 19 ', '1', '525', 'France '],\n",
       "   ['1173', '1/15/1999', '75693 CEDEX 14 ', '1', '525', 'France '],\n",
       "   ['2235', '1/15/1999', '75948 CEDEX 19 ', '1', '65.6', 'France '],\n",
       "   ['2255', '1/15/1999', '75846 CEDEX 17 ', '1', '57.7', 'France '],\n",
       "   ['1435', '6/5/2002', '75846 CEDEX 17 ', '1', '330.6', 'France '],\n",
       "   ['2199', '6/5/2002', '75846 CEDEX 17 ', '1', '188.9', 'France '],\n",
       "   ['2407', '1/15/1999', '75708 CEDEX 13 ', '1', '73.5', 'France '],\n",
       "   ['1111', '2/15/1999', '75708 CEDEX 13 ', '1', '116.5', 'France '],\n",
       "   ['979', '2/15/1999', '75862 CEDEX 18 ', '1', '409.4', 'France '],\n",
       "   ['992', '2/15/1999', '75865 CEDEX 18 ', '1', '314.9', 'France '],\n",
       "   ['1182', '2/15/1999', '75923 CEDEX 19 ', '1', '157.4', 'France '],\n",
       "   ['1017', '4/10/2003', '75724 CEDEX 15 ', '1', '288.7', 'France '],\n",
       "   ['606', '4/10/2003', '75944 CEDEX 19 ', '1', '337.8', 'France '],\n",
       "   ['2331', '4/10/2003', '75681 CEDEX 14 ', '1', '540.7', 'France '],\n",
       "   ['617', '4/11/2003', '75778 CEDEX 16 ', '1', '844.7', 'France '],\n",
       "   ['964', '4/11/2003', '75822 CEDEX 17 ', '1', '314.9', 'France '],\n",
       "   ['36', '4/11/2003', '75988 CEDEX 20 ', '1', '456.2', 'France '],\n",
       "   ['785', '5/31/2002', '75929 CEDEX 19 ', '2', '136.4', 'France '],\n",
       "   ['989', '5/31/2002', '75875 CEDEX 18 ', '1', '419.9', 'France '],\n",
       "   ['702', '2/15/1999', '75917 CEDEX 19 ', '1', '286.1', 'France '],\n",
       "   ['797', '2/15/1999', '75806 CEDEX 17 ', '1', '301.8', 'France '],\n",
       "   ['475', '6/5/2002', '75762 CEDEX 16 ', '1', '1007.2', 'France '],\n",
       "   ['467', '6/5/2002', '75809 CEDEX 17 ', '1', '900.6', 'France '],\n",
       "   ['728', '1/15/1999', '06177 CEDEX 2  ', '1', '63', 'France '],\n",
       "   ['964', '5/31/2002', '06177 CEDEX 2  ', '1', '330.7', 'France '],\n",
       "   ['1173', '4/10/2003', '06177 CEDEX 2  ', '1', '498.7', 'France '],\n",
       "   ['512', '6/3/2002', '06177 CEDEX 2  ', '1', '230.7', 'France '],\n",
       "   ['2045', '6/4/2002', '06177 CEDEX 2  ', '1', '419.9', 'France '],\n",
       "   ['2370', '2/15/1999', '06177 CEDEX 2  ', '1', '732.3', 'France '],\n",
       "   ['753', '1/15/1999', '06825 CEDEX 9  ', '1', '244.1', 'France '],\n",
       "   ['1112', '2/15/1999', '06825 CEDEX 9  ', '1', '116.5', 'France '],\n",
       "   ['1066', '2/15/1999', '06825 CEDEX 9  ', '1', '296.6', 'France '],\n",
       "   ['1111', '2/15/1999', '06825 CEDEX 9  ', '1', '116.5', 'France '],\n",
       "   ['2234', '2/15/1999', '06825 CEDEX 9  ', '1', '65.6', 'France '],\n",
       "   ['2254', '1/15/1999', '6300           ', '1', '57.7', 'France '],\n",
       "   ['1990', '1/15/1999', '6300           ', '1', '257.2', 'France '],\n",
       "   ['495', '5/31/2002', '6300           ', '1', '840', 'France '],\n",
       "   ['716', '4/10/2003', '6300           ', '1', '152.2', 'France '],\n",
       "   ['715', '4/10/2003', '6300           ', '1', '152.2', 'France '],\n",
       "   ['2255', '1/15/1999', '6300           ', '1', '57.7', 'France '],\n",
       "   ['1894', '2/15/1999', '6300           ', '1', '682.2', 'France '],\n",
       "   ['785', '5/31/2002', '6300           ', '1', '68.2', 'France '],\n",
       "   ['609', '2/15/1999', '6300           ', '1', '778.8', 'France '],\n",
       "   ['847', '2/15/1999', '6300           ', '1', '603.7', 'France '],\n",
       "   ['495', '6/1/2002', '6300           ', '6', '5040', 'France '],\n",
       "   ['910', '3/15/1999', '6300           ', '2', '829.4', 'France '],\n",
       "   ['2282', '1/15/1999', '06172 CEDEX 2  ', '1', '304.4', 'France '],\n",
       "   ['2332', '4/10/2003', '06172 CEDEX 2  ', '1', '419.9', 'France '],\n",
       "   ['990', '2/15/1999', '06172 CEDEX 2  ', '1', '503.9', 'France '],\n",
       "   ['491', '2/15/1999', '06172 CEDEX 2  ', '2', '1630.7', 'France '],\n",
       "   ['725', '2/15/1999', '06172 CEDEX 2  ', '1', '115.5', 'France '],\n",
       "   ['726', '2/15/1999', '06172 CEDEX 2  ', '1', '115.5', 'France '],\n",
       "   ['2277', '2/15/1999', '06172 CEDEX 2  ', '1', '251.9', 'France '],\n",
       "   ['2351', '1/15/1999', '06009 CEDEX 1  ', '1', '341.2', 'France '],\n",
       "   ['499', '1/15/1999', '06009 CEDEX 1  ', '1', '846.3', 'France '],\n",
       "   ['635', '5/31/2002', '06009 CEDEX 1  ', '1', '860.7', 'France '],\n",
       "   ['2332', '6/4/2002', '06009 CEDEX 1  ', '1', '367.4', 'France '],\n",
       "   ['599', '2/15/1999', '06009 CEDEX 1  ', '1', '753.6', 'France '],\n",
       "   ['1081', '2/15/1999', '06009 CEDEX 1  ', '1', '225.7', 'France '],\n",
       "   ['1082', '2/15/1999', '06009 CEDEX 1  ', '1', '225.7', 'France '],\n",
       "   ['604', '6/6/2002', '06009 CEDEX 1  ', '1', '480.6', 'France '],\n",
       "   ['513', '1/15/1999', '06046 CEDEX 1  ', '1', '451.4', 'France '],\n",
       "   ['768', '1/15/1999', '06201 CEDEX 3  ', '1', '105', 'France '],\n",
       "   ['734', '4/10/2003', '06201 CEDEX 3  ', '1', '330.7', 'France '],\n",
       "   ['767', '1/15/1999', '06201 CEDEX 3  ', '1', '105', 'France '],\n",
       "   ['2071', '6/3/2002', '06201 CEDEX 3  ', '1', '346.4', 'France '],\n",
       "   ['604', '2/15/1999', '06201 CEDEX 3  ', '2', '923.5', 'France '],\n",
       "   ['2045', '1/15/1999', '06201 CEDEX 3  ', '1', '409.4', 'France '],\n",
       "   ['733', '4/10/2003', '06201 CEDEX 3  ', '1', '330.7', 'France '],\n",
       "   ['1894', '2/15/1999', '06201 CEDEX 3  ', '1', '682.2', 'France '],\n",
       "   ['769', '1/15/1999', '06083 CEDEX 1  ', '12', '3086.4', 'France '],\n",
       "   ['2247', '1/15/1999', '06083 CEDEX 1  ', '1', '131.2', 'France '],\n",
       "   ['2235', '1/15/1999', '06083 CEDEX 1  ', '1', '65.6', 'France '],\n",
       "   ['2284', '1/15/1999', '06083 CEDEX 1  ', '1', '293.9', 'France '],\n",
       "   ['550', '2/15/1999', '06083 CEDEX 1  ', '1', '404', 'France '],\n",
       "   ['910', '3/15/1999', '06083 CEDEX 1  ', '1', '414.7', 'France '],\n",
       "   ['1065', '1/15/1999', '06353 CEDEX 4  ', '1', '296.6', 'France '],\n",
       "   ['1116', '2/15/1999', '06353 CEDEX 4  ', '1', '251.9', 'France '],\n",
       "   ['599', '2/15/1999', '06353 CEDEX 4  ', '1', '753.6', 'France '],\n",
       "   ['1066', '1/15/1999', '06353 CEDEX 4  ', '1', '296.6', 'France '],\n",
       "   ['400', '2/15/1999', '06353 CEDEX 4  ', '1', '683.8', 'France '],\n",
       "   ['1894', '1/15/1999', '06084 CEDEX 1  ', '1', '682.2', 'France '],\n",
       "   ['491', '1/15/1999', '06084 CEDEX 1  ', '1', '815.3', 'France '],\n",
       "   ['609', '1/15/1999', '06507 CEDEX    ', '1', '778.8', 'France '],\n",
       "   ['910', '2/15/1999', '06507 CEDEX    ', '1', '414.7', 'France '],\n",
       "   ['663', '1/15/1999', '06175 CEDEX 2  ', '1', '765.5', 'France '],\n",
       "   ['464', '2/15/1999', '06175 CEDEX 2  ', '10', '5662.1', 'France '],\n",
       "   ['550', '1/15/1999', '06175 CEDEX 2  ', '1', '404', 'France '],\n",
       "   ['2071', '5/31/2002', '06175 CEDEX 2  ', '1', '346.4', 'France '],\n",
       "   ['1157', '2/15/1999', '06175 CEDEX 2  ', '1', '377.9', 'France '],\n",
       "   ['2396', '5/31/2002', '06106 CEDEX 2  ', '1', '89.2', 'France '],\n",
       "   ['604', '2/15/1999', '06106 CEDEX 2  ', '1', '461.7', 'France '],\n",
       "   ['2140', '2/15/1999', '06106 CEDEX 2  ', '1', '551', 'France '],\n",
       "   ['550', '2/15/1999', '06106 CEDEX 2  ', '1', '404', 'France '],\n",
       "   ['2396', '5/31/2002', '06107 CEDEX 2  ', '1', '89.2', 'France '],\n",
       "   ['796', '5/31/2002', '06107 CEDEX 2  ', '1', '278.2', 'France '],\n",
       "   ['1330', '2/15/1999', '06107 CEDEX 2  ', '1', '91.8', 'France '],\n",
       "   ['604', '6/6/2002', '06107 CEDEX 2  ', '1', '480.6', 'France '],\n",
       "   ['1329', '2/15/1999', '06107 CEDEX 2  ', '1', '91.8', 'France '],\n",
       "   ['433', '2/15/1999', '06107 CEDEX 2  ', '1', '804.3', 'France '],\n",
       "   ['725', '5/31/2002', '06073 CEDEX 1  ', '1', '120.7', 'France '],\n",
       "   ['580', '2/15/1999', '06073 CEDEX 1  ', '1', '734.7', 'France '],\n",
       "   ['103', '6/3/2002', '06073 CEDEX 1  ', '1', '855.2', 'France '],\n",
       "   ['729', '5/31/2002', '06006 CEDEX 1  ', '1', '309.7', 'France '],\n",
       "   ['767', '5/31/2002', '06301 CEDEX 4  ', '1', '105', 'France '],\n",
       "   ['2284', '2/15/1999', '06301 CEDEX 4  ', '1', '293.9', 'France '],\n",
       "   ['932', '2/15/1999', '06301 CEDEX 4  ', '1', '430.4', 'France '],\n",
       "   ['728', '2/15/1999', '06301 CEDEX 4  ', '1', '63', 'France '],\n",
       "   ['727', '2/15/1999', '06301 CEDEX 4  ', '1', '63', 'France '],\n",
       "   ['952', '5/31/2002', '06108 CEDEX 2  ', '1', '262.4', 'France '],\n",
       "   ['757', '2/15/1999', '06108 CEDEX 2  ', '1', '84', 'France '],\n",
       "   ['635', '6/7/2002', '06108 CEDEX 2  ', '1', '860.7', 'France '],\n",
       "   ['758', '2/15/1999', '06108 CEDEX 2  ', '1', '84', 'France '],\n",
       "   ['1006', '5/31/2002', '6200           ', '1', '89.2', 'France '],\n",
       "   ['1188', '5/31/2002', '06235 CEDEX    ', '1', '488.2', 'France '],\n",
       "   ['1942', '4/11/2003', '06235 CEDEX    ', '1', '126', 'France '],\n",
       "   ['1173', '6/7/2002', '06235 CEDEX    ', '1', '535.5', 'France '],\n",
       "   ['631', '2/15/1999', '06235 CEDEX    ', '1', '346.2', 'France '],\n",
       "   ['758', '3/15/1999', '06235 CEDEX    ', '1', '84', 'France '],\n",
       "   ['2205', '5/31/2002', '06284 CEDEX 3  ', '1', '157.4', 'France '],\n",
       "   ['559', '5/31/2002', '06284 CEDEX 3  ', '1', '624.5', 'France '],\n",
       "   ['2240', '5/31/2002', '06284 CEDEX 3  ', '1', '89.2', 'France '],\n",
       "   ['2253', '5/31/2002', '6430           ', '1', '136.4', 'France '],\n",
       "   ['2359', '5/31/2002', '06082 CEDEX 1  ', '1', '430.4', 'France '],\n",
       "   ['757', '2/15/1999', '06082 CEDEX 1  ', '1', '84', 'France '],\n",
       "   ['2235', '1/15/1999', '06082 CEDEX 1  ', '1', '65.6', 'France '],\n",
       "   ['2270', '6/5/2002', '06082 CEDEX 1  ', '1', '314.9', 'France '],\n",
       "   ['1201', '6/5/2002', '06082 CEDEX 1  ', '1', '577.5', 'France '],\n",
       "   ['1452', '6/6/2002', '06082 CEDEX 1  ', '1', '385.8', 'France '],\n",
       "   ['1451', '6/6/2002', '06082 CEDEX 1  ', '1', '385.8', 'France '],\n",
       "   ['758', '2/15/1999', '06082 CEDEX 1  ', '1', '84', 'France '],\n",
       "   ['1185', '2/15/1999', '06082 CEDEX 1  ', '1', '419.9', 'France '],\n",
       "   ['727', '3/15/1999', '06082 CEDEX 1  ', '1', '63', 'France '],\n",
       "   ['2373', '4/10/2003', '6910           ', '1', '624.7', 'France '],\n",
       "   ['491', '2/15/1999', '6910           ', '1', '815.3', 'France '],\n",
       "   ['2284', '4/10/2003', '06826 CEDEX 9  ', '1', '309.7', 'France '],\n",
       "   ['2255', '1/15/1999', '06826 CEDEX 9  ', '1', '57.7', 'France '],\n",
       "   ['1927', '5/31/2002', '06826 CEDEX 9  ', '1', '99.7', 'France '],\n",
       "   ['2255', '2/15/1999', '06826 CEDEX 9  ', '1', '57.7', 'France '],\n",
       "   ['727', '3/15/1999', '06826 CEDEX 9  ', '1', '63', 'France '],\n",
       "   ['758', '4/10/2003', '06205 CEDEX 3  ', '1', '73.5', 'France '],\n",
       "   ['596', '2/15/1999', '06205 CEDEX 3  ', '1', '746.5', 'France '],\n",
       "   ['396', '1/15/1999', '06205 CEDEX 3  ', '1', '857.1', 'France '],\n",
       "   ['1122', '1/15/1999', '06205 CEDEX 3  ', '1', '157.4', 'France '],\n",
       "   ['757', '4/10/2003', '06205 CEDEX 3  ', '1', '73.5', 'France '],\n",
       "   ['800', '4/11/2003', '06205 CEDEX 3  ', '1', '262.4', 'France '],\n",
       "   ['1120', '2/15/1999', '06205 CEDEX 3  ', '1', '173.2', 'France '],\n",
       "   ['396', '2/15/1999', '06205 CEDEX 3  ', '1', '857.1', 'France '],\n",
       "   ['1894', '2/15/1999', '06205 CEDEX 3  ', '1', '682.2', 'France '],\n",
       "   ['915', '4/10/2003', '06504 CEDEX    ', '1', '556.5', 'France '],\n",
       "   ['635', '6/4/2002', '06504 CEDEX    ', '1', '860.7', 'France '],\n",
       "   ['596', '1/15/1999', '06504 CEDEX    ', '1', '746.5', 'France '],\n",
       "   ['2332', '6/6/2002', '06504 CEDEX    ', '1', '367.4', 'France '],\n",
       "   ['604', '2/15/1999', '06504 CEDEX    ', '1', '461.7', 'France '],\n",
       "   ['727', '1/15/1999', '06288 CEDEX 3  ', '1', '63', 'France '],\n",
       "   ['663', '2/15/1999', '06288 CEDEX 3  ', '1', '765.5', 'France '],\n",
       "   ['2074', '2/15/1999', '06288 CEDEX 3  ', '1', '328.1', 'France '],\n",
       "   ['772', '2/15/1999', '06288 CEDEX 3  ', '1', '165.3', 'France '],\n",
       "   ['1948', '2/15/1999', '06288 CEDEX 3  ', '1', '296.6', 'France '],\n",
       "   ['725', '2/15/1999', '06288 CEDEX 3  ', '1', '115.5', 'France '],\n",
       "   ['771', '2/15/1999', '06288 CEDEX 3  ', '1', '165.3', 'France '],\n",
       "   ['1065', '2/15/1999', '06288 CEDEX 3  ', '1', '296.6', 'France '],\n",
       "   ['1066', '2/15/1999', '06288 CEDEX 3  ', '1', '296.6', 'France '],\n",
       "   ['1949', '2/15/1999', '06288 CEDEX 3  ', '1', '296.6', 'France '],\n",
       "   ['726', '2/15/1999', '06288 CEDEX 3  ', '1', '115.5', 'France '],\n",
       "   ['1065', '1/15/1999', '06007 CEDEX 1  ', '1', '296.6', 'France '],\n",
       "   ['730', '6/7/2002', '06007 CEDEX 1  ', '1', '309.7', 'France '],\n",
       "   ['2074', '6/3/2002', '06185 CEDEX 2  ', '1', '335.9', 'France '],\n",
       "   ['2351', '1/15/1999', '06185 CEDEX 2  ', '1', '335.9', 'France '],\n",
       "   ['804', '4/10/2003', '06185 CEDEX 2  ', '1', '157.4', 'France '],\n",
       "   ['2352', '2/15/1999', '06185 CEDEX 2  ', '1', '367.4', 'France '],\n",
       "   ['1894', '2/15/1999', '06185 CEDEX 2  ', '1', '682.2', 'France '],\n",
       "   ['2235', '6/3/2002', '6240           ', '1', '70.8', 'France '],\n",
       "   ['2234', '6/3/2002', '6240           ', '1', '70.8', 'France '],\n",
       "   ['2396', '6/3/2002', '06506 CEDEX    ', '1', '89.2', 'France '],\n",
       "   ['467', '6/4/2002', '06506 CEDEX    ', '1', '900.6', 'France '],\n",
       "   ['510', '2/15/1999', '06506 CEDEX    ', '2', '1674.2', 'France '],\n",
       "   ['1066', '2/15/1999', '06506 CEDEX    ', '2', '593.1', 'France '],\n",
       "   ['2056', '2/15/1999', '06506 CEDEX    ', '1', '325.4', 'France '],\n",
       "   ['910', '2/15/1999', '06506 CEDEX    ', '1', '414.7', 'France '],\n",
       "   ['2373', '6/5/2002', '06506 CEDEX    ', '1', '588', 'France '],\n",
       "   ['609', '2/15/1999', '06506 CEDEX    ', '1', '778.8', 'France '],\n",
       "   ['1065', '2/15/1999', '06506 CEDEX    ', '2', '593.1', 'France '],\n",
       "   ['757', '3/15/1999', '06506 CEDEX    ', '1', '84', 'France '],\n",
       "   ['2400', '6/3/2002', '06203 CEDEX 3  ', '1', '94.5', 'France '],\n",
       "   ['901', '1/15/1999', '06203 CEDEX 3  ', '1', '409.4', 'France '],\n",
       "   ['475', '6/6/2002', '06203 CEDEX 3  ', '1', '1007.2', 'France '],\n",
       "   ['467', '6/4/2002', '06050 CEDEX 1  ', '1', '900.6', 'France '],\n",
       "   ['573', '2/15/1999', '06050 CEDEX 1  ', '1', '280.6', 'France '],\n",
       "   ['631', '2/15/1999', '06050 CEDEX 1  ', '1', '346.2', 'France '],\n",
       "   ['597', '2/15/1999', '06050 CEDEX 1  ', '1', '892.2', 'France '],\n",
       "   ['475', '6/4/2002', '06079 CEDEX 1  ', '1', '1007.2', 'France '],\n",
       "   ['604', '2/15/1999', '06079 CEDEX 1  ', '1', '461.7', 'France '],\n",
       "   ['2070', '2/15/1999', '06079 CEDEX 1  ', '1', '519.7', 'France '],\n",
       "   ['740', '3/15/1999', '06079 CEDEX 1  ', '1', '170.6', 'France '],\n",
       "   ['981', '3/15/1999', '06079 CEDEX 1  ', '1', '157.4', 'France '],\n",
       "   ['495', '6/4/2002', '6470           ', '2', '1680', 'France '],\n",
       "   ['2047', '2/15/1999', '6470           ', '2', '755.9', 'France '],\n",
       "   ['635', '6/4/2002', '06289 CEDEX 3  ', '1', '860.7', 'France '],\n",
       "   ['609', '2/15/1999', '06289 CEDEX 3  ', '1', '778.8', 'France '],\n",
       "   ['1114', '6/4/2002', '6670           ', '1', '167.9', 'France '],\n",
       "   ['1114', '4/10/2003', '6670           ', '1', '162.7', 'France '],\n",
       "   ['1227', '6/5/2002', '6670           ', '1', '314.9', 'France '],\n",
       "   ['604', '6/4/2002', '06349 CEDEX    ', '1', '480.6', 'France '],\n",
       "   ['2331', '2/15/1999', '06349 CEDEX    ', '1', '535.5', 'France '],\n",
       "   ['1041', '6/3/2002', '75997 CEDEX 14 ', '1', '1102.2', 'France '],\n",
       "   ['2277', '2/15/1999', '06004 CEDEX 1  ', '1', '251.9', 'France '],\n",
       "   ['760', '4/11/2003', '06004 CEDEX 1  ', '1', '146.9', 'France '],\n",
       "   ['2235', '2/15/1999', '75998 CEDEX 14 ', '1', '65.6', 'France '],\n",
       "   ['2234', '2/15/1999', '75998 CEDEX 14 ', '1', '65.6', 'France '],\n",
       "   ['2351', '2/15/1999', '06036 CEDEX 1  ', '1', '314.9', 'France '],\n",
       "   ['936', '5/31/2002', '06036 CEDEX 1  ', '1', '525', 'France '],\n",
       "   ['910', '3/15/1999', '06036 CEDEX 1  ', '1', '414.7', 'France '],\n",
       "   ['910', '4/11/2003', '6000           ', '1', '430.4', 'France '],\n",
       "   ['609', '2/15/1999', '6000           ', '1', '778.8', 'France '],\n",
       "   ['2407', '2/15/1999', '06099 CEDEX 1  ', '1', '73.5', 'France '],\n",
       "   ['1911', '2/15/1999', '06099 CEDEX 1  ', '1', '244.1', 'France '],\n",
       "   ['609', '2/15/1999', '06099 CEDEX 1  ', '2', '1557.7', 'France '],\n",
       "   ['940', '2/15/1999', '06003 CEDEX 1  ', '1', '687.7', 'France '],\n",
       "   ['396', '2/15/1999', '06348 CEDEX    ', '2', '1714.1', 'France '],\n",
       "   ['631', '2/15/1999', '06348 CEDEX    ', '1', '346.2', 'France '],\n",
       "   ['606', '2/15/1999', '06348 CEDEX    ', '1', '314.7', 'France '],\n",
       "   ['475', '2/15/1999', '06348 CEDEX    ', '1', '970.2', 'France '],\n",
       "   ['1489', '2/15/1999', '06348 CEDEX    ', '1', '262.4', 'France '],\n",
       "   ['1490', '2/15/1999', '06348 CEDEX    ', '1', '262.4', 'France '],\n",
       "   ['491', '2/15/1999', '6450           ', '1', '815.3', 'France '],\n",
       "   ['604', '2/15/1999', '6450           ', '1', '461.7', 'France '],\n",
       "   ['2284', '1/15/1999', '6450           ', '1', '293.9', 'France '],\n",
       "   ['1909', '2/15/1999', '6450           ', '1', '199.4', 'France '],\n",
       "   ['901', '3/15/1999', '6450           ', '1', '409.4', 'France '],\n",
       "   ['396', '2/15/1999', '06010 CEDEX 1  ', '1', '857.1', 'France '],\n",
       "   ['604', '2/15/1999', '06183 CEDEX 2  ', '1', '461.7', 'France '],\n",
       "   ['2388', '2/15/1999', '06183 CEDEX 2  ', '1', '309.7', 'France '],\n",
       "   ['901', '2/15/1999', '06016 CEDEX 1  ', '1', '409.4', 'France '],\n",
       "   ['796', '3/15/1999', '06016 CEDEX 1  ', '1', '275.6', 'France '],\n",
       "   ['658', '2/15/1999', '6420           ', '1', '902.7', 'France '],\n",
       "   ['1148', '6/3/2002', '06033 CEDEX 1  ', '1', '314.9', 'France '],\n",
       "   ['727', '2/15/1999', '06357 CEDEX 4  ', '1', '63', 'France '],\n",
       "   ['728', '2/15/1999', '06357 CEDEX 4  ', '1', '63', 'France '],\n",
       "   ['475', '2/15/1999', '06034 CEDEX 1  ', '1', '970.2', 'France '],\n",
       "   ['681', '2/15/1999', '06034 CEDEX 1  ', '1', '629.7', 'France '],\n",
       "   ['1065', '3/15/1999', '06034 CEDEX 1  ', '1', '296.6', 'France '],\n",
       "   ['1157', '2/15/1999', '6660           ', '1', '377.9', 'France '],\n",
       "   ['2188', '2/15/1999', '6660           ', '1', '230.9', 'France '],\n",
       "   ['2380', '2/15/1999', '06047 CEDEX 1  ', '1', '309.7', 'France '],\n",
       "   ['2410', '2/15/1999', '06047 CEDEX 1  ', '1', '99.7', 'France '],\n",
       "   ['976', '4/11/2003', '06049 CEDEX 1  ', '1', '325.4', 'France '],\n",
       "   ['443', '2/15/1999', '06049 CEDEX 1  ', '1', '790.9', 'France '],\n",
       "   ['2287', '2/15/1999', '6950           ', '1', '840', 'France '],\n",
       "   ['571', '4/10/2003', '6950           ', '1', '527.1', 'France '],\n",
       "   ['631', '2/15/1999', '06505 CEDEX    ', '1', '346.2', 'France '],\n",
       "   ['609', '2/15/1999', '06505 CEDEX    ', '1', '778.8', 'France '],\n",
       "   ['2159', '6/6/2002', '06505 CEDEX    ', '1', '498.7', 'France '],\n",
       "   ['2255', '2/15/1999', '06505 CEDEX    ', '1', '57.7', 'France '],\n",
       "   ['2374', '2/15/1999', '06505 CEDEX    ', '1', '630', 'France '],\n",
       "   ['797', '2/15/1999', '06295 CEDEX 3  ', '1', '301.8', 'France '],\n",
       "   ['2277', '2/15/1999', '06295 CEDEX 3  ', '1', '251.9', 'France '],\n",
       "   ['1065', '3/15/1999', '06105 CEDEX 2  ', '1', '296.6', 'France '],\n",
       "   ['2255', '1/15/1999', '06358 CEDEX 4  ', '1', '57.7', 'France '],\n",
       "   ['631', '2/15/1999', '06358 CEDEX 4  ', '1', '346.2', 'France '],\n",
       "   ['826', '5/31/2002', '06184 CEDEX 2  ', '1', '929.2', 'France '],\n",
       "   ...]),\n",
       " ('Canada',\n",
       "  [['725', '1/15/1999', 'H1B            ', '1', '115.4', 'Canada '],\n",
       "   ['2235', '1/15/1999', 'H1B            ', '2', '131.1', 'Canada '],\n",
       "   ['713', '1/15/1999', 'H1B            ', '1', '160.1', 'Canada '],\n",
       "   ['574', '6/5/2002', 'H1B            ', '1', '869.1', 'Canada '],\n",
       "   ['94', '2/15/1999', 'H1B            ', '1', '866.2', 'Canada '],\n",
       "   ['609', '2/15/1999', 'H1B            ', '1', '778.8', 'Canada '],\n",
       "   ['2064', '3/15/1999', 'H1B            ', '2', '976.4', 'Canada '],\n",
       "   ['714', '1/15/1999', 'H1B            ', '1', '160.1', 'Canada '],\n",
       "   ['826', '5/31/2002', 'H1B            ', '1', '944.9', 'Canada '],\n",
       "   ['2149', '6/6/2002', 'H1B            ', '2', '871.4', 'Canada '],\n",
       "   ['992', '2/15/1999', 'H1B            ', '1', '288.7', 'Canada '],\n",
       "   ['726', '1/15/1999', 'M4X            ', '1', '115.4', 'Canada '],\n",
       "   ['725', '1/15/1999', 'M4X            ', '1', '115.4', 'Canada '],\n",
       "   ['910', '3/15/1999', 'M4X            ', '1', '414.7', 'Canada '],\n",
       "   ['727', '1/15/1999', 'R3T            ', '1', '62.9', 'Canada '],\n",
       "   ['1426', '2/15/1999', 'R3T            ', '1', '286', 'Canada '],\n",
       "   ['1182', '1/15/1999', 'R3T            ', '1', '157.4', 'Canada '],\n",
       "   ['976', '5/31/2002', 'R3T            ', '1', '314.9', 'Canada '],\n",
       "   ['758', '1/15/1999', 'R3T            ', '1', '83.9', 'Canada '],\n",
       "   ['1112', '2/15/1999', 'R3T            ', '1', '116.5', 'Canada '],\n",
       "   ['1425', '2/15/1999', 'R3T            ', '1', '286', 'Canada '],\n",
       "   ['740', '1/15/1999', 'R3G            ', '1', '170.6', 'Canada '],\n",
       "   ['604', '1/15/1999', 'R3G            ', '1', '461.7', 'Canada '],\n",
       "   ['726', '1/15/1999', 'R3G            ', '1', '115.4', 'Canada '],\n",
       "   ['758', '1/15/1999', 'R3G            ', '1', '83.9', 'Canada '],\n",
       "   ['1131', '2/15/1999', 'R3G            ', '1', '419.9', 'Canada '],\n",
       "   ['753', '2/15/1999', 'R3G            ', '1', '244.1', 'Canada '],\n",
       "   ['2234', '2/15/1999', 'R3G            ', '1', '65.6', 'Canada '],\n",
       "   ['739', '1/15/1999', 'R3G            ', '1', '170.6', 'Canada '],\n",
       "   ['768', '1/15/1999', 'R3G            ', '1', '104.9', 'Canada '],\n",
       "   ['725', '1/15/1999', 'R3G            ', '1', '115.4', 'Canada '],\n",
       "   ['728', '1/15/1999', 'R3G            ', '1', '62.9', 'Canada '],\n",
       "   ['757', '1/15/1999', 'R3G            ', '1', '83.9', 'Canada '],\n",
       "   ['1956', '2/15/1999', 'R3G            ', '2', '307.5', 'Canada '],\n",
       "   ['606', '2/15/1999', 'R3G            ', '1', '314.7', 'Canada '],\n",
       "   ['754', '2/15/1999', 'R3G            ', '1', '244.1', 'Canada '],\n",
       "   ['2235', '2/15/1999', 'R3G            ', '1', '65.6', 'Canada '],\n",
       "   ['658', '3/15/1999', 'R3G            ', '1', '902.7', 'Canada '],\n",
       "   ['758', '1/15/1999', 'M5P            ', '1', '83.9', 'Canada '],\n",
       "   ['1110', '1/15/1999', 'M5P            ', '1', '209.9', 'Canada '],\n",
       "   ['663', '1/15/1999', 'M5P            ', '1', '765.5', 'Canada '],\n",
       "   ['727', '1/15/1999', 'M5P            ', '1', '62.9', 'Canada '],\n",
       "   ['2277', '3/15/1999', 'M5P            ', '1', '251.9', 'Canada '],\n",
       "   ['1109', '1/15/1999', 'M5P            ', '1', '209.9', 'Canada '],\n",
       "   ['1120', '1/15/1999', 'R3V            ', '1', '173.2', 'Canada '],\n",
       "   ['786', '5/31/2002', 'R3V            ', '1', '68.2', 'Canada '],\n",
       "   ['2380', '5/31/2002', 'R3V            ', '1', '293.9', 'Canada '],\n",
       "   ['1990', '1/15/1999', 'R3V            ', '1', '257.2', 'Canada '],\n",
       "   ['1066', '2/15/1999', 'R3V            ', '1', '296.6', 'Canada '],\n",
       "   ['1426', '1/15/1999', 'M5R            ', '1', '286', 'Canada '],\n",
       "   ['2064', '2/15/1999', 'M5R            ', '1', '488.2', 'Canada '],\n",
       "   ['796', '3/15/1999', 'M5R            ', '1', '275.6', 'Canada '],\n",
       "   ['1894', '1/15/1999', 'M6G            ', '1', '682.2', 'Canada '],\n",
       "   ['2234', '1/15/1999', 'M6G            ', '1', '65.6', 'Canada '],\n",
       "   ['599', '2/15/1999', 'M6G            ', '1', '753.6', 'Canada '],\n",
       "   ['475', '1/15/1999', 'M6G            ', '1', '970.2', 'Canada '],\n",
       "   ['550', '3/15/1999', 'M6G            ', '1', '404', 'Canada '],\n",
       "   ['1974', '1/15/1999', 'R3S            ', '1', '52.4', 'Canada '],\n",
       "   ['2234', '1/15/1999', 'R3N            ', '1', '65.6', 'Canada '],\n",
       "   ['2254', '1/15/1999', 'R3N            ', '1', '57.7', 'Canada '],\n",
       "   ['990', '2/15/1999', 'R3N            ', '1', '472.4', 'Canada '],\n",
       "   ['2234', '1/15/1999', 'L5P            ', '2', '131.1', 'Canada '],\n",
       "   ['1517', '1/15/1999', 'L5P            ', '1', '141.6', 'Canada '],\n",
       "   ['658', '5/31/2002', 'L5P            ', '1', '908', 'Canada '],\n",
       "   ['769', '2/15/1999', 'L5P            ', '1', '257.2', 'Canada '],\n",
       "   ['491', '1/15/1999', 'L5P            ', '1', '815.3', 'Canada '],\n",
       "   ['979', '5/31/2002', 'L5P            ', '1', '393.7', 'Canada '],\n",
       "   ['770', '2/15/1999', 'L5P            ', '1', '257.2', 'Canada '],\n",
       "   ['901', '2/15/1999', 'L5P            ', '1', '409.4', 'Canada '],\n",
       "   ['491', '3/15/1999', 'L5P            ', '1', '815.3', 'Canada '],\n",
       "   ['2255', '1/15/1999', 'M6H            ', '2', '115.4', 'Canada '],\n",
       "   ['990', '4/9/2003', 'M6H            ', '1', '440.9', 'Canada '],\n",
       "   ['989', '2/15/1999', 'M6H            ', '1', '467.2', 'Canada '],\n",
       "   ['1975', '2/15/1999', 'M6H            ', '1', '52.4', 'Canada '],\n",
       "   ['2388', '3/15/1999', 'M6H            ', '1', '309.7', 'Canada '],\n",
       "   ['2254', '1/15/1999', 'M6H            ', '2', '115.4', 'Canada '],\n",
       "   ['93', '6/6/2002', 'M6H            ', '1', '1039.5', 'Canada '],\n",
       "   ['609', '3/15/1999', 'M6H            ', '1', '778.8', 'Canada '],\n",
       "   ['604', '1/15/1999', 'L5R            ', '1', '461.7', 'Canada '],\n",
       "   ['443', '6/4/2002', 'L5R            ', '1', '829', 'Canada '],\n",
       "   ['2012', '3/15/1999', 'L5R            ', '1', '377.9', 'Canada '],\n",
       "   ['992', '1/15/1999', 'L5R            ', '1', '288.7', 'Canada '],\n",
       "   ['2353', '5/31/2002', 'L5R            ', '1', '414.7', 'Canada '],\n",
       "   ['609', '1/15/1999', 'R3X            ', '1', '778.8', 'Canada '],\n",
       "   ['767', '1/15/1999', 'R3X            ', '1', '104.9', 'Canada '],\n",
       "   ['2331', '2/15/1999', 'R3X            ', '1', '535.4', 'Canada '],\n",
       "   ['2055', '5/31/2002', 'R3X            ', '1', '569.6', 'Canada '],\n",
       "   ['2331', '5/31/2002', 'R3X            ', '1', '540.7', 'Canada '],\n",
       "   ['768', '1/15/1999', 'R3X            ', '1', '104.9', 'Canada '],\n",
       "   ['823', '2/15/1999', 'R3X            ', '1', '619.4', 'Canada '],\n",
       "   ['631', '1/15/1999', 'M7Y            ', '1', '346.2', 'Canada '],\n",
       "   ['1014', '1/15/1999', 'M7Y            ', '1', '86.6', 'Canada '],\n",
       "   ['195', '1/15/1999', 'M7Y            ', '1', '750.2', 'Canada '],\n",
       "   ['726', '2/15/1999', 'M7Y            ', '1', '115.4', 'Canada '],\n",
       "   ['550', '2/15/1999', 'M7Y            ', '1', '404', 'Canada '],\n",
       "   ['936', '3/15/1999', 'M7Y            ', '1', '498.7', 'Canada '],\n",
       "   ['901', '2/15/1999', 'M7Y            ', '1', '409.4', 'Canada '],\n",
       "   ['2016', '2/15/1999', 'M7Y            ', '1', '299.2', 'Canada '],\n",
       "   ['740', '1/15/1999', 'M4V            ', '1', '170.6', 'Canada '],\n",
       "   ['1229', '1/15/1999', 'M4V            ', '1', '236.2', 'Canada '],\n",
       "   ['838', '1/15/1999', 'M4V            ', '1', '944.9', 'Canada '],\n",
       "   ['2255', '2/15/1999', 'M4V            ', '1', '57.7', 'Canada '],\n",
       "   ['753', '1/15/1999', 'R3H            ', '1', '244.1', 'Canada '],\n",
       "   ['762', '4/10/2003', 'R3H            ', '1', '173.2', 'Canada '],\n",
       "   ['727', '1/15/1999', 'R3H            ', '1', '68.2', 'Canada '],\n",
       "   ['725', '2/15/1999', 'R3H            ', '1', '115.4', 'Canada '],\n",
       "   ['1329', '2/15/1999', 'R3H            ', '1', '92.8', 'Canada '],\n",
       "   ['1960', '3/15/1999', 'R3H            ', '1', '97.1', 'Canada '],\n",
       "   ['1066', '3/15/1999', 'R3H            ', '1', '296.6', 'Canada '],\n",
       "   ['1975', '3/15/1999', 'R3H            ', '1', '52.4', 'Canada '],\n",
       "   ['604', '1/15/1999', 'R3H            ', '1', '461.7', 'Canada '],\n",
       "   ['1086', '6/5/2002', 'R3H            ', '1', '84', 'Canada '],\n",
       "   ['467', '6/5/2002', 'R3H            ', '1', '900.6', 'Canada '],\n",
       "   ['1085', '6/5/2002', 'R3H            ', '1', '84', 'Canada '],\n",
       "   ['2407', '2/15/1999', 'R3H            ', '1', '73.4', 'Canada '],\n",
       "   ['726', '2/15/1999', 'R3H            ', '1', '115.4', 'Canada '],\n",
       "   ['1330', '2/15/1999', 'R3H            ', '1', '92.8', 'Canada '],\n",
       "   ['599', '3/15/1999', 'R3H            ', '1', '753.6', 'Canada '],\n",
       "   ['758', '1/15/1999', 'K1N            ', '1', '83.9', 'Canada '],\n",
       "   ['757', '1/15/1999', 'K1N            ', '1', '83.9', 'Canada '],\n",
       "   ['2255', '2/15/1999', 'K1N            ', '1', '57.7', 'Canada '],\n",
       "   ['599', '1/15/1999', 'K1N            ', '1', '753.6', 'Canada '],\n",
       "   ['2254', '2/15/1999', 'K1N            ', '1', '57.7', 'Canada '],\n",
       "   ['767', '1/15/1999', 'R3W            ', '1', '104.9', 'Canada '],\n",
       "   ['768', '1/15/1999', 'R3W            ', '1', '104.9', 'Canada '],\n",
       "   ['726', '5/31/2002', 'R3W            ', '1', '120.7', 'Canada '],\n",
       "   ['914', '2/15/1999', 'R3W            ', '1', '577.4', 'Canada '],\n",
       "   ['1111', '1/15/1999', 'M5X            ', '1', '116.5', 'Canada '],\n",
       "   ['2388', '3/15/1999', 'M5X            ', '1', '309.7', 'Canada '],\n",
       "   ['1926', '5/31/2002', 'M5X            ', '1', '99.7', 'Canada '],\n",
       "   ['2234', '1/15/1999', 'M5X            ', '1', '65.6', 'Canada '],\n",
       "   ['681', '1/15/1999', 'M5X            ', '1', '629.7', 'Canada '],\n",
       "   ['1894', '1/15/1999', 'L5N            ', '1', '682.2', 'Canada '],\n",
       "   ['910', '5/31/2002', 'L5N            ', '1', '430.4', 'Canada '],\n",
       "   ['2234', '1/15/1999', 'L5N            ', '1', '65.6', 'Canada '],\n",
       "   ['769', '2/15/1999', 'L5N            ', '1', '257.2', 'Canada '],\n",
       "   ['1225', '2/15/1999', 'L5N            ', '1', '236.2', 'Canada '],\n",
       "   ['2050', '3/15/1999', 'L5N            ', '1', '498.7', 'Canada '],\n",
       "   ['2056', '3/15/1999', 'L5N            ', '1', '325.4', 'Canada '],\n",
       "   ['2277', '3/15/1999', 'L5N            ', '2', '503.9', 'Canada '],\n",
       "   ['976', '5/31/2002', 'L5N            ', '1', '314.9', 'Canada '],\n",
       "   ['726', '5/31/2002', 'L5N            ', '1', '120.7', 'Canada '],\n",
       "   ['964', '5/31/2002', 'L5N            ', '1', '320.2', 'Canada '],\n",
       "   ['2359', '6/6/2002', 'L5N            ', '1', '430.4', 'Canada '],\n",
       "   ['1188', '6/7/2002', 'L5N            ', '1', '461.9', 'Canada '],\n",
       "   ['767', '2/15/1999', 'L5N            ', '2', '209.9', 'Canada '],\n",
       "   ['1185', '2/15/1999', 'L5N            ', '1', '419.9', 'Canada '],\n",
       "   ['2373', '3/15/1999', 'L5N            ', '1', '551.2', 'Canada '],\n",
       "   ['1949', '1/15/1999', 'K1R            ', '1', '296.6', 'Canada '],\n",
       "   ['1948', '1/15/1999', 'K1R            ', '1', '296.6', 'Canada '],\n",
       "   ['491', '3/15/1999', 'K1R            ', '1', '815.3', 'Canada '],\n",
       "   ['1450', '1/15/1999', 'K1R            ', '1', '118', 'Canada '],\n",
       "   ['964', '5/31/2002', 'K1R            ', '1', '330.7', 'Canada '],\n",
       "   ['491', '1/15/1999', 'K1R            ', '1', '815.3', 'Canada '],\n",
       "   ['2235', '1/15/1999', 'L4Y            ', '1', '65.6', 'Canada '],\n",
       "   ['606', '1/15/1999', 'M5L            ', '1', '314.7', 'Canada '],\n",
       "   ['1927', '5/31/2002', 'M5L            ', '1', '99.7', 'Canada '],\n",
       "   ['2005', '6/3/2002', 'M5L            ', '1', '307.1', 'Canada '],\n",
       "   ['1974', '5/31/2002', 'M5L            ', '1', '57.7', 'Canada '],\n",
       "   ['1926', '5/31/2002', 'M5L            ', '1', '99.7', 'Canada '],\n",
       "   ['396', '1/15/1999', 'M5L            ', '2', '1714.1', 'Canada '],\n",
       "   ['574', '5/31/2002', 'M4E            ', '1', '869.1', 'Canada '],\n",
       "   ['609', '5/31/2002', 'M4E            ', '1', '829.2', 'Canada '],\n",
       "   ['2056', '6/5/2002', 'M4E            ', '1', '330.7', 'Canada '],\n",
       "   ['604', '3/15/1999', 'M4E            ', '2', '923.5', 'Canada '],\n",
       "   ['990', '3/15/1999', 'M4E            ', '1', '503.9', 'Canada '],\n",
       "   ['2056', '2/15/1999', 'M4E            ', '1', '325.4', 'Canada '],\n",
       "   ['901', '3/15/1999', 'M4E            ', '1', '409.4', 'Canada '],\n",
       "   ['2374', '5/31/2002', 'M4N            ', '1', '661.4', 'Canada '],\n",
       "   ['2054', '5/31/2002', 'M4N            ', '2', '1091.9', 'Canada '],\n",
       "   ['1173', '1/15/1999', 'L5G            ', '1', '524.9', 'Canada '],\n",
       "   ['962', '2/15/1999', 'L5G            ', '1', '524.9', 'Canada '],\n",
       "   ['609', '2/15/1999', 'L5G            ', '1', '778.8', 'Canada '],\n",
       "   ['1203', '6/5/2002', 'R2Y            ', '1', '320.2', 'Canada '],\n",
       "   ['2277', '2/15/1999', 'M6S            ', '1', '251.9', 'Canada '],\n",
       "   ['1449', '1/15/1999', 'M6S            ', '1', '118', 'Canada '],\n",
       "   ['2279', '2/15/1999', 'R3E            ', '1', '165.3', 'Canada '],\n",
       "   ['1330', '2/15/1999', 'R3E            ', '1', '92.8', 'Canada '],\n",
       "   ['681', '3/15/1999', 'R3E            ', '1', '629.7', 'Canada '],\n",
       "   ['768', '3/15/1999', 'R3E            ', '1', '104.9', 'Canada '],\n",
       "   ['753', '2/15/1999', 'R3E            ', '1', '244.1', 'Canada '],\n",
       "   ['475', '3/15/1999', 'R3E            ', '1', '970.2', 'Canada '],\n",
       "   ['599', '3/15/1999', 'R3E            ', '1', '753.6', 'Canada '],\n",
       "   ['1003', '2/15/1999', 'K1A            ', '1', '86.6', 'Canada '],\n",
       "   ['400', '2/15/1999', 'K1A            ', '1', '683.8', 'Canada '],\n",
       "   ['2045', '2/15/1999', 'K1P            ', '1', '409.4', 'Canada '],\n",
       "   ['2255', '3/15/1999', 'K1P            ', '1', '57.7', 'Canada '],\n",
       "   ['2284', '2/15/1999', 'K1Y            ', '1', '293.9', 'Canada '],\n",
       "   ['491', '1/15/1999', 'K1Y            ', '1', '815.3', 'Canada '],\n",
       "   ['2277', '2/15/1999', 'K1Y            ', '1', '251.9', 'Canada '],\n",
       "   ['2388', '2/15/1999', 'K1K            ', '1', '309.7', 'Canada '],\n",
       "   ['559', '2/15/1999', 'K1K            ', '1', '585.6', 'Canada '],\n",
       "   ['2407', '2/15/1999', 'R3B            ', '1', '73.4', 'Canada '],\n",
       "   ['1975', '3/15/1999', 'R3B            ', '1', '52.4', 'Canada '],\n",
       "   ['683', '1/15/1999', 'R3B            ', '1', '788', 'Canada '],\n",
       "   ['990', '2/15/1999', 'M4R            ', '1', '482.9', 'Canada '],\n",
       "   ['910', '5/31/2002', 'M4R            ', '1', '430.4', 'Canada '],\n",
       "   ['580', '2/15/1999', 'M4M            ', '1', '734.7', 'Canada '],\n",
       "   ['1957', '3/15/1999', 'R3M            ', '1', '153.8', 'Canada '],\n",
       "   ['981', '3/15/1999', 'R3M            ', '1', '167.9', 'Canada '],\n",
       "   ['992', '5/31/2002', 'R3M            ', '1', '278.2', 'Canada '],\n",
       "   ['797', '1/15/1999', 'R3M            ', '1', '301.8', 'Canada '],\n",
       "   ['488', '3/15/1999', 'M4S            ', '1', '970.2', 'Canada '],\n",
       "   ['964', '5/31/2002', 'M4S            ', '1', '330.7', 'Canada '],\n",
       "   ['989', '3/15/1999', 'L4V            ', '1', '451.4', 'Canada '],\n",
       "   ['1166', '3/15/1999', 'L5T            ', '1', '535.4', 'Canada '],\n",
       "   ['599', '1/15/1999', 'L5T            ', '1', '753.6', 'Canada '],\n",
       "   ['580', '3/15/1999', 'L5T            ', '1', '734.7', 'Canada '],\n",
       "   ['1173', '2/15/1999', 'R2V            ', '1', '524.9', 'Canada '],\n",
       "   ['2388', '6/5/2002', 'R2W            ', '1', '309.7', 'Canada '],\n",
       "   ['901', '3/15/1999', 'R2W            ', '1', '409.4', 'Canada '],\n",
       "   ['2047', '2/15/1999', 'R3C            ', '1', '377.9', 'Canada '],\n",
       "   ['768', '1/15/1999', 'M5A            ', '1', '104.9', 'Canada '],\n",
       "   ['1046', '1/15/1999', 'L5J            ', '1', '99.7', 'Canada '],\n",
       "   ['1110', '1/15/1999', 'R3R            ', '1', '209.9', 'Canada '],\n",
       "   ['964', '5/31/2002', 'R3L            ', '1', '335.9', 'Canada '],\n",
       "   ['1003', '2/15/1999', 'K1H            ', '3', '259.7', 'Canada '],\n",
       "   ['1065', '2/15/1999', 'K2P            ', '1', '296.6', 'Canada '],\n",
       "   ['400', '6/5/2002', 'L5H            ', '1', '734.7', 'Canada '],\n",
       "   ['1425', '6/6/2002', 'M4P            ', '1', '304.4', 'Canada '],\n",
       "   ['1426', '6/6/2002', 'M4P            ', '1', '304.4', 'Canada '],\n",
       "   ['645', '3/15/1999', 'H1G            ', '1', '746.5', 'Canada '],\n",
       "   ['739', '3/15/1999', 'H2Z            ', '1', '170.6', 'Canada '],\n",
       "   ['921', '3/15/1999', 'K1H            ', '1', '524.9', 'Canada '],\n",
       "   ['921', '3/15/1999', 'M7Y            ', '1', '524.9', 'Canada '],\n",
       "   ['922', '3/15/1999', 'K1A            ', '1', '472.4', 'Canada '],\n",
       "   ['964', '3/15/1999', 'R3V            ', '1', '356.9', 'Canada '],\n",
       "   ['992', '3/15/1999', 'M4Y            ', '1', '288.7', 'Canada '],\n",
       "   ['1014', '3/15/1999', 'M5X            ', '1', '86.6', 'Canada '],\n",
       "   ['1045', '3/15/1999', 'L5N            ', '1', '207.3', 'Canada '],\n",
       "   ['1053', '3/15/1999', 'R3N            ', '1', '251.9', 'Canada '],\n",
       "   ['1109', '3/15/1999', 'R3V            ', '1', '209.9', 'Canada '],\n",
       "   ['1112', '3/15/1999', 'R3H            ', '1', '116.5', 'Canada '],\n",
       "   ['1188', '3/15/1999', 'M7Y            ', '1', '472.4', 'Canada '],\n",
       "   ['1948', '3/15/1999', 'M4E            ', '1', '296.6', 'Canada '],\n",
       "   ['645', '1/15/1999', 'T6T            ', '2', '1493.1', 'Canada '],\n",
       "   ['725', '1/15/1999', 'V6Z            ', '2', '230.9', 'Canada '],\n",
       "   ['727', '1/15/1999', 'T3C            ', '1', '62.9', 'Canada '],\n",
       "   ['757', '1/15/1999', 'V6M            ', '1', '83.9', 'Canada '],\n",
       "   ['757', '1/15/1999', 'V6Z            ', '1', '83.9', 'Canada '],\n",
       "   ['758', '1/15/1999', 'V7Y            ', '1', '83.9', 'Canada '],\n",
       "   ['767', '1/15/1999', 'R2G            ', '1', '104.9', 'Canada '],\n",
       "   ['768', '1/15/1999', 'T5V            ', '1', '104.9', 'Canada '],\n",
       "   ['768', '1/15/1999', 'T6V            ', '1', '104.9', 'Canada '],\n",
       "   ['838', '1/15/1999', 'T6E            ', '1', '929.2', 'Canada '],\n",
       "   ['1112', '1/15/1999', 'V5W            ', '1', '116.5', 'Canada '],\n",
       "   ['2045', '1/15/1999', 'T2P            ', '1', '409.4', 'Canada '],\n",
       "   ['2056', '1/15/1999', 'V7Y            ', '1', '325.4', 'Canada '],\n",
       "   ['2254', '1/15/1999', 'V5Y            ', '1', '57.7', 'Canada '],\n",
       "   ['2254', '1/15/1999', 'V6E            ', '1', '57.7', 'Canada '],\n",
       "   ['2282', '1/15/1999', 'V5Z            ', '1', '304.4', 'Canada '],\n",
       "   ['491', '1/15/1999', 'V5W            ', '1', '815.3', 'Canada '],\n",
       "   ['491', '1/15/1999', 'V5Z            ', '1', '815.3', 'Canada '],\n",
       "   ['573', '1/15/1999', 'V7P            ', '1', '280.6', 'Canada '],\n",
       "   ['1111', '5/31/2002', 'V6T            ', '1', '120.7', 'Canada '],\n",
       "   ['2070', '5/31/2002', 'T5E            ', '1', '524.9', 'Canada '],\n",
       "   ['2081', '5/31/2002', 'T5H            ', '1', '225.7', 'Canada '],\n",
       "   ['606', '5/31/2002', 'V5M            ', '1', '323.1', 'Canada '],\n",
       "   ['676', '5/31/2002', 'T6E            ', '1', '837.4', 'Canada '],\n",
       "   ['725', '5/31/2002', 'T2C            ', '1', '120.7', 'Canada '],\n",
       "   ['837', '5/31/2002', 'T2J            ', '1', '813.7', 'Canada '],\n",
       "   ['1062', '5/31/2002', 'T6J            ', '1', '149.6', 'Canada '],\n",
       "   ['2252', '5/31/2002', 'T6R            ', '2', '272.9', 'Canada '],\n",
       "   ['2359', '5/31/2002', 'T6V            ', '1', '430.4', 'Canada '],\n",
       "   ['596', '5/31/2002', 'R2G            ', '1', '792', 'Canada '],\n",
       "   ['915', '5/31/2002', 'T5K            ', '1', '556.4', 'Canada '],\n",
       "   ['2005', '5/31/2002', 'V6J            ', '1', '307.1', 'Canada '],\n",
       "   ['2380', '5/31/2002', 'T6J            ', '1', '293.9', 'Canada '],\n",
       "   ['609', '1/15/1999', 'T2Y            ', '1', '778.8', 'Canada '],\n",
       "   ['683', '1/15/1999', 'V6C            ', '1', '788', 'Canada '],\n",
       "   ['714', '1/15/1999', 'V6T            ', '1', '160.1', 'Canada '],\n",
       "   ['725', '1/15/1999', 'T5V            ', '1', '115.4', 'Canada '],\n",
       "   ['767', '1/15/1999', 'T5K            ', '1', '104.9', 'Canada '],\n",
       "   ['768', '1/15/1999', 'V6Z            ', '1', '104.9', 'Canada '],\n",
       "   ['770', '1/15/1999', 'V6H            ', '1', '257.2', 'Canada '],\n",
       "   ['1065', '1/15/1999', 'T2T            ', '1', '296.6', 'Canada '],\n",
       "   ['2235', '1/15/1999', 'T5K            ', '1', '65.6', 'Canada '],\n",
       "   ['2255', '1/15/1999', 'V6M            ', '1', '57.7', 'Canada '],\n",
       "   ['396', '1/15/1999', 'T6T            ', '1', '857.1', 'Canada '],\n",
       "   ['396', '1/15/1999', 'V6T            ', '1', '857.1', 'Canada '],\n",
       "   ['604', '1/15/1999', 'V6H            ', '1', '461.7', 'Canada '],\n",
       "   ['676', '1/15/1999', 'T6E            ', '1', '801.9', 'Canada '],\n",
       "   ['683', '2/15/1999', 'R2N            ', '1', '788', 'Canada '],\n",
       "   ['726', '2/15/1999', 'V5Z            ', '1', '115.4', 'Canada '],\n",
       "   ['740', '2/15/1999', 'V6T            ', '1', '170.6', 'Canada '],\n",
       "   ['768', '2/15/1999', 'V6M            ', '1', '104.9', 'Canada '],\n",
       "   ['990', '2/15/1999', 'T2Z            ', '1', '456.7', 'Canada '],\n",
       "   ['1985', '6/5/2002', 'T6T            ', '1', '160.1', 'Canada '],\n",
       "   ['2045', '6/5/2002', 'T2X            ', '1', '419.9', 'Canada '],\n",
       "   ['2255', '6/5/2002', 'V6G            ', '1', '60.3', 'Canada '],\n",
       "   ['596', '6/5/2002', 'V5V            ', '1', '776.7', 'Canada '],\n",
       "   ['2254', '6/5/2002', 'V6G            ', '1', '60.3', 'Canada '],\n",
       "   ['573', '6/6/2002', 'R2G            ', '1', '299', 'Canada '],\n",
       "   ['676', '6/6/2002', 'T6T            ', '1', '852.6', 'Canada '],\n",
       "   ['740', '6/6/2002', 'T2Z            ', '1', '173.2', 'Canada '],\n",
       "   ['596', '6/6/2002', 'T6E            ', '1', '776.7', 'Canada '],\n",
       "   ['739', '6/6/2002', 'T2Z            ', '1', '173.2', 'Canada '],\n",
       "   ['2332', '6/6/2002', 'V6R            ', '1', '367.4', 'Canada '],\n",
       "   ['467', '6/7/2002', 'V6G            ', '1', '900.6', 'Canada '],\n",
       "   ['574', '6/7/2002', 'T3B            ', '1', '869.1', 'Canada '],\n",
       "   ['990', '6/7/2002', 'T6E            ', '1', '430.4', 'Canada '],\n",
       "   ['1225', '2/15/1999', 'T6G            ', '1', '236.2', 'Canada '],\n",
       "   ['2050', '2/15/1999', 'T2J            ', '1', '498.7', 'Canada '],\n",
       "   ['2255', '2/15/1999', 'T5K            ', '1', '57.7', 'Canada '],\n",
       "   ['2331', '2/15/1999', 'V6C            ', '1', '535.4', 'Canada '],\n",
       "   ['120', '2/15/1999', 'T6R            ', '1', '829.5', 'Canada '],\n",
       "   ['499', '2/15/1999', 'T5W            ', '1', '828.2', 'Canada '],\n",
       "   ['580', '2/15/1999', 'V5N            ', '1', '734.7', 'Canada '],\n",
       "   ['604', '2/15/1999', 'V6H            ', '1', '461.7', 'Canada '],\n",
       "   ['609', '2/15/1999', 'T6E            ', '1', '778.8', 'Canada '],\n",
       "   ['725', '2/15/1999', 'V5N            ', '1', '115.4', 'Canada '],\n",
       "   ['754', '2/15/1999', 'V7N            ', '1', '244.1', 'Canada '],\n",
       "   ['757', '2/15/1999', 'T6E            ', '1', '83.9', 'Canada '],\n",
       "   ['770', '2/15/1999', 'T6J            ', '1', '257.2', 'Canada '],\n",
       "   ['940', '2/15/1999', 'T2C            ', '1', '687.7', 'Canada '],\n",
       "   ['979', '2/15/1999', 'V5W            ', '1', '409.4', 'Canada '],\n",
       "   ['992', '2/15/1999', 'V6G            ', '1', '278.2', 'Canada '],\n",
       "   ['1008', '2/15/1999', 'V5Z            ', '1', '236.2', 'Canada '],\n",
       "   ['1066', '2/15/1999', 'T1Y            ', '1', '296.6', 'Canada '],\n",
       "   ['1122', '2/15/1999', 'T3G            ', '1', '157.4', 'Canada '],\n",
       "   ['1185', '2/15/1999', 'T5K            ', '2', '839.9', 'Canada '],\n",
       "   ['1185', '2/15/1999', 'T6G            ', '1', '419.9', 'Canada '],\n",
       "   ['1188', '2/15/1999', 'T5K            ', '1', '472.4', 'Canada '],\n",
       "   ['1188', '2/15/1999', 'V7R            ', '1', '472.4', 'Canada '],\n",
       "   ['1426', '2/15/1999', 'V5Z            ', '1', '286', 'Canada '],\n",
       "   ['1974', '2/15/1999', 'T6T            ', '1', '52.4', 'Canada '],\n",
       "   ['2045', '2/15/1999', 'V6L            ', '1', '409.4', 'Canada '],\n",
       "   ['2050', '2/15/1999', 'T6K            ', '1', '498.7', 'Canada '],\n",
       "   ['2056', '2/15/1999', 'T6G            ', '1', '325.4', 'Canada '],\n",
       "   ['2373', '2/15/1999', 'T6J            ', '1', '551.2', 'Canada '],\n",
       "   ['2374', '2/15/1999', 'V7M            ', '1', '629.9', 'Canada '],\n",
       "   ['2388', '2/15/1999', 'T3G            ', '1', '309.7', 'Canada '],\n",
       "   ['1734', '3/8/1999', 'T1Y            ', '1', '449.9', 'Canada '],\n",
       "   ['1735', '3/8/1999', 'T1Y            ', '1', '449.9', 'Canada '],\n",
       "   ['396', '3/15/1999', 'V6C            ', '1', '857.1', 'Canada '],\n",
       "   ['550', '3/15/1999', 'V6H            ', '1', '404', 'Canada '],\n",
       "   ['596', '3/15/1999', 'V6T            ', '1', '746.5', 'Canada '],\n",
       "   ['604', '3/15/1999', 'T6E            ', '1', '461.7', 'Canada '],\n",
       "   ['606', '3/15/1999', 'T2A            ', '1', '314.7', 'Canada '],\n",
       "   ['631', '3/15/1999', 'V5W            ', '1', '346.2', 'Canada '],\n",
       "   ['663', '3/15/1999', 'T2J            ', '1', '765.5', 'Canada '],\n",
       "   ['1143', '6/12/2002', 'V6Z            ', '1', '551.2', 'Canada '],\n",
       "   ['93', '3/15/1999', 'V6A            ', '1', '992.2', 'Canada '],\n",
       "   ['396', '3/15/1999', 'V7M            ', '1', '857.1', 'Canada '],\n",
       "   ['475', '3/15/1999', 'V5N            ', '1', '970.2', 'Canada '],\n",
       "   ['488', '3/15/1999', 'T6J            ', '1', '970.2', 'Canada '],\n",
       "   ['491', '3/15/1999', 'V6C            ', '2', '1630.7', 'Canada '],\n",
       "   ['676', '3/15/1999', 'T6B            ', '1', '801.9', 'Canada '],\n",
       "   ['681', '3/15/1999', 'T6E            ', '1', '629.7', 'Canada '],\n",
       "   ['725', '3/15/1999', 'T6H            ', '1', '115.4', 'Canada '],\n",
       "   ['739', '3/15/1999', 'V5N            ', '1', '170.6', 'Canada '],\n",
       "   ['767', '3/15/1999', 'T2X            ', '1', '104.9', 'Canada '],\n",
       "   ['901', '3/15/1999', 'V6R            ', '1', '409.4', 'Canada '],\n",
       "   ['964', '3/15/1999', 'V5Z            ', '1', '346.4', 'Canada '],\n",
       "   ['1008', '3/15/1999', 'V6Z            ', '1', '236.2', 'Canada '],\n",
       "   ['1081', '3/15/1999', 'T3G            ', '1', '225.7', 'Canada '],\n",
       "   ['1105', '3/15/1999', 'T5V            ', '1', '246.7', 'Canada '],\n",
       "   ['1109', '3/15/1999', 'T2J            ', '1', '209.9', 'Canada '],\n",
       "   ['1166', '3/15/1999', 'T2C            ', '1', '535.4', 'Canada '],\n",
       "   ['1166', '3/15/1999', 'T5J            ', '1', '535.4', 'Canada '],\n",
       "   ['1168', '3/15/1999', 'V6Z            ', '1', '367.4', 'Canada '],\n",
       "   ['1173', '3/15/1999', 'T2J            ', '1', '524.9', 'Canada '],\n",
       "   ['2235', '1/15/1999', 'R3N            ', '1', '65.6', 'Canada '],\n",
       "   ['2235', '1/15/1999', 'M5X            ', '1', '65.6', 'Canada '],\n",
       "   ['522', '1/15/1999', 'M5L            ', '1', '624.8', 'Canada '],\n",
       "   ['726', '1/15/1999', 'K1R            ', '1', '115.4', 'Canada '],\n",
       "   ['728', '1/15/1999', 'K1Y            ', '2', '125.9', 'Canada '],\n",
       "   ['767', '1/15/1999', 'R3G            ', '1', '104.9', 'Canada '],\n",
       "   ['1449', '1/15/1999', 'K1R            ', '1', '118', 'Canada '],\n",
       "   ['1450', '1/15/1999', 'M6S            ', '1', '118', 'Canada '],\n",
       "   ['1894', '1/15/1999', 'K2P            ', '1', '682.2', 'Canada '],\n",
       "   ['1960', '1/15/1999', 'R3S            ', '1', '97.1', 'Canada '],\n",
       "   ['2234', '1/15/1999', 'L4Y            ', '1', '65.6', 'Canada '],\n",
       "   ['2234', '1/15/1999', 'H1B            ', '2', '131.1', 'Canada '],\n",
       "   ['2235', '1/15/1999', 'L5P            ', '2', '131.1', 'Canada '],\n",
       "   ['2255', '1/15/1999', 'R3N            ', '1', '57.7', 'Canada '],\n",
       "   ['2279', '1/15/1999', 'R3V            ', '1', '165.3', 'Canada '],\n",
       "   ['2388', '1/15/1999', 'H1G            ', '1', '309.7', 'Canada '],\n",
       "   ['396', '2/15/1999', 'M4V            ', '2', '1714.1', 'Canada '],\n",
       "   ['491', '2/15/1999', 'M4E            ', '1', '815.3', 'Canada '],\n",
       "   ['609', '2/15/1999', 'M4Y            ', '1', '778.8', 'Canada '],\n",
       "   ['631', '2/15/1999', 'R3B            ', '1', '346.2', 'Canada '],\n",
       "   ['676', '2/15/1999', 'R3G            ', '1', '801.9', 'Canada '],\n",
       "   ['683', '2/15/1999', 'R3H            ', '1', '788', 'Canada '],\n",
       "   ['683', '2/15/1999', 'K1R            ', '1', '788', 'Canada '],\n",
       "   ['725', '2/15/1999', 'M7Y            ', '1', '115.4', 'Canada '],\n",
       "   ['747', '2/15/1999', 'L5N            ', '1', '291.3', 'Canada '],\n",
       "   ['767', '2/15/1999', 'R3H            ', '1', '104.9', 'Canada '],\n",
       "   ['770', '2/15/1999', 'L5N            ', '1', '257.2', 'Canada '],\n",
       "   ['853', '2/15/1999', 'M4Y            ', '1', '456.7', 'Canada '],\n",
       "   ['901', '2/15/1999', 'R3B            ', '1', '409.4', 'Canada '],\n",
       "   ['910', '2/15/1999', 'R2Y            ', '1', '414.7', 'Canada '],\n",
       "   ['1014', '2/15/1999', 'R3C            ', '1', '86.6', 'Canada '],\n",
       "   ['1111', '2/15/1999', 'R3T            ', '1', '116.5', 'Canada '],\n",
       "   ['1133', '2/15/1999', 'R3M            ', '1', '629.9', 'Canada '],\n",
       "   ['1166', '2/15/1999', 'R3W            ', '1', '535.4', 'Canada '],\n",
       "   ['1173', '2/15/1999', 'R3V            ', '1', '524.9', 'Canada '],\n",
       "   ['1230', '2/15/1999', 'M4E            ', '1', '524.9', 'Canada '],\n",
       "   ['1920', '2/15/1999', 'L5N            ', '1', '280.8', 'Canada '],\n",
       "   ['2045', '2/15/1999', 'L5N            ', '1', '409.4', 'Canada '],\n",
       "   ['2074', '2/15/1999', 'M4V            ', '1', '328.1', 'Canada '],\n",
       "   ['2081', '2/15/1999', 'M7Y            ', '1', '220.4', 'Canada '],\n",
       "   ['2254', '2/15/1999', 'R3B            ', '1', '57.7', 'Canada '],\n",
       "   ['2254', '2/15/1999', 'M4V            ', '1', '57.7', 'Canada '],\n",
       "   ['94', '2/15/1999', 'R3H            ', '1', '866.2', 'Canada '],\n",
       "   ['475', '2/15/1999', 'M5L            ', '1', '970.2', 'Canada '],\n",
       "   ['550', '2/15/1999', 'R3W            ', '1', '404', 'Canada '],\n",
       "   ['604', '2/15/1999', 'R3G            ', '2', '923.5', 'Canada '],\n",
       "   ['1094', '4/10/2003', 'R3V            ', '1', '57.7', 'Canada '],\n",
       "   ['786', '4/10/2003', 'H1G            ', '1', '57.7', 'Canada '],\n",
       "   ['551', '4/10/2003', 'L5N            ', '1', '922.2', 'Canada '],\n",
       "   ['1093', '4/10/2003', 'R3V            ', '1', '57.7', 'Canada '],\n",
       "   ['761', '4/10/2003', 'R3H            ', '1', '173.2', 'Canada '],\n",
       "   ['785', '4/10/2003', 'H1G            ', '1', '57.7', 'Canada '],\n",
       "   ['785', '5/31/2002', 'H1B            ', '1', '68.2', 'Canada '],\n",
       "   ['786', '5/31/2002', 'L5T            ', '1', '68.2', 'Canada '],\n",
       "   ['964', '5/31/2002', 'M6H            ', '1', '335.9', 'Canada '],\n",
       "   ['1143', '5/31/2002', 'M4S            ', '1', '551.2', 'Canada '],\n",
       "   ['962', '3/15/1999', 'M4Y            ', '1', '524.9', 'Canada '],\n",
       "   ['989', '3/15/1999', 'M5X            ', '1', '451.4', 'Canada '],\n",
       "   ['1003', '3/15/1999', 'K1G            ', '2', '173.1', 'Canada '],\n",
       "   ['1082', '3/15/1999', 'R3V            ', '1', '225.7', 'Canada '],\n",
       "   ['1949', '3/15/1999', 'M4E            ', '1', '296.6', 'Canada '],\n",
       "   ['2331', '4/11/2003', 'M7Y            ', '1', '540.7', 'Canada '],\n",
       "   ['2055', '4/11/2003', 'M5R            ', '1', '569.6', 'Canada '],\n",
       "   ['2332', '4/11/2003', 'M5X            ', '1', '419.9', 'Canada '],\n",
       "   ['914', '4/11/2003', 'R3N            ', '1', '577.4', 'Canada '],\n",
       "   ['681', '4/12/2003', 'M4E            ', '1', '715.8', 'Canada '],\n",
       "   ['767', '4/12/2003', 'R3H            ', '1', '94.4', 'Canada '],\n",
       "   ['785', '4/12/2003', 'R3H            ', '1', '57.7', 'Canada '],\n",
       "   ['976', '4/12/2003', 'H1B            ', '1', '325.4', 'Canada '],\n",
       "   ['786', '4/12/2003', 'R3H            ', '1', '57.7', 'Canada '],\n",
       "   ['964', '4/12/2003', 'R3B            ', '1', '330.7', 'Canada '],\n",
       "   ['768', '4/12/2003', 'R3H            ', '1', '94.4', 'Canada '],\n",
       "   ['609', '4/14/2003', 'M7Y            ', '1', '850.2', 'Canada '],\n",
       "   ['2016', '3/15/1999', 'L5N            ', '1', '299.2', 'Canada '],\n",
       "   ['2235', '3/15/1999', 'M6H            ', '1', '65.6', 'Canada '],\n",
       "   ['2254', '3/15/1999', 'K1P            ', '1', '57.7', 'Canada '],\n",
       "   ['2388', '3/15/1999', 'K1S            ', '1', '309.7', 'Canada '],\n",
       "   ['330', '3/15/1999', 'M7Y            ', '1', '577.2', 'Canada '],\n",
       "   ['396', '3/15/1999', 'L5N            ', '1', '857.1', 'Canada '],\n",
       "   ['400', '3/15/1999', 'R3K            ', '1', '683.8', 'Canada '],\n",
       "   ['443', '3/15/1999', 'R3S            ', '1', '790.9', 'Canada '],\n",
       "   ['604', '3/15/1999', 'R3G            ', '1', '461.7', 'Canada '],\n",
       "   ['609', '3/15/1999', 'M4V            ', '1', '778.8', 'Canada '],\n",
       "   ['609', '3/15/1999', 'M5L            ', '1', '778.8', 'Canada '],\n",
       "   ['631', '3/15/1999', 'M5P            ', '1', '346.2', 'Canada '],\n",
       "   ['901', '3/15/1999', 'M5B            ', '1', '409.4', 'Canada '],\n",
       "   ['910', '3/15/1999', 'L5N            ', '1', '414.7', 'Canada '],\n",
       "   ['914', '3/15/1999', 'M4V            ', '1', '603.7', 'Canada '],\n",
       "   ['2252', '6/10/2003', 'R3B            ', '1', '136.4', 'Canada '],\n",
       "   ['1894', '6/10/2003', 'R3G            ', '1', '750.7', 'Canada '],\n",
       "   ['906', '6/10/2003', 'M4E            ', '1', '419.9', 'Canada '],\n",
       "   ['1065', '3/15/1999', 'R3H            ', '1', '296.6', 'Canada '],\n",
       "   ['1066', '3/15/1999', 'R3E            ', '1', '296.6', 'Canada '],\n",
       "   ['1066', '3/15/1999', 'M5X            ', '1', '296.6', 'Canada '],\n",
       "   ['1166', '3/15/1999', 'H1B            ', '1', '535.4', 'Canada '],\n",
       "   ['1168', '3/15/1999', 'K1H            ', '1', '367.4', 'Canada '],\n",
       "   ['1168', '3/15/1999', 'M7Y            ', '1', '383.2', 'Canada '],\n",
       "   ['1185', '3/15/1999', 'K1N            ', '1', '419.9', 'Canada '],\n",
       "   ['1920', '3/15/1999', 'R3M            ', '1', '280.8', 'Canada '],\n",
       "   ['1974', '3/15/1999', 'R3B            ', '1', '52.4', 'Canada '],\n",
       "   ['1974', '3/15/1999', 'R3H            ', '1', '52.4', 'Canada '],\n",
       "   ['2032', '3/15/1999', 'L5N            ', '2', '446.1', 'Canada '],\n",
       "   ['2056', '3/15/1999', 'R3V            ', '1', '325.4', 'Canada '],\n",
       "   ['2056', '3/15/1999', 'K1N            ', '1', '320.2', 'Canada '],\n",
       "   ['2056', '3/15/1999', 'M4N            ', '1', '325.4', 'Canada '],\n",
       "   ['2091', '3/15/1999', 'R3V            ', '1', '152.2', 'Canada '],\n",
       "   ['2234', '3/15/1999', 'M4V            ', '1', '65.6', 'Canada '],\n",
       "   ['2235', '3/15/1999', 'K1P            ', '2', '131.1', 'Canada '],\n",
       "   ['2277', '3/15/1999', 'R3E            ', '1', '251.9', 'Canada '],\n",
       "   ['370', '3/15/1999', 'K1K            ', '1', '540.5', 'Canada '],\n",
       "   ['400', '3/15/1999', 'K2P            ', '1', '683.8', 'Canada '],\n",
       "   ['573', '3/15/1999', 'M4E            ', '1', '280.6', 'Canada '],\n",
       "   ['837', '3/15/1999', 'R3G            ', '1', '839.9', 'Canada '],\n",
       "   ['901', '3/15/1999', 'H1B            ', '1', '409.4', 'Canada '],\n",
       "   ['952', '3/15/1999', 'M6P            ', '1', '262.4', 'Canada '],\n",
       "   ['981', '3/15/1999', 'M5V            ', '1', '157.4', 'Canada '],\n",
       "   ['1014', '3/15/1999', 'R3G            ', '1', '86.6', 'Canada '],\n",
       "   ['1960', '3/15/1999', 'M4E            ', '1', '97.1', 'Canada '],\n",
       "   ['1927', '5/31/2002', 'M5X            ', '1', '99.7', 'Canada '],\n",
       "   ['2046', '5/31/2002', 'M6H            ', '1', '433.1', 'Canada '],\n",
       "   ['2074', '5/31/2002', 'M5P            ', '1', '335.9', 'Canada '],\n",
       "   ['609', '2/15/1999', 'L5T            ', '1', '778.8', 'Canada '],\n",
       "   ['609', '2/15/1999', 'M6G            ', '1', '778.8', 'Canada '],\n",
       "   ['631', '2/15/1999', 'L5N            ', '1', '346.2', 'Canada '],\n",
       "   ['754', '2/15/1999', 'R3E            ', '1', '244.1', 'Canada '],\n",
       "   ['990', '2/15/1999', 'K1S            ', '1', '482.9', 'Canada '],\n",
       "   ['1230', '2/15/1999', 'M4R            ', '1', '524.9', 'Canada '],\n",
       "   ['1329', '2/15/1999', 'R3E            ', '1', '92.8', 'Canada '],\n",
       "   ['1957', '2/15/1999', 'R3G            ', '2', '307.5', 'Canada '],\n",
       "   ['2056', '2/15/1999', 'L4X            ', '1', '320.2', 'Canada '],\n",
       "   ['2056', '2/15/1999', 'L5R            ', '1', '325.4', 'Canada '],\n",
       "   ['2074', '2/15/1999', 'M5P            ', '1', '328.1', 'Canada '],\n",
       "   ['2199', '2/15/1999', 'R3H            ', '1', '178.4', 'Canada '],\n",
       "   ['2234', '2/15/1999', 'R3B            ', '1', '65.6', 'Canada '],\n",
       "   ['2331', '2/15/1999', 'R2W            ', '1', '535.4', 'Canada '],\n",
       "   ['396', '2/15/1999', 'M4T            ', '1', '857.1', 'Canada '],\n",
       "   ['400', '2/15/1999', 'K1N            ', '1', '683.8', 'Canada '],\n",
       "   ['491', '2/15/1999', 'R3G            ', '1', '815.3', 'Canada '],\n",
       "   ['609', '2/15/1999', 'L4X            ', '1', '778.8', 'Canada '],\n",
       "   ['609', '2/15/1999', 'M4E            ', '1', '778.8', 'Canada '],\n",
       "   ['676', '2/15/1999', 'M5X            ', '1', '801.9', 'Canada '],\n",
       "   ['768', '2/15/1999', 'R3H            ', '1', '104.9', 'Canada '],\n",
       "   ['768', '2/15/1999', 'L5N            ', '2', '209.9', 'Canada '],\n",
       "   ['1046', '2/15/1999', 'M6S            ', '1', '99.7', 'Canada '],\n",
       "   ['1065', '2/15/1999', 'R3V            ', '1', '296.6', 'Canada '],\n",
       "   ['1066', '2/15/1999', 'K2P            ', '1', '296.6', 'Canada '],\n",
       "   ['1120', '2/15/1999', 'R3V            ', '1', '173.2', 'Canada '],\n",
       "   ['1173', '2/15/1999', 'M7Y            ', '1', '524.9', 'Canada '],\n",
       "   ['1974', '2/15/1999', 'M6H            ', '1', '52.4', 'Canada '],\n",
       "   ['2047', '2/15/1999', 'R3A            ', '1', '377.9', 'Canada '],\n",
       "   ['2255', '2/15/1999', 'R3B            ', '1', '57.7', 'Canada '],\n",
       "   ['2373', '2/15/1999', 'K1K            ', '1', '551.2', 'Canada '],\n",
       "   ['396', '2/15/1999', 'M4R            ', '1', '857.1', 'Canada '],\n",
       "   ['475', '2/15/1999', 'R3H            ', '1', '970.2', 'Canada '],\n",
       "   ['559', '2/15/1999', 'R3H            ', '1', '585.6', 'Canada '],\n",
       "   ['599', '2/15/1999', 'M6H            ', '1', '753.6', 'Canada '],\n",
       "   ['748', '2/15/1999', 'L5N            ', '1', '291.3', 'Canada '],\n",
       "   ['990', '2/15/1999', 'R2R            ', '1', '530.2', 'Canada '],\n",
       "   ['1191', '2/15/1999', 'R3G            ', '1', '262.4', 'Canada '],\n",
       "   ['2235', '2/15/1999', 'R3B            ', '1', '65.6', 'Canada '],\n",
       "   ['2396', '5/31/2002', 'M4E            ', '1', '89.2', 'Canada '],\n",
       "   ['1870', '6/1/2002', 'L5N            ', '1', '850.4', 'Canada '],\n",
       "   ['559', '6/1/2002', 'M5L            ', '1', '624.5', 'Canada '],\n",
       "   ['467', '6/1/2002', 'R3H            ', '1', '900.6', 'Canada '],\n",
       "   ['433', '6/1/2002', 'K1K            ', '1', '851.5', 'Canada '],\n",
       "   ['989', '3/15/1999', 'M4N            ', '1', '467.2', 'Canada '],\n",
       "   ['1065', '3/15/1999', 'R3E            ', '1', '296.6', 'Canada '],\n",
       "   ['1065', '3/15/1999', 'M5X            ', '1', '296.6', 'Canada '],\n",
       "   ['1066', '3/15/1999', 'M6H            ', '1', '296.6', 'Canada '],\n",
       "   ['1116', '3/15/1999', 'M5R            ', '1', '251.9', 'Canada '],\n",
       "   ['1173', '3/15/1999', 'M4P            ', '1', '524.9', 'Canada '],\n",
       "   ['1173', '3/15/1999', 'M5E            ', '1', '524.9', 'Canada '],\n",
       "   ['1185', '3/15/1999', 'K2P            ', '1', '419.9', 'Canada '],\n",
       "   ['1956', '3/15/1999', 'R3M            ', '1', '153.8', 'Canada '],\n",
       "   ['1961', '3/15/1999', 'R3H            ', '1', '97.1', 'Canada '],\n",
       "   ['1961', '3/15/1999', 'M4E            ', '1', '97.1', 'Canada '],\n",
       "   ['2234', '3/15/1999', 'K1P            ', '2', '131.1', 'Canada '],\n",
       "   ['2255', '3/15/1999', 'M4N            ', '1', '57.7', 'Canada '],\n",
       "   ['2282', '3/15/1999', 'L5T            ', '1', '304.4', 'Canada '],\n",
       "   ['2340', '3/15/1999', 'R2W            ', '1', '461.9', 'Canada '],\n",
       "   ['2388', '3/15/1999', 'L5N            ', '1', '309.7', 'Canada '],\n",
       "   ['491', '3/15/1999', 'M5S            ', '1', '815.3', 'Canada '],\n",
       "   ['510', '3/15/1999', 'R3G            ', '1', '837.1', 'Canada '],\n",
       "   ['604', '3/15/1999', 'M5P            ', '1', '461.7', 'Canada '],\n",
       "   ['609', '3/15/1999', 'R3G            ', '1', '778.8', 'Canada '],\n",
       "   ['609', '3/15/1999', 'L5H            ', '1', '778.8', 'Canada '],\n",
       "   ['728', '3/15/1999', 'R3G            ', '1', '62.9', 'Canada '],\n",
       "   ['2388', '6/7/2002', 'M5L            ', '1', '309.7', 'Canada '],\n",
       "   ['1006', '6/7/2002', 'L5T            ', '2', '178.4', 'Canada '],\n",
       "   ['559', '6/7/2002', 'L4X            ', '1', '624.5', 'Canada '],\n",
       "   ['862', '6/7/2002', 'K1M            ', '1', '304.4', 'Canada '],\n",
       "   ['964', '6/7/2002', 'M5X            ', '1', '330.7', 'Canada '],\n",
       "   ['596', '6/7/2002', 'L5V            ', '1', '776.7', 'Canada '],\n",
       "   ['976', '6/8/2002', 'R3K            ', '1', '314.9', 'Canada '],\n",
       "   ['573', '6/8/2002', 'M5P            ', '1', '299', 'Canada '],\n",
       "   ['606', '6/8/2002', 'R3E            ', '1', '323.1', 'Canada '],\n",
       "   ['992', '6/10/2002', 'R3S            ', '1', '278.2', 'Canada '],\n",
       "   ['609', '6/10/2002', 'R3G            ', '1', '829.2', 'Canada '],\n",
       "   ['725', '6/10/2002', 'M6P            ', '1', '120.7', 'Canada '],\n",
       "   ['1139', '6/10/2002', 'R3T            ', '1', '682.4', 'Canada '],\n",
       "   ['964', '6/10/2002', 'M7Y            ', '1', '314.9', 'Canada '],\n",
       "   ['609', '6/10/2002', 'L5R            ', '1', '829.2', 'Canada '],\n",
       "   ['901', '3/15/1999', 'M5E            ', '1', '409.4', 'Canada '],\n",
       "   ['910', '3/15/1999', 'M5X            ', '1', '414.7', 'Canada '],\n",
       "   ['962', '3/15/1999', 'R3W            ', '1', '509.2', 'Canada '],\n",
       "   ['1065', '3/15/1999', 'M6H            ', '1', '296.6', 'Canada '],\n",
       "   ['1173', '3/15/1999', 'M4S            ', '1', '524.9', 'Canada '],\n",
       "   ['1185', '3/15/1999', 'R3B            ', '1', '419.9', 'Canada '],\n",
       "   ['1185', '3/15/1999', 'L5N            ', '1', '419.9', 'Canada '],\n",
       "   ['1185', '3/15/1999', 'M4P            ', '1', '419.9', 'Canada '],\n",
       "   ['2332', '6/11/2003', 'L5N            ', '1', '419.9', 'Canada '],\n",
       "   ['491', '6/11/2003', 'M5X            ', '1', '890.7', 'Canada '],\n",
       "   ['1139', '6/12/2002', 'K2P            ', '1', '682.4', 'Canada '],\n",
       "   ['1174', '6/12/2002', 'L5R            ', '1', '577.4', 'Canada '],\n",
       "   ['2396', '6/12/2002', 'R3V            ', '1', '89.2', 'Canada '],\n",
       "   ['433', '6/13/2002', 'H1B            ', '1', '851.5', 'Canada '],\n",
       "   ['2332', '6/13/2002', 'M4Y            ', '1', '367.4', 'Canada '],\n",
       "   ['606', '3/15/1999', 'R3H            ', '1', '314.7', 'Canada '],\n",
       "   ['606', '3/15/1999', 'L5N            ', '1', '314.7', 'Canada '],\n",
       "   ['727', '3/15/1999', 'R3G            ', '1', '62.9', 'Canada '],\n",
       "   ['740', '3/15/1999', 'H2Z            ', '1', '170.6', 'Canada '],\n",
       "   ['936', '3/15/1999', 'L5R            ', '1', '498.7', 'Canada '],\n",
       "   ['940', '3/15/1999', 'M5S            ', '1', '671.9', 'Canada '],\n",
       "   ['979', '3/15/1999', 'M6G            ', '1', '393.7', 'Canada '],\n",
       "   ['1081', '3/15/1999', 'R3V            ', '1', '225.7', 'Canada '],\n",
       "   ['1110', '3/15/1999', 'R3V            ', '1', '209.9', 'Canada '],\n",
       "   ['1111', '3/15/1999', 'R3H            ', '1', '116.5', 'Canada '],\n",
       "   ['1132', '3/15/1999', 'L5P            ', '1', '629.9', 'Canada '],\n",
       "   ['1166', '3/15/1999', 'M4V            ', '1', '535.4', 'Canada '],\n",
       "   ['1168', '3/15/1999', 'L5G            ', '1', '367.4', 'Canada '],\n",
       "   ['1173', '3/15/1999', 'M4R            ', '1', '524.9', 'Canada '],\n",
       "   ['1188', '3/15/1999', 'L5T            ', '1', '472.4', 'Canada '],\n",
       "   ['1188', '3/15/1999', 'M6G            ', '1', '472.4', 'Canada '],\n",
       "   ['2056', '3/15/1999', 'R2W            ', '1', '325.4', 'Canada '],\n",
       "   ['2254', '3/15/1999', 'R3G            ', '1', '57.7', 'Canada '],\n",
       "   ['2235', '1/15/1999', 'V6E            ', '1', '65.6', 'Canada '],\n",
       "   ['396', '1/15/1999', 'V6G            ', '1', '857.1', 'Canada '],\n",
       "   ['510', '1/15/1999', 'T2J            ', '1', '837.1', 'Canada '],\n",
       "   ['726', '1/15/1999', 'T2X            ', '1', '115.4', 'Canada '],\n",
       "   ['726', '1/15/1999', 'V6Z            ', '2', '230.9', 'Canada '],\n",
       "   ['728', '1/15/1999', 'T3C            ', '1', '62.9', 'Canada '],\n",
       "   ['758', '1/15/1999', 'V6M            ', '1', '83.9', 'Canada '],\n",
       "   ['758', '1/15/1999', 'V6Z            ', '1', '83.9', 'Canada '],\n",
       "   ['767', '1/15/1999', 'T2R            ', '1', '104.9', 'Canada '],\n",
       "   ['767', '1/15/1999', 'T5V            ', '1', '104.9', 'Canada '],\n",
       "   ['768', '1/15/1999', 'R2G            ', '1', '104.9', 'Canada '],\n",
       "   ['1046', '1/15/1999', 'T5J            ', '1', '99.7', 'Canada '],\n",
       "   ['1080', '1/15/1999', 'V6B            ', '1', '262.4', 'Canada '],\n",
       "   ['1111', '1/15/1999', 'V5W            ', '1', '116.5', 'Canada '],\n",
       "   ['1490', '1/15/1999', 'T3R            ', '1', '262.4', 'Canada '],\n",
       "   ['2234', '1/15/1999', 'V6G            ', '1', '65.6', 'Canada '],\n",
       "   ['2255', '1/15/1999', 'V6E            ', '1', '57.7', 'Canada '],\n",
       "   ['596', '2/15/1999', 'T1Y            ', '1', '746.5', 'Canada '],\n",
       "   ['597', '2/15/1999', 'V7W            ', '1', '892.2', 'Canada '],\n",
       "   ['606', '2/15/1999', 'V5M            ', '1', '314.7', 'Canada '],\n",
       "   ['658', '2/15/1999', 'T5G            ', '1', '902.7', 'Canada '],\n",
       "   ['725', '2/15/1999', 'V6M            ', '1', '115.4', 'Canada '],\n",
       "   ['728', '2/15/1999', 'T6T            ', '1', '62.9', 'Canada '],\n",
       "   ['740', '2/15/1999', 'V5N            ', '1', '170.6', 'Canada '],\n",
       "   ['769', '2/15/1999', 'T6J            ', '1', '257.2', 'Canada '],\n",
       "   ['862', '2/15/1999', 'T6E            ', '1', '162.7', 'Canada '],\n",
       "   ['922', '2/15/1999', 'V7W            ', '1', '472.4', 'Canada '],\n",
       "   ['1014', '2/15/1999', 'T6R            ', '1', '86.6', 'Canada '],\n",
       "   ['1045', '2/15/1999', 'V5N            ', '1', '207.3', 'Canada '],\n",
       "   ['1133', '2/15/1999', 'T2X            ', '1', '629.9', 'Canada '],\n",
       "   ['1191', '2/15/1999', 'V6Z            ', '1', '262.4', 'Canada '],\n",
       "   ['1449', '2/15/1999', 'T6V            ', '1', '118', 'Canada '],\n",
       "   ['2284', '2/15/1999', 'V7Y            ', '1', '293.9', 'Canada '],\n",
       "   ['443', '2/15/1999', 'V6T            ', '1', '790.9', 'Canada '],\n",
       "   ['491', '2/15/1999', 'V6Z            ', '2', '1630.7', 'Canada '],\n",
       "   ['550', '2/15/1999', 'T5N            ', '1', '404', 'Canada '],\n",
       "   ['1884', '4/10/2003', 'T2X            ', '1', '787.4', 'Canada '],\n",
       "   ['2235', '4/10/2003', 'V6L            ', '1', '70.8', 'Canada '],\n",
       "   ['2234', '4/10/2003', 'V6L            ', '1', '70.8', 'Canada '],\n",
       "   ['604', '4/10/2003', 'T5H            ', '1', '494.8', 'Canada '],\n",
       "   ['502', '4/10/2003', 'V7Y            ', '1', '1105.9', 'Canada '],\n",
       "   ['1181', '4/10/2003', 'T3C            ', '1', '419.9', 'Canada '],\n",
       "   ['992', '4/11/2003', 'T6K            ', '1', '278.2', 'Canada '],\n",
       "   ['550', '4/11/2003', 'T1Y            ', '1', '433.4', 'Canada '],\n",
       "   ['910', '5/31/2002', 'V6A            ', '1', '430.4', 'Canada '],\n",
       "   ['915', '5/31/2002', 'V6R            ', '1', '556.4', 'Canada '],\n",
       "   ['946', '5/31/2002', 'T6V            ', '1', '708.7', 'Canada '],\n",
       "   ['964', '5/31/2002', 'V6Z            ', '2', '661.4', 'Canada '],\n",
       "   ['967', '5/31/2002', 'V5V            ', '1', '656.2', 'Canada '],\n",
       "   ['1061', '5/31/2002', 'T6J            ', '1', '149.6', 'Canada '],\n",
       "   ['726', '3/15/1999', 'T6H            ', '1', '115.4', 'Canada '],\n",
       "   ['757', '3/15/1999', 'T2X            ', '1', '83.9', 'Canada '],\n",
       "   ['910', '3/15/1999', 'T1Y            ', '1', '414.7', 'Canada '],\n",
       "   ['921', '3/15/1999', 'T6K            ', '1', '524.9', 'Canada '],\n",
       "   ['921', '3/15/1999', 'V7Y            ', '1', '524.9', 'Canada '],\n",
       "   ['935', '3/15/1999', 'T6S            ', '1', '488.2', 'Canada '],\n",
       "   ['936', '3/15/1999', 'T5K            ', '2', '997.4', 'Canada '],\n",
       "   ['981', '3/15/1999', 'V6Z            ', '1', '167.9', 'Canada '],\n",
       "   ['990', '3/15/1999', 'V6R            ', '1', '456.7', 'Canada '],\n",
       "   ['1106', '3/15/1999', 'T5V            ', '1', '246.7', 'Canada '],\n",
       "   ['1116', '3/15/1999', 'T5K            ', '1', '251.9', 'Canada '],\n",
       "   ['1188', '3/15/1999', 'V7Y            ', '1', '472.4', 'Canada '],\n",
       "   ['1318', '3/15/1999', 'T5H            ', '1', '307', 'Canada '],\n",
       "   ['1345', '3/15/1999', 'T5G            ', '1', '304.4', 'Canada '],\n",
       "   ['1347', '3/15/1999', 'V6R            ', '1', '299.1', 'Canada '],\n",
       "   ['1429', '3/15/1999', 'V6G            ', '1', '283.4', 'Canada '],\n",
       "   ['1949', '3/15/1999', 'V6T            ', '1', '296.6', 'Canada '],\n",
       "   ['1990', '3/15/1999', 'R2G            ', '1', '257.2', 'Canada '],\n",
       "   ['964', '4/11/2003', 'T6J            ', '1', '330.7', 'Canada '],\n",
       "   ['571', '4/11/2003', 'T6T            ', '1', '527.1', 'Canada '],\n",
       "   ['2064', '4/11/2003', 'V7W            ', '1', '496.1', 'Canada '],\n",
       "   ['691', '4/12/2003', 'T5K            ', '1', '356.7', 'Canada '],\n",
       "   ['966', '4/12/2003', 'T5Y            ', '1', '472.4', 'Canada '],\n",
       "   ['966', '4/12/2003', 'T6E            ', '1', '488.2', 'Canada '],\n",
       "   ['992', '4/12/2003', 'T6J            ', '1', '278.2', 'Canada '],\n",
       "   ['575', '4/12/2003', 'V6S            ', '1', '929.2', 'Canada '],\n",
       "   ['1005', '4/12/2003', 'V5Z            ', '1', '110.2', 'Canada '],\n",
       "   ['681', '4/12/2003', 'T6J            ', '1', '715.8', 'Canada '],\n",
       "   ['733', '4/12/2003', 'V5W            ', '1', '330.7', 'Canada '],\n",
       "   ['734', '4/12/2003', 'V5W            ', '1', '330.7', 'Canada '],\n",
       "   ['1006', '4/12/2003', 'V5V            ', '1', '89.2', 'Canada '],\n",
       "   ['964', '4/12/2003', 'T6J            ', '1', '320.2', 'Canada '],\n",
       "   ['976', '4/12/2003', 'T6W            ', '1', '325.4', 'Canada '],\n",
       "   ['967', '4/12/2003', 'T6V            ', '1', '671.9', 'Canada '],\n",
       "   ['573', '4/12/2003', 'T6S            ', '1', '313.7', 'Canada '],\n",
       "   ['2380', '4/13/2003', 'V6A            ', '1', '293.9', 'Canada '],\n",
       "   ['2353', '4/13/2003', 'V6A            ', '1', '414.7', 'Canada '],\n",
       "   ['2047', '3/15/1999', 'T5K            ', '1', '377.9', 'Canada '],\n",
       "   ['2083', '3/15/1999', 'T1Y            ', '1', '309.7', 'Canada '],\n",
       "   ['2234', '3/15/1999', 'V6A            ', '1', '65.6', 'Canada '],\n",
       "   ['2234', '3/15/1999', 'V7R            ', '1', '65.6', 'Canada '],\n",
       "   ['2235', '3/15/1999', 'V7W            ', '1', '65.6', 'Canada '],\n",
       "   ['2388', '3/15/1999', 'T6J            ', '1', '309.7', 'Canada '],\n",
       "   ['443', '3/15/1999', 'T1Y            ', '1', '790.9', 'Canada '],\n",
       "   ['475', '3/15/1999', 'V6A            ', '2', '1940.4', 'Canada '],\n",
       "   ['725', '3/15/1999', 'V6M            ', '1', '115.4', 'Canada '],\n",
       "   ['726', '3/15/1999', 'T3R            ', '1', '115.4', 'Canada '],\n",
       "   ['728', '3/15/1999', 'V6Z            ', '1', '68.2', 'Canada '],\n",
       "   ['757', '3/15/1999', 'V6M            ', '1', '83.9', 'Canada '],\n",
       "   ['767', '3/15/1999', 'T6T            ', '1', '104.9', 'Canada '],\n",
       "   ['768', '3/15/1999', 'V7T            ', '1', '104.9', 'Canada '],\n",
       "   ['768', '3/15/1999', 'V7W            ', '1', '104.9', 'Canada '],\n",
       "   ['914', '3/15/1999', 'T3G            ', '1', '577.4', 'Canada '],\n",
       "   ['935', '3/15/1999', 'T5V            ', '1', '488.2', 'Canada '],\n",
       "   ['1227', '6/10/2003', 'T5K            ', '1', '314.9', 'Canada '],\n",
       "   ['533', '6/10/2003', 'T3C            ', '1', '524.7', 'Canada '],\n",
       "   ['565', '6/10/2003', 'V5Z            ', '1', '890.7', 'Canada '],\n",
       "   ['606', '6/10/2003', 'T5K            ', '1', '337.8', 'Canada '],\n",
       "   ['1786', '6/10/2003', 'V6Z            ', '1', '629.9', 'Canada '],\n",
       "   ['759', '6/10/2003', 'T6E            ', '1', '146.9', 'Canada '],\n",
       "   ['1112', '3/15/1999', 'V6H            ', '1', '116.5', 'Canada '],\n",
       "   ['2254', '3/15/1999', 'V7M            ', '1', '57.7', 'Canada '],\n",
       "   ['2279', '3/15/1999', 'V5W            ', '1', '165.3', 'Canada '],\n",
       "   ['2282', '3/15/1999', 'V6A            ', '1', '304.4', 'Canada '],\n",
       "   ['2282', '3/15/1999', 'V6B            ', '2', '608.9', 'Canada '],\n",
       "   ['2331', '3/15/1999', 'T6T            ', '1', '535.4', 'Canada '],\n",
       "   ['2331', '3/15/1999', 'V5Z            ', '1', '535.4', 'Canada '],\n",
       "   ['396', '3/15/1999', 'V6G            ', '1', '857.1', 'Canada '],\n",
       "   ['443', '3/15/1999', 'V6Z            ', '1', '790.9', 'Canada '],\n",
       "   ['604', '3/15/1999', 'T6T            ', '1', '461.7', 'Canada '],\n",
       "   ['676', '3/15/1999', 'V5X            ', '1', '801.9', 'Canada '],\n",
       "   ['725', '3/15/1999', 'T3R            ', '1', '115.4', 'Canada '],\n",
       "   ['726', '3/15/1999', 'V6M            ', '1', '115.4', 'Canada '],\n",
       "   ['758', '3/15/1999', 'V6M            ', '1', '83.9', 'Canada '],\n",
       "   ['768', '3/15/1999', 'T2X            ', '1', '104.9', 'Canada '],\n",
       "   ['989', '3/15/1999', 'V6A            ', '1', '451.4', 'Canada '],\n",
       "   ['1008', '3/15/1999', 'T5J            ', '1', '236.2', 'Canada '],\n",
       "   ['769', '1/15/1999', 'V5V            ', '1', '257.2', 'Canada '],\n",
       "   ['796', '1/15/1999', 'V5Z            ', '1', '275.6', 'Canada '],\n",
       "   ['797', '1/15/1999', 'V6M            ', '1', '301.8', 'Canada '],\n",
       "   ['962', '1/15/1999', 'T1Y            ', '1', '524.9', 'Canada '],\n",
       "   ['1003', '1/15/1999', 'T3G            ', '1', '86.6', 'Canada '],\n",
       "   ['1066', '1/15/1999', 'T2T            ', '1', '296.6', 'Canada '],\n",
       "   ['1079', '1/15/1999', 'V6B            ', '1', '262.4', 'Canada '],\n",
       "   ['2234', '1/15/1999', 'V6T            ', '1', '65.6', 'Canada '],\n",
       "   ['2235', '1/15/1999', 'V6G            ', '1', '65.6', 'Canada '],\n",
       "   ['2255', '1/15/1999', 'V7M            ', '1', '57.7', 'Canada '],\n",
       "   ['2388', '1/15/1999', 'R2P            ', '1', '309.7', 'Canada '],\n",
       "   ['604', '1/15/1999', 'T6S            ', '1', '461.7', 'Canada '],\n",
       "   ['631', '1/15/1999', 'T6T            ', '1', '346.2', 'Canada '],\n",
       "   ['725', '1/15/1999', 'T2X            ', '1', '115.4', 'Canada '],\n",
       "   ['769', '1/15/1999', 'V6H            ', '1', '257.2', 'Canada '],\n",
       "   ['1014', '1/15/1999', 'V6T            ', '1', '86.6', 'Canada '],\n",
       "   ['1014', '1/15/1999', 'R2G            ', '1', '86.6', 'Canada '],\n",
       "   ['1949', '1/15/1999', 'R2G            ', '1', '296.6', 'Canada '],\n",
       "   ['2234', '1/15/1999', 'V5W            ', '1', '65.6', 'Canada '],\n",
       "   ['2254', '1/15/1999', 'V6M            ', '1', '57.7', 'Canada '],\n",
       "   ['2255', '1/15/1999', 'V5Y            ', '1', '57.7', 'Canada '],\n",
       "   ['433', '1/15/1999', 'T6E            ', '1', '804.3', 'Canada '],\n",
       "   ['491', '1/15/1999', 'T6R            ', '1', '815.3', 'Canada '],\n",
       "   ['606', '1/15/1999', 'T6T            ', '1', '314.7', 'Canada '],\n",
       "   ['645', '1/15/1999', 'T6R            ', '1', '746.5', 'Canada '],\n",
       "   ['683', '1/15/1999', 'T5G            ', '1', '788', 'Canada '],\n",
       "   ['713', '1/15/1999', 'V6T            ', '1', '160.1', 'Canada '],\n",
       "   ['604', '5/31/2002', 'V5N            ', '1', '480.6', 'Canada '],\n",
       "   ['726', '5/31/2002', 'T2C            ', '1', '120.7', 'Canada '],\n",
       "   ['785', '5/31/2002', 'R2G            ', '2', '136.4', 'Canada '],\n",
       "   ['1006', '5/31/2002', 'V5Z            ', '1', '89.2', 'Canada '],\n",
       "   ['2045', '5/31/2002', 'T6K            ', '1', '419.9', 'Canada '],\n",
       "   ['2054', '5/31/2002', 'T6X            ', '1', '545.9', 'Canada '],\n",
       "   ['2071', '5/31/2002', 'V6G            ', '1', '346.4', 'Canada '],\n",
       "   ['475', '4/10/2003', 'V7Y            ', '1', '1037.4', 'Canada '],\n",
       "   ['508', '4/10/2003', 'V6G            ', '1', '969.7', 'Canada '],\n",
       "   ['617', '4/10/2003', 'V6H            ', '1', '844.7', 'Canada '],\n",
       "   ['726', '1/15/1999', 'T5V            ', '1', '115.4', 'Canada '],\n",
       "   ['767', '1/15/1999', 'T5Y            ', '1', '102.3', 'Canada '],\n",
       "   ['767', '1/15/1999', 'V6Z            ', '1', '104.9', 'Canada '],\n",
       "   ['768', '1/15/1999', 'T5K            ', '1', '104.9', 'Canada '],\n",
       "   ['770', '1/15/1999', 'V5V            ', '1', '257.2', 'Canada '],\n",
       "   ['797', '1/15/1999', 'T2J            ', '1', '301.8', 'Canada '],\n",
       "   ['992', '1/15/1999', 'V6T            ', '1', '288.7', 'Canada '],\n",
       "   ['1005', '1/15/1999', 'T2X            ', '1', '107.6', 'Canada '],\n",
       "   ['2056', '1/15/1999', 'T2X            ', '1', '325.4', 'Canada '],\n",
       "   ['2056', '6/3/2002', 'T6T            ', '1', '330.7', 'Canada '],\n",
       "   ['2064', '6/3/2002', 'T2X            ', '1', '496.1', 'Canada '],\n",
       "   ['676', '6/5/2002', 'T6E            ', '1', '837.4', 'Canada '],\n",
       "   ['2331', '2/15/1999', 'T2X            ', '1', '535.4', 'Canada '],\n",
       "   ['2407', '2/15/1999', 'T3G            ', '1', '73.4', 'Canada '],\n",
       "   ['94', '2/15/1999', 'T6V            ', '1', '866.2', 'Canada '],\n",
       "   ['120', '2/15/1999', 'T3J            ', '1', '829.5', 'Canada '],\n",
       "   ['443', '2/15/1999', 'T5Y            ', '1', '790.9', 'Canada '],\n",
       "   ['645', '2/15/1999', 'T6T            ', '1', '746.5', 'Canada '],\n",
       "   ['658', '2/15/1999', 'T5W            ', '1', '902.7', 'Canada '],\n",
       "   ['681', '2/15/1999', 'T6E            ', '1', '629.7', 'Canada '],\n",
       "   ['739', '2/15/1999', 'V5N            ', '1', '170.6', 'Canada '],\n",
       "   ['753', '2/15/1999', 'V7N            ', '1', '244.1', 'Canada '],\n",
       "   ['767', '2/15/1999', 'V6M            ', '1', '104.9', 'Canada '],\n",
       "   ['838', '2/15/1999', 'V6Z            ', '1', '934.4', 'Canada '],\n",
       "   ['1173', '2/15/1999', 'V6C            ', '1', '524.9', 'Canada '],\n",
       "   ['1182', '2/15/1999', 'R2L            ', '1', '157.4', 'Canada '],\n",
       "   ['1450', '2/15/1999', 'T6V            ', '1', '118', 'Canada '],\n",
       "   ['2388', '2/15/1999', 'T2C            ', '1', '309.7', 'Canada '],\n",
       "   ['396', '2/15/1999', 'V5V            ', '1', '857.1', 'Canada '],\n",
       "   ['599', '2/15/1999', 'T6J            ', '1', '753.6', 'Canada '],\n",
       "   ['609', '2/15/1999', 'T2J            ', '1', '778.8', 'Canada '],\n",
       "   ['725', '2/15/1999', 'V5Z            ', '1', '115.4', 'Canada '],\n",
       "   ['728', '2/15/1999', 'V5Z            ', '1', '62.9', 'Canada '],\n",
       "   ['740', '2/15/1999', 'V6A            ', '1', '170.6', 'Canada '],\n",
       "   ['1065', '2/15/1999', 'T1Y            ', '1', '296.6', 'Canada '],\n",
       "   ['1116', '2/15/1999', 'T6E            ', '1', '251.9', 'Canada '],\n",
       "   ['1185', '2/15/1999', 'T6K            ', '1', '419.9', 'Canada '],\n",
       "   ['1425', '2/15/1999', 'V5Z            ', '1', '286', 'Canada '],\n",
       "   ['1641', '2/15/1999', 'T6K            ', '1', '70.8', 'Canada '],\n",
       "   ['1949', '2/15/1999', 'V6M            ', '1', '293.9', 'Canada '],\n",
       "   ['1975', '2/15/1999', 'T6T            ', '1', '52.4', 'Canada '],\n",
       "   ['2210', '2/15/1999', 'V7Y            ', '1', '107.6', 'Canada '],\n",
       "   ['396', '2/15/1999', 'V7W            ', '1', '857.1', 'Canada '],\n",
       "   ['2094', '3/15/1999', 'V6E            ', '1', '433.1', 'Canada '],\n",
       "   ['2126', '3/15/1999', 'T3C            ', '1', '472.2', 'Canada '],\n",
       "   ['2205', '3/15/1999', 'V7Y            ', '1', '173.2', 'Canada '],\n",
       "   ['2210', '3/15/1999', 'V5Z            ', '1', '104.9', 'Canada '],\n",
       "   ['2234', '3/15/1999', 'V7W            ', '1', '65.6', 'Canada '],\n",
       "   ['2255', '3/15/1999', 'V7M            ', '1', '57.7', 'Canada '],\n",
       "   ['2282', '3/15/1999', 'T2S            ', '1', '304.4', 'Canada '],\n",
       "   ['2284', '3/15/1999', 'T6T            ', '1', '293.9', 'Canada '],\n",
       "   ['318', '3/15/1999', 'T3G            ', '1', '866', 'Canada '],\n",
       "   ['609', '3/15/1999', 'V6G            ', '1', '778.8', 'Canada '],\n",
       "   ['740', '3/15/1999', 'V5N            ', '1', '170.6', 'Canada '],\n",
       "   ['910', '3/15/1999', 'R2L            ', '1', '414.7', 'Canada '],\n",
       "   ['921', '3/15/1999', 'V5W            ', '1', '524.9', 'Canada '],\n",
       "   ['981', '3/15/1999', 'T6R            ', '1', '167.9', 'Canada '],\n",
       "   ['992', '3/15/1999', 'V6J            ', '1', '288.7', 'Canada '],\n",
       "   ['1003', '3/15/1999', 'T3G            ', '1', '86.6', 'Canada '],\n",
       "   ['1014', '3/15/1999', 'V5Z            ', '1', '86.6', 'Canada '],\n",
       "   ['1106', '3/15/1999', 'V6Z            ', '1', '246.7', 'Canada '],\n",
       "   ['1110', '3/15/1999', 'T2J            ', '1', '209.9', 'Canada '],\n",
       "   ['1182', '3/15/1999', 'V6R            ', '1', '157.4', 'Canada '],\n",
       "   ['1215', '3/15/1999', 'T3G            ', '1', '356.9', 'Canada '],\n",
       "   ['1346', '3/15/1999', 'T5G            ', '1', '304.4', 'Canada '],\n",
       "   ['1974', '3/15/1999', 'V5N            ', '1', '52.4', 'Canada '],\n",
       "   ['2045', '3/15/1999', 'T5H            ', '1', '409.4', 'Canada '],\n",
       "   ['2047', '3/15/1999', 'V6Z            ', '1', '377.9', 'Canada '],\n",
       "   ['2056', '3/15/1999', 'V6R            ', '1', '325.4', 'Canada '],\n",
       "   ['2070', '3/15/1999', 'T5Y            ', '1', '519.7', 'Canada '],\n",
       "   ['2083', '3/15/1999', 'V6L            ', '1', '309.7', 'Canada '],\n",
       "   ['2083', '3/15/1999', 'V7Y            ', '1', '309.7', 'Canada '],\n",
       "   ['2234', '3/15/1999', 'T6T            ', '1', '65.6', 'Canada '],\n",
       "   ['2277', '3/15/1999', 'V5W            ', '1', '251.9', 'Canada '],\n",
       "   ['574', '6/10/2002', 'R2G            ', '1', '869.1', 'Canada '],\n",
       "   ['1003', '6/11/2002', 'T3C            ', '1', '86.6', 'Canada '],\n",
       "   ['910', '6/11/2002', 'T5K            ', '1', '430.4', 'Canada '],\n",
       "   ['94', '6/11/2002', 'T5B            ', '1', '892', 'Canada '],\n",
       "   ['596', '6/11/2002', 'T6H            ', '1', '776.7', 'Canada '],\n",
       "   ['2388', '6/11/2002', 'V7Y            ', '1', '309.7', 'Canada '],\n",
       "   ['671', '6/11/2002', 'V5W            ', '1', '892.2', 'Canada '],\n",
       "   ['976', '6/11/2002', 'T2J            ', '1', '314.9', 'Canada '],\n",
       "   ['1230', '6/12/2002', 'V5T            ', '1', '524.9', 'Canada '],\n",
       "   ['921', '4/15/1999', 'V5Y            ', '1', '524.9', 'Canada '],\n",
       "   ['1065', '4/15/1999', 'T3C            ', '1', '296.6', 'Canada '],\n",
       "   ['1081', '4/15/1999', 'V6B            ', '1', '225.7', 'Canada '],\n",
       "   ['1157', '4/15/1999', 'T6E            ', '1', '377.9', 'Canada '],\n",
       "   ['1157', '4/15/1999', 'V6G            ', '1', '377.9', 'Canada '],\n",
       "   ['1182', '4/15/1999', 'T6T            ', '1', '157.4', 'Canada '],\n",
       "   ['1182', '4/15/1999', 'R2G            ', '1', '157.4', 'Canada '],\n",
       "   ['1987', '5/31/2002', 'T6S            ', '1', '162.7', 'Canada '],\n",
       "   ['2253', '5/31/2002', 'T6R            ', '2', '272.9', 'Canada '],\n",
       "   ['2352', '5/31/2002', 'T5S            ', '1', '367.4', 'Canada '],\n",
       "   ['683', '2/15/1999', 'T2Y            ', '1', '788', 'Canada '],\n",
       "   ['687', '2/15/1999', 'T6T            ', '1', '446', 'Canada '],\n",
       "   ['727', '2/15/1999', 'V5Z            ', '1', '62.9', 'Canada '],\n",
       "   ['739', '2/15/1999', 'V6A            ', '1', '170.6', 'Canada '],\n",
       "   ['739', '2/15/1999', 'V6T            ', '1', '170.6', 'Canada '],\n",
       "   ['757', '2/15/1999', 'T2A            ', '1', '83.9', 'Canada '],\n",
       "   ['758', '2/15/1999', 'T6E            ', '1', '83.9', 'Canada '],\n",
       "   ['964', '2/15/1999', 'T5V            ', '1', '346.4', 'Canada '],\n",
       "   ['990', '2/15/1999', 'T6E            ', '1', '503.9', 'Canada '],\n",
       "   ['1960', '2/15/1999', 'T5Y            ', '1', '97.1', 'Canada '],\n",
       "   ['2056', '2/15/1999', 'T2X            ', '1', '325.4', 'Canada '],\n",
       "   ['2211', '2/15/1999', 'V7Y            ', '1', '107.6', 'Canada '],\n",
       "   ['2279', '2/15/1999', 'V7M            ', '1', '165.3', 'Canada '],\n",
       "   ['2388', '2/15/1999', 'V7Y            ', '1', '309.7', 'Canada '],\n",
       "   ['491', '2/15/1999', 'T3R            ', '1', '815.3', 'Canada '],\n",
       "   ['550', '2/15/1999', 'V6T            ', '1', '404', 'Canada '],\n",
       "   ['663', '2/15/1999', 'V6T            ', '1', '765.5', 'Canada '],\n",
       "   ['726', '2/15/1999', 'V5N            ', '1', '115.4', 'Canada '],\n",
       "   ['726', '2/15/1999', 'V6M            ', '1', '115.4', 'Canada '],\n",
       "   ['1173', '2/15/1999', 'V6M            ', '1', '524.9', 'Canada '],\n",
       "   ['2373', '2/15/1999', 'T6S            ', '1', '551.2', 'Canada '],\n",
       "   ['330', '2/15/1999', 'T6V            ', '1', '577.2', 'Canada '],\n",
       "   ['499', '2/15/1999', 'V6Z            ', '1', '846.3', 'Canada '],\n",
       "   ['604', '2/15/1999', 'R2M            ', '1', '461.7', 'Canada '],\n",
       "   ['727', '2/15/1999', 'T6T            ', '1', '62.9', 'Canada '],\n",
       "   ['758', '2/15/1999', 'T2A            ', '1', '83.9', 'Canada '],\n",
       "   ['1014', '2/15/1999', 'T5H            ', '1', '86.6', 'Canada '],\n",
       "   ['1014', '2/15/1999', 'T5J            ', '2', '173.1', 'Canada '],\n",
       "   ['1157', '2/15/1999', 'T6K            ', '1', '377.9', 'Canada '],\n",
       "   ['1167', '2/15/1999', 'V5T            ', '1', '309.7', 'Canada '],\n",
       "   ['1948', '2/15/1999', 'V6M            ', '1', '293.9', 'Canada '],\n",
       "   ['1961', '2/15/1999', 'T5Y            ', '1', '97.1', 'Canada '],\n",
       "   ['2254', '2/15/1999', 'T5K            ', '1', '57.7', 'Canada '],\n",
       "   ['647', '6/1/2002', 'V5N            ', '1', '900.6', 'Canada '],\n",
       "   ['426', '6/1/2002', 'T2J            ', '1', '843.1', 'Canada '],\n",
       "   ['573', '6/1/2002', 'T6E            ', '1', '299', 'Canada '],\n",
       "   ['635', '6/1/2002', 'T2J            ', '1', '860.7', 'Canada '],\n",
       "   ['962', '3/15/1999', 'T5B            ', '1', '509.2', 'Canada '],\n",
       "   ['979', '3/15/1999', 'T5Y            ', '1', '393.7', 'Canada '],\n",
       "   ['989', '3/15/1999', 'T2X            ', '1', '451.4', 'Canada '],\n",
       "   ['992', '3/15/1999', 'V6Z            ', '1', '288.7', 'Canada '],\n",
       "   ['1008', '3/15/1999', 'V5V            ', '1', '236.2', 'Canada '],\n",
       "   ['1157', '3/15/1999', 'T2J            ', '1', '377.9', 'Canada '],\n",
       "   ['1191', '3/15/1999', 'V5V            ', '1', '262.4', 'Canada '],\n",
       "   ['1191', '3/15/1999', 'R2G            ', '1', '262.4', 'Canada '],\n",
       "   ['1227', '3/15/1999', 'T1Y            ', '1', '314.9', 'Canada '],\n",
       "   ['1330', '3/15/1999', 'V5N            ', '1', '92.8', 'Canada '],\n",
       "   ['2057', '3/15/1999', 'T6V            ', '1', '472.4', 'Canada '],\n",
       "   ['2204', '3/15/1999', 'V7Y            ', '1', '173.2', 'Canada '],\n",
       "   ['2211', '3/15/1999', 'V5Z            ', '1', '104.9', 'Canada '],\n",
       "   ['433', '3/15/1999', 'T5K            ', '1', '804.3', 'Canada '],\n",
       "   ['606', '3/15/1999', 'T2C            ', '1', '314.7', 'Canada '],\n",
       "   ['606', '3/15/1999', 'T6J            ', '1', '314.7', 'Canada '],\n",
       "   ['609', '3/15/1999', 'T5Y            ', '1', '778.8', 'Canada '],\n",
       "   ['645', '3/15/1999', 'V6H            ', '1', '746.5', 'Canada '],\n",
       "   ['676', '3/15/1999', 'T6V            ', '1', '801.9', 'Canada '],\n",
       "   ['726', '3/15/1999', 'T6G            ', '1', '115.4', 'Canada '],\n",
       "   ['726', '3/15/1999', 'V5Z            ', '1', '115.4', 'Canada '],\n",
       "   ['758', '3/15/1999', 'T2X            ', '1', '83.9', 'Canada '],\n",
       "   ['2359', '6/7/2002', 'V7W            ', '1', '430.4', 'Canada '],\n",
       "   ['964', '6/7/2002', 'T5K            ', '1', '335.9', 'Canada '],\n",
       "   ['979', '6/7/2002', 'V6C            ', '1', '393.7', 'Canada '],\n",
       "   ['1182', '6/7/2002', 'T6S            ', '1', '157.4', 'Canada '],\n",
       "   ['992', '6/7/2002', 'V7K            ', '1', '278.2', 'Canada '],\n",
       "   ['1000', '6/7/2002', 'V6N            ', '1', '89.2', 'Canada '],\n",
       "   ['1003', '6/7/2002', 'T3C            ', '1', '86.6', 'Canada '],\n",
       "   ['753', '6/8/2002', 'T2J            ', '1', '246.7', 'Canada '],\n",
       "   ['754', '6/8/2002', 'T2J            ', '1', '246.7', 'Canada '],\n",
       "   ['1062', '6/10/2002', 'T6R            ', '1', '149.6', 'Canada '],\n",
       "   ['2241', '6/10/2002', 'V6Z            ', '1', '89.2', 'Canada '],\n",
       "   ['2359', '6/10/2002', 'V5Z            ', '1', '430.4', 'Canada '],\n",
       "   ['964', '6/10/2002', 'V6T            ', '1', '320.2', 'Canada '],\n",
       "   ['1061', '6/10/2002', 'T6R            ', '1', '149.6', 'Canada '],\n",
       "   ['2240', '6/10/2002', 'V6Z            ', '1', '89.2', 'Canada '],\n",
       "   ['767', '3/15/1999', 'V7T            ', '1', '104.9', 'Canada '],\n",
       "   ['768', '3/15/1999', 'T6T            ', '1', '104.9', 'Canada '],\n",
       "   ['921', '3/15/1999', 'T3C            ', '1', '524.9', 'Canada '],\n",
       "   ['992', '3/15/1999', 'T6J            ', '1', '288.7', 'Canada '],\n",
       "   ['1046', '3/15/1999', 'T6H            ', '1', '99.7', 'Canada '],\n",
       "   ['1053', '3/15/1999', 'T6J            ', '1', '251.9', 'Canada '],\n",
       "   ['1082', '3/15/1999', 'T3G            ', '1', '225.7', 'Canada '],\n",
       "   ['1191', '3/15/1999', 'T1Y            ', '1', '262.4', 'Canada '],\n",
       "   ['1329', '3/15/1999', 'V5N            ', '1', '92.8', 'Canada '],\n",
       "   ['964', '6/12/2002', 'V6Z            ', '1', '335.9', 'Canada '],\n",
       "   ['670', '6/12/2002', 'T5K            ', '1', '871.2', 'Canada '],\n",
       "   ['573', '6/12/2002', 'V6R            ', '1', '299', 'Canada '],\n",
       "   ['753', '6/12/2002', 'V6M            ', '1', '246.7', 'Canada '],\n",
       "   ['596', '6/13/2002', 'T6T            ', '1', '776.7', 'Canada '],\n",
       "   ['992', '6/13/2002', 'V7P            ', '1', '278.2', 'Canada '],\n",
       "   ['467', '6/13/2002', 'V6J            ', '1', '900.6', 'Canada '],\n",
       "   ['691', '6/13/2002', 'T6S            ', '1', '351.5', 'Canada '],\n",
       "   ['990', '6/13/2002', 'V6T            ', '1', '440.9', 'Canada '],\n",
       "   ['992', '6/13/2002', 'T2J            ', '1', '278.2', 'Canada '],\n",
       "   ['1034', '6/13/2002', 'T5V            ', '1', '892.2', 'Canada '],\n",
       "   ['1111', '6/13/2002', 'T2J            ', '1', '120.7', 'Canada '],\n",
       "   ['1215', '6/13/2002', 'V6Z            ', '1', '356.9', 'Canada '],\n",
       "   ['910', '6/13/2002', 'V5K            ', '1', '430.4', 'Canada '],\n",
       "   ['725', '3/15/1999', 'T6G            ', '1', '115.4', 'Canada '],\n",
       "   ['725', '3/15/1999', 'V5Z            ', '1', '115.4', 'Canada '],\n",
       "   ['797', '3/15/1999', 'T5W            ', '1', '301.8', 'Canada '],\n",
       "   ['797', '3/15/1999', 'V7X            ', '1', '301.8', 'Canada '],\n",
       "   ['833', '3/15/1999', 'V6T            ', '1', '782.2', 'Canada '],\n",
       "   ['837', '3/15/1999', 'T2C            ', '1', '839.9', 'Canada '],\n",
       "   ['901', '3/15/1999', 'T2S            ', '1', '409.4', 'Canada '],\n",
       "   ['910', '3/15/1999', 'T2X            ', '2', '829.4', 'Canada '],\n",
       "   ['921', '3/15/1999', 'V6B            ', '1', '524.9', 'Canada '],\n",
       "   ['990', '3/15/1999', 'V6M            ', '1', '456.7', 'Canada '],\n",
       "   ['1166', '3/15/1999', 'V6R            ', '1', '535.4', 'Canada '],\n",
       "   ['1188', '3/15/1999', 'T2N            ', '1', '472.4', 'Canada '],\n",
       "   ['1948', '3/15/1999', 'V6T            ', '1', '296.6', 'Canada '],\n",
       "   ['2045', '3/15/1999', 'T2C            ', '1', '409.4', 'Canada '],\n",
       "   ['2070', '3/15/1999', 'T6T            ', '1', '519.7', 'Canada '],\n",
       "   ['2074', '3/15/1999', 'V5N            ', '1', '328.1', 'Canada '],\n",
       "   ['2083', '3/15/1999', 'T6E            ', '1', '309.7', 'Canada '],\n",
       "   ['2235', '3/15/1999', 'V7R            ', '1', '65.6', 'Canada '],\n",
       "   ['2254', '3/15/1999', 'V5N            ', '1', '57.7', 'Canada '],\n",
       "   ['2282', '3/15/1999', 'T6T            ', '1', '304.4', 'Canada '],\n",
       "   ['2380', '3/15/1999', 'T6G            ', '1', '309.7', 'Canada '],\n",
       "   ['2407', '3/15/1999', 'T6T            ', '1', '73.4', 'Canada '],\n",
       "   ['2407', '3/15/1999', 'V5T            ', '2', '146.9', 'Canada '],\n",
       "   ['93', '4/15/1999', 'V6T            ', '1', '992.2', 'Canada '],\n",
       "   ['396', '4/15/1999', 'T6W            ', '1', '857.1', 'Canada '],\n",
       "   ['580', '4/15/1999', 'V6H            ', '1', '734.7', 'Canada '],\n",
       "   ['609', '4/15/1999', 'T3C            ', '1', '778.8', 'Canada '],\n",
       "   ['2282', '3/15/1999', 'L5R            ', '1', '304.4', 'Canada '],\n",
       "   ['726', '6/10/2002', 'M6P            ', '1', '120.7', 'Canada '],\n",
       "   ['2352', '6/10/2002', 'R3V            ', '1', '367.4', 'Canada '],\n",
       "   ['2379', '6/10/2002', 'M4P            ', '1', '178.4', 'Canada '],\n",
       "   ['1174', '6/11/2002', 'R3Y            ', '1', '577.4', 'Canada '],\n",
       "   ['2054', '6/11/2002', 'L5P            ', '1', '545.9', 'Canada '],\n",
       "   ['964', '6/11/2002', 'L5N            ', '1', '330.7', 'Canada '],\n",
       "   ['2053', '6/11/2002', 'L5N            ', '1', '325.4', 'Canada '],\n",
       "   ['433', '6/11/2002', 'L5N            ', '1', '851.5', 'Canada '],\n",
       "   ['1114', '6/11/2002', 'L5N            ', '1', '167.9', 'Canada '],\n",
       "   ['396', '6/11/2002', 'H1B            ', '1', '892.2', 'Canada '],\n",
       "   ['910', '4/15/1999', 'K1K            ', '1', '414.7', 'Canada '],\n",
       "   ['922', '4/15/1999', 'R3G            ', '1', '472.4', 'Canada '],\n",
       "   ['1082', '4/15/1999', 'L4X            ', '1', '225.7', 'Canada '],\n",
       "   ['1112', '4/15/1999', 'R3B            ', '1', '116.5', 'Canada '],\n",
       "   ['1157', '4/15/1999', 'K1K            ', '1', '377.9', 'Canada '],\n",
       "   ['964', '6/13/2002', 'M4E            ', '1', '330.7', 'Canada '],\n",
       "   ['964', '6/13/2002', 'M5A            ', '1', '335.9', 'Canada '],\n",
       "   ['910', '6/13/2002', 'R3G            ', '1', '430.4', 'Canada '],\n",
       "   ['967', '6/13/2002', 'K1N            ', '1', '656.2', 'Canada '],\n",
       "   ['1215', '6/14/2002', 'M6R            ', '1', '356.9', 'Canada '],\n",
       "   ['1186', '6/14/2002', 'L5N            ', '1', '425.2', 'Canada '],\n",
       "   ...])]"
      ]
     },
     "execution_count": 50,
     "metadata": {},
     "output_type": "execute_result"
    }
   ],
   "source": [
    "paisesAgrupadosLista = paisesAgrupados.map(lambda x: (x[0], list(x[1])))\n",
    "paisesAgrupadosLista.collect()"
   ]
  },
  {
   "cell_type": "markdown",
   "metadata": {
    "application/vnd.databricks.v1+cell": {
     "cellMetadata": {},
     "inputWidgets": {},
     "nuid": "e4baed2d-5c81-49df-b60f-e2dc60c4ad93",
     "showTitle": false,
     "tableResultSettingsMap": {},
     "title": ""
    }
   },
   "source": [
    "### Actividad "
   ]
  },
  {
   "cell_type": "markdown",
   "metadata": {
    "application/vnd.databricks.v1+cell": {
     "cellMetadata": {},
     "inputWidgets": {},
     "nuid": "0e65becf-cdd8-4ee4-b4d6-2fc67fa4f846",
     "showTitle": false,
     "tableResultSettingsMap": {},
     "title": ""
    }
   },
   "source": [
    "- día 1: pan 3€, agua 2€, azúcar 1€, leche 2€, pan 4€\n",
    "- día 2: pan 1€, cereales 3€, agua 0.5€, leche 2€, filetes 5€\n",
    "- día 3: filetes 2€, cereales 1€"
   ]
  },
  {
   "cell_type": "markdown",
   "metadata": {
    "application/vnd.databricks.v1+cell": {
     "cellMetadata": {},
     "inputWidgets": {},
     "nuid": "5569d8ef-1e66-4aea-9653-c9faf752bb8e",
     "showTitle": false,
     "tableResultSettingsMap": {},
     "title": ""
    }
   },
   "source": [
    "Dada la siguiente lista de compra:"
   ]
  },
  {
   "cell_type": "code",
   "execution_count": 0,
   "metadata": {
    "application/vnd.databricks.v1+cell": {
     "cellMetadata": {},
     "inputWidgets": {},
     "nuid": "326ea9d4-e5fd-469f-9b83-06df95a9551b",
     "showTitle": false,
     "tableResultSettingsMap": {},
     "title": ""
    }
   },
   "outputs": [],
   "source": [
    "dia1 = [('pan',3), ('agua',2), ('azúcar',1), ('leche',2), ('pan',4)]\n",
    "dia2 = [('pan',1), ('cereales',3), ('agua',0.5), ('leche',2), ('filetes',5)]\n",
    "dia3 = [('filetes',2), ('cereales',1)]"
   ]
  },
  {
   "cell_type": "markdown",
   "metadata": {
    "application/vnd.databricks.v1+cell": {
     "cellMetadata": {},
     "inputWidgets": {},
     "nuid": "c7b289fb-2d12-44d0-9658-c9a04deda6d2",
     "showTitle": false,
     "tableResultSettingsMap": {},
     "title": ""
    }
   },
   "source": [
    "1. ¿Cómo obtenemos lo que hemos gastado en cada producto?\n",
    "2. ¿Y el gasto medio que hemos realizado en cada uno de ellos?"
   ]
  },
  {
   "cell_type": "code",
   "execution_count": 0,
   "metadata": {
    "application/vnd.databricks.v1+cell": {
     "cellMetadata": {},
     "inputWidgets": {},
     "nuid": "25a818f2-aec0-49bb-ae56-35752c56dc31",
     "showTitle": false,
     "tableResultSettingsMap": {},
     "title": ""
    }
   },
   "outputs": [],
   "source": [
    "# Respuestas aqui\n"
   ]
  },
  {
   "cell_type": "markdown",
   "metadata": {
    "application/vnd.databricks.v1+cell": {
     "cellMetadata": {},
     "inputWidgets": {},
     "nuid": "89499d0d-5675-43b8-abbf-8267d2540ad5",
     "showTitle": false,
     "tableResultSettingsMap": {},
     "title": ""
    }
   },
   "source": [
    "> Mejor `reduceByKey` que `groupByKey`  \n",
    "> Si el tipo de operación a realizar es posible mediante una operación de reduce, su rendimiento será una solución más eficiente. Más información en el artículo [Avoid Group By](https://databricks.gitbooks.io/databricks-spark-knowledge-base/content/best_practices/prefer_reducebykey_over_groupbykey.html)"
   ]
  },
  {
   "cell_type": "markdown",
   "metadata": {
    "application/vnd.databricks.v1+cell": {
     "cellMetadata": {},
     "inputWidgets": {},
     "nuid": "a454d74c-42c1-484c-9562-7b0f546072f2",
     "showTitle": false,
     "tableResultSettingsMap": {},
     "title": ""
    }
   },
   "source": [
    "### SortByKey"
   ]
  },
  {
   "cell_type": "markdown",
   "metadata": {
    "application/vnd.databricks.v1+cell": {
     "cellMetadata": {},
     "inputWidgets": {},
     "nuid": "3c43ccb6-67a4-4eb2-b8b8-c1fee9502364",
     "showTitle": false,
     "tableResultSettingsMap": {},
     "title": ""
    }
   },
   "source": [
    "`sortByKey` permite ordenar los datos a partir de una clave. Los pares de la misma máquina se ordenan primero por la misma clave, y luego los datos de las diferentes particiones se barajan.  \n",
    "Para ello crearemos una tupla, siendo el primer elemento un valor numérico por el cual ordenar, y el segundo el dato asociado.  \n",
    "Vamos a partir del ejemplo anterior para ordenar los paises por la cantidad de ventas:  \n"
   ]
  },
  {
   "cell_type": "code",
   "execution_count": 0,
   "metadata": {
    "application/vnd.databricks.v1+cell": {
     "cellMetadata": {},
     "inputWidgets": {},
     "nuid": "32dea661-1c68-414d-a731-704d96c213a3",
     "showTitle": false,
     "tableResultSettingsMap": {},
     "title": ""
    }
   },
   "outputs": [],
   "source": [
    "# Ejemplo anterior\n",
    "rdd = sc.textFile(\"pdi_sales.csv\")\n",
    "paisesUnidades = rdd.map(lambda x: (x.split(\";\")[-1].strip(), x.split(\";\")[3]))\n",
    "header = paisesUnidades.first()\n",
    "paisesUnidadesSinHeader = paisesUnidades.filter(lambda linea: linea != header)\n",
    "paisesTotalUnidades = paisesUnidadesSinHeader.reduceByKey(lambda a,b: int(a)+int(b))"
   ]
  },
  {
   "cell_type": "code",
   "execution_count": 0,
   "metadata": {
    "application/vnd.databricks.v1+cell": {
     "cellMetadata": {},
     "inputWidgets": {},
     "nuid": "ebb50390-1e78-4e4b-aae7-77acc3acee26",
     "showTitle": false,
     "tableResultSettingsMap": {},
     "title": ""
    }
   },
   "outputs": [
    {
     "output_type": "execute_result",
     "data": {
      "text/plain": [
       "[(244265, 'Germany'),\n",
       " (223463, 'Mexico'),\n",
       " (327730, 'France'),\n",
       " (77609, 'Canada')]"
      ]
     },
     "execution_count": 54,
     "metadata": {},
     "output_type": "execute_result"
    }
   ],
   "source": [
    "# Le damos la vuelta a la lista\n",
    "unidadesPaises = paisesTotalUnidades.map(lambda x: (x[1],x[0]))\n",
    "unidadesPaises.collect()"
   ]
  },
  {
   "cell_type": "markdown",
   "metadata": {
    "application/vnd.databricks.v1+cell": {
     "cellMetadata": {},
     "inputWidgets": {},
     "nuid": "65320296-61be-4e0c-a6c1-fe61e7306ac0",
     "showTitle": false,
     "tableResultSettingsMap": {},
     "title": ""
    }
   },
   "source": [
    "Y a continuación los ordenamos:"
   ]
  },
  {
   "cell_type": "code",
   "execution_count": 0,
   "metadata": {
    "application/vnd.databricks.v1+cell": {
     "cellMetadata": {},
     "inputWidgets": {},
     "nuid": "bc42dfbe-ca69-4ca5-b4b2-a23119ad6e79",
     "showTitle": false,
     "tableResultSettingsMap": {},
     "title": ""
    }
   },
   "outputs": [
    {
     "output_type": "execute_result",
     "data": {
      "text/plain": [
       "[(77609, 'Canada'),\n",
       " (223463, 'Mexico'),\n",
       " (244265, 'Germany'),\n",
       " (327730, 'France')]"
      ]
     },
     "execution_count": 55,
     "metadata": {},
     "output_type": "execute_result"
    }
   ],
   "source": [
    "unidadesPaisesOrdenadas = unidadesPaises.sortByKey()\n",
    "unidadesPaisesOrdenadas.collect()"
   ]
  },
  {
   "cell_type": "markdown",
   "metadata": {
    "application/vnd.databricks.v1+cell": {
     "cellMetadata": {},
     "inputWidgets": {},
     "nuid": "5af23987-956e-460f-856a-4df7a58ce4f6",
     "showTitle": false,
     "tableResultSettingsMap": {},
     "title": ""
    }
   },
   "source": [
    "Y comprobamos el resultado:"
   ]
  },
  {
   "cell_type": "code",
   "execution_count": 0,
   "metadata": {
    "application/vnd.databricks.v1+cell": {
     "cellMetadata": {},
     "inputWidgets": {},
     "nuid": "0148ec56-deb9-4bf4-8428-ee429f641d4e",
     "showTitle": false,
     "tableResultSettingsMap": {},
     "title": ""
    }
   },
   "outputs": [
    {
     "output_type": "execute_result",
     "data": {
      "text/plain": [
       "[(77609, 'Canada'),\n",
       " (223463, 'Mexico'),\n",
       " (244265, 'Germany'),\n",
       " (327730, 'France')]"
      ]
     },
     "execution_count": 56,
     "metadata": {},
     "output_type": "execute_result"
    }
   ],
   "source": [
    "[(77609, 'Canada'),\n",
    " (223463, 'Mexico'),\n",
    " (244265, 'Germany'),\n",
    " (327730, 'France')]"
   ]
  },
  {
   "cell_type": "markdown",
   "metadata": {
    "application/vnd.databricks.v1+cell": {
     "cellMetadata": {},
     "inputWidgets": {},
     "nuid": "eb1a6f79-a8b8-47c7-85c1-e3c4e75836e9",
     "showTitle": false,
     "tableResultSettingsMap": {},
     "title": ""
    }
   },
   "source": [
    "Si quisiéramos obtener los datos en orden descendente, le pasamos False a la transformación:"
   ]
  },
  {
   "cell_type": "code",
   "execution_count": 0,
   "metadata": {
    "application/vnd.databricks.v1+cell": {
     "cellMetadata": {},
     "inputWidgets": {},
     "nuid": "9ba8ec30-7f8a-4b93-bfc3-915e22cbd87c",
     "showTitle": false,
     "tableResultSettingsMap": {},
     "title": ""
    }
   },
   "outputs": [],
   "source": [
    "unidadesPaisesOrdenadasDesc = unidadesPaises.sortByKey(False)"
   ]
  },
  {
   "cell_type": "markdown",
   "metadata": {
    "application/vnd.databricks.v1+cell": {
     "cellMetadata": {},
     "inputWidgets": {},
     "nuid": "f5fae6a9-13d3-4e10-b824-218b1b507c79",
     "showTitle": false,
     "tableResultSettingsMap": {},
     "title": ""
    }
   },
   "source": [
    "### SortBy"
   ]
  },
  {
   "cell_type": "markdown",
   "metadata": {
    "application/vnd.databricks.v1+cell": {
     "cellMetadata": {},
     "inputWidgets": {},
     "nuid": "d7c02b97-4191-4207-9910-6031da3f4760",
     "showTitle": false,
     "tableResultSettingsMap": {},
     "title": ""
    }
   },
   "source": [
    "Mediante `sortBy` podemos ordenar los datos indicando nosotros la función de ordenación:"
   ]
  },
  {
   "cell_type": "code",
   "execution_count": 0,
   "metadata": {
    "application/vnd.databricks.v1+cell": {
     "cellMetadata": {},
     "inputWidgets": {},
     "nuid": "5afe71d8-7461-468a-b971-f070406cc030",
     "showTitle": false,
     "tableResultSettingsMap": {},
     "title": ""
    }
   },
   "outputs": [
    {
     "output_type": "execute_result",
     "data": {
      "text/plain": [
       "[('Canada', 77609),\n",
       " ('Mexico', 223463),\n",
       " ('Germany', 244265),\n",
       " ('France', 327730)]"
      ]
     },
     "execution_count": 59,
     "metadata": {},
     "output_type": "execute_result"
    }
   ],
   "source": [
    "paisesTotalUnidades.sortBy(lambda x: x[1]).collect()"
   ]
  },
  {
   "cell_type": "markdown",
   "metadata": {
    "application/vnd.databricks.v1+cell": {
     "cellMetadata": {},
     "inputWidgets": {},
     "nuid": "84b36eb9-50f0-417b-8211-27b6f0dade68",
     "showTitle": false,
     "tableResultSettingsMap": {},
     "title": ""
    }
   },
   "source": [
    "Si queremos ordenar descendentemente, le pasamos un segundo parámetro con valor `False` (indica si la ordenación es ascendente):"
   ]
  },
  {
   "cell_type": "code",
   "execution_count": 0,
   "metadata": {
    "application/vnd.databricks.v1+cell": {
     "cellMetadata": {},
     "inputWidgets": {},
     "nuid": "c9682793-0d34-442c-b91c-33145970802f",
     "showTitle": false,
     "tableResultSettingsMap": {},
     "title": ""
    }
   },
   "outputs": [
    {
     "output_type": "execute_result",
     "data": {
      "text/plain": [
       "[('France', 327730),\n",
       " ('Germany', 244265),\n",
       " ('Mexico', 223463),\n",
       " ('Canada', 77609)]"
      ]
     },
     "execution_count": 60,
     "metadata": {},
     "output_type": "execute_result"
    }
   ],
   "source": [
    "paisesTotalUnidades.sortBy(lambda x: x[1], False).collect()"
   ]
  },
  {
   "cell_type": "markdown",
   "metadata": {
    "application/vnd.databricks.v1+cell": {
     "cellMetadata": {},
     "inputWidgets": {},
     "nuid": "63ad5fee-56b7-420e-bc87-9d5fe77f28fa",
     "showTitle": false,
     "tableResultSettingsMap": {},
     "title": ""
    }
   },
   "source": [
    "> **Join**  \n",
    "> Aunque los RDD permitan realizar operaciones join, realmente este tipo de operaciones se realizan mediante DataFrames, por lo que omitimos su explicación en esta sesión y la dejamos para la siguiente."
   ]
  },
  {
   "cell_type": "markdown",
   "metadata": {
    "application/vnd.databricks.v1+cell": {
     "cellMetadata": {},
     "inputWidgets": {},
     "nuid": "6629f559-7fb8-4ed5-adc8-090bd1a8612c",
     "showTitle": false,
     "tableResultSettingsMap": {},
     "title": ""
    }
   },
   "source": [
    "### Particiones"
   ]
  },
  {
   "cell_type": "markdown",
   "metadata": {
    "application/vnd.databricks.v1+cell": {
     "cellMetadata": {},
     "inputWidgets": {},
     "nuid": "dbd3232f-4e4a-42bb-aa49-09ab11d961f0",
     "showTitle": false,
     "tableResultSettingsMap": {},
     "title": ""
    }
   },
   "source": [
    "Spark organiza los datos en particiones, considerándolas divisiones lógicas de los datos entre los nodos del clúster. Por ejemplo, si el almacenamiento se realiza en HDFS, cada partición se asigna a un bloque."
   ]
  },
  {
   "cell_type": "markdown",
   "metadata": {
    "application/vnd.databricks.v1+cell": {
     "cellMetadata": {},
     "inputWidgets": {},
     "nuid": "afa2e750-ca1d-4c9e-b9c2-2d8026ee0cec",
     "showTitle": false,
     "tableResultSettingsMap": {},
     "title": ""
    }
   },
   "source": [
    "Cada una de las particiones va a llevar asociada una tarea de ejecución, de manera que a más particiones, mayor paralelización del proceso."
   ]
  },
  {
   "cell_type": "markdown",
   "metadata": {
    "application/vnd.databricks.v1+cell": {
     "cellMetadata": {},
     "inputWidgets": {},
     "nuid": "0d00bf67-09ba-4ee9-acba-08c7294c9117",
     "showTitle": false,
     "tableResultSettingsMap": {},
     "title": ""
    }
   },
   "source": [
    "Veamos con código como podemos trabajar con las particiones:"
   ]
  },
  {
   "cell_type": "code",
   "execution_count": 0,
   "metadata": {
    "application/vnd.databricks.v1+cell": {
     "cellMetadata": {},
     "inputWidgets": {},
     "nuid": "0c0f8979-470f-452b-8eb0-9d5b90869c16",
     "showTitle": false,
     "tableResultSettingsMap": {},
     "title": ""
    }
   },
   "outputs": [
    {
     "output_type": "execute_result",
     "data": {
      "text/plain": [
       "8"
      ]
     },
     "execution_count": 62,
     "metadata": {},
     "output_type": "execute_result"
    }
   ],
   "source": [
    "rdd = sc.parallelize([1,1,2,2,3,3,4,5])\n",
    "rdd.getNumPartitions() # 4"
   ]
  },
  {
   "cell_type": "code",
   "execution_count": 0,
   "metadata": {
    "application/vnd.databricks.v1+cell": {
     "cellMetadata": {},
     "inputWidgets": {},
     "nuid": "1ccc2ed4-107d-462b-b455-01c2a2437ba8",
     "showTitle": false,
     "tableResultSettingsMap": {},
     "title": ""
    }
   },
   "outputs": [
    {
     "output_type": "execute_result",
     "data": {
      "text/plain": [
       "2"
      ]
     },
     "execution_count": 63,
     "metadata": {},
     "output_type": "execute_result"
    }
   ],
   "source": [
    "rdd = sc.parallelize([1,1,2,2,3,3,4,5], 2)\n",
    "rdd.getNumPartitions() # 2"
   ]
  },
  {
   "cell_type": "code",
   "execution_count": 0,
   "metadata": {
    "application/vnd.databricks.v1+cell": {
     "cellMetadata": {},
     "inputWidgets": {},
     "nuid": "f4e83124-15af-4c61-8b39-8c8cc7fb83e9",
     "showTitle": false,
     "tableResultSettingsMap": {},
     "title": ""
    }
   },
   "outputs": [
    {
     "output_type": "execute_result",
     "data": {
      "text/plain": [
       "2"
      ]
     },
     "execution_count": 64,
     "metadata": {},
     "output_type": "execute_result"
    }
   ],
   "source": [
    "rddE = sc.textFile(\"empleados.txt\")\n",
    "rddE.getNumPartitions() # 2"
   ]
  },
  {
   "cell_type": "code",
   "execution_count": 0,
   "metadata": {
    "application/vnd.databricks.v1+cell": {
     "cellMetadata": {},
     "inputWidgets": {},
     "nuid": "0dd7cb22-2853-410a-8a4a-13c24e42d0c4",
     "showTitle": false,
     "tableResultSettingsMap": {},
     "title": ""
    }
   },
   "outputs": [
    {
     "output_type": "execute_result",
     "data": {
      "text/plain": [
       "3"
      ]
     },
     "execution_count": 65,
     "metadata": {},
     "output_type": "execute_result"
    }
   ],
   "source": [
    "rddE = sc.textFile(\"empleados.txt\", 3)\n",
    "rddE.getNumPartitions() # 3"
   ]
  },
  {
   "cell_type": "markdown",
   "metadata": {
    "application/vnd.databricks.v1+cell": {
     "cellMetadata": {},
     "inputWidgets": {},
     "nuid": "7ff61e2a-e506-41bf-bae3-0f82810e9f80",
     "showTitle": false,
     "tableResultSettingsMap": {},
     "title": ""
    }
   },
   "source": [
    "La mayoría de operaciones / transformaciones / acciones que trabajan con los datos admiten un parámetro extra indicando la cantidad de particiones con las que queremos trabajar."
   ]
  },
  {
   "cell_type": "markdown",
   "metadata": {
    "application/vnd.databricks.v1+cell": {
     "cellMetadata": {},
     "inputWidgets": {},
     "nuid": "009ebcae-cec4-4450-b9bc-6f32f652cff6",
     "showTitle": false,
     "tableResultSettingsMap": {},
     "title": ""
    }
   },
   "source": [
    "### MapPartitions"
   ]
  },
  {
   "cell_type": "markdown",
   "metadata": {
    "application/vnd.databricks.v1+cell": {
     "cellMetadata": {},
     "inputWidgets": {},
     "nuid": "a9bd6815-582b-4506-8b1f-0edfd9ea3085",
     "showTitle": false,
     "tableResultSettingsMap": {},
     "title": ""
    }
   },
   "source": [
    "A diferencia de la transformación map que se invoca por cada elemento del RDD/DataSet, mapPartitions se llama por cada partición."
   ]
  },
  {
   "cell_type": "markdown",
   "metadata": {
    "application/vnd.databricks.v1+cell": {
     "cellMetadata": {},
     "inputWidgets": {},
     "nuid": "35de095a-0212-468e-82ef-c5c20ef0d4d5",
     "showTitle": false,
     "tableResultSettingsMap": {},
     "title": ""
    }
   },
   "source": [
    "La función que recibe como parámetro recogerá como entrada un iterador con los elementos de cada partición:"
   ]
  },
  {
   "cell_type": "code",
   "execution_count": 0,
   "metadata": {
    "application/vnd.databricks.v1+cell": {
     "cellMetadata": {},
     "inputWidgets": {},
     "nuid": "6e8d4d4c-79a1-41b2-b698-372bf901d48a",
     "showTitle": false,
     "tableResultSettingsMap": {},
     "title": ""
    }
   },
   "outputs": [],
   "source": [
    "rdd = sc.parallelize([1,1,2,2,3,3,4,5], 2)"
   ]
  },
  {
   "cell_type": "code",
   "execution_count": 0,
   "metadata": {
    "application/vnd.databricks.v1+cell": {
     "cellMetadata": {},
     "inputWidgets": {},
     "nuid": "1fc8bc4b-35b8-4d62-a031-2571dcdb46a6",
     "showTitle": false,
     "tableResultSettingsMap": {},
     "title": ""
    }
   },
   "outputs": [
    {
     "output_type": "execute_result",
     "data": {
      "text/plain": [
       "[6, 15]"
      ]
     },
     "execution_count": 68,
     "metadata": {},
     "output_type": "execute_result"
    }
   ],
   "source": [
    "def f(iterator): yield sum(iterator)\n",
    "resultadoRdd = rdd.mapPartitions(f)\n",
    "resultadoRdd.collect()  # [6, 15]"
   ]
  },
  {
   "cell_type": "code",
   "execution_count": 0,
   "metadata": {
    "application/vnd.databricks.v1+cell": {
     "cellMetadata": {},
     "inputWidgets": {},
     "nuid": "90f0b5ba-5b18-4874-83ab-17074553c156",
     "showTitle": false,
     "tableResultSettingsMap": {},
     "title": ""
    }
   },
   "outputs": [
    {
     "output_type": "execute_result",
     "data": {
      "text/plain": [
       "[[1, 1, 2, 2], [3, 3, 4, 5]]"
      ]
     },
     "execution_count": 69,
     "metadata": {},
     "output_type": "execute_result"
    }
   ],
   "source": [
    "resultadoRdd2 = rdd.mapPartitions(lambda iterator: [list(iterator)])\n",
    "resultadoRdd2.collect() # [[1, 1, 2, 2], [3, 3, 4, 5]]"
   ]
  },
  {
   "cell_type": "markdown",
   "metadata": {
    "application/vnd.databricks.v1+cell": {
     "cellMetadata": {},
     "inputWidgets": {},
     "nuid": "710bcee6-3994-4d8b-921d-0fd71be79db2",
     "showTitle": false,
     "tableResultSettingsMap": {},
     "title": ""
    }
   },
   "source": [
    "En el ejemplo, ha dividido los datos en dos particiones, la primera con [1, 1, 2, 2] y la otra con [3, 3, 4, 5], y de ahí el resultado de sumar sus elementos es [6, 15]."
   ]
  },
  {
   "cell_type": "markdown",
   "metadata": {
    "application/vnd.databricks.v1+cell": {
     "cellMetadata": {},
     "inputWidgets": {},
     "nuid": "ddb02967-820e-4ae3-a14f-866daed76496",
     "showTitle": false,
     "tableResultSettingsMap": {},
     "title": ""
    }
   },
   "source": [
    "### mapPartitionsWithIndex"
   ]
  },
  {
   "cell_type": "markdown",
   "metadata": {
    "application/vnd.databricks.v1+cell": {
     "cellMetadata": {},
     "inputWidgets": {},
     "nuid": "8633fabb-be23-41e2-8535-585c8382acf9",
     "showTitle": false,
     "tableResultSettingsMap": {},
     "title": ""
    }
   },
   "source": [
    "De forma similar al caso anterior, pero ahora [mapPartitionsWithIndex](https://spark.apache.org/docs/latest/api/python/reference/api/pyspark.RDD.mapPartitionsWithIndex.html) recibe una función cuyos parámetros son el índice de la partición y el iterador con los datos de la misma:"
   ]
  },
  {
   "cell_type": "code",
   "execution_count": 0,
   "metadata": {
    "application/vnd.databricks.v1+cell": {
     "cellMetadata": {},
     "inputWidgets": {},
     "nuid": "c4c60e85-0673-4eca-a0f3-390e7ba4b5c7",
     "showTitle": false,
     "tableResultSettingsMap": {},
     "title": ""
    }
   },
   "outputs": [
    {
     "output_type": "execute_result",
     "data": {
      "text/plain": [
       "[(0, [1, 1, 2, 2]), (1, [3, 3, 4, 5])]"
      ]
     },
     "execution_count": 70,
     "metadata": {},
     "output_type": "execute_result"
    }
   ],
   "source": [
    "def mpwi(indice, iterador):\n",
    "    return [(indice, list(iterador))]\n",
    "\n",
    "resultadoRdd = rdd.mapPartitionsWithIndex(mpwi)\n",
    "resultadoRdd.collect()\n",
    "# [(0, [1, 1, 2, 2]), (1, [3, 3, 4, 5])]"
   ]
  },
  {
   "cell_type": "markdown",
   "metadata": {
    "application/vnd.databricks.v1+cell": {
     "cellMetadata": {},
     "inputWidgets": {},
     "nuid": "70f6652c-a962-4f1c-8a66-b41fc65a15e7",
     "showTitle": false,
     "tableResultSettingsMap": {},
     "title": ""
    }
   },
   "source": [
    "### Modificando las particiones"
   ]
  },
  {
   "cell_type": "markdown",
   "metadata": {
    "application/vnd.databricks.v1+cell": {
     "cellMetadata": {},
     "inputWidgets": {},
     "nuid": "e4c53d73-453c-4e75-92d7-96d4ddd333b7",
     "showTitle": false,
     "tableResultSettingsMap": {},
     "title": ""
    }
   },
   "source": [
    "Podemos modificar la cantidad de particiones mediante dos transformaciones *wide*: `coalesce` y `repartition`."
   ]
  },
  {
   "cell_type": "markdown",
   "metadata": {
    "application/vnd.databricks.v1+cell": {
     "cellMetadata": {},
     "inputWidgets": {},
     "nuid": "c3859a11-a3a7-48b0-b92f-1957c2bec966",
     "showTitle": false,
     "tableResultSettingsMap": {},
     "title": ""
    }
   },
   "source": [
    "Mediante [`coalesce`](https://spark.apache.org/docs/latest/api/python/reference/api/pyspark.RDD.coalesce.html) podemos obtener un nuevo RDD con la cantidad de particiones a reducir:"
   ]
  },
  {
   "cell_type": "code",
   "execution_count": 0,
   "metadata": {
    "application/vnd.databricks.v1+cell": {
     "cellMetadata": {},
     "inputWidgets": {},
     "nuid": "409a8d29-473a-46f0-b2ed-68b67e13c249",
     "showTitle": false,
     "tableResultSettingsMap": {},
     "title": ""
    }
   },
   "outputs": [
    {
     "output_type": "execute_result",
     "data": {
      "text/plain": [
       "3"
      ]
     },
     "execution_count": 72,
     "metadata": {},
     "output_type": "execute_result"
    }
   ],
   "source": [
    "rdd = sc.parallelize([1,1,2,2,3,3,4,5], 3)\n",
    "rdd.getNumPartitions() # 3"
   ]
  },
  {
   "cell_type": "code",
   "execution_count": 0,
   "metadata": {
    "application/vnd.databricks.v1+cell": {
     "cellMetadata": {},
     "inputWidgets": {},
     "nuid": "eb302f82-f67f-451d-a84d-d0f9a713a6bb",
     "showTitle": false,
     "tableResultSettingsMap": {},
     "title": ""
    }
   },
   "outputs": [
    {
     "output_type": "execute_result",
     "data": {
      "text/plain": [
       "1"
      ]
     },
     "execution_count": 73,
     "metadata": {},
     "output_type": "execute_result"
    }
   ],
   "source": [
    "rdd1p = rdd.coalesce(1)\n",
    "rdd1p.getNumPartitions() # 2"
   ]
  },
  {
   "cell_type": "markdown",
   "metadata": {
    "application/vnd.databricks.v1+cell": {
     "cellMetadata": {},
     "inputWidgets": {},
     "nuid": "d2da36cf-0e5f-4d47-8095-3206e2f984f4",
     "showTitle": false,
     "tableResultSettingsMap": {},
     "title": ""
    }
   },
   "source": [
    "En cambio, mediante repartition podemos obtener un nuevo RDD con la cantidad exacta de particiones deseadas (al reducir las particiones, repartition realiza un shuffle para redistribuir los datos, por lo tanto, si queremos reducir la cantidad de particiones, es más eficiente utilizar *coalesce*):"
   ]
  },
  {
   "cell_type": "code",
   "execution_count": 0,
   "metadata": {
    "application/vnd.databricks.v1+cell": {
     "cellMetadata": {},
     "inputWidgets": {},
     "nuid": "379b81b2-aef3-4748-ae9d-a8b699352de7",
     "showTitle": false,
     "tableResultSettingsMap": {},
     "title": ""
    }
   },
   "outputs": [
    {
     "output_type": "execute_result",
     "data": {
      "text/plain": [
       "3"
      ]
     },
     "execution_count": 74,
     "metadata": {},
     "output_type": "execute_result"
    }
   ],
   "source": [
    "rdd = sc.parallelize([1,1,2,2,3,3,4,5], 3)\n",
    "rdd.getNumPartitions() # 3"
   ]
  },
  {
   "cell_type": "code",
   "execution_count": 0,
   "metadata": {
    "application/vnd.databricks.v1+cell": {
     "cellMetadata": {},
     "inputWidgets": {},
     "nuid": "66ce94b2-1b88-4575-883f-61be2d60c665",
     "showTitle": false,
     "tableResultSettingsMap": {},
     "title": ""
    }
   },
   "outputs": [
    {
     "output_type": "execute_result",
     "data": {
      "text/plain": [
       "2"
      ]
     },
     "execution_count": 75,
     "metadata": {},
     "output_type": "execute_result"
    }
   ],
   "source": [
    "rdd2p = rdd.repartition(2)\n",
    "rdd2p.getNumPartitions() # 2"
   ]
  },
  {
   "cell_type": "markdown",
   "metadata": {
    "application/vnd.databricks.v1+cell": {
     "cellMetadata": {},
     "inputWidgets": {},
     "nuid": "00bde18b-1350-456f-b100-a58b0aec43a2",
     "showTitle": false,
     "tableResultSettingsMap": {},
     "title": ""
    }
   },
   "source": [
    "### Actividades"
   ]
  },
  {
   "cell_type": "markdown",
   "metadata": {
    "application/vnd.databricks.v1+cell": {
     "cellMetadata": {},
     "inputWidgets": {},
     "nuid": "52c8d58e-cc78-4c57-a6c6-17df570b39fe",
     "showTitle": false,
     "tableResultSettingsMap": {},
     "title": ""
    }
   },
   "source": [
    "En las siguientes actividades vamos a familiarizarnos con el uso de Spark con RDD y las diferentes acciones y transformaciones disponibles."
   ]
  },
  {
   "cell_type": "markdown",
   "metadata": {
    "application/vnd.databricks.v1+cell": {
     "cellMetadata": {},
     "inputWidgets": {},
     "nuid": "fb118a52-873b-40af-aedc-516bd431723c",
     "showTitle": false,
     "tableResultSettingsMap": {},
     "title": ""
    }
   },
   "source": [
    "**1.** A partir de la lista siguiente ['Alicante','Elche','Valencia','Madrid','Barcelona','Bilbao','Sevilla']:"
   ]
  },
  {
   "cell_type": "markdown",
   "metadata": {
    "application/vnd.databricks.v1+cell": {
     "cellMetadata": {},
     "inputWidgets": {},
     "nuid": "4919c96e-2d49-4575-8e1c-04a3282fd4f6",
     "showTitle": false,
     "tableResultSettingsMap": {},
     "title": ""
    }
   },
   "source": [
    "a. Almacena sólo las ciudades que tengan la letra e en su nombre y muéstralas."
   ]
  },
  {
   "cell_type": "markdown",
   "metadata": {
    "application/vnd.databricks.v1+cell": {
     "cellMetadata": {},
     "inputWidgets": {},
     "nuid": "4a11a4a9-eec4-431c-bdd1-38cda40da357",
     "showTitle": false,
     "tableResultSettingsMap": {},
     "title": ""
    }
   },
   "source": [
    "En Python, para saber si una cadena contiene una letra puedes usar el operador in:"
   ]
  },
  {
   "cell_type": "code",
   "execution_count": 0,
   "metadata": {
    "application/vnd.databricks.v1+cell": {
     "cellMetadata": {},
     "inputWidgets": {},
     "nuid": "0bc11fe9-b7d1-4588-b70d-8621e431d127",
     "showTitle": false,
     "tableResultSettingsMap": {},
     "title": ""
    }
   },
   "outputs": [
    {
     "output_type": "stream",
     "name": "stdout",
     "output_type": "stream",
     "text": [
      "True\nFalse\nTrue\nFalse\n"
     ]
    }
   ],
   "source": [
    "nombre = \"Aitor Medrano\"\n",
    "print(\"i\" in nombre) # True\n",
    "print(\"u\" in nombre) # False\n",
    "print(\"Med\" in nombre) # True\n",
    "print(\"ai\" in nombre) # False (case sensitive)"
   ]
  },
  {
   "cell_type": "markdown",
   "metadata": {
    "application/vnd.databricks.v1+cell": {
     "cellMetadata": {},
     "inputWidgets": {},
     "nuid": "a052fee0-4b39-40e9-a58f-9d92140737e4",
     "showTitle": false,
     "tableResultSettingsMap": {},
     "title": ""
    }
   },
   "source": [
    "b. Muestra las ciudades que tienen la letra e y el número de veces que aparece en cada nombre. Por ejemplo ('Elche', 2)."
   ]
  },
  {
   "cell_type": "markdown",
   "metadata": {
    "application/vnd.databricks.v1+cell": {
     "cellMetadata": {},
     "inputWidgets": {},
     "nuid": "eb5e1e87-2059-48ce-ad06-8f0e226293d5",
     "showTitle": false,
     "tableResultSettingsMap": {},
     "title": ""
    }
   },
   "source": [
    "c. Averigua las ciudades que solo tengan una única e."
   ]
  },
  {
   "cell_type": "markdown",
   "metadata": {
    "application/vnd.databricks.v1+cell": {
     "cellMetadata": {},
     "inputWidgets": {},
     "nuid": "fba0a98b-b1b3-4ecf-8a00-26125767b96d",
     "showTitle": false,
     "tableResultSettingsMap": {},
     "title": ""
    }
   },
   "source": [
    "d. Nos han enviado una nueva lista pero no han separado bien las ciudades. Reorganiza la lista y colócalas correctamente, y cuenta las apariciones de la letra e de cada ciudad. ciudades_mal = [['Alicante.Elche','Valencia','Madrid.Barcelona','Bilbao.Sevilla'],['Murcia','San Sebastián','Melilla.Aspe']]"
   ]
  },
  {
   "cell_type": "markdown",
   "metadata": {
    "application/vnd.databricks.v1+cell": {
     "cellMetadata": {},
     "inputWidgets": {},
     "nuid": "0415fcb4-d548-4792-bc90-cbb962e92afc",
     "showTitle": false,
     "tableResultSettingsMap": {},
     "title": ""
    }
   },
   "source": [
    "**2.** Dada una lista de elementos desordenados y algunos repetidos, devolver una muestra de 5 elementos, que estén en la lista, sin repetir y ordenados descendentemente."
   ]
  },
  {
   "cell_type": "code",
   "execution_count": 0,
   "metadata": {
    "application/vnd.databricks.v1+cell": {
     "cellMetadata": {},
     "inputWidgets": {},
     "nuid": "18ea469c-7736-4405-bacd-78372aa3915f",
     "showTitle": false,
     "tableResultSettingsMap": {},
     "title": ""
    }
   },
   "outputs": [],
   "source": [
    "lista = 4,6,34,7,9,2,3,4,4,21,4,6,8,9,7,8,5,4,3,22,34,56,98"
   ]
  },
  {
   "cell_type": "markdown",
   "metadata": {
    "application/vnd.databricks.v1+cell": {
     "cellMetadata": {},
     "inputWidgets": {},
     "nuid": "b29b9e05-125a-475c-a7c8-1f905d32d87b",
     "showTitle": false,
     "tableResultSettingsMap": {},
     "title": ""
    }
   },
   "source": [
    "a. Selecciona el elemento mayor de la lista resultante.  \n",
    "b. Muestra los dos elementos menores."
   ]
  },
  {
   "cell_type": "markdown",
   "metadata": {
    "application/vnd.databricks.v1+cell": {
     "cellMetadata": {},
     "inputWidgets": {},
     "nuid": "b535f0d4-da7b-4f2d-b44a-ec6b73f9c732",
     "showTitle": false,
     "tableResultSettingsMap": {},
     "title": ""
    }
   },
   "source": [
    "**3.** A partir de las siguientes listas:"
   ]
  },
  {
   "cell_type": "markdown",
   "metadata": {
    "application/vnd.databricks.v1+cell": {
     "cellMetadata": {},
     "inputWidgets": {},
     "nuid": "23298a34-3680-44b8-ba4a-1425a0f78b30",
     "showTitle": false,
     "tableResultSettingsMap": {},
     "title": ""
    }
   },
   "source": [
    "- Inglés: hello, table, angel, cat, dog, animal, chocolate, dark, doctor, hospital, computer.\n",
    "- Español: hola, mesa, angel, gato, perro, animal, chocolate, oscuro, doctor, hospital, ordenador."
   ]
  },
  {
   "cell_type": "markdown",
   "metadata": {
    "application/vnd.databricks.v1+cell": {
     "cellMetadata": {},
     "inputWidgets": {},
     "nuid": "255bed30-27e0-438b-8a90-204fea45ea18",
     "showTitle": false,
     "tableResultSettingsMap": {},
     "title": ""
    }
   },
   "source": [
    "Una vez creado un RDD con tuplas de palabras y su traducción (puedes usar zip para unir dos listas):"
   ]
  },
  {
   "cell_type": "markdown",
   "metadata": {
    "application/vnd.databricks.v1+cell": {
     "cellMetadata": {},
     "inputWidgets": {},
     "nuid": "cb3c8995-4c4e-41ec-b776-6b4261852cec",
     "showTitle": false,
     "tableResultSettingsMap": {},
     "title": ""
    }
   },
   "source": [
    "[('hello', 'hola'),\n",
    " ('table', 'mesa'),\n",
    " ('angel', 'angel'),\n",
    " ('cat', 'gato')..."
   ]
  },
  {
   "cell_type": "markdown",
   "metadata": {
    "application/vnd.databricks.v1+cell": {
     "cellMetadata": {},
     "inputWidgets": {},
     "nuid": "966ea589-5364-4e7b-bc9c-53abba8a302e",
     "showTitle": false,
     "tableResultSettingsMap": {},
     "title": ""
    }
   },
   "source": [
    "Averigua:  "
   ]
  },
  {
   "cell_type": "markdown",
   "metadata": {
    "application/vnd.databricks.v1+cell": {
     "cellMetadata": {},
     "inputWidgets": {},
     "nuid": "c8de908c-d8b9-48f7-ab5a-3ee0283cbaf8",
     "showTitle": false,
     "tableResultSettingsMap": {},
     "title": ""
    }
   },
   "source": [
    "a. Palabras que se escriben igual en inglés y en español.  \n",
    "b. Palabras que en español son distintas que en inglés.  \n",
    "c. Obtén una única lista con las palabras en ambos idiomas que son distintas entre ellas (['hello', 'hola', 'table', ...).  \n",
    "d. Haz dos grupos con todas las palabras, uno con las que empiezan por vocal y otro con las que empiecen por consonante.  "
   ]
  },
  {
   "cell_type": "markdown",
   "metadata": {
    "application/vnd.databricks.v1+cell": {
     "cellMetadata": {},
     "inputWidgets": {},
     "nuid": "7ffd0947-4e39-4d00-b07c-081a9514fb34",
     "showTitle": false,
     "tableResultSettingsMap": {},
     "title": ""
    }
   },
   "source": [
    "**4.** A partir del fichero de [El Quijote](https://tajamar365.sharepoint.com/:t:/s/3405-MasterIA2024-2025/ERkcxiK7gt5Fr2KDytLuTXYBI3LdxtCa6IWeNvOTHFxbYQ?e=hCkatQ):"
   ]
  },
  {
   "cell_type": "markdown",
   "metadata": {
    "application/vnd.databricks.v1+cell": {
     "cellMetadata": {},
     "inputWidgets": {},
     "nuid": "96eeb60a-db89-46da-b7e5-a7f54bba74d6",
     "showTitle": false,
     "tableResultSettingsMap": {},
     "title": ""
    }
   },
   "source": [
    "a. Crear un RDD a partir del fichero y crea una lista con todas las palabras del documento.  \n",
    "b. ¿Cuantas veces aparece la palabra Dulcinea (independientemente de si está en mayúsculas o minúsculas)? ¿Y Rocinante? (86 y 120 ocurrencias respectivamente)  \n",
    "c. Devuelve una lista ordenada según el número de veces que sale cada palabra de más a menos (las primeras ocurrencias deben ser [('que', 10731), ('de', 9035), ('y', 8668), ('la', 5014), ...).  "
   ]
  },
  {
   "cell_type": "markdown",
   "metadata": {
    "application/vnd.databricks.v1+cell": {
     "cellMetadata": {},
     "inputWidgets": {},
     "nuid": "5e6071cb-2288-46fd-bd33-a6a5a7d6121d",
     "showTitle": false,
     "tableResultSettingsMap": {},
     "title": ""
    }
   },
   "source": [
    "**5.** Dada una cadena que contiene una lista de nombres Juan, Jimena, Luis, Cristian, Laura, Lorena, Cristina, Jacobo, Jorge, una vez transformada la cadena en una lista y luego en un RDD:  \n",
    "a. Agrúpalos según su inicial, de manera que tengamos tuplas formadas por la letra inicial y todos los nombres que comienzan por dicha letra:"
   ]
  },
  {
   "cell_type": "markdown",
   "metadata": {
    "application/vnd.databricks.v1+cell": {
     "cellMetadata": {},
     "inputWidgets": {},
     "nuid": "6d341fc0-e9df-4cfb-a31c-a177a2c11463",
     "showTitle": false,
     "tableResultSettingsMap": {},
     "title": ""
    }
   },
   "source": [
    "[('J', ['Juan', 'Jimena', 'Jacobo', 'Jorge']),\n",
    "('L', ['Luis', 'Laura', 'Lorena']),\n",
    "('C', ['Cristian', 'Cristina'])]"
   ]
  },
  {
   "cell_type": "markdown",
   "metadata": {
    "application/vnd.databricks.v1+cell": {
     "cellMetadata": {},
     "inputWidgets": {},
     "nuid": "e415e48c-8d44-41a5-9aea-6f15ea5e4fd2",
     "showTitle": false,
     "tableResultSettingsMap": {},
     "title": ""
    }
   },
   "source": [
    "b. De la lista original, obtén una muestra de 5 elementos sin repetir valores."
   ]
  },
  {
   "cell_type": "markdown",
   "metadata": {
    "application/vnd.databricks.v1+cell": {
     "cellMetadata": {},
     "inputWidgets": {},
     "nuid": "0dacea35-d80b-439e-bf24-394dbf711304",
     "showTitle": false,
     "tableResultSettingsMap": {},
     "title": ""
    }
   },
   "source": [
    "c. Devuelve una muestra de datos de aproximadamente la mitad de registros que la lista original con datos que pudieran llegar a repetirse."
   ]
  },
  {
   "cell_type": "markdown",
   "metadata": {
    "application/vnd.databricks.v1+cell": {
     "cellMetadata": {},
     "inputWidgets": {},
     "nuid": "2dfeebb2-f133-4786-9eed-928253bb636f",
     "showTitle": false,
     "tableResultSettingsMap": {},
     "title": ""
    }
   },
   "source": [
    "**6.** En una red social sobre cine, tenemos un fichero [ratings.txt](https://tajamar365.sharepoint.com/:t:/s/3405-MasterIA2024-2025/EaYOt-hRpDBIl2DrlGnLx38Bqolu9xt7f4weY1We7jrkCQ?e=EwltPA) compuesta por el código de la película, el código del usuario, la calificación asignada y el timestamp de la votación con el siguiente formato:"
   ]
  },
  {
   "cell_type": "markdown",
   "metadata": {
    "application/vnd.databricks.v1+cell": {
     "cellMetadata": {},
     "inputWidgets": {},
     "nuid": "f6799459-9f2d-4088-8720-3ba7331a8d68",
     "showTitle": false,
     "tableResultSettingsMap": {},
     "title": ""
    }
   },
   "source": [
    "1::1193::5::978300760\n",
    "1::661::3::978302109\n",
    "1::914::3::978301968"
   ]
  },
  {
   "cell_type": "markdown",
   "metadata": {
    "application/vnd.databricks.v1+cell": {
     "cellMetadata": {},
     "inputWidgets": {},
     "nuid": "cd724e07-4daa-4e34-8677-9794663e523a",
     "showTitle": false,
     "tableResultSettingsMap": {},
     "title": ""
    }
   },
   "source": [
    "Se pide crear dos script en Python, así como los comandos necesarios para ejecutarlos (mediante spark-submit) para:"
   ]
  },
  {
   "cell_type": "markdown",
   "metadata": {
    "application/vnd.databricks.v1+cell": {
     "cellMetadata": {},
     "inputWidgets": {},
     "nuid": "20147f74-d210-4c60-aea7-3d0a64b23e20",
     "showTitle": false,
     "tableResultSettingsMap": {},
     "title": ""
    }
   },
   "source": [
    "a. Obtener para cada película, la nota media de todas sus votaciones.  \n",
    "b. Películas cuya nota media sea superior a 3."
   ]
  },
  {
   "cell_type": "markdown",
   "metadata": {
    "application/vnd.databricks.v1+cell": {
     "cellMetadata": {},
     "inputWidgets": {},
     "nuid": "204a5b63-f498-4e2a-ba2d-d21f6278ac67",
     "showTitle": false,
     "tableResultSettingsMap": {},
     "title": ""
    }
   },
   "source": [
    "# Proyecto"
   ]
  },
  {
   "cell_type": "markdown",
   "metadata": {
    "application/vnd.databricks.v1+cell": {
     "cellMetadata": {},
     "inputWidgets": {},
     "nuid": "ccd32600-1412-41e5-8dae-e437c54aa322",
     "showTitle": false,
     "tableResultSettingsMap": {},
     "title": ""
    }
   },
   "source": [
    "A continuación planteamos el siguiente proyecto para realizar en clase:"
   ]
  },
  {
   "cell_type": "markdown",
   "metadata": {
    "application/vnd.databricks.v1+cell": {
     "cellMetadata": {},
     "inputWidgets": {},
     "nuid": "3d9c37d2-0a23-479f-8b49-4078abbc7f0d",
     "showTitle": false,
     "tableResultSettingsMap": {},
     "title": ""
    }
   },
   "source": [
    "**1.** Tenemos las calificaciones de las asignaturas de [matemáticas](https://tajamar365.sharepoint.com/:t:/s/3405-MasterIA2024-2025/EWlo3ON8o4dLjZAmnJa4E2gBG2zbPGb2_kx0UJaqNiMzCA?e=8XRr7X), [inglés](https://tajamar365.sharepoint.com/:t:/s/3405-MasterIA2024-2025/EWbI5WURy9RMk5kPpMVU6HoBIKSpzjWjdSz982dWS3nboQ?e=C5TONj) y [física](https://tajamar365.sharepoint.com/:t:/s/3405-MasterIA2024-2025/EYNDTyKO2UdOt2t3GPKCZ0UBt9-lasNRDclinzD-dCleBw?e=l9MIiu) de los alumnos del instituto en 3 documentos de texto. A partir de estos ficheros:"
   ]
  },
  {
   "cell_type": "markdown",
   "metadata": {
    "application/vnd.databricks.v1+cell": {
     "cellMetadata": {},
     "inputWidgets": {},
     "nuid": "c56eb571-e416-41f1-bac5-cadb80ee6dd5",
     "showTitle": false,
     "tableResultSettingsMap": {},
     "title": ""
    }
   },
   "source": [
    "a. Crea 3 RDD de pares, uno para cada asignatura, con los alumnos y sus notas  \n",
    "b. Crea un solo RDD con todas las notas  \n",
    "c. ¿Cuál es la nota más baja que ha tenido cada alumno?  \n",
    "d. ¿Cuál es la nota media de cada alumno?  \n",
    "e. ¿Cuantos estudiantes suspende cada asignatura?  \n",
    "f. ¿En qué asignatura suspende más gente?  \n",
    "g. Total de notables o sobresalientes por alumno, es decir, cantidad de notas superiores o igual a 7.  \n",
    "h. ¿Qué alumno no se ha presentado a inglés?  \n",
    "i. ¿A cuántas asignaturas se ha presentado cada alumno?  \n",
    "j. Obtén un RDD con cada alumno con sus notas\n"
   ]
  },
  {
   "cell_type": "code",
   "execution_count": 0,
   "metadata": {
    "application/vnd.databricks.v1+cell": {
     "cellMetadata": {},
     "inputWidgets": {},
     "nuid": "5811f38d-9eab-4b5c-a88f-5b817d8bc974",
     "showTitle": false,
     "tableResultSettingsMap": {},
     "title": ""
    }
   },
   "outputs": [],
   "source": []
  }
 ],
 "metadata": {
  "application/vnd.databricks.v1+notebook": {
   "dashboards": [],
   "environmentMetadata": null,
   "language": "python",
   "notebookMetadata": {
    "pythonIndentUnit": 2
   },
   "notebookName": "1",
   "widgets": {}
  },
  "kernelspec": {
   "display_name": "Python 3 (ipykernel)",
   "language": "python",
   "name": "python3"
  },
  "language_info": {
   "codemirror_mode": {
    "name": "ipython",
    "version": 3
   },
   "file_extension": ".py",
   "mimetype": "text/x-python",
   "name": "python",
   "nbconvert_exporter": "python",
   "pygments_lexer": "ipython3",
   "version": "3.12.7"
  }
 },
 "nbformat": 4,
 "nbformat_minor": 0
}
