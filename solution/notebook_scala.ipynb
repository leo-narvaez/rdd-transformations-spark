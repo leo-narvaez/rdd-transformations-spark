{
 "cells": [
  {
   "cell_type": "markdown",
   "metadata": {
    "application/vnd.databricks.v1+cell": {
     "cellMetadata": {},
     "inputWidgets": {},
     "nuid": "a8668228-2ef0-4cd6-bf4b-69a4d4eaffeb",
     "showTitle": false,
     "tableResultSettingsMap": {},
     "title": ""
    }
   },
   "source": [
    "## Ejemplo con Scala\n",
    "Ahora siguiendo los ejemplos anteriores con Spark, usaremos Scala para practicar con `elquijote.txt`\n"
   ]
  },
  {
   "cell_type": "markdown",
   "metadata": {
    "application/vnd.databricks.v1+cell": {
     "cellMetadata": {},
     "inputWidgets": {},
     "nuid": "574a3a63-93fa-4b49-aa5a-d80ad1e4b0ed",
     "showTitle": false,
     "tableResultSettingsMap": {},
     "title": ""
    }
   },
   "source": [
    "#### Cargar el archivo de texto"
   ]
  },
  {
   "cell_type": "code",
   "execution_count": 0,
   "metadata": {
    "application/vnd.databricks.v1+cell": {
     "cellMetadata": {
      "byteLimit": 2048000,
      "rowLimit": 10000
     },
     "inputWidgets": {},
     "nuid": "d67dd05e-f41f-4c4d-9b94-7438c99e3622",
     "showTitle": false,
     "tableResultSettingsMap": {},
     "title": ""
    }
   },
   "outputs": [
    {
     "output_type": "display_data",
     "data": {
      "text/html": [
       "<style scoped>\n",
       "  .ansiout {\n",
       "    display: block;\n",
       "    unicode-bidi: embed;\n",
       "    white-space: pre-wrap;\n",
       "    word-wrap: break-word;\n",
       "    word-break: break-all;\n",
       "    font-family: \"Menlo\", \"Monaco\", \"Consolas\", \"Ubuntu Mono\", \"Source Code Pro\", monospace;\n",
       "    font-size: 13px;\n",
       "    color: #555;\n",
       "    margin-left: 4px;\n",
       "    line-height: 19px;\n",
       "  }\n",
       "</style>\n",
       "<div class=\"ansiout\">El archivo tiene 2186 filas\n",
       "import org.apache.spark.sql.SparkSession\n",
       "spark: org.apache.spark.sql.SparkSession = org.apache.spark.sql.SparkSession@5385cfe0\n",
       "quijoteTxt: org.apache.spark.sql.DataFrame = [value: string]\n",
       "numRows: Long = 2186\n",
       "</div>"
      ]
     },
     "metadata": {
      "application/vnd.databricks.v1+output": {
       "addedWidgets": {},
       "arguments": {},
       "data": "<div class=\"ansiout\">El archivo tiene 2186 filas\nimport org.apache.spark.sql.SparkSession\nspark: org.apache.spark.sql.SparkSession = org.apache.spark.sql.SparkSession@5385cfe0\nquijoteTxt: org.apache.spark.sql.DataFrame = [value: string]\nnumRows: Long = 2186\n</div>",
       "datasetInfos": [
        {
         "name": "quijoteTxt",
         "schema": {
          "fields": [
           {
            "metadata": {},
            "name": "value",
            "nullable": true,
            "type": "string"
           }
          ],
          "type": "struct"
         },
         "tableIdentifier": null,
         "typeStr": "org.apache.spark.sql.DataFrame"
        }
       ],
       "metadata": {
        "isDbfsCommandResult": false
       },
       "removedWidgets": [],
       "type": "html"
      }
     },
     "output_type": "display_data"
    }
   ],
   "source": [
    "%scala\n",
    "// Importar SparkSession\n",
    "import org.apache.spark.sql.SparkSession\n",
    "\n",
    "// Crear o recuperar la sesión de Spark\n",
    "val spark = SparkSession.builder().getOrCreate()\n",
    "\n",
    "// Leer el archivo de texto desde DBFS\n",
    "val quijoteTxt = spark.read.text(\"dbfs:/FileStore/el_quijote.txt\")\n",
    "\n",
    "// Mostrar el número total de filas\n",
    "val numRows = quijoteTxt.count()\n",
    "println(s\"El archivo tiene $numRows filas\")\n",
    "\n"
   ]
  },
  {
   "cell_type": "markdown",
   "metadata": {
    "application/vnd.databricks.v1+cell": {
     "cellMetadata": {},
     "inputWidgets": {},
     "nuid": "8c3bed41-1be8-4356-98b9-a27321f7b5e7",
     "showTitle": false,
     "tableResultSettingsMap": {},
     "title": ""
    }
   },
   "source": [
    "#### Obtener la primera fila del archivo\n"
   ]
  },
  {
   "cell_type": "code",
   "execution_count": 0,
   "metadata": {
    "application/vnd.databricks.v1+cell": {
     "cellMetadata": {
      "byteLimit": 2048000,
      "rowLimit": 10000
     },
     "inputWidgets": {},
     "nuid": "0b4b78e4-453a-4583-927e-2853101e638d",
     "showTitle": false,
     "tableResultSettingsMap": {},
     "title": ""
    }
   },
   "outputs": [
    {
     "output_type": "display_data",
     "data": {
      "text/html": [
       "<style scoped>\n",
       "  .ansiout {\n",
       "    display: block;\n",
       "    unicode-bidi: embed;\n",
       "    white-space: pre-wrap;\n",
       "    word-wrap: break-word;\n",
       "    word-break: break-all;\n",
       "    font-family: \"Menlo\", \"Monaco\", \"Consolas\", \"Ubuntu Mono\", \"Source Code Pro\", monospace;\n",
       "    font-size: 13px;\n",
       "    color: #555;\n",
       "    margin-left: 4px;\n",
       "    line-height: 19px;\n",
       "  }\n",
       "</style>\n",
       "<div class=\"ansiout\">La primera fila es: DON QUIJOTE DE LA MANCHA\n",
       "firstRow: org.apache.spark.sql.Row = [DON QUIJOTE DE LA MANCHA]\n",
       "</div>"
      ]
     },
     "metadata": {
      "application/vnd.databricks.v1+output": {
       "addedWidgets": {},
       "arguments": {},
       "data": "<div class=\"ansiout\">La primera fila es: DON QUIJOTE DE LA MANCHA\nfirstRow: org.apache.spark.sql.Row = [DON QUIJOTE DE LA MANCHA]\n</div>",
       "datasetInfos": [],
       "metadata": {
        "isDbfsCommandResult": false
       },
       "removedWidgets": [],
       "type": "html"
      }
     },
     "output_type": "display_data"
    }
   ],
   "source": [
    "%scala\n",
    "// Obtener la primera fila del DataFrame\n",
    "val firstRow = quijoteTxt.first()\n",
    "println(s\"La primera fila es: ${firstRow.getString(0)}\")"
   ]
  },
  {
   "cell_type": "markdown",
   "metadata": {
    "application/vnd.databricks.v1+cell": {
     "cellMetadata": {},
     "inputWidgets": {},
     "nuid": "be4c71d5-660e-4350-8810-b2c0569c8e70",
     "showTitle": false,
     "tableResultSettingsMap": {},
     "title": ""
    }
   },
   "source": [
    "#### Filtrar líneas que contienen la palabra \"Quijote\""
   ]
  },
  {
   "cell_type": "code",
   "execution_count": 0,
   "metadata": {
    "application/vnd.databricks.v1+cell": {
     "cellMetadata": {
      "byteLimit": 2048000,
      "rowLimit": 10000
     },
     "inputWidgets": {},
     "nuid": "c0ace639-af4f-4631-9872-49f76a52ba09",
     "showTitle": false,
     "tableResultSettingsMap": {},
     "title": ""
    }
   },
   "outputs": [
    {
     "output_type": "display_data",
     "data": {
      "text/html": [
       "<style scoped>\n",
       "  .ansiout {\n",
       "    display: block;\n",
       "    unicode-bidi: embed;\n",
       "    white-space: pre-wrap;\n",
       "    word-wrap: break-word;\n",
       "    word-break: break-all;\n",
       "    font-family: \"Menlo\", \"Monaco\", \"Consolas\", \"Ubuntu Mono\", \"Source Code Pro\", monospace;\n",
       "    font-size: 13px;\n",
       "    color: #555;\n",
       "    margin-left: 4px;\n",
       "    line-height: 19px;\n",
       "  }\n",
       "</style>\n",
       "<div class=\"ansiout\">Cantidad de líneas que contienen la palabra 'Quijote': 584\n",
       "lineasConQuijote: org.apache.spark.sql.Dataset[org.apache.spark.sql.Row] = [value: string]\n",
       "</div>"
      ]
     },
     "metadata": {
      "application/vnd.databricks.v1+output": {
       "addedWidgets": {},
       "arguments": {},
       "data": "<div class=\"ansiout\">Cantidad de líneas que contienen la palabra 'Quijote': 584\nlineasConQuijote: org.apache.spark.sql.Dataset[org.apache.spark.sql.Row] = [value: string]\n</div>",
       "datasetInfos": [
        {
         "name": "lineasConQuijote",
         "schema": {
          "fields": [
           {
            "metadata": {},
            "name": "value",
            "nullable": true,
            "type": "string"
           }
          ],
          "type": "struct"
         },
         "tableIdentifier": null,
         "typeStr": "org.apache.spark.sql.Dataset[org.apache.spark.sql.Row]"
        }
       ],
       "metadata": {
        "isDbfsCommandResult": false
       },
       "removedWidgets": [],
       "type": "html"
      }
     },
     "output_type": "display_data"
    }
   ],
   "source": [
    "%scala\n",
    "// Filtrar las líneas que contienen la palabra \"Quijote\"\n",
    "val lineasConQuijote = quijoteTxt.filter(quijoteTxt(\"value\").contains(\"Quijote\"))\n",
    "\n",
    "// Mostrar cuántas líneas contienen \"Quijote\"\n",
    "println(s\"Cantidad de líneas que contienen la palabra 'Quijote': ${lineasConQuijote.count()}\")\n"
   ]
  },
  {
   "cell_type": "markdown",
   "metadata": {
    "application/vnd.databricks.v1+cell": {
     "cellMetadata": {},
     "inputWidgets": {},
     "nuid": "a9d3b49b-cb62-46b4-8b43-7a51b71d159f",
     "showTitle": false,
     "tableResultSettingsMap": {},
     "title": ""
    }
   },
   "source": [
    "#### Realizar transformaciones encadenadas"
   ]
  },
  {
   "cell_type": "code",
   "execution_count": 0,
   "metadata": {
    "application/vnd.databricks.v1+cell": {
     "cellMetadata": {
      "byteLimit": 2048000,
      "rowLimit": 10000
     },
     "inputWidgets": {},
     "nuid": "c7d7616a-0d87-4791-81b6-baf67d15e177",
     "showTitle": false,
     "tableResultSettingsMap": {},
     "title": ""
    }
   },
   "outputs": [
    {
     "output_type": "display_data",
     "data": {
      "text/html": [
       "<style scoped>\n",
       "  .ansiout {\n",
       "    display: block;\n",
       "    unicode-bidi: embed;\n",
       "    white-space: pre-wrap;\n",
       "    word-wrap: break-word;\n",
       "    word-break: break-all;\n",
       "    font-family: \"Menlo\", \"Monaco\", \"Consolas\", \"Ubuntu Mono\", \"Source Code Pro\", monospace;\n",
       "    font-size: 13px;\n",
       "    color: #555;\n",
       "    margin-left: 4px;\n",
       "    line-height: 19px;\n",
       "  }\n",
       "</style>\n",
       "<div class=\"ansiout\">Cantidad de líneas que contienen la palabra 'Quijote' (usando encadenamiento de transformaciones): 584\n",
       "result: Long = 584\n",
       "</div>"
      ]
     },
     "metadata": {
      "application/vnd.databricks.v1+output": {
       "addedWidgets": {},
       "arguments": {},
       "data": "<div class=\"ansiout\">Cantidad de líneas que contienen la palabra 'Quijote' (usando encadenamiento de transformaciones): 584\nresult: Long = 584\n</div>",
       "datasetInfos": [],
       "metadata": {
        "isDbfsCommandResult": false
       },
       "removedWidgets": [],
       "type": "html"
      }
     },
     "output_type": "display_data"
    }
   ],
   "source": [
    "%scala\n",
    "// Realizar transformaciones encadenadas: filtrar y contar\n",
    "val result = quijoteTxt.filter(quijoteTxt(\"value\").contains(\"Quijote\")).count()\n",
    "\n",
    "// Mostrar el resultado\n",
    "println(s\"Cantidad de líneas que contienen la palabra 'Quijote' (usando encadenamiento de transformaciones): $result\")\n"
   ]
  }
 ],
 "metadata": {
  "application/vnd.databricks.v1+notebook": {
   "dashboards": [],
   "environmentMetadata": null,
   "language": "python",
   "notebookMetadata": {
    "pythonIndentUnit": 2
   },
   "notebookName": "notebook_scala",
   "widgets": {}
  }
 },
 "nbformat": 4,
 "nbformat_minor": 0
}
