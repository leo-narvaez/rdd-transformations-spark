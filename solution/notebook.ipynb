{
 "cells": [
  {
   "cell_type": "markdown",
   "metadata": {
    "application/vnd.databricks.v1+cell": {
     "cellMetadata": {},
     "inputWidgets": {},
     "nuid": "c564fafc-f48b-4e67-b48b-b6caa00a9fe6",
     "showTitle": false,
     "tableResultSettingsMap": {},
     "title": ""
    }
   },
   "source": [
    "# Primeros pasos con Spark"
   ]
  },
  {
   "cell_type": "markdown",
   "metadata": {
    "application/vnd.databricks.v1+cell": {
     "cellMetadata": {},
     "inputWidgets": {},
     "nuid": "c5f44474-9ced-4569-b4a3-30177d11cd03",
     "showTitle": false,
     "tableResultSettingsMap": {},
     "title": ""
    }
   },
   "source": [
    "## SparkContext vs SparkSession"
   ]
  },
  {
   "cell_type": "markdown",
   "metadata": {
    "application/vnd.databricks.v1+cell": {
     "cellMetadata": {},
     "inputWidgets": {},
     "nuid": "512d8d83-63f7-4d08-a8ae-783d536851c8",
     "showTitle": false,
     "tableResultSettingsMap": {},
     "title": ""
    }
   },
   "source": [
    "SparkContext es el punto de entrada a Spark desde las versiones 1.x y se utiliza para crear de forma programativa RDD, acumuladores y variables broadcast en el clúster. Desde Spark 2.0, la mayoría de funcionalidades (métodos) disponibles en SparkContext también los están en SparkSession. Su objeto sc está disponible en el spark-shell y se puede crear de forma programativa mediante la clase SparkContext."
   ]
  },
  {
   "cell_type": "code",
   "execution_count": 0,
   "metadata": {
    "application/vnd.databricks.v1+cell": {
     "cellMetadata": {
      "byteLimit": 2048000,
      "rowLimit": 10000
     },
     "inputWidgets": {},
     "nuid": "ea7c7fef-1f2b-4b1f-bb40-35c62ff8e309",
     "showTitle": false,
     "tableResultSettingsMap": {},
     "title": ""
    }
   },
   "outputs": [],
   "source": [
    "from pyspark import SparkContext\n",
    "sc = SparkContext.getOrCreate()"
   ]
  },
  {
   "cell_type": "markdown",
   "metadata": {
    "application/vnd.databricks.v1+cell": {
     "cellMetadata": {},
     "inputWidgets": {},
     "nuid": "31b10f71-63bc-4e5e-8a3a-bce66d452f35",
     "showTitle": false,
     "tableResultSettingsMap": {},
     "title": ""
    }
   },
   "source": [
    "SparkSession se introdujo en la versión 2.0 y es el punto de entrada para crear RDD, DataFrames y DataSets. El objeto spark se encuentra disponible por defecto en el spark-shell y se puede crear de forma programativa mediante el patrón builder de SparkSession."
   ]
  },
  {
   "cell_type": "code",
   "execution_count": 0,
   "metadata": {
    "application/vnd.databricks.v1+cell": {
     "cellMetadata": {
      "byteLimit": 2048000,
      "rowLimit": 10000
     },
     "inputWidgets": {},
     "nuid": "58ddebbe-eaa6-4ed9-87b7-b0a161804d63",
     "showTitle": false,
     "tableResultSettingsMap": {},
     "title": ""
    }
   },
   "outputs": [],
   "source": [
    "from pyspark.sql import SparkSession\n",
    "spark = SparkSession.builder.getOrCreate() "
   ]
  },
  {
   "cell_type": "markdown",
   "metadata": {
    "application/vnd.databricks.v1+cell": {
     "cellMetadata": {},
     "inputWidgets": {},
     "nuid": "02491a35-9dad-4f91-87dd-04382ffda8f8",
     "showTitle": false,
     "tableResultSettingsMap": {},
     "title": ""
    }
   },
   "source": [
    "Además, desde una sesión de Spark podemos obtener un contexto a través de la propiedad sparkContext:"
   ]
  },
  {
   "cell_type": "code",
   "execution_count": 0,
   "metadata": {
    "application/vnd.databricks.v1+cell": {
     "cellMetadata": {
      "byteLimit": 2048000,
      "rowLimit": 10000
     },
     "inputWidgets": {},
     "nuid": "07d63877-8295-49e0-ad10-b9a364630b04",
     "showTitle": false,
     "tableResultSettingsMap": {},
     "title": ""
    }
   },
   "outputs": [],
   "source": [
    "from pyspark.sql import SparkSession\n",
    "spark = SparkSession.builder.getOrCreate()\n",
    "sc = spark.sparkContext"
   ]
  },
  {
   "cell_type": "markdown",
   "metadata": {
    "application/vnd.databricks.v1+cell": {
     "cellMetadata": {},
     "inputWidgets": {},
     "nuid": "20d6b204-c169-4163-aab7-7d5c03bde703",
     "showTitle": false,
     "tableResultSettingsMap": {},
     "title": ""
    }
   },
   "source": [
    "### Hola Spark"
   ]
  },
  {
   "cell_type": "markdown",
   "metadata": {
    "application/vnd.databricks.v1+cell": {
     "cellMetadata": {},
     "inputWidgets": {},
     "nuid": "90a7e5c4-4092-41d3-9361-c5da47b51fbf",
     "showTitle": false,
     "tableResultSettingsMap": {},
     "title": ""
    }
   },
   "source": [
    "Lo primero que debemos hacer siempre es conectarnos a la sesión de Spark, el cual le indica a Spark como acceder al clúster. Si utilizamos la imagen de Docker, debemos obtener siempre la sesión a partir de la clase SparkSession:"
   ]
  },
  {
   "cell_type": "code",
   "execution_count": 0,
   "metadata": {
    "application/vnd.databricks.v1+cell": {
     "cellMetadata": {
      "byteLimit": 2048000,
      "rowLimit": 10000
     },
     "inputWidgets": {},
     "nuid": "1e6c0d0e-2dc3-4e6a-b558-dc8416408969",
     "showTitle": false,
     "tableResultSettingsMap": {},
     "title": ""
    }
   },
   "outputs": [
    {
     "output_type": "display_data",
     "data": {
      "text/html": [
       "\n",
       "            <div>\n",
       "                <p><b>SparkSession - hive</b></p>\n",
       "                \n",
       "        <div>\n",
       "            <p><b>SparkContext</b></p>\n",
       "\n",
       "            <p><a href=\"/?o=295695904026004#setting/sparkui/1119-124614-tdivdhsw/driver-4279893740067776868\">Spark UI</a></p>\n",
       "\n",
       "            <dl>\n",
       "              <dt>Version</dt>\n",
       "                <dd><code>v3.3.2</code></dd>\n",
       "              <dt>Master</dt>\n",
       "                <dd><code>local[8]</code></dd>\n",
       "              <dt>AppName</dt>\n",
       "                <dd><code>Databricks Shell</code></dd>\n",
       "            </dl>\n",
       "        </div>\n",
       "        \n",
       "            </div>\n",
       "        "
      ]
     },
     "metadata": {
      "application/vnd.databricks.v1+output": {
       "addedWidgets": {},
       "arguments": {},
       "data": "\n            <div>\n                <p><b>SparkSession - hive</b></p>\n                \n        <div>\n            <p><b>SparkContext</b></p>\n\n            <p><a href=\"/?o=295695904026004#setting/sparkui/1119-124614-tdivdhsw/driver-4279893740067776868\">Spark UI</a></p>\n\n            <dl>\n              <dt>Version</dt>\n                <dd><code>v3.3.2</code></dd>\n              <dt>Master</dt>\n                <dd><code>local[8]</code></dd>\n              <dt>AppName</dt>\n                <dd><code>Databricks Shell</code></dd>\n            </dl>\n        </div>\n        \n            </div>\n        ",
       "datasetInfos": [],
       "metadata": {},
       "removedWidgets": [],
       "textData": null,
       "type": "htmlSandbox"
      }
     },
     "output_type": "display_data"
    }
   ],
   "source": [
    "from pyspark.sql import SparkSession\n",
    "\n",
    "spark = SparkSession.builder.getOrCreate() # SparkSession de forma programativa\n",
    "spark"
   ]
  },
  {
   "cell_type": "code",
   "execution_count": 0,
   "metadata": {
    "application/vnd.databricks.v1+cell": {
     "cellMetadata": {
      "byteLimit": 2048000,
      "rowLimit": 10000
     },
     "inputWidgets": {},
     "nuid": "9c1bf511-ecc2-4447-80b1-850ef8340ec7",
     "showTitle": false,
     "tableResultSettingsMap": {},
     "title": ""
    }
   },
   "outputs": [],
   "source": [
    "sc = spark.sparkContext                    # SparkContext a partir de la sesión"
   ]
  },
  {
   "cell_type": "code",
   "execution_count": 0,
   "metadata": {
    "application/vnd.databricks.v1+cell": {
     "cellMetadata": {
      "byteLimit": 2048000,
      "rowLimit": 10000
     },
     "inputWidgets": {},
     "nuid": "4370d1c2-9c99-4ac5-8580-65826374aee2",
     "showTitle": false,
     "tableResultSettingsMap": {},
     "title": ""
    }
   },
   "outputs": [
    {
     "output_type": "stream",
     "name": "stdout",
     "output_type": "stream",
     "text": [
      "Out[23]: 5050"
     ]
    }
   ],
   "source": [
    "# Suma de los 100 primeros números\n",
    "rdd = sc.parallelize(range(100 + 1))\n",
    "rdd.sum()"
   ]
  },
  {
   "cell_type": "markdown",
   "metadata": {
    "application/vnd.databricks.v1+cell": {
     "cellMetadata": {},
     "inputWidgets": {},
     "nuid": "fd3a5523-3b8d-4cae-82a2-3f1a40823d82",
     "showTitle": false,
     "tableResultSettingsMap": {},
     "title": ""
    }
   },
   "source": [
    "En cambio, si utilizamos la instalación de PySpark (o la solución de Databricks) que tenemos en la máquina virtual, directamente podemos acceder a la instancia de SparkSession a través del objeto global spark:"
   ]
  },
  {
   "cell_type": "code",
   "execution_count": 0,
   "metadata": {
    "application/vnd.databricks.v1+cell": {
     "cellMetadata": {
      "byteLimit": 2048000,
      "rowLimit": 10000
     },
     "inputWidgets": {},
     "nuid": "f0e26de4-d5a2-481f-8b47-3d46c9be8deb",
     "showTitle": false,
     "tableResultSettingsMap": {},
     "title": ""
    }
   },
   "outputs": [],
   "source": [
    "sc = spark.sparkContext     # spark es una instancia de la clase SparkSession"
   ]
  },
  {
   "cell_type": "code",
   "execution_count": 0,
   "metadata": {
    "application/vnd.databricks.v1+cell": {
     "cellMetadata": {
      "byteLimit": 2048000,
      "rowLimit": 10000
     },
     "inputWidgets": {},
     "nuid": "03b45349-9fb2-4b37-9be4-46989307e38e",
     "showTitle": false,
     "tableResultSettingsMap": {},
     "title": ""
    }
   },
   "outputs": [
    {
     "output_type": "stream",
     "name": "stdout",
     "output_type": "stream",
     "text": [
      "Out[25]: 5050"
     ]
    }
   ],
   "source": [
    "rdd = sc.parallelize(range(100 + 1))\n",
    "rdd.sum()"
   ]
  },
  {
   "cell_type": "markdown",
   "metadata": {
    "application/vnd.databricks.v1+cell": {
     "cellMetadata": {},
     "inputWidgets": {},
     "nuid": "b68fef6c-2119-4afa-8950-1ede3d056d74",
     "showTitle": false,
     "tableResultSettingsMap": {},
     "title": ""
    }
   },
   "source": [
    "## Arquitectura"
   ]
  },
  {
   "cell_type": "markdown",
   "metadata": {
    "application/vnd.databricks.v1+cell": {
     "cellMetadata": {},
     "inputWidgets": {},
     "nuid": "a697276c-0d81-428d-bdd4-1577624cdac0",
     "showTitle": false,
     "tableResultSettingsMap": {},
     "title": ""
    }
   },
   "source": [
    "Ya hemos comentado que Spark es un sistema distribuido diseñado para procesar grandes volúmenes de datos de forma rápida y eficiente. Este sistema normalmente se despliega en un conjunto de máquinas que se conocen como un clúster Spark, pudiendo estar compuesta de unas pocas máquinas o miles de ellas. Según el FAQ de Spark, el clúster más grande de Spark contiene más de 8000 nodos."
   ]
  },
  {
   "cell_type": "markdown",
   "metadata": {
    "application/vnd.databricks.v1+cell": {
     "cellMetadata": {},
     "inputWidgets": {},
     "nuid": "13167ca0-05bd-4495-8ec1-d7e6d848cce9",
     "showTitle": false,
     "tableResultSettingsMap": {},
     "title": ""
    }
   },
   "source": [
    "A la hora del despliegue, se utiliza un sistema de gestión de recursos como el gestor propio de Spark (conocido como Spark Standalone), Apache Mesos, Kubernetes o YARN para gestionar de forma inteligente y eficiente el clúster."
   ]
  },
  {
   "cell_type": "markdown",
   "metadata": {
    "application/vnd.databricks.v1+cell": {
     "cellMetadata": {},
     "inputWidgets": {},
     "nuid": "85ec73fb-f20d-4deb-b777-da7605ba4a05",
     "showTitle": false,
     "tableResultSettingsMap": {},
     "title": ""
    }
   },
   "source": [
    "Los dos componentes principales del clúster son:"
   ]
  },
  {
   "cell_type": "markdown",
   "metadata": {
    "application/vnd.databricks.v1+cell": {
     "cellMetadata": {},
     "inputWidgets": {},
     "nuid": "cfedc4c8-2050-4ae7-be71-d2852fdbc34f",
     "showTitle": false,
     "tableResultSettingsMap": {},
     "title": ""
    }
   },
   "source": [
    "- el gestor del clúster: nodo maestro que sabe donde se localizan los trabajadores, cuanta memoria disponen y el número de cores CPU de cada nodo. Su mayor responsabilidad es orquestar el trabajo asignándolo a los diferentes nodos."
   ]
  },
  {
   "cell_type": "markdown",
   "metadata": {
    "application/vnd.databricks.v1+cell": {
     "cellMetadata": {},
     "inputWidgets": {},
     "nuid": "5752e325-99fb-4f88-a7f4-3be7ee076213",
     "showTitle": false,
     "tableResultSettingsMap": {},
     "title": ""
    }
   },
   "source": [
    "- los nodos trabajadores (workers): cada nodo ofrece recursos (memoria, CPU, etc...) al gestor del clúster y realiza las tareas que se le asignen."
   ]
  },
  {
   "cell_type": "markdown",
   "metadata": {
    "application/vnd.databricks.v1+cell": {
     "cellMetadata": {},
     "inputWidgets": {},
     "nuid": "567ec93e-49ad-4448-a742-cf7ce73e232d",
     "showTitle": false,
     "tableResultSettingsMap": {},
     "title": ""
    }
   },
   "source": [
    "### Aplicaciones Spark"
   ]
  },
  {
   "cell_type": "markdown",
   "metadata": {
    "application/vnd.databricks.v1+cell": {
     "cellMetadata": {},
     "inputWidgets": {},
     "nuid": "36d0afc7-94f2-4ead-ba01-1762fcf9b3b8",
     "showTitle": false,
     "tableResultSettingsMap": {},
     "title": ""
    }
   },
   "source": [
    "Una aplicación Spark se compone de dos partes:"
   ]
  },
  {
   "cell_type": "markdown",
   "metadata": {
    "application/vnd.databricks.v1+cell": {
     "cellMetadata": {},
     "inputWidgets": {},
     "nuid": "b3e3c8ac-0d6a-49f1-8c9f-f80f9614131c",
     "showTitle": false,
     "tableResultSettingsMap": {},
     "title": ""
    }
   },
   "source": [
    "1. La lógica de procesamiento de los datos, la cual realizamos mediante alguna de las API que ofrece Spark (Java, Scala, Python, etc...), desde algo sencillo que realice una ETL sobre los datos a problemas más complejos que requieran múltiples iteraciones y tarden varias horas como entrenar un modelo de machine learning."
   ]
  },
  {
   "cell_type": "markdown",
   "metadata": {
    "application/vnd.databricks.v1+cell": {
     "cellMetadata": {},
     "inputWidgets": {},
     "nuid": "1a102be0-0872-4840-bf31-b3dc873b178b",
     "showTitle": false,
     "tableResultSettingsMap": {},
     "title": ""
    }
   },
   "source": [
    "2. Driver: es el coordinador central encargado de interactuar con el clúster Spark y averiguar qué máquinas deben ejecutar la lógica de procesamiento. Para cada una de esas máquinas, el driver realiza una petición al clúster para lanzar un proceso conocido como ejecutor (executor). Además, el driver Spark es responsable de gestionar y distribuir las tareas a cada ejecutor, y si es necesario, recoger y fusionar los datos resultantes para presentarlos al usuario. Estas tareas se realizan a través de la SparkSession."
   ]
  },
  {
   "cell_type": "markdown",
   "metadata": {
    "application/vnd.databricks.v1+cell": {
     "cellMetadata": {},
     "inputWidgets": {},
     "nuid": "bed31fd8-0b64-42f0-b30e-262b28bf3996",
     "showTitle": false,
     "tableResultSettingsMap": {},
     "title": ""
    }
   },
   "source": [
    "Cada ejecutor es un proceso JVM (Java Virtual Machine) dedicado para una aplicación Spark específica. Un ejecutor vivirá tanto como dure la aplicación Spark, lo cual puede ser segundos, minutos o días, dependiendo de la complejidad de la aplicación. Conviene destacar que los ejecutores son elementos aislados que no se comparten entre aplicaciones Spark, por lo que la única manera de compartir información entre diferente ejecutores es mediante un sistema de almacenamiento externo como HDFS o S3."
   ]
  },
  {
   "cell_type": "markdown",
   "metadata": {
    "application/vnd.databricks.v1+cell": {
     "cellMetadata": {},
     "inputWidgets": {},
     "nuid": "1545cd2a-6a22-4c6e-b257-1f4235cfece4",
     "showTitle": false,
     "tableResultSettingsMap": {},
     "title": ""
    }
   },
   "source": [
    "![](https://community.cloud.databricks.com/files/shared_uploads/notebook_1/1.jpg)"
   ]
  },
  {
   "cell_type": "markdown",
   "metadata": {
    "application/vnd.databricks.v1+cell": {
     "cellMetadata": {},
     "inputWidgets": {},
     "nuid": "cef046c5-2fe0-4b06-acec-9da8305f376e",
     "showTitle": false,
     "tableResultSettingsMap": {},
     "title": ""
    }
   },
   "source": [
    "Así pues, Spark utiliza una arquitectura maestro/esclavo, donde el driver es el maestro, y los ejecutores los esclavos. Cada uno de estos componentes se ejecutan como un proceso independiente en el clúster Spark. Por lo tanto, una aplicación Spark se compone de un driver y múltiples ejecutores. Cada ejecutor realiza lo que se le pide en forma de tareas, ejecutando cada una de ellas en un núcleo CPU separado. Así es como el procesamiento paralelo acelera el tratamiento de los datos. Además, cada ejecutor, bajo petición de la lógica de la aplicación, se responsabiliza de cachear un fragmento de los datos en memoria y/o disco."
   ]
  },
  {
   "cell_type": "markdown",
   "metadata": {
    "application/vnd.databricks.v1+cell": {
     "cellMetadata": {},
     "inputWidgets": {},
     "nuid": "40374408-e8df-4885-9493-a2edaa13ab7e",
     "showTitle": false,
     "tableResultSettingsMap": {},
     "title": ""
    }
   },
   "source": [
    "Al lanzar una aplicación Spark, podemos indicar el número de ejecutores que necesita la aplicación, así como la cantidad de memoria y número de núcleos que debería tener cada ejecutor."
   ]
  },
  {
   "cell_type": "markdown",
   "metadata": {
    "application/vnd.databricks.v1+cell": {
     "cellMetadata": {},
     "inputWidgets": {},
     "nuid": "5ef9e538-e61b-4a8d-b8af-a737d2dd5c6f",
     "showTitle": false,
     "tableResultSettingsMap": {},
     "title": ""
    }
   },
   "source": [
    "![2](files/2.png)"
   ]
  },
  {
   "cell_type": "markdown",
   "metadata": {
    "application/vnd.databricks.v1+cell": {
     "cellMetadata": {},
     "inputWidgets": {},
     "nuid": "c3501fea-4bc9-4cc9-9a34-d89152715124",
     "showTitle": false,
     "tableResultSettingsMap": {},
     "title": ""
    }
   },
   "source": [
    "### Job, Stage y Task"
   ]
  },
  {
   "cell_type": "markdown",
   "metadata": {
    "application/vnd.databricks.v1+cell": {
     "cellMetadata": {},
     "inputWidgets": {},
     "nuid": "976790dc-d2dc-4814-94c3-03cc89b3961d",
     "showTitle": false,
     "tableResultSettingsMap": {},
     "title": ""
    }
   },
   "source": [
    "Cuando creamos una aplicación Spark, por debajo, se distinguen los siguientes elementos:"
   ]
  },
  {
   "cell_type": "markdown",
   "metadata": {
    "application/vnd.databricks.v1+cell": {
     "cellMetadata": {},
     "inputWidgets": {},
     "nuid": "bdf05b0b-95e2-4d73-9f25-ef8bf13795e4",
     "showTitle": false,
     "tableResultSettingsMap": {},
     "title": ""
    }
   },
   "source": [
    "- Job (trabajo): computación paralela compuesta de múltiples tareas que se crean tras una acción de Spark (save, collect, etc...). Al codificar nuestro código mediante PySpark, el driver convierte la aplicación Spark en uno o más jobs, y a continuación, estos jobs los transforma en un DAG (grafo). Este grafo, en esencia, es el plan de ejecución, donde cada elemento dentro del DAG puede implicar una o varias stages (escenas)."
   ]
  },
  {
   "cell_type": "markdown",
   "metadata": {
    "application/vnd.databricks.v1+cell": {
     "cellMetadata": {},
     "inputWidgets": {},
     "nuid": "c12082ed-ef81-4c24-9bc3-7cfde32a3275",
     "showTitle": false,
     "tableResultSettingsMap": {},
     "title": ""
    }
   },
   "source": [
    "- Stage (escena): cada job se divide en pequeños conjuntos de tareas que forman un escenario. Como parte del grafo, las stages se crean a partir de si las operaciones se pueden realizar de forma paralela o de forma secuencial. Como no todas las operaciones pueden realizarse en una única stage, en ocasiones se dividen en varias, normalmente debido a los límites computacionales de los diferentes ejecutores."
   ]
  },
  {
   "cell_type": "markdown",
   "metadata": {
    "application/vnd.databricks.v1+cell": {
     "cellMetadata": {},
     "inputWidgets": {},
     "nuid": "20b72a9d-2516-4c2b-8e67-e484510e65ff",
     "showTitle": false,
     "tableResultSettingsMap": {},
     "title": ""
    }
   },
   "source": [
    "- Task (tarea): unidad de trabajo más pequeña que se envía a los ejecutores Spark. Cada escenario se compone de varias tareas. Cada una de las tareas se asigna a un único núcleo y trabaja con una única partición de los datos. Por ello, un ejecutor con 16 núcleos puede tener 16 o más tareas trabajando en 16 o más particiones en paralelo."
   ]
  },
  {
   "cell_type": "markdown",
   "metadata": {
    "application/vnd.databricks.v1+cell": {
     "cellMetadata": {},
     "inputWidgets": {},
     "nuid": "29c268de-36ab-4a44-91be-0d4a573bc4e4",
     "showTitle": false,
     "tableResultSettingsMap": {},
     "title": ""
    }
   },
   "source": [
    "![3](files/3.png)"
   ]
  },
  {
   "cell_type": "markdown",
   "metadata": {
    "application/vnd.databricks.v1+cell": {
     "cellMetadata": {},
     "inputWidgets": {},
     "nuid": "12a02ea1-5c4b-4b88-b153-8454296a5266",
     "showTitle": false,
     "tableResultSettingsMap": {},
     "title": ""
    }
   },
   "source": [
    "### DataFrame"
   ]
  },
  {
   "cell_type": "markdown",
   "metadata": {
    "application/vnd.databricks.v1+cell": {
     "cellMetadata": {},
     "inputWidgets": {},
     "nuid": "442541f2-5052-43a7-8554-6d13596c93e7",
     "showTitle": false,
     "tableResultSettingsMap": {},
     "title": ""
    }
   },
   "source": [
    "La principal abstracción de los datos en Spark es el Dataset. Se pueden crear desde las fuentes de entrada de Hadoop (como ficheros que provienen de HDFS o S3) o mediante transformaciones de otros Datasets. Dado el cariz de Python, no necesitamos que los Dataset estén fuertemente tipados, por eso, todos los Dataset que usemos serán Dataset[Row] (si trabajásemos mediante Java o Scala sí deberíamos indicar el tipo de sus datos), y por consistencia con el concepto de Pandas y R, los llamaremos DataFrame."
   ]
  },
  {
   "cell_type": "markdown",
   "metadata": {
    "application/vnd.databricks.v1+cell": {
     "cellMetadata": {},
     "inputWidgets": {},
     "nuid": "1e4c17c6-60a0-4235-bad9-4c0eee74ab92",
     "showTitle": false,
     "tableResultSettingsMap": {},
     "title": ""
    }
   },
   "source": [
    "Por ejemplo, veamos cómo podemos crear un DataFrame a partir de un fichero de texto:"
   ]
  },
  {
   "cell_type": "code",
   "execution_count": 0,
   "metadata": {
    "application/vnd.databricks.v1+cell": {
     "cellMetadata": {
      "byteLimit": 2048000,
      "rowLimit": 10000
     },
     "inputWidgets": {},
     "nuid": "2ff5a76b-dc4d-463c-8ae6-1e79585c63b3",
     "showTitle": false,
     "tableResultSettingsMap": {},
     "title": ""
    }
   },
   "outputs": [
    {
     "output_type": "stream",
     "name": "stdout",
     "output_type": "stream",
     "text": [
      "Out[13]: 2186"
     ]
    }
   ],
   "source": [
    "from pyspark.sql import SparkSession\n",
    "\n",
    "spark = SparkSession.builder.getOrCreate() \n",
    "\n",
    "quijoteTxt = spark.read.text(\"dbfs:/FileStore/el_quijote.txt\")\n",
    "quijoteTxt.count()  # número de filas del DataFrame - 2186\n"
   ]
  },
  {
   "cell_type": "markdown",
   "metadata": {
    "application/vnd.databricks.v1+cell": {
     "cellMetadata": {},
     "inputWidgets": {},
     "nuid": "0f65b708-e91c-46f8-9121-72819ee103dc",
     "showTitle": false,
     "tableResultSettingsMap": {},
     "title": ""
    }
   },
   "source": [
    "#### Inicia una sesión de Spark:\n",
    "\n",
    "Usamos `SparkSession.builder.getOrCreate()` para crear o recuperar una sesión de Spark, que es esencial para trabajar con DataFrames y RDDs en PySpark. Esta sesión te permite interactuar con el clúster de Spark.\n",
    "Lee un archivo de texto desde DBFS:\n",
    "\n",
    "Utilizamos `spark.read.text()` para leer un archivo de texto. En este caso, estamos leyendo el archivo el_quijote.txt que está almacenado en el sistema de archivos DBFS (Databricks File System). Este archivo se convierte en un DataFrame, donde cada línea del archivo será una fila en el DataFrame.\n",
    "Cuenta el número de líneas:\n",
    "\n",
    "Luego, usamos el método `.count()` para contar cuántas líneas (filas) tiene el archivo en el DataFrame. En este caso, el archivo el_quijote.txt tiene 2186 líneas, por lo que el resultado de count() será 2186.\n",
    "#### En resumen:\n",
    "Este código simplemente lee un archivo de texto desde DBFS, lo convierte en un DataFrame, y cuenta cuántas filas (líneas) tiene ese archivo. Es una forma rápida de verificar el tamaño de un archivo de texto en términos de número de líneas y ver cómo se puede manipular con Spark.\n",
    "\n",
    "\n"
   ]
  },
  {
   "cell_type": "code",
   "execution_count": 0,
   "metadata": {
    "application/vnd.databricks.v1+cell": {
     "cellMetadata": {
      "byteLimit": 2048000,
      "rowLimit": 10000
     },
     "inputWidgets": {},
     "nuid": "32102037-2734-48be-afc4-4b53894ddf47",
     "showTitle": false,
     "tableResultSettingsMap": {},
     "title": ""
    }
   },
   "outputs": [
    {
     "output_type": "stream",
     "name": "stdout",
     "output_type": "stream",
     "text": [
      "Out[14]: Row(value='DON QUIJOTE DE LA MANCHA')"
     ]
    }
   ],
   "source": [
    "quijoteTxt.first()  # primera fila - Row(value='DON QUIJOTE DE LA MANCHA')"
   ]
  },
  {
   "cell_type": "code",
   "execution_count": 0,
   "metadata": {
    "application/vnd.databricks.v1+cell": {
     "cellMetadata": {
      "byteLimit": 2048000,
      "rowLimit": 10000
     },
     "inputWidgets": {},
     "nuid": "fe003ec7-df15-4c06-be6d-0754cdf2eaa1",
     "showTitle": false,
     "tableResultSettingsMap": {},
     "title": ""
    }
   },
   "outputs": [
    {
     "output_type": "stream",
     "name": "stdout",
     "output_type": "stream",
     "text": [
      "Out[15]: 584"
     ]
    }
   ],
   "source": [
    "# Transformamos un DataFrame en otro nuevo\n",
    "lineasConQuijote = quijoteTxt.filter(quijoteTxt.value.contains(\"Quijote\"))  # DataFrame con las líneas que contiene la palabra Quijote\n",
    "lineasConQuijote.count()  # cantidad de líneas con la palabra Quijote - 584"
   ]
  },
  {
   "cell_type": "code",
   "execution_count": 0,
   "metadata": {
    "application/vnd.databricks.v1+cell": {
     "cellMetadata": {
      "byteLimit": 2048000,
      "rowLimit": 10000
     },
     "inputWidgets": {},
     "nuid": "a2f0a580-e3f6-4f2c-b512-b165e90f2d0a",
     "showTitle": false,
     "tableResultSettingsMap": {},
     "title": ""
    }
   },
   "outputs": [
    {
     "output_type": "stream",
     "name": "stdout",
     "output_type": "stream",
     "text": [
      "Out[16]: 584"
     ]
    }
   ],
   "source": [
    "# Las transformaciones se pueden encadenar\n",
    "quijoteTxt.filter(quijoteTxt.value.contains(\"Quijote\")).count()     # idem - 584"
   ]
  },
  {
   "cell_type": "markdown",
   "metadata": {
    "application/vnd.databricks.v1+cell": {
     "cellMetadata": {},
     "inputWidgets": {},
     "nuid": "797c53b9-d7f7-4eaa-9877-bf2df4ffe08c",
     "showTitle": false,
     "tableResultSettingsMap": {},
     "title": ""
    }
   },
   "source": [
    "Estudiaremos los DataFrame en profundidad en las próximas clases"
   ]
  },
  {
   "cell_type": "markdown",
   "metadata": {
    "application/vnd.databricks.v1+cell": {
     "cellMetadata": {},
     "inputWidgets": {},
     "nuid": "2c9c1805-0553-4b4d-8b12-5db9ebc4aa90",
     "showTitle": false,
     "tableResultSettingsMap": {},
     "title": ""
    }
   },
   "source": [
    "### Spark UI (Jupyter Lab)"
   ]
  },
  {
   "cell_type": "markdown",
   "metadata": {
    "application/vnd.databricks.v1+cell": {
     "cellMetadata": {},
     "inputWidgets": {},
     "nuid": "c7fd21f3-3246-4694-9993-7cdb91d0d2a2",
     "showTitle": false,
     "tableResultSettingsMap": {},
     "title": ""
    }
   },
   "source": [
    "Si accedemos a la dirección 'http://127.0.0.1:4040/', veremos un interfaz gráfico donde podemos monitorizar y analizar el código Spark ejecutado. La barra superior muestra un menú con las opciones para visualizar los jobs, stages, el almacenamiento, el entorno y sus variables de configuración, y finalmente los ejecutores:"
   ]
  },
  {
   "cell_type": "markdown",
   "metadata": {
    "application/vnd.databricks.v1+cell": {
     "cellMetadata": {},
     "inputWidgets": {},
     "nuid": "1642662f-372e-4b6b-bda2-836d2339414d",
     "showTitle": false,
     "tableResultSettingsMap": {},
     "title": ""
    }
   },
   "source": [
    "![4](files/4.png)"
   ]
  },
  {
   "cell_type": "markdown",
   "metadata": {
    "application/vnd.databricks.v1+cell": {
     "cellMetadata": {},
     "inputWidgets": {},
     "nuid": "5ef151ae-9b24-4796-8f50-a18adc63619b",
     "showTitle": false,
     "tableResultSettingsMap": {},
     "title": ""
    }
   },
   "source": [
    "![5](files/5.png)"
   ]
  },
  {
   "cell_type": "markdown",
   "metadata": {
    "application/vnd.databricks.v1+cell": {
     "cellMetadata": {},
     "inputWidgets": {},
     "nuid": "9c9dce1b-c10e-40b0-8d15-7c1d27a05723",
     "showTitle": false,
     "tableResultSettingsMap": {},
     "title": ""
    }
   },
   "source": [
    "### Spark UI en Databricks"
   ]
  },
  {
   "cell_type": "markdown",
   "metadata": {
    "application/vnd.databricks.v1+cell": {
     "cellMetadata": {},
     "inputWidgets": {},
     "nuid": "b79dfc40-fbd4-4881-85ab-1111290dd017",
     "showTitle": false,
     "tableResultSettingsMap": {},
     "title": ""
    }
   },
   "source": [
    "Para acceder a la herramienta de monitorización en Databricks, una vez creado un clúster, en la opción Compute/Calcular podremos seleccionar el clúster creado y en la pestaña IU de Spark acceder al mismo interfaz gráfico:"
   ]
  },
  {
   "cell_type": "markdown",
   "metadata": {
    "application/vnd.databricks.v1+cell": {
     "cellMetadata": {},
     "inputWidgets": {},
     "nuid": "e94f91e6-007d-474a-b17f-2d994d1b9f3d",
     "showTitle": false,
     "tableResultSettingsMap": {},
     "title": ""
    }
   },
   "source": [
    "![](files/6.png)\n",
    "\n",
    "![](files/image.png)"
   ]
  },
  {
   "cell_type": "markdown",
   "metadata": {
    "application/vnd.databricks.v1+cell": {
     "cellMetadata": {},
     "inputWidgets": {},
     "nuid": "1758f248-0d50-4655-b8ef-e8fb214274b1",
     "showTitle": false,
     "tableResultSettingsMap": {},
     "title": ""
    }
   },
   "source": [
    "# Actividad"
   ]
  },
  {
   "cell_type": "markdown",
   "metadata": {
    "application/vnd.databricks.v1+cell": {
     "cellMetadata": {},
     "inputWidgets": {},
     "nuid": "3ae1271c-6f2d-4483-a795-049c02ae23a8",
     "showTitle": false,
     "tableResultSettingsMap": {},
     "title": ""
    }
   },
   "source": [
    "En otro notebook hacer los ejemplos de código anteriores utilizando Scala:\n",
    "- Los ejemplos con Scala estan en el `notebook_scala`"
   ]
  },
  {
   "cell_type": "markdown",
   "metadata": {
    "application/vnd.databricks.v1+cell": {
     "cellMetadata": {},
     "inputWidgets": {},
     "nuid": "7ff9ba74-9777-4f54-a8f3-0c7eed13500e",
     "showTitle": false,
     "tableResultSettingsMap": {},
     "title": ""
    }
   },
   "source": [
    "# RDD"
   ]
  },
  {
   "cell_type": "markdown",
   "metadata": {
    "application/vnd.databricks.v1+cell": {
     "cellMetadata": {},
     "inputWidgets": {},
     "nuid": "d3615ac3-f0fc-4470-94ec-557165e26f37",
     "showTitle": false,
     "tableResultSettingsMap": {},
     "title": ""
    }
   },
   "source": [
    "Un RDD (Resilient Distributed Datasets) es una estructura de datos que abstrae los datos para su procesamiento en paralelo."
   ]
  },
  {
   "cell_type": "markdown",
   "metadata": {
    "application/vnd.databricks.v1+cell": {
     "cellMetadata": {},
     "inputWidgets": {},
     "nuid": "fa71ca6c-8e9a-42d6-9843-6406e663966d",
     "showTitle": false,
     "tableResultSettingsMap": {},
     "title": ""
    }
   },
   "source": [
    "Antes de Spark 2.0, los RDD eran el interfaz principal para interactuar con los datos."
   ]
  },
  {
   "cell_type": "markdown",
   "metadata": {
    "application/vnd.databricks.v1+cell": {
     "cellMetadata": {},
     "inputWidgets": {},
     "nuid": "f54489dd-9435-4362-8507-27502c8088cc",
     "showTitle": false,
     "tableResultSettingsMap": {},
     "title": ""
    }
   },
   "source": [
    "Se trata de una colección de elementos tolerantes a fallos que son immutables (una vez creados, no se pueden modificar) y diseñados para su procesamiento distribuido. Cada conjunto de datos en los RDD se divide en particiones lógicas, que se pueden calcular en diferentes nodos del clúster."
   ]
  },
  {
   "cell_type": "markdown",
   "metadata": {
    "application/vnd.databricks.v1+cell": {
     "cellMetadata": {},
     "inputWidgets": {},
     "nuid": "60694c84-b157-483f-bade-5437cf039d6a",
     "showTitle": false,
     "tableResultSettingsMap": {},
     "title": ""
    }
   },
   "source": [
    "Hay dos formas de crear un RDD:"
   ]
  },
  {
   "cell_type": "markdown",
   "metadata": {
    "application/vnd.databricks.v1+cell": {
     "cellMetadata": {},
     "inputWidgets": {},
     "nuid": "85f5c085-5615-457e-8fe6-9ca4b0f09cca",
     "showTitle": false,
     "tableResultSettingsMap": {},
     "title": ""
    }
   },
   "source": [
    "- Paralelizando una colección ya existente en nuestra aplicación Spark."
   ]
  },
  {
   "cell_type": "markdown",
   "metadata": {
    "application/vnd.databricks.v1+cell": {
     "cellMetadata": {},
     "inputWidgets": {},
     "nuid": "1e311aa5-3ea7-4b2e-9d61-22cd8297e341",
     "showTitle": false,
     "tableResultSettingsMap": {},
     "title": ""
    }
   },
   "source": [
    "- Referenciando un dataset de un sistema externo como HDFS, HBase, etc..."
   ]
  },
  {
   "cell_type": "markdown",
   "metadata": {
    "application/vnd.databricks.v1+cell": {
     "cellMetadata": {},
     "inputWidgets": {},
     "nuid": "411e1263-001e-498b-ace4-5a61a718e305",
     "showTitle": false,
     "tableResultSettingsMap": {},
     "title": ""
    }
   },
   "source": [
    "Sobre los RDD se pueden realizar dos tipos de operaciones:"
   ]
  },
  {
   "cell_type": "markdown",
   "metadata": {
    "application/vnd.databricks.v1+cell": {
     "cellMetadata": {},
     "inputWidgets": {},
     "nuid": "ce1a298e-2b1b-48b2-b9e1-3eb39d5de8b7",
     "showTitle": false,
     "tableResultSettingsMap": {},
     "title": ""
    }
   },
   "source": [
    "- Acción: devuelven un valor tras ejecutar una computación sobre el conjunto de datos."
   ]
  },
  {
   "cell_type": "markdown",
   "metadata": {
    "application/vnd.databricks.v1+cell": {
     "cellMetadata": {},
     "inputWidgets": {},
     "nuid": "cb72acf4-6bb2-4084-8fe7-c184755de7fc",
     "showTitle": false,
     "tableResultSettingsMap": {},
     "title": ""
    }
   },
   "source": [
    "- Transformación: es una operación perezosa (lazy) que crea un nuevo conjunto de datos a partir de otro RDD/Dataset, tras realizar un filtrado, join, etc..."
   ]
  },
  {
   "cell_type": "markdown",
   "metadata": {
    "application/vnd.databricks.v1+cell": {
     "cellMetadata": {},
     "inputWidgets": {},
     "nuid": "105f70b7-cc3d-40cc-aea5-4e1364099092",
     "showTitle": false,
     "tableResultSettingsMap": {},
     "title": ""
    }
   },
   "source": [
    "> **¿ Esta obsoleto RDD?**\n",
    "> \n",
    "> Antes de la versión 2.0, el principal interfaz para programar en Spark eran los RDD. Tras la versión 2.0, fueron sustituidos por los Dataset, que son RDD fuertemente tipados que además están optimizados a bajo nivel. Aunque el interfaz RDD todavía tiene soporte, sin embargo, se recomienda el uso de los Dataset por su mejor rendimiento.\n",
    "> Contexto y evolución\n",
    "RDD (Resilient Distributed Dataset): Es la abstracción fundamental que Apache Spark introdujo inicialmente. Los RDDs son colecciones distribuidas de objetos que pueden ser procesadas en paralelo. Proporcionan una API de bajo nivel y permiten un control detallado sobre las transformaciones y acciones en el procesamiento de datos distribuidos.\n",
    "\n",
    "> DataFrame API: Introducida en Spark 1.3, la API de DataFrame se basa en el concepto de tablas de bases de datos. Ofrece una capa de abstracción más alta que los RDDs y permite realizar operaciones de manera declarativa. Los DataFrames también ofrecen optimizaciones automáticas gracias al Catalyst Optimizer y el uso de Tungsten para la gestión de memoria, lo que hace que el procesamiento sea más eficiente.\n",
    "\n",
    ">Dataset API: Introducida en Spark 1.6 y diseñada para el uso en Scala y Java, combina las ventajas de los RDDs (tipos de datos específicos y seguridad de tipo) con las optimizaciones de los DataFrames. La API de Dataset es más fuerte en cuanto a tipo, lo que mejora la seguridad de tipo y reduce errores en tiempo de compilación.\n",
    ">¿Por qué se prefieren DataFrames y Datasets sobre RDDs?\n",
    ">Optimización: Las APIs de DataFrame y Dataset son optimizadas automáticamente por el Catalyst Optimizer, lo que permite ejecutar código de forma mucho más eficiente.\n",
    "\n",
    "> Facilidad de uso: DataFrames y Datasets proporcionan una API de más alto nivel, que es más intuitiva y se asemeja al lenguaje SQL, haciéndolas más accesibles para usuarios no especializados en programación funcional.\n",
    "\n",
    "> Mejor manejo de memoria: La gestión de memoria en DataFrames y Datasets está mejorada por el proyecto Tungsten, que reduce el consumo de memoria y mejora el rendimiento general de Spark.\n",
    "\n",
    "> Compatibilidad con SQL: Los DataFrames y Datasets están diseñados para trabajar de manera fluida con SQL, lo cual facilita el análisis y manipulación de datos estructurados."
   ]
  },
  {
   "cell_type": "markdown",
   "metadata": {
    "application/vnd.databricks.v1+cell": {
     "cellMetadata": {},
     "inputWidgets": {},
     "nuid": "afa5f78b-9a15-4c16-ae96-e60fb929242f",
     "showTitle": false,
     "tableResultSettingsMap": {},
     "title": ""
    }
   },
   "source": [
    "> ¿Cuándo usar RDDs?\n",
    "> Aunque los DataFrames y Datasets son generalmente recomendados, los RDDs aún son útiles en ciertas situaciones:\n",
    "\n",
    "> Procesamiento de datos no estructurados o semiestructurados: Cuando necesitas realizar operaciones complejas en datos que no pueden ser representados fácilmente como DataFrames o Datasets, los RDDs pueden ser una opción.\n",
    "Transformaciones personalizadas: Si necesitas un control detallado sobre las transformaciones o si las optimizaciones automáticas de Catalyst no son aplicables, RDDs te ofrecen más control.\n",
    "API de bajo nivel: Los RDDs proporcionan una API de bajo nivel que puede ser útil para desarrolladores avanzados que necesitan manipular datos distribuidos de forma muy específica."
   ]
  },
  {
   "cell_type": "markdown",
   "metadata": {
    "application/vnd.databricks.v1+cell": {
     "cellMetadata": {},
     "inputWidgets": {},
     "nuid": "816f272a-d995-4d9e-a98e-b5dabf0b263e",
     "showTitle": false,
     "tableResultSettingsMap": {},
     "title": ""
    }
   },
   "source": [
    "## Acciones"
   ]
  },
  {
   "cell_type": "markdown",
   "metadata": {
    "application/vnd.databricks.v1+cell": {
     "cellMetadata": {},
     "inputWidgets": {},
     "nuid": "e1f7d548-28bd-4533-ac03-b0339fd97607",
     "showTitle": false,
     "tableResultSettingsMap": {},
     "title": ""
    }
   },
   "source": [
    "En Apache Spark, las acciones son operaciones que se ejecutan sobre RDDs, DataFrames o Datasets y que desencadenan el cómputo real en el clúster. Es decir, las acciones inician el procesamiento y devuelven un valor o resultado al controlador del programa o escriben datos a un almacenamiento externo.\n",
    "\n",
    "Las acciones contrastan con las transformaciones, que son operaciones que definen cómo deben transformarse los datos pero no ejecutan inmediatamente el procesamiento. Las transformaciones son \"perezosas\" (lazy), mientras que las acciones desencadenan la ejecución."
   ]
  },
  {
   "cell_type": "markdown",
   "metadata": {
    "application/vnd.databricks.v1+cell": {
     "cellMetadata": {},
     "inputWidgets": {},
     "nuid": "64343e6a-3233-4726-aead-7a409cc7204c",
     "showTitle": false,
     "tableResultSettingsMap": {},
     "title": ""
    }
   },
   "source": [
    "A continuación vamos a revisar las acciones más comunes. Puedes consultar todas las acciones disponibles en la  [documentación oficial](https://spark.apache.org/docs/latest/rdd-programming-guide.html#actions)\r\n",
    "de Spark:"
   ]
  },
  {
   "cell_type": "markdown",
   "metadata": {
    "application/vnd.databricks.v1+cell": {
     "cellMetadata": {},
     "inputWidgets": {},
     "nuid": "7729af38-8a24-493f-9667-d69bdef16519",
     "showTitle": false,
     "tableResultSettingsMap": {},
     "title": ""
    }
   },
   "source": [
    "> Recuerda importar el contexto:"
   ]
  },
  {
   "cell_type": "code",
   "execution_count": 0,
   "metadata": {
    "application/vnd.databricks.v1+cell": {
     "cellMetadata": {
      "byteLimit": 2048000,
      "rowLimit": 10000
     },
     "inputWidgets": {},
     "nuid": "76f507ce-140e-4b59-bb37-8b4b86a5e8f6",
     "showTitle": false,
     "tableResultSettingsMap": {},
     "title": ""
    }
   },
   "outputs": [],
   "source": [
    "from pyspark.sql import SparkSession\n",
    "\n",
    "spark = SparkSession.builder.getOrCreate()\n",
    "sc = spark.sparkContext"
   ]
  },
  {
   "cell_type": "markdown",
   "metadata": {
    "application/vnd.databricks.v1+cell": {
     "cellMetadata": {},
     "inputWidgets": {},
     "nuid": "b3300d67-3c05-4f31-9497-1739fe1b1a5d",
     "showTitle": false,
     "tableResultSettingsMap": {},
     "title": ""
    }
   },
   "source": [
    "### Parallelize"
   ]
  },
  {
   "cell_type": "markdown",
   "metadata": {
    "application/vnd.databricks.v1+cell": {
     "cellMetadata": {},
     "inputWidgets": {},
     "nuid": "632a7c6c-bc6c-465e-9820-44a0b765c39b",
     "showTitle": false,
     "tableResultSettingsMap": {},
     "title": ""
    }
   },
   "source": [
    "En Apache Spark, parallelize es un método utilizado para crear un RDD (Resilient Distributed Dataset) a partir de una colección de datos en el controlador del programa. Permite distribuir los datos en paralelo entre los nodos del clúster para realizar operaciones distribuidas.\n",
    "\n"
   ]
  },
  {
   "cell_type": "markdown",
   "metadata": {
    "application/vnd.databricks.v1+cell": {
     "cellMetadata": {},
     "inputWidgets": {},
     "nuid": "f631730e-becf-4dd8-98f0-5f71458fc5b5",
     "showTitle": false,
     "tableResultSettingsMap": {},
     "title": ""
    }
   },
   "source": [
    "Podemos crear RDD directamente desde cero sin necesidad de leer los datos desde un fichero. Para ello, a partir de un `SparkContext` podemos utilizar `parallelize` sobre una lista."
   ]
  },
  {
   "cell_type": "markdown",
   "metadata": {
    "application/vnd.databricks.v1+cell": {
     "cellMetadata": {},
     "inputWidgets": {},
     "nuid": "11694850-0fb9-4337-a7d2-819eb7a3c752",
     "showTitle": false,
     "tableResultSettingsMap": {},
     "title": ""
    }
   },
   "source": [
    "Esta acción divide una colección de elementos entre los nodos de nuestro clústers. Por ejemplo:"
   ]
  },
  {
   "cell_type": "code",
   "execution_count": 0,
   "metadata": {
    "application/vnd.databricks.v1+cell": {
     "cellMetadata": {
      "byteLimit": 2048000,
      "rowLimit": 10000
     },
     "inputWidgets": {},
     "nuid": "8cad9bc7-4953-408f-a605-099b83427d07",
     "showTitle": false,
     "tableResultSettingsMap": {},
     "title": ""
    }
   },
   "outputs": [],
   "source": [
    "miRDD = sc.parallelize([1,2,3,4,5,6,7,8,9])\n",
    "\n",
    "lista  = ['Hola', 'Adiós', 'Hasta luego']\n",
    "listaRDD = sc.parallelize(lista) # Creamos un RDD a partir de una lista\n",
    "listaRDD4 = sc.parallelize(lista,4) # Creamos un RDD con 4 particiones"
   ]
  },
  {
   "cell_type": "markdown",
   "metadata": {
    "application/vnd.databricks.v1+cell": {
     "cellMetadata": {},
     "inputWidgets": {},
     "nuid": "caffb12c-557a-41ec-94d6-380673c6c3da",
     "showTitle": false,
     "tableResultSettingsMap": {},
     "title": ""
    }
   },
   "source": [
    "- `sc.parallelize([1,2,3,4,5,6,7,8,9]`: Crea un RDD a partir de una lista de números.\n",
    "- `sc.parallelize(lista)`: Crea un RDD a partir de una lista de cadenas de texto.\n",
    "- `sc.parallelize(lista, 4)`: Crea un RDD con 4 particiones a partir de la lista.\n",
    "\n",
    "`sc.parallelize` convierte una lista local en un RDD distribuido, y el número de particiones indica cómo se dividirán los datos entre los nodos."
   ]
  },
  {
   "cell_type": "code",
   "execution_count": 0,
   "metadata": {
    "application/vnd.databricks.v1+cell": {
     "cellMetadata": {
      "byteLimit": 2048000,
      "rowLimit": 10000
     },
     "inputWidgets": {},
     "nuid": "00370341-1cb2-430e-9c6f-9073a85afc3f",
     "showTitle": false,
     "tableResultSettingsMap": {},
     "title": ""
    }
   },
   "outputs": [
    {
     "output_type": "stream",
     "name": "stdout",
     "output_type": "stream",
     "text": [
      "Out[3]: ['Hola', 'Adiós', 'Hasta luego']"
     ]
    }
   ],
   "source": [
    "lista"
   ]
  },
  {
   "cell_type": "code",
   "execution_count": 0,
   "metadata": {
    "application/vnd.databricks.v1+cell": {
     "cellMetadata": {
      "byteLimit": 2048000,
      "rowLimit": 10000
     },
     "inputWidgets": {},
     "nuid": "5049316e-6097-41a5-81bf-c8273f68f641",
     "showTitle": false,
     "tableResultSettingsMap": {},
     "title": ""
    }
   },
   "outputs": [
    {
     "output_type": "stream",
     "name": "stdout",
     "output_type": "stream",
     "text": [
      "Out[4]: ParallelCollectionRDD[1] at readRDDFromInputStream at PythonRDD.scala:435"
     ]
    }
   ],
   "source": [
    "listaRDD"
   ]
  },
  {
   "cell_type": "markdown",
   "metadata": {
    "application/vnd.databricks.v1+cell": {
     "cellMetadata": {},
     "inputWidgets": {},
     "nuid": "90c00b8b-0be2-41c6-86bd-f45ee99419b0",
     "showTitle": false,
     "tableResultSettingsMap": {},
     "title": ""
    }
   },
   "source": [
    "- `Out[n]`: Muestra directamente los valores de la lista, ya que es un RDD creado a partir de una lista simple de Python.\n",
    "- `Out[n]`: Muestra el objeto `RDD` en sí mismo (representación interna de un RDD en Spark), porque no se ha realizado ninguna acción sobre él para recuperar los datos almacenados en el RDD."
   ]
  },
  {
   "cell_type": "code",
   "execution_count": 0,
   "metadata": {
    "application/vnd.databricks.v1+cell": {
     "cellMetadata": {
      "byteLimit": 2048000,
      "rowLimit": 10000
     },
     "inputWidgets": {},
     "nuid": "602db0eb-e81e-4065-b6bf-1691e9f0fd79",
     "showTitle": false,
     "tableResultSettingsMap": {},
     "title": ""
    }
   },
   "outputs": [
    {
     "output_type": "stream",
     "name": "stdout",
     "output_type": "stream",
     "text": [
      "Out[5]: ParallelCollectionRDD[2] at readRDDFromInputStream at PythonRDD.scala:435"
     ]
    }
   ],
   "source": [
    "listaRDD4"
   ]
  },
  {
   "cell_type": "markdown",
   "metadata": {
    "application/vnd.databricks.v1+cell": {
     "cellMetadata": {},
     "inputWidgets": {},
     "nuid": "3522ba70-a4dd-45ca-bd3a-b0ad5b6754e1",
     "showTitle": false,
     "tableResultSettingsMap": {},
     "title": ""
    }
   },
   "source": [
    "La salida `ParallelCollectionRDD[n] at readRDDFromInputStream` es simplemente la forma en que Spark te muestra un RDD cuando no has realizado una acción sobre él. Para obtener los datos de un RDD, debes usar acciones como `collect()`, `take()`, o `count()`, dependiendo de lo que necesites hacer."
   ]
  },
  {
   "cell_type": "markdown",
   "metadata": {
    "application/vnd.databricks.v1+cell": {
     "cellMetadata": {},
     "inputWidgets": {},
     "nuid": "5c3e4d52-5c36-41c8-a295-a6d6eea733c0",
     "showTitle": false,
     "tableResultSettingsMap": {},
     "title": ""
    }
   },
   "source": [
    "### Take y Sample"
   ]
  },
  {
   "cell_type": "markdown",
   "metadata": {
    "application/vnd.databricks.v1+cell": {
     "cellMetadata": {},
     "inputWidgets": {},
     "nuid": "1f0d1f2a-adc7-4884-9968-4dc5d3efd137",
     "showTitle": false,
     "tableResultSettingsMap": {},
     "title": ""
    }
   },
   "source": [
    "Son métodos utilizados en RDDs, DataFrames y Datasets para interactuar con los datos. Ambos sirven para trabajar con subconjuntos, pero tienen usos y características diferentes. Una vez tenemos un RDD, y sobre él queremos recuperar un número determinado de resultados, de forma similar a limit en SQL, tenemos la acción `take`:"
   ]
  },
  {
   "cell_type": "code",
   "execution_count": 0,
   "metadata": {
    "application/vnd.databricks.v1+cell": {
     "cellMetadata": {
      "byteLimit": 2048000,
      "rowLimit": 10000
     },
     "inputWidgets": {},
     "nuid": "ec4bdd22-864c-4873-8676-5ca07ea2d349",
     "showTitle": false,
     "tableResultSettingsMap": {},
     "title": ""
    }
   },
   "outputs": [
    {
     "output_type": "stream",
     "name": "stdout",
     "output_type": "stream",
     "text": [
      "Out[6]: [1, 2, 3]"
     ]
    }
   ],
   "source": [
    "miRDD.take(3)       # [1, 2, 3]]"
   ]
  },
  {
   "cell_type": "markdown",
   "metadata": {
    "application/vnd.databricks.v1+cell": {
     "cellMetadata": {},
     "inputWidgets": {},
     "nuid": "d45c44ca-56f1-4c4a-a638-215cfefe0f71",
     "showTitle": false,
     "tableResultSettingsMap": {},
     "title": ""
    }
   },
   "source": [
    "- El comando `miRDD.take(3)` obtiene los primeros 3 elementos del RDD miRDD y te los devuelve como una lista.\n",
    "- Salida: `[1, 2, 3]` porque esos son los primeros 3 elementos de la colección original de números."
   ]
  },
  {
   "cell_type": "code",
   "execution_count": 0,
   "metadata": {
    "application/vnd.databricks.v1+cell": {
     "cellMetadata": {
      "byteLimit": 2048000,
      "rowLimit": 10000
     },
     "inputWidgets": {},
     "nuid": "1acff8ff-04eb-4842-9c89-b8471e5e744f",
     "showTitle": false,
     "tableResultSettingsMap": {},
     "title": ""
    }
   },
   "outputs": [
    {
     "output_type": "stream",
     "name": "stdout",
     "output_type": "stream",
     "text": [
      "Out[7]: ['Hola', 'Adiós']"
     ]
    }
   ],
   "source": [
    "listaRDD.take(2)    # ['Hola', 'Adiós']"
   ]
  },
  {
   "cell_type": "markdown",
   "metadata": {
    "application/vnd.databricks.v1+cell": {
     "cellMetadata": {},
     "inputWidgets": {},
     "nuid": "bf8388b3-a2cc-4232-bcbd-902d5de7f5d9",
     "showTitle": false,
     "tableResultSettingsMap": {},
     "title": ""
    }
   },
   "source": [
    "Otra opción es utilizar `sample` para obtener una muestra de los datos, aunque en este caso no es una acción sino una transformación, ya que va a obtener información posiblemente de varias particiones, teniendo que barajar los datos (**shuffle**):"
   ]
  },
  {
   "cell_type": "code",
   "execution_count": 0,
   "metadata": {
    "application/vnd.databricks.v1+cell": {
     "cellMetadata": {
      "byteLimit": 2048000,
      "rowLimit": 10000
     },
     "inputWidgets": {},
     "nuid": "2a83b128-8792-4ccd-b7f9-e06fbe5cac5c",
     "showTitle": false,
     "tableResultSettingsMap": {},
     "title": ""
    }
   },
   "outputs": [],
   "source": [
    "miRDDmuestra = miRDD.sample(False, 0.5)"
   ]
  },
  {
   "cell_type": "markdown",
   "metadata": {
    "application/vnd.databricks.v1+cell": {
     "cellMetadata": {},
     "inputWidgets": {},
     "nuid": "2d99f9a2-c33a-475a-b546-a1d449b43f85",
     "showTitle": false,
     "tableResultSettingsMap": {},
     "title": ""
    }
   },
   "source": [
    "- `sample(False, 0.5)` selecciona aleatoriamente el 50% de los elementos de miRDD sin reemplazo.\n",
    "- El nuevo RDD (`miRDDmuestra`) contiene esta muestra aleatoria."
   ]
  },
  {
   "cell_type": "code",
   "execution_count": 0,
   "metadata": {
    "application/vnd.databricks.v1+cell": {
     "cellMetadata": {
      "byteLimit": 2048000,
      "rowLimit": 10000
     },
     "inputWidgets": {},
     "nuid": "c64255c9-6f3a-4228-8286-9167f4d292d3",
     "showTitle": false,
     "tableResultSettingsMap": {},
     "title": ""
    }
   },
   "outputs": [
    {
     "output_type": "stream",
     "name": "stdout",
     "output_type": "stream",
     "text": [
      "Out[9]: [1, 5, 6, 9]"
     ]
    }
   ],
   "source": [
    "miRDDmuestra.collect()  # [2, 4, 6, 7, 8, 9] / [1, 2, 3, 4, 6] / [5, 8, 9]"
   ]
  },
  {
   "cell_type": "markdown",
   "metadata": {
    "application/vnd.databricks.v1+cell": {
     "cellMetadata": {},
     "inputWidgets": {},
     "nuid": "b9526082-760b-4ff2-ba63-6e50fce056b0",
     "showTitle": false,
     "tableResultSettingsMap": {},
     "title": ""
    }
   },
   "source": [
    "- `miRDD.sample(False, 0.5)` crea un RDD con una muestra aleatoria de aproximadamente el 50% de los elementos de `miRDD` sin reemplazo.\n",
    "- `miRDDmuestra.collect()` obtiene todos los elementos de esa muestra y los devuelve como una lista de Python.\n",
    "- La salida `[1, 5, 6, 9]` es una muestra aleatoria de los elementos de miRDD. El conjunto exacto de elementos varía con cada ejecución, debido a la naturaleza aleatoria del muestreo."
   ]
  },
  {
   "cell_type": "markdown",
   "metadata": {
    "application/vnd.databricks.v1+cell": {
     "cellMetadata": {},
     "inputWidgets": {},
     "nuid": "6819d3ce-36c7-42d7-b9b6-243ba1027230",
     "showTitle": false,
     "tableResultSettingsMap": {},
     "title": ""
    }
   },
   "source": [
    "Esta transformación recibe varios parámetros:"
   ]
  },
  {
   "cell_type": "markdown",
   "metadata": {
    "application/vnd.databricks.v1+cell": {
     "cellMetadata": {},
     "inputWidgets": {},
     "nuid": "2210bf6c-271b-4104-bdf7-d4516c39c537",
     "showTitle": false,
     "tableResultSettingsMap": {},
     "title": ""
    }
   },
   "source": [
    "- `withReplacement`: booleano para indicar si queremos elementos repetidos\n",
    "- `fraction` : valor entre 0 y 1 que expresa la probabilidad de elegir cada elemento\n",
    "- opcionalmente se le puede pasar un tercer valor con la semilla"
   ]
  },
  {
   "cell_type": "markdown",
   "metadata": {
    "application/vnd.databricks.v1+cell": {
     "cellMetadata": {},
     "inputWidgets": {},
     "nuid": "249631ba-a900-44e8-ba8e-9e0bd721ad72",
     "showTitle": false,
     "tableResultSettingsMap": {},
     "title": ""
    }
   },
   "source": [
    "Así pues, en el ejemplo anterior, cada llamada a sample ha generado un RDD diferente, sin valores repetidos, pero con un tamaño de RDD variable."
   ]
  },
  {
   "cell_type": "markdown",
   "metadata": {
    "application/vnd.databricks.v1+cell": {
     "cellMetadata": {},
     "inputWidgets": {},
     "nuid": "7f694929-89c3-4946-8ea0-d168496ee390",
     "showTitle": false,
     "tableResultSettingsMap": {},
     "title": ""
    }
   },
   "source": [
    "**Muestra Estratificada**  \n",
    "\n",
    "Si necesitamos que nuestra muestra esté estratificada para que los datos no estén sesgados podemos utilizar `sampleByKey`:"
   ]
  },
  {
   "cell_type": "markdown",
   "metadata": {
    "application/vnd.databricks.v1+cell": {
     "cellMetadata": {},
     "inputWidgets": {},
     "nuid": "fdb0d3b4-6828-403c-ae53-3934792a5928",
     "showTitle": false,
     "tableResultSettingsMap": {},
     "title": ""
    }
   },
   "source": [
    "¿Qué es una muestra estratificada en este contexto?\n",
    "\n",
    "- Muestreo estratificado asegura que cada grupo (estrato) de datos esté representado adecuadamente según la proporción que se desea en la muestra.\n",
    "- `sampleByKey()` realiza un muestreo estratificado de un RDD de tuplas, donde la clave se usa para definir los estratos y se aplica un muestreo independiente a cada estrato según las probabilidades especificadas.\n",
    "- Esto es útil cuando se quiere asegurar que las diferentes categorías de datos estén representadas proporcionalmente en la muestra, lo que ayuda a evitar sesgos."
   ]
  },
  {
   "cell_type": "code",
   "execution_count": 0,
   "metadata": {
    "application/vnd.databricks.v1+cell": {
     "cellMetadata": {
      "byteLimit": 2048000,
      "rowLimit": 10000
     },
     "inputWidgets": {},
     "nuid": "842bc884-15c0-4531-bcbd-f388bef9880e",
     "showTitle": false,
     "tableResultSettingsMap": {},
     "title": ""
    }
   },
   "outputs": [
    {
     "output_type": "stream",
     "name": "stdout",
     "output_type": "stream",
     "text": [
      "[(2, 'c'), (2, 'e')]\n"
     ]
    }
   ],
   "source": [
    "datos = sc.parallelize([(1, 'a'), (1, 'b'), (2, 'c'), (2, 'd'), (2, 'e'), (3, 'f')])\n",
    "\n",
    "# indicamos la probabilidad para cada clave\n",
    "fracciones = {1: 0.1, 2: 0.6, 3: 0.3}\n",
    "\n",
    "approxSample = datos.sampleByKey(False, fracciones)     # [(2, 'c'), (2, 'd')] el resultado puede variar\n",
    "print(approxSample.collect())"
   ]
  },
  {
   "cell_type": "markdown",
   "metadata": {
    "application/vnd.databricks.v1+cell": {
     "cellMetadata": {},
     "inputWidgets": {},
     "nuid": "5aadfe4e-f587-4214-8ae7-77e09ac6e433",
     "showTitle": false,
     "tableResultSettingsMap": {},
     "title": ""
    }
   },
   "source": [
    "#### Probabilidad de selección para cada clave:\n",
    "\n",
    "- **Para la clave 1**: La probabilidad de selección es 0.1. Esto significa que aproximadamente el 10% de los elementos con la clave 1 serán seleccionados. Dado que hay 2 elementos con la clave 1, el 10% de 2 es 0.2, lo que sugiere que es probable que se seleccione 1 elemento de esa clave, pero cuál de esos elementos es seleccionado es aleatorio.\n",
    "\n",
    "- **Para la clave 2**: La probabilidad de selección es 0.6. El 60% de 3 elementos son 1.8, lo que significa que probablemente se seleccionarán 2 de los 3 elementos, pero qué elementos son seleccionados es aleatorio.\n",
    "\n",
    "- **Para la clave 3**: La probabilidad de selección es 0.3. Como hay solo un elemento con la clave 3, el 30% de ese único elemento hace que haya una alta probabilidad de que se seleccione ese elemento.\n"
   ]
  },
  {
   "cell_type": "markdown",
   "metadata": {
    "application/vnd.databricks.v1+cell": {
     "cellMetadata": {},
     "inputWidgets": {},
     "nuid": "60778104-b68f-4166-8311-476b71433536",
     "showTitle": false,
     "tableResultSettingsMap": {},
     "title": ""
    }
   },
   "source": [
    "Para obtener una muestra mediante una acción, tenemos la opción `takeSample` que funciona de forma similar pero sin hacer `shuffle` \n",
    "y devuelve una lista:"
   ]
  },
  {
   "cell_type": "code",
   "execution_count": 0,
   "metadata": {
    "application/vnd.databricks.v1+cell": {
     "cellMetadata": {
      "byteLimit": 2048000,
      "rowLimit": 10000
     },
     "inputWidgets": {},
     "nuid": "12c86267-76e0-4951-8819-49958f483d58",
     "showTitle": false,
     "tableResultSettingsMap": {},
     "title": ""
    }
   },
   "outputs": [
    {
     "output_type": "stream",
     "name": "stdout",
     "output_type": "stream",
     "text": [
      "[1, 9, 7, 6, 8]\n"
     ]
    }
   ],
   "source": [
    "miRDDmuestraT = miRDD.takeSample(False, 5)\n",
    "print(miRDDmuestraT)  # [1, 8, 9, 7, 2] el resultado puede variar"
   ]
  },
  {
   "cell_type": "markdown",
   "metadata": {
    "application/vnd.databricks.v1+cell": {
     "cellMetadata": {},
     "inputWidgets": {},
     "nuid": "89dcc28b-3a0b-4b6a-810e-17055c92724a",
     "showTitle": false,
     "tableResultSettingsMap": {},
     "title": ""
    }
   },
   "source": [
    "El primer parámetro vuelve a indicar si hay repetidos, pero el segundo fija la cantidad de elementos a devolver."
   ]
  },
  {
   "cell_type": "markdown",
   "metadata": {
    "application/vnd.databricks.v1+cell": {
     "cellMetadata": {},
     "inputWidgets": {},
     "nuid": "c19e34da-8a90-450f-856a-8bb44e465f27",
     "showTitle": false,
     "tableResultSettingsMap": {},
     "title": ""
    }
   },
   "source": [
    "Por último, mediante `top` obtenemos los primeros elementos una vez ordenado el RDD:"
   ]
  },
  {
   "cell_type": "code",
   "execution_count": 0,
   "metadata": {
    "application/vnd.databricks.v1+cell": {
     "cellMetadata": {
      "byteLimit": 2048000,
      "rowLimit": 10000
     },
     "inputWidgets": {},
     "nuid": "a0750a36-e640-4e52-99d7-36a2ae04dcec",
     "showTitle": false,
     "tableResultSettingsMap": {},
     "title": ""
    }
   },
   "outputs": [
    {
     "output_type": "stream",
     "name": "stdout",
     "output_type": "stream",
     "text": [
      "Out[16]: [9, 8, 7]"
     ]
    }
   ],
   "source": [
    "miRDD.top(3)    # [9, 8, 7]"
   ]
  },
  {
   "cell_type": "markdown",
   "metadata": {
    "application/vnd.databricks.v1+cell": {
     "cellMetadata": {},
     "inputWidgets": {},
     "nuid": "710f87bd-787e-4f87-83f6-bca1a796c5ae",
     "showTitle": false,
     "tableResultSettingsMap": {},
     "title": ""
    }
   },
   "source": [
    "De forma similar, tenemos `takeOrdered` que recupera la cantidad de registros necesarios pero ordenados ascendentemente (al contrario que `top`), con la opción de ordenarlos descendentemente (similar a `top`):"
   ]
  },
  {
   "cell_type": "code",
   "execution_count": 0,
   "metadata": {
    "application/vnd.databricks.v1+cell": {
     "cellMetadata": {
      "byteLimit": 2048000,
      "rowLimit": 10000
     },
     "inputWidgets": {},
     "nuid": "8216eea2-37a6-4894-a460-f1ebeadd6978",
     "showTitle": false,
     "tableResultSettingsMap": {},
     "title": ""
    }
   },
   "outputs": [
    {
     "output_type": "stream",
     "name": "stdout",
     "output_type": "stream",
     "text": [
      "Out[17]: [1, 2, 3]"
     ]
    }
   ],
   "source": [
    "miRDD.takeOrdered(3)    # [1, 2, 3]"
   ]
  },
  {
   "cell_type": "code",
   "execution_count": 0,
   "metadata": {
    "application/vnd.databricks.v1+cell": {
     "cellMetadata": {
      "byteLimit": 2048000,
      "rowLimit": 10000
     },
     "inputWidgets": {},
     "nuid": "1d743651-e3a6-4e38-a4cb-7b10cc83df57",
     "showTitle": false,
     "tableResultSettingsMap": {},
     "title": ""
    }
   },
   "outputs": [
    {
     "output_type": "stream",
     "name": "stdout",
     "output_type": "stream",
     "text": [
      "Out[18]: [9, 8, 7]"
     ]
    }
   ],
   "source": [
    "miRDD.takeOrdered(3, lambda x: -x)    # [9, 8, 7]"
   ]
  },
  {
   "cell_type": "markdown",
   "metadata": {
    "application/vnd.databricks.v1+cell": {
     "cellMetadata": {},
     "inputWidgets": {},
     "nuid": "59b3f40e-828c-4952-adf2-bce21cf17685",
     "showTitle": false,
     "tableResultSettingsMap": {},
     "title": ""
    }
   },
   "source": [
    "### Explicación de las funciones lambda en Python\n",
    "\n",
    "Las **funciones lambda** en Python son funciones anónimas que se pueden definir en una sola línea. Su sintaxis es:\n",
    "\n",
    "`lambda argumentos: expresión`\n",
    "\n",
    "#### Características:\n",
    "- No requieren nombre (son anónimas).\n",
    "- Pueden tener múltiples argumentos, pero solo una expresión.\n",
    "- Se utilizan principalmente para funciones simples y como argumentos en otras funciones como `map()`, `filter()`, `sorted()`, entre otras.\n",
    "\n",
    "#### Relación con el código proporcionado:\n",
    "\n",
    "En el código:\n",
    "\n",
    "`miRDD.takeOrdered(3, lambda x: -x)`\n",
    "\n",
    "La función `lambda` toma un elemento `x` y devuelve su valor negativo (`-x`). Esto permite ordenar los elementos de manera descendente, seleccionando los tres más grandes. La función `takeOrdered()` luego toma los primeros tres elementos después de ordenarlos de mayor a menor.\n",
    "\n",
    "#### Resumen:\n",
    "Las funciones lambda son funciones simples y anónimas que se definen en una sola línea y se usan principalmente cuando se necesitan funciones breves y rápidas, como argumentos en otras funciones.\n",
    "\n",
    "### Ejemplos básicos de funciones lambda en Python\n",
    "\n",
    "1. **Suma de dos números**:\n",
    "   Una función lambda que recibe dos números y devuelve su suma:\n",
    "  ```python\n",
    "  suma = lambda a, b: a + b\n",
    "  ```\n",
    "\n",
    "   En este caso, `lambda` toma los argumentos `a` y `b` y devuelve su suma `a + b`.\n",
    "\n",
    "2. **Función para multiplicar un número por 2**:\n",
    "   Una función lambda que multiplica un número por 2:\n",
    "\n",
    "  ```python\n",
    "  multiplicar_por_dos = lambda x: x * 2\n",
    "  ```\n",
    "\n",
    "   Aquí, la función toma un argumento `x` y devuelve `x * 2`.\n",
    "\n",
    "3. **Filtrar números pares de una lista**:\n",
    "   Usando `filter()` y una función lambda para obtener solo los números pares de una lista:\n",
    "\n",
    "  ```python\n",
    "  numeros_pares = filter(lambda x: x % 2 == 0, lista)\n",
    "  ```\n",
    "\n",
    "   En este ejemplo, la lambda filtra los números de la lista que son divisibles entre 2 (números pares).\n",
    "\n",
    "4. **Obtener el cuadrado de un número**:\n",
    "   Una función lambda para calcular el cuadrado de un número:\n",
    "\n",
    "  ```python\n",
    "  cuadrado = lambda x: x ** 2\n",
    "  ```\n",
    "\n",
    "   Esta función toma un número `x` y devuelve su cuadrado (`x ** 2`).\n",
    "\n",
    "5. **Ordenar una lista de tuplas por el segundo elemento**:\n",
    "   Usando `sorted()` con una función lambda para ordenar tuplas por el segundo elemento:\n",
    "\n",
    "  ```python\n",
    "  lista_ordenada = sorted(lista_tuplas, key=lambda x: x[1])\n",
    "  ```\n",
    "\n",
    "   La lambda toma una tupla `x` y devuelve el segundo elemento (`x[1]`), que se usa para ordenar las tuplas en la lista.\n",
    "\n",
    "#### Resumen:\n",
    "Las funciones lambda en Python son útiles para realizar operaciones simples y rápidas en una sola línea, como realizar cálculos, filtrar elementos de una lista o ordenar datos de manera flexible.\n"
   ]
  },
  {
   "cell_type": "markdown",
   "metadata": {
    "application/vnd.databricks.v1+cell": {
     "cellMetadata": {},
     "inputWidgets": {},
     "nuid": "dc3e40aa-c8ce-4df3-9f99-72b1f8d0aef3",
     "showTitle": false,
     "tableResultSettingsMap": {},
     "title": ""
    }
   },
   "source": [
    "> Explicar las funciones lambda de python. Añada ejemplos simples"
   ]
  },
  {
   "cell_type": "markdown",
   "metadata": {
    "application/vnd.databricks.v1+cell": {
     "cellMetadata": {},
     "inputWidgets": {},
     "nuid": "24ba89d0-f554-4d06-a350-6a9bda0bc2a1",
     "showTitle": false,
     "tableResultSettingsMap": {},
     "title": ""
    }
   },
   "source": [
    "Hay que tener cuidado si el conjunto de datos es muy grande, porque tanto `take` como `takeSample`, `takeOrdered` y `top` llevarán todos los datos a memoria."
   ]
  },
  {
   "cell_type": "markdown",
   "metadata": {
    "application/vnd.databricks.v1+cell": {
     "cellMetadata": {},
     "inputWidgets": {},
     "nuid": "610fa6e0-4dd1-47ac-9148-8e8370ceecd3",
     "showTitle": false,
     "tableResultSettingsMap": {},
     "title": ""
    }
   },
   "source": [
    "> ¿Que alternativas tengo?"
   ]
  },
  {
   "cell_type": "markdown",
   "metadata": {
    "application/vnd.databricks.v1+cell": {
     "cellMetadata": {},
     "inputWidgets": {},
     "nuid": "e7c6fbbd-41a2-4f6f-85d3-1ab6bcc7fbae",
     "showTitle": false,
     "tableResultSettingsMap": {},
     "title": ""
    }
   },
   "source": [
    "> Funciones lambda\n",
    "> \n",
    "> *Spark* hace un uso extensivo de las funciones *lambda de Python* para simplificar el código.\n",
    "> Una función lambda no es más que una función anónima condensada en una sola línea:"
   ]
  },
  {
   "cell_type": "code",
   "execution_count": 0,
   "metadata": {
    "application/vnd.databricks.v1+cell": {
     "cellMetadata": {
      "byteLimit": 2048000,
      "rowLimit": 10000
     },
     "inputWidgets": {},
     "nuid": "07e7bcf2-77a2-4a56-ac37-6e4097ca52f4",
     "showTitle": false,
     "tableResultSettingsMap": {},
     "title": ""
    }
   },
   "outputs": [
    {
     "output_type": "stream",
     "name": "stdout",
     "output_type": "stream",
     "text": [
      "Out[19]: <function __main__.<lambda>(par1, par2)>"
     ]
    }
   ],
   "source": [
    "# par1 y par2 son los parámetros de entrada, y expresión el código de la función\n",
    "lambda par1, par2: expresión"
   ]
  },
  {
   "cell_type": "markdown",
   "metadata": {
    "application/vnd.databricks.v1+cell": {
     "cellMetadata": {},
     "inputWidgets": {},
     "nuid": "17c7ce80-e2b7-4674-b22c-67ef6c4bb893",
     "showTitle": false,
     "tableResultSettingsMap": {},
     "title": ""
    }
   },
   "source": [
    "#### Explicación de la salida:\n",
    "- `<function __main__.<lambda>(par1, par2)>`: Es una representación del objeto función lambda que acabas de definir. No ejecuta la función, solo muestra su definición.\n",
    "- `__main__`: Indica que la función lambda ha sido definida en el contexto del script o del entorno interactivo principal.\n",
    "- `<lambda>`: Especifica que la función es anónima (es decir, no tiene nombre) y fue creada con `lambda`.\n",
    "- `(par1, par2)`: Son los parámetros que la función lambda acepta.\n",
    "#### En resumen:\n",
    "- La salida muestra que has creado una función lambda que toma dos parámetros (`par1` y `par2`), pero aún no la has ejecutado ni asignado a una variable. La salida simplemente muestra la referencia a la función que acabas de definir."
   ]
  },
  {
   "cell_type": "markdown",
   "metadata": {
    "application/vnd.databricks.v1+cell": {
     "cellMetadata": {},
     "inputWidgets": {},
     "nuid": "961d4308-0195-4085-b27e-74dff8e33e34",
     "showTitle": false,
     "tableResultSettingsMap": {},
     "title": ""
    }
   },
   "source": [
    "> Por ejemplo, si tuviéramos una función que suma dos números, podríamos hacerla en Python de estas dos maneras:"
   ]
  },
  {
   "cell_type": "code",
   "execution_count": 0,
   "metadata": {
    "application/vnd.databricks.v1+cell": {
     "cellMetadata": {
      "byteLimit": 2048000,
      "rowLimit": 10000
     },
     "inputWidgets": {},
     "nuid": "319d95f2-a8b3-41f0-b3a9-cd4d0c294a4a",
     "showTitle": false,
     "tableResultSettingsMap": {},
     "title": ""
    }
   },
   "outputs": [],
   "source": [
    "def suma(x,y):\n",
    "    return(x + y)\n",
    "\n",
    "sumaL = lambda x,y : x + y\n",
    "\n",
    "res = suma(3, 4)\n",
    "resL = sumaL(3, 4)"
   ]
  },
  {
   "cell_type": "markdown",
   "metadata": {
    "application/vnd.databricks.v1+cell": {
     "cellMetadata": {},
     "inputWidgets": {},
     "nuid": "5853575d-12b8-456a-b097-cb259b8b2da0",
     "showTitle": false,
     "tableResultSettingsMap": {},
     "title": ""
    }
   },
   "source": [
    "A lo largo de los ejemplos de esta sesión y las siguientes nos iremos familiarizando con su uso"
   ]
  },
  {
   "cell_type": "markdown",
   "metadata": {
    "application/vnd.databricks.v1+cell": {
     "cellMetadata": {},
     "inputWidgets": {},
     "nuid": "4b36fc8b-527e-4a2a-8a1e-6321df05626e",
     "showTitle": false,
     "tableResultSettingsMap": {},
     "title": ""
    }
   },
   "source": [
    "### Collect"
   ]
  },
  {
   "cell_type": "markdown",
   "metadata": {
    "application/vnd.databricks.v1+cell": {
     "cellMetadata": {},
     "inputWidgets": {},
     "nuid": "d1709a17-b045-4601-96b9-23fece7b8172",
     "showTitle": false,
     "tableResultSettingsMap": {},
     "title": ""
    }
   },
   "source": [
    "Es una acción que se utiliza para recuperar todos los elementos de un RDD, DataFrame o Dataset desde los nodos distribuidos del clúster y traerlos al controlador (la máquina que ejecuta tu aplicación Spark)."
   ]
  },
  {
   "cell_type": "markdown",
   "metadata": {
    "application/vnd.databricks.v1+cell": {
     "cellMetadata": {},
     "inputWidgets": {},
     "nuid": "909eef86-5dfa-4382-b214-b90e45c764f4",
     "showTitle": false,
     "tableResultSettingsMap": {},
     "title": ""
    }
   },
   "source": [
    "Un fallo muy posible a la hora de mostrar los datos de un RDD es utilizar `rdd.foreach(print)` o `rdd.map(print)`."
   ]
  },
  {
   "cell_type": "markdown",
   "metadata": {
    "application/vnd.databricks.v1+cell": {
     "cellMetadata": {},
     "inputWidgets": {},
     "nuid": "7374d282-55b7-46c4-b72a-b7f17e5a2244",
     "showTitle": false,
     "tableResultSettingsMap": {},
     "title": ""
    }
   },
   "source": [
    "En una única máquina, esta operación generaría la salida esperada mostrando todos los elementos del RDD. Sin embargo, al trabajar en un clúster, la salida a stdout la realizarían los diferentes nodos y no el nodo principal. Así pues, para mostrar todos los elementos de un RDD/DataFrame/Dataset hemos de emplear el método collect, el cual primero mostrará los RDD del nodo principal (driver node), y luego para cada nodo del cluster mostrará sus datos."
   ]
  },
  {
   "cell_type": "code",
   "execution_count": 0,
   "metadata": {
    "application/vnd.databricks.v1+cell": {
     "cellMetadata": {
      "byteLimit": 2048000,
      "rowLimit": 10000
     },
     "inputWidgets": {},
     "nuid": "f0e68861-d2c2-4d26-b8b8-47af1ef1396b",
     "showTitle": false,
     "tableResultSettingsMap": {},
     "title": ""
    }
   },
   "outputs": [
    {
     "output_type": "stream",
     "name": "stdout",
     "output_type": "stream",
     "text": [
      "Out[26]: [0,\n 1,\n 2,\n 3,\n 4,\n 5,\n 6,\n 7,\n 8,\n 9,\n 10,\n 11,\n 12,\n 13,\n 14,\n 15,\n 16,\n 17,\n 18,\n 19,\n 20,\n 21,\n 22,\n 23,\n 24,\n 25,\n 26,\n 27,\n 28,\n 29,\n 30,\n 31,\n 32,\n 33,\n 34,\n 35,\n 36,\n 37,\n 38,\n 39,\n 40,\n 41,\n 42,\n 43,\n 44,\n 45,\n 46,\n 47,\n 48,\n 49,\n 50,\n 51,\n 52,\n 53,\n 54,\n 55,\n 56,\n 57,\n 58,\n 59,\n 60,\n 61,\n 62,\n 63,\n 64,\n 65,\n 66,\n 67,\n 68,\n 69,\n 70,\n 71,\n 72,\n 73,\n 74,\n 75,\n 76,\n 77,\n 78,\n 79,\n 80,\n 81,\n 82,\n 83,\n 84,\n 85,\n 86,\n 87,\n 88,\n 89,\n 90,\n 91,\n 92,\n 93,\n 94,\n 95,\n 96,\n 97,\n 98,\n 99,\n 100]"
     ]
    }
   ],
   "source": [
    "rdd.collect()"
   ]
  },
  {
   "cell_type": "markdown",
   "metadata": {
    "application/vnd.databricks.v1+cell": {
     "cellMetadata": {},
     "inputWidgets": {},
     "nuid": "3cedf4bd-503e-4203-a7a6-5579bc75ce9a",
     "showTitle": false,
     "tableResultSettingsMap": {},
     "title": ""
    }
   },
   "source": [
    "> **Out of memory**\n",
    "> \n",
    "> Hay que tener mucho cuidado, ya que nos podemos quedar fácilmente sin memoria, ya que `collect` se trae los datos de todos los ejecutores a un único nodo, el que ésta ejecutando el código (driver)."
   ]
  },
  {
   "cell_type": "markdown",
   "metadata": {
    "application/vnd.databricks.v1+cell": {
     "cellMetadata": {},
     "inputWidgets": {},
     "nuid": "4577419c-036b-40d9-9692-01267cf3c668",
     "showTitle": false,
     "tableResultSettingsMap": {},
     "title": ""
    }
   },
   "source": [
    "Si sólo necesitamos mostrar unos pocos elementos, un enfoque más seguro es utilizar `take`:"
   ]
  },
  {
   "cell_type": "code",
   "execution_count": 0,
   "metadata": {
    "application/vnd.databricks.v1+cell": {
     "cellMetadata": {
      "byteLimit": 2048000,
      "rowLimit": 10000
     },
     "inputWidgets": {},
     "nuid": "9dcce1bc-f8bf-4c62-b6d4-57ca89c71bbd",
     "showTitle": false,
     "tableResultSettingsMap": {},
     "title": ""
    }
   },
   "outputs": [
    {
     "output_type": "stream",
     "name": "stdout",
     "output_type": "stream",
     "text": [
      "Out[27]: [0,\n 1,\n 2,\n 3,\n 4,\n 5,\n 6,\n 7,\n 8,\n 9,\n 10,\n 11,\n 12,\n 13,\n 14,\n 15,\n 16,\n 17,\n 18,\n 19,\n 20,\n 21,\n 22,\n 23,\n 24,\n 25,\n 26,\n 27,\n 28,\n 29,\n 30,\n 31,\n 32,\n 33,\n 34,\n 35,\n 36,\n 37,\n 38,\n 39,\n 40,\n 41,\n 42,\n 43,\n 44,\n 45,\n 46,\n 47,\n 48,\n 49,\n 50,\n 51,\n 52,\n 53,\n 54,\n 55,\n 56,\n 57,\n 58,\n 59,\n 60,\n 61,\n 62,\n 63,\n 64,\n 65,\n 66,\n 67,\n 68,\n 69,\n 70,\n 71,\n 72,\n 73,\n 74,\n 75,\n 76,\n 77,\n 78,\n 79,\n 80,\n 81,\n 82,\n 83,\n 84,\n 85,\n 86,\n 87,\n 88,\n 89,\n 90,\n 91,\n 92,\n 93,\n 94,\n 95,\n 96,\n 97,\n 98,\n 99]"
     ]
    }
   ],
   "source": [
    "rdd.take(100)"
   ]
  },
  {
   "cell_type": "markdown",
   "metadata": {
    "application/vnd.databricks.v1+cell": {
     "cellMetadata": {},
     "inputWidgets": {},
     "nuid": "c34a2723-d654-4bce-8637-026592afdb98",
     "showTitle": false,
     "tableResultSettingsMap": {},
     "title": ""
    }
   },
   "source": [
    "### Transformaciones"
   ]
  },
  {
   "cell_type": "markdown",
   "metadata": {
    "application/vnd.databricks.v1+cell": {
     "cellMetadata": {},
     "inputWidgets": {},
     "nuid": "4ece8db2-6fc0-4f41-b6e0-c2c3623a738b",
     "showTitle": false,
     "tableResultSettingsMap": {},
     "title": ""
    }
   },
   "source": [
    "Las transformaciones son operaciones aplicadas a un RDD, DataFrame o Dataset que producen un nuevo conjunto de datos. Estas operaciones son perezosas (lazy), lo que significa que no se ejecutan inmediatamente, sino que solo se registran en un plan lógico de ejecución. Las transformaciones no procesan los datos directamente hasta que se llama a una acción."
   ]
  },
  {
   "cell_type": "markdown",
   "metadata": {
    "application/vnd.databricks.v1+cell": {
     "cellMetadata": {},
     "inputWidgets": {},
     "nuid": "e3cf9455-05be-4dc4-abcf-2d1b138e5cf2",
     "showTitle": false,
     "tableResultSettingsMap": {},
     "title": ""
    }
   },
   "source": [
    "En Spark, las estructuras de datos son inmutables, de manera que una vez creadas no se pueden modificar. Para poder modificar un RDD/DataFrame hace falta realizar una transformación, siendo el modo de expresar la lógica de negocio mediante Spark."
   ]
  },
  {
   "cell_type": "markdown",
   "metadata": {
    "application/vnd.databricks.v1+cell": {
     "cellMetadata": {},
     "inputWidgets": {},
     "nuid": "0ee0a047-d666-49fc-99c9-8485abc7202b",
     "showTitle": false,
     "tableResultSettingsMap": {},
     "title": ""
    }
   },
   "source": [
    "Todas las transformaciones en Spark se evalúan de manera perezosa (lazy evaluation), de manera que los resultados no se computan inmediatamente, sino que se retrasa el cálculo hasta que el valor sea necesario. Para ello, se van almacenando los pasos necesarios y se ejecutan únicamente cuando una acción requiere devolver un resultado al driver. Este diseño facilita un mejor rendimiento (por ejemplo, imagina que tras una operación map se realiza un reduce y en vez de devolver todo el conjunto de datos tras el map, sólo le enviamos al driver el resultado de la reducción)."
   ]
  },
  {
   "cell_type": "markdown",
   "metadata": {
    "application/vnd.databricks.v1+cell": {
     "cellMetadata": {},
     "inputWidgets": {},
     "nuid": "1d9a289c-77c0-45fd-9364-e9a1d207c9bb",
     "showTitle": false,
     "tableResultSettingsMap": {},
     "title": ""
    }
   },
   "source": [
    "> Explicación: La salida `<function __main__.<lambda>(par1, par2)>` muestra que has definido una función lambda anónima en el entorno principal (`__main__`), que acepta dos parámetros (`par1` y `par2`). Esta salida no ejecuta la función, solo muestra su definición."
   ]
  },
  {
   "cell_type": "markdown",
   "metadata": {
    "application/vnd.databricks.v1+cell": {
     "cellMetadata": {},
     "inputWidgets": {},
     "nuid": "70519218-03c1-4331-9321-9d48d4e6d544",
     "showTitle": false,
     "tableResultSettingsMap": {},
     "title": ""
    }
   },
   "source": [
    "Así pues, las acciones provocan la evaluación de todas las transformaciones previas que se habían evaluado de forma perezosa y estaban a la espera."
   ]
  },
  {
   "cell_type": "markdown",
   "metadata": {
    "application/vnd.databricks.v1+cell": {
     "cellMetadata": {},
     "inputWidgets": {},
     "nuid": "cee7507e-e855-42aa-90ce-26009270a34e",
     "showTitle": false,
     "tableResultSettingsMap": {},
     "title": ""
    }
   },
   "source": [
    "Por defecto, cada transformación RDD/DataSet se puede recalcular cada vez que se ejecute una acción. Sin embargo, podemos persistir un RDD en memoria mediante los métodos persist (o cache), de manera que Spark mantendrá los datos para un posterior acceso más eficiente. También podemos persistir un RDD en disco o replicarlo en múltiples nodos."
   ]
  },
  {
   "cell_type": "markdown",
   "metadata": {
    "application/vnd.databricks.v1+cell": {
     "cellMetadata": {},
     "inputWidgets": {},
     "nuid": "ec79054d-829f-4054-aed7-c21001c979e6",
     "showTitle": false,
     "tableResultSettingsMap": {},
     "title": ""
    }
   },
   "source": [
    "### Tipos de transformaciones"
   ]
  },
  {
   "cell_type": "markdown",
   "metadata": {
    "application/vnd.databricks.v1+cell": {
     "cellMetadata": {},
     "inputWidgets": {},
     "nuid": "56d55e13-1a90-4246-aa41-1ce1479550bd",
     "showTitle": false,
     "tableResultSettingsMap": {},
     "title": ""
    }
   },
   "source": [
    "Existen dos tipos de transformaciones, dependiendo de las dependencias entre las particiones de datos:"
   ]
  },
  {
   "cell_type": "markdown",
   "metadata": {
    "application/vnd.databricks.v1+cell": {
     "cellMetadata": {},
     "inputWidgets": {},
     "nuid": "a1ef987c-baf0-4c23-9a31-7a1efcdeb5f8",
     "showTitle": false,
     "tableResultSettingsMap": {},
     "title": ""
    }
   },
   "source": [
    "- Transformaciones **Narrow**: consisten en dependencias estrechas en las que cada partición de entrada contribuye a una única partición de salida."
   ]
  },
  {
   "cell_type": "markdown",
   "metadata": {
    "application/vnd.databricks.v1+cell": {
     "cellMetadata": {},
     "inputWidgets": {},
     "nuid": "581f766e-9fc3-413e-8a4c-a1e36ac607fc",
     "showTitle": false,
     "tableResultSettingsMap": {},
     "title": ""
    }
   },
   "source": [
    "#### Explicación:\n",
    "- **Dependencia estrecha**: En este tipo de transformación, cada partición de datos de entrada se procesa de manera independiente y su resultado se envía a una única partición de salida.\n",
    "- **Una partición de entrada a una partición de salida**: Cada unidad de trabajo de entrada (en una partición) genera una única unidad de trabajo de salida, sin la necesidad de redistribuir los datos entre múltiples particiones."
   ]
  },
  {
   "cell_type": "markdown",
   "metadata": {
    "application/vnd.databricks.v1+cell": {
     "cellMetadata": {},
     "inputWidgets": {},
     "nuid": "980e1a6c-26db-4ac4-8c7f-ad9ae3e5feec",
     "showTitle": false,
     "tableResultSettingsMap": {},
     "title": ""
    }
   },
   "source": [
    "- Transformaciones **Wide**: consisten en dependencias anchas de manera que varias particiones de entrada contribuyen a muchas otras particiones de salida, es decir, cada partición de salida depende de diferentes particiones de entrada. Este proceso también se conoce como shuffle, ya que Spark baraja los datos entre las particiones del clúster."
   ]
  },
  {
   "cell_type": "markdown",
   "metadata": {
    "application/vnd.databricks.v1+cell": {
     "cellMetadata": {},
     "inputWidgets": {},
     "nuid": "438a9523-9a17-4196-b4c2-107588d9db62",
     "showTitle": false,
     "tableResultSettingsMap": {},
     "title": ""
    }
   },
   "source": [
    "#### Explicación simplificada:\n",
    "- **Dependencia ancha (Wide Dependency)**: En este tipo de transformación, las particiones de entrada no se procesan de manera independiente. Los datos de varias particiones de entrada pueden combinarse para generar una salida, lo que requiere mover datos entre particiones diferentes.\n",
    "- **Shuffle**: El proceso de redistribuir los datos entre particiones en el clúster. Esto es necesario cuando los datos de diferentes particiones deben ser agrupados o combinados. El shuffle es costoso en términos de tiempo y recursos, ya que implica mover grandes volúmenes de datos a través del clúster."
   ]
  },
  {
   "cell_type": "markdown",
   "metadata": {
    "application/vnd.databricks.v1+cell": {
     "cellMetadata": {},
     "inputWidgets": {},
     "nuid": "a05132ad-fdef-47f1-beb9-95e60b9fc1d7",
     "showTitle": false,
     "tableResultSettingsMap": {},
     "title": ""
    }
   },
   "source": [
    "![7](https://community.cloud.databricks.com/files/7.png)"
   ]
  },
  {
   "cell_type": "markdown",
   "metadata": {
    "application/vnd.databricks.v1+cell": {
     "cellMetadata": {},
     "inputWidgets": {},
     "nuid": "a88fa827-b850-446a-8e06-9520a9fc8816",
     "showTitle": false,
     "tableResultSettingsMap": {},
     "title": ""
    }
   },
   "source": [
    "Con las transformaciones narrow, Spark realiza un pipeline de las dependencias, de manera que si especificamos múltiples filtros sobre DataFrames/RDD, se realizarán todos en memoria."
   ]
  },
  {
   "cell_type": "markdown",
   "metadata": {
    "application/vnd.databricks.v1+cell": {
     "cellMetadata": {},
     "inputWidgets": {},
     "nuid": "89c8a8a2-5676-41c6-8c7a-1949a89b449b",
     "showTitle": false,
     "tableResultSettingsMap": {},
     "title": ""
    }
   },
   "source": [
    "Esto no sucede con las transformaciones wide, ya que al realizar un shuffle los resultados se persisten en disco."
   ]
  },
  {
   "cell_type": "markdown",
   "metadata": {
    "application/vnd.databricks.v1+cell": {
     "cellMetadata": {},
     "inputWidgets": {},
     "nuid": "8d3e9066-44c8-48be-a613-8299f14909e2",
     "showTitle": false,
     "tableResultSettingsMap": {},
     "title": ""
    }
   },
   "source": [
    "El shuffle ocurre cuando Spark necesita repartir los datos de forma que ciertas claves o valores relacionados estén en la misma partición. Esto es necesario en transformaciones como groupByKey, reduceByKey, join, etc., donde los cálculos dependen de combinar datos relacionados que podrían estar en diferentes particiones."
   ]
  },
  {
   "cell_type": "markdown",
   "metadata": {
    "application/vnd.databricks.v1+cell": {
     "cellMetadata": {},
     "inputWidgets": {},
     "nuid": "20751bfe-e563-4b89-b2cf-9a04d5c8fefd",
     "showTitle": false,
     "tableResultSettingsMap": {},
     "title": ""
    }
   },
   "source": [
    "> Cuidado con shuffle\n",
    "> Las operaciones shuffle son computacionalmente caras, ya que implican E/S en disco, serialización de datos y E/S en red. Para organizar los datos previos al shuffle, Spark genera un conjunto de tareas (tareas map para organizar los datos, y reduce para agregar los resultados).\n",
    "> Internamente, el resultado de las tareas map se mantienen en memoria hasta que no caben. Entonces, se ordenan en la partición destino y se persisten en un único archivo. En la fase de reducción, las tareas leen los bloques ordenados que son relevantes.\n",
    "> Las operaciones reduceByKey y aggregateByKey son de las que más memoria consumen, al tener que crear las estructuras de datos para organizar los registros en las tareas de map, y luego generar los resultados agregados en la de reduce. Si los datos no caben en memoria, Spark los lleva a disco, incurriendo en operaciones adicionales de E/S en disco y del recolector de basura."
   ]
  },
  {
   "cell_type": "markdown",
   "metadata": {
    "application/vnd.databricks.v1+cell": {
     "cellMetadata": {},
     "inputWidgets": {},
     "nuid": "e4b01210-87b2-4d34-aa94-608546b92cba",
     "showTitle": false,
     "tableResultSettingsMap": {},
     "title": ""
    }
   },
   "source": [
    "A continuación veremos las diferentes transformaciones que podemos realizar con Spark."
   ]
  },
  {
   "cell_type": "markdown",
   "metadata": {
    "application/vnd.databricks.v1+cell": {
     "cellMetadata": {},
     "inputWidgets": {},
     "nuid": "9ddca778-7efb-47b7-85b1-cab1847f1b91",
     "showTitle": false,
     "tableResultSettingsMap": {},
     "title": ""
    }
   },
   "source": [
    "### Transformaciones Narrow"
   ]
  },
  {
   "cell_type": "markdown",
   "metadata": {
    "application/vnd.databricks.v1+cell": {
     "cellMetadata": {},
     "inputWidgets": {},
     "nuid": "06050c0f-1d54-402a-960a-da200c314870",
     "showTitle": false,
     "tableResultSettingsMap": {},
     "title": ""
    }
   },
   "source": [
    "Para los siguientes ejemplo, utilizaremos el siguiente fichero de `empleados.txt` que contiene para cada empleado los siguiente cinco campos:"
   ]
  },
  {
   "cell_type": "markdown",
   "metadata": {
    "application/vnd.databricks.v1+cell": {
     "cellMetadata": {},
     "inputWidgets": {},
     "nuid": "d1316bbe-a97f-4718-9812-59cf7ee0105f",
     "showTitle": false,
     "tableResultSettingsMap": {},
     "title": ""
    }
   },
   "source": [
    "- el nombre"
   ]
  },
  {
   "cell_type": "markdown",
   "metadata": {
    "application/vnd.databricks.v1+cell": {
     "cellMetadata": {},
     "inputWidgets": {},
     "nuid": "59560175-e3ef-45ce-bb9f-1c7b0ec0a963",
     "showTitle": false,
     "tableResultSettingsMap": {},
     "title": ""
    }
   },
   "source": [
    "- un array de ciudades donde trabaja separadas por coma"
   ]
  },
  {
   "cell_type": "markdown",
   "metadata": {
    "application/vnd.databricks.v1+cell": {
     "cellMetadata": {},
     "inputWidgets": {},
     "nuid": "cd3738c9-88a1-4482-94dc-2cad9032fd33",
     "showTitle": false,
     "tableResultSettingsMap": {},
     "title": ""
    }
   },
   "source": [
    "- una estructura compuesta del sexo y la edad separadas de nuevo por comas"
   ]
  },
  {
   "cell_type": "markdown",
   "metadata": {
    "application/vnd.databricks.v1+cell": {
     "cellMetadata": {},
     "inputWidgets": {},
     "nuid": "250dc96f-7578-47e5-94f9-24766caeccd7",
     "showTitle": false,
     "tableResultSettingsMap": {},
     "title": ""
    }
   },
   "source": [
    "- un array de mapas con sus destrezas y calificación"
   ]
  },
  {
   "cell_type": "markdown",
   "metadata": {
    "application/vnd.databricks.v1+cell": {
     "cellMetadata": {},
     "inputWidgets": {},
     "nuid": "018975db-0d3a-46e0-84fb-91e51a2652c8",
     "showTitle": false,
     "tableResultSettingsMap": {},
     "title": ""
    }
   },
   "source": [
    "- y finalmente un array de cargos y su consiguiente array de destrezas"
   ]
  },
  {
   "cell_type": "markdown",
   "metadata": {
    "application/vnd.databricks.v1+cell": {
     "cellMetadata": {},
     "inputWidgets": {},
     "nuid": "9f5491fe-f489-4072-8803-a307d35726d1",
     "showTitle": false,
     "tableResultSettingsMap": {},
     "title": ""
    }
   },
   "source": [
    "### Map"
   ]
  },
  {
   "cell_type": "markdown",
   "metadata": {
    "application/vnd.databricks.v1+cell": {
     "cellMetadata": {},
     "inputWidgets": {},
     "nuid": "b8751290-11ce-4c26-a1d9-2bd15342eda9",
     "showTitle": false,
     "tableResultSettingsMap": {},
     "title": ""
    }
   },
   "source": [
    " Es una transformación que aplica una función específica a cada elemento de un RDD, y devuelve un nuevo conjunto de datos donde cada elemento de salida es el resultado de aplicar la función a su correspondiente elemento de entrada. Es una de las transformaciones estrechas (narrow transformations), lo que significa que cada partición de salida depende de una única partición de entrada. Esto lo hace más eficiente porque no requiere un shuffle (reorganización de datos entre particiones)."
   ]
  },
  {
   "cell_type": "markdown",
   "metadata": {
    "application/vnd.databricks.v1+cell": {
     "cellMetadata": {},
     "inputWidgets": {},
     "nuid": "251d7ec3-9c0e-40d9-89d1-635d5bff8a37",
     "showTitle": false,
     "tableResultSettingsMap": {},
     "title": ""
    }
   },
   "source": [
    "La transformación [map](https://spark.apache.org/docs/latest/api/python/reference/api/pyspark.RDD.map.html) aplica la función recibida a cada elemento del RDD, de manera que vamos a poder añadir una nueva columna, modificar una existente, etc..."
   ]
  },
  {
   "cell_type": "markdown",
   "metadata": {
    "application/vnd.databricks.v1+cell": {
     "cellMetadata": {},
     "inputWidgets": {},
     "nuid": "5687d96d-3dfd-4255-989a-bc4bf9926d73",
     "showTitle": false,
     "tableResultSettingsMap": {},
     "title": ""
    }
   },
   "source": [
    "Por ejemplo, si la entrada es un RDD que contiene `[1, 2, 3, 4, 5]`, al hacer `rdd.map(lambda x: x*2)` obtendríamos un nuevo RDD cuyos valores contiene su doble, es decir, `[2, 4, 6, 8, 10]`:"
   ]
  },
  {
   "cell_type": "code",
   "execution_count": 0,
   "metadata": {
    "application/vnd.databricks.v1+cell": {
     "cellMetadata": {
      "byteLimit": 2048000,
      "rowLimit": 10000
     },
     "inputWidgets": {},
     "nuid": "ce5b700b-4ab4-4cdd-bc4c-7fd545ef4b91",
     "showTitle": false,
     "tableResultSettingsMap": {},
     "title": ""
    }
   },
   "outputs": [
    {
     "output_type": "stream",
     "name": "stdout",
     "output_type": "stream",
     "text": [
      "Out[28]: [2, 4, 6, 8, 10]"
     ]
    }
   ],
   "source": [
    "rdd = sc.parallelize([1, 2, 3, 4, 5])\n",
    "resultRDD = rdd.map(lambda x: x*2)\n",
    "resultRDD.collect()          # [2, 4, 6, 8, 10]"
   ]
  },
  {
   "cell_type": "markdown",
   "metadata": {
    "application/vnd.databricks.v1+cell": {
     "cellMetadata": {},
     "inputWidgets": {},
     "nuid": "c8336191-5649-4320-abc6-c7d64bfe258b",
     "showTitle": false,
     "tableResultSettingsMap": {},
     "title": ""
    }
   },
   "source": [
    "El código crea un RDD con los valores `[1, 2, 3, 4, 5]`, aplica una transformación con `map()` para multiplicar cada número por 2, y luego recopila los resultados en una lista, obteniendo `[2, 4, 6, 8, 10]`."
   ]
  },
  {
   "cell_type": "markdown",
   "metadata": {
    "application/vnd.databricks.v1+cell": {
     "cellMetadata": {},
     "inputWidgets": {},
     "nuid": "4b4cb529-9d30-4a78-9876-1497cc70c03e",
     "showTitle": false,
     "tableResultSettingsMap": {},
     "title": ""
    }
   },
   "source": [
    "(No hacer los codigos relativos a Hadoop o HDFS) Mediante la función textFile podemos cargar un archivo. Supongamos que tenemos cargado en Hadoop el archivo empleados.txt:"
   ]
  },
  {
   "cell_type": "code",
   "execution_count": 0,
   "metadata": {
    "application/vnd.databricks.v1+cell": {
     "cellMetadata": {},
     "inputWidgets": {},
     "nuid": "bd1fab64-f020-49c4-9d3f-e3b7fa424e9d",
     "showTitle": false,
     "tableResultSettingsMap": {},
     "title": ""
    }
   },
   "outputs": [],
   "source": [
    "rddLocal = sc.textFile(\"empleados.txt\")\n",
    "rdd = sc.textFile(\"hdfs://iabd-virtualbox:9000/user/iabd/datos/empleados.txt\") \n",
    "rdd.count()                 # 4 - cantidad de líneas\n",
    "resultRDD = rdd.map(len)    # obtenemos la cantidad de caracteres de cada línea\n",
    "resultRDD.collect()         # [61, 52, 60, 50]"
   ]
  },
  {
   "cell_type": "markdown",
   "metadata": {
    "application/vnd.databricks.v1+cell": {
     "cellMetadata": {},
     "inputWidgets": {},
     "nuid": "b906f274-7664-4a60-ad26-207b64084090",
     "showTitle": false,
     "tableResultSettingsMap": {},
     "title": ""
    }
   },
   "source": [
    "Si sobre el fichero de empleados, realizamos un split para separar los campos haciendo uso de map mediante una función lambda:"
   ]
  },
  {
   "cell_type": "code",
   "execution_count": 0,
   "metadata": {
    "application/vnd.databricks.v1+cell": {
     "cellMetadata": {},
     "inputWidgets": {},
     "nuid": "31715554-de26-4302-beab-84be736b78ae",
     "showTitle": false,
     "tableResultSettingsMap": {},
     "title": ""
    }
   },
   "outputs": [],
   "source": [
    "resultMap = rddLocal.map(lambda x: x.split(\"|\"))\n",
    "resultMap.collect()"
   ]
  },
  {
   "cell_type": "markdown",
   "metadata": {
    "application/vnd.databricks.v1+cell": {
     "cellMetadata": {},
     "inputWidgets": {},
     "nuid": "0b6ca366-baf2-4179-a4ea-7aff0afa8e7c",
     "showTitle": false,
     "tableResultSettingsMap": {},
     "title": ""
    }
   },
   "source": [
    "Obtenemos una lista de listas por cada fila del fichero, cada lista conteniendo los cincos campos de cada empleado:"
   ]
  },
  {
   "cell_type": "markdown",
   "metadata": {
    "application/vnd.databricks.v1+cell": {
     "cellMetadata": {},
     "inputWidgets": {},
     "nuid": "6f1151cc-181e-4145-bbff-d007532dba2e",
     "showTitle": false,
     "tableResultSettingsMap": {},
     "title": ""
    }
   },
   "source": [
    "\n",
    "[['Michael',\n",
    "  'Montreal,Toronto',\n",
    "  'Male,30',\n",
    "  'DB:80',\n",
    "  'Product:Developer\\x04Lead'],\n",
    " ['Will', 'Montreal', 'Male,35', 'Perl:85', 'Product:Lead,Test:Lead'],\n",
    " ['Shelley', 'New York', 'Female,27', 'Python:80', 'Test:Lead,COE:Architect'],\n",
    " ['Lucy', 'Vancouver', 'Female,57', 'Sales:89,HR:94', 'Sales:Lead']]"
   ]
  },
  {
   "cell_type": "markdown",
   "metadata": {
    "application/vnd.databricks.v1+cell": {
     "cellMetadata": {},
     "inputWidgets": {},
     "nuid": "3293e41e-4fa5-429f-a506-db93c908a649",
     "showTitle": false,
     "tableResultSettingsMap": {},
     "title": ""
    }
   },
   "source": [
    "### FlatMap"
   ]
  },
  {
   "cell_type": "markdown",
   "metadata": {
    "application/vnd.databricks.v1+cell": {
     "cellMetadata": {},
     "inputWidgets": {},
     "nuid": "8d211e05-af52-4bf3-a01b-e569f25b2056",
     "showTitle": false,
     "tableResultSettingsMap": {},
     "title": ""
    }
   },
   "source": [
    "Es una transformación que aplica una función a cada elemento de un RDD, y genera cero, uno o más elementos por cada entrada. A diferencia de map, que siempre genera exactamente un elemento por entrada, flatMap \"aplana\" los resultados en un solo conjunto de datos. Es particularmente útil cuando se necesita dividir, expandir o descomponer los elementos de un conjunto de datos en varios elementos."
   ]
  },
  {
   "cell_type": "markdown",
   "metadata": {
    "application/vnd.databricks.v1+cell": {
     "cellMetadata": {},
     "inputWidgets": {},
     "nuid": "629ab748-51eb-457e-8215-61efa88b784f",
     "showTitle": false,
     "tableResultSettingsMap": {},
     "title": ""
    }
   },
   "source": [
    "La transformación `flatMap` es muy similar a la anterior, pero en vez de devolver una lista con un elemento por cada entrada, devuelve una única lista deshaciendo las colecciones en elementos individuales:"
   ]
  },
  {
   "cell_type": "code",
   "execution_count": 0,
   "metadata": {
    "application/vnd.databricks.v1+cell": {
     "cellMetadata": {
      "byteLimit": 2048000,
      "rowLimit": 10000
     },
     "inputWidgets": {},
     "nuid": "9460c96f-626e-4b1e-89b9-1c6492026d39",
     "showTitle": false,
     "tableResultSettingsMap": {},
     "title": ""
    }
   },
   "outputs": [
    {
     "output_type": "stream",
     "name": "stdout",
     "output_type": "stream",
     "text": [
      "Out[29]: ['Michael',\n 'Montreal,Toronto',\n 'Male,30',\n 'DB:80',\n 'Product:Developer\\x04Lead',\n 'Will',\n 'Montreal',\n 'Male,35',\n 'Perl:85',\n 'Product:Lead,Test:Lead',\n 'Shelley',\n 'New York',\n 'Female,27',\n 'Python:80',\n 'Test:Lead,COE:Architect',\n 'Lucy',\n 'Vancouver',\n 'Female,57',\n 'Sales:89,HR:94',\n 'Sales:Lead']"
     ]
    }
   ],
   "source": [
    "rdd = sc.textFile(\"/FileStore/empleados.txt\") \n",
    "resultFM = rdd.flatMap(lambda x: x.split(\"|\"))\n",
    "resultFM.collect()\n",
    "# Obtendríamos cada atributo separado y todos dentro de la misma lista"
   ]
  },
  {
   "cell_type": "markdown",
   "metadata": {
    "application/vnd.databricks.v1+cell": {
     "cellMetadata": {},
     "inputWidgets": {},
     "nuid": "5c1a2c68-c024-4e9c-898a-7a70bfae2d6a",
     "showTitle": false,
     "tableResultSettingsMap": {},
     "title": ""
    }
   },
   "source": [
    "### Filter"
   ]
  },
  {
   "cell_type": "markdown",
   "metadata": {
    "application/vnd.databricks.v1+cell": {
     "cellMetadata": {},
     "inputWidgets": {},
     "nuid": "cbcf4986-6a39-4b3c-b7b5-a65314c7af17",
     "showTitle": false,
     "tableResultSettingsMap": {},
     "title": ""
    }
   },
   "source": [
    "Es una transformación que se utiliza para filtrar elementos de un RDD según una condición específica. Solo los elementos que cumplen la condición se incluyen en el resultado, mientras que los demás se descartan.\n",
    "\n",
    "Es una transformación estrecha (narrow), lo que significa que los elementos de salida de cada partición dependen únicamente de los elementos de entrada de la misma partición. Esto lo hace eficiente porque no requiere un shuffle (reorganización de datos entre nodos)."
   ]
  },
  {
   "cell_type": "markdown",
   "metadata": {
    "application/vnd.databricks.v1+cell": {
     "cellMetadata": {},
     "inputWidgets": {},
     "nuid": "6e472f55-47fb-4ec5-8ab7-02eb0be0dd36",
     "showTitle": false,
     "tableResultSettingsMap": {},
     "title": ""
    }
   },
   "source": [
    "Permite filtrar los elementos que cumplen una condición mediante `filter`:"
   ]
  },
  {
   "cell_type": "code",
   "execution_count": 0,
   "metadata": {
    "application/vnd.databricks.v1+cell": {
     "cellMetadata": {
      "byteLimit": 2048000,
      "rowLimit": 10000
     },
     "inputWidgets": {},
     "nuid": "be5ba318-3a24-4d24-81b3-46091f2c71a4",
     "showTitle": false,
     "tableResultSettingsMap": {},
     "title": ""
    }
   },
   "outputs": [
    {
     "output_type": "stream",
     "name": "stdout",
     "output_type": "stream",
     "text": [
      "Out[30]: [2, 4]"
     ]
    }
   ],
   "source": [
    "rdd = sc.parallelize([1, 2, 3, 4, 5])\n",
    "resultRDD = rdd.filter(lambda x: x%2==0)\n",
    "resultRDD.collect()     # [2, 4]"
   ]
  },
  {
   "cell_type": "markdown",
   "metadata": {
    "application/vnd.databricks.v1+cell": {
     "cellMetadata": {},
     "inputWidgets": {},
     "nuid": "36876856-ee74-4dd8-8458-b04ed2156248",
     "showTitle": false,
     "tableResultSettingsMap": {},
     "title": ""
    }
   },
   "source": [
    "También podemos anidar diferentes transformaciones. Para este ejemplo, vamos a crear tuplas formadas por un número y su cuadrado, y luego quitar los que no coincide el número con su cuadrado (sólo coinciden el 0 y el 1), y luego aplanarlo en una lista:"
   ]
  },
  {
   "cell_type": "code",
   "execution_count": 0,
   "metadata": {
    "application/vnd.databricks.v1+cell": {
     "cellMetadata": {
      "byteLimit": 2048000,
      "rowLimit": 10000
     },
     "inputWidgets": {},
     "nuid": "1727f8c4-44c1-4cb2-be99-aa8309775a7e",
     "showTitle": false,
     "tableResultSettingsMap": {},
     "title": ""
    }
   },
   "outputs": [
    {
     "output_type": "stream",
     "name": "stdout",
     "output_type": "stream",
     "text": [
      "Out[31]: [2, 4, 3, 9, 4, 16, 5, 25, 6, 36, 7, 49, 8, 64, 9, 81, 10, 100]"
     ]
    }
   ],
   "source": [
    "rdd10 = sc.parallelize(range(10+1))\n",
    "rddPares = rdd10.map(lambda x: (x, x**2)).filter(lambda x: (x[0] != x[1])).flatMap(lambda x: x)\n",
    "rddPares.collect()      # [2, 4, 3, 9, 4, 16, 5, 25, 6, 36, 7, 49, 8, 64, 9, 81, 10, 100]"
   ]
  },
  {
   "cell_type": "markdown",
   "metadata": {
    "application/vnd.databricks.v1+cell": {
     "cellMetadata": {},
     "inputWidgets": {},
     "nuid": "e4ebc8a2-229d-4ba8-b152-33a9642c74b3",
     "showTitle": false,
     "tableResultSettingsMap": {},
     "title": ""
    }
   },
   "source": [
    "#### Explicación del código:\n",
    "\n",
    "1. `rddPares = rdd10.map(lambda x: (x, x**2))`:\n",
    "   - La transformación `map()` toma cada elemento de `rdd10` y lo transforma en una tupla `(x, x**2)`, donde `x` es el valor original y `x**2` es su cuadrado.\n",
    "   - Si `rdd10` contiene valores del 1 al 10, después de esta operación, `rddPares` tendrá la forma:\n",
    "     `(1, 1), (2, 4), (3, 9), (4, 16), (5, 25), (6, 36), (7, 49), (8, 64), (9, 81), (10, 100)`\n",
    "\n",
    "2. `rddPares.filter(lambda x: (x[0] != x[1]))`:\n",
    "   - Luego, se aplica la transformación `filter()` para eliminar las tuplas donde el primer valor (`x[0]`) es igual al segundo valor (`x[1]`).\n",
    "   - Esto elimina las tuplas en las que el número es igual a su cuadrado, es decir, elimina `(1, 1)`, dejando solo las tuplas donde el número no es igual a su cuadrado:\n",
    "     `(2, 4), (3, 9), (4, 16), (5, 25), (6, 36), (7, 49), (8, 64), (9, 81), (10, 100)`\n",
    "\n",
    "3. `rddPares.flatMap(lambda x: x)`:\n",
    "   - La transformación `flatMap()` \"aplana\" el contenido de cada tupla. En lugar de mantener las tuplas, expande cada una de ellas en elementos individuales.\n",
    "   - Por ejemplo, la tupla `(2, 4)` se convertirá en los dos elementos `2` y `4`. El resultado de aplicar `flatMap()` será una lista de todos los números individuales de las tuplas:\n",
    "     `[2, 4, 3, 9, 4, 16, 5, 25, 6, 36, 7, 49, 8, 64, 9, 81, 10, 100]`\n",
    "\n",
    "4. `rddPares.collect()`:\n",
    "   - La acción `collect()` recopila todos los elementos de `rddPares` y los devuelve como una lista en la máquina local.\n",
    "\n",
    "#### Salida:\n",
    "El resultado de `rddPares.collect()` será:\n",
    "\n",
    "`[2, 4, 3, 9, 4, 16, 5, 25, 6, 36, 7, 49, 8, 64, 9, 81, 10, 100]`\n",
    "\n",
    "#### Resumen:\n",
    "Este código realiza las siguientes operaciones sobre el RDD `rdd10`:\n",
    "1. `map()`: Crea tuplas `(x, x**2)` con cada número y su cuadrado.\n",
    "2. `filter()`: Elimina las tuplas donde el número es igual a su cuadrado.\n",
    "3. `flatMap()`: Expande las tuplas en una secuencia de elementos individuales.\n",
    "4. `collect()`: Recoge los resultados finales en una lista.\n",
    "\n",
    "La salida final es una lista de números alternados: el número original y su cuadrado.\n"
   ]
  },
  {
   "cell_type": "markdown",
   "metadata": {
    "application/vnd.databricks.v1+cell": {
     "cellMetadata": {},
     "inputWidgets": {},
     "nuid": "7cd9156d-aceb-47c5-acf2-ac692aca687e",
     "showTitle": false,
     "tableResultSettingsMap": {},
     "title": ""
    }
   },
   "source": [
    "Veamos otro ejemplo. Retomamos los datos de los empleados y si queremos filtrar los empleados que son hombres, primero separamos por las | y nos quedamos con el tercer elemento que contiene el sexo y la edad. A continuación, separamos por la coma para quedarnos en el sexo en la posición 0 y la edad en el 1, y comparamos con el valor deseado:"
   ]
  },
  {
   "cell_type": "code",
   "execution_count": 0,
   "metadata": {
    "application/vnd.databricks.v1+cell": {
     "cellMetadata": {
      "byteLimit": 2048000,
      "rowLimit": 10000
     },
     "inputWidgets": {},
     "nuid": "c8411c09-6238-4848-9b97-497c4b832cd9",
     "showTitle": false,
     "tableResultSettingsMap": {},
     "title": ""
    }
   },
   "outputs": [
    {
     "output_type": "stream",
     "name": "stdout",
     "output_type": "stream",
     "text": [
      "['Michael|Montreal,Toronto|Male,30|DB:80|Product:Developer\\x04Lead', 'Will|Montreal|Male,35|Perl:85|Product:Lead,Test:Lead']\n"
     ]
    }
   ],
   "source": [
    "\n",
    "rdd = sc.textFile(\"/FileStore/empleados.txt\") \n",
    "# Filtrar registros donde el campo de género contiene \"Male\"\n",
    "hombres = rdd.filter(lambda x: len(x.split(\"|\")) > 2 and x.split(\"|\")[2].split(\",\")[0] == \"Male\")\n",
    "\n",
    "# Mostrar los resultados\n",
    "print(hombres.collect())"
   ]
  },
  {
   "cell_type": "markdown",
   "metadata": {
    "application/vnd.databricks.v1+cell": {
     "cellMetadata": {},
     "inputWidgets": {},
     "nuid": "f9cf9478-9d2b-48f1-b8f8-1665d55f1ede",
     "showTitle": false,
     "tableResultSettingsMap": {},
     "title": ""
    }
   },
   "source": [
    "#### Explicación del código:\n",
    "\n",
    "1. `rdd = sc.textFile(\"/FileStore/shared_uploads/notebook_1/empleados.txt\")`:\n",
    "   - Este código lee el archivo `empleados.txt` desde la ruta especificada y lo convierte en un RDD de texto.\n",
    "   - El archivo `empleados.txt` se asume que tiene datos separados por líneas, y cada línea corresponde a un registro de un empleado.\n",
    "\n",
    "2. `hombres = rdd.filter(lambda x: len(x.split(\"|\")) > 2 and x.split(\"|\")[2].split(\",\")[0] == \"Male\")`:\n",
    "   - La transformación `filter()` se usa para seleccionar las líneas del RDD que cumplen con la condición especificada.\n",
    "   - **`x.split(\"|\")`**: Esta parte divide cada línea en una lista usando el carácter `|` como delimitador. Se asume que cada línea tiene campos separados por este carácter.\n",
    "     - Ejemplo: Una línea puede verse como `ID|Nombre|Género|Edad`.\n",
    "   - **`len(x.split(\"|\")) > 2`**: Asegura que la línea tiene más de dos campos (para evitar errores si la línea está vacía o no tiene los campos esperados).\n",
    "   - **`x.split(\"|\")[2].split(\",\")[0] == \"Male\"`**: \n",
    "     - Toma el tercer campo (índice `2`), que corresponde al campo de género, y lo divide usando la coma `,` como delimitador.\n",
    "     - La división con `split(\",\")` sugiere que el campo de género puede contener información adicional (como múltiples géneros o etiquetas), y selecciona el primer valor (índice `0`) para comparar si es igual a `\"Male\"`.\n",
    "\n",
    "3. `print(hombres.collect())`:\n",
    "   - La acción `collect()` obtiene todos los registros del RDD filtrado, que cumplen la condición de tener el género `\"Male\"`, y los devuelve como una lista en la máquina local.\n",
    "   - **`print(hombres.collect())`** muestra esos registros en la salida estándar.\n",
    "\n",
    "#### Resumen:\n",
    "Este código lee un archivo `empleados.txt`, filtra las líneas donde el género de los empleados es \"Male\" (hombre), y luego imprime esos registros. La condición de filtrado asegura que se procesen correctamente solo las líneas que tienen más de dos campos y que el género esté correctamente etiquetado como \"Male\".\n"
   ]
  },
  {
   "cell_type": "markdown",
   "metadata": {
    "application/vnd.databricks.v1+cell": {
     "cellMetadata": {},
     "inputWidgets": {},
     "nuid": "70adca0b-573d-403d-bfac-7a98ccf22fb7",
     "showTitle": false,
     "tableResultSettingsMap": {},
     "title": ""
    }
   },
   "source": [
    "Obteniendo:"
   ]
  },
  {
   "cell_type": "markdown",
   "metadata": {
    "application/vnd.databricks.v1+cell": {
     "cellMetadata": {},
     "inputWidgets": {},
     "nuid": "7c71cb94-7d74-4309-9b89-8d9799e80fe7",
     "showTitle": false,
     "tableResultSettingsMap": {},
     "title": ""
    }
   },
   "source": [
    "['Michael|Montreal,Toronto|Male,30|DB:80|Product:Developer\\x04Lead',\n",
    " 'Will|Montreal|Male,35|Perl:85|Product:Lead,Test:Lead']"
   ]
  },
  {
   "cell_type": "markdown",
   "metadata": {
    "application/vnd.databricks.v1+cell": {
     "cellMetadata": {},
     "inputWidgets": {},
     "nuid": "548ea963-8165-46e6-9fb4-e4d2cde6920c",
     "showTitle": false,
     "tableResultSettingsMap": {},
     "title": ""
    }
   },
   "source": [
    "### Distinct"
   ]
  },
  {
   "cell_type": "markdown",
   "metadata": {
    "application/vnd.databricks.v1+cell": {
     "cellMetadata": {},
     "inputWidgets": {},
     "nuid": "80b1ebe9-efa8-4dba-b665-7fcee8a51816",
     "showTitle": false,
     "tableResultSettingsMap": {},
     "title": ""
    }
   },
   "source": [
    "Si utilizamos [distinct](https://spark.apache.org/docs/latest/api/python/reference/api/pyspark.RDD.distinct.html) eliminaremos los elementos repetidos:"
   ]
  },
  {
   "cell_type": "markdown",
   "metadata": {
    "application/vnd.databricks.v1+cell": {
     "cellMetadata": {},
     "inputWidgets": {},
     "nuid": "fbe55980-fe5c-4e98-a920-d42ab13128bb",
     "showTitle": false,
     "tableResultSettingsMap": {},
     "title": ""
    }
   },
   "source": [
    "### Trabajando con conjuntos"
   ]
  },
  {
   "cell_type": "markdown",
   "metadata": {
    "application/vnd.databricks.v1+cell": {
     "cellMetadata": {},
     "inputWidgets": {},
     "nuid": "6f688bc7-4387-4597-b95a-648e1e6f9351",
     "showTitle": false,
     "tableResultSettingsMap": {},
     "title": ""
    }
   },
   "source": [
    "**Union**"
   ]
  },
  {
   "cell_type": "markdown",
   "metadata": {
    "application/vnd.databricks.v1+cell": {
     "cellMetadata": {},
     "inputWidgets": {},
     "nuid": "2eb5d482-e983-4c85-a8cf-a03212372ec8",
     "showTitle": false,
     "tableResultSettingsMap": {},
     "title": ""
    }
   },
   "source": [
    "Mediante [union](https://spark.apache.org/docs/latest/api/python/reference/api/pyspark.RDD.union.html) unimos dos RDD en uno:"
   ]
  },
  {
   "cell_type": "code",
   "execution_count": 0,
   "metadata": {
    "application/vnd.databricks.v1+cell": {
     "cellMetadata": {
      "byteLimit": 2048000,
      "rowLimit": 10000
     },
     "inputWidgets": {},
     "nuid": "82f421aa-9a15-4226-9402-02f33119ecf4",
     "showTitle": false,
     "tableResultSettingsMap": {},
     "title": ""
    }
   },
   "outputs": [
    {
     "output_type": "stream",
     "name": "stdout",
     "output_type": "stream",
     "text": [
      "Out[34]: [1, 2, 3, 4, 5, 6, 7, 8]"
     ]
    }
   ],
   "source": [
    "rdd1 = sc.parallelize([1,2,3,4])\r\n",
    "rdd2 = sc.parallelize([5,6,7,8])\r\n",
    "resultRDD = rdd1.union(rdd2)\r\n",
    "resultRDD.collect()     # [1, 2, 3, 4, 5, 6, 7, 8]"
   ]
  },
  {
   "cell_type": "markdown",
   "metadata": {
    "application/vnd.databricks.v1+cell": {
     "cellMetadata": {},
     "inputWidgets": {},
     "nuid": "58c25c87-a43b-4462-a49b-b3d6d8271b2b",
     "showTitle": false,
     "tableResultSettingsMap": {},
     "title": ""
    }
   },
   "source": [
    "**Intersection**"
   ]
  },
  {
   "cell_type": "markdown",
   "metadata": {
    "application/vnd.databricks.v1+cell": {
     "cellMetadata": {},
     "inputWidgets": {},
     "nuid": "0a273d7f-727b-4998-a750-4bdbbb2455dd",
     "showTitle": false,
     "tableResultSettingsMap": {},
     "title": ""
    }
   },
   "source": [
    "Mediante [intersection](https://spark.apache.org/docs/latest/api/python/reference/api/pyspark.RDD.intersection.html), obtendremos los elementos que tengan en común:"
   ]
  },
  {
   "cell_type": "markdown",
   "metadata": {
    "application/vnd.databricks.v1+cell": {
     "cellMetadata": {},
     "inputWidgets": {},
     "nuid": "5119e146-e592-4ad0-9e35-1b376e37d47c",
     "showTitle": false,
     "tableResultSettingsMap": {},
     "title": ""
    }
   },
   "source": [
    "**Subtract**"
   ]
  },
  {
   "cell_type": "markdown",
   "metadata": {
    "application/vnd.databricks.v1+cell": {
     "cellMetadata": {},
     "inputWidgets": {},
     "nuid": "503684d3-1bcd-44ef-9822-34a8bb7e2b3c",
     "showTitle": false,
     "tableResultSettingsMap": {},
     "title": ""
    }
   },
   "source": [
    "Mediante [subtract](https://spark.apache.org/docs/latest/api/python/reference/api/pyspark.RDD.subtract.html), obtendremos los elementos propios que no estén en el RDD recibido:"
   ]
  },
  {
   "cell_type": "code",
   "execution_count": 0,
   "metadata": {
    "application/vnd.databricks.v1+cell": {
     "cellMetadata": {
      "byteLimit": 2048000,
      "rowLimit": 10000
     },
     "inputWidgets": {},
     "nuid": "d9e853a0-5597-44a4-972f-5dee5dc0d09d",
     "showTitle": false,
     "tableResultSettingsMap": {},
     "title": ""
    }
   },
   "outputs": [
    {
     "output_type": "stream",
     "name": "stdout",
     "output_type": "stream",
     "text": [
      "Out[35]: [1, 2]"
     ]
    }
   ],
   "source": [
    "rdd1 = sc.parallelize([1,2,3,4])\n",
    "rdd2 = sc.parallelize([3,4,5,6])\n",
    "resultRDD = rdd1.subtract(rdd2)\n",
    "resultRDD.collect()     # [1, 2]"
   ]
  },
  {
   "cell_type": "markdown",
   "metadata": {
    "application/vnd.databricks.v1+cell": {
     "cellMetadata": {},
     "inputWidgets": {},
     "nuid": "0b0ae89e-1896-4fdb-9a2a-dd0b881b1d51",
     "showTitle": false,
     "tableResultSettingsMap": {},
     "title": ""
    }
   },
   "source": [
    "### Actividad:"
   ]
  },
  {
   "cell_type": "markdown",
   "metadata": {
    "application/vnd.databricks.v1+cell": {
     "cellMetadata": {},
     "inputWidgets": {},
     "nuid": "d590bdcf-8b42-4055-b7b4-df5b638a3476",
     "showTitle": false,
     "tableResultSettingsMap": {},
     "title": ""
    }
   },
   "source": [
    "Si tenemos dos RDD (A y B):"
   ]
  },
  {
   "cell_type": "code",
   "execution_count": 0,
   "metadata": {
    "application/vnd.databricks.v1+cell": {
     "cellMetadata": {
      "byteLimit": 2048000,
      "rowLimit": 10000
     },
     "inputWidgets": {},
     "nuid": "679d9c4f-cf40-441f-a624-f09fbca20c47",
     "showTitle": false,
     "tableResultSettingsMap": {},
     "title": ""
    }
   },
   "outputs": [],
   "source": [
    "rddA = sc.parallelize([1,2,3,4])\n",
    "rddB = sc.parallelize([3,4,5,6])"
   ]
  },
  {
   "cell_type": "markdown",
   "metadata": {
    "application/vnd.databricks.v1+cell": {
     "cellMetadata": {},
     "inputWidgets": {},
     "nuid": "fb67d715-2b8b-468d-992d-6bd8700c13f5",
     "showTitle": false,
     "tableResultSettingsMap": {},
     "title": ""
    }
   },
   "source": [
    "¿Cómo conseguimos los elementos que están en A y no B y los de B que no están en A? (es decir [1, 2, 5, 6])):"
   ]
  },
  {
   "cell_type": "code",
   "execution_count": 0,
   "metadata": {
    "application/vnd.databricks.v1+cell": {
     "cellMetadata": {
      "byteLimit": 2048000,
      "rowLimit": 10000
     },
     "inputWidgets": {},
     "nuid": "61872845-b167-43fb-a180-1d27bc2b3d3c",
     "showTitle": false,
     "tableResultSettingsMap": {},
     "title": ""
    }
   },
   "outputs": [
    {
     "output_type": "stream",
     "name": "stdout",
     "output_type": "stream",
     "text": [
      "[1, 2, 5, 6]\n"
     ]
    }
   ],
   "source": [
    "# Escriba la respuesta aqui\n",
    "\n",
    "# Elementos en A pero no en B\n",
    "soloEnA = rddA.subtract(rddB)\n",
    "\n",
    "# Elementos en B pero no en A\n",
    "soloEnB = rddB.subtract(rddA)\n",
    "\n",
    "# Unir los resultados para obtener todos los elementos que están en A o en B pero no en ambos\n",
    "resultado = soloEnA.union(soloEnB)\n",
    "\n",
    "# Mostrar el resultado\n",
    "print(resultado.collect())  # [1, 2, 5, 6]\n"
   ]
  },
  {
   "cell_type": "markdown",
   "metadata": {
    "application/vnd.databricks.v1+cell": {
     "cellMetadata": {},
     "inputWidgets": {},
     "nuid": "125222b3-ada2-4c4f-b4a5-51b4897c9f11",
     "showTitle": false,
     "tableResultSettingsMap": {},
     "title": ""
    }
   },
   "source": [
    "### RDD de Pares"
   ]
  },
  {
   "cell_type": "markdown",
   "metadata": {
    "application/vnd.databricks.v1+cell": {
     "cellMetadata": {},
     "inputWidgets": {},
     "nuid": "8c9d3e39-ee26-4422-8ecc-3369a8c0ab68",
     "showTitle": false,
     "tableResultSettingsMap": {},
     "title": ""
    }
   },
   "source": [
    "Una técnica muy común a la hora de trabajar con RDD es hacerlo con elementos que tienen el formato (`clave, valor`), pudiendo las claves y los valores ser de cualquier tipo."
   ]
  },
  {
   "cell_type": "code",
   "execution_count": 0,
   "metadata": {
    "application/vnd.databricks.v1+cell": {
     "cellMetadata": {
      "byteLimit": 2048000,
      "rowLimit": 10000
     },
     "inputWidgets": {},
     "nuid": "d336bb5e-44c2-467d-bf4a-b0be59951218",
     "showTitle": false,
     "tableResultSettingsMap": {},
     "title": ""
    }
   },
   "outputs": [],
   "source": [
    "listaTuplas = [(1,'a'), (2,'b'), (3,'c'), (4,'d')]\n",
    "rddTuplas= sc.parallelize(listaTuplas)"
   ]
  },
  {
   "cell_type": "markdown",
   "metadata": {
    "application/vnd.databricks.v1+cell": {
     "cellMetadata": {},
     "inputWidgets": {},
     "nuid": "878385b0-4d6d-4d33-9b6f-8cb0811c9a23",
     "showTitle": false,
     "tableResultSettingsMap": {},
     "title": ""
    }
   },
   "source": [
    "Sobre estos RDD podemos realizar algoritmos MapReduce para muchas funciones de procesamiento de datos, como es la agrupación, ordenación, join, count, etc..."
   ]
  },
  {
   "cell_type": "markdown",
   "metadata": {
    "application/vnd.databricks.v1+cell": {
     "cellMetadata": {},
     "inputWidgets": {},
     "nuid": "d893790b-f7e7-4180-ae97-cefbd146c222",
     "showTitle": false,
     "tableResultSettingsMap": {},
     "title": ""
    }
   },
   "source": [
    "Para generar un RDD de pares, además de crearlo nosotros a partir de una lista, podemos emplear las siguientes operaciones:"
   ]
  },
  {
   "cell_type": "markdown",
   "metadata": {
    "application/vnd.databricks.v1+cell": {
     "cellMetadata": {},
     "inputWidgets": {},
     "nuid": "09b0b496-54d0-44ed-a705-864d9a09f0ea",
     "showTitle": false,
     "tableResultSettingsMap": {},
     "title": ""
    }
   },
   "source": [
    "- [zip](https://spark.apache.org/docs/latest/api/python/reference/api/pyspark.RDD.zip.html): une dos RDDs del mismo tamaño:"
   ]
  },
  {
   "cell_type": "code",
   "execution_count": 0,
   "metadata": {
    "application/vnd.databricks.v1+cell": {
     "cellMetadata": {
      "byteLimit": 2048000,
      "rowLimit": 10000
     },
     "inputWidgets": {},
     "nuid": "5be4fe4c-05b3-4ece-a4f9-7911578ec8ce",
     "showTitle": false,
     "tableResultSettingsMap": {},
     "title": ""
    }
   },
   "outputs": [],
   "source": [
    "lista1 = ['a','b','c','e','f','g','h']\n",
    "lista2 = [4, 5, 6, 7, 8, 9, 10]\n",
    "rddZip = sc.parallelize(lista1).zip(sc.parallelize(lista2)).collect()\n",
    "# [('a', 4), ('b', 5), ('c', 6), ('e', 7), ('f', 8), ('g', 9), ('h', 10)]"
   ]
  },
  {
   "cell_type": "code",
   "execution_count": 0,
   "metadata": {
    "application/vnd.databricks.v1+cell": {
     "cellMetadata": {
      "byteLimit": 2048000,
      "rowLimit": 10000
     },
     "inputWidgets": {},
     "nuid": "34694e2d-56d9-461a-b29d-22eebf000f9a",
     "showTitle": false,
     "tableResultSettingsMap": {},
     "title": ""
    }
   },
   "outputs": [],
   "source": [
    "rddZipSecuencia = sc.parallelize(zip(lista1,range(len(lista1)))) # usando el tamaño de la lista\n",
    "# [('a', 0), ('b', 1), ('c', 2), ('e', 3), ('f', 4), ('g', 5), ('h', 6)]"
   ]
  },
  {
   "cell_type": "markdown",
   "metadata": {
    "application/vnd.databricks.v1+cell": {
     "cellMetadata": {},
     "inputWidgets": {},
     "nuid": "ed9d5686-6f45-4b31-a7ba-72811b9fc5ca",
     "showTitle": false,
     "tableResultSettingsMap": {},
     "title": ""
    }
   },
   "source": [
    "- `map`: asignando a cada elemento un valor o cálculo sobre él mismo:"
   ]
  },
  {
   "cell_type": "code",
   "execution_count": 0,
   "metadata": {
    "application/vnd.databricks.v1+cell": {
     "cellMetadata": {
      "byteLimit": 2048000,
      "rowLimit": 10000
     },
     "inputWidgets": {},
     "nuid": "f4677e79-f7c0-464f-b208-cd159c033c0f",
     "showTitle": false,
     "tableResultSettingsMap": {},
     "title": ""
    }
   },
   "outputs": [],
   "source": [
    "lista  = ['Hola', 'Adiós', 'Hasta luego']\n",
    "rddMap = sc.parallelize(lista).map(lambda x: (x, len(x)))\n",
    "# [('Hola', 4), ('Adiós', 5), ('Hasta luego', 11)]"
   ]
  },
  {
   "cell_type": "markdown",
   "metadata": {
    "application/vnd.databricks.v1+cell": {
     "cellMetadata": {},
     "inputWidgets": {},
     "nuid": "31918915-ee23-478e-be51-3b269ba3e661",
     "showTitle": false,
     "tableResultSettingsMap": {},
     "title": ""
    }
   },
   "source": [
    "- `keyBy`: permite crear las claves a partir de cada elemento:"
   ]
  },
  {
   "cell_type": "code",
   "execution_count": 0,
   "metadata": {
    "application/vnd.databricks.v1+cell": {
     "cellMetadata": {
      "byteLimit": 2048000,
      "rowLimit": 10000
     },
     "inputWidgets": {},
     "nuid": "d0cc4efb-571d-47ca-943a-5f5bd6f5399e",
     "showTitle": false,
     "tableResultSettingsMap": {},
     "title": ""
    }
   },
   "outputs": [],
   "source": [
    "rddKeyBy = sc.parallelize(lista).keyBy(lambda x: x[0])  # creamos una clave con la primera letra\n",
    "# [('H', 'Hola'), ('A', 'Adiós'), ('H', 'Hasta luego')]"
   ]
  },
  {
   "cell_type": "markdown",
   "metadata": {
    "application/vnd.databricks.v1+cell": {
     "cellMetadata": {},
     "inputWidgets": {},
     "nuid": "c77a9131-47f9-471b-b2ea-1ffc00cdae71",
     "showTitle": false,
     "tableResultSettingsMap": {},
     "title": ""
    }
   },
   "source": [
    "### Actividad:"
   ]
  },
  {
   "cell_type": "markdown",
   "metadata": {
    "application/vnd.databricks.v1+cell": {
     "cellMetadata": {},
     "inputWidgets": {},
     "nuid": "bbbd24a9-f640-4a6b-85a0-c29fae4244db",
     "showTitle": false,
     "tableResultSettingsMap": {},
     "title": ""
    }
   },
   "source": [
    "A partir de la lista `\"Perro Gato Loro Pez León Tortuga Gallina\"`"
   ]
  },
  {
   "cell_type": "markdown",
   "metadata": {
    "application/vnd.databricks.v1+cell": {
     "cellMetadata": {},
     "inputWidgets": {},
     "nuid": "62581ae5-518d-4af4-98b1-1b8078b35903",
     "showTitle": false,
     "tableResultSettingsMap": {},
     "title": ""
    }
   },
   "source": [
    "1. Crea un RDD a partir de esta lista\n",
    "2. Convierte el RDD normal en un RDD de pares cuya clave sea la primera letra del animal\n",
    "3. Crea otro RDD de pares pero poniendo como clave un número incremental\n",
    "4. ¿Y si queremos que el índice incremental empiece en 100?"
   ]
  },
  {
   "cell_type": "markdown",
   "metadata": {
    "application/vnd.databricks.v1+cell": {
     "cellMetadata": {},
     "inputWidgets": {},
     "nuid": "0f5b6f8a-fa48-44e0-8dae-97bd3d48939e",
     "showTitle": false,
     "tableResultSettingsMap": {},
     "title": ""
    }
   },
   "source": [
    "#### Solucion"
   ]
  },
  {
   "cell_type": "code",
   "execution_count": 0,
   "metadata": {
    "application/vnd.databricks.v1+cell": {
     "cellMetadata": {
      "byteLimit": 2048000,
      "rowLimit": 10000
     },
     "inputWidgets": {},
     "nuid": "62f6de6c-0ad5-46bb-a05a-64719068ff4a",
     "showTitle": false,
     "tableResultSettingsMap": {},
     "title": ""
    }
   },
   "outputs": [
    {
     "output_type": "stream",
     "name": "stdout",
     "output_type": "stream",
     "text": [
      "[('P', 'Perro'), ('G', 'Gato'), ('L', 'Loro'), ('P', 'Pez'), ('L', 'León'), ('T', 'Tortuga'), ('G', 'Gallina')]\n[('Perro', 0), ('Gato', 1), ('Loro', 2), ('Pez', 3), ('León', 4), ('Tortuga', 5), ('Gallina', 6)]\n[(100, 'Perro'), (101, 'Gato'), (102, 'Loro'), (103, 'Pez'), (104, 'León'), (105, 'Tortuga'), (106, 'Gallina')]\n"
     ]
    }
   ],
   "source": [
    "# Coloca tus respuestas aqui\n",
    "\n",
    "# Lista de animales\n",
    "animales = [\"Perro\", \"Gato\", \"Loro\", \"Pez\", \"León\", \"Tortuga\", \"Gallina\"]\n",
    "\n",
    "# Crear un RDD a partir de la lista\n",
    "rddAnimales = sc.parallelize(animales)\n",
    "\n",
    "# Convertir el RDD normal en un RDD de pares con la primera letra como clave\n",
    "rddParesLetra = rddAnimales.map(lambda x: (x[0], x))\n",
    "\n",
    "# Crear otro RDD de pares con un índice incremental\n",
    "rddParesIndice = rddAnimales.zipWithIndex()\n",
    "\n",
    "# Si queremos que el índice empiece en 100, usamos zipWithIndex con un offset\n",
    "rddParesIndice100 = rddAnimales.zipWithIndex().map(lambda x: (x[1] + 100, x[0]))\n",
    "\n",
    "# Mostrar los resultados\n",
    "print(rddParesLetra.collect())\n",
    "print(rddParesIndice.collect())\n",
    "print(rddParesIndice100.collect())\n"
   ]
  },
  {
   "cell_type": "markdown",
   "metadata": {
    "application/vnd.databricks.v1+cell": {
     "cellMetadata": {},
     "inputWidgets": {},
     "nuid": "49a7b3bb-c80c-407f-8941-1f58d78e75c1",
     "showTitle": false,
     "tableResultSettingsMap": {},
     "title": ""
    }
   },
   "source": [
    "Sobre los RDD de pares, podemos realizar las siguientes transformaciones:"
   ]
  },
  {
   "cell_type": "markdown",
   "metadata": {
    "application/vnd.databricks.v1+cell": {
     "cellMetadata": {},
     "inputWidgets": {},
     "nuid": "32f53d0b-7055-455a-828b-d3c59602e343",
     "showTitle": false,
     "tableResultSettingsMap": {},
     "title": ""
    }
   },
   "source": [
    "- [`keys`](https://spark.apache.org/docs/latest/api/python/reference/api/pyspark.RDD.keys.html): devuelve las claves\n",
    "- [`values`](https://spark.apache.org/docs/latest/api/python/reference/api/pyspark.RDD.values.html): devuelve los valores\n",
    "- [`mapValues`](https://spark.apache.org/docs/latest/api/python/reference/api/pyspark.RDD.mapValues.html): Aplica la función sobre los valores\n",
    "- [`flatMapValues`](https://spark.apache.org/docs/latest/api/python/reference/api/pyspark.RDD.flatMapValues.html) Aplica la función sobre los valores y los aplana.\n",
    "  "
   ]
  },
  {
   "cell_type": "markdown",
   "metadata": {
    "application/vnd.databricks.v1+cell": {
     "cellMetadata": {},
     "inputWidgets": {},
     "nuid": "6e7c03d5-59c1-4978-ab84-48bfdb417a70",
     "showTitle": false,
     "tableResultSettingsMap": {},
     "title": ""
    }
   },
   "source": [
    "A continuación se muestra un fragmento de código para poner en práctica las transformaciones comentadas:"
   ]
  },
  {
   "cell_type": "code",
   "execution_count": 0,
   "metadata": {
    "application/vnd.databricks.v1+cell": {
     "cellMetadata": {
      "byteLimit": 2048000,
      "rowLimit": 10000
     },
     "inputWidgets": {},
     "nuid": "76e6d2d9-1367-422d-9e68-7e4c94e0d510",
     "showTitle": false,
     "tableResultSettingsMap": {},
     "title": ""
    }
   },
   "outputs": [],
   "source": [
    "listaTuplas = [('a',1), ('z',3), ('b',4), ('c',3), ('a',4)]\n",
    "rddTuplas = sc.parallelize(listaTuplas)\n",
    "\n",
    "claves = rddTuplas.keys()       # ['a', 'z', 'b', 'c', 'a']\n",
    "valores = rddTuplas.values()    # [1, 3, 4, 3, 4]\n",
    "\n",
    "rddMapValues = rddTuplas.mapValues(lambda x: (x,x*2))\n",
    "# [('a', (1, 2)), ('z', (3, 6)), ('b', (4, 8)), ('c', (3, 6)), ('a', (4, 8))]\n",
    "rddFMV = rddTuplas.flatMapValues(lambda x: (x,x*2))\n",
    "# [('a', 1),\n",
    "#  ('a', 2),\n",
    "#  ('z', 3),\n",
    "#  ('z', 6),\n",
    "#  ('b', 4),\n",
    "# ..."
   ]
  },
  {
   "cell_type": "markdown",
   "metadata": {
    "application/vnd.databricks.v1+cell": {
     "cellMetadata": {},
     "inputWidgets": {},
     "nuid": "90743f3c-51f1-4eec-a77c-53f44502c35a",
     "showTitle": false,
     "tableResultSettingsMap": {},
     "title": ""
    }
   },
   "source": [
    "### Transformaciones Wide"
   ]
  },
  {
   "cell_type": "markdown",
   "metadata": {
    "application/vnd.databricks.v1+cell": {
     "cellMetadata": {},
     "inputWidgets": {},
     "nuid": "09b37e2d-96c5-4327-a819-99c6a799fc5c",
     "showTitle": false,
     "tableResultSettingsMap": {},
     "title": ""
    }
   },
   "source": [
    "Las siguientes transformaciones, además de trabajar con RDD de pares, mezclan los datos de las particiones mediante el shuffle de los elementos."
   ]
  },
  {
   "cell_type": "markdown",
   "metadata": {
    "application/vnd.databricks.v1+cell": {
     "cellMetadata": {},
     "inputWidgets": {},
     "nuid": "09b0ed63-c852-4943-8889-9d34c19f99bf",
     "showTitle": false,
     "tableResultSettingsMap": {},
     "title": ""
    }
   },
   "source": [
    "Para los siguientes ejemplos, utilizaremos un fichero de ventas [`pdi_sales.csv`](https://tajamar365.sharepoint.com/:x:/s/3405-MasterIA2024-2025/EdbX1Ds2BShClAxQaHHZYyYBwu5DY1Li3jvXLN_Z7KbhHg?e=Vj3xFq) (versión extendida) / [`pdi_sales_small.csv`](https://tajamar365.sharepoint.com/:x:/s/3405-MasterIA2024-2025/EdbX1Ds2BShClAxQaHHZYyYBwu5DY1Li3jvXLN_Z7KbhHg?e=Vj3xFq) (versión reducida) el cual tiene el siguiente formato:"
   ]
  },
  {
   "cell_type": "markdown",
   "metadata": {
    "application/vnd.databricks.v1+cell": {
     "cellMetadata": {},
     "inputWidgets": {},
     "nuid": "6413465e-8d26-4f10-b518-2cb380037ac1",
     "showTitle": false,
     "tableResultSettingsMap": {},
     "title": ""
    }
   },
   "source": [
    "ProductID;Date;Zip;Units;Revenue;Country\n",
    "725;1/15/1999;41540          ;1;115.5;Germany\n",
    "787;6/6/2002;41540          ;1;314.9;Germany\n",
    "..."
   ]
  },
  {
   "cell_type": "markdown",
   "metadata": {
    "application/vnd.databricks.v1+cell": {
     "cellMetadata": {},
     "inputWidgets": {},
     "nuid": "868ec63b-19b6-4bbf-90e6-8387f09b15bf",
     "showTitle": false,
     "tableResultSettingsMap": {},
     "title": ""
    }
   },
   "source": [
    "### ReduceByKey"
   ]
  },
  {
   "cell_type": "markdown",
   "metadata": {
    "application/vnd.databricks.v1+cell": {
     "cellMetadata": {},
     "inputWidgets": {},
     "nuid": "1f145515-9a5c-403e-8afe-b6c714a931e6",
     "showTitle": false,
     "tableResultSettingsMap": {},
     "title": ""
    }
   },
   "source": [
    "Mediante la transformación [`reducedByKey`](https://spark.apache.org/docs/latest/api/python/reference/api/pyspark.RDD.reduceByKey.html) los datos se calculan utilizando una función de reducción a partir de la clave combinando en la misma máquina las parejas con la misma clave antes de que los datos se barajen."
   ]
  },
  {
   "cell_type": "markdown",
   "metadata": {
    "application/vnd.databricks.v1+cell": {
     "cellMetadata": {},
     "inputWidgets": {},
     "nuid": "00e98de2-81f6-455f-aa31-100b0fa4351c",
     "showTitle": false,
     "tableResultSettingsMap": {},
     "title": ""
    }
   },
   "source": [
    "Vamos a comenzar con un ejemplo sencillo, contando cuantas ventas se han realizado en cada país, o lo que es lo mismo, las veces que aparece cada palabra en el fichero:"
   ]
  },
  {
   "cell_type": "code",
   "execution_count": 0,
   "metadata": {
    "application/vnd.databricks.v1+cell": {
     "cellMetadata": {
      "byteLimit": 2048000,
      "rowLimit": 10000
     },
     "inputWidgets": {},
     "nuid": "d65f74ef-5f73-4147-81db-cdc8d273e28c",
     "showTitle": false,
     "tableResultSettingsMap": {},
     "title": ""
    }
   },
   "outputs": [],
   "source": [
    "rdd = sc.textFile(\"/FileStore/pdi_sales_small.csv\")\n",
    "# Recogemos el país y las unidades de las ventas\n",
    "parPais1 = rdd.map(lambda x: (x.split(\";\")[-1].strip(), 1))\n",
    "# parPais1.collect()\n",
    "# [('Country', 1),\n",
    "#  ('Germany', 1),\n",
    "#  ('Germany', 1),\n",
    "#  ('Germany', 1), ..."
   ]
  },
  {
   "cell_type": "markdown",
   "metadata": {
    "application/vnd.databricks.v1+cell": {
     "cellMetadata": {},
     "inputWidgets": {},
     "nuid": "d01ed328-8db0-4617-8e12-3fba4a8ab29a",
     "showTitle": false,
     "tableResultSettingsMap": {},
     "title": ""
    }
   },
   "source": [
    "Hemos creado un RDD de pares compuesto por el nombre del país y el número uno, para luego en la fase de reducción sumar estos valores. Pero si nos fijamos, el archivo csv contiene el encabezado con los datos, el cual debemos quitar:"
   ]
  },
  {
   "cell_type": "code",
   "execution_count": 0,
   "metadata": {
    "application/vnd.databricks.v1+cell": {
     "cellMetadata": {
      "byteLimit": 2048000,
      "rowLimit": 10000
     },
     "inputWidgets": {},
     "nuid": "ef1102fa-6ec0-46be-80df-4e8590a8e590",
     "showTitle": false,
     "tableResultSettingsMap": {},
     "title": ""
    }
   },
   "outputs": [],
   "source": [
    "header = parPais1.first()\n",
    "parPais1SinHeader = parPais1.filter(lambda linea: linea != header)\n",
    "# parPais1SinHeader.collect()\n",
    "# [('Germany', 1),\n",
    "#  ('Germany', 1),\n",
    "#  ('Germany', 1), ..."
   ]
  },
  {
   "cell_type": "markdown",
   "metadata": {
    "application/vnd.databricks.v1+cell": {
     "cellMetadata": {},
     "inputWidgets": {},
     "nuid": "4472ab35-0077-4e01-8853-a5fabe7359ae",
     "showTitle": false,
     "tableResultSettingsMap": {},
     "title": ""
    }
   },
   "source": [
    "Y finalmente, ya podemos reducir por la clave:"
   ]
  },
  {
   "cell_type": "code",
   "execution_count": 0,
   "metadata": {
    "application/vnd.databricks.v1+cell": {
     "cellMetadata": {
      "byteLimit": 2048000,
      "rowLimit": 10000
     },
     "inputWidgets": {},
     "nuid": "c5909ee9-04d1-4a4e-bf4d-516641da44f7",
     "showTitle": false,
     "tableResultSettingsMap": {},
     "title": ""
    }
   },
   "outputs": [],
   "source": [
    "paisesTotal = parPais1SinHeader.reduceByKey(lambda a,b: a+b)\n",
    "# paisesTotal.collect()\n",
    "# [('Mexico', 30060), ('France', 30060), ('Germany', 30059), ('Canada', 30060)]"
   ]
  },
  {
   "cell_type": "markdown",
   "metadata": {
    "application/vnd.databricks.v1+cell": {
     "cellMetadata": {},
     "inputWidgets": {},
     "nuid": "033be23f-bafa-49d7-a824-031197fce755",
     "showTitle": false,
     "tableResultSettingsMap": {},
     "title": ""
    }
   },
   "source": [
    "> Funciones lambda en reduce\n",
    "> Al aplicar una transformación de tipo reduce, la función lambda recibirá dos parámetros, siendo el primero el valor acumulado y el segundo el valor del elemento a operar."
   ]
  },
  {
   "cell_type": "markdown",
   "metadata": {
    "application/vnd.databricks.v1+cell": {
     "cellMetadata": {},
     "inputWidgets": {},
     "nuid": "7622888a-e6f8-4376-8755-d718dcea95d5",
     "showTitle": false,
     "tableResultSettingsMap": {},
     "title": ""
    }
   },
   "source": [
    "Veamos otro ejemplo, en este caso vamos a calcular el total de unidades vendidas por país, de manera que vamos a coger el nombre del país (Country) y las unidades (Units) vendidas:"
   ]
  },
  {
   "cell_type": "code",
   "execution_count": 0,
   "metadata": {
    "application/vnd.databricks.v1+cell": {
     "cellMetadata": {
      "byteLimit": 2048000,
      "rowLimit": 10000
     },
     "inputWidgets": {},
     "nuid": "7d53cc99-1ca1-46c1-b85b-d367d7a347af",
     "showTitle": false,
     "tableResultSettingsMap": {},
     "title": ""
    }
   },
   "outputs": [
    {
     "output_type": "stream",
     "name": "stdout",
     "output_type": "stream",
     "text": [
      "Out[53]: [('Mexico', 31095), ('France', 31739), ('Germany', 31746), ('Canada', 31148)]"
     ]
    }
   ],
   "source": [
    "rdd = sc.textFile(\"/FileStore/pdi_sales_small.csv\")\n",
    "# Recogemos el país y las unidades de las ventas\n",
    "paisesUnidades = rdd.map(lambda x: (x.split(\";\")[-1].strip(), x.split(\";\")[3]))\n",
    "# Le quitamos el encabezado\n",
    "header = paisesUnidades.first()\n",
    "paisesUnidadesSinHeader = paisesUnidades.filter(lambda linea: linea != header)\n",
    "# Pasamos las unidades a un número entero\n",
    "paisesUnidadesInt = paisesUnidadesSinHeader.map(lambda x: (x[0], int(x[1])))\n",
    "# Reducimos por el país y sumamos las unidades\n",
    "paisesTotalUnidades = paisesUnidadesInt.reduceByKey(lambda a,b: a+b)\n",
    "paisesTotalUnidades.collect()"
   ]
  },
  {
   "cell_type": "markdown",
   "metadata": {
    "application/vnd.databricks.v1+cell": {
     "cellMetadata": {},
     "inputWidgets": {},
     "nuid": "8f1bbb07-250b-44f2-8ed3-985845d3de56",
     "showTitle": false,
     "tableResultSettingsMap": {},
     "title": ""
    }
   },
   "source": [
    "### Actividad:"
   ]
  },
  {
   "cell_type": "markdown",
   "metadata": {
    "application/vnd.databricks.v1+cell": {
     "cellMetadata": {},
     "inputWidgets": {},
     "nuid": "6facd4f8-840f-4009-beca-d3e60b420f78",
     "showTitle": false,
     "tableResultSettingsMap": {},
     "title": ""
    }
   },
   "source": [
    "Dada la siguiente lista de compra:"
   ]
  },
  {
   "cell_type": "code",
   "execution_count": 0,
   "metadata": {
    "application/vnd.databricks.v1+cell": {
     "cellMetadata": {
      "byteLimit": 2048000,
      "rowLimit": 10000
     },
     "inputWidgets": {},
     "nuid": "da48d897-15f9-4e58-85d7-766e55fc32ba",
     "showTitle": false,
     "tableResultSettingsMap": {},
     "title": ""
    }
   },
   "outputs": [],
   "source": [
    "lista = [('pan',3), ('agua',2), ('azúcar',1), ('leche',2), ('pan',1), ('cereales',3), ('agua',0.5), ('leche',2), ('filetes',5)]"
   ]
  },
  {
   "cell_type": "markdown",
   "metadata": {
    "application/vnd.databricks.v1+cell": {
     "cellMetadata": {},
     "inputWidgets": {},
     "nuid": "fd9a5fe1-5f0d-4e7a-8f7e-3d432907dfcf",
     "showTitle": false,
     "tableResultSettingsMap": {},
     "title": ""
    }
   },
   "source": [
    "**Calcula**"
   ]
  },
  {
   "cell_type": "markdown",
   "metadata": {
    "application/vnd.databricks.v1+cell": {
     "cellMetadata": {},
     "inputWidgets": {},
     "nuid": "6964ec58-fde9-4a44-b34a-bd21dbfd65cb",
     "showTitle": false,
     "tableResultSettingsMap": {},
     "title": ""
    }
   },
   "source": [
    "1. El total que se ha gastado por cada producto  \n",
    "2. Cuánto es lo máximo que se ha pagado por cada producto"
   ]
  },
  {
   "cell_type": "code",
   "execution_count": 0,
   "metadata": {
    "application/vnd.databricks.v1+cell": {
     "cellMetadata": {
      "byteLimit": 2048000,
      "rowLimit": 10000
     },
     "inputWidgets": {},
     "nuid": "2b591658-6f5e-440c-90f2-527dde6dbcf3",
     "showTitle": false,
     "tableResultSettingsMap": {},
     "title": ""
    }
   },
   "outputs": [
    {
     "output_type": "stream",
     "name": "stdout",
     "output_type": "stream",
     "text": [
      "Total gastado por cada producto:\n[('agua', 2.5), ('pan', 4), ('leche', 4), ('cereales', 3), ('filetes', 5), ('azúcar', 1)]\n\nLo máximo que se ha pagado por cada producto:\n[('agua', 2), ('pan', 3), ('leche', 2), ('cereales', 3), ('filetes', 5), ('azúcar', 1)]\n"
     ]
    }
   ],
   "source": [
    "# Crear el RDD a partir de la lista\n",
    "rddCompras = sc.parallelize(lista)\n",
    "\n",
    "# 1. Calcular el total gastado por cada producto\n",
    "# Usamos reduceByKey para sumar los valores de cada clave (producto)\n",
    "totalGastado = rddCompras.reduceByKey(lambda x, y: x + y)\n",
    "print(\"Total gastado por cada producto:\")\n",
    "print(totalGastado.collect())\n",
    "\n",
    "# 2. Calcular lo máximo que se ha pagado por cada producto\n",
    "# Usamos reduceByKey para obtener el valor máximo de cada clave (producto)\n",
    "maxPagado = rddCompras.reduceByKey(lambda x, y: max(x, y))\n",
    "print(\"\\nLo máximo que se ha pagado por cada producto:\")\n",
    "print(maxPagado.collect())"
   ]
  },
  {
   "cell_type": "markdown",
   "metadata": {
    "application/vnd.databricks.v1+cell": {
     "cellMetadata": {},
     "inputWidgets": {},
     "nuid": "bcc2bcb5-f6b7-49b0-bc97-32a6f92c1a66",
     "showTitle": false,
     "tableResultSettingsMap": {},
     "title": ""
    }
   },
   "source": [
    "### GroupByKey"
   ]
  },
  {
   "cell_type": "markdown",
   "metadata": {
    "application/vnd.databricks.v1+cell": {
     "cellMetadata": {},
     "inputWidgets": {},
     "nuid": "a6050fcf-473e-4479-a146-3f0a2abfa8af",
     "showTitle": false,
     "tableResultSettingsMap": {},
     "title": ""
    }
   },
   "source": [
    "Permite agrupar los datos a partir de una clave, repartiendo los resultados (shuffle) entre todos los nodos:"
   ]
  },
  {
   "cell_type": "code",
   "execution_count": 0,
   "metadata": {
    "application/vnd.databricks.v1+cell": {
     "cellMetadata": {
      "byteLimit": 2048000,
      "rowLimit": 10000
     },
     "inputWidgets": {},
     "nuid": "5c7ac763-5acb-42ea-aec5-efc414aee699",
     "showTitle": false,
     "tableResultSettingsMap": {},
     "title": ""
    }
   },
   "outputs": [
    {
     "output_type": "stream",
     "name": "stdout",
     "output_type": "stream",
     "text": [
      "Out[56]: [('Country', <pyspark.resultiterable.ResultIterable at 0x7fbd769dc6d0>),\n ('Mexico', <pyspark.resultiterable.ResultIterable at 0x7fbd768dfca0>),\n ('France', <pyspark.resultiterable.ResultIterable at 0x7fbd76a06df0>),\n ('Germany', <pyspark.resultiterable.ResultIterable at 0x7fbd779f5700>),\n ('Canada', <pyspark.resultiterable.ResultIterable at 0x7fbd88641d30>)]"
     ]
    }
   ],
   "source": [
    "rdd = sc.textFile(\"/FileStore/pdi_sales_small.csv\")\n",
    "# Creamos un RDD de pares con el nombre del país como clave, y una lista con los valores\n",
    "ventas = rdd.map(lambda x: (x.split(\";\")[-1].strip(), x.split(\";\")))\n",
    "# Quitamos el primer elemento que es el encabezado del CSV\n",
    "header = paisesUnidades.first()\n",
    "paisesUnidadesSinHeader = paisesUnidades.filter(lambda linea: linea != header)\n",
    "# Agrupamos las ventas por nombre del país\n",
    "paisesAgrupados = ventas.groupByKey()\n",
    "paisesAgrupados.collect()\n",
    "# Obtendremos para cada pais, un iterable con todos sus datos:"
   ]
  },
  {
   "cell_type": "markdown",
   "metadata": {
    "application/vnd.databricks.v1+cell": {
     "cellMetadata": {},
     "inputWidgets": {},
     "nuid": "8a034f82-bc14-4864-9f8e-9344705e708b",
     "showTitle": false,
     "tableResultSettingsMap": {},
     "title": ""
    }
   },
   "source": [
    "Podemos transformar los iterables a una lista:"
   ]
  },
  {
   "cell_type": "code",
   "execution_count": 0,
   "metadata": {
    "application/vnd.databricks.v1+cell": {
     "cellMetadata": {
      "byteLimit": 2048000,
      "rowLimit": 10000
     },
     "inputWidgets": {},
     "nuid": "d683d2dc-5c65-4e29-a9e2-16002064c7c2",
     "showTitle": false,
     "tableResultSettingsMap": {},
     "title": ""
    }
   },
   "outputs": [
    {
     "output_type": "stream",
     "name": "stdout",
     "output_type": "stream",
     "text": [
      "Out[57]: [('Country', [['ProductID', 'Date', 'Zip', 'Units', 'Revenue', 'Country']]),\n ('Mexico',\n  [['2235', '1/15/1999', '8650           ', '1', '65.6', 'Mexico '],\n   ['837', '2/15/1999', '8650           ', '1', '840', 'Mexico '],\n   ['491', '2/15/1999', '8650           ', '1', '815.3', 'Mexico '],\n   ['426', '5/31/2002', '8650           ', '1', '843.1', 'Mexico '],\n   ['400', '6/6/2002', '8650           ', '1', '734.7', 'Mexico '],\n   ['1131', '2/15/1999', '8650           ', '1', '419.9', 'Mexico '],\n   ['2277', '3/15/1999', '8650           ', '1', '251.9', 'Mexico '],\n   ['491', '3/15/1999', '8650           ', '1', '815.3', 'Mexico '],\n   ['467', '6/8/2002', '8650           ', '1', '900.6', 'Mexico '],\n   ['565', '4/12/2003', '2000           ', '1', '890.7', 'Mexico '],\n   ['604', '4/12/2003', '2000           ', '1', '494.8', 'Mexico '],\n   ['940', '3/15/1999', '2000           ', '1', '687.7', 'Mexico '],\n   ['2277', '1/15/1999', '8640           ', '1', '251.9', 'Mexico '],\n   ['739', '1/15/1999', '2008           ', '1', '170.6', 'Mexico '],\n   ['2188', '1/15/1999', '2008           ', '1', '233.6', 'Mexico '],\n   ['1894', '1/15/1999', '2008           ', '1', '682.2', 'Mexico '],\n   ['757', '4/11/2003', '2008           ', '1', '73.5', 'Mexico '],\n   ['758', '4/11/2003', '2008           ', '1', '73.5', 'Mexico '],\n   ['2373', '3/15/1999', '2008           ', '1', '551.2', 'Mexico '],\n   ['606', '1/15/1999', '8830           ', '1', '314.7', 'Mexico '],\n   ['2082', '4/10/2003', '8830           ', '1', '335.9', 'Mexico '],\n   ['2284', '2/15/1999', '8830           ', '1', '293.9', 'Mexico '],\n   ['2055', '6/3/2002', '2009           ', '1', '569.6', 'Mexico '],\n   ['396', '3/15/1999', '2009           ', '1', '857.1', 'Mexico '],\n   ['658', '1/15/1999', '9130           ', '1', '902.7', 'Mexico '],\n   ['992', '4/11/2003', '9130           ', '1', '278.2', 'Mexico '],\n   ['2282', '1/15/1999', '9130           ', '1', '304.4', 'Mexico '],\n   ['2255', '5/31/2002', '9130           ', '1', '60.3', 'Mexico '],\n   ['1182', '2/15/1999', '9130           ', '1', '157.4', 'Mexico '],\n   ['2056', '2/15/1999', '9130           ', '1', '325.4', 'Mexico '],\n   ['2254', '5/31/2002', '9130           ', '1', '60.3', 'Mexico '],\n   ['671', '6/3/2002', '9130           ', '1', '892.2', 'Mexico '],\n   ['687', '1/15/1999', '9160           ', '1', '446', 'Mexico '],\n   ['599', '2/15/1999', '9160           ', '1', '753.6', 'Mexico '],\n   ['1927', '5/31/2002', '9160           ', '1', '99.7', 'Mexico '],\n   ['1926', '5/31/2002', '9160           ', '1', '99.7', 'Mexico '],\n   ['2074', '5/31/2002', '9160           ', '1', '335.9', 'Mexico '],\n   ['683', '3/15/1999', '2020           ', '1', '788', 'Mexico '],\n   ['713', '1/15/1999', '7708           ', '1', '160.1', 'Mexico '],\n   ['1116', '2/15/1999', '7708           ', '1', '251.9', 'Mexico '],\n   ['725', '1/15/1999', '9410           ', '1', '115.5', 'Mexico '],\n   ['2388', '2/15/1999', '9410           ', '1', '309.7', 'Mexico '],\n   ['2045', '2/15/1999', '9410           ', '1', '409.4', 'Mexico '],\n   ['2234', '2/15/1999', '9410           ', '1', '65.6', 'Mexico '],\n   ['726', '1/15/1999', '9410           ', '1', '115.5', 'Mexico '],\n   ['758', '1/15/1999', '9410           ', '1', '84', 'Mexico '],\n   ['767', '1/15/1999', '9410           ', '1', '105', 'Mexico '],\n   ['2235', '2/15/1999', '9410           ', '1', '65.6', 'Mexico '],\n   ['726', '1/15/1999', '8730           ', '1', '115.5', 'Mexico '],\n   ['728', '2/15/1999', '8730           ', '1', '63', 'Mexico '],\n   ['725', '1/15/1999', '8730           ', '1', '115.5', 'Mexico '],\n   ['727', '2/15/1999', '8730           ', '1', '63', 'Mexico '],\n   ['433', '1/15/1999', '2060           ', '1', '804.3', 'Mexico '],\n   ['728', '1/15/1999', '8010           ', '1', '63', 'Mexico '],\n   ['1990', '2/15/1999', '8010           ', '1', '257.2', 'Mexico '],\n   ['727', '1/15/1999', '8010           ', '1', '63', 'Mexico '],\n   ['1116', '1/15/1999', '8010           ', '1', '251.9', 'Mexico '],\n   ['2083', '3/15/1999', '8010           ', '1', '309.7', 'Mexico '],\n   ['981', '1/15/1999', '2070           ', '1', '157.4', 'Mexico '],\n   ['2235', '1/15/1999', '2070           ', '1', '65.6', 'Mexico '],\n   ['740', '1/15/1999', '7740           ', '1', '170.6', 'Mexico '],\n   ['739', '1/15/1999', '7740           ', '1', '170.6', 'Mexico '],\n   ['2211', '1/15/1999', '7740           ', '1', '107.6', 'Mexico '],\n   ['2234', '1/15/1999', '7740           ', '1', '65.6', 'Mexico '],\n   ['609', '2/15/1999', '7740           ', '1', '778.8', 'Mexico '],\n   ['2284', '3/15/1999', '7740           ', '1', '293.9', 'Mexico '],\n   ['757', '1/15/1999', '7580           ', '2', '167.9', 'Mexico '],\n   ['1173', '2/15/1999', '7580           ', '1', '525', 'Mexico '],\n   ['491', '2/15/1999', '7580           ', '2', '1630.7', 'Mexico '],\n   ['574', '6/3/2002', '7580           ', '1', '869.1', 'Mexico '],\n   ['443', '2/15/1999', '7580           ', '1', '790.9', 'Mexico '],\n   ['597', '2/15/1999', '7580           ', '1', '892.2', 'Mexico '],\n   ['433', '1/15/1999', '7580           ', '1', '804.3', 'Mexico '],\n   ['491', '1/15/1999', '7580           ', '2', '1630.7', 'Mexico '],\n   ['767', '1/15/1999', '7580           ', '1', '105', 'Mexico '],\n   ['1975', '1/15/1999', '7580           ', '1', '52.5', 'Mexico '],\n   ['2270', '5/31/2002', '7580           ', '1', '314.9', 'Mexico '],\n   ['2094', '2/15/1999', '7580           ', '1', '433.1', 'Mexico '],\n   ['2277', '2/15/1999', '7580           ', '1', '251.9', 'Mexico '],\n   ['1185', '2/15/1999', '7580           ', '1', '419.9', 'Mexico '],\n   ['426', '2/15/1999', '7580           ', '1', '795.1', 'Mexico '],\n   ['533', '6/3/2002', '7580           ', '1', '524.7', 'Mexico '],\n   ['676', '3/15/1999', '7580           ', '2', '1603.9', 'Mexico '],\n   ['758', '1/15/1999', '9400           ', '1', '84', 'Mexico '],\n   ['2373', '4/10/2003', '9400           ', '1', '619.5', 'Mexico '],\n   ['1920', '6/4/2002', '9400           ', '1', '262.4', 'Mexico '],\n   ['2211', '1/15/1999', '9400           ', '1', '107.6', 'Mexico '],\n   ['1122', '2/15/1999', '9400           ', '1', '157.4', 'Mexico '],\n   ['604', '2/15/1999', '9400           ', '1', '461.7', 'Mexico '],\n   ['772', '1/15/1999', '9330           ', '1', '165.3', 'Mexico '],\n   ['979', '1/15/1999', '8188           ', '1', '393.7', 'Mexico '],\n   ['631', '2/15/1999', '2109           ', '1', '346.2', 'Mexico '],\n   ['1120', '1/15/1999', '7729           ', '1', '173.2', 'Mexico '],\n   ['606', '4/11/2003', '7729           ', '1', '337.8', 'Mexico '],\n   ['2234', '2/15/1999', '7729           ', '1', '65.6', 'Mexico '],\n   ['1916', '6/5/2002', '7729           ', '1', '286.1', 'Mexico '],\n   ['2235', '2/15/1999', '7729           ', '1', '65.6', 'Mexico '],\n   ['1517', '3/15/1999', '7729           ', '1', '141.7', 'Mexico '],\n   ['728', '3/15/1999', '7729           ', '1', '63', 'Mexico '],\n   ['499', '1/15/1999', '2110           ', '1', '846.3', 'Mexico '],\n   ['730', '5/31/2002', '2110           ', '1', '309.7', 'Mexico '],\n   ['823', '5/31/2002', '2110           ', '1', '624.7', 'Mexico '],\n   ['826', '5/31/2002', '2110           ', '1', '918.7', 'Mexico '],\n   ['2081', '1/15/1999', '2110           ', '1', '220.4', 'Mexico '],\n   ['1065', '2/15/1999', '2110           ', '1', '296.6', 'Mexico '],\n   ['2268', '3/15/1999', '2110           ', '1', '309.7', 'Mexico '],\n   ['1990', '1/15/1999', '9010           ', '1', '257.2', 'Mexico '],\n   ['559', '4/10/2003', '9010           ', '1', '643.4', 'Mexico '],\n   ['1948', '1/15/1999', '9010           ', '2', '593.1', 'Mexico '],\n   ['400', '1/15/1999', '9010           ', '1', '683.8', 'Mexico '],\n   ['910', '2/15/1999', '9010           ', '1', '414.7', 'Mexico '],\n   ['2192', '3/15/1999', '9010           ', '1', '202.1', 'Mexico '],\n   ['2331', '1/15/1999', '7880           ', '1', '535.5', 'Mexico '],\n   ['596', '2/15/1999', '7880           ', '1', '746.5', 'Mexico '],\n   ['2016', '4/10/2003', '7880           ', '1', '309.7', 'Mexico '],\n   ['964', '4/11/2003', '7880           ', '1', '330.7', 'Mexico '],\n   ['580', '2/15/1999', '7880           ', '1', '734.7', 'Mexico '],\n   ['1935', '5/31/2002', '7880           ', '1', '136.4', 'Mexico '],\n   ['981', '2/15/1999', '7880           ', '1', '157.4', 'Mexico '],\n   ['1133', '6/3/2002', '2125           ', '1', '645.7', 'Mexico '],\n   ['193', '2/15/1999', '8500           ', '1', '682', 'Mexico '],\n   ['2279', '2/15/1999', '8500           ', '1', '165.3', 'Mexico '],\n   ['767', '1/15/1999', '8500           ', '1', '105', 'Mexico '],\n   ['1116', '2/15/1999', '8500           ', '1', '251.9', 'Mexico '],\n   ['726', '6/8/2002', '8500           ', '1', '120.7', 'Mexico '],\n   ['725', '6/8/2002', '8500           ', '1', '120.7', 'Mexico '],\n   ['433', '2/15/1999', '9300           ', '1', '804.3', 'Mexico '],\n   ['491', '2/15/1999', '9300           ', '1', '815.3', 'Mexico '],\n   ['1956', '2/15/1999', '9300           ', '1', '153.8', 'Mexico '],\n   ['1957', '2/15/1999', '9300           ', '1', '153.8', 'Mexico '],\n   ['2071', '5/31/2002', '9300           ', '1', '346.4', 'Mexico '],\n   ['550', '2/15/1999', '9300           ', '1', '404', 'Mexico '],\n   ['2083', '2/15/1999', '9300           ', '1', '309.7', 'Mexico '],\n   ['758', '1/15/1999', '2128           ', '2', '167.9', 'Mexico '],\n   ['757', '1/15/1999', '2128           ', '2', '167.9', 'Mexico '],\n   ['2012', '3/15/1999', '2128           ', '1', '377.9', 'Mexico '],\n   ['482', '2/15/1999', '9260           ', '1', '672', 'Mexico '],\n   ['491', '4/12/2003', '2129           ', '1', '890.7', 'Mexico '],\n   ['2094', '6/4/2002', '2129           ', '1', '438.3', 'Mexico '],\n   ['727', '3/15/1999', '2129           ', '1', '63', 'Mexico '],\n   ['901', '3/15/1999', '2129           ', '1', '409.4', 'Mexico '],\n   ['532', '2/15/1999', '2140           ', '1', '556.5', 'Mexico '],\n   ['604', '2/15/1999', '7800           ', '1', '461.7', 'Mexico '],\n   ['550', '2/15/1999', '7800           ', '2', '808', 'Mexico '],\n   ['318', '1/15/1999', '7800           ', '1', '866', 'Mexico '],\n   ['573', '1/15/1999', '7800           ', '1', '275.4', 'Mexico '],\n   ['2234', '1/15/1999', '7800           ', '1', '65.6', 'Mexico '],\n   ['400', '2/15/1999', '7800           ', '1', '683.8', 'Mexico '],\n   ['1436', '3/15/1999', '7800           ', '1', '312.3', 'Mexico '],\n   ['2005', '3/15/1999', '7800           ', '1', '299.2', 'Mexico '],\n   ['713', '2/15/1999', '7570           ', '1', '160.1', 'Mexico '],\n   ['714', '2/15/1999', '7570           ', '1', '160.1', 'Mexico '],\n   ['1182', '2/15/1999', '7570           ', '1', '157.4', 'Mexico '],\n   ['797', '1/15/1999', '7570           ', '1', '301.8', 'Mexico '],\n   ['1915', '5/31/2002', '7570           ', '1', '467.2', 'Mexico '],\n   ['976', '5/31/2002', '7570           ', '2', '629.9', 'Mexico '],\n   ['727', '1/15/1999', '7570           ', '1', '63', 'Mexico '],\n   ['767', '2/15/1999', '7570           ', '1', '105', 'Mexico '],\n   ['426', '3/15/1999', '7570           ', '1', '795.1', 'Mexico '],\n   ['768', '2/15/1999', '7570           ', '1', '105', 'Mexico '],\n   ['400', '4/12/2003', '2160           ', '1', '772.3', 'Mexico '],\n   ['725', '2/15/1999', '9359           ', '1', '115.5', 'Mexico '],\n   ['726', '2/15/1999', '9359           ', '1', '115.5', 'Mexico '],\n   ['946', '5/31/2002', '2169           ', '1', '708.7', 'Mexico '],\n   ['758', '1/15/1999', '2169           ', '1', '84', 'Mexico '],\n   ['757', '3/15/1999', '2169           ', '1', '84', 'Mexico '],\n   ['550', '2/15/1999', '2169           ', '1', '404', 'Mexico '],\n   ['1045', '6/3/2002', '2169           ', '1', '217.8', 'Mexico '],\n   ['1173', '2/15/1999', '2169           ', '1', '525', 'Mexico '],\n   ['2081', '2/15/1999', '2200           ', '2', '440.9', 'Mexico '],\n   ['767', '2/15/1999', '7909           ', '1', '105', 'Mexico '],\n   ['2331', '2/15/1999', '7909           ', '1', '535.5', 'Mexico '],\n   ['513', '2/15/1999', '7909           ', '1', '451.4', 'Mexico '],\n   ['754', '2/15/1999', '7909           ', '1', '244.1', 'Mexico '],\n   ['768', '2/15/1999', '7909           ', '1', '105', 'Mexico '],\n   ['753', '2/15/1999', '7909           ', '1', '244.1', 'Mexico '],\n   ['2050', '2/15/1999', '7909           ', '1', '498.7', 'Mexico '],\n   ['992', '3/15/1999', '7909           ', '1', '278.2', 'Mexico '],\n   ['769', '2/15/1999', '7548           ', '1', '257.2', 'Mexico '],\n   ['770', '2/15/1999', '7548           ', '1', '257.2', 'Mexico '],\n   ['725', '1/15/1999', '2240           ', '1', '115.5', 'Mexico '],\n   ['769', '2/15/1999', '9200           ', '1', '257.2', 'Mexico '],\n   ['396', '2/15/1999', '9200           ', '1', '857.1', 'Mexico '],\n   ['770', '2/15/1999', '9200           ', '1', '257.2', 'Mexico '],\n   ['901', '2/15/1999', '9200           ', '1', '409.4', 'Mexico '],\n   ['443', '2/15/1999', '9200           ', '1', '790.9', 'Mexico '],\n   ['1168', '6/3/2002', '9200           ', '1', '377.9', 'Mexico '],\n   ['754', '3/15/1999', '9200           ', '1', '241.4', 'Mexico '],\n   ['726', '1/15/1999', '2250           ', '1', '115.5', 'Mexico '],\n   ['758', '1/15/1999', '2250           ', '1', '84', 'Mexico '],\n   ['491', '4/12/2003', '2250           ', '1', '890.7', 'Mexico '],\n   ['767', '1/15/1999', '2250           ', '1', '105', 'Mexico '],\n   ['2388', '2/15/1999', '2250           ', '1', '309.7', 'Mexico '],\n   ['769', '2/15/1999', '9249           ', '1', '251.9', 'Mexico '],\n   ['770', '2/15/1999', '9249           ', '1', '251.9', 'Mexico '],\n   ['609', '1/15/1999', '2260           ', '1', '778.8', 'Mexico '],\n   ['599', '1/15/1999', '2310           ', '1', '753.6', 'Mexico '],\n   ['1188', '2/15/1999', '9099           ', '1', '472.4', 'Mexico '],\n   ['940', '2/15/1999', '2320           ', '1', '687.7', 'Mexico '],\n   ['2120', '2/15/1999', '2320           ', '1', '524.7', 'Mexico '],\n   ['1969', '2/15/1999', '7859           ', '2', '477.6', 'Mexico '],\n   ['713', '2/15/1999', '7859           ', '1', '160.1', 'Mexico '],\n   ['2255', '2/15/1999', '7859           ', '1', '57.7', 'Mexico '],\n   ['2188', '1/15/1999', '7859           ', '1', '233.6', 'Mexico '],\n   ['826', '5/31/2002', '7859           ', '1', '918.7', 'Mexico '],\n   ['2254', '2/15/1999', '7859           ', '1', '57.7', 'Mexico '],\n   ['714', '2/15/1999', '7859           ', '1', '160.1', 'Mexico '],\n   ['1968', '2/15/1999', '7859           ', '2', '477.6', 'Mexico '],\n   ['1139', '6/3/2002', '7859           ', '1', '682.5', 'Mexico '],\n   ['2374', '3/15/1999', '7859           ', '1', '630', 'Mexico '],\n   ['725', '1/15/1999', '2330           ', '1', '115.5', 'Mexico '],\n   ['728', '1/15/1999', '2330           ', '1', '63', 'Mexico '],\n   ['2380', '5/31/2002', '2330           ', '1', '293.9', 'Mexico '],\n   ['2352', '2/15/1999', '2330           ', '1', '367.4', 'Mexico '],\n   ['725', '3/15/1999', '2330           ', '1', '115.5', 'Mexico '],\n   ['604', '1/15/1999', '2340           ', '1', '461.7', 'Mexico '],\n   ['2331', '2/15/1999', '2340           ', '1', '535.5', 'Mexico '],\n   ['550', '2/15/1999', '2340           ', '1', '404', 'Mexico '],\n   ['714', '3/15/1999', '2340           ', '1', '160.1', 'Mexico '],\n   ['2081', '2/15/1999', '7780           ', '1', '220.4', 'Mexico '],\n   ['2204', '2/15/1999', '9540           ', '1', '173.2', 'Mexico '],\n   ['910', '5/31/2002', '9540           ', '1', '430.4', 'Mexico '],\n   ['2053', '6/3/2002', '9540           ', '1', '325.4', 'Mexico '],\n   ['559', '2/15/1999', '9540           ', '1', '585.6', 'Mexico '],\n   ['2255', '2/15/1999', '9540           ', '1', '57.7', 'Mexico '],\n   ['559', '5/31/2002', '9540           ', '1', '624.5', 'Mexico '],\n   ['2081', '2/15/1999', '9540           ', '1', '220.4', 'Mexico '],\n   ['901', '2/15/1999', '9540           ', '1', '409.4', 'Mexico '],\n   ['2205', '2/15/1999', '9540           ', '1', '173.2', 'Mexico '],\n   ['1168', '2/15/1999', '9540           ', '1', '367.4', 'Mexico '],\n   ['2254', '2/15/1999', '9540           ', '1', '57.7', 'Mexico '],\n   ['2352', '3/15/1999', '9540           ', '1', '367.4', 'Mexico '],\n   ['2255', '1/15/1999', '2360           ', '1', '57.7', 'Mexico '],\n   ['981', '1/15/1999', '2360           ', '1', '167.9', 'Mexico '],\n   ['597', '3/15/1999', '2360           ', '1', '892.2', 'Mexico '],\n   ['2211', '2/15/1999', '9430           ', '1', '107.6', 'Mexico '],\n   ['491', '4/11/2003', '9430           ', '1', '890.7', 'Mexico '],\n   ['1144', '6/6/2002', '9430           ', '1', '414.7', 'Mexico '],\n   ['2210', '2/15/1999', '9430           ', '1', '107.6', 'Mexico '],\n   ['645', '1/15/1999', '2400           ', '1', '746.5', 'Mexico '],\n   ['606', '2/15/1999', '2400           ', '1', '314.7', 'Mexico '],\n   ['2235', '2/15/1999', '8760           ', '1', '65.6', 'Mexico '],\n   ['964', '5/31/2002', '8760           ', '2', '656.1', 'Mexico '],\n   ['979', '2/15/1999', '8760           ', '1', '393.7', 'Mexico '],\n   ['2235', '1/15/1999', '8760           ', '1', '65.6', 'Mexico '],\n   ['1436', '1/15/1999', '8760           ', '1', '312.3', 'Mexico '],\n   ['396', '1/15/1999', '8760           ', '1', '857.1', 'Mexico '],\n   ['2234', '2/15/1999', '8760           ', '1', '65.6', 'Mexico '],\n   ['2388', '2/15/1999', '8760           ', '1', '309.7', 'Mexico '],\n   ['992', '3/15/1999', '8760           ', '1', '288.7', 'Mexico '],\n   ['2380', '3/15/1999', '8760           ', '1', '309.7', 'Mexico '],\n   ['2255', '2/15/1999', '8030           ', '1', '57.7', 'Mexico '],\n   ['2254', '2/15/1999', '8030           ', '1', '57.7', 'Mexico '],\n   ['2277', '2/15/1999', '7550           ', '1', '251.9', 'Mexico '],\n   ['1047', '4/10/2003', '7550           ', '1', '209.9', 'Mexico '],\n   ['989', '5/31/2002', '7550           ', '1', '419.9', 'Mexico '],\n   ['1935', '6/3/2002', '7550           ', '1', '136.4', 'Mexico '],\n   ['513', '2/15/1999', '7550           ', '1', '451.4', 'Mexico '],\n   ['609', '2/15/1999', '7550           ', '1', '778.8', 'Mexico '],\n   ['725', '2/15/1999', '7550           ', '1', '115.5', 'Mexico '],\n   ['1065', '2/15/1999', '7550           ', '1', '296.6', 'Mexico '],\n   ['433', '1/15/1999', '7550           ', '2', '1608.6', 'Mexico '],\n   ['726', '1/15/1999', '7550           ', '1', '115.5', 'Mexico '],\n   ['726', '2/15/1999', '7550           ', '1', '115.5', 'Mexico '],\n   ['767', '2/15/1999', '7550           ', '1', '105', 'Mexico '],\n   ['1066', '2/15/1999', '7550           ', '1', '296.6', 'Mexico '],\n   ['559', '2/15/1999', '7550           ', '1', '585.6', 'Mexico '],\n   ['768', '2/15/1999', '7550           ', '1', '105', 'Mexico '],\n   ['573', '2/15/1999', '7550           ', '1', '280.6', 'Mexico '],\n   ['1934', '6/3/2002', '7550           ', '1', '136.4', 'Mexico '],\n   ['475', '6/3/2002', '7550           ', '1', '1007.2', 'Mexico '],\n   ['2373', '3/15/1999', '7550           ', '1', '551.2', 'Mexico '],\n   ['989', '6/7/2002', '7550           ', '1', '419.9', 'Mexico '],\n   ['2277', '2/15/1999', '7889           ', '1', '251.9', 'Mexico '],\n   ['1173', '3/15/1999', '2420           ', '1', '525', 'Mexico '],\n   ['2373', '2/15/1999', '9207           ', '1', '551.2', 'Mexico '],\n   ['396', '2/15/1999', '9207           ', '2', '1714.1', 'Mexico '],\n   ['2388', '1/15/1999', '9207           ', '1', '309.7', 'Mexico '],\n   ['1085', '5/31/2002', '9207           ', '1', '84', 'Mexico '],\n   ['1201', '5/31/2002', '9207           ', '1', '577.5', 'Mexico '],\n   ['1927', '5/31/2002', '9207           ', '1', '99.7', 'Mexico '],\n   ['1086', '5/31/2002', '9207           ', '1', '84', 'Mexico '],\n   ['852', '2/15/1999', '9207           ', '1', '761.2', 'Mexico '],\n   ['94', '2/15/1999', '9207           ', '1', '866.2', 'Mexico '],\n   ['604', '2/15/1999', '9207           ', '1', '461.7', 'Mexico '],\n   ['2012', '3/15/1999', '9207           ', '1', '377.9', 'Mexico '],\n   ['2047', '3/15/1999', '9207           ', '1', '377.9', 'Mexico '],\n   ['2070', '3/15/1999', '9207           ', '1', '519.7', 'Mexico '],\n   ['729', '3/15/1999', '9207           ', '1', '301.8', 'Mexico '],\n   ['396', '2/15/1999', '7810           ', '1', '857.1', 'Mexico '],\n   ['2234', '3/15/1999', '2450           ', '1', '65.6', 'Mexico '],\n   ['433', '2/15/1999', '9479           ', '1', '804.3', 'Mexico '],\n   ['966', '5/31/2002', '9479           ', '1', '472.4', 'Mexico '],\n   ['989', '2/15/1999', '9479           ', '1', '467.2', 'Mexico '],\n   ['2192', '2/15/1999', '9479           ', '1', '202.1', 'Mexico '],\n   ['725', '1/15/1999', '2460           ', '1', '115.5', 'Mexico '],\n   ['767', '1/15/1999', '2470           ', '1', '105', 'Mexico '],\n   ['757', '3/15/1999', '2470           ', '1', '84', 'Mexico '],\n   ['551', '4/11/2003', '2470           ', '1', '922.2', 'Mexico '],\n   ['573', '2/15/1999', '7930           ', '1', '280.6', 'Mexico '],\n   ['2251', '4/11/2003', '7930           ', '1', '126', 'Mexico '],\n   ['1081', '2/15/1999', '2479           ', '1', '225.7', 'Mexico '],\n   ['604', '2/15/1999', '8820           ', '1', '461.7', 'Mexico '],\n   ['2081', '5/31/2002', '8820           ', '1', '225.7', 'Mexico '],\n   ['786', '5/31/2002', '8820           ', '1', '68.2', 'Mexico '],\n   ['2054', '5/31/2002', '8820           ', '1', '546', 'Mexico '],\n   ['1173', '2/15/1999', '8820           ', '1', '525', 'Mexico '],\n   ['609', '2/15/1999', '8820           ', '1', '778.8', 'Mexico '],\n   ['676', '2/15/1999', '8820           ', '1', '801.9', 'Mexico '],\n   ['1110', '3/15/1999', '8820           ', '1', '209.9', 'Mexico '],\n   ['2253', '4/10/2003', '7890           ', '1', '136.4', 'Mexico '],\n   ['2252', '4/10/2003', '7890           ', '1', '136.4', 'Mexico '],\n   ['2359', '6/5/2002', '7890           ', '1', '430.4', 'Mexico '],\n   ['2252', '4/10/2003', '7910           ', '1', '136.4', 'Mexico '],\n   ['2359', '5/31/2002', '7910           ', '1', '430.4', 'Mexico '],\n   ['1227', '6/4/2002', '2500           ', '1', '314.9', 'Mexico '],\n   ['1974', '4/10/2003', '8810           ', '1', '57.7', 'Mexico '],\n   ['1980', '4/10/2003', '8810           ', '1', '167.9', 'Mexico '],\n   ['1109', '4/11/2003', '2519           ', '1', '209.9', 'Mexico '],\n   ['1110', '4/11/2003', '2519           ', '1', '209.9', 'Mexico '],\n   ['550', '4/10/2003', '2519           ', '1', '433.4', 'Mexico '],\n   ['604', '3/15/1999', '2519           ', '2', '923.5', 'Mexico '],\n   ['2204', '3/15/1999', '2525           ', '1', '173.2', 'Mexico '],\n   ['676', '4/10/2003', '8770           ', '1', '856.3', 'Mexico '],\n   ['1005', '4/11/2003', '2530           ', '1', '110.2', 'Mexico '],\n   ['1000', '4/10/2003', '2530           ', '2', '178.4', 'Mexico '],\n   ['1203', '2/15/1999', '2530           ', '1', '314.9', 'Mexico '],\n   ['895', '4/10/2003', '8580           ', '1', '577.5', 'Mexico '],\n   ['559', '6/4/2002', '8580           ', '1', '624.5', 'Mexico '],\n   ['1173', '2/15/1999', '8580           ', '1', '525', 'Mexico '],\n   ['1174', '6/3/2002', '8580           ', '1', '577.5', 'Mexico '],\n   ['1110', '4/11/2003', '2640           ', '1', '209.9', 'Mexico '],\n   ['1109', '4/11/2003', '2640           ', '1', '209.9', 'Mexico '],\n   ['2407', '4/13/2003', '2640           ', '1', '81.3', 'Mexico '],\n   ['443', '4/11/2003', '7760           ', '1', '851.3', 'Mexico '],\n   ['2254', '2/15/1999', '7760           ', '1', '57.7', 'Mexico '],\n   ['645', '1/15/1999', '7760           ', '1', '746.5', 'Mexico '],\n   ['1005', '1/15/1999', '7760           ', '1', '107.6', 'Mexico '],\n   ['758', '1/15/1999', '7760           ', '1', '84', 'Mexico '],\n   ['1106', '2/15/1999', '7760           ', '1', '246.7', 'Mexico '],\n   ['1132', '2/15/1999', '7760           ', '1', '630', 'Mexico '],\n   ['1105', '2/15/1999', '7760           ', '1', '246.7', 'Mexico '],\n   ['2255', '2/15/1999', '7760           ', '1', '57.7', 'Mexico '],\n   ['1911', '3/15/1999', '7760           ', '1', '244.1', 'Mexico '],\n   ['1157', '1/15/1999', '2680           ', '1', '377.9', 'Mexico '],\n   ['1046', '1/15/1999', '2710           ', '1', '99.7', 'Mexico '],\n   ['952', '5/31/2002', '2710           ', '1', '262.4', 'Mexico '],\n   ['964', '5/31/2002', '7540           ', '1', '330.7', 'Mexico '],\n   ['838', '2/15/1999', '7540           ', '1', '934.5', 'Mexico '],\n   ['964', '1/15/1999', '2729           ', '1', '346.4', 'Mexico '],\n   ['2282', '1/15/1999', '2729           ', '1', '304.4', 'Mexico '],\n   ['728', '1/15/1999', '2729           ', '1', '63', 'Mexico '],\n   ['852', '3/15/1999', '2729           ', '1', '745.5', 'Mexico '],\n   ['910', '4/12/2003', '2729           ', '1', '430.4', 'Mexico '],\n   ['976', '4/12/2003', '2729           ', '1', '325.4', 'Mexico '],\n   ['2074', '2/15/1999', '2729           ', '1', '328.1', 'Mexico '],\n   ['1148', '6/3/2002', '2729           ', '1', '314.9', 'Mexico '],\n   ['609', '2/15/1999', '2729           ', '1', '778.8', 'Mexico '],\n   ['676', '2/15/1999', '2729           ', '1', '801.9', 'Mexico '],\n   ['1489', '2/15/1999', '2729           ', '1', '262.4', 'Mexico '],\n   ['604', '2/15/1999', '2729           ', '1', '461.7', 'Mexico\n\n*** WARNING: max output size exceeded, skipping output. ***\n\n'],\n   ['992', '4/11/2003', 'T6K            ', '1', '278.2', 'Canada '],\n   ['550', '4/11/2003', 'T1Y            ', '1', '433.4', 'Canada '],\n   ['910', '5/31/2002', 'V6A            ', '1', '430.4', 'Canada '],\n   ['915', '5/31/2002', 'V6R            ', '1', '556.4', 'Canada '],\n   ['946', '5/31/2002', 'T6V            ', '1', '708.7', 'Canada '],\n   ['964', '5/31/2002', 'V6Z            ', '2', '661.4', 'Canada '],\n   ['967', '5/31/2002', 'V5V            ', '1', '656.2', 'Canada '],\n   ['1061', '5/31/2002', 'T6J            ', '1', '149.6', 'Canada '],\n   ['726', '3/15/1999', 'T6H            ', '1', '115.4', 'Canada '],\n   ['757', '3/15/1999', 'T2X            ', '1', '83.9', 'Canada '],\n   ['910', '3/15/1999', 'T1Y            ', '1', '414.7', 'Canada '],\n   ['921', '3/15/1999', 'T6K            ', '1', '524.9', 'Canada '],\n   ['921', '3/15/1999', 'V7Y            ', '1', '524.9', 'Canada '],\n   ['935', '3/15/1999', 'T6S            ', '1', '488.2', 'Canada '],\n   ['936', '3/15/1999', 'T5K            ', '2', '997.4', 'Canada '],\n   ['981', '3/15/1999', 'V6Z            ', '1', '167.9', 'Canada '],\n   ['990', '3/15/1999', 'V6R            ', '1', '456.7', 'Canada '],\n   ['1106', '3/15/1999', 'T5V            ', '1', '246.7', 'Canada '],\n   ['1116', '3/15/1999', 'T5K            ', '1', '251.9', 'Canada '],\n   ['1188', '3/15/1999', 'V7Y            ', '1', '472.4', 'Canada '],\n   ['1318', '3/15/1999', 'T5H            ', '1', '307', 'Canada '],\n   ['1345', '3/15/1999', 'T5G            ', '1', '304.4', 'Canada '],\n   ['1347', '3/15/1999', 'V6R            ', '1', '299.1', 'Canada '],\n   ['1429', '3/15/1999', 'V6G            ', '1', '283.4', 'Canada '],\n   ['1949', '3/15/1999', 'V6T            ', '1', '296.6', 'Canada '],\n   ['1990', '3/15/1999', 'R2G            ', '1', '257.2', 'Canada '],\n   ['964', '4/11/2003', 'T6J            ', '1', '330.7', 'Canada '],\n   ['571', '4/11/2003', 'T6T            ', '1', '527.1', 'Canada '],\n   ['2064', '4/11/2003', 'V7W            ', '1', '496.1', 'Canada '],\n   ['691', '4/12/2003', 'T5K            ', '1', '356.7', 'Canada '],\n   ['966', '4/12/2003', 'T5Y            ', '1', '472.4', 'Canada '],\n   ['966', '4/12/2003', 'T6E            ', '1', '488.2', 'Canada '],\n   ['992', '4/12/2003', 'T6J            ', '1', '278.2', 'Canada '],\n   ['575', '4/12/2003', 'V6S            ', '1', '929.2', 'Canada '],\n   ['1005', '4/12/2003', 'V5Z            ', '1', '110.2', 'Canada '],\n   ['681', '4/12/2003', 'T6J            ', '1', '715.8', 'Canada '],\n   ['733', '4/12/2003', 'V5W            ', '1', '330.7', 'Canada '],\n   ['734', '4/12/2003', 'V5W            ', '1', '330.7', 'Canada '],\n   ['1006', '4/12/2003', 'V5V            ', '1', '89.2', 'Canada '],\n   ['964', '4/12/2003', 'T6J            ', '1', '320.2', 'Canada '],\n   ['976', '4/12/2003', 'T6W            ', '1', '325.4', 'Canada '],\n   ['967', '4/12/2003', 'T6V            ', '1', '671.9', 'Canada '],\n   ['573', '4/12/2003', 'T6S            ', '1', '313.7', 'Canada '],\n   ['2380', '4/13/2003', 'V6A            ', '1', '293.9', 'Canada '],\n   ['2353', '4/13/2003', 'V6A            ', '1', '414.7', 'Canada '],\n   ['2047', '3/15/1999', 'T5K            ', '1', '377.9', 'Canada '],\n   ['2083', '3/15/1999', 'T1Y            ', '1', '309.7', 'Canada '],\n   ['2234', '3/15/1999', 'V6A            ', '1', '65.6', 'Canada '],\n   ['2234', '3/15/1999', 'V7R            ', '1', '65.6', 'Canada '],\n   ['2235', '3/15/1999', 'V7W            ', '1', '65.6', 'Canada '],\n   ['2388', '3/15/1999', 'T6J            ', '1', '309.7', 'Canada '],\n   ['443', '3/15/1999', 'T1Y            ', '1', '790.9', 'Canada '],\n   ['475', '3/15/1999', 'V6A            ', '2', '1940.4', 'Canada '],\n   ['725', '3/15/1999', 'V6M            ', '1', '115.4', 'Canada '],\n   ['726', '3/15/1999', 'T3R            ', '1', '115.4', 'Canada '],\n   ['728', '3/15/1999', 'V6Z            ', '1', '68.2', 'Canada '],\n   ['757', '3/15/1999', 'V6M            ', '1', '83.9', 'Canada '],\n   ['767', '3/15/1999', 'T6T            ', '1', '104.9', 'Canada '],\n   ['768', '3/15/1999', 'V7T            ', '1', '104.9', 'Canada '],\n   ['768', '3/15/1999', 'V7W            ', '1', '104.9', 'Canada '],\n   ['914', '3/15/1999', 'T3G            ', '1', '577.4', 'Canada '],\n   ['935', '3/15/1999', 'T5V            ', '1', '488.2', 'Canada '],\n   ['1227', '6/10/2003', 'T5K            ', '1', '314.9', 'Canada '],\n   ['533', '6/10/2003', 'T3C            ', '1', '524.7', 'Canada '],\n   ['565', '6/10/2003', 'V5Z            ', '1', '890.7', 'Canada '],\n   ['606', '6/10/2003', 'T5K            ', '1', '337.8', 'Canada '],\n   ['1786', '6/10/2003', 'V6Z            ', '1', '629.9', 'Canada '],\n   ['759', '6/10/2003', 'T6E            ', '1', '146.9', 'Canada '],\n   ['1112', '3/15/1999', 'V6H            ', '1', '116.5', 'Canada '],\n   ['2254', '3/15/1999', 'V7M            ', '1', '57.7', 'Canada '],\n   ['2279', '3/15/1999', 'V5W            ', '1', '165.3', 'Canada '],\n   ['2282', '3/15/1999', 'V6A            ', '1', '304.4', 'Canada '],\n   ['2282', '3/15/1999', 'V6B            ', '2', '608.9', 'Canada '],\n   ['2331', '3/15/1999', 'T6T            ', '1', '535.4', 'Canada '],\n   ['2331', '3/15/1999', 'V5Z            ', '1', '535.4', 'Canada '],\n   ['396', '3/15/1999', 'V6G            ', '1', '857.1', 'Canada '],\n   ['443', '3/15/1999', 'V6Z            ', '1', '790.9', 'Canada '],\n   ['604', '3/15/1999', 'T6T            ', '1', '461.7', 'Canada '],\n   ['676', '3/15/1999', 'V5X            ', '1', '801.9', 'Canada '],\n   ['725', '3/15/1999', 'T3R            ', '1', '115.4', 'Canada '],\n   ['726', '3/15/1999', 'V6M            ', '1', '115.4', 'Canada '],\n   ['758', '3/15/1999', 'V6M            ', '1', '83.9', 'Canada '],\n   ['768', '3/15/1999', 'T2X            ', '1', '104.9', 'Canada '],\n   ['989', '3/15/1999', 'V6A            ', '1', '451.4', 'Canada '],\n   ['1008', '3/15/1999', 'T5J            ', '1', '236.2', 'Canada '],\n   ['769', '1/15/1999', 'V5V            ', '1', '257.2', 'Canada '],\n   ['796', '1/15/1999', 'V5Z            ', '1', '275.6', 'Canada '],\n   ['797', '1/15/1999', 'V6M            ', '1', '301.8', 'Canada '],\n   ['962', '1/15/1999', 'T1Y            ', '1', '524.9', 'Canada '],\n   ['1003', '1/15/1999', 'T3G            ', '1', '86.6', 'Canada '],\n   ['1066', '1/15/1999', 'T2T            ', '1', '296.6', 'Canada '],\n   ['1079', '1/15/1999', 'V6B            ', '1', '262.4', 'Canada '],\n   ['2234', '1/15/1999', 'V6T            ', '1', '65.6', 'Canada '],\n   ['2235', '1/15/1999', 'V6G            ', '1', '65.6', 'Canada '],\n   ['2255', '1/15/1999', 'V7M            ', '1', '57.7', 'Canada '],\n   ['2388', '1/15/1999', 'R2P            ', '1', '309.7', 'Canada '],\n   ['604', '1/15/1999', 'T6S            ', '1', '461.7', 'Canada '],\n   ['631', '1/15/1999', 'T6T            ', '1', '346.2', 'Canada '],\n   ['725', '1/15/1999', 'T2X            ', '1', '115.4', 'Canada '],\n   ['769', '1/15/1999', 'V6H            ', '1', '257.2', 'Canada '],\n   ['1014', '1/15/1999', 'V6T            ', '1', '86.6', 'Canada '],\n   ['1014', '1/15/1999', 'R2G            ', '1', '86.6', 'Canada '],\n   ['1949', '1/15/1999', 'R2G            ', '1', '296.6', 'Canada '],\n   ['2234', '1/15/1999', 'V5W            ', '1', '65.6', 'Canada '],\n   ['2254', '1/15/1999', 'V6M            ', '1', '57.7', 'Canada '],\n   ['2255', '1/15/1999', 'V5Y            ', '1', '57.7', 'Canada '],\n   ['433', '1/15/1999', 'T6E            ', '1', '804.3', 'Canada '],\n   ['491', '1/15/1999', 'T6R            ', '1', '815.3', 'Canada '],\n   ['606', '1/15/1999', 'T6T            ', '1', '314.7', 'Canada '],\n   ['645', '1/15/1999', 'T6R            ', '1', '746.5', 'Canada '],\n   ['683', '1/15/1999', 'T5G            ', '1', '788', 'Canada '],\n   ['713', '1/15/1999', 'V6T            ', '1', '160.1', 'Canada '],\n   ['604', '5/31/2002', 'V5N            ', '1', '480.6', 'Canada '],\n   ['726', '5/31/2002', 'T2C            ', '1', '120.7', 'Canada '],\n   ['785', '5/31/2002', 'R2G            ', '2', '136.4', 'Canada '],\n   ['1006', '5/31/2002', 'V5Z            ', '1', '89.2', 'Canada '],\n   ['2045', '5/31/2002', 'T6K            ', '1', '419.9', 'Canada '],\n   ['2054', '5/31/2002', 'T6X            ', '1', '545.9', 'Canada '],\n   ['2071', '5/31/2002', 'V6G            ', '1', '346.4', 'Canada '],\n   ['475', '4/10/2003', 'V7Y            ', '1', '1037.4', 'Canada '],\n   ['508', '4/10/2003', 'V6G            ', '1', '969.7', 'Canada '],\n   ['617', '4/10/2003', 'V6H            ', '1', '844.7', 'Canada '],\n   ['726', '1/15/1999', 'T5V            ', '1', '115.4', 'Canada '],\n   ['767', '1/15/1999', 'T5Y            ', '1', '102.3', 'Canada '],\n   ['767', '1/15/1999', 'V6Z            ', '1', '104.9', 'Canada '],\n   ['768', '1/15/1999', 'T5K            ', '1', '104.9', 'Canada '],\n   ['770', '1/15/1999', 'V5V            ', '1', '257.2', 'Canada '],\n   ['797', '1/15/1999', 'T2J            ', '1', '301.8', 'Canada '],\n   ['992', '1/15/1999', 'V6T            ', '1', '288.7', 'Canada '],\n   ['1005', '1/15/1999', 'T2X            ', '1', '107.6', 'Canada '],\n   ['2056', '1/15/1999', 'T2X            ', '1', '325.4', 'Canada '],\n   ['2056', '6/3/2002', 'T6T            ', '1', '330.7', 'Canada '],\n   ['2064', '6/3/2002', 'T2X            ', '1', '496.1', 'Canada '],\n   ['676', '6/5/2002', 'T6E            ', '1', '837.4', 'Canada '],\n   ['2331', '2/15/1999', 'T2X            ', '1', '535.4', 'Canada '],\n   ['2407', '2/15/1999', 'T3G            ', '1', '73.4', 'Canada '],\n   ['94', '2/15/1999', 'T6V            ', '1', '866.2', 'Canada '],\n   ['120', '2/15/1999', 'T3J            ', '1', '829.5', 'Canada '],\n   ['443', '2/15/1999', 'T5Y            ', '1', '790.9', 'Canada '],\n   ['645', '2/15/1999', 'T6T            ', '1', '746.5', 'Canada '],\n   ['658', '2/15/1999', 'T5W            ', '1', '902.7', 'Canada '],\n   ['681', '2/15/1999', 'T6E            ', '1', '629.7', 'Canada '],\n   ['739', '2/15/1999', 'V5N            ', '1', '170.6', 'Canada '],\n   ['753', '2/15/1999', 'V7N            ', '1', '244.1', 'Canada '],\n   ['767', '2/15/1999', 'V6M            ', '1', '104.9', 'Canada '],\n   ['838', '2/15/1999', 'V6Z            ', '1', '934.4', 'Canada '],\n   ['1173', '2/15/1999', 'V6C            ', '1', '524.9', 'Canada '],\n   ['1182', '2/15/1999', 'R2L            ', '1', '157.4', 'Canada '],\n   ['1450', '2/15/1999', 'T6V            ', '1', '118', 'Canada '],\n   ['2388', '2/15/1999', 'T2C            ', '1', '309.7', 'Canada '],\n   ['396', '2/15/1999', 'V5V            ', '1', '857.1', 'Canada '],\n   ['599', '2/15/1999', 'T6J            ', '1', '753.6', 'Canada '],\n   ['609', '2/15/1999', 'T2J            ', '1', '778.8', 'Canada '],\n   ['725', '2/15/1999', 'V5Z            ', '1', '115.4', 'Canada '],\n   ['728', '2/15/1999', 'V5Z            ', '1', '62.9', 'Canada '],\n   ['740', '2/15/1999', 'V6A            ', '1', '170.6', 'Canada '],\n   ['1065', '2/15/1999', 'T1Y            ', '1', '296.6', 'Canada '],\n   ['1116', '2/15/1999', 'T6E            ', '1', '251.9', 'Canada '],\n   ['1185', '2/15/1999', 'T6K            ', '1', '419.9', 'Canada '],\n   ['1425', '2/15/1999', 'V5Z            ', '1', '286', 'Canada '],\n   ['1641', '2/15/1999', 'T6K            ', '1', '70.8', 'Canada '],\n   ['1949', '2/15/1999', 'V6M            ', '1', '293.9', 'Canada '],\n   ['1975', '2/15/1999', 'T6T            ', '1', '52.4', 'Canada '],\n   ['2210', '2/15/1999', 'V7Y            ', '1', '107.6', 'Canada '],\n   ['396', '2/15/1999', 'V7W            ', '1', '857.1', 'Canada '],\n   ['2094', '3/15/1999', 'V6E            ', '1', '433.1', 'Canada '],\n   ['2126', '3/15/1999', 'T3C            ', '1', '472.2', 'Canada '],\n   ['2205', '3/15/1999', 'V7Y            ', '1', '173.2', 'Canada '],\n   ['2210', '3/15/1999', 'V5Z            ', '1', '104.9', 'Canada '],\n   ['2234', '3/15/1999', 'V7W            ', '1', '65.6', 'Canada '],\n   ['2255', '3/15/1999', 'V7M            ', '1', '57.7', 'Canada '],\n   ['2282', '3/15/1999', 'T2S            ', '1', '304.4', 'Canada '],\n   ['2284', '3/15/1999', 'T6T            ', '1', '293.9', 'Canada '],\n   ['318', '3/15/1999', 'T3G            ', '1', '866', 'Canada '],\n   ['609', '3/15/1999', 'V6G            ', '1', '778.8', 'Canada '],\n   ['740', '3/15/1999', 'V5N            ', '1', '170.6', 'Canada '],\n   ['910', '3/15/1999', 'R2L            ', '1', '414.7', 'Canada '],\n   ['921', '3/15/1999', 'V5W            ', '1', '524.9', 'Canada '],\n   ['981', '3/15/1999', 'T6R            ', '1', '167.9', 'Canada '],\n   ['992', '3/15/1999', 'V6J            ', '1', '288.7', 'Canada '],\n   ['1003', '3/15/1999', 'T3G            ', '1', '86.6', 'Canada '],\n   ['1014', '3/15/1999', 'V5Z            ', '1', '86.6', 'Canada '],\n   ['1106', '3/15/1999', 'V6Z            ', '1', '246.7', 'Canada '],\n   ['1110', '3/15/1999', 'T2J            ', '1', '209.9', 'Canada '],\n   ['1182', '3/15/1999', 'V6R            ', '1', '157.4', 'Canada '],\n   ['1215', '3/15/1999', 'T3G            ', '1', '356.9', 'Canada '],\n   ['1346', '3/15/1999', 'T5G            ', '1', '304.4', 'Canada '],\n   ['1974', '3/15/1999', 'V5N            ', '1', '52.4', 'Canada '],\n   ['2045', '3/15/1999', 'T5H            ', '1', '409.4', 'Canada '],\n   ['2047', '3/15/1999', 'V6Z            ', '1', '377.9', 'Canada '],\n   ['2056', '3/15/1999', 'V6R            ', '1', '325.4', 'Canada '],\n   ['2070', '3/15/1999', 'T5Y            ', '1', '519.7', 'Canada '],\n   ['2083', '3/15/1999', 'V6L            ', '1', '309.7', 'Canada '],\n   ['2083', '3/15/1999', 'V7Y            ', '1', '309.7', 'Canada '],\n   ['2234', '3/15/1999', 'T6T            ', '1', '65.6', 'Canada '],\n   ['2277', '3/15/1999', 'V5W            ', '1', '251.9', 'Canada '],\n   ['574', '6/10/2002', 'R2G            ', '1', '869.1', 'Canada '],\n   ['1003', '6/11/2002', 'T3C            ', '1', '86.6', 'Canada '],\n   ['910', '6/11/2002', 'T5K            ', '1', '430.4', 'Canada '],\n   ['94', '6/11/2002', 'T5B            ', '1', '892', 'Canada '],\n   ['596', '6/11/2002', 'T6H            ', '1', '776.7', 'Canada '],\n   ['2388', '6/11/2002', 'V7Y            ', '1', '309.7', 'Canada '],\n   ['671', '6/11/2002', 'V5W            ', '1', '892.2', 'Canada '],\n   ['976', '6/11/2002', 'T2J            ', '1', '314.9', 'Canada '],\n   ['1230', '6/12/2002', 'V5T            ', '1', '524.9', 'Canada '],\n   ['921', '4/15/1999', 'V5Y            ', '1', '524.9', 'Canada '],\n   ['1065', '4/15/1999', 'T3C            ', '1', '296.6', 'Canada '],\n   ['1081', '4/15/1999', 'V6B            ', '1', '225.7', 'Canada '],\n   ['1157', '4/15/1999', 'T6E            ', '1', '377.9', 'Canada '],\n   ['1157', '4/15/1999', 'V6G            ', '1', '377.9', 'Canada '],\n   ['1182', '4/15/1999', 'T6T            ', '1', '157.4', 'Canada '],\n   ['1182', '4/15/1999', 'R2G            ', '1', '157.4', 'Canada '],\n   ['1987', '5/31/2002', 'T6S            ', '1', '162.7', 'Canada '],\n   ['2253', '5/31/2002', 'T6R            ', '2', '272.9', 'Canada '],\n   ['2352', '5/31/2002', 'T5S            ', '1', '367.4', 'Canada '],\n   ['683', '2/15/1999', 'T2Y            ', '1', '788', 'Canada '],\n   ['687', '2/15/1999', 'T6T            ', '1', '446', 'Canada '],\n   ['727', '2/15/1999', 'V5Z            ', '1', '62.9', 'Canada '],\n   ['739', '2/15/1999', 'V6A            ', '1', '170.6', 'Canada '],\n   ['739', '2/15/1999', 'V6T            ', '1', '170.6', 'Canada '],\n   ['757', '2/15/1999', 'T2A            ', '1', '83.9', 'Canada '],\n   ['758', '2/15/1999', 'T6E            ', '1', '83.9', 'Canada '],\n   ['964', '2/15/1999', 'T5V            ', '1', '346.4', 'Canada '],\n   ['990', '2/15/1999', 'T6E            ', '1', '503.9', 'Canada '],\n   ['1960', '2/15/1999', 'T5Y            ', '1', '97.1', 'Canada '],\n   ['2056', '2/15/1999', 'T2X            ', '1', '325.4', 'Canada '],\n   ['2211', '2/15/1999', 'V7Y            ', '1', '107.6', 'Canada '],\n   ['2279', '2/15/1999', 'V7M            ', '1', '165.3', 'Canada '],\n   ['2388', '2/15/1999', 'V7Y            ', '1', '309.7', 'Canada '],\n   ['491', '2/15/1999', 'T3R            ', '1', '815.3', 'Canada '],\n   ['550', '2/15/1999', 'V6T            ', '1', '404', 'Canada '],\n   ['663', '2/15/1999', 'V6T            ', '1', '765.5', 'Canada '],\n   ['726', '2/15/1999', 'V5N            ', '1', '115.4', 'Canada '],\n   ['726', '2/15/1999', 'V6M            ', '1', '115.4', 'Canada '],\n   ['1173', '2/15/1999', 'V6M            ', '1', '524.9', 'Canada '],\n   ['2373', '2/15/1999', 'T6S            ', '1', '551.2', 'Canada '],\n   ['330', '2/15/1999', 'T6V            ', '1', '577.2', 'Canada '],\n   ['499', '2/15/1999', 'V6Z            ', '1', '846.3', 'Canada '],\n   ['604', '2/15/1999', 'R2M            ', '1', '461.7', 'Canada '],\n   ['727', '2/15/1999', 'T6T            ', '1', '62.9', 'Canada '],\n   ['758', '2/15/1999', 'T2A            ', '1', '83.9', 'Canada '],\n   ['1014', '2/15/1999', 'T5H            ', '1', '86.6', 'Canada '],\n   ['1014', '2/15/1999', 'T5J            ', '2', '173.1', 'Canada '],\n   ['1157', '2/15/1999', 'T6K            ', '1', '377.9', 'Canada '],\n   ['1167', '2/15/1999', 'V5T            ', '1', '309.7', 'Canada '],\n   ['1948', '2/15/1999', 'V6M            ', '1', '293.9', 'Canada '],\n   ['1961', '2/15/1999', 'T5Y            ', '1', '97.1', 'Canada '],\n   ['2254', '2/15/1999', 'T5K            ', '1', '57.7', 'Canada '],\n   ['647', '6/1/2002', 'V5N            ', '1', '900.6', 'Canada '],\n   ['426', '6/1/2002', 'T2J            ', '1', '843.1', 'Canada '],\n   ['573', '6/1/2002', 'T6E            ', '1', '299', 'Canada '],\n   ['635', '6/1/2002', 'T2J            ', '1', '860.7', 'Canada '],\n   ['962', '3/15/1999', 'T5B            ', '1', '509.2', 'Canada '],\n   ['979', '3/15/1999', 'T5Y            ', '1', '393.7', 'Canada '],\n   ['989', '3/15/1999', 'T2X            ', '1', '451.4', 'Canada '],\n   ['992', '3/15/1999', 'V6Z            ', '1', '288.7', 'Canada '],\n   ['1008', '3/15/1999', 'V5V            ', '1', '236.2', 'Canada '],\n   ['1157', '3/15/1999', 'T2J            ', '1', '377.9', 'Canada '],\n   ['1191', '3/15/1999', 'V5V            ', '1', '262.4', 'Canada '],\n   ['1191', '3/15/1999', 'R2G            ', '1', '262.4', 'Canada '],\n   ['1227', '3/15/1999', 'T1Y            ', '1', '314.9', 'Canada '],\n   ['1330', '3/15/1999', 'V5N            ', '1', '92.8', 'Canada '],\n   ['2057', '3/15/1999', 'T6V            ', '1', '472.4', 'Canada '],\n   ['2204', '3/15/1999', 'V7Y            ', '1', '173.2', 'Canada '],\n   ['2211', '3/15/1999', 'V5Z            ', '1', '104.9', 'Canada '],\n   ['433', '3/15/1999', 'T5K            ', '1', '804.3', 'Canada '],\n   ['606', '3/15/1999', 'T2C            ', '1', '314.7', 'Canada '],\n   ['606', '3/15/1999', 'T6J            ', '1', '314.7', 'Canada '],\n   ['609', '3/15/1999', 'T5Y            ', '1', '778.8', 'Canada '],\n   ['645', '3/15/1999', 'V6H            ', '1', '746.5', 'Canada '],\n   ['676', '3/15/1999', 'T6V            ', '1', '801.9', 'Canada '],\n   ['726', '3/15/1999', 'T6G            ', '1', '115.4', 'Canada '],\n   ['726', '3/15/1999', 'V5Z            ', '1', '115.4', 'Canada '],\n   ['758', '3/15/1999', 'T2X            ', '1', '83.9', 'Canada '],\n   ['2359', '6/7/2002', 'V7W            ', '1', '430.4', 'Canada '],\n   ['964', '6/7/2002', 'T5K            ', '1', '335.9', 'Canada '],\n   ['979', '6/7/2002', 'V6C            ', '1', '393.7', 'Canada '],\n   ['1182', '6/7/2002', 'T6S            ', '1', '157.4', 'Canada '],\n   ['992', '6/7/2002', 'V7K            ', '1', '278.2', 'Canada '],\n   ['1000', '6/7/2002', 'V6N            ', '1', '89.2', 'Canada '],\n   ['1003', '6/7/2002', 'T3C            ', '1', '86.6', 'Canada '],\n   ['753', '6/8/2002', 'T2J            ', '1', '246.7', 'Canada '],\n   ['754', '6/8/2002', 'T2J            ', '1', '246.7', 'Canada '],\n   ['1062', '6/10/2002', 'T6R            ', '1', '149.6', 'Canada '],\n   ['2241', '6/10/2002', 'V6Z            ', '1', '89.2', 'Canada '],\n   ['2359', '6/10/2002', 'V5Z            ', '1', '430.4', 'Canada '],\n   ['964', '6/10/2002', 'V6T            ', '1', '320.2', 'Canada '],\n   ['1061', '6/10/2002', 'T6R            ', '1', '149.6', 'Canada '],\n   ['2240', '6/10/2002', 'V6Z            ', '1', '89.2', 'Canada '],\n   ['767', '3/15/1999', 'V7T            ', '1', '104.9', 'Canada '],\n   ['768', '3/15/1999', 'T6T            ', '1', '104.9', 'Canada '],\n   ['921', '3/15/1999', 'T3C            ', '1', '524.9', 'Canada '],\n   ['992', '3/15/1999', 'T6J            ', '1', '288.7', 'Canada '],\n   ['1046', '3/15/1999', 'T6H            ', '1', '99.7', 'Canada '],\n   ['1053', '3/15/1999', 'T6J            ', '1', '251.9', 'Canada '],\n   ['1082', '3/15/1999', 'T3G            ', '1', '225.7', 'Canada '],\n   ['1191', '3/15/1999', 'T1Y            ', '1', '262.4', 'Canada '],\n   ['1329', '3/15/1999', 'V5N            ', '1', '92.8', 'Canada '],\n   ['964', '6/12/2002', 'V6Z            ', '1', '335.9', 'Canada '],\n   ['670', '6/12/2002', 'T5K            ', '1', '871.2', 'Canada '],\n   ['573', '6/12/2002', 'V6R            ', '1', '299', 'Canada '],\n   ['753', '6/12/2002', 'V6M            ', '1', '246.7', 'Canada '],\n   ['596', '6/13/2002', 'T6T            ', '1', '776.7', 'Canada '],\n   ['992', '6/13/2002', 'V7P            ', '1', '278.2', 'Canada '],\n   ['467', '6/13/2002', 'V6J            ', '1', '900.6', 'Canada '],\n   ['691', '6/13/2002', 'T6S            ', '1', '351.5', 'Canada '],\n   ['990', '6/13/2002', 'V6T            ', '1', '440.9', 'Canada '],\n   ['992', '6/13/2002', 'T2J            ', '1', '278.2', 'Canada '],\n   ['1034', '6/13/2002', 'T5V            ', '1', '892.2', 'Canada '],\n   ['1111', '6/13/2002', 'T2J            ', '1', '120.7', 'Canada '],\n   ['1215', '6/13/2002', 'V6Z            ', '1', '356.9', 'Canada '],\n   ['910', '6/13/2002', 'V5K            ', '1', '430.4', 'Canada '],\n   ['725', '3/15/1999', 'T6G            ', '1', '115.4', 'Canada '],\n   ['725', '3/15/1999', 'V5Z            ', '1', '115.4', 'Canada '],\n   ['797', '3/15/1999', 'T5W            ', '1', '301.8', 'Canada '],\n   ['797', '3/15/1999', 'V7X            ', '1', '301.8', 'Canada '],\n   ['833', '3/15/1999', 'V6T            ', '1', '782.2', 'Canada '],\n   ['837', '3/15/1999', 'T2C            ', '1', '839.9', 'Canada '],\n   ['901', '3/15/1999', 'T2S            ', '1', '409.4', 'Canada '],\n   ['910', '3/15/1999', 'T2X            ', '2', '829.4', 'Canada '],\n   ['921', '3/15/1999', 'V6B            ', '1', '524.9', 'Canada '],\n   ['990', '3/15/1999', 'V6M            ', '1', '456.7', 'Canada '],\n   ['1166', '3/15/1999', 'V6R            ', '1', '535.4', 'Canada '],\n   ['1188', '3/15/1999', 'T2N            ', '1', '472.4', 'Canada '],\n   ['1948', '3/15/1999', 'V6T            ', '1', '296.6', 'Canada '],\n   ['2045', '3/15/1999', 'T2C            ', '1', '409.4', 'Canada '],\n   ['2070', '3/15/1999', 'T6T            ', '1', '519.7', 'Canada '],\n   ['2074', '3/15/1999', 'V5N            ', '1', '328.1', 'Canada '],\n   ['2083', '3/15/1999', 'T6E            ', '1', '309.7', 'Canada '],\n   ['2235', '3/15/1999', 'V7R            ', '1', '65.6', 'Canada '],\n   ['2254', '3/15/1999', 'V5N            ', '1', '57.7', 'Canada '],\n   ['2282', '3/15/1999', 'T6T            ', '1', '304.4', 'Canada '],\n   ['2380', '3/15/1999', 'T6G            ', '1', '309.7', 'Canada '],\n   ['2407', '3/15/1999', 'T6T            ', '1', '73.4', 'Canada '],\n   ['2407', '3/15/1999', 'V5T            ', '2', '146.9', 'Canada '],\n   ['93', '4/15/1999', 'V6T            ', '1', '992.2', 'Canada '],\n   ['396', '4/15/1999', 'T6W            ', '1', '857.1', 'Canada '],\n   ['580', '4/15/1999', 'V6H            ', '1', '734.7', 'Canada '],\n   ['609', '4/15/1999', 'T3C            ', '1', '778.8', 'Canada '],\n   ['2282', '3/15/1999', 'L5R            ', '1', '304.4', 'Canada '],\n   ['726', '6/10/2002', 'M6P            ', '1', '120.7', 'Canada '],\n   ['2352', '6/10/2002', 'R3V            ', '1', '367.4', 'Canada '],\n   ['2379', '6/10/2002', 'M4P            ', '1', '178.4', 'Canada '],\n   ['1174', '6/11/2002', 'R3Y            ', '1', '577.4', 'Canada '],\n   ['2054', '6/11/2002', 'L5P            ', '1', '545.9', 'Canada '],\n   ['964', '6/11/2002', 'L5N            ', '1', '330.7', 'Canada '],\n   ['2053', '6/11/2002', 'L5N            ', '1', '325.4', 'Canada '],\n   ['433', '6/11/2002', 'L5N            ', '1', '851.5', 'Canada '],\n   ['1114', '6/11/2002', 'L5N            ', '1', '167.9', 'Canada '],\n   ['396', '6/11/2002', 'H1B            ', '1', '892.2', 'Canada '],\n   ['910', '4/15/1999', 'K1K            ', '1', '414.7', 'Canada '],\n   ['922', '4/15/1999', 'R3G            ', '1', '472.4', 'Canada '],\n   ['1082', '4/15/1999', 'L4X            ', '1', '225.7', 'Canada '],\n   ['1112', '4/15/1999', 'R3B            ', '1', '116.5', 'Canada '],\n   ['1157', '4/15/1999', 'K1K            ', '1', '377.9', 'Canada '],\n   ['964', '6/13/2002', 'M4E            ', '1', '330.7', 'Canada '],\n   ['964', '6/13/2002', 'M5A            ', '1', '335.9', 'Canada '],\n   ['910', '6/13/2002', 'R3G            ', '1', '430.4', 'Canada '],\n   ['967', '6/13/2002', 'K1N            ', '1', '656.2', 'Canada '],\n   ['1215', '6/14/2002', 'M6R            ', '1', '356.9', 'Canada '],\n   ['1186', '6/14/2002', 'L5N            ', '1', '425.2', 'Canada '],\n   ...])]"
     ]
    }
   ],
   "source": [
    "paisesAgrupadosLista = paisesAgrupados.map(lambda x: (x[0], list(x[1])))\n",
    "paisesAgrupadosLista.collect()"
   ]
  },
  {
   "cell_type": "markdown",
   "metadata": {
    "application/vnd.databricks.v1+cell": {
     "cellMetadata": {},
     "inputWidgets": {},
     "nuid": "e4baed2d-5c81-49df-b60f-e2dc60c4ad93",
     "showTitle": false,
     "tableResultSettingsMap": {},
     "title": ""
    }
   },
   "source": [
    "### Actividad "
   ]
  },
  {
   "cell_type": "markdown",
   "metadata": {
    "application/vnd.databricks.v1+cell": {
     "cellMetadata": {},
     "inputWidgets": {},
     "nuid": "0e65becf-cdd8-4ee4-b4d6-2fc67fa4f846",
     "showTitle": false,
     "tableResultSettingsMap": {},
     "title": ""
    }
   },
   "source": [
    "- día 1: pan 3€, agua 2€, azúcar 1€, leche 2€, pan 4€\n",
    "- día 2: pan 1€, cereales 3€, agua 0.5€, leche 2€, filetes 5€\n",
    "- día 3: filetes 2€, cereales 1€"
   ]
  },
  {
   "cell_type": "markdown",
   "metadata": {
    "application/vnd.databricks.v1+cell": {
     "cellMetadata": {},
     "inputWidgets": {},
     "nuid": "5569d8ef-1e66-4aea-9653-c9faf752bb8e",
     "showTitle": false,
     "tableResultSettingsMap": {},
     "title": ""
    }
   },
   "source": [
    "Dada la siguiente lista de compra:"
   ]
  },
  {
   "cell_type": "code",
   "execution_count": 0,
   "metadata": {
    "application/vnd.databricks.v1+cell": {
     "cellMetadata": {
      "byteLimit": 2048000,
      "rowLimit": 10000
     },
     "inputWidgets": {},
     "nuid": "326ea9d4-e5fd-469f-9b83-06df95a9551b",
     "showTitle": false,
     "tableResultSettingsMap": {},
     "title": ""
    }
   },
   "outputs": [],
   "source": [
    "dia1 = [('pan',3), ('agua',2), ('azúcar',1), ('leche',2), ('pan',4)]\n",
    "dia2 = [('pan',1), ('cereales',3), ('agua',0.5), ('leche',2), ('filetes',5)]\n",
    "dia3 = [('filetes',2), ('cereales',1)]"
   ]
  },
  {
   "cell_type": "markdown",
   "metadata": {
    "application/vnd.databricks.v1+cell": {
     "cellMetadata": {},
     "inputWidgets": {},
     "nuid": "c7b289fb-2d12-44d0-9658-c9a04deda6d2",
     "showTitle": false,
     "tableResultSettingsMap": {},
     "title": ""
    }
   },
   "source": [
    "1. ¿Cómo obtenemos lo que hemos gastado en cada producto?\n",
    "2. ¿Y el gasto medio que hemos realizado en cada uno de ellos?"
   ]
  },
  {
   "cell_type": "code",
   "execution_count": 0,
   "metadata": {
    "application/vnd.databricks.v1+cell": {
     "cellMetadata": {
      "byteLimit": 2048000,
      "rowLimit": 10000
     },
     "inputWidgets": {},
     "nuid": "25a818f2-aec0-49bb-ae56-35752c56dc31",
     "showTitle": false,
     "tableResultSettingsMap": {},
     "title": ""
    }
   },
   "outputs": [
    {
     "output_type": "stream",
     "name": "stdout",
     "output_type": "stream",
     "text": [
      "Gasto total por producto:\n[('agua', 2.5), ('leche', 4), ('pan', 8), ('cereales', 4), ('filetes', 7), ('azúcar', 1)]\n\nGasto medio por producto:\n[('agua', 1.25), ('leche', 2.0), ('pan', 2.67), ('cereales', 2.0), ('filetes', 3.5), ('azúcar', 1.0)]\n"
     ]
    }
   ],
   "source": [
    "# Respuestas aqui\n",
    "\n",
    "# Crear RDDs a partir de las listas\n",
    "rddDia1 = sc.parallelize(dia1)\n",
    "rddDia2 = sc.parallelize(dia2)\n",
    "rddDia3 = sc.parallelize(dia3)\n",
    "\n",
    "# Unión de todos los RDDs\n",
    "rddTodosDias = rddDia1.union(rddDia2).union(rddDia3)\n",
    "\n",
    "# 1. Calcular lo que hemos gastado en cada producto\n",
    "# Sumamos los valores para cada clave (producto)\n",
    "gastoTotalPorProducto = rddTodosDias.reduceByKey(lambda x, y: x + y)\n",
    "print(\"Gasto total por producto:\")\n",
    "print(gastoTotalPorProducto.collect())\n",
    "\n",
    "# 2. Calcular el gasto medio que hemos realizado en cada uno de los productos\n",
    "# Primero, necesitamos contar las compras realizadas para cada producto\n",
    "# Usamos un RDD de conteo y otro RDD de suma, luego dividimos los totales entre los conteos\n",
    "conteoPorProducto = rddTodosDias.mapValues(lambda x: 1).reduceByKey(lambda x, y: x + y)\n",
    "sumaPorProducto = rddTodosDias.reduceByKey(lambda x, y: x + y)\n",
    "\n",
    "# Unimos los dos RDDs (suma y conteo) para obtener el gasto medio\n",
    "gastoMedioPorProducto = sumaPorProducto.join(conteoPorProducto).mapValues(lambda x: round(x[0] / x[1], 2))\n",
    "print(\"\\nGasto medio por producto:\")\n",
    "print(gastoMedioPorProducto.collect())"
   ]
  },
  {
   "cell_type": "markdown",
   "metadata": {
    "application/vnd.databricks.v1+cell": {
     "cellMetadata": {},
     "inputWidgets": {},
     "nuid": "89499d0d-5675-43b8-abbf-8267d2540ad5",
     "showTitle": false,
     "tableResultSettingsMap": {},
     "title": ""
    }
   },
   "source": [
    "> Mejor `reduceByKey` que `groupByKey`  \n",
    "> Si el tipo de operación a realizar es posible mediante una operación de reduce, su rendimiento será una solución más eficiente. Más información en el artículo [Avoid Group By](https://databricks.gitbooks.io/databricks-spark-knowledge-base/content/best_practices/prefer_reducebykey_over_groupbykey.html)"
   ]
  },
  {
   "cell_type": "markdown",
   "metadata": {
    "application/vnd.databricks.v1+cell": {
     "cellMetadata": {},
     "inputWidgets": {},
     "nuid": "a454d74c-42c1-484c-9562-7b0f546072f2",
     "showTitle": false,
     "tableResultSettingsMap": {},
     "title": ""
    }
   },
   "source": [
    "### SortByKey"
   ]
  },
  {
   "cell_type": "markdown",
   "metadata": {
    "application/vnd.databricks.v1+cell": {
     "cellMetadata": {},
     "inputWidgets": {},
     "nuid": "3c43ccb6-67a4-4eb2-b8b8-c1fee9502364",
     "showTitle": false,
     "tableResultSettingsMap": {},
     "title": ""
    }
   },
   "source": [
    "`sortByKey` permite ordenar los datos a partir de una clave. Los pares de la misma máquina se ordenan primero por la misma clave, y luego los datos de las diferentes particiones se barajan.  \n",
    "Para ello crearemos una tupla, siendo el primer elemento un valor numérico por el cual ordenar, y el segundo el dato asociado.  \n",
    "Vamos a partir del ejemplo anterior para ordenar los paises por la cantidad de ventas:  \n"
   ]
  },
  {
   "cell_type": "code",
   "execution_count": 0,
   "metadata": {
    "application/vnd.databricks.v1+cell": {
     "cellMetadata": {
      "byteLimit": 2048000,
      "rowLimit": 10000
     },
     "inputWidgets": {},
     "nuid": "32dea661-1c68-414d-a731-704d96c213a3",
     "showTitle": false,
     "tableResultSettingsMap": {},
     "title": ""
    }
   },
   "outputs": [],
   "source": [
    "# Ejemplo anterior\n",
    "rdd = sc.textFile(\"/FileStore/pdi_sales.csv\")\n",
    "paisesUnidades = rdd.map(lambda x: (x.split(\";\")[-1].strip(), x.split(\";\")[3]))\n",
    "header = paisesUnidades.first()\n",
    "paisesUnidadesSinHeader = paisesUnidades.filter(lambda linea: linea != header)\n",
    "paisesTotalUnidades = paisesUnidadesSinHeader.reduceByKey(lambda a,b: int(a)+int(b))"
   ]
  },
  {
   "cell_type": "code",
   "execution_count": 0,
   "metadata": {
    "application/vnd.databricks.v1+cell": {
     "cellMetadata": {
      "byteLimit": 2048000,
      "rowLimit": 10000
     },
     "inputWidgets": {},
     "nuid": "ebb50390-1e78-4e4b-aae7-77acc3acee26",
     "showTitle": false,
     "tableResultSettingsMap": {},
     "title": ""
    }
   },
   "outputs": [
    {
     "output_type": "stream",
     "name": "stdout",
     "output_type": "stream",
     "text": [
      "Out[65]: [(223463, 'Mexico'),\n (327730, 'France'),\n (244265, 'Germany'),\n (77609, 'Canada')]"
     ]
    }
   ],
   "source": [
    "# Le damos la vuelta a la lista\n",
    "unidadesPaises = paisesTotalUnidades.map(lambda x: (x[1],x[0]))\n",
    "unidadesPaises.collect()"
   ]
  },
  {
   "cell_type": "markdown",
   "metadata": {
    "application/vnd.databricks.v1+cell": {
     "cellMetadata": {},
     "inputWidgets": {},
     "nuid": "65320296-61be-4e0c-a6c1-fe61e7306ac0",
     "showTitle": false,
     "tableResultSettingsMap": {},
     "title": ""
    }
   },
   "source": [
    "Y a continuación los ordenamos:"
   ]
  },
  {
   "cell_type": "code",
   "execution_count": 0,
   "metadata": {
    "application/vnd.databricks.v1+cell": {
     "cellMetadata": {
      "byteLimit": 2048000,
      "rowLimit": 10000
     },
     "inputWidgets": {},
     "nuid": "bc42dfbe-ca69-4ca5-b4b2-a23119ad6e79",
     "showTitle": false,
     "tableResultSettingsMap": {},
     "title": ""
    }
   },
   "outputs": [
    {
     "output_type": "stream",
     "name": "stdout",
     "output_type": "stream",
     "text": [
      "Out[66]: [(77609, 'Canada'),\n (223463, 'Mexico'),\n (244265, 'Germany'),\n (327730, 'France')]"
     ]
    }
   ],
   "source": [
    "unidadesPaisesOrdenadas = unidadesPaises.sortByKey()\n",
    "unidadesPaisesOrdenadas.collect()"
   ]
  },
  {
   "cell_type": "markdown",
   "metadata": {
    "application/vnd.databricks.v1+cell": {
     "cellMetadata": {},
     "inputWidgets": {},
     "nuid": "5af23987-956e-460f-856a-4df7a58ce4f6",
     "showTitle": false,
     "tableResultSettingsMap": {},
     "title": ""
    }
   },
   "source": [
    "Y comprobamos el resultado:"
   ]
  },
  {
   "cell_type": "code",
   "execution_count": 0,
   "metadata": {
    "application/vnd.databricks.v1+cell": {
     "cellMetadata": {
      "byteLimit": 2048000,
      "rowLimit": 10000
     },
     "inputWidgets": {},
     "nuid": "0148ec56-deb9-4bf4-8428-ee429f641d4e",
     "showTitle": false,
     "tableResultSettingsMap": {},
     "title": ""
    }
   },
   "outputs": [
    {
     "output_type": "stream",
     "name": "stdout",
     "output_type": "stream",
     "text": [
      "Out[67]: [(77609, 'Canada'),\n (223463, 'Mexico'),\n (244265, 'Germany'),\n (327730, 'France')]"
     ]
    }
   ],
   "source": [
    "[(77609, 'Canada'),\n",
    " (223463, 'Mexico'),\n",
    " (244265, 'Germany'),\n",
    " (327730, 'France')]"
   ]
  },
  {
   "cell_type": "markdown",
   "metadata": {
    "application/vnd.databricks.v1+cell": {
     "cellMetadata": {},
     "inputWidgets": {},
     "nuid": "eb1a6f79-a8b8-47c7-85c1-e3c4e75836e9",
     "showTitle": false,
     "tableResultSettingsMap": {},
     "title": ""
    }
   },
   "source": [
    "Si quisiéramos obtener los datos en orden descendente, le pasamos False a la transformación:"
   ]
  },
  {
   "cell_type": "code",
   "execution_count": 0,
   "metadata": {
    "application/vnd.databricks.v1+cell": {
     "cellMetadata": {
      "byteLimit": 2048000,
      "rowLimit": 10000
     },
     "inputWidgets": {},
     "nuid": "9ba8ec30-7f8a-4b93-bfc3-915e22cbd87c",
     "showTitle": false,
     "tableResultSettingsMap": {},
     "title": ""
    }
   },
   "outputs": [],
   "source": [
    "unidadesPaisesOrdenadasDesc = unidadesPaises.sortByKey(False)"
   ]
  },
  {
   "cell_type": "markdown",
   "metadata": {
    "application/vnd.databricks.v1+cell": {
     "cellMetadata": {},
     "inputWidgets": {},
     "nuid": "f5fae6a9-13d3-4e10-b824-218b1b507c79",
     "showTitle": false,
     "tableResultSettingsMap": {},
     "title": ""
    }
   },
   "source": [
    "### SortBy"
   ]
  },
  {
   "cell_type": "markdown",
   "metadata": {
    "application/vnd.databricks.v1+cell": {
     "cellMetadata": {},
     "inputWidgets": {},
     "nuid": "d7c02b97-4191-4207-9910-6031da3f4760",
     "showTitle": false,
     "tableResultSettingsMap": {},
     "title": ""
    }
   },
   "source": [
    "Mediante `sortBy` podemos ordenar los datos indicando nosotros la función de ordenación:"
   ]
  },
  {
   "cell_type": "code",
   "execution_count": 0,
   "metadata": {
    "application/vnd.databricks.v1+cell": {
     "cellMetadata": {
      "byteLimit": 2048000,
      "rowLimit": 10000
     },
     "inputWidgets": {},
     "nuid": "5afe71d8-7461-468a-b971-f070406cc030",
     "showTitle": false,
     "tableResultSettingsMap": {},
     "title": ""
    }
   },
   "outputs": [
    {
     "output_type": "stream",
     "name": "stdout",
     "output_type": "stream",
     "text": [
      "Out[69]: [('Canada', 77609),\n ('Mexico', 223463),\n ('Germany', 244265),\n ('France', 327730)]"
     ]
    }
   ],
   "source": [
    "paisesTotalUnidades.sortBy(lambda x: x[1]).collect()"
   ]
  },
  {
   "cell_type": "markdown",
   "metadata": {
    "application/vnd.databricks.v1+cell": {
     "cellMetadata": {},
     "inputWidgets": {},
     "nuid": "84b36eb9-50f0-417b-8211-27b6f0dade68",
     "showTitle": false,
     "tableResultSettingsMap": {},
     "title": ""
    }
   },
   "source": [
    "Si queremos ordenar descendentemente, le pasamos un segundo parámetro con valor `False` (indica si la ordenación es ascendente):"
   ]
  },
  {
   "cell_type": "code",
   "execution_count": 0,
   "metadata": {
    "application/vnd.databricks.v1+cell": {
     "cellMetadata": {
      "byteLimit": 2048000,
      "rowLimit": 10000
     },
     "inputWidgets": {},
     "nuid": "c9682793-0d34-442c-b91c-33145970802f",
     "showTitle": false,
     "tableResultSettingsMap": {},
     "title": ""
    }
   },
   "outputs": [
    {
     "output_type": "stream",
     "name": "stdout",
     "output_type": "stream",
     "text": [
      "Out[70]: [('France', 327730),\n ('Germany', 244265),\n ('Mexico', 223463),\n ('Canada', 77609)]"
     ]
    }
   ],
   "source": [
    "paisesTotalUnidades.sortBy(lambda x: x[1], False).collect()"
   ]
  },
  {
   "cell_type": "markdown",
   "metadata": {
    "application/vnd.databricks.v1+cell": {
     "cellMetadata": {},
     "inputWidgets": {},
     "nuid": "63ad5fee-56b7-420e-bc87-9d5fe77f28fa",
     "showTitle": false,
     "tableResultSettingsMap": {},
     "title": ""
    }
   },
   "source": [
    "> **Join**  \n",
    "> Aunque los RDD permitan realizar operaciones join, realmente este tipo de operaciones se realizan mediante DataFrames, por lo que omitimos su explicación en esta sesión y la dejamos para la siguiente."
   ]
  },
  {
   "cell_type": "markdown",
   "metadata": {
    "application/vnd.databricks.v1+cell": {
     "cellMetadata": {},
     "inputWidgets": {},
     "nuid": "6629f559-7fb8-4ed5-adc8-090bd1a8612c",
     "showTitle": false,
     "tableResultSettingsMap": {},
     "title": ""
    }
   },
   "source": [
    "### Particiones"
   ]
  },
  {
   "cell_type": "markdown",
   "metadata": {
    "application/vnd.databricks.v1+cell": {
     "cellMetadata": {},
     "inputWidgets": {},
     "nuid": "dbd3232f-4e4a-42bb-aa49-09ab11d961f0",
     "showTitle": false,
     "tableResultSettingsMap": {},
     "title": ""
    }
   },
   "source": [
    "Spark organiza los datos en particiones, considerándolas divisiones lógicas de los datos entre los nodos del clúster. Por ejemplo, si el almacenamiento se realiza en HDFS, cada partición se asigna a un bloque."
   ]
  },
  {
   "cell_type": "markdown",
   "metadata": {
    "application/vnd.databricks.v1+cell": {
     "cellMetadata": {},
     "inputWidgets": {},
     "nuid": "afa2e750-ca1d-4c9e-b9c2-2d8026ee0cec",
     "showTitle": false,
     "tableResultSettingsMap": {},
     "title": ""
    }
   },
   "source": [
    "Cada una de las particiones va a llevar asociada una tarea de ejecución, de manera que a más particiones, mayor paralelización del proceso."
   ]
  },
  {
   "cell_type": "markdown",
   "metadata": {
    "application/vnd.databricks.v1+cell": {
     "cellMetadata": {},
     "inputWidgets": {},
     "nuid": "0d00bf67-09ba-4ee9-acba-08c7294c9117",
     "showTitle": false,
     "tableResultSettingsMap": {},
     "title": ""
    }
   },
   "source": [
    "Veamos con código como podemos trabajar con las particiones:"
   ]
  },
  {
   "cell_type": "code",
   "execution_count": 0,
   "metadata": {
    "application/vnd.databricks.v1+cell": {
     "cellMetadata": {
      "byteLimit": 2048000,
      "rowLimit": 10000
     },
     "inputWidgets": {},
     "nuid": "0c0f8979-470f-452b-8eb0-9d5b90869c16",
     "showTitle": false,
     "tableResultSettingsMap": {},
     "title": ""
    }
   },
   "outputs": [
    {
     "output_type": "stream",
     "name": "stdout",
     "output_type": "stream",
     "text": [
      "Out[74]: 8"
     ]
    }
   ],
   "source": [
    "rdd = sc.parallelize([1,1,2,2,3,3,4,5])\n",
    "rdd.getNumPartitions() # 4"
   ]
  },
  {
   "cell_type": "code",
   "execution_count": 0,
   "metadata": {
    "application/vnd.databricks.v1+cell": {
     "cellMetadata": {
      "byteLimit": 2048000,
      "rowLimit": 10000
     },
     "inputWidgets": {},
     "nuid": "1ccc2ed4-107d-462b-b455-01c2a2437ba8",
     "showTitle": false,
     "tableResultSettingsMap": {},
     "title": ""
    }
   },
   "outputs": [
    {
     "output_type": "stream",
     "name": "stdout",
     "output_type": "stream",
     "text": [
      "Out[73]: 2"
     ]
    }
   ],
   "source": [
    "rdd = sc.parallelize([1,1,2,2,3,3,4,5], 2)\n",
    "rdd.getNumPartitions() # 2"
   ]
  },
  {
   "cell_type": "code",
   "execution_count": 0,
   "metadata": {
    "application/vnd.databricks.v1+cell": {
     "cellMetadata": {
      "byteLimit": 2048000,
      "rowLimit": 10000
     },
     "inputWidgets": {},
     "nuid": "f4e83124-15af-4c61-8b39-8c8cc7fb83e9",
     "showTitle": false,
     "tableResultSettingsMap": {},
     "title": ""
    }
   },
   "outputs": [
    {
     "output_type": "stream",
     "name": "stdout",
     "output_type": "stream",
     "text": [
      "Out[77]: 2"
     ]
    }
   ],
   "source": [
    "rddE = sc.textFile(\"/FileStore/empleados.txt\")\n",
    "rddE.getNumPartitions() # 2"
   ]
  },
  {
   "cell_type": "code",
   "execution_count": 0,
   "metadata": {
    "application/vnd.databricks.v1+cell": {
     "cellMetadata": {
      "byteLimit": 2048000,
      "rowLimit": 10000
     },
     "inputWidgets": {},
     "nuid": "0dd7cb22-2853-410a-8a4a-13c24e42d0c4",
     "showTitle": false,
     "tableResultSettingsMap": {},
     "title": ""
    }
   },
   "outputs": [
    {
     "output_type": "stream",
     "name": "stdout",
     "output_type": "stream",
     "text": [
      "Out[78]: 3"
     ]
    }
   ],
   "source": [
    "rddE = sc.textFile(\"/FileStore/empleados.txt\", 3)\n",
    "rddE.getNumPartitions() # 3"
   ]
  },
  {
   "cell_type": "markdown",
   "metadata": {
    "application/vnd.databricks.v1+cell": {
     "cellMetadata": {},
     "inputWidgets": {},
     "nuid": "7ff61e2a-e506-41bf-bae3-0f82810e9f80",
     "showTitle": false,
     "tableResultSettingsMap": {},
     "title": ""
    }
   },
   "source": [
    "La mayoría de operaciones / transformaciones / acciones que trabajan con los datos admiten un parámetro extra indicando la cantidad de particiones con las que queremos trabajar."
   ]
  },
  {
   "cell_type": "markdown",
   "metadata": {
    "application/vnd.databricks.v1+cell": {
     "cellMetadata": {},
     "inputWidgets": {},
     "nuid": "009ebcae-cec4-4450-b9bc-6f32f652cff6",
     "showTitle": false,
     "tableResultSettingsMap": {},
     "title": ""
    }
   },
   "source": [
    "### MapPartitions"
   ]
  },
  {
   "cell_type": "markdown",
   "metadata": {
    "application/vnd.databricks.v1+cell": {
     "cellMetadata": {},
     "inputWidgets": {},
     "nuid": "a9bd6815-582b-4506-8b1f-0edfd9ea3085",
     "showTitle": false,
     "tableResultSettingsMap": {},
     "title": ""
    }
   },
   "source": [
    "A diferencia de la transformación map que se invoca por cada elemento del RDD/DataSet, mapPartitions se llama por cada partición."
   ]
  },
  {
   "cell_type": "markdown",
   "metadata": {
    "application/vnd.databricks.v1+cell": {
     "cellMetadata": {},
     "inputWidgets": {},
     "nuid": "35de095a-0212-468e-82ef-c5c20ef0d4d5",
     "showTitle": false,
     "tableResultSettingsMap": {},
     "title": ""
    }
   },
   "source": [
    "La función que recibe como parámetro recogerá como entrada un iterador con los elementos de cada partición:"
   ]
  },
  {
   "cell_type": "code",
   "execution_count": 0,
   "metadata": {
    "application/vnd.databricks.v1+cell": {
     "cellMetadata": {
      "byteLimit": 2048000,
      "rowLimit": 10000
     },
     "inputWidgets": {},
     "nuid": "6e8d4d4c-79a1-41b2-b698-372bf901d48a",
     "showTitle": false,
     "tableResultSettingsMap": {},
     "title": ""
    }
   },
   "outputs": [],
   "source": [
    "rdd = sc.parallelize([1,1,2,2,3,3,4,5], 2)"
   ]
  },
  {
   "cell_type": "code",
   "execution_count": 0,
   "metadata": {
    "application/vnd.databricks.v1+cell": {
     "cellMetadata": {
      "byteLimit": 2048000,
      "rowLimit": 10000
     },
     "inputWidgets": {},
     "nuid": "1fc8bc4b-35b8-4d62-a031-2571dcdb46a6",
     "showTitle": false,
     "tableResultSettingsMap": {},
     "title": ""
    }
   },
   "outputs": [
    {
     "output_type": "stream",
     "name": "stdout",
     "output_type": "stream",
     "text": [
      "Out[80]: [6, 15]"
     ]
    }
   ],
   "source": [
    "def f(iterator): yield sum(iterator)\n",
    "resultadoRdd = rdd.mapPartitions(f)\n",
    "resultadoRdd.collect()  # [6, 15]"
   ]
  },
  {
   "cell_type": "code",
   "execution_count": 0,
   "metadata": {
    "application/vnd.databricks.v1+cell": {
     "cellMetadata": {
      "byteLimit": 2048000,
      "rowLimit": 10000
     },
     "inputWidgets": {},
     "nuid": "90f0b5ba-5b18-4874-83ab-17074553c156",
     "showTitle": false,
     "tableResultSettingsMap": {},
     "title": ""
    }
   },
   "outputs": [
    {
     "output_type": "stream",
     "name": "stdout",
     "output_type": "stream",
     "text": [
      "Out[81]: [[1, 1, 2, 2], [3, 3, 4, 5]]"
     ]
    }
   ],
   "source": [
    "resultadoRdd2 = rdd.mapPartitions(lambda iterator: [list(iterator)])\n",
    "resultadoRdd2.collect() # [[1, 1, 2, 2], [3, 3, 4, 5]]"
   ]
  },
  {
   "cell_type": "markdown",
   "metadata": {
    "application/vnd.databricks.v1+cell": {
     "cellMetadata": {},
     "inputWidgets": {},
     "nuid": "710bcee6-3994-4d8b-921d-0fd71be79db2",
     "showTitle": false,
     "tableResultSettingsMap": {},
     "title": ""
    }
   },
   "source": [
    "En el ejemplo, ha dividido los datos en dos particiones, la primera con [1, 1, 2, 2] y la otra con [3, 3, 4, 5], y de ahí el resultado de sumar sus elementos es [6, 15]."
   ]
  },
  {
   "cell_type": "markdown",
   "metadata": {
    "application/vnd.databricks.v1+cell": {
     "cellMetadata": {},
     "inputWidgets": {},
     "nuid": "ddb02967-820e-4ae3-a14f-866daed76496",
     "showTitle": false,
     "tableResultSettingsMap": {},
     "title": ""
    }
   },
   "source": [
    "### mapPartitionsWithIndex"
   ]
  },
  {
   "cell_type": "markdown",
   "metadata": {
    "application/vnd.databricks.v1+cell": {
     "cellMetadata": {},
     "inputWidgets": {},
     "nuid": "8633fabb-be23-41e2-8535-585c8382acf9",
     "showTitle": false,
     "tableResultSettingsMap": {},
     "title": ""
    }
   },
   "source": [
    "De forma similar al caso anterior, pero ahora [mapPartitionsWithIndex](https://spark.apache.org/docs/latest/api/python/reference/api/pyspark.RDD.mapPartitionsWithIndex.html) recibe una función cuyos parámetros son el índice de la partición y el iterador con los datos de la misma:"
   ]
  },
  {
   "cell_type": "code",
   "execution_count": 0,
   "metadata": {
    "application/vnd.databricks.v1+cell": {
     "cellMetadata": {
      "byteLimit": 2048000,
      "rowLimit": 10000
     },
     "inputWidgets": {},
     "nuid": "c4c60e85-0673-4eca-a0f3-390e7ba4b5c7",
     "showTitle": false,
     "tableResultSettingsMap": {},
     "title": ""
    }
   },
   "outputs": [
    {
     "output_type": "stream",
     "name": "stdout",
     "output_type": "stream",
     "text": [
      "Out[82]: [(0, [1, 1, 2, 2]), (1, [3, 3, 4, 5])]"
     ]
    }
   ],
   "source": [
    "def mpwi(indice, iterador):\n",
    "    return [(indice, list(iterador))]\n",
    "\n",
    "resultadoRdd = rdd.mapPartitionsWithIndex(mpwi)\n",
    "resultadoRdd.collect()\n",
    "# [(0, [1, 1, 2, 2]), (1, [3, 3, 4, 5])]"
   ]
  },
  {
   "cell_type": "markdown",
   "metadata": {
    "application/vnd.databricks.v1+cell": {
     "cellMetadata": {},
     "inputWidgets": {},
     "nuid": "70f6652c-a962-4f1c-8a66-b41fc65a15e7",
     "showTitle": false,
     "tableResultSettingsMap": {},
     "title": ""
    }
   },
   "source": [
    "### Modificando las particiones"
   ]
  },
  {
   "cell_type": "markdown",
   "metadata": {
    "application/vnd.databricks.v1+cell": {
     "cellMetadata": {},
     "inputWidgets": {},
     "nuid": "e4c53d73-453c-4e75-92d7-96d4ddd333b7",
     "showTitle": false,
     "tableResultSettingsMap": {},
     "title": ""
    }
   },
   "source": [
    "Podemos modificar la cantidad de particiones mediante dos transformaciones *wide*: `coalesce` y `repartition`."
   ]
  },
  {
   "cell_type": "markdown",
   "metadata": {
    "application/vnd.databricks.v1+cell": {
     "cellMetadata": {},
     "inputWidgets": {},
     "nuid": "c3859a11-a3a7-48b0-b92f-1957c2bec966",
     "showTitle": false,
     "tableResultSettingsMap": {},
     "title": ""
    }
   },
   "source": [
    "Mediante [`coalesce`](https://spark.apache.org/docs/latest/api/python/reference/api/pyspark.RDD.coalesce.html) podemos obtener un nuevo RDD con la cantidad de particiones a reducir:"
   ]
  },
  {
   "cell_type": "code",
   "execution_count": 0,
   "metadata": {
    "application/vnd.databricks.v1+cell": {
     "cellMetadata": {
      "byteLimit": 2048000,
      "rowLimit": 10000
     },
     "inputWidgets": {},
     "nuid": "409a8d29-473a-46f0-b2ed-68b67e13c249",
     "showTitle": false,
     "tableResultSettingsMap": {},
     "title": ""
    }
   },
   "outputs": [
    {
     "output_type": "stream",
     "name": "stdout",
     "output_type": "stream",
     "text": [
      "Out[83]: 3"
     ]
    }
   ],
   "source": [
    "rdd = sc.parallelize([1,1,2,2,3,3,4,5], 3)\n",
    "rdd.getNumPartitions() # 3"
   ]
  },
  {
   "cell_type": "code",
   "execution_count": 0,
   "metadata": {
    "application/vnd.databricks.v1+cell": {
     "cellMetadata": {
      "byteLimit": 2048000,
      "rowLimit": 10000
     },
     "inputWidgets": {},
     "nuid": "eb302f82-f67f-451d-a84d-d0f9a713a6bb",
     "showTitle": false,
     "tableResultSettingsMap": {},
     "title": ""
    }
   },
   "outputs": [
    {
     "output_type": "stream",
     "name": "stdout",
     "output_type": "stream",
     "text": [
      "Out[84]: 1"
     ]
    }
   ],
   "source": [
    "rdd1p = rdd.coalesce(1)\n",
    "rdd1p.getNumPartitions() # 2"
   ]
  },
  {
   "cell_type": "markdown",
   "metadata": {
    "application/vnd.databricks.v1+cell": {
     "cellMetadata": {},
     "inputWidgets": {},
     "nuid": "d2da36cf-0e5f-4d47-8095-3206e2f984f4",
     "showTitle": false,
     "tableResultSettingsMap": {},
     "title": ""
    }
   },
   "source": [
    "En cambio, mediante repartition podemos obtener un nuevo RDD con la cantidad exacta de particiones deseadas (al reducir las particiones, repartition realiza un shuffle para redistribuir los datos, por lo tanto, si queremos reducir la cantidad de particiones, es más eficiente utilizar *coalesce*):"
   ]
  },
  {
   "cell_type": "code",
   "execution_count": 0,
   "metadata": {
    "application/vnd.databricks.v1+cell": {
     "cellMetadata": {
      "byteLimit": 2048000,
      "rowLimit": 10000
     },
     "inputWidgets": {},
     "nuid": "379b81b2-aef3-4748-ae9d-a8b699352de7",
     "showTitle": false,
     "tableResultSettingsMap": {},
     "title": ""
    }
   },
   "outputs": [
    {
     "output_type": "stream",
     "name": "stdout",
     "output_type": "stream",
     "text": [
      "Out[85]: 3"
     ]
    }
   ],
   "source": [
    "rdd = sc.parallelize([1,1,2,2,3,3,4,5], 3)\n",
    "rdd.getNumPartitions() # 3"
   ]
  },
  {
   "cell_type": "code",
   "execution_count": 0,
   "metadata": {
    "application/vnd.databricks.v1+cell": {
     "cellMetadata": {
      "byteLimit": 2048000,
      "rowLimit": 10000
     },
     "inputWidgets": {},
     "nuid": "66ce94b2-1b88-4575-883f-61be2d60c665",
     "showTitle": false,
     "tableResultSettingsMap": {},
     "title": ""
    }
   },
   "outputs": [
    {
     "output_type": "stream",
     "name": "stdout",
     "output_type": "stream",
     "text": [
      "Out[86]: 2"
     ]
    }
   ],
   "source": [
    "rdd2p = rdd.repartition(2)\n",
    "rdd2p.getNumPartitions() # 2"
   ]
  },
  {
   "cell_type": "markdown",
   "metadata": {
    "application/vnd.databricks.v1+cell": {
     "cellMetadata": {},
     "inputWidgets": {},
     "nuid": "00bde18b-1350-456f-b100-a58b0aec43a2",
     "showTitle": false,
     "tableResultSettingsMap": {},
     "title": ""
    }
   },
   "source": [
    "### Actividades"
   ]
  },
  {
   "cell_type": "markdown",
   "metadata": {
    "application/vnd.databricks.v1+cell": {
     "cellMetadata": {},
     "inputWidgets": {},
     "nuid": "4a11a4a9-eec4-431c-bdd1-38cda40da357",
     "showTitle": false,
     "tableResultSettingsMap": {},
     "title": ""
    }
   },
   "source": [
    "En Python, para saber si una cadena contiene una letra puedes usar el operador in:"
   ]
  },
  {
   "cell_type": "code",
   "execution_count": 0,
   "metadata": {
    "application/vnd.databricks.v1+cell": {
     "cellMetadata": {},
     "inputWidgets": {},
     "nuid": "0bc11fe9-b7d1-4588-b70d-8621e431d127",
     "showTitle": false,
     "tableResultSettingsMap": {},
     "title": ""
    }
   },
   "outputs": [
    {
     "output_type": "stream",
     "name": "stdout",
     "output_type": "stream",
     "text": [
      "True\nFalse\nTrue\nFalse\n"
     ]
    }
   ],
   "source": [
    "nombre = \"Aitor Medrano\"\n",
    "print(\"i\" in nombre) # True\n",
    "print(\"u\" in nombre) # False\n",
    "print(\"Med\" in nombre) # True\n",
    "print(\"ai\" in nombre) # False (case sensitive)"
   ]
  },
  {
   "cell_type": "markdown",
   "metadata": {
    "application/vnd.databricks.v1+cell": {
     "cellMetadata": {},
     "inputWidgets": {},
     "nuid": "52c8d58e-cc78-4c57-a6c6-17df570b39fe",
     "showTitle": false,
     "tableResultSettingsMap": {},
     "title": ""
    }
   },
   "source": [
    "En las siguientes actividades vamos a familiarizarnos con el uso de Spark con RDD y las diferentes acciones y transformaciones disponibles."
   ]
  },
  {
   "cell_type": "markdown",
   "metadata": {
    "application/vnd.databricks.v1+cell": {
     "cellMetadata": {},
     "inputWidgets": {},
     "nuid": "fb118a52-873b-40af-aedc-516bd431723c",
     "showTitle": false,
     "tableResultSettingsMap": {},
     "title": ""
    }
   },
   "source": [
    "**1.** A partir de la lista siguiente ['Alicante','Elche','Valencia','Madrid','Barcelona','Bilbao','Sevilla']:"
   ]
  },
  {
   "cell_type": "code",
   "execution_count": 0,
   "metadata": {
    "application/vnd.databricks.v1+cell": {
     "cellMetadata": {
      "byteLimit": 2048000,
      "rowLimit": 10000
     },
     "inputWidgets": {},
     "nuid": "e609734c-32fe-41fa-91bc-a30d3ae5c6ab",
     "showTitle": false,
     "tableResultSettingsMap": {},
     "title": ""
    }
   },
   "outputs": [],
   "source": [
    "# Lista de ciudades\n",
    "ciudades = ['Alicante', 'Elche', 'Valencia', 'Madrid', 'Barcelona', 'Bilbao', 'Sevilla']\n",
    "\n",
    "# Crear un RDD a partir de la lista de ciudades\n",
    "rddCiudades = sc.parallelize(ciudades)"
   ]
  },
  {
   "cell_type": "markdown",
   "metadata": {
    "application/vnd.databricks.v1+cell": {
     "cellMetadata": {},
     "inputWidgets": {},
     "nuid": "4919c96e-2d49-4575-8e1c-04a3282fd4f6",
     "showTitle": false,
     "tableResultSettingsMap": {},
     "title": ""
    }
   },
   "source": [
    "a. Almacena sólo las ciudades que tengan la letra e en su nombre y muéstralas."
   ]
  },
  {
   "cell_type": "code",
   "execution_count": 0,
   "metadata": {
    "application/vnd.databricks.v1+cell": {
     "cellMetadata": {
      "byteLimit": 2048000,
      "rowLimit": 10000
     },
     "inputWidgets": {},
     "nuid": "8d90374f-9bdf-475c-87ee-309f5bb4d805",
     "showTitle": false,
     "tableResultSettingsMap": {},
     "title": ""
    }
   },
   "outputs": [
    {
     "output_type": "stream",
     "name": "stdout",
     "output_type": "stream",
     "text": [
      "['Alicante', 'Elche', 'Valencia', 'Barcelona', 'Sevilla']\n"
     ]
    }
   ],
   "source": [
    "# Filtrar las ciudades que contienen la letra 'e' en su nombre\n",
    "ciudadesConE = rddCiudades.filter(lambda ciudad: 'e' in ciudad.lower())\n",
    "\n",
    "# Mostrar las ciudades filtradas\n",
    "print(ciudadesConE.collect())"
   ]
  },
  {
   "cell_type": "markdown",
   "metadata": {
    "application/vnd.databricks.v1+cell": {
     "cellMetadata": {},
     "inputWidgets": {},
     "nuid": "a052fee0-4b39-40e9-a58f-9d92140737e4",
     "showTitle": false,
     "tableResultSettingsMap": {},
     "title": ""
    }
   },
   "source": [
    "b. Muestra las ciudades que tienen la letra e y el número de veces que aparece en cada nombre. Por ejemplo ('Elche', 2)."
   ]
  },
  {
   "cell_type": "code",
   "execution_count": 0,
   "metadata": {
    "application/vnd.databricks.v1+cell": {
     "cellMetadata": {
      "byteLimit": 2048000,
      "rowLimit": 10000
     },
     "inputWidgets": {},
     "nuid": "d8c5c72f-799c-41ae-bd6a-b28f6b584bd1",
     "showTitle": false,
     "tableResultSettingsMap": {},
     "title": ""
    }
   },
   "outputs": [
    {
     "output_type": "stream",
     "name": "stdout",
     "output_type": "stream",
     "text": [
      "[('Alicante', 1), ('Elche', 2), ('Valencia', 1), ('Barcelona', 1), ('Sevilla', 1)]\n"
     ]
    }
   ],
   "source": [
    "# Contar cuántas veces aparece la letra 'e' en cada ciudad\n",
    "conteoE = ciudadesConE.map(lambda ciudad: (ciudad, ciudad.lower().count('e')))\n",
    "\n",
    "# Mostrar las ciudades con el conteo de la letra 'e'\n",
    "print(conteoE.collect())"
   ]
  },
  {
   "cell_type": "markdown",
   "metadata": {
    "application/vnd.databricks.v1+cell": {
     "cellMetadata": {},
     "inputWidgets": {},
     "nuid": "eb5e1e87-2059-48ce-ad06-8f0e226293d5",
     "showTitle": false,
     "tableResultSettingsMap": {},
     "title": ""
    }
   },
   "source": [
    "c. Averigua las ciudades que solo tengan una única e."
   ]
  },
  {
   "cell_type": "code",
   "execution_count": 0,
   "metadata": {
    "application/vnd.databricks.v1+cell": {
     "cellMetadata": {
      "byteLimit": 2048000,
      "rowLimit": 10000
     },
     "inputWidgets": {},
     "nuid": "770b08a7-0694-4c37-b464-0867c97a4ddd",
     "showTitle": false,
     "tableResultSettingsMap": {},
     "title": ""
    }
   },
   "outputs": [
    {
     "output_type": "stream",
     "name": "stdout",
     "output_type": "stream",
     "text": [
      "[('Alicante', 1), ('Valencia', 1), ('Barcelona', 1), ('Sevilla', 1)]\n"
     ]
    }
   ],
   "source": [
    "# Filtrar las ciudades que tienen exactamente una 'e'\n",
    "ciudadesConUnaE = conteoE.filter(lambda ciudad_count: ciudad_count[1] == 1)\n",
    "\n",
    "# Mostrar las ciudades con exactamente una 'e'\n",
    "print(ciudadesConUnaE.collect())"
   ]
  },
  {
   "cell_type": "markdown",
   "metadata": {
    "application/vnd.databricks.v1+cell": {
     "cellMetadata": {},
     "inputWidgets": {},
     "nuid": "fba0a98b-b1b3-4ecf-8a00-26125767b96d",
     "showTitle": false,
     "tableResultSettingsMap": {},
     "title": ""
    }
   },
   "source": [
    "d. Nos han enviado una nueva lista pero no han separado bien las ciudades. Reorganiza la lista y colócalas correctamente, y cuenta las apariciones de la letra e de cada ciudad. ciudades_mal = [['Alicante.Elche','Valencia','Madrid.Barcelona','Bilbao.Sevilla'],['Murcia','San Sebastián','Melilla.Aspe']]"
   ]
  },
  {
   "cell_type": "code",
   "execution_count": 0,
   "metadata": {
    "application/vnd.databricks.v1+cell": {
     "cellMetadata": {
      "byteLimit": 2048000,
      "rowLimit": 10000
     },
     "inputWidgets": {},
     "nuid": "73453062-ca01-4c20-9765-7ef3a161b474",
     "showTitle": false,
     "tableResultSettingsMap": {},
     "title": ""
    }
   },
   "outputs": [
    {
     "output_type": "stream",
     "name": "stdout",
     "output_type": "stream",
     "text": [
      "[('Alicante', 1), ('Elche', 2), ('Madrid', 0), ('Barcelona', 1), ('Bilbao', 0), ('Sevilla', 1), ('Melilla', 1), ('Aspe', 1)]\n"
     ]
    }
   ],
   "source": [
    "# Lista de ciudades mal separadas\n",
    "ciudades_mal = [['Alicante.Elche','Valencia','Madrid.Barcelona','Bilbao.Sevilla'],\n",
    "                ['Murcia','San Sebastián','Melilla.Aspe']]\n",
    "\n",
    "# Reorganizar la lista separando las ciudades correctamente\n",
    "# 'flatMap' se usa para aplanar la lista resultante\n",
    "ciudades_reorganizadas = sc.parallelize(ciudades_mal).flatMap(lambda x: [ciudad for ciudad in x if '.' in ciudad])\n",
    "\n",
    "# Separar correctamente las ciudades unidas por '.'\n",
    "ciudades_separadas = ciudades_reorganizadas.flatMap(lambda x: x.split('.'))\n",
    "\n",
    "# Contar cuántas veces aparece la letra 'e' en cada ciudad\n",
    "conteoE = ciudades_separadas.map(lambda ciudad: (ciudad, ciudad.lower().count('e')))\n",
    "\n",
    "# Mostrar el resultado\n",
    "print(conteoE.collect())\n",
    "\n"
   ]
  },
  {
   "cell_type": "markdown",
   "metadata": {
    "application/vnd.databricks.v1+cell": {
     "cellMetadata": {},
     "inputWidgets": {},
     "nuid": "0415fcb4-d548-4792-bc90-cbb962e92afc",
     "showTitle": false,
     "tableResultSettingsMap": {},
     "title": ""
    }
   },
   "source": [
    "**2.** Dada una lista de elementos desordenados y algunos repetidos, devolver una muestra de 5 elementos, que estén en la lista, sin repetir y ordenados descendentemente."
   ]
  },
  {
   "cell_type": "code",
   "execution_count": 0,
   "metadata": {
    "application/vnd.databricks.v1+cell": {
     "cellMetadata": {
      "byteLimit": 2048000,
      "rowLimit": 10000
     },
     "inputWidgets": {},
     "nuid": "18ea469c-7736-4405-bacd-78372aa3915f",
     "showTitle": false,
     "tableResultSettingsMap": {},
     "title": ""
    }
   },
   "outputs": [
    {
     "output_type": "stream",
     "name": "stdout",
     "output_type": "stream",
     "text": [
      "Muestra ordenada: [56, 21, 6, 5, 2]\n"
     ]
    }
   ],
   "source": [
    "# Lista de elementos\n",
    "lista = [4, 6, 34, 7, 9, 2, 3, 4, 4, 21, 4, 6, 8, 9, 7, 8, 5, 4, 3, 22, 34, 56, 98]\n",
    "\n",
    "# Convertir la lista en un RDD y eliminar duplicados\n",
    "rdd = sc.parallelize(lista).distinct()\n",
    "\n",
    "# Obtener una muestra de 5 elementos de la lista sin repetición\n",
    "muestra = rdd.takeSample(False, 5)\n",
    "\n",
    "# Ordenar la muestra de manera descendente\n",
    "muestra_ordenada = sorted(muestra, reverse=True)\n",
    "\n",
    "# Mostrar la muestra ordenada\n",
    "print(\"Muestra ordenada:\", muestra_ordenada)\n"
   ]
  },
  {
   "cell_type": "markdown",
   "metadata": {
    "application/vnd.databricks.v1+cell": {
     "cellMetadata": {},
     "inputWidgets": {},
     "nuid": "b29b9e05-125a-475c-a7c8-1f905d32d87b",
     "showTitle": false,
     "tableResultSettingsMap": {},
     "title": ""
    }
   },
   "source": [
    "a. Selecciona el elemento mayor de la lista resultante.  "
   ]
  },
  {
   "cell_type": "code",
   "execution_count": 0,
   "metadata": {
    "application/vnd.databricks.v1+cell": {
     "cellMetadata": {
      "byteLimit": 2048000,
      "rowLimit": 10000
     },
     "inputWidgets": {},
     "nuid": "53821f7a-1dbb-4753-ad96-c79e00c97da8",
     "showTitle": false,
     "tableResultSettingsMap": {},
     "title": ""
    }
   },
   "outputs": [
    {
     "output_type": "stream",
     "name": "stdout",
     "output_type": "stream",
     "text": [
      "Elemento mayor: 56\n"
     ]
    }
   ],
   "source": [
    "# Seleccionar el elemento mayor de la muestra\n",
    "max_elemento = max(muestra_ordenada)\n",
    "\n",
    "# Mostrar el elemento mayor\n",
    "print(\"Elemento mayor:\", max_elemento)"
   ]
  },
  {
   "cell_type": "markdown",
   "metadata": {
    "application/vnd.databricks.v1+cell": {
     "cellMetadata": {},
     "inputWidgets": {},
     "nuid": "0ed37ecb-73ba-43d6-83dc-ca11d6c64043",
     "showTitle": false,
     "tableResultSettingsMap": {},
     "title": ""
    }
   },
   "source": [
    "b. Muestra los dos elementos menores."
   ]
  },
  {
   "cell_type": "code",
   "execution_count": 0,
   "metadata": {
    "application/vnd.databricks.v1+cell": {
     "cellMetadata": {
      "byteLimit": 2048000,
      "rowLimit": 10000
     },
     "inputWidgets": {},
     "nuid": "f6db9fe9-460b-4e9f-8f70-1ea947b4a6d3",
     "showTitle": false,
     "tableResultSettingsMap": {},
     "title": ""
    }
   },
   "outputs": [
    {
     "output_type": "stream",
     "name": "stdout",
     "output_type": "stream",
     "text": [
      "Muestra ordenada ascendentemente: [2, 5, 6, 21, 56]\nDos elementos menores: [2, 5]\n"
     ]
    }
   ],
   "source": [
    "# Ordenar la muestra de manera ascendente para obtener los menores\n",
    "muestra_ordenada_asc = sorted(muestra)\n",
    "\n",
    "# Mostrar la muestra ordenada ascendentemente\n",
    "print(\"Muestra ordenada ascendentemente:\", muestra_ordenada_asc)\n",
    "\n",
    "# Seleccionar los dos elementos menores de la muestra\n",
    "dos_menores = muestra_ordenada_asc[:2]\n",
    "\n",
    "# Mostrar los dos elementos menores\n",
    "print(\"Dos elementos menores:\", dos_menores)"
   ]
  },
  {
   "cell_type": "markdown",
   "metadata": {
    "application/vnd.databricks.v1+cell": {
     "cellMetadata": {},
     "inputWidgets": {},
     "nuid": "b535f0d4-da7b-4f2d-b44a-ec6b73f9c732",
     "showTitle": false,
     "tableResultSettingsMap": {},
     "title": ""
    }
   },
   "source": [
    "**3.** A partir de las siguientes listas:"
   ]
  },
  {
   "cell_type": "markdown",
   "metadata": {
    "application/vnd.databricks.v1+cell": {
     "cellMetadata": {},
     "inputWidgets": {},
     "nuid": "23298a34-3680-44b8-ba4a-1425a0f78b30",
     "showTitle": false,
     "tableResultSettingsMap": {},
     "title": ""
    }
   },
   "source": [
    "- Inglés: hello, table, angel, cat, dog, animal, chocolate, dark, doctor, hospital, computer.\n",
    "- Español: hola, mesa, angel, gato, perro, animal, chocolate, oscuro, doctor, hospital, ordenador."
   ]
  },
  {
   "cell_type": "code",
   "execution_count": 0,
   "metadata": {
    "application/vnd.databricks.v1+cell": {
     "cellMetadata": {
      "byteLimit": 2048000,
      "rowLimit": 10000
     },
     "inputWidgets": {},
     "nuid": "3bb1e51b-19f4-4154-9d91-1ccf52b3b580",
     "showTitle": false,
     "tableResultSettingsMap": {},
     "title": ""
    }
   },
   "outputs": [],
   "source": [
    "# Listas de palabras en inglés y español\n",
    "ingles = ['hello', 'table', 'angel', 'cat', 'dog', 'animal', 'chocolate', 'dark', 'doctor', 'hospital', 'computer']\n",
    "espanol = ['hola', 'mesa', 'angel', 'gato', 'perro', 'animal', 'chocolate', 'oscuro', 'doctor', 'hospital', 'ordenador']\n",
    "\n",
    "# Crear un RDD con las tuplas de traducción\n",
    "rdd = sc.parallelize(list(zip(ingles, espanol)))\n"
   ]
  },
  {
   "cell_type": "markdown",
   "metadata": {
    "application/vnd.databricks.v1+cell": {
     "cellMetadata": {},
     "inputWidgets": {},
     "nuid": "255bed30-27e0-438b-8a90-204fea45ea18",
     "showTitle": false,
     "tableResultSettingsMap": {},
     "title": ""
    }
   },
   "source": [
    "Una vez creado un RDD con tuplas de palabras y su traducción (puedes usar zip para unir dos listas):"
   ]
  },
  {
   "cell_type": "markdown",
   "metadata": {
    "application/vnd.databricks.v1+cell": {
     "cellMetadata": {},
     "inputWidgets": {},
     "nuid": "cb3c8995-4c4e-41ec-b776-6b4261852cec",
     "showTitle": false,
     "tableResultSettingsMap": {},
     "title": ""
    }
   },
   "source": [
    "[('hello', 'hola'),\n",
    " ('table', 'mesa'),\n",
    " ('angel', 'angel'),\n",
    " ('cat', 'gato')..."
   ]
  },
  {
   "cell_type": "markdown",
   "metadata": {
    "application/vnd.databricks.v1+cell": {
     "cellMetadata": {},
     "inputWidgets": {},
     "nuid": "966ea589-5364-4e7b-bc9c-53abba8a302e",
     "showTitle": false,
     "tableResultSettingsMap": {},
     "title": ""
    }
   },
   "source": [
    "Averigua:  "
   ]
  },
  {
   "cell_type": "markdown",
   "metadata": {
    "application/vnd.databricks.v1+cell": {
     "cellMetadata": {},
     "inputWidgets": {},
     "nuid": "c8de908c-d8b9-48f7-ab5a-3ee0283cbaf8",
     "showTitle": false,
     "tableResultSettingsMap": {},
     "title": ""
    }
   },
   "source": [
    "a. Palabras que se escriben igual en inglés y en español. "
   ]
  },
  {
   "cell_type": "code",
   "execution_count": 0,
   "metadata": {
    "application/vnd.databricks.v1+cell": {
     "cellMetadata": {
      "byteLimit": 2048000,
      "rowLimit": 10000
     },
     "inputWidgets": {},
     "nuid": "2123299d-832a-4fbb-9c94-9e31eafb88ca",
     "showTitle": false,
     "tableResultSettingsMap": {},
     "title": ""
    }
   },
   "outputs": [
    {
     "output_type": "stream",
     "name": "stdout",
     "output_type": "stream",
     "text": [
      "[('angel', 'angel'), ('animal', 'animal'), ('chocolate', 'chocolate'), ('doctor', 'doctor'), ('hospital', 'hospital')]\n"
     ]
    }
   ],
   "source": [
    "# Filtrar las palabras que se escriben igual en inglés y español\n",
    "iguales = rdd.filter(lambda x: x[0] == x[1])\n",
    "\n",
    "# Mostrar las palabras que se escriben igual\n",
    "print(iguales.collect())\n"
   ]
  },
  {
   "cell_type": "markdown",
   "metadata": {
    "application/vnd.databricks.v1+cell": {
     "cellMetadata": {},
     "inputWidgets": {},
     "nuid": "8778d67c-d626-4305-8024-cee6069c6786",
     "showTitle": false,
     "tableResultSettingsMap": {},
     "title": ""
    }
   },
   "source": [
    "b. Palabras que en español son distintas que en inglés.  "
   ]
  },
  {
   "cell_type": "code",
   "execution_count": 0,
   "metadata": {
    "application/vnd.databricks.v1+cell": {
     "cellMetadata": {
      "byteLimit": 2048000,
      "rowLimit": 10000
     },
     "inputWidgets": {},
     "nuid": "15acad6f-0945-4243-9fb9-2c33e45008d6",
     "showTitle": false,
     "tableResultSettingsMap": {},
     "title": ""
    }
   },
   "outputs": [
    {
     "output_type": "stream",
     "name": "stdout",
     "output_type": "stream",
     "text": [
      "[('hello', 'hola'), ('table', 'mesa'), ('cat', 'gato'), ('dog', 'perro'), ('dark', 'oscuro'), ('computer', 'ordenador')]\n"
     ]
    }
   ],
   "source": [
    "# Filtrar las palabras que son diferentes en inglés y español\n",
    "diferentes = rdd.filter(lambda x: x[0] != x[1])\n",
    "\n",
    "# Mostrar las palabras diferentes\n",
    "print(diferentes.collect())"
   ]
  },
  {
   "cell_type": "markdown",
   "metadata": {
    "application/vnd.databricks.v1+cell": {
     "cellMetadata": {},
     "inputWidgets": {},
     "nuid": "d57aa25d-d98e-43a0-97aa-7b6e320b2afd",
     "showTitle": false,
     "tableResultSettingsMap": {},
     "title": ""
    }
   },
   "source": [
    "c. Obtén una única lista con las palabras en ambos idiomas que son distintas entre ellas (['hello', 'hola', 'table', ...).  "
   ]
  },
  {
   "cell_type": "code",
   "execution_count": 0,
   "metadata": {
    "application/vnd.databricks.v1+cell": {
     "cellMetadata": {
      "byteLimit": 2048000,
      "rowLimit": 10000
     },
     "inputWidgets": {},
     "nuid": "2a37e547-bc5a-4c45-b7f5-4716fb32cc6e",
     "showTitle": false,
     "tableResultSettingsMap": {},
     "title": ""
    }
   },
   "outputs": [
    {
     "output_type": "stream",
     "name": "stdout",
     "output_type": "stream",
     "text": [
      "['hello', 'hola', 'table', 'mesa', 'cat', 'gato', 'dog', 'perro', 'dark', 'oscuro', 'computer', 'ordenador']\n"
     ]
    }
   ],
   "source": [
    "# Obtener una lista con las palabras que son distintas en inglés y español\n",
    "distintas = rdd.filter(lambda x: x[0] != x[1]).flatMap(lambda x: x)\n",
    "\n",
    "# Mostrar las palabras distintas\n",
    "print(distintas.collect())"
   ]
  },
  {
   "cell_type": "markdown",
   "metadata": {
    "application/vnd.databricks.v1+cell": {
     "cellMetadata": {},
     "inputWidgets": {},
     "nuid": "4116caf0-c382-46c4-9799-ffe7f4eee90e",
     "showTitle": false,
     "tableResultSettingsMap": {},
     "title": ""
    }
   },
   "source": [
    "d. Haz dos grupos con todas las palabras, uno con las que empiezan por vocal y otro con las que empiecen por consonante. "
   ]
  },
  {
   "cell_type": "code",
   "execution_count": 0,
   "metadata": {
    "application/vnd.databricks.v1+cell": {
     "cellMetadata": {
      "byteLimit": 2048000,
      "rowLimit": 10000
     },
     "inputWidgets": {},
     "nuid": "c3999936-1dd5-4652-a88d-a369e2fd85a3",
     "showTitle": false,
     "tableResultSettingsMap": {},
     "title": ""
    }
   },
   "outputs": [
    {
     "output_type": "stream",
     "name": "stdout",
     "output_type": "stream",
     "text": [
      "Palabras que empiezan por vocal: [('angel', 'angel'), ('animal', 'animal'), ('dark', 'oscuro'), ('computer', 'ordenador')]\nPalabras que empiezan por consonante: [('hello', 'hola'), ('table', 'mesa'), ('cat', 'gato'), ('dog', 'perro'), ('chocolate', 'chocolate'), ('doctor', 'doctor'), ('hospital', 'hospital')]\n"
     ]
    }
   ],
   "source": [
    "# Definir las vocales\n",
    "vocales = ['a', 'e', 'i', 'o', 'u']\n",
    "\n",
    "# Filtrar las palabras que empiezan con vocal (en inglés o español)\n",
    "vocales_group = rdd.filter(lambda x: x[0][0].lower() in vocales or x[1][0].lower() in vocales)\n",
    "\n",
    "# Filtrar las palabras que empiezan con consonante (en inglés o español)\n",
    "consonantes_group = rdd.filter(lambda x: x[0][0].lower() not in vocales and x[1][0].lower() not in vocales)\n",
    "\n",
    "# Mostrar los resultados\n",
    "print(\"Palabras que empiezan por vocal:\", vocales_group.collect())\n",
    "print(\"Palabras que empiezan por consonante:\", consonantes_group.collect())"
   ]
  },
  {
   "cell_type": "markdown",
   "metadata": {
    "application/vnd.databricks.v1+cell": {
     "cellMetadata": {},
     "inputWidgets": {},
     "nuid": "7ffd0947-4e39-4d00-b07c-081a9514fb34",
     "showTitle": false,
     "tableResultSettingsMap": {},
     "title": ""
    }
   },
   "source": [
    "**4.** A partir del fichero de [El Quijote](https://tajamar365.sharepoint.com/:t:/s/3405-MasterIA2024-2025/ERkcxiK7gt5Fr2KDytLuTXYBI3LdxtCa6IWeNvOTHFxbYQ?e=hCkatQ):"
   ]
  },
  {
   "cell_type": "markdown",
   "metadata": {
    "application/vnd.databricks.v1+cell": {
     "cellMetadata": {},
     "inputWidgets": {},
     "nuid": "96eeb60a-db89-46da-b7e5-a7f54bba74d6",
     "showTitle": false,
     "tableResultSettingsMap": {},
     "title": ""
    }
   },
   "source": [
    "a. Crear un RDD a partir del fichero y crea una lista con todas las palabras del documento.   "
   ]
  },
  {
   "cell_type": "code",
   "execution_count": 0,
   "metadata": {
    "application/vnd.databricks.v1+cell": {
     "cellMetadata": {
      "byteLimit": 2048000,
      "rowLimit": 10000
     },
     "inputWidgets": {},
     "nuid": "be45409f-44be-4d18-9e3c-64c1603b5e99",
     "showTitle": false,
     "tableResultSettingsMap": {},
     "title": ""
    }
   },
   "outputs": [
    {
     "output_type": "stream",
     "name": "stdout",
     "output_type": "stream",
     "text": [
      "['don', 'quijote', 'de', 'la', 'mancha', 'miguel', 'de', 'cervantes', 'saavedra', 'primera']\n"
     ]
    }
   ],
   "source": [
    "import re\n",
    "\n",
    "# Crear un RDD a partir del archivo\n",
    "rdd = sc.textFile(\"/FileStore/el_quijote.txt\")\n",
    "\n",
    "# Crear un RDD con todas las palabras del documento, limpiadas y en minúsculas\n",
    "palabras_rdd = rdd.flatMap(lambda x: re.findall(r'\\b\\w+\\b', x.lower()))  # Reemplazamos split por expresión regular que elimina puntuación\n",
    "\n",
    "# Mostrar las primeras 10 palabras para comprobar\n",
    "print(palabras_rdd.take(10))\n"
   ]
  },
  {
   "cell_type": "markdown",
   "metadata": {
    "application/vnd.databricks.v1+cell": {
     "cellMetadata": {},
     "inputWidgets": {},
     "nuid": "23e2e4a9-d5f6-4820-8a6a-f71ff3418185",
     "showTitle": false,
     "tableResultSettingsMap": {},
     "title": ""
    }
   },
   "source": [
    "b. ¿Cuantas veces aparece la palabra Dulcinea (independientemente de si está en mayúsculas o minúsculas)? ¿Y Rocinante? (86 y 120 ocurrencias respectivamente) "
   ]
  },
  {
   "cell_type": "code",
   "execution_count": 0,
   "metadata": {
    "application/vnd.databricks.v1+cell": {
     "cellMetadata": {
      "byteLimit": 2048000,
      "rowLimit": 10000
     },
     "inputWidgets": {},
     "nuid": "c6c0e3c4-4100-4ca8-9033-e201d0906f39",
     "showTitle": false,
     "tableResultSettingsMap": {},
     "title": ""
    }
   },
   "outputs": [
    {
     "output_type": "stream",
     "name": "stdout",
     "output_type": "stream",
     "text": [
      "Dulcinea aparece 90 veces.\nRocinante aparece 120 veces.\n"
     ]
    }
   ],
   "source": [
    "# Contar cuántas veces aparece \"Dulcinea\"\n",
    "dulcinea_count = palabras_rdd.filter(lambda x: x.lower() == \"dulcinea\").count()\n",
    "\n",
    "# Contar cuántas veces aparece \"Rocinante\"\n",
    "rocinante_count = palabras_rdd.filter(lambda x: x.lower() == \"rocinante\").count()\n",
    "\n",
    "# Mostrar los resultados\n",
    "print(f\"Dulcinea aparece {dulcinea_count} veces.\")\n",
    "print(f\"Rocinante aparece {rocinante_count} veces.\")"
   ]
  },
  {
   "cell_type": "markdown",
   "metadata": {
    "application/vnd.databricks.v1+cell": {
     "cellMetadata": {},
     "inputWidgets": {},
     "nuid": "d1715783-65c3-48dc-bf96-7c67d9f6a9f1",
     "showTitle": false,
     "tableResultSettingsMap": {},
     "title": ""
    }
   },
   "source": [
    "c. Devuelve una lista ordenada según el número de veces que sale cada palabra de más a menos (las primeras ocurrencias deben ser [('que', 10731), ('de', 9035), ('y', 8668), ('la', 5014), ...).  "
   ]
  },
  {
   "cell_type": "code",
   "execution_count": 0,
   "metadata": {
    "application/vnd.databricks.v1+cell": {
     "cellMetadata": {
      "byteLimit": 2048000,
      "rowLimit": 10000
     },
     "inputWidgets": {},
     "nuid": "92634823-763f-4f6d-bad8-d43eedbe1ff2",
     "showTitle": false,
     "tableResultSettingsMap": {},
     "title": ""
    }
   },
   "outputs": [
    {
     "output_type": "stream",
     "name": "stdout",
     "output_type": "stream",
     "text": [
      "[('que', 11134), ('de', 9164), ('y', 8690), ('a', 7968), ('la', 5104), ('en', 4053), ('el', 3858), ('no', 3159), ('se', 2655), ('los', 2154)]\n"
     ]
    }
   ],
   "source": [
    "# Contar las ocurrencias de cada palabra\n",
    "conteo_palabras = palabras_rdd.map(lambda palabra: (palabra, 1)).reduceByKey(lambda a, b: a + b)\n",
    "\n",
    "# Ordenar las palabras por el número de ocurrencias (de mayor a menor)\n",
    "ordenado_por_frecuencia = conteo_palabras.map(lambda x: (x[1], x[0])).sortByKey(False).map(lambda x: (x[1], x[0]))  # Volver a cambiar la clave por la palabra\n",
    "\n",
    "# Mostrar las primeras 10 palabras ordenadas por su frecuencia\n",
    "print(ordenado_por_frecuencia.take(10))"
   ]
  },
  {
   "cell_type": "markdown",
   "metadata": {
    "application/vnd.databricks.v1+cell": {
     "cellMetadata": {},
     "inputWidgets": {},
     "nuid": "5e6071cb-2288-46fd-bd33-a6a5a7d6121d",
     "showTitle": false,
     "tableResultSettingsMap": {},
     "title": ""
    }
   },
   "source": [
    "**5.** Dada una cadena que contiene una lista de nombres Juan, Jimena, Luis, Cristian, Laura, Lorena, Cristina, Jacobo, Jorge, una vez transformada la cadena en una lista y luego en un RDD:  "
   ]
  },
  {
   "cell_type": "markdown",
   "metadata": {
    "application/vnd.databricks.v1+cell": {
     "cellMetadata": {},
     "inputWidgets": {},
     "nuid": "6d341fc0-e9df-4cfb-a31c-a177a2c11463",
     "showTitle": false,
     "tableResultSettingsMap": {},
     "title": ""
    }
   },
   "source": [
    "[('J', ['Juan', 'Jimena', 'Jacobo', 'Jorge']),\n",
    "('L', ['Luis', 'Laura', 'Lorena']),\n",
    "('C', ['Cristian', 'Cristina'])]"
   ]
  },
  {
   "cell_type": "code",
   "execution_count": 0,
   "metadata": {
    "application/vnd.databricks.v1+cell": {
     "cellMetadata": {
      "byteLimit": 2048000,
      "rowLimit": 10000
     },
     "inputWidgets": {},
     "nuid": "9aafa15a-b834-4e12-af26-d5db2e8e08d1",
     "showTitle": false,
     "tableResultSettingsMap": {},
     "title": ""
    }
   },
   "outputs": [],
   "source": [
    "# Lista de nombres\n",
    "nombres = ['Juan', 'Jimena', 'Luis', 'Cristian', 'Laura', 'Lorena', 'Cristina', 'Jacobo', 'Jorge']\n",
    "\n",
    "# Crear un RDD a partir de la lista de nombres\n",
    "rdd = sc.parallelize(nombres)\n"
   ]
  },
  {
   "cell_type": "markdown",
   "metadata": {
    "application/vnd.databricks.v1+cell": {
     "cellMetadata": {},
     "inputWidgets": {},
     "nuid": "1178e1c6-4816-470a-a76c-730b16d22d1c",
     "showTitle": false,
     "tableResultSettingsMap": {},
     "title": ""
    }
   },
   "source": [
    "a. Agrúpalos según su inicial, de manera que tengamos tuplas formadas por la letra inicial y todos los nombres que comienzan por dicha letra:"
   ]
  },
  {
   "cell_type": "code",
   "execution_count": 0,
   "metadata": {
    "application/vnd.databricks.v1+cell": {
     "cellMetadata": {
      "byteLimit": 2048000,
      "rowLimit": 10000
     },
     "inputWidgets": {},
     "nuid": "701e8133-a1f5-4cac-b196-c1c597a8e83c",
     "showTitle": false,
     "tableResultSettingsMap": {},
     "title": ""
    }
   },
   "outputs": [
    {
     "output_type": "stream",
     "name": "stdout",
     "output_type": "stream",
     "text": [
      "[('J', ['Juan', 'Jimena', 'Jacobo', 'Jorge']), ('C', ['Cristian', 'Cristina']), ('L', ['Luis', 'Laura', 'Lorena'])]\n"
     ]
    }
   ],
   "source": [
    "# Agrupar los nombres por la primera letra\n",
    "agrupados_por_inicial = rdd.groupBy(lambda x: x[0]).mapValues(list)\n",
    "\n",
    "# Mostrar el resultado\n",
    "print(agrupados_por_inicial.collect())"
   ]
  },
  {
   "cell_type": "markdown",
   "metadata": {
    "application/vnd.databricks.v1+cell": {
     "cellMetadata": {},
     "inputWidgets": {},
     "nuid": "e415e48c-8d44-41a5-9aea-6f15ea5e4fd2",
     "showTitle": false,
     "tableResultSettingsMap": {},
     "title": ""
    }
   },
   "source": [
    "b. De la lista original, obtén una muestra de 5 elementos sin repetir valores."
   ]
  },
  {
   "cell_type": "code",
   "execution_count": 0,
   "metadata": {
    "application/vnd.databricks.v1+cell": {
     "cellMetadata": {
      "byteLimit": 2048000,
      "rowLimit": 10000
     },
     "inputWidgets": {},
     "nuid": "48ab7c79-14d1-4da8-91d4-c50335e0fb88",
     "showTitle": false,
     "tableResultSettingsMap": {},
     "title": ""
    }
   },
   "outputs": [
    {
     "output_type": "stream",
     "name": "stdout",
     "output_type": "stream",
     "text": [
      "['Jimena', 'Juan', 'Cristian', 'Jorge', 'Luis']\n"
     ]
    }
   ],
   "source": [
    "# Obtener una muestra de 5 elementos sin repetir\n",
    "muestra_sin_repetir = rdd.distinct().take(5)\n",
    "\n",
    "# Mostrar el resultado\n",
    "print(muestra_sin_repetir)"
   ]
  },
  {
   "cell_type": "markdown",
   "metadata": {
    "application/vnd.databricks.v1+cell": {
     "cellMetadata": {},
     "inputWidgets": {},
     "nuid": "0dacea35-d80b-439e-bf24-394dbf711304",
     "showTitle": false,
     "tableResultSettingsMap": {},
     "title": ""
    }
   },
   "source": [
    "c. Devuelve una muestra de datos de aproximadamente la mitad de registros que la lista original con datos que pudieran llegar a repetirse."
   ]
  },
  {
   "cell_type": "code",
   "execution_count": 0,
   "metadata": {
    "application/vnd.databricks.v1+cell": {
     "cellMetadata": {
      "byteLimit": 2048000,
      "rowLimit": 10000
     },
     "inputWidgets": {},
     "nuid": "3e2c7d5f-2c94-4ba7-ab19-b2d30219a100",
     "showTitle": false,
     "tableResultSettingsMap": {},
     "title": ""
    }
   },
   "outputs": [
    {
     "output_type": "stream",
     "name": "stdout",
     "output_type": "stream",
     "text": [
      "['Jimena', 'Cristina', 'Jorge', 'Jorge', 'Jorge']\n"
     ]
    }
   ],
   "source": [
    "# Obtener una muestra de aproximadamente la mitad de los registros con repetición\n",
    "muestra_con_repeticion = rdd.sample(withReplacement=True, fraction=0.5).collect()\n",
    "\n",
    "# Mostrar el resultado\n",
    "print(muestra_con_repeticion)"
   ]
  },
  {
   "cell_type": "markdown",
   "metadata": {
    "application/vnd.databricks.v1+cell": {
     "cellMetadata": {},
     "inputWidgets": {},
     "nuid": "2dfeebb2-f133-4786-9eed-928253bb636f",
     "showTitle": false,
     "tableResultSettingsMap": {},
     "title": ""
    }
   },
   "source": [
    "**6.** En una red social sobre cine, tenemos un fichero [ratings.txt](https://tajamar365.sharepoint.com/:t:/s/3405-MasterIA2024-2025/EaYOt-hRpDBIl2DrlGnLx38Bqolu9xt7f4weY1We7jrkCQ?e=EwltPA) compuesta por el código de la película, el código del usuario, la calificación asignada y el timestamp de la votación con el siguiente formato:"
   ]
  },
  {
   "cell_type": "markdown",
   "metadata": {
    "application/vnd.databricks.v1+cell": {
     "cellMetadata": {},
     "inputWidgets": {},
     "nuid": "f6799459-9f2d-4088-8720-3ba7331a8d68",
     "showTitle": false,
     "tableResultSettingsMap": {},
     "title": ""
    }
   },
   "source": [
    "1::1193::5::978300760\n",
    "1::661::3::978302109\n",
    "1::914::3::978301968"
   ]
  },
  {
   "cell_type": "markdown",
   "metadata": {
    "application/vnd.databricks.v1+cell": {
     "cellMetadata": {},
     "inputWidgets": {},
     "nuid": "cd724e07-4daa-4e34-8677-9794663e523a",
     "showTitle": false,
     "tableResultSettingsMap": {},
     "title": ""
    }
   },
   "source": [
    "Se pide crear dos script en Python, así como los comandos necesarios para ejecutarlos (mediante spark-submit) para:"
   ]
  },
  {
   "cell_type": "markdown",
   "metadata": {
    "application/vnd.databricks.v1+cell": {
     "cellMetadata": {},
     "inputWidgets": {},
     "nuid": "20147f74-d210-4c60-aea7-3d0a64b23e20",
     "showTitle": false,
     "tableResultSettingsMap": {},
     "title": ""
    }
   },
   "source": [
    "a. Obtener para cada película, la nota media de todas sus votaciones.  "
   ]
  },
  {
   "cell_type": "code",
   "execution_count": 0,
   "metadata": {
    "application/vnd.databricks.v1+cell": {
     "cellMetadata": {
      "byteLimit": 2048000,
      "rowLimit": 10000
     },
     "inputWidgets": {},
     "nuid": "7d842ade-06c5-49d9-a883-6f30c97e1018",
     "showTitle": false,
     "tableResultSettingsMap": {},
     "title": ""
    }
   },
   "outputs": [
    {
     "output_type": "stream",
     "name": "stdout",
     "output_type": "stream",
     "text": [
      "Calificación media por película:\nPelícula 2: 3.71\nPelícula 4: 4.19\nPelícula 6: 3.90\nPelícula 8: 3.88\nPelícula 10: 4.11\nPelícula 12: 3.83\nPelícula 14: 3.32\nPelícula 16: 3.03\nPelícula 18: 3.65\nPelícula 20: 4.08\nPelícula 22: 3.07\nPelícula 24: 3.95\nPelícula 26: 2.96\nPelícula 28: 3.76\nPelícula 30: 3.49\nPelícula 32: 3.62\nPelícula 34: 3.87\nPelícula 36: 4.20\nPelícula 38: 3.58\nPelícula 40: 3.45\nPelícula 42: 3.74\nPelícula 44: 3.63\nPelícula 46: 4.22\nPelícula 48: 3.07\nPelícula 50: 3.07\nPelícula 52: 3.56\nPelícula 54: 4.03\nPelícula 56: 3.97\nPelícula 58: 3.97\nPelícula 60: 3.41\nPelícula 62: 3.57\nPelícula 64: 4.15\nPelícula 66: 3.85\nPelícula 68: 3.75\nPelícula 70: 3.70\nPelícula 72: 3.70\nPelícula 74: 4.05\nPelícula 76: 4.17\nPelícula 78: 3.66\nPelícula 80: 3.90\nPelícula 82: 4.02\nPelícula 84: 3.84\nPelícula 86: 4.31\nPelícula 88: 4.15\nPelícula 90: 3.51\nPelícula 92: 2.76\nPelícula 94: 3.86\nPelícula 96: 3.60\nPelícula 98: 3.80\nPelícula 100: 3.03\nPelícula 102: 3.13\nPelícula 104: 3.35\nPelícula 106: 4.02\nPelícula 108: 3.14\nPelícula 110: 3.25\nPelícula 112: 4.18\nPelícula 114: 3.69\nPelícula 116: 3.80\nPelícula 118: 3.77\nPelícula 120: 3.62\nPelícula 122: 2.96\nPelícula 124: 4.17\nPelícula 126: 4.00\nPelícula 128: 4.36\nPelícula 130: 4.31\nPelícula 132: 3.97\nPelícula 134: 2.72\nPelícula 136: 3.07\nPelícula 138: 4.49\nPelícula 140: 3.82\nPelícula 142: 3.34\nPelícula 144: 3.47\nPelícula 146: 3.77\nPelícula 148: 3.73\nPelícula 150: 4.02\nPelícula 152: 4.12\nPelícula 154: 3.09\nPelícula 156: 4.24\nPelícula 158: 4.00\nPelícula 160: 3.50\nPelícula 162: 4.12\nPelícula 164: 4.38\nPelícula 166: 3.69\nPelícula 168: 3.85\nPelícula 170: 3.99\nPelícula 172: 3.61\nPelícula 174: 3.65\nPelícula 176: 3.62\nPelícula 178: 3.84\nPelícula 180: 3.69\nPelícula 182: 3.83\nPelícula 184: 4.08\nPelícula 186: 4.25\nPelícula 188: 3.17\nPelícula 190: 3.70\nPelícula 192: 3.09\nPelícula 194: 3.98\nPelícula 196: 4.06\nPelícula 198: 3.75\nPelícula 200: 3.42\nPelícula 202: 3.25\nPelícula 204: 3.56\nPelícula 206: 3.07\nPelícula 208: 3.65\nPelícula 210: 4.03\nPelícula 212: 3.85\nPelícula 214: 3.16\nPelícula 216: 3.23\nPelícula 218: 3.09\nPelícula 220: 4.22\nPelícula 222: 4.09\nPelícula 224: 3.40\nPelícula 226: 3.57\nPelícula 228: 4.00\nPelícula 230: 4.09\nPelícula 232: 3.57\nPelícula 234: 4.31\nPelícula 236: 3.69\nPelícula 238: 3.79\nPelícula 240: 3.30\nPelícula 242: 3.21\nPelícula 244: 4.11\nPelícula 246: 4.00\nPelícula 248: 4.21\nPelícula 250: 3.75\nPelícula 252: 4.02\nPelícula 254: 3.78\nPelícula 256: 3.85\nPelícula 258: 3.72\nPelícula 260: 3.31\nPelícula 262: 3.33\nPelícula 264: 2.79\nPelícula 266: 4.52\nPelícula 268: 3.39\nPelícula 270: 4.20\nPelícula 272: 3.65\nPelícula 274: 4.24\nPelícula 276: 3.52\nPelícula 278: 3.96\nPelícula 280: 3.94\nPelícula 282: 3.52\nPelícula 284: 3.02\nPelícula 286: 3.88\nPelícula 288: 4.59\nPelícula 290: 3.30\nPelícula 292: 3.76\nPelícula 294: 3.49\nPelícula 296: 3.60\nPelícula 298: 3.93\nPelícula 300: 4.18\nPelícula 302: 2.87\nPelícula 304: 3.56\nPelícula 306: 3.94\nPelícula 308: 3.39\nPelícula 310: 3.43\nPelícula 312: 3.74\nPelícula 314: 3.70\nPelícula 316: 4.12\nPelícula 318: 3.95\nPelícula 320: 4.24\nPelícula 322: 4.45\nPelícula 324: 3.33\nPelícula 326: 3.34\nPelícula 328: 3.03\nPelícula 330: 4.01\nPelícula 332: 4.28\nPelícula 334: 3.95\nPelícula 336: 4.31\nPelícula 338: 3.67\nPelícula 340: 3.53\nPelícula 342: 3.69\nPelícula 344: 2.96\nPelícula 346: 4.31\nPelícula 348: 3.78\nPelícula 350: 3.94\nPelícula 352: 3.48\nPelícula 354: 3.59\nPelícula 356: 4.38\nPelícula 358: 3.85\nPelícula 360: 3.64\nPelícula 362: 3.29\nPelícula 364: 3.14\nPelícula 366: 4.07\nPelícula 368: 3.78\nPelícula 370: 3.75\nPelícula 372: 4.55\nPelícula 374: 4.40\nPelícula 376: 4.11\nPelícula 378: 3.51\nPelícula 380: 3.72\nPelícula 382: 4.02\nPelícula 384: 3.59\nPelícula 386: 3.32\nPelícula 388: 3.88\nPelícula 390: 3.67\nPelícula 392: 3.47\nPelícula 394: 3.34\nPelícula 396: 3.56\nPelícula 398: 3.81\nPelícula 400: 3.88\nPelícula 402: 3.59\nPelícula 404: 4.14\nPelícula 406: 3.31\nPelícula 408: 4.35\nPelícula 410: 3.97\nPelícula 412: 4.40\nPelícula 414: 3.07\nPelícula 416: 3.76\nPelícula 418: 3.55\nPelícula 420: 4.36\nPelícula 422: 3.30\nPelícula 424: 3.74\nPelícula 426: 3.76\nPelícula 428: 3.90\nPelícula 430: 3.97\nPelícula 432: 2.99\nPelícula 434: 4.02\nPelícula 436: 3.83\nPelícula 438: 3.53\nPelícula 440: 3.59\nPelícula 442: 3.85\nPelícula 444: 4.00\nPelícula 446: 4.84\nPelícula 448: 3.43\nPelícula 450: 4.20\nPelícula 452: 4.43\nPelícula 454: 3.22\nPelícula 456: 3.39\nPelícula 458: 3.53\nPelícula 460: 3.36\nPelícula 462: 3.54\nPelícula 464: 3.61\nPelícula 466: 4.14\nPelícula 468: 3.73\nPelícula 470: 3.81\nPelícula 472: 4.02\nPelícula 474: 3.38\nPelícula 476: 3.84\nPelícula 478: 3.87\nPelícula 480: 3.41\nPelícula 482: 3.26\nPelícula 484: 3.74\nPelícula 486: 4.05\nPelícula 488: 3.56\nPelícula 490: 3.77\nPelícula 492: 3.94\nPelícula 494: 4.16\nPelícula 496: 4.29\nPelícula 498: 3.65\nPelícula 500: 3.63\nPelícula 502: 4.08\nPelícula 504: 3.81\nPelícula 506: 3.42\nPelícula 508: 3.32\nPelícula 510: 3.83\nPelícula 512: 3.84\nPelícula 514: 4.20\nPelícula 516: 2.93\nPelícula 518: 4.35\nPelícula 520: 3.94\nPelícula 522: 3.84\nPelícula 524: 3.61\nPelícula 526: 3.90\nPelícula 528: 3.36\nPelícula 530: 4.00\nPelícula 532: 3.86\nPelícula 534: 3.75\nPelícula 536: 3.94\nPelícula 538: 4.46\nPelícula 540: 3.23\nPelícula 542: 3.76\nPelícula 544: 3.78\nPelícula 546: 3.23\nPelícula 548: 3.09\nPelícula 550: 3.58\nPelícula 552: 3.76\nPelícula 554: 3.51\nPelícula 556: 3.50\nPelícula 558: 3.68\nPelícula 560: 3.90\nPelícula 562: 3.70\nPelícula 564: 4.00\nPelícula 566: 2.63\nPelícula 568: 4.44\nPelícula 570: 3.33\nPelícula 572: 3.05\nPelícula 574: 4.10\nPelícula 576: 3.67\nPelícula 578: 3.96\nPelícula 580: 3.35\nPelícula 582: 4.28\nPelícula 584: 4.29\nPelícula 586: 4.49\nPelícula 588: 4.06\nPelícula 590: 4.14\nPelícula 592: 4.39\nPelícula 594: 4.30\nPelícula 596: 2.95\nPelícula 598: 3.32\nPelícula 600: 3.65\nPelícula 602: 3.40\nPelícula 604: 3.09\nPelícula 606: 4.03\nPelícula 608: 3.19\nPelícula 610: 3.48\nPelícula 612: 3.50\nPelícula 614: 3.83\nPelícula 616: 3.95\nPelícula 618: 3.00\nPelícula 620: 3.32\nPelícula 622: 3.91\nPelícula 624: 3.68\nPelícula 626: 4.06\nPelícula 628: 3.90\nPelícula 630: 4.25\nPelícula 632: 3.79\nPelícula 634: 4.01\nPelícula 636: 4.06\nPelícula 638: 4.18\nPelícula 640: 4.33\nPelícula 642: 4.11\nPelícula 644: 3.12\nPelícula 646: 3.80\nPelícula 648: 3.72\nPelícula 650: 3.89\nPelícula 652: 2.89\nPelícula 654: 3.43\nPelícula 656: 3.87\nPelícula 658: 3.10\nPelícula 660: 3.02\nPelícula 662: 3.14\nPelícula 664: 4.03\nPelícula 666: 3.89\nPelícula 668: 3.58\nPelícula 670: 3.24\nPelícula 672: 3.87\nPelícula 674: 4.28\nPelícula 676: 3.13\nPelícula 678: 3.68\nPelícula 680: 3.57\nPelícula 682: 4.73\nPelícula 684: 3.89\nPelícula 686: 3.78\nPelícula 688: 3.75\nPelícula 690: 4.31\nPelícula 692: 3.82\nPelícula 694: 3.62\nPelícula 696: 3.80\nPelícula 698: 3.55\nPelícula 700: 3.88\nPelícula 702: 3.30\nPelícula 704: 3.08\nPelícula 706: 3.56\nPelícula 708: 3.85\nPelícula 710: 3.43\nPelícula 712: 3.48\nPelícula 714: 4.16\nPelícula 716: 4.20\nPelícula 718: 3.78\nPelícula 720: 2.91\nPelícula 722: 3.91\nPelícula 724: 3.64\nPelícula 726: 3.93\nPelícula 728: 3.31\nPelícula 730: 3.77\nPelícula 732: 3.43\nPelícula 734: 3.73\nPelícula 736: 3.93\nPelícula 738: 3.30\nPelícula 740: 4.24\nPelícula 742: 3.95\nPelícula 744: 3.37\nPelícula 746: 2.63\nPelícula 748: 3.98\nPelícula 750: 4.32\nPelícula 752: 2.83\nPelícula 754: 3.78\nPelícula 756: 3.97\nPelícula 758: 4.00\nPelícula 760: 4.27\nPelícula 762: 3.72\nPelícula 764: 4.53\nPelícula 766: 3.94\nPelícula 768: 4.44\nPelícula 770: 2.94\nPelícula 772: 3.48\nPelícula 774: 3.21\nPelícula 776: 3.77\nPelícula 778: 3.79\nPelícula 780: 3.46\nPelícula 782: 3.43\nPelícula 784: 4.07\nPelícula 786: 4.06\nPelícula 788: 3.53\nPelícula 790: 4.35\nPelícula 792: 3.46\nPelícula 794: 3.95\nPelícula 796: 2.97\nPelícula 798: 3.15\nPelícula 800: 3.48\nPelícula 802: 3.94\nPelícula 804: 3.27\nPelícula 806: 4.17\nPelícula 808: 3.12\nPelícula 810: 3.82\nPelícula 812: 3.74\nPelícula 814: 4.06\nPelícula 816: 3.70\nPelícula 818: 3.73\nPelícula 820: 3.41\nPelícula 822: 3.72\nPelícula 824: 3.65\nPelícula 826: 3.29\nPelícula 828: 3.44\nPelícula 830: 3.61\nPelícula 832: 3.56\nPelícula 834: 4.16\nPelícula 836: 2.40\nPelícula 838: 4.09\nPelícula 840: 4.22\nPelícula 842: 3.84\nPelícula 844: 3.45\nPelícula 846: 3.92\nPelícula 848: 4.18\nPelícula 850: 3.56\nPelícula 852: 4.12\nPelícula 854: 3.03\nPelícula 856: 3.49\nPelícula 858: 4.19\nPelícula 860: 3.17\nPelícula 862: 3.67\nPelícula 864: 4.05\nPelícula 866: 3.33\nPelícula 868: 3.60\nPelícula 870: 3.61\nPelícula 872: 3.64\nPelícula 874: 3.79\nPelícula 876: 3.83\nPelícula 878: 4.14\nPelícula 880: 3.50\nPelícula 882: 4.09\nPelícula 884: 4.01\nPelícula 886: 3.63\nPelícula 888: 3.78\nPelícula 890: 3.97\nPelícula 892: 3.91\nPelícula 894: 4.44\nPelícula 896: 3.98\nPelícula 898: 4.08\nPelícula 900: 3.58\nPelícula 902: 4.28\nPelícula 904: 3.30\nPelícula 906: 3.52\nPelícula 908: 3.31\nPelícula 910: 3.60\nPelícula 912: 3.72\nPelícula 914: 4.28\nPelícula 916: 3.95\nPelícula 918: 2.96\nPelícula 920: 3.46\nPelícula 922: 3.58\nPelícula 924: 3.99\nPelícula 926: 4.25\nPelícula 928: 4.33\nPelícula 930: 3.05\nPelícula 932: 4.45\nPelícula 934: 2.99\nPelícula 936: 3.51\nPelícula 938: 3.87\nPelícula 940: 3.19\nPelícula 942: 4.04\nPelícula 944: 3.84\nPelícula 946: 4.30\nPelícula 948: 3.74\nPelícula 950: 2.96\nPelícula 952: 3.99\nPelícula 954: 3.78\nPelícula 956: 3.99\nPelícula 958: 3.91\nPelícula 960: 3.94\nPelícula 962: 4.04\nPelícula 964: 3.72\nPelícula 966: 3.56\nPelícula 968: 4.13\nPelícula 970: 3.15\nPelícula 972: 3.37\nPelícula 974: 3.73\nPelícula 976: 3.36\nPelícula 978: 3.89\nPelícula 980: 3.22\nPelícula 982: 4.18\nPelícula 984: 3.54\nPelícula 986: 3.77\nPelícula 988: 3.85\nPelícula 990: 3.55\nPelícula 992: 3.42\nPelícula 994: 4.15\nPelícula 996: 3.94\nPelícula 998: 4.12\nPelícula 1000: 4.13\nPelícula 1002: 4.14\nPelícula 1004: 3.16\nPelícula 1006: 3.07\nPelícula 1008: 3.84\nPelícula 1010: 2.48\nPelícula 1012: 3.36\nPelícula 1014: 3.49\nPelícula 1016: 3.79\nPelícula 1018: 4.16\nPelícula 1020: 3.99\nPelícula 1022: 3.56\nPelícula 1024: 3.70\nPelícula 1026: 4.00\nPelícula 1028: 3.97\nPelícula 1030: 3.58\nPelícula 1032: 3.94\nPelícula 1034: 3.48\nPelícula 1036: 4.32\nPelícula 1038: 3.93\nPelícula 1040: 4.24\nPelícula 1042: 2.76\nPelícula 1044: 3.76\nPelícula 1046: 3.88\nPelícula 1048: 4.00\nPelícula 1050: 2.90\nPelícula 1052: 4.34\nPelícula 1054: 3.89\nPelícula 1056: 3.47\nPelícula 1058: 3.80\nPelícula 1060: 3.35\nPelícula 1062: 4.48\nPelícula 1064: 3.71\nPelícula 1066: 3.53\nPelícula 1068: 3.73\nPelícula 1070: 3.62\nPelícula 1072: 4.05\nPelícula 1074: 3.45\nPelícula 1076: 3.24\nPelícula 1078: 3.98\nPelícula 1080: 3.74\nPelícula 1082: 4.33\nPelícula 1084: 3.15\nPelícula 1086: 3.86\nPelícula 1088: 3.34\nPelícula 1090: 3.37\nPelícula 1092: 4.06\nPelícula 1094: 3.62\nPelícula 1096: 2.59\nPelícula 1098: 4.19\nPelícula 1100: 2.20\nPelícula 1102: 2.26\nPelícula 1104: 3.83\nPelícula 1106: 3.78\nPelícula 1108: 4.11\nPelícula 1110: 4.33\nPelícula 1112: 3.44\nPelícula 1114: 3.46\nPelícula 1116: 3.87\nPelícula 1118: 3.67\nPelícula 1120: 3.76\nPelícula 1122: 3.23\nPelícula 1124: 3.77\nPelícula 1126: 3.76\nPelícula 1128: 3.22\nPelícula 1130: 3.85\nPelícula 1132: 4.34\nPelícula 1134: 4.42\nPelícula 1136: 3.27\nPelícula 1138: 3.66\nPelícula 1140: 3.76\nPelícula 1142: 3.37\nPelícula 1144: 3.77\nPelícula 1146: 2.80\nPelícula 1148: 3.80\nPelícula 1150: 2.59\nPelícula 1152: 2.57\nPelícula 1154: 3.38\nPelícula 1156: 3.58\nPelícula 1158: 3.64\nPelícula 1160: 3.07\nPelícula 1162: 3.55\nPelícula 1164: 3.44\nPelícula 1166: 3.50\nPelícula 1168: 3.45\nPelícula 1170: 4.01\nPelícula 1172: 3.52\nPelícula 1174: 3.12\nPelícula 1176: 4.14\nPelícula 1178: 3.50\nPelícula 1180: 4.46\nPelícula 1182: 3.36\nPelícula 1184: 3.34\nPelícula 1186: 4.30\nPelícula 1188: 4.16\nPelícula 1190: 4.04\nPelícula 1192: 4.38\nPelícula 1194: 3.33\nPelícula 1196: 3.88\nPelícula 1198: 3.66\nPelícula 1200: 3.56\nPelícula 1202: 3.54\nPelícula 1204: 3.49\nPelícula 1206: 3.56\nPelícula 1208: 4.02\nPelícula 1210: 3.90\nPelícula 1212: 3.86\nPelícula 1214: 3.02\nPelícula 1216: 3.69\nPelícula 1218: 3.46\nPelícula 1220: 3.35\nPelícula 1222: 3.22\nPelícula 1224: 4.05\nPelícula 1226: 3.29\nPelícula 1228: 3.78\nPelícula 1230: 3.94\nPelícula 1232: 4.23\nPelícula 1234: 4.29\nPelícula 1236: 3.38\nPelícula 1238: 3.71\nPelícula 1240: 3.07\nPelícula 1242: 3.64\nPelícula 1244: 3.38\nPelícula 1246: 3.57\nPelícula 1248: 3.60\nPelícula 1250: 4.19\nPelícula 1252: 4.03\nPelícula 1254: 4.12\nPelícula 1256: 4.34\nPelícula 1258: 4.26\nPelícula 1260: 3.79\nPelícula 1262: 3.42\nPelícula 1264: 3.59\nPelícula 1266: 3.34\nPelícula 1268: 4.26\nPelícula 1270: 3.03\nPelícula 1272: 3.54\nPelícula 1274: 3.85\nPelícula 1276: 4.16\nPelícula 1278: 4.00\nPelícula 1280: 3.72\nPelícula 1282: 4.10\nPelícula 1284: 3.42\nPelícula 1286: 3.50\nPelícula 1288: 3.76\nPelícula 1290: 4.18\nPelícula 1292: 3.40\nPelícula 1294: 3.93\nPelícula 1296: 3.90\nPelícula 1298: 3.83\nPelícula 1300: 3.48\nPelícula 1302: 4.27\nPelícula 1304: 3.96\nPelícula 1306: 4.15\nPelícula 1308: 3.61\nPelícula 1310: 3.75\nPelícula 1312: 3.27\nPelícula 1314: 2.79\nPelícula 1316: 3.24\nPelícula 1318: 3.05\nPelícula 1320: 4.02\nPelícula 1322: 4.12\nPelícula 1324: 4.04\nPelícula 1326: 3.92\nPelícula 1328: 3.55\nPelícula 1330: 4.26\nPelícula 1332: 3.50\nPelícula 1334: 3.92\nPelícula 1336: 4.09\nPelícula 1338: 4.03\nPelícula 1340: 2.16\nPelícula 1342: 2.98\nPelícula 1344: 3.72\nPelícula 1346: 3.54\nPelícula 1348: 3.80\nPelícula 1350: 3.76\nPelícula 1352: 3.58\nPelícula 1354: 3.40\nPelícula 1356: 2.63\nPelícula 1358: 3.16\nPelícula 1360: 3.55\nPelícula 1362: 3.45\nPelícula 1364: 4.00\nPelícula 1366: 3.51\nPelícula 1368: 4.11\nPelícula 1370: 3.14\nPelícula 1372: 3.00\nPelícula 1374: 3.92\nPelícula 1376: 3.88\nPelícula 1378: 4.53\nPelícula 1380: 3.32\nPelícula 1382: 4.14\nPelícula 1384: 3.45\nPelícula 1386: 3.95\nPelícula 1388: 4.02\nPelícula 1390: 3.84\nPelícula 1392: 3.40\nPelícula 1394: 3.00\nPelícula 1396: 3.73\nPelícula 1398: 3.71\nPelícula 1400: 4.17\nPelícula 1402: 4.12\nPelícula 1404: 2.80\nPelícula 1406: 3.80\nPelícula 1408: 3.14\nPelícula 1410: 4.06\nPelícula 1412: 3.33\nPelícula 1414: 3.78\nPelícula 1416: 3.55\nPelícula 1418: 2.95\nPelícula 1420: 3.73\nPelícula 1422: 3.01\nPelícula 1424: 3.41\nPelícula 1426: 3.49\nPelícula 1428: 4.21\nPelícula 1430: 4.16\nPelícula 1432: 3.54\nPelícula 1434: 2.41\nPelícula 1436: 3.97\nPelícula 1438: 3.48\nPelícula 1440: 3.35\nPelícula 1442: 3.30\nPelícula 1444: 3.69\nPelícula 1446: 4.45\nPelícula 1448: 3.78\nPelícula 1450: 2.99\nPelícula 1452: 4.15\nPelícula 1454: 3.86\nPelícula 1456: 4.05\nPelícula 1458: 3.99\nPelícula 1460: 3.04\nPelícula 1462: 3.50\nPelícula 1464: 3.68\nPelícula 1466: 3.63\nPelícula 1468: 3.52\nPelícula 1470: 2.69\nPelícula 1472: 3.60\nPelícula 1474: 3.78\nPelícula 1476: 3.76\nPelícula 1478: 3.94\nPelícula 1480: 3.40\nPelícula 1482: 3.23\nPelícula 1484: 3.61\nPelícula 1486: 3.58\nPelícula 1488: 4.10\nPelícula 1490: 4.10\nPelícula 1492: 3.21\nPelícula 1494: 3.80\nPelícula 1496: 2.86\nPelícula 1498: 3.83\nPelícula 1500: 3.90\nPelícula 1502: 3.40\nPelícula 1504: 3.64\nPelícula 1506: 3.81\nPelícula 1508: 3.31\nPelícula 1510: 3.61\nPelícula 1512: 3.24\nPelícula 1514: 3.76\nPelícula 1516: 3.12\nPelícula 1518: 4.48\nPelícula 1520: 4.00\nPelícula 1522: 3.64\nPelícula 1524: 3.74\nPelícula 1526: 4.16\nPelícula 1528: 4.09\nPelícula 1530: 3.85\nPelícula 1532: 4.10\nPelícula 1534: 3.62\nPelícula 1536: 4.22\nPelícula 1538: 3.99\nPelícula 1540: 3.81\nPelícula 1542: 3.67\nPelícula 1544: 3.69\nPelícula 1546: 3.75\nPelícula 1548: 3.58\nPelícula 1550: 3.93\nPelícula 1552: 3.69\nPelícula 1554: 3.81\nPelícula 1556: 3.21\nPelícula 1558: 4.12\nPelícula 1560: 3.49\nPelícula 1562: 2.87\nPelícula 1564: 3.06\nPelícula 1566: 3.50\nPelícula 1568: 4.00\nPelícula 1570: 3.55\nPelícula 1572: 3.18\nPelícula 1574: 3.60\nPelícula 1576: 3.88\nPelícula 1578: 4.16\nPelícula 1580: 3.54\nPelícula 1582: 3.64\nPelícula 1584: 3.33\nPelícula 1586: 4.42\nPelícula 1588: 4.17\nPelícula 1590: 4.00\nPelícula 1592: 3.62\nPelícula 1594: 3.73\nPelícula 1596: 3.57\nPelícula 1598: 3.49\nPelícula 1600: 3.43\nPelícula 1602: 4.10\nPelícula 1604: 4.17\nPelícula 1606: 3.79\nPelícula 1608: 2.08\nPelícula 1610: 3.96\nPelícula 1612: 3.65\nPelícula 1614: 3.39\nPelícula 1616: 3.13\nPelícula 1618: 4.21\nPelícula 1620: 3.94\nPelícula 1622: 3.73\nPelícula 1624: 3.01\nPelícula 1626: 3.44\nPelícula 1628: 3.75\nPelícula 1630: 2.26\nPelícula 1632: 2.78\nPelícula 1634: 3.58\nPelícula 1636: 2.80\nPelícula 1638: 4.21\nPelícula 1640: 2.47\nPelícula 1642: 3.50\nPelícula 1644: 3.06\nPelícula 1646: 3.06\nPelícula 1648: 3.44\nPelícula 1650: 3.65\nPelícula 1652: 3.37\nPelícula 1654: 4.45\nPelícula 1656: 3.48\nPelícula 1658: 3.42\nPelícula 1660: 3.97\nPelícula 1662: 3.64\nPelícula 1664: 3.40\nPelícula 1666: 3.34\nPelícula 1668: 4.00\nPelícula 1670: 4.71\nPelícula 1672: 3.74\nPelícula 1674: 3.73\nPelícula 1676: 3.49\nPelícula 1678: 3.45\nPelícula 1680: 3.56\nPelícula 1682: 4.41\nPelícula 1684: 4.03\nPelícula 1686: 3.54\nPelícula 1688: 3.58\nPelícula 1690: 3.52\nPelícula 1692: 4.48\nPelícula 1694: 3.74\nPelícula 1696: 3.62\nPelícula 1698: 3.93\nPelícula 1700: 3.53\nPelícula 1702: 4.55\nPelícula 1704: 4.19\nPelícula 1706: 3.80\nPelícula 1708: 3.86\nPelícula 1710: 3.66\nPelícula 1712: 3.51\nPelícula 1714: 3.51\nPelícula 1716: 3.48\nPelícula 1718: 4.47\nPelícula 1720: 4.02\nPelícula 1722: 4.24\nPelícula 1724: 4.10\nPelícula 1726: 2.35\nPelícula 1728: 4.21\nPelícula 1730: 3.50\nPelícula 1732: 4.47\nPelícula 1734: 4.27\nPelícula 1736: 3.24\nPelícula 1738: 3.73\nPelícula 1740: 4.00\nPelícula 1742: 3.62\nPelícula 1744: 4.06\nPelícula 1746: 4.40\nPelícula 1748: 3.49\nPelícula 1750: 2.97\nPelícula 1752: 3.83\nPelícula 1754: 3.00\nPelícula 1756: 3.20\nPelícula 1758: 3.95\nPelícula 1760: 3.80\nPelícula 1762: 3.85\nPelícula 1764: 4.09\nPelícula 1766: 3.23\nPelícula 1768: 3.49\nPelícula 1770: 3.27\nPelícula 1772: 3.38\nPelícula 1774: 3.27\nPelícula 1776: 3.27\nPelícula 1778: 3.54\nPelícula 1780: 2.96\nPelícula 1782: 3.58\nPelícula 1784: 2.98\nPelícula 1786: 4.02\nPelícula 1788: 3.84\nPelícula 1790: 3.87\nPelícula 1792: 3.87\nPelícula 1794: 2.43\nPelícula 1796: 3.99\nPelícula 1798: 3.60\nPelícula 1800: 3.62\nPelícula 1802: 4.03\nPelícula 1804: 3.41\nPelícula 1806: 4.23\nPelícula 1808: 3.42\nPelícula 1810: 3.77\nPelícula 1812: 3.78\nPelícula 1814: 3.63\nPelícula 1816: 4.10\nPelícula 1818: 3.65\nPelícula 1820: 3.68\nPelícula 1822: 3.85\nPelícula 1824: 3.36\nPelícula 1826: 3.60\nPelícula 1828: 3.37\nPelícula 1830: 4.10\nPelícula 1832: 3.93\nPelícula 1834: 4.09\nPelícula 1836: 4.17\nPelícula 1838: 3.07\nPelícula 1840: 3.92\nPelícula 1842: 4.13\nPelícula 1844: 3.65\nPelícula 1846: 4.03\nPelícula 1848: 3.77\nPelícula 1850: 3.84\nPelícula 1852: 3.52\nPelícula 1854: 2.82\nPelícula 1856: 4.69\nPelícula 1858: 3.96\nPelícula 1860: 3.31\nPelícula 1862: 4.40\nPelícula 1864: 3.30\nPelícula 1866: 4.09\nPelícula 1868: 3.63\nPelícula 1870: 3.80\nPelícula 1872: 3.82\nPelícula 1874: 3.59\nPelícula 1876: 3.45\nPelícula 1878: 3.65\nPelícula 1880: 3.34\nPelícula 1882: 3.78\nPelícula 1884: 3.87\nPelícula 1886: 3.92\nPelícula 1888: 3.62\nPelícula 1890: 3.52\nPelícula 1892: 4.27\nPelícula 1894: 4.24\nPelícula 1896: 4.15\nPelícula 1898: 3.92\nPelícula 1900: 3.67\nPelícula 1902: 3.65\nPelícula 1904: 3.27\nPelícula 1906: 3.65\nPelícula 1908: 3.18\nPelícula 1910: 3.64\nPelícula 1912: 2.49\nPelícula 1914: 3.74\nPelícula 1916: 3.94\nPelícula 1918: 3.00\nPelícula 1920: 3.39\nPelícula 1922: 3.46\nPelícula 1924: 3.15\nPelícula 1926: 4.09\nPelícula 1928: 3.84\nPelícula 1930: 3.17\nPelícula 1932: 3.67\nPelícula 1934: 3.08\nPelícula 1936: 3.71\nPelícula 1938: 3.13\nPelícula 1940: 4.67\nPelícula 1942: 2.86\nPelícula 1944: 3.91\nPelícula 1946: 3.86\nPelícula 1948: 3.11\nPelícula 1950: 3.52\nPelícula 1952: 3.49\nPelícula 1954: 3.93\nPelícula 1956: 3.12\nPelícula 1958: 3.27\nPelícula 1960: 3.87\nPelícula 1962: 2.67\nPelícula 1964: 3.64\nPelícula 1966: 4.36\nPelícula 1968: 2.76\nPelícula 1970: 3.58\nPelícula 1972: 4.41\nPelícula 1974: 3.76\nPelícula 1976: 3.89\nPelícula 1978: 3.47\nPelícula 1980: 3.48\nPelícula 1982: 3.43\nPelícula 1984: 3.57\nPelícula 1986: 4.59\nPelícula 1988: 3.52\nPelícula 1990: 3.86\nPelícula 1992: 2.92\nPelícula 1994: 4.10\nPelícula 1996: 3.99\nPelícula 1998: 3.87\nPelícula 2000: 3.79\nPelícula 2002: 4.10\nPelícula 2004: 3.72\nPelícula 2006: 3.80\nPelícula 2008: 3.94\nPelícula 2010: 2.46\nPelícula 2012: 2.81\nPelícula 2014: 4.26\nPelícula 2016: 3.99\nPelícula 2018: 3.94\nPelícula 2020: 3.53\nPelícula 2022: 3.83\nPelícula 2024: 3.38\nPelícula 2026: 3.54\nPelícula 2028: 3.67\nPelícula 2030: 3.98\nPelícula 2032: 3.68\nPelícula 2034: 4.22\nPelícula 2036: 3.94\nPelícula 2038: 3.82\nPelícula 2040: 3.37\nPelícula 2042: 3.14\nPelícula 2044: 4.12\nPelícula 2046: 3.59\nPelícula 2048: 4.14\nPelícula 2050: 3.90\nPelícula 2052: 2.90\nPelícula 2054: 3.41\nPelícula 2056: 4.10\nPelícula 2058: 3.32\nPelícula 2060: 3.12\nPelícula 2062: 4.15\nPelícula 2064: 4.00\nPelícula 2066: 4.07\nPelícula 2068: 3.95\nPelícula 2070: 4.41\nPelícula 2072: 4.00\nPelícula 2074: 3.47\nPelícula 2076: 3.48\nPelícula 2078: 3.74\nPelícula 2080: 4.28\nPelícula 2082: 4.34\nPelícula 2084: 3.95\nPelícula 2086: 3.70\nPelícula 2088: 3.88\nPelícula 2090: 3.77\nPelícula 2092: 3.57\nPelícula 2094: 4.06\nPelícula 2096: 4.18\nPelícula 2098: 3.25\nPelícula 2100: 3.71\nPelícula 2102: 2.65\nPelícula 2104: 3.09\nPelícula 2106: 2.25\nPelícula 2108: 4.36\nPelícula 2110: 3.24\nPelícula 2112: 3.48\nPelícula 2114: 3.67\nPelícula 2116: 3.56\nPelícula 2118: 4.51\nPelícula 2120: 3.45\nPelícula 2122: 3.62\nPelícula 2124: 4.26\nPelícula 2126: 2.80\nPelícula 2128: 3.75\nPelícula 2130: 3.42\nPelícula 2132: 2.57\nPelícula 2134: 3.59\nPelícula 2136: 3.92\nPelícula 2138: 3.75\nPelícula 2140: 3.79\nPelícula 2142: 3.53\nPelícula 2144: 3.29\nPelícula 2146: 3.32\nPelícula 2148: 3.92\nPelícula 2150: 3.62\nPelícula 2152: 3.65\nPelícula 2154: 3.98\nPelícula 2156: 3.40\nPelícula 2158: 3.93\nPelícula 2160: 3.95\nPelícula 2162: 3.94\nPelícula 2164: 3.66\nPelícula 2166: 3.69\nPelícula 2168: 3.94\nPelícula 2170: 4.23\nPelícula 2172: 3.06\nPelícula 2174: 3.58\nPelícula 2176: 4.22\nPelícula 2178: 4.29\nPelícula 2180: 2.84\nPelícula 2182: 3.67\nPelícula 2184: 4.23\nPelícula 2186: 3.44\nPelícula 2188: 3.06\nPelícula 2190: 3.89\nPelícula 2192: 3.83\nPelícula 2194: 2.87\nPelícula 2196: 3.97\nPelícula 2198: 3.64\nPelícula 2200: 3.11\nPelícula 2202: 3.28\nPelícula 2204: 3.52\nPelícula 2206: 3.74\nPelícula 2208: 3.51\nPelícula 2210: 3.69\nPelícula 2212: 3.16\nPelícula 2214: 4.16\nPelícula 2216: 2.90\nPelícula 2218: 3.88\nPelícula 2220: 4.03\nPelícula 2222: 3.51\nPelícula 2224: 4.24\nPelícula 2226: 3.67\nPelícula 2228: 3.95\nPelícula 2230: 3.19\nPelícula 2232: 4.05\nPelícula 2234: 3.90\nPelícula 2236: 3.69\nPelícula 2238: 3.75\nPelícula 2240: 4.28\nPelícula 2242: 3.65\nPelícula 2244: 3.40\nPelícula 2246: 3.67\nPelícula 2248: 3.75\nPelícula 2250: 3.07\nPelícula 2252: 3.48\nPelícula 2254: 3.96\nPelícula 2256: 4.00\nPelícula 2258: 3.45\nPelícula 2260: 3.64\nPelícula 2262: 3.68\nPelícula 2264: 3.63\nPelícula 2266: 4.05\nPelícula 2268: 4.26\nPelícula 2270: 3.45\nPelícula 2272: 3.92\nPelícula 2274: 3.77\nPelícula 2276: 4.32\nPelícula 2278: 3.42\nPelícula 2280: 4.11\nPelícula 2282: 4.03\nPelícula 2284: 3.88\nPelícula 2286: 3.60\nPelícula 2288: 3.03\nPelícula 2290: 3.34\nPelícula 2292: 3.10\nPelícula 2294: 4.11\nPelícula 2296: 3.32\nPelícula 2298: 3.33\nPelícula 2300: 3.88\nPelícula 2302: 3.60\nPelícula 2304: 3.72\nPelícula 2306: 3.63\nPelícula 2308: 4.25\nPelícula 2310: 3.86\nPelícula 2312: 3.63\nPelícula 2314: 3.11\nPelícula 2316: 3.91\nPelícula 2318: 2.74\nPelícula 2320: 3.28\nPelícula 2322: 3.70\nPelícula 2324: 4.03\nPelícula 2326: 3.89\nPelícula 2328: 3.29\nPelícula 2330: 3.01\nPelícula 2332: 4.07\nPelícula 2334: 3.73\nPelícula 2336: 3.95\nPelícula 2338: 3.85\nPelícula 2340: 4.36\nPelícula 2342: 3.82\nPelícula 2344: 3.44\nPelícula 2346: 3.65\nPelícula 2348: 3.15\nPelícula 2350: 3.86\nPelícula 2352: 2.71\nPelícula 2354: 3.62\nPelícula 2356: 3.62\nPelícula 2358: 3.86\nPelícula 2360: 3.59\nPelícula 2362: 3.73\nPelícula 2364: 4.14\nPelícula 2366: 3.39\nPelícula 2368: 4.24\nPelícula 2370: 4.09\nPelícula 2372: 4.35\nPelícula 2374: 4.11\nPelícula 2376: 3.37\nPelícula 2378: 3.07\nPelícula 2380: 3.38\nPelícula 2382: 3.74\nPelícula 2384: 4.10\nPelícula 2386: 3.63\nPelícula 2388: 4.05\nPelícula 2390: 3.95\nPelícula 2392: 4.02\nPelícula 2394: 3.97\nPelícula 2396: 4.08\nPelícula 2398: 4.08\nPelícula 2400: 3.34\nPelícula 2402: 3.31\nPelícula 2404: 3.93\nPelícula 2406: 3.94\nPelícula 2408: 3.75\nPelícula 2410: 3.62\nPelícula 2412: 3.83\nPelícula 2414: 4.16\nPelícula 2416: 3.70\nPelícula 2418: 3.09\nPelícula 2420: 4.23\nPelícula 2422: 4.14\nPelícula 2424: 3.29\nPelícula 2426: 3.89\nPelícula 2428: 3.67\nPelícula 2430: 3.40\nPelícula 2432: 3.86\nPelícula 2434: 3.62\nPelícula 2436: 3.59\nPelícula 2438: 3.58\nPelícula 2440: 3.43\nPelícula 2442: 3.86\nPelícula 2444: 3.34\nPelícula 2446: 3.87\nPelícula 2448: 3.88\nPelícula 2450: 3.33\nPelícula 2452: 4.10\nPelícula 2454: 3.42\nPelícula 2456: 3.15\nPelícula 2458: 3.50\nPelícula 2460: 4.12\nPelícula 2462: 3.54\nPelícula 2464: 3.80\nPelícula 2466: 2.92\nPelícula 2468: 4.21\nPelícula 2470: 3.35\nPelícula 2472: 3.60\nPelícula 2474: 4.25\nPelícula 2476: 4.16\nPelícula 2478: 3.55\nPelícula 2480: 3.87\nPelícula 2482: 3.50\nPelícula 2484: 3.37\nPelícula 2486: 3.81\nPelícula 2488: 4.20\nPelícula 2490: 3.55\nPelícula 2492: 3.76\nPelícula 2494: 3.00\nPelícula 2496: 2.99\nPelícula 2498: 3.17\nPelícula 2500: 3.64\nPelícula 2502: 3.90\nPelícula 2504: 3.56\nPelícula 2506: 3.35\nPelícula 2508: 3.57\nPelícula 2510: 4.53\nPelícula 2512: 3.87\nPelícula 2514: 4.42\nPelícula 2516: 3.77\nPelícula 2518: 3.98\nPelícula 2520: 4.10\nPelícula 2522: 3.69\nPelícula 2524: 3.42\nPelícula 2526: 3.88\nPelícula 2528: 3.24\nPelícula 2530: 3.85\nPelícula 2532: 4.10\nPelícula 2534: 3.47\nPelícula 2536: 3.16\nPelícula 2538: 3.88\nPelícula 2540: 3.97\nPelícula 2542: 3.88\nPelícula 2544: 3.69\nPelícula 2546: 3.32\nPelícula 2548: 3.93\nPelícula 2550: 3.70\nPelícula 2552: 3.62\n\n*** WARNING: max output size exceeded, skipping output. ***\n\nPelícula 1453: 3.57\nPelícula 1455: 3.75\nPelícula 1457: 3.95\nPelícula 1459: 4.05\nPelícula 1461: 3.34\nPelícula 1463: 3.59\nPelícula 1465: 3.74\nPelícula 1467: 3.53\nPelícula 1469: 4.06\nPelícula 1471: 3.81\nPelícula 1473: 2.97\nPelícula 1475: 3.90\nPelícula 1477: 4.06\nPelícula 1479: 4.10\nPelícula 1481: 4.38\nPelícula 1483: 3.10\nPelícula 1485: 3.91\nPelícula 1487: 3.22\nPelícula 1489: 2.44\nPelícula 1491: 3.25\nPelícula 1493: 3.75\nPelícula 1495: 2.62\nPelícula 1497: 3.86\nPelícula 1499: 3.94\nPelícula 1501: 3.73\nPelícula 1503: 3.51\nPelícula 1505: 3.74\nPelícula 1507: 4.19\nPelícula 1509: 2.98\nPelícula 1511: 4.09\nPelícula 1513: 4.06\nPelícula 1515: 3.75\nPelícula 1517: 3.61\nPelícula 1519: 3.53\nPelícula 1521: 3.26\nPelícula 1523: 3.72\nPelícula 1525: 3.66\nPelícula 1527: 3.15\nPelícula 1529: 3.77\nPelícula 1531: 3.46\nPelícula 1533: 3.84\nPelícula 1535: 3.90\nPelícula 1537: 3.76\nPelícula 1539: 4.37\nPelícula 1541: 4.42\nPelícula 1543: 3.46\nPelícula 1545: 3.10\nPelícula 1547: 3.93\nPelícula 1549: 3.62\nPelícula 1551: 3.94\nPelícula 1553: 3.72\nPelícula 1555: 4.35\nPelícula 1557: 3.98\nPelícula 1559: 3.59\nPelícula 1561: 4.01\nPelícula 1563: 3.81\nPelícula 1565: 3.74\nPelícula 1567: 3.89\nPelícula 1569: 4.59\nPelícula 1571: 3.95\nPelícula 1573: 3.69\nPelícula 1575: 3.87\nPelícula 1577: 4.10\nPelícula 1579: 3.45\nPelícula 1581: 3.22\nPelícula 1583: 3.73\nPelícula 1585: 3.61\nPelícula 1587: 3.33\nPelícula 1589: 3.78\nPelícula 1591: 4.34\nPelícula 1593: 3.04\nPelícula 1595: 4.05\nPelícula 1597: 3.56\nPelícula 1599: 3.30\nPelícula 1601: 3.91\nPelícula 1603: 3.84\nPelícula 1605: 3.31\nPelícula 1607: 3.18\nPelícula 1609: 3.42\nPelícula 1611: 3.57\nPelícula 1613: 3.43\nPelícula 1615: 3.05\nPelícula 1617: 3.08\nPelícula 1619: 4.03\nPelícula 1621: 3.14\nPelícula 1623: 4.21\nPelícula 1625: 3.36\nPelícula 1627: 2.98\nPelícula 1629: 3.49\nPelícula 1631: 3.84\nPelícula 1633: 2.97\nPelícula 1635: 3.78\nPelícula 1637: 3.99\nPelícula 1639: 3.66\nPelícula 1641: 2.68\nPelícula 1643: 4.29\nPelícula 1645: 4.06\nPelícula 1647: 3.23\nPelícula 1649: 3.84\nPelícula 1651: 3.20\nPelícula 1653: 3.92\nPelícula 1655: 3.80\nPelícula 1657: 3.89\nPelícula 1659: 2.77\nPelícula 1661: 3.89\nPelícula 1663: 4.13\nPelícula 1665: 3.68\nPelícula 1667: 3.41\nPelícula 1669: 3.73\nPelícula 1671: 3.86\nPelícula 1673: 4.37\nPelícula 1675: 3.21\nPelícula 1677: 3.56\nPelícula 1679: 3.93\nPelícula 1681: 4.13\nPelícula 1683: 3.49\nPelícula 1685: 3.57\nPelícula 1687: 3.53\nPelícula 1689: 3.61\nPelícula 1691: 3.52\nPelícula 1693: 3.74\nPelícula 1695: 3.65\nPelícula 1697: 4.18\nPelícula 1699: 4.31\nPelícula 1701: 3.55\nPelícula 1703: 4.08\nPelícula 1705: 3.69\nPelícula 1707: 4.33\nPelícula 1709: 3.70\nPelícula 1711: 3.62\nPelícula 1713: 3.33\nPelícula 1715: 3.46\nPelícula 1717: 3.82\nPelícula 1719: 2.77\nPelícula 1721: 2.37\nPelícula 1723: 3.67\nPelícula 1725: 3.75\nPelícula 1727: 4.04\nPelícula 1729: 3.09\nPelícula 1731: 3.40\nPelícula 1733: 3.53\nPelícula 1735: 3.23\nPelícula 1737: 3.41\nPelícula 1739: 3.77\nPelícula 1741: 3.98\nPelícula 1743: 3.97\nPelícula 1745: 3.71\nPelícula 1747: 2.14\nPelícula 1749: 2.92\nPelícula 1751: 4.43\nPelícula 1753: 3.94\nPelícula 1755: 3.57\nPelícula 1757: 3.69\nPelícula 1759: 3.72\nPelícula 1761: 2.16\nPelícula 1763: 3.77\nPelícula 1765: 3.98\nPelícula 1767: 3.58\nPelícula 1769: 2.75\nPelícula 1771: 4.33\nPelícula 1773: 3.77\nPelícula 1775: 3.72\nPelícula 1777: 3.89\nPelícula 1779: 3.30\nPelícula 1781: 3.42\nPelícula 1783: 3.57\nPelícula 1785: 3.06\nPelícula 1787: 3.32\nPelícula 1789: 4.17\nPelícula 1791: 3.59\nPelícula 1793: 3.40\nPelícula 1795: 4.32\nPelícula 1797: 4.18\nPelícula 1799: 3.52\nPelícula 1801: 3.95\nPelícula 1803: 3.43\nPelícula 1805: 4.09\nPelícula 1807: 3.64\nPelícula 1809: 3.14\nPelícula 1811: 3.90\nPelícula 1813: 3.50\nPelícula 1815: 3.79\nPelícula 1817: 3.02\nPelícula 1819: 3.73\nPelícula 1821: 4.04\nPelícula 1823: 4.00\nPelícula 1825: 3.52\nPelícula 1827: 3.59\nPelícula 1829: 3.33\nPelícula 1831: 3.51\nPelícula 1833: 3.31\nPelícula 1835: 4.11\nPelícula 1837: 3.50\nPelícula 1839: 3.98\nPelícula 1841: 2.72\nPelícula 1843: 3.69\nPelícula 1845: 3.21\nPelícula 1847: 4.32\nPelícula 1849: 3.71\nPelícula 1851: 2.70\nPelícula 1853: 4.12\nPelícula 1855: 3.14\nPelícula 1857: 4.27\nPelícula 1859: 3.57\nPelícula 1861: 3.34\nPelícula 1863: 4.50\nPelícula 1865: 3.58\nPelícula 1867: 2.96\nPelícula 1869: 3.92\nPelícula 1871: 3.73\nPelícula 1873: 3.49\nPelícula 1875: 3.62\nPelícula 1877: 3.13\nPelícula 1879: 3.93\nPelícula 1881: 4.33\nPelícula 1883: 3.33\nPelícula 1885: 4.16\nPelícula 1887: 3.38\nPelícula 1889: 3.27\nPelícula 1891: 3.55\nPelícula 1893: 3.75\nPelícula 1895: 4.03\nPelícula 1897: 3.71\nPelícula 1899: 3.79\nPelícula 1901: 4.17\nPelícula 1903: 4.02\nPelícula 1905: 4.11\nPelícula 1907: 3.83\nPelícula 1909: 3.53\nPelícula 1911: 3.55\nPelícula 1913: 4.30\nPelícula 1915: 3.61\nPelícula 1917: 3.90\nPelícula 1919: 3.56\nPelícula 1921: 3.26\nPelícula 1923: 3.28\nPelícula 1925: 3.65\nPelícula 1927: 3.95\nPelícula 1929: 3.56\nPelícula 1931: 3.62\nPelícula 1933: 3.47\nPelícula 1935: 3.48\nPelícula 1937: 3.18\nPelícula 1939: 3.78\nPelícula 1941: 3.05\nPelícula 1943: 3.62\nPelícula 1945: 2.79\nPelícula 1947: 3.95\nPelícula 1949: 4.18\nPelícula 1951: 3.02\nPelícula 1953: 3.79\nPelícula 1955: 3.55\nPelícula 1957: 3.94\nPelícula 1959: 4.51\nPelícula 1961: 3.55\nPelícula 1963: 4.18\nPelícula 1965: 3.12\nPelícula 1967: 3.54\nPelícula 1969: 3.82\nPelícula 1971: 4.27\nPelícula 1973: 3.84\nPelícula 1975: 3.84\nPelícula 1977: 3.63\nPelícula 1979: 3.11\nPelícula 1981: 3.03\nPelícula 1983: 4.14\nPelícula 1985: 3.58\nPelícula 1987: 3.62\nPelícula 1989: 3.33\nPelícula 1991: 4.29\nPelícula 1993: 3.75\nPelícula 1995: 3.90\nPelícula 1997: 4.08\nPelícula 1999: 3.82\nPelícula 2001: 3.59\nPelícula 2003: 4.34\nPelícula 2005: 2.72\nPelícula 2007: 3.90\nPelícula 2009: 4.04\nPelícula 2011: 3.84\nPelícula 2013: 3.90\nPelícula 2015: 3.13\nPelícula 2017: 3.90\nPelícula 2019: 3.56\nPelícula 2021: 3.85\nPelícula 2023: 3.92\nPelícula 2025: 3.68\nPelícula 2027: 4.02\nPelícula 2029: 3.16\nPelícula 2031: 3.56\nPelícula 2033: 2.61\nPelícula 2035: 3.57\nPelícula 2037: 3.45\nPelícula 2039: 3.58\nPelícula 2041: 3.55\nPelícula 2043: 2.57\nPelícula 2045: 4.04\nPelícula 2047: 3.59\nPelícula 2049: 4.11\nPelícula 2051: 3.43\nPelícula 2053: 3.40\nPelícula 2055: 4.17\nPelícula 2057: 3.86\nPelícula 2059: 3.55\nPelícula 2061: 4.30\nPelícula 2063: 2.95\nPelícula 2065: 4.45\nPelícula 2067: 3.57\nPelícula 2069: 3.91\nPelícula 2071: 3.41\nPelícula 2073: 3.70\nPelícula 2075: 3.33\nPelícula 2077: 3.23\nPelícula 2079: 3.47\nPelícula 2081: 3.12\nPelícula 2083: 4.35\nPelícula 2085: 3.66\nPelícula 2087: 3.57\nPelícula 2089: 3.75\nPelícula 2091: 4.09\nPelícula 2093: 3.48\nPelícula 2095: 3.36\nPelícula 2097: 3.29\nPelícula 2099: 3.53\nPelícula 2101: 3.30\nPelícula 2103: 3.87\nPelícula 2105: 3.22\nPelícula 2107: 4.07\nPelícula 2109: 2.90\nPelícula 2111: 3.75\nPelícula 2113: 3.85\nPelícula 2115: 3.86\nPelícula 2117: 4.26\nPelícula 2119: 3.54\nPelícula 2121: 3.67\nPelícula 2123: 4.09\nPelícula 2125: 3.87\nPelícula 2127: 3.21\nPelícula 2129: 3.27\nPelícula 2131: 3.37\nPelícula 2133: 3.25\nPelícula 2135: 3.73\nPelícula 2137: 4.13\nPelícula 2139: 4.13\nPelícula 2141: 4.20\nPelícula 2143: 3.12\nPelícula 2145: 4.06\nPelícula 2147: 3.58\nPelícula 2149: 3.81\nPelícula 2151: 3.18\nPelícula 2153: 3.85\nPelícula 2155: 4.69\nPelícula 2157: 3.49\nPelícula 2159: 4.47\nPelícula 2161: 3.58\nPelícula 2163: 4.10\nPelícula 2165: 4.09\nPelícula 2167: 2.46\nPelícula 2169: 3.81\nPelícula 2171: 4.45\nPelícula 2173: 3.77\nPelícula 2175: 4.14\nPelícula 2177: 3.62\nPelícula 2179: 3.27\nPelícula 2181: 3.33\nPelícula 2183: 3.69\nPelícula 2185: 4.28\nPelícula 2187: 3.73\nPelícula 2189: 3.60\nPelícula 2191: 3.18\nPelícula 2193: 4.00\nPelícula 2195: 3.41\nPelícula 2197: 4.11\nPelícula 2199: 3.07\nPelícula 2201: 4.35\nPelícula 2203: 4.05\nPelícula 2205: 3.08\nPelícula 2207: 4.24\nPelícula 2209: 3.43\nPelícula 2211: 3.97\nPelícula 2213: 3.64\nPelícula 2215: 3.27\nPelícula 2217: 3.20\nPelícula 2219: 3.68\nPelícula 2221: 3.60\nPelícula 2223: 3.09\nPelícula 2225: 3.34\nPelícula 2227: 3.98\nPelícula 2229: 3.49\nPelícula 2231: 3.67\nPelícula 2233: 3.34\nPelícula 2235: 3.91\nPelícula 2237: 3.92\nPelícula 2239: 4.09\nPelícula 2241: 4.25\nPelícula 2243: 4.68\nPelícula 2245: 3.10\nPelícula 2247: 3.92\nPelícula 2249: 3.93\nPelícula 2251: 3.66\nPelícula 2253: 4.10\nPelícula 2255: 3.67\nPelícula 2257: 3.54\nPelícula 2259: 4.47\nPelícula 2261: 3.40\nPelícula 2263: 3.71\nPelícula 2265: 3.64\nPelícula 2267: 3.55\nPelícula 2269: 3.36\nPelícula 2271: 4.11\nPelícula 2273: 3.85\nPelícula 2275: 3.86\nPelícula 2277: 3.39\nPelícula 2279: 3.64\nPelícula 2281: 4.05\nPelícula 2283: 3.70\nPelícula 2285: 3.63\nPelícula 2287: 4.44\nPelícula 2289: 4.05\nPelícula 2291: 4.00\nPelícula 2293: 4.32\nPelícula 2295: 4.41\nPelícula 2297: 4.05\nPelícula 2299: 2.92\nPelícula 2301: 3.88\nPelícula 2303: 4.17\nPelícula 2305: 3.13\nPelícula 2307: 4.39\nPelícula 2309: 3.51\nPelícula 2311: 4.00\nPelícula 2313: 4.42\nPelícula 2315: 2.86\nPelícula 2317: 4.16\nPelícula 2319: 3.77\nPelícula 2321: 3.80\nPelícula 2323: 3.67\nPelícula 2325: 3.36\nPelícula 2327: 3.34\nPelícula 2329: 3.38\nPelícula 2331: 4.21\nPelícula 2333: 3.71\nPelícula 2335: 3.71\nPelícula 2337: 4.18\nPelícula 2339: 4.96\nPelícula 2341: 3.28\nPelícula 2343: 4.19\nPelícula 2345: 3.74\nPelícula 2347: 3.91\nPelícula 2349: 3.10\nPelícula 2351: 3.45\nPelícula 2353: 3.61\nPelícula 2355: 3.56\nPelícula 2357: 3.93\nPelícula 2359: 3.63\nPelícula 2361: 3.61\nPelícula 2363: 4.58\nPelícula 2365: 4.19\nPelícula 2367: 3.79\nPelícula 2369: 4.45\nPelícula 2371: 3.68\nPelícula 2373: 4.10\nPelícula 2375: 3.70\nPelícula 2377: 3.97\nPelícula 2379: 4.19\nPelícula 2381: 3.20\nPelícula 2383: 3.53\nPelícula 2385: 3.78\nPelícula 2387: 3.82\nPelícula 2389: 3.85\nPelícula 2391: 3.69\nPelícula 2393: 3.89\nPelícula 2395: 3.72\nPelícula 2397: 4.00\nPelícula 2399: 3.77\nPelícula 2401: 4.36\nPelícula 2403: 3.47\nPelícula 2405: 3.86\nPelícula 2407: 4.06\nPelícula 2409: 3.88\nPelícula 2411: 3.50\nPelícula 2413: 3.33\nPelícula 2415: 3.67\nPelícula 2417: 4.45\nPelícula 2419: 3.33\nPelícula 2421: 3.82\nPelícula 2423: 4.04\nPelícula 2425: 3.62\nPelícula 2427: 3.88\nPelícula 2429: 3.94\nPelícula 2431: 3.50\nPelícula 2433: 3.65\nPelícula 2435: 3.75\nPelícula 2437: 3.60\nPelícula 2439: 2.88\nPelícula 2441: 4.07\nPelícula 2443: 3.38\nPelícula 2445: 3.54\nPelícula 2447: 4.21\nPelícula 2449: 3.81\nPelícula 2451: 3.05\nPelícula 2453: 3.53\nPelícula 2455: 2.69\nPelícula 2457: 3.17\nPelícula 2459: 3.75\nPelícula 2461: 3.74\nPelícula 2463: 3.22\nPelícula 2465: 4.31\nPelícula 2467: 4.41\nPelícula 2469: 3.71\nPelícula 2471: 3.16\nPelícula 2473: 3.84\nPelícula 2475: 4.05\nPelícula 2477: 4.48\nPelícula 2479: 3.85\nPelícula 2481: 3.91\nPelícula 2483: 3.90\nPelícula 2485: 3.67\nPelícula 2487: 3.70\nPelícula 2489: 3.40\nPelícula 2491: 3.04\nPelícula 2493: 3.53\nPelícula 2495: 3.49\nPelícula 2497: 4.50\nPelícula 2499: 3.62\nPelícula 2501: 3.91\nPelícula 2503: 3.02\nPelícula 2505: 4.09\nPelícula 2507: 3.94\nPelícula 2509: 3.34\nPelícula 2511: 4.21\nPelícula 2513: 4.08\nPelícula 2515: 4.14\nPelícula 2517: 3.30\nPelícula 2519: 3.94\nPelícula 2521: 3.89\nPelícula 2523: 4.01\nPelícula 2525: 3.54\nPelícula 2527: 4.14\nPelícula 2529: 3.69\nPelícula 2531: 3.81\nPelícula 2533: 3.92\nPelícula 2535: 3.98\nPelícula 2537: 3.03\nPelícula 2539: 3.80\nPelícula 2541: 3.32\nPelícula 2543: 4.46\nPelícula 2545: 4.10\nPelícula 2547: 4.14\nPelícula 2549: 3.09\nPelícula 2551: 3.30\nPelícula 2553: 4.13\nPelícula 2555: 3.60\nPelícula 2557: 3.65\nPelícula 2559: 3.84\nPelícula 2561: 3.78\nPelícula 2563: 2.96\nPelícula 2565: 3.72\nPelícula 2567: 3.49\nPelícula 2569: 3.46\nPelícula 2571: 4.07\nPelícula 2573: 4.01\nPelícula 2575: 3.73\nPelícula 2577: 3.15\nPelícula 2579: 4.16\nPelícula 2581: 4.05\nPelícula 2583: 4.34\nPelícula 2585: 3.71\nPelícula 2587: 4.03\nPelícula 2589: 3.52\nPelícula 2591: 3.80\nPelícula 2593: 4.54\nPelícula 2595: 3.35\nPelícula 2597: 3.88\nPelícula 2599: 3.62\nPelícula 2601: 3.79\nPelícula 2603: 3.88\nPelícula 2605: 3.94\nPelícula 2607: 4.18\nPelícula 2609: 4.31\nPelícula 2611: 3.35\nPelícula 2613: 4.09\nPelícula 2615: 3.49\nPelícula 2617: 3.59\nPelícula 2619: 4.24\nPelícula 2621: 2.98\nPelícula 2623: 3.76\nPelícula 2625: 3.39\nPelícula 2627: 3.24\nPelícula 2629: 4.01\nPelícula 2631: 4.27\nPelícula 2633: 3.76\nPelícula 2635: 3.44\nPelícula 2637: 3.41\nPelícula 2639: 3.88\nPelícula 2641: 4.10\nPelícula 2643: 3.40\nPelícula 2645: 3.40\nPelícula 2647: 4.33\nPelícula 2649: 3.15\nPelícula 2651: 3.31\nPelícula 2653: 3.62\nPelícula 2655: 3.13\nPelícula 2657: 4.05\nPelícula 2659: 4.11\nPelícula 2661: 3.61\nPelícula 2663: 3.69\nPelícula 2665: 3.07\nPelícula 2667: 3.41\nPelícula 2669: 3.75\nPelícula 2671: 3.22\nPelícula 2673: 3.75\nPelícula 2675: 3.32\nPelícula 2677: 3.71\nPelícula 2679: 3.78\nPelícula 2681: 3.63\nPelícula 2683: 4.37\nPelícula 2685: 3.60\nPelícula 2687: 4.26\nPelícula 2689: 4.39\nPelícula 2691: 4.49\nPelícula 2693: 3.88\nPelícula 2695: 3.98\nPelícula 2697: 4.41\nPelícula 2699: 4.16\nPelícula 2701: 3.22\nPelícula 2703: 3.68\nPelícula 2705: 4.09\nPelícula 2707: 3.52\nPelícula 2709: 2.75\nPelícula 2711: 2.50\nPelícula 2713: 2.72\nPelícula 2715: 3.33\nPelícula 2717: 3.76\nPelícula 2719: 4.15\nPelícula 2721: 3.82\nPelícula 2723: 3.43\nPelícula 2725: 3.63\nPelícula 2727: 3.35\nPelícula 2729: 4.48\nPelícula 2731: 4.27\nPelícula 2733: 4.43\nPelícula 2735: 3.42\nPelícula 2737: 3.55\nPelícula 2739: 3.41\nPelícula 2741: 4.00\nPelícula 2743: 3.57\nPelícula 2745: 3.85\nPelícula 2747: 4.30\nPelícula 2749: 3.96\nPelícula 2751: 3.43\nPelícula 2753: 3.78\nPelícula 2755: 4.43\nPelícula 2757: 3.95\nPelícula 2759: 3.55\nPelícula 2761: 3.52\nPelícula 2763: 2.76\nPelícula 2765: 3.62\nPelícula 2767: 3.27\nPelícula 2769: 3.75\nPelícula 2771: 2.94\nPelícula 2773: 4.07\nPelícula 2775: 4.38\nPelícula 2777: 3.50\nPelícula 2779: 3.94\nPelícula 2781: 4.26\nPelícula 2783: 3.91\nPelícula 2785: 3.15\nPelícula 2787: 3.97\nPelícula 2789: 3.78\nPelícula 2791: 4.56\nPelícula 2793: 4.07\nPelícula 2795: 3.62\nPelícula 2797: 3.00\nPelícula 2799: 4.13\nPelícula 2801: 3.18\nPelícula 2803: 3.79\nPelícula 2805: 3.90\nPelícula 2807: 3.39\nPelícula 2809: 4.34\nPelícula 2811: 3.67\nPelícula 2813: 3.00\nPelícula 2815: 3.69\nPelícula 2817: 4.21\nPelícula 2819: 3.90\nPelícula 2821: 3.63\nPelícula 2823: 2.91\nPelícula 2825: 3.96\nPelícula 2827: 3.24\nPelícula 2829: 2.95\nPelícula 2831: 4.22\nPelícula 2833: 3.30\nPelícula 2835: 3.87\nPelícula 2837: 3.30\nPelícula 2839: 3.31\nPelícula 2841: 4.17\nPelícula 2843: 2.85\nPelícula 2845: 3.94\nPelícula 2847: 2.71\nPelícula 2849: 4.51\nPelícula 2851: 3.58\nPelícula 2853: 3.46\nPelícula 2855: 2.89\nPelícula 2857: 3.16\nPelícula 2859: 4.20\nPelícula 2861: 3.37\nPelícula 2863: 3.64\nPelícula 2865: 3.73\nPelícula 2867: 4.25\nPelícula 2869: 3.73\nPelícula 2871: 3.61\nPelícula 2873: 3.57\nPelícula 2875: 4.31\nPelícula 2877: 3.48\nPelícula 2879: 3.96\nPelícula 2881: 3.82\nPelícula 2883: 2.72\nPelícula 2885: 4.09\nPelícula 2887: 3.52\nPelícula 2889: 3.81\nPelícula 2891: 3.36\nPelícula 2893: 3.86\nPelícula 2895: 3.74\nPelícula 2897: 3.62\nPelícula 2899: 3.95\nPelícula 2901: 4.29\nPelícula 2903: 4.09\nPelícula 2905: 3.70\nPelícula 2907: 3.29\nPelícula 2909: 3.82\nPelícula 2911: 3.63\nPelícula 2913: 3.96\nPelícula 2915: 3.76\nPelícula 2917: 3.53\nPelícula 2919: 3.77\nPelícula 2921: 3.28\nPelícula 2923: 3.95\nPelícula 2925: 3.84\nPelícula 2927: 3.79\nPelícula 2929: 3.93\nPelícula 2931: 3.63\nPelícula 2933: 3.78\nPelícula 2935: 3.42\nPelícula 2937: 3.53\nPelícula 2939: 3.78\nPelícula 2941: 3.46\nPelícula 2943: 4.40\nPelícula 2945: 3.84\nPelícula 2947: 3.71\nPelícula 2949: 3.75\nPelícula 2951: 4.23\nPelícula 2953: 3.20\nPelícula 2955: 3.24\nPelícula 2957: 4.45\nPelícula 2959: 3.97\nPelícula 2961: 3.98\nPelícula 2963: 3.97\nPelícula 2965: 3.59\nPelícula 2967: 3.46\nPelícula 2969: 3.71\nPelícula 2971: 3.83\nPelícula 2973: 3.44\nPelícula 2975: 4.19\nPelícula 2977: 3.24\nPelícula 2979: 4.00\nPelícula 2981: 4.27\nPelícula 2983: 4.36\nPelícula 2985: 3.53\nPelícula 2987: 3.65\nPelícula 2989: 3.74\nPelícula 2991: 3.97\nPelícula 2993: 3.82\nPelícula 2995: 3.85\nPelícula 2997: 4.01\nPelícula 2999: 2.94\nPelícula 3001: 3.99\nPelícula 3003: 3.92\nPelícula 3005: 3.80\nPelícula 3007: 2.87\nPelícula 3009: 4.00\nPelícula 3011: 4.32\nPelícula 3013: 3.45\nPelícula 3015: 3.43\nPelícula 3017: 3.28\nPelícula 3019: 4.15\nPelícula 3021: 3.25\nPelícula 3023: 3.52\nPelícula 3025: 4.11\nPelícula 3027: 4.22\nPelícula 3029: 3.91\nPelícula 3031: 3.90\nPelícula 3033: 3.60\nPelícula 3035: 3.81\nPelícula 3037: 4.22\nPelícula 3039: 4.41\nPelícula 3041: 3.48\nPelícula 3043: 2.78\nPelícula 3045: 4.28\nPelícula 3047: 3.64\nPelícula 3049: 4.27\nPelícula 3051: 3.26\nPelícula 3053: 3.25\nPelícula 3055: 3.51\nPelícula 3057: 3.47\nPelícula 3059: 4.00\nPelícula 3061: 4.12\nPelícula 3063: 3.69\nPelícula 3065: 3.79\nPelícula 3067: 3.75\nPelícula 3069: 2.88\nPelícula 3071: 3.08\nPelícula 3073: 4.54\nPelícula 3075: 3.63\nPelícula 3077: 3.85\nPelícula 3079: 3.88\nPelícula 3081: 4.04\nPelícula 3083: 3.85\nPelícula 3085: 4.17\nPelícula 3087: 3.92\nPelícula 3089: 4.34\nPelícula 3091: 3.75\nPelícula 3093: 3.80\nPelícula 3095: 3.90\nPelícula 3097: 3.63\nPelícula 3099: 3.28\nPelícula 3101: 4.15\nPelícula 3103: 4.13\nPelícula 3105: 3.99\nPelícula 3107: 3.56\nPelícula 3109: 3.53\nPelícula 3111: 3.24\nPelícula 3113: 3.68\nPelícula 3115: 3.42\nPelícula 3117: 4.30\nPelícula 3119: 3.38\nPelícula 3121: 3.47\nPelícula 3123: 3.56\nPelícula 3125: 3.73\nPelícula 3127: 4.12\nPelícula 3129: 3.27\nPelícula 3131: 3.35\nPelícula 3133: 3.29\nPelícula 3135: 4.10\nPelícula 3137: 3.43\nPelícula 3139: 4.12\nPelícula 3141: 4.11\nPelícula 3143: 3.35\nPelícula 3145: 3.73\nPelícula 3147: 3.48\nPelícula 3149: 4.11\nPelícula 3151: 4.12\nPelícula 3153: 3.61\nPelícula 3155: 4.04\nPelícula 3157: 3.56\nPelícula 3159: 4.03\nPelícula 3161: 4.14\nPelícula 3163: 3.93\nPelícula 3165: 3.70\nPelícula 3167: 4.03\nPelícula 3169: 3.77\nPelícula 3171: 4.18\nPelícula 3173: 4.17\nPelícula 3175: 4.09\nPelícula 3177: 4.18\nPelícula 3179: 3.20\nPelícula 3181: 4.36\nPelícula 3183: 3.35\nPelícula 3185: 3.99\nPelícula 3187: 4.33\nPelícula 3189: 3.18\nPelícula 3191: 3.15\nPelícula 3193: 3.15\nPelícula 3195: 3.50\nPelícula 3197: 3.32\nPelícula 3199: 3.47\nPelícula 3201: 4.08\nPelícula 3203: 4.05\nPelícula 3205: 3.41\nPelícula 3207: 4.14\nPelícula 3209: 2.06\nPelícula 3211: 4.05\nPelícula 3213: 3.69\nPelícula 3215: 3.25\nPelícula 3217: 3.86\nPelícula 3219: 3.75\nPelícula 3221: 4.29\nPelícula 3223: 3.56\nPelícula 3225: 3.67\nPelícula 3227: 3.73\nPelícula 3229: 3.40\nPelícula 3231: 4.12\nPelícula 3233: 4.09\nPelícula 3235: 4.11\nPelícula 3237: 3.88\nPelícula 3239: 3.55\nPelícula 3241: 3.71\nPelícula 3243: 3.82\nPelícula 3245: 2.61\nPelícula 3247: 3.90\nPelícula 3249: 3.74\nPelícula 3251: 4.46\nPelícula 3253: 3.86\nPelícula 3255: 3.62\nPelícula 3257: 4.26\nPelícula 3259: 4.05\nPelícula 3261: 3.24\nPelícula 3263: 3.93\nPelícula 3265: 2.85\nPelícula 3267: 3.86\nPelícula 3269: 3.86\nPelícula 3271: 3.82\nPelícula 3273: 4.10\nPelícula 3275: 3.48\nPelícula 3277: 4.05\nPelícula 3279: 2.69\nPelícula 3281: 4.03\nPelícula 3283: 3.60\nPelícula 3285: 3.42\nPelícula 3287: 4.58\nPelícula 3289: 3.84\nPelícula 3291: 3.75\nPelícula 3293: 3.29\nPelícula 3295: 3.82\nPelícula 3297: 3.24\nPelícula 3299: 4.05\nPelícula 3301: 3.70\nPelícula 3303: 4.40\nPelícula 3305: 4.28\nPelícula 3307: 3.62\nPelícula 3309: 3.65\nPelícula 3311: 2.78\nPelícula 3313: 3.61\nPelícula 3315: 4.02\nPelícula 3317: 3.97\nPelícula 3319: 3.44\nPelícula 3321: 4.00\nPelícula 3323: 3.84\nPelícula 3325: 2.46\nPelícula 3327: 3.51\nPelícula 3329: 3.51\nPelícula 3331: 3.61\nPelícula 3333: 3.53\nPelícula 3335: 4.07\nPelícula 3337: 3.72\nPelícula 3339: 4.01\nPelícula 3341: 3.96\nPelícula 3343: 4.12\nPelícula 3345: 3.55\nPelícula 3347: 4.40\nPelícula 3349: 3.69\nPelícula 3351: 4.00\nPelícula 3353: 3.87\nPelícula 3355: 3.94\nPelícula 3357: 4.07\nPelícula 3359: 3.48\nPelícula 3361: 3.84\nPelícula 3363: 3.54\nPelícula 3365: 4.16\nPelícula 3367: 4.26\nPelícula 3369: 3.91\nPelícula 3371: 3.43\nPelícula 3373: 3.50\nPelícula 3375: 3.74\nPelícula 3377: 3.98\nPelícula 3379: 3.72\nPelícula 3381: 3.48\nPelícula 3383: 3.61\nPelícula 3385: 3.33\nPelícula 3387: 3.38\nPelícula 3389: 2.83\nPelícula 3391: 3.72\nPelícula 3393: 3.54\nPelícula 3395: 3.70\nPelícula 3397: 4.07\nPelícula 3399: 3.55\nPelícula 3401: 2.95\nPelícula 3403: 4.14\nPelícula 3405: 4.12\nPelícula 3407: 3.50\nPelícula 3409: 4.20\nPelícula 3411: 2.73\nPelícula 3413: 4.11\nPelícula 3415: 4.01\nPelícula 3417: 3.87\nPelícula 3419: 4.03\nPelícula 3421: 4.33\nPelícula 3423: 3.94\nPelícula 3425: 3.54\nPelícula 3427: 3.76\nPelícula 3429: 3.60\nPelícula 3431: 3.81\nPelícula 3433: 3.02\nPelícula 3435: 3.83\nPelícula 3437: 4.50\nPelícula 3439: 4.10\nPelícula 3441: 2.91\nPelícula 3443: 3.92\nPelícula 3445: 3.88\nPelícula 3447: 3.86\nPelícula 3449: 4.17\nPelícula 3451: 3.87\nPelícula 3453: 3.37\nPelícula 3455: 4.04\nPelícula 3457: 3.52\nPelícula 3459: 3.79\nPelícula 3461: 4.70\nPelícula 3463: 3.89\nPelícula 3465: 3.81\nPelícula 3467: 4.08\nPelícula 3469: 3.88\nPelícula 3471: 3.17\nPelícula 3473: 3.99\nPelícula 3475: 3.02\nPelícula 3477: 3.96\nPelícula 3479: 3.59\nPelícula 3481: 3.98\nPelícula 3483: 3.81\nPelícula 3485: 4.25\nPelícula 3487: 3.53\nPelícula 3489: 2.88\nPelícula 3491: 3.82\nPelícula 3493: 3.58\nPelícula 3495: 3.29\nPelícula 3497: 4.18\nPelícula 3499: 3.49\nPelícula 3501: 4.21\nPelícula 3503: 4.09\nPelícula 3505: 3.62\nPelícula 3507: 3.26\nPelícula 3509: 2.98\nPelícula 3511: 3.88\nPelícula 3513: 3.41\nPelícula 3515: 3.86\nPelícula 3517: 3.87\nPelícula 3519: 3.05\nPelícula 3521: 3.79\nPelícula 3523: 3.82\nPelícula 3525: 3.48\nPelícula 3527: 3.56\nPelícula 3529: 3.04\nPelícula 3531: 4.23\nPelícula 3533: 3.55\nPelícula 3535: 3.97\nPelícula 3537: 2.46\nPelícula 3539: 4.04\nPelícula 3541: 4.23\nPelícula 3543: 3.61\nPelícula 3545: 3.43\nPelícula 3547: 3.54\nPelícula 3549: 3.95\nPelícula 3551: 3.93\nPelícula 3553: 4.09\nPelícula 3555: 3.11\nPelícula 3557: 3.86\nPelícula 3559: 4.39\nPelícula 3561: 3.98\nPelícula 3563: 3.84\nPelícula 3565: 3.17\nPelícula 3567: 3.96\nPelícula 3569: 2.90\nPelícula 3571: 3.37\nPelícula 3573: 3.36\nPelícula 3575: 3.32\nPelícula 3577: 3.73\nPelícula 3579: 3.32\nPelícula 3581: 3.24\nPelícula 3583: 4.20\nPelícula 3585: 3.69\nPelícula 3587: 4.35\nPelícula 3589: 2.49\nPelícula 3591: 3.71\nPelícula 3593: 3.39\nPelícula 3595: 4.00\nPelícula 3597: 3.97\nPelícula 3599: 3.45\nPelícula 3601: 4.13\nPelícula 3603: 2.80\nPelícula 3605: 3.95\nPelícula 3607: 3.44\nPelícula 3609: 3.16\nPelícula 3611: 4.03\nPelícula 3613: 3.86\nPelícula 3615: 3.43\nPelícula 3617: 3.62\nPelícula 3619: 3.68\nPelícula 3621: 3.11\nPelícula 3623: 3.68\nPelícula 3625: 3.28\nPelícula 3627: 3.64\nPelícula 3629: 4.16\nPelícula 3631: 3.88\nPelícula 3633: 4.00\nPelícula 3635: 4.21\nPelícula 3637: 2.98\nPelícula 3639: 2.99\nPelícula 3641: 3.64\nPelícula 3643: 3.49\nPelícula 3645: 3.86\nPelícula 3647: 3.79\nPelícula 3649: 4.25\nPelícula 3651: 3.95\nPelícula 3653: 4.21\nPelícula 3655: 3.78\nPelícula 3657: 4.16\nPelícula 3659: 4.22\nPelícula 3661: 3.92\nPelícula 3663: 3.45\nPelícula 3665: 3.86\nPelícula 3667: 3.93\nPelícula 3669: 3.19\nPelícula 3671: 4.20\nPelícula 3673: 3.90\nPelícula 3675: 3.49\nPelícula 3677: 3.95\nPelícula 3679: 3.56\nPelícula 3681: 3.87\nPelícula 3683: 3.10\nPelícula 3685: 4.07\nPelícula 3687: 3.08\nPelícula 3689: 2.96\nPelícula 3691: 3.67\nPelícula 3693: 3.45\nPelícula 3695: 3.99\nPelícula 3697: 4.03\nPelícula 3699: 4.61\nPelícula 3701: 3.75\nPelícula 3703: 3.30\nPelícula 3705: 3.70\nPelícula 3707: 3.82\nPelícula 3709: 3.27\nPelícula 3711: 4.19\nPelícula 3713: 3.75\nPelícula 3715: 3.75\nPelícula 3717: 3.77\nPelícula 3719: 3.81\nPelícula 3721: 3.71\nPelícula 3723: 4.26\nPelícula 3725: 3.69\nPelícula 3727: 3.23\nPelícula 3729: 3.78\nPelícula 3731: 2.75\nPelícula 3733: 3.82\nPelícula 3735: 3.64\nPelícula 3737: 3.90\nPelícula 3739: 3.55\nPelícula 3741: 3.61\nPelícula 3743: 3.56\nPelícula 3745: 3.30\nPelícula 3747: 4.03\nPelícula 3749: 3.69\nPelícula 3751: 3.39\nPelícula 3753: 3.78\nPelícula 3755: 4.47\nPelícula 3757: 4.26\nPelícula 3759: 4.01\nPelícula 3761: 4.19\nPelícula 3763: 3.89\nPelícula 3765: 4.00\nPelícula 3767: 3.20\nPelícula 3769: 4.29\nPelícula 3771: 2.68\nPelícula 3773: 3.43\nPelícula 3775: 3.81\nPelícula 3777: 3.63\nPelícula 3779: 3.62\nPelícula 3781: 4.48\nPelícula 3783: 3.88\nPelícula 3785: 3.20\nPelícula 3787: 4.05\nPelícula 3789: 4.23\nPelícula 3791: 3.39\nPelícula 3793: 2.79\nPelícula 3795: 4.14\nPelícula 3797: 3.48\nPelícula 3799: 3.99\nPelícula 3801: 3.81\nPelícula 3803: 3.64\nPelícula 3805: 3.78\nPelícula 3807: 3.34\nPelícula 3809: 4.40\nPelícula 3811: 3.80\nPelícula 3813: 4.45\nPelícula 3815: 4.33\nPelícula 3817: 3.45\nPelícula 3819: 4.04\nPelícula 3821: 2.92\nPelícula 3823: 3.95\nPelícula 3825: 2.97\nPelícula 3827: 3.75\nPelícula 3829: 3.01\nPelícula 3831: 3.40\nPelícula 3833: 3.67\nPelícula 3835: 4.47\nPelícula 3837: 3.77\nPelícula 3839: 3.34\nPelícula 3841: 3.34\nPelícula 3843: 2.67\nPelícula 3845: 4.12\nPelícula 3847: 2.73\nPelícula 3849: 3.15\nPelícula 3851: 3.12\nPelícula 3853: 4.25\nPelícula 3855: 3.71\nPelícula 3857: 3.93\nPelícula 3859: 3.41\nPelícula 3861: 3.98\nPelícula 3863: 3.76\nPelícula 3865: 2.84\nPelícula 3867: 4.00\nPelícula 3869: 2.96\nPelícula 3871: 3.30\nPelícula 3873: 3.70\nPelícula 3875: 3.72\nPelícula 3877: 4.41\nPelícula 3879: 3.30\nPelícula 3881: 3.59\nPelícula 3883: 3.25\nPelícula 3885: 3.69\nPelícula 3887: 3.34\nPelícula 3889: 4.29\nPelícula 3891: 4.16\nPelícula 3893: 2.58\nPelícula 3895: 3.30\nPelícula 3897: 4.10\nPelícula 3899: 3.58\nPelícula 3901: 3.55\nPelícula 3903: 3.33\nPelícula 3905: 3.91\nPelícula 3907: 3.58\nPelícula 3909: 3.41\nPelícula 3911: 3.64\nPelícula 3913: 3.66\nPelícula 3915: 3.65\nPelícula 3917: 3.65\nPelícula 3919: 4.07\nPelícula 3921: 3.93\nPelícula 3923: 3.78\nPelícula 3925: 3.97\nPelícula 3927: 3.94\nPelícula 3929: 3.03\nPelícula 3931: 3.51\nPelícula 3933: 3.88\nPelícula 3935: 3.42\nPelícula 3937: 4.27\nPelícula 3939: 3.71\nPelícula 3941: 3.02\nPelícula 3943: 4.22\nPelícula 3945: 3.42\nPelícula 3947: 4.12\nPelícula 3949: 3.82\nPelícula 3951: 3.60\n"
     ]
    }
   ],
   "source": [
    "# calificacion_media.py\n",
    "from pyspark.sql import SparkSession\n",
    "spark = SparkSession.builder.getOrCreate()\n",
    "sc = spark.sparkContext\n",
    "\n",
    "# Cargamos el archivo de ratings\n",
    "ratings_rdd = sc.textFile(\"/FileStore/ratings.txt\")\n",
    "\n",
    "# Paso 1: Dividir las líneas por \"::\" y seleccionar el id de la película y la calificación\n",
    "ratings_rdd = ratings_rdd.map(lambda x: x.split(\"::\"))\n",
    "\n",
    "# Paso 2: Crear un RDD de tuplas (película_id, calificación)\n",
    "movie_ratings_rdd = ratings_rdd.map(lambda x: (int(x[0]), float(x[2])))\n",
    "\n",
    "# Paso 3: Sumar las calificaciones y contar las votaciones por película\n",
    "sum_ratings = movie_ratings_rdd.reduceByKey(lambda x, y: x + y)\n",
    "count_ratings = movie_ratings_rdd.mapValues(lambda x: 1).reduceByKey(lambda x, y: x + y)\n",
    "\n",
    "# Paso 4: Unir las sumas y los conteos para calcular la calificación media\n",
    "average_ratings = sum_ratings.join(count_ratings).mapValues(lambda x: x[0] / x[1])\n",
    "\n",
    "# Paso 5: Mostrar la calificación media de cada película\n",
    "print(\"Calificación media por película:\")\n",
    "for movie, avg_rating in average_ratings.collect():\n",
    "    print(f\"Película {movie}: {avg_rating:.2f}\")\n"
   ]
  },
  {
   "cell_type": "markdown",
   "metadata": {
    "application/vnd.databricks.v1+cell": {
     "cellMetadata": {},
     "inputWidgets": {},
     "nuid": "abbe4417-2a97-4e68-97ee-ff3043bc4853",
     "showTitle": false,
     "tableResultSettingsMap": {},
     "title": ""
    }
   },
   "source": [
    "b. Películas cuya nota media sea superior a 3."
   ]
  },
  {
   "cell_type": "code",
   "execution_count": 0,
   "metadata": {
    "application/vnd.databricks.v1+cell": {
     "cellMetadata": {
      "byteLimit": 2048000,
      "rowLimit": 10000
     },
     "inputWidgets": {},
     "nuid": "cb02088c-8796-44ef-b3ef-a5a43dd55184",
     "showTitle": false,
     "tableResultSettingsMap": {},
     "title": ""
    }
   },
   "outputs": [
    {
     "output_type": "stream",
     "name": "stdout",
     "output_type": "stream",
     "text": [
      "Películas con calificación media superior a 3:\nPelícula 2: 3.71\nPelícula 4: 4.19\nPelícula 6: 3.90\nPelícula 8: 3.88\nPelícula 10: 4.11\nPelícula 12: 3.83\nPelícula 14: 3.32\nPelícula 16: 3.03\nPelícula 18: 3.65\nPelícula 20: 4.08\nPelícula 22: 3.07\nPelícula 24: 3.95\nPelícula 28: 3.76\nPelícula 30: 3.49\nPelícula 32: 3.62\nPelícula 34: 3.87\nPelícula 36: 4.20\nPelícula 38: 3.58\nPelícula 40: 3.45\nPelícula 42: 3.74\nPelícula 44: 3.63\nPelícula 46: 4.22\nPelícula 48: 3.07\nPelícula 50: 3.07\nPelícula 52: 3.56\nPelícula 54: 4.03\nPelícula 56: 3.97\nPelícula 58: 3.97\nPelícula 60: 3.41\nPelícula 62: 3.57\nPelícula 64: 4.15\nPelícula 66: 3.85\nPelícula 68: 3.75\nPelícula 70: 3.70\nPelícula 72: 3.70\nPelícula 74: 4.05\nPelícula 76: 4.17\nPelícula 78: 3.66\nPelícula 80: 3.90\nPelícula 82: 4.02\nPelícula 84: 3.84\nPelícula 86: 4.31\nPelícula 88: 4.15\nPelícula 90: 3.51\nPelícula 94: 3.86\nPelícula 96: 3.60\nPelícula 98: 3.80\nPelícula 100: 3.03\nPelícula 102: 3.13\nPelícula 104: 3.35\nPelícula 106: 4.02\nPelícula 108: 3.14\nPelícula 110: 3.25\nPelícula 112: 4.18\nPelícula 114: 3.69\nPelícula 116: 3.80\nPelícula 118: 3.77\nPelícula 120: 3.62\nPelícula 124: 4.17\nPelícula 126: 4.00\nPelícula 128: 4.36\nPelícula 130: 4.31\nPelícula 132: 3.97\nPelícula 136: 3.07\nPelícula 138: 4.49\nPelícula 140: 3.82\nPelícula 142: 3.34\nPelícula 144: 3.47\nPelícula 146: 3.77\nPelícula 148: 3.73\nPelícula 150: 4.02\nPelícula 152: 4.12\nPelícula 154: 3.09\nPelícula 156: 4.24\nPelícula 158: 4.00\nPelícula 160: 3.50\nPelícula 162: 4.12\nPelícula 164: 4.38\nPelícula 166: 3.69\nPelícula 168: 3.85\nPelícula 170: 3.99\nPelícula 172: 3.61\nPelícula 174: 3.65\nPelícula 176: 3.62\nPelícula 178: 3.84\nPelícula 180: 3.69\nPelícula 182: 3.83\nPelícula 184: 4.08\nPelícula 186: 4.25\nPelícula 188: 3.17\nPelícula 190: 3.70\nPelícula 192: 3.09\nPelícula 194: 3.98\nPelícula 196: 4.06\nPelícula 198: 3.75\nPelícula 200: 3.42\nPelícula 202: 3.25\nPelícula 204: 3.56\nPelícula 206: 3.07\nPelícula 208: 3.65\nPelícula 210: 4.03\nPelícula 212: 3.85\nPelícula 214: 3.16\nPelícula 216: 3.23\nPelícula 218: 3.09\nPelícula 220: 4.22\nPelícula 222: 4.09\nPelícula 224: 3.40\nPelícula 226: 3.57\nPelícula 228: 4.00\nPelícula 230: 4.09\nPelícula 232: 3.57\nPelícula 234: 4.31\nPelícula 236: 3.69\nPelícula 238: 3.79\nPelícula 240: 3.30\nPelícula 242: 3.21\nPelícula 244: 4.11\nPelícula 246: 4.00\nPelícula 248: 4.21\nPelícula 250: 3.75\nPelícula 252: 4.02\nPelícula 254: 3.78\nPelícula 256: 3.85\nPelícula 258: 3.72\nPelícula 260: 3.31\nPelícula 262: 3.33\nPelícula 266: 4.52\nPelícula 268: 3.39\nPelícula 270: 4.20\nPelícula 272: 3.65\nPelícula 274: 4.24\nPelícula 276: 3.52\nPelícula 278: 3.96\nPelícula 280: 3.94\nPelícula 282: 3.52\nPelícula 284: 3.02\nPelícula 286: 3.88\nPelícula 288: 4.59\nPelícula 290: 3.30\nPelícula 292: 3.76\nPelícula 294: 3.49\nPelícula 296: 3.60\nPelícula 298: 3.93\nPelícula 300: 4.18\nPelícula 304: 3.56\nPelícula 306: 3.94\nPelícula 308: 3.39\nPelícula 310: 3.43\nPelícula 312: 3.74\nPelícula 314: 3.70\nPelícula 316: 4.12\nPelícula 318: 3.95\nPelícula 320: 4.24\nPelícula 322: 4.45\nPelícula 324: 3.33\nPelícula 326: 3.34\nPelícula 328: 3.03\nPelícula 330: 4.01\nPelícula 332: 4.28\nPelícula 334: 3.95\nPelícula 336: 4.31\nPelícula 338: 3.67\nPelícula 340: 3.53\nPelícula 342: 3.69\nPelícula 346: 4.31\nPelícula 348: 3.78\nPelícula 350: 3.94\nPelícula 352: 3.48\nPelícula 354: 3.59\nPelícula 356: 4.38\nPelícula 358: 3.85\nPelícula 360: 3.64\nPelícula 362: 3.29\nPelícula 364: 3.14\nPelícula 366: 4.07\nPelícula 368: 3.78\nPelícula 370: 3.75\nPelícula 372: 4.55\nPelícula 374: 4.40\nPelícula 376: 4.11\nPelícula 378: 3.51\nPelícula 380: 3.72\nPelícula 382: 4.02\nPelícula 384: 3.59\nPelícula 386: 3.32\nPelícula 388: 3.88\nPelícula 390: 3.67\nPelícula 392: 3.47\nPelícula 394: 3.34\nPelícula 396: 3.56\nPelícula 398: 3.81\nPelícula 400: 3.88\nPelícula 402: 3.59\nPelícula 404: 4.14\nPelícula 406: 3.31\nPelícula 408: 4.35\nPelícula 410: 3.97\nPelícula 412: 4.40\nPelícula 414: 3.07\nPelícula 416: 3.76\nPelícula 418: 3.55\nPelícula 420: 4.36\nPelícula 422: 3.30\nPelícula 424: 3.74\nPelícula 426: 3.76\nPelícula 428: 3.90\nPelícula 430: 3.97\nPelícula 434: 4.02\nPelícula 436: 3.83\nPelícula 438: 3.53\nPelícula 440: 3.59\nPelícula 442: 3.85\nPelícula 444: 4.00\nPelícula 446: 4.84\nPelícula 448: 3.43\nPelícula 450: 4.20\nPelícula 452: 4.43\nPelícula 454: 3.22\nPelícula 456: 3.39\nPelícula 458: 3.53\nPelícula 460: 3.36\nPelícula 462: 3.54\nPelícula 464: 3.61\nPelícula 466: 4.14\nPelícula 468: 3.73\nPelícula 470: 3.81\nPelícula 472: 4.02\nPelícula 474: 3.38\nPelícula 476: 3.84\nPelícula 478: 3.87\nPelícula 480: 3.41\nPelícula 482: 3.26\nPelícula 484: 3.74\nPelícula 486: 4.05\nPelícula 488: 3.56\nPelícula 490: 3.77\nPelícula 492: 3.94\nPelícula 494: 4.16\nPelícula 496: 4.29\nPelícula 498: 3.65\nPelícula 500: 3.63\nPelícula 502: 4.08\nPelícula 504: 3.81\nPelícula 506: 3.42\nPelícula 508: 3.32\nPelícula 510: 3.83\nPelícula 512: 3.84\nPelícula 514: 4.20\nPelícula 518: 4.35\nPelícula 520: 3.94\nPelícula 522: 3.84\nPelícula 524: 3.61\nPelícula 526: 3.90\nPelícula 528: 3.36\nPelícula 530: 4.00\nPelícula 532: 3.86\nPelícula 534: 3.75\nPelícula 536: 3.94\nPelícula 538: 4.46\nPelícula 540: 3.23\nPelícula 542: 3.76\nPelícula 544: 3.78\nPelícula 546: 3.23\nPelícula 548: 3.09\nPelícula 550: 3.58\nPelícula 552: 3.76\nPelícula 554: 3.51\nPelícula 556: 3.50\nPelícula 558: 3.68\nPelícula 560: 3.90\nPelícula 562: 3.70\nPelícula 564: 4.00\nPelícula 568: 4.44\nPelícula 570: 3.33\nPelícula 572: 3.05\nPelícula 574: 4.10\nPelícula 576: 3.67\nPelícula 578: 3.96\nPelícula 580: 3.35\nPelícula 582: 4.28\nPelícula 584: 4.29\nPelícula 586: 4.49\nPelícula 588: 4.06\nPelícula 590: 4.14\nPelícula 592: 4.39\nPelícula 594: 4.30\nPelícula 598: 3.32\nPelícula 600: 3.65\nPelícula 602: 3.40\nPelícula 604: 3.09\nPelícula 606: 4.03\nPelícula 608: 3.19\nPelícula 610: 3.48\nPelícula 612: 3.50\nPelícula 614: 3.83\nPelícula 616: 3.95\nPelícula 620: 3.32\nPelícula 622: 3.91\nPelícula 624: 3.68\nPelícula 626: 4.06\nPelícula 628: 3.90\nPelícula 630: 4.25\nPelícula 632: 3.79\nPelícula 634: 4.01\nPelícula 636: 4.06\nPelícula 638: 4.18\nPelícula 640: 4.33\nPelícula 642: 4.11\nPelícula 644: 3.12\nPelícula 646: 3.80\nPelícula 648: 3.72\nPelícula 650: 3.89\nPelícula 654: 3.43\nPelícula 656: 3.87\nPelícula 658: 3.10\nPelícula 660: 3.02\nPelícula 662: 3.14\nPelícula 664: 4.03\nPelícula 666: 3.89\nPelícula 668: 3.58\nPelícula 670: 3.24\nPelícula 672: 3.87\nPelícula 674: 4.28\nPelícula 676: 3.13\nPelícula 678: 3.68\nPelícula 680: 3.57\nPelícula 682: 4.73\nPelícula 684: 3.89\nPelícula 686: 3.78\nPelícula 688: 3.75\nPelícula 690: 4.31\nPelícula 692: 3.82\nPelícula 694: 3.62\nPelícula 696: 3.80\nPelícula 698: 3.55\nPelícula 700: 3.88\nPelícula 702: 3.30\nPelícula 704: 3.08\nPelícula 706: 3.56\nPelícula 708: 3.85\nPelícula 710: 3.43\nPelícula 712: 3.48\nPelícula 714: 4.16\nPelícula 716: 4.20\nPelícula 718: 3.78\nPelícula 722: 3.91\nPelícula 724: 3.64\nPelícula 726: 3.93\nPelícula 728: 3.31\nPelícula 730: 3.77\nPelícula 732: 3.43\nPelícula 734: 3.73\nPelícula 736: 3.93\nPelícula 738: 3.30\nPelícula 740: 4.24\nPelícula 742: 3.95\nPelícula 744: 3.37\nPelícula 748: 3.98\nPelícula 750: 4.32\nPelícula 754: 3.78\nPelícula 756: 3.97\nPelícula 758: 4.00\nPelícula 760: 4.27\nPelícula 762: 3.72\nPelícula 764: 4.53\nPelícula 766: 3.94\nPelícula 768: 4.44\nPelícula 772: 3.48\nPelícula 774: 3.21\nPelícula 776: 3.77\nPelícula 778: 3.79\nPelícula 780: 3.46\nPelícula 782: 3.43\nPelícula 784: 4.07\nPelícula 786: 4.06\nPelícula 788: 3.53\nPelícula 790: 4.35\nPelícula 792: 3.46\nPelícula 794: 3.95\nPelícula 798: 3.15\nPelícula 800: 3.48\nPelícula 802: 3.94\nPelícula 804: 3.27\nPelícula 806: 4.17\nPelícula 808: 3.12\nPelícula 810: 3.82\nPelícula 812: 3.74\nPelícula 814: 4.06\nPelícula 816: 3.70\nPelícula 818: 3.73\nPelícula 820: 3.41\nPelícula 822: 3.72\nPelícula 824: 3.65\nPelícula 826: 3.29\nPelícula 828: 3.44\nPelícula 830: 3.61\nPelícula 832: 3.56\nPelícula 834: 4.16\nPelícula 838: 4.09\nPelícula 840: 4.22\nPelícula 842: 3.84\nPelícula 844: 3.45\nPelícula 846: 3.92\nPelícula 848: 4.18\nPelícula 850: 3.56\nPelícula 852: 4.12\nPelícula 854: 3.03\nPelícula 856: 3.49\nPelícula 858: 4.19\nPelícula 860: 3.17\nPelícula 862: 3.67\nPelícula 864: 4.05\nPelícula 866: 3.33\nPelícula 868: 3.60\nPelícula 870: 3.61\nPelícula 872: 3.64\nPelícula 874: 3.79\nPelícula 876: 3.83\nPelícula 878: 4.14\nPelícula 880: 3.50\nPelícula 882: 4.09\nPelícula 884: 4.01\nPelícula 886: 3.63\nPelícula 888: 3.78\nPelícula 890: 3.97\nPelícula 892: 3.91\nPelícula 894: 4.44\nPelícula 896: 3.98\nPelícula 898: 4.08\nPelícula 900: 3.58\nPelícula 902: 4.28\nPelícula 904: 3.30\nPelícula 906: 3.52\nPelícula 908: 3.31\nPelícula 910: 3.60\nPelícula 912: 3.72\nPelícula 914: 4.28\nPelícula 916: 3.95\nPelícula 920: 3.46\nPelícula 922: 3.58\nPelícula 924: 3.99\nPelícula 926: 4.25\nPelícula 928: 4.33\nPelícula 930: 3.05\nPelícula 932: 4.45\nPelícula 936: 3.51\nPelícula 938: 3.87\nPelícula 940: 3.19\nPelícula 942: 4.04\nPelícula 944: 3.84\nPelícula 946: 4.30\nPelícula 948: 3.74\nPelícula 952: 3.99\nPelícula 954: 3.78\nPelícula 956: 3.99\nPelícula 958: 3.91\nPelícula 960: 3.94\nPelícula 962: 4.04\nPelícula 964: 3.72\nPelícula 966: 3.56\nPelícula 968: 4.13\nPelícula 970: 3.15\nPelícula 972: 3.37\nPelícula 974: 3.73\nPelícula 976: 3.36\nPelícula 978: 3.89\nPelícula 980: 3.22\nPelícula 982: 4.18\nPelícula 984: 3.54\nPelícula 986: 3.77\nPelícula 988: 3.85\nPelícula 990: 3.55\nPelícula 992: 3.42\nPelícula 994: 4.15\nPelícula 996: 3.94\nPelícula 998: 4.12\nPelícula 1000: 4.13\nPelícula 1002: 4.14\nPelícula 1004: 3.16\nPelícula 1006: 3.07\nPelícula 1008: 3.84\nPelícula 1012: 3.36\nPelícula 1014: 3.49\nPelícula 1016: 3.79\nPelícula 1018: 4.16\nPelícula 1020: 3.99\nPelícula 1022: 3.56\nPelícula 1024: 3.70\nPelícula 1026: 4.00\nPelícula 1028: 3.97\nPelícula 1030: 3.58\nPelícula 1032: 3.94\nPelícula 1034: 3.48\nPelícula 1036: 4.32\nPelícula 1038: 3.93\nPelícula 1040: 4.24\nPelícula 1044: 3.76\nPelícula 1046: 3.88\nPelícula 1048: 4.00\nPelícula 1052: 4.34\nPelícula 1054: 3.89\nPelícula 1056: 3.47\nPelícula 1058: 3.80\nPelícula 1060: 3.35\nPelícula 1062: 4.48\nPelícula 1064: 3.71\nPelícula 1066: 3.53\nPelícula 1068: 3.73\nPelícula 1070: 3.62\nPelícula 1072: 4.05\nPelícula 1074: 3.45\nPelícula 1076: 3.24\nPelícula 1078: 3.98\nPelícula 1080: 3.74\nPelícula 1082: 4.33\nPelícula 1084: 3.15\nPelícula 1086: 3.86\nPelícula 1088: 3.34\nPelícula 1090: 3.37\nPelícula 1092: 4.06\nPelícula 1094: 3.62\nPelícula 1098: 4.19\nPelícula 1104: 3.83\nPelícula 1106: 3.78\nPelícula 1108: 4.11\nPelícula 1110: 4.33\nPelícula 1112: 3.44\nPelícula 1114: 3.46\nPelícula 1116: 3.87\nPelícula 1118: 3.67\nPelícula 1120: 3.76\nPelícula 1122: 3.23\nPelícula 1124: 3.77\nPelícula 1126: 3.76\nPelícula 1128: 3.22\nPelícula 1130: 3.85\nPelícula 1132: 4.34\nPelícula 1134: 4.42\nPelícula 1136: 3.27\nPelícula 1138: 3.66\nPelícula 1140: 3.76\nPelícula 1142: 3.37\nPelícula 1144: 3.77\nPelícula 1148: 3.80\nPelícula 1154: 3.38\nPelícula 1156: 3.58\nPelícula 1158: 3.64\nPelícula 1160: 3.07\nPelícula 1162: 3.55\nPelícula 1164: 3.44\nPelícula 1166: 3.50\nPelícula 1168: 3.45\nPelícula 1170: 4.01\nPelícula 1172: 3.52\nPelícula 1174: 3.12\nPelícula 1176: 4.14\nPelícula 1178: 3.50\nPelícula 1180: 4.46\nPelícula 1182: 3.36\nPelícula 1184: 3.34\nPelícula 1186: 4.30\nPelícula 1188: 4.16\nPelícula 1190: 4.04\nPelícula 1192: 4.38\nPelícula 1194: 3.33\nPelícula 1196: 3.88\nPelícula 1198: 3.66\nPelícula 1200: 3.56\nPelícula 1202: 3.54\nPelícula 1204: 3.49\nPelícula 1206: 3.56\nPelícula 1208: 4.02\nPelícula 1210: 3.90\nPelícula 1212: 3.86\nPelícula 1214: 3.02\nPelícula 1216: 3.69\nPelícula 1218: 3.46\nPelícula 1220: 3.35\nPelícula 1222: 3.22\nPelícula 1224: 4.05\nPelícula 1226: 3.29\nPelícula 1228: 3.78\nPelícula 1230: 3.94\nPelícula 1232: 4.23\nPelícula 1234: 4.29\nPelícula 1236: 3.38\nPelícula 1238: 3.71\nPelícula 1240: 3.07\nPelícula 1242: 3.64\nPelícula 1244: 3.38\nPelícula 1246: 3.57\nPelícula 1248: 3.60\nPelícula 1250: 4.19\nPelícula 1252: 4.03\nPelícula 1254: 4.12\nPelícula 1256: 4.34\nPelícula 1258: 4.26\nPelícula 1260: 3.79\nPelícula 1262: 3.42\nPelícula 1264: 3.59\nPelícula 1266: 3.34\nPelícula 1268: 4.26\nPelícula 1270: 3.03\nPelícula 1272: 3.54\nPelícula 1274: 3.85\nPelícula 1276: 4.16\nPelícula 1278: 4.00\nPelícula 1280: 3.72\nPelícula 1282: 4.10\nPelícula 1284: 3.42\nPelícula 1286: 3.50\nPelícula 1288: 3.76\nPelícula 1290: 4.18\nPelícula 1292: 3.40\nPelícula 1294: 3.93\nPelícula 1296: 3.90\nPelícula 1298: 3.83\nPelícula 1300: 3.48\nPelícula 1302: 4.27\nPelícula 1304: 3.96\nPelícula 1306: 4.15\nPelícula 1308: 3.61\nPelícula 1310: 3.75\nPelícula 1312: 3.27\nPelícula 1316: 3.24\nPelícula 1318: 3.05\nPelícula 1320: 4.02\nPelícula 1322: 4.12\nPelícula 1324: 4.04\nPelícula 1326: 3.92\nPelícula 1328: 3.55\nPelícula 1330: 4.26\nPelícula 1332: 3.50\nPelícula 1334: 3.92\nPelícula 1336: 4.09\nPelícula 1338: 4.03\nPelícula 1344: 3.72\nPelícula 1346: 3.54\nPelícula 1348: 3.80\nPelícula 1350: 3.76\nPelícula 1352: 3.58\nPelícula 1354: 3.40\nPelícula 1358: 3.16\nPelícula 1360: 3.55\nPelícula 1362: 3.45\nPelícula 1364: 4.00\nPelícula 1366: 3.51\nPelícula 1368: 4.11\nPelícula 1370: 3.14\nPelícula 1374: 3.92\nPelícula 1376: 3.88\nPelícula 1378: 4.53\nPelícula 1380: 3.32\nPelícula 1382: 4.14\nPelícula 1384: 3.45\nPelícula 1386: 3.95\nPelícula 1388: 4.02\nPelícula 1390: 3.84\nPelícula 1392: 3.40\nPelícula 1396: 3.73\nPelícula 1398: 3.71\nPelícula 1400: 4.17\nPelícula 1402: 4.12\nPelícula 1406: 3.80\nPelícula 1408: 3.14\nPelícula 1410: 4.06\nPelícula 1412: 3.33\nPelícula 1414: 3.78\nPelícula 1416: 3.55\nPelícula 1420: 3.73\nPelícula 1422: 3.01\nPelícula 1424: 3.41\nPelícula 1426: 3.49\nPelícula 1428: 4.21\nPelícula 1430: 4.16\nPelícula 1432: 3.54\nPelícula 1436: 3.97\nPelícula 1438: 3.48\nPelícula 1440: 3.35\nPelícula 1442: 3.30\nPelícula 1444: 3.69\nPelícula 1446: 4.45\nPelícula 1448: 3.78\nPelícula 1452: 4.15\nPelícula 1454: 3.86\nPelícula 1456: 4.05\nPelícula 1458: 3.99\nPelícula 1460: 3.04\nPelícula 1462: 3.50\nPelícula 1464: 3.68\nPelícula 1466: 3.63\nPelícula 1468: 3.52\nPelícula 1472: 3.60\nPelícula 1474: 3.78\nPelícula 1476: 3.76\nPelícula 1478: 3.94\nPelícula 1480: 3.40\nPelícula 1482: 3.23\nPelícula 1484: 3.61\nPelícula 1486: 3.58\nPelícula 1488: 4.10\nPelícula 1490: 4.10\nPelícula 1492: 3.21\nPelícula 1494: 3.80\nPelícula 1498: 3.83\nPelícula 1500: 3.90\nPelícula 1502: 3.40\nPelícula 1504: 3.64\nPelícula 1506: 3.81\nPelícula 1508: 3.31\nPelícula 1510: 3.61\nPelícula 1512: 3.24\nPelícula 1514: 3.76\nPelícula 1516: 3.12\nPelícula 1518: 4.48\nPelícula 1520: 4.00\nPelícula 1522: 3.64\nPelícula 1524: 3.74\nPelícula 1526: 4.16\nPelícula 1528: 4.09\nPelícula 1530: 3.85\nPelícula 1532: 4.10\nPelícula 1534: 3.62\nPelícula 1536: 4.22\nPelícula 1538: 3.99\nPelícula 1540: 3.81\nPelícula 1542: 3.67\nPelícula 1544: 3.69\nPelícula 1546: 3.75\nPelícula 1548: 3.58\nPelícula 1550: 3.93\nPelícula 1552: 3.69\nPelícula 1554: 3.81\nPelícula 1556: 3.21\nPelícula 1558: 4.12\nPelícula 1560: 3.49\nPelícula 1564: 3.06\nPelícula 1566: 3.50\nPelícula 1568: 4.00\nPelícula 1570: 3.55\nPelícula 1572: 3.18\nPelícula 1574: 3.60\nPelícula 1576: 3.88\nPelícula 1578: 4.16\nPelícula 1580: 3.54\nPelícula 1582: 3.64\nPelícula 1584: 3.33\nPelícula 1586: 4.42\nPelícula 1588: 4.17\nPelícula 1590: 4.00\nPelícula 1592: 3.62\nPelícula 1594: 3.73\nPelícula 1596: 3.57\nPelícula 1598: 3.49\nPelícula 1600: 3.43\nPelícula 1602: 4.10\nPelícula 1604: 4.17\nPelícula 1606: 3.79\nPelícula 1610: 3.96\nPelícula 1612: 3.65\nPelícula 1614: 3.39\nPelícula 1616: 3.13\nPelícula 1618: 4.21\nPelícula 1620: 3.94\nPelícula 1622: 3.73\nPelícula 1624: 3.01\nPelícula 1626: 3.44\nPelícula 1628: 3.75\nPelícula 1634: 3.58\nPelícula 1638: 4.21\nPelícula 1642: 3.50\nPelícula 1644: 3.06\nPelícula 1646: 3.06\nPelícula 1648: 3.44\nPelícula 1650: 3.65\nPelícula 1652: 3.37\nPelícula 1654: 4.45\nPelícula 1656: 3.48\nPelícula 1658: 3.42\nPelícula 1660: 3.97\nPelícula 1662: 3.64\nPelícula 1664: 3.40\nPelícula 1666: 3.34\nPelícula 1668: 4.00\nPelícula 1670: 4.71\nPelícula 1672: 3.74\nPelícula 1674: 3.73\nPelícula 1676: 3.49\nPelícula 1678: 3.45\nPelícula 1680: 3.56\nPelícula 1682: 4.41\nPelícula 1684: 4.03\nPelícula 1686: 3.54\nPelícula 1688: 3.58\nPelícula 1690: 3.52\nPelícula 1692: 4.48\nPelícula 1694: 3.74\nPelícula 1696: 3.62\nPelícula 1698: 3.93\nPelícula 1700: 3.53\nPelícula 1702: 4.55\nPelícula 1704: 4.19\nPelícula 1706: 3.80\nPelícula 1708: 3.86\nPelícula 1710: 3.66\nPelícula 1712: 3.51\nPelícula 1714: 3.51\nPelícula 1716: 3.48\nPelícula 1718: 4.47\nPelícula 1720: 4.02\nPelícula 1722: 4.24\nPelícula 1724: 4.10\nPelícula 1728: 4.21\nPelícula 1730: 3.50\nPelícula 1732: 4.47\nPelícula 1734: 4.27\nPelícula 1736: 3.24\nPelícula 1738: 3.73\nPelícula 1740: 4.00\nPelícula 1742: 3.62\nPelícula 1744: 4.06\nPelícula 1746: 4.40\nPelícula 1748: 3.49\nPelícula 1752: 3.83\nPelícula 1756: 3.20\nPelícula 1758: 3.95\nPelícula 1760: 3.80\nPelícula 1762: 3.85\nPelícula 1764: 4.09\nPelícula 1766: 3.23\nPelícula 1768: 3.49\nPelícula 1770: 3.27\nPelícula 1772: 3.38\nPelícula 1774: 3.27\nPelícula 1776: 3.27\nPelícula 1778: 3.54\nPelícula 1782: 3.58\nPelícula 1786: 4.02\nPelícula 1788: 3.84\nPelícula 1790: 3.87\nPelícula 1792: 3.87\nPelícula 1796: 3.99\nPelícula 1798: 3.60\nPelícula 1800: 3.62\nPelícula 1802: 4.03\nPelícula 1804: 3.41\nPelícula 1806: 4.23\nPelícula 1808: 3.42\nPelícula 1810: 3.77\nPelícula 1812: 3.78\nPelícula 1814: 3.63\nPelícula 1816: 4.10\nPelícula 1818: 3.65\nPelícula 1820: 3.68\nPelícula 1822: 3.85\nPelícula 1824: 3.36\nPelícula 1826: 3.60\nPelícula 1828: 3.37\nPelícula 1830: 4.10\nPelícula 1832: 3.93\nPelícula 1834: 4.09\nPelícula 1836: 4.17\nPelícula 1838: 3.07\nPelícula 1840: 3.92\nPelícula 1842: 4.13\nPelícula 1844: 3.65\nPelícula 1846: 4.03\nPelícula 1848: 3.77\nPelícula 1850: 3.84\nPelícula 1852: 3.52\nPelícula 1856: 4.69\nPelícula 1858: 3.96\nPelícula 1860: 3.31\nPelícula 1862: 4.40\nPelícula 1864: 3.30\nPelícula 1866: 4.09\nPelícula 1868: 3.63\nPelícula 1870: 3.80\nPelícula 1872: 3.82\nPelícula 1874: 3.59\nPelícula 1876: 3.45\nPelícula 1878: 3.65\nPelícula 1880: 3.34\nPelícula 1882: 3.78\nPelícula 1884: 3.87\nPelícula 1886: 3.92\nPelícula 1888: 3.62\nPelícula 1890: 3.52\nPelícula 1892: 4.27\nPelícula 1894: 4.24\nPelícula 1896: 4.15\nPelícula 1898: 3.92\nPelícula 1900: 3.67\nPelícula 1902: 3.65\nPelícula 1904: 3.27\nPelícula 1906: 3.65\nPelícula 1908: 3.18\nPelícula 1910: 3.64\nPelícula 1914: 3.74\nPelícula 1916: 3.94\nPelícula 1920: 3.39\nPelícula 1922: 3.46\nPelícula 1924: 3.15\nPelícula 1926: 4.09\nPelícula 1928: 3.84\nPelícula 1930: 3.17\nPelícula 1932: 3.67\nPelícula 1934: 3.08\nPelícula 1936: 3.71\nPelícula 1938: 3.13\nPelícula 1940: 4.67\nPelícula 1944: 3.91\nPelícula 1946: 3.86\nPelícula 1948: 3.11\nPelícula 1950: 3.52\nPelícula 1952: 3.49\nPelícula 1954: 3.93\nPelícula 1956: 3.12\nPelícula 1958: 3.27\nPelícula 1960: 3.87\nPelícula 1964: 3.64\nPelícula 1966: 4.36\nPelícula 1970: 3.58\nPelícula 1972: 4.41\nPelícula 1974: 3.76\nPelícula 1976: 3.89\nPelícula 1978: 3.47\nPelícula 1980: 3.48\nPelícula 1982: 3.43\nPelícula 1984: 3.57\nPelícula 1986: 4.59\nPelícula 1988: 3.52\nPelícula 1990: 3.86\nPelícula 1994: 4.10\nPelícula 1996: 3.99\nPelícula 1998: 3.87\nPelícula 2000: 3.79\nPelícula 2002: 4.10\nPelícula 2004: 3.72\nPelícula 2006: 3.80\nPelícula 2008: 3.94\nPelícula 2014: 4.26\nPelícula 2016: 3.99\nPelícula 2018: 3.94\nPelícula 2020: 3.53\nPelícula 2022: 3.83\nPelícula 2024: 3.38\nPelícula 2026: 3.54\nPelícula 2028: 3.67\nPelícula 2030: 3.98\nPelícula 2032: 3.68\nPelícula 2034: 4.22\nPelícula 2036: 3.94\nPelícula 2038: 3.82\nPelícula 2040: 3.37\nPelícula 2042: 3.14\nPelícula 2044: 4.12\nPelícula 2046: 3.59\nPelícula 2048: 4.14\nPelícula 2050: 3.90\nPelícula 2054: 3.41\nPelícula 2056: 4.10\nPelícula 2058: 3.32\nPelícula 2060: 3.12\nPelícula 2062: 4.15\nPelícula 2064: 4.00\nPelícula 2066: 4.07\nPelícula 2068: 3.95\nPelícula 2070: 4.41\nPelícula 2072: 4.00\nPelícula 2074: 3.47\nPelícula 2076: 3.48\nPelícula 2078: 3.74\nPelícula 2080: 4.28\nPelícula 2082: 4.34\nPelícula 2084: 3.95\nPelícula 2086: 3.70\nPelícula 2088: 3.88\nPelícula 2090: 3.77\nPelícula 2092: 3.57\nPelícula 2094: 4.06\nPelícula 2096: 4.18\nPelícula 2098: 3.25\nPelícula 2100: 3.71\nPelícula 2104: 3.09\nPelícula 2108: 4.36\nPelícula 2110: 3.24\nPelícula 2112: 3.48\nPelícula 2114: 3.67\nPelícula 2116: 3.56\nPelícula 2118: 4.51\nPelícula 2120: 3.45\nPelícula 2122: 3.62\nPelícula 2124: 4.26\nPelícula 2128: 3.75\nPelícula 2130: 3.42\nPelícula 2134: 3.59\nPelícula 2136: 3.92\nPelícula 2138: 3.75\nPelícula 2140: 3.79\nPelícula 2142: 3.53\nPelícula 2144: 3.29\nPelícula 2146: 3.32\nPelícula 2148: 3.92\nPelícula 2150: 3.62\nPelícula 2152: 3.65\nPelícula 2154: 3.98\nPelícula 2156: 3.40\nPelícula 2158: 3.93\nPelícula 2160: 3.95\nPelícula 2162: 3.94\nPelícula 2164: 3.66\nPelícula 2166: 3.69\nPelícula 2168: 3.94\nPelícula 2170: 4.23\nPelícula 2172: 3.06\nPelícula 2174: 3.58\nPelícula 2176: 4.22\nPelícula 2178: 4.29\nPelícula 2182: 3.67\nPelícula 2184: 4.23\nPelícula 2186: 3.44\nPelícula 2188: 3.06\nPelícula 2190: 3.89\nPelícula 2192: 3.83\nPelícula 2196: 3.97\nPelícula 2198: 3.64\nPelícula 2200: 3.11\nPelícula 2202: 3.28\nPelícula 2204: 3.52\nPelícula 2206: 3.74\nPelícula 2208: 3.51\nPelícula 2210: 3.69\nPelícula 2212: 3.16\nPelícula 2214: 4.16\nPelícula 2218: 3.88\nPelícula 2220: 4.03\nPelícula 2222: 3.51\nPelícula 2224: 4.24\nPelícula 2226: 3.67\nPelícula 2228: 3.95\nPelícula 2230: 3.19\nPelícula 2232: 4.05\nPelícula 2234: 3.90\nPelícula 2236: 3.69\nPelícula 2238: 3.75\nPelícula 2240: 4.28\nPelícula 2242: 3.65\nPelícula 2244: 3.40\nPelícula 2246: 3.67\nPelícula 2248: 3.75\nPelícula 2250: 3.07\nPelícula 2252: 3.48\nPelícula 2254: 3.96\nPelícula 2256: 4.00\nPelícula 2258: 3.45\nPelícula 2260: 3.64\nPelícula 2262: 3.68\nPelícula 2264: 3.63\nPelícula 2266: 4.05\nPelícula 2268: 4.26\nPelícula 2270: 3.45\nPelícula 2272: 3.92\nPelícula 2274: 3.77\nPelícula 2276: 4.32\nPelícula 2278: 3.42\nPelícula 2280: 4.11\nPelícula 2282: 4.03\nPelícula 2284: 3.88\nPelícula 2286: 3.60\nPelícula 2288: 3.03\nPelícula 2290: 3.34\nPelícula 2292: 3.10\nPelícula 2294: 4.11\nPelícula 2296: 3.32\nPelícula 2298: 3.33\nPelícula 2300: 3.88\nPelícula 2302: 3.60\nPelícula 2304: 3.72\nPelícula 2306: 3.63\nPelícula 2308: 4.25\nPelícula 2310: 3.86\nPelícula 2312: 3.63\nPelícula 2314: 3.11\nPelícula 2316: 3.91\nPelícula 2320: 3.28\nPelícula 2322: 3.70\nPelícula 2324: 4.03\nPelícula 2326: 3.89\nPelícula 2328: 3.29\nPelícula 2330: 3.01\nPelícula 2332: 4.07\nPelícula 2334: 3.73\nPelícula 2336: 3.95\nPelícula 2338: 3.85\nPelícula 2340: 4.36\nPelícula 2342: 3.82\nPelícula 2344: 3.44\nPelícula 2346: 3.65\nPelícula 2348: 3.15\nPelícula 2350: 3.86\nPelícula 2354: 3.62\nPelícula 2356: 3.62\nPelícula 2358: 3.86\nPelícula 2360: 3.59\nPelícula 2362: 3.73\nPelícula 2364: 4.14\nPelícula 2366: 3.39\nPelícula 2368: 4.24\nPelícula 2370: 4.09\nPelícula 2372: 4.35\nPelícula 2374: 4.11\nPelícula 2376: 3.37\nPelícula 2378: 3.07\nPelícula 2380: 3.38\nPelícula 2382: 3.74\nPelícula 2384: 4.10\nPelícula 2386: 3.63\nPelícula 2388: 4.05\nPelícula 2390: 3.95\nPelícula 2392: 4.02\nPelícula 2394: 3.97\nPelícula 2396: 4.08\nPelícula 2398: 4.08\nPelícula 2400: 3.34\nPelícula 2402: 3.31\nPelícula 2404: 3.93\nPelícula 2406: 3.94\nPelícula 2408: 3.75\nPelícula 2410: 3.62\nPelícula 2412: 3.83\nPelícula 2414: 4.16\nPelícula 2416: 3.70\nPelícula 2418: 3.09\nPelícula 2420: 4.23\nPelícula 2422: 4.14\nPelícula 2424: 3.29\nPelícula 2426: 3.89\nPelícula 2428: 3.67\nPelícula 2430: 3.40\nPelícula 2432: 3.86\nPelícula 2434: 3.62\nPelícula 2436: 3.59\nPelícula 2438: 3.58\nPelícula 2440: 3.43\nPelícula 2442: 3.86\nPelícula 2444: 3.34\nPelícula 2446: 3.87\nPelícula 2448: 3.88\nPelícula 2450: 3.33\nPelícula 2452: 4.10\nPelícula 2454: 3.42\nPelícula 2456: 3.15\nPelícula 2458: 3.50\nPelícula 2460: 4.12\nPelícula 2462: 3.54\nPelícula 2464: 3.80\nPelícula 2468: 4.21\nPelícula 2470: 3.35\nPelícula 2472: 3.60\nPelícula 2474: 4.25\nPelícula 2476: 4.16\nPelícula 2478: 3.55\nPelícula 2480: 3.87\nPelícula 2482: 3.50\nPelícula 2484: 3.37\nPelícula 2486: 3.81\nPelícula 2488: 4.20\nPelícula 2490: 3.55\nPelícula 2492: 3.76\nPelícula 2498: 3.17\nPelícula 2500: 3.64\nPelícula 2502: 3.90\nPelícula 2504: 3.56\nPelícula 2506: 3.35\nPelícula 2508: 3.57\nPelícula 2510: 4.53\nPelícula 2512: 3.87\nPelícula 2514: 4.42\nPelícula 2516: 3.77\nPelícula 2518: 3.98\nPelícula 2520: 4.10\nPelícula 2522: 3.69\nPelícula 2524: 3.42\nPelícula 2526: 3.88\nPelícula 2528: 3.24\nPelícula 2530: 3.85\nPelícula 2532: 4.10\nPelícula 2534: 3.47\nPelícula 2536: 3.16\nPelícula 2538: 3.88\nPelícula 2540: 3.97\nPelícula 2542: 3.88\nPelícula 2544: 3.69\nPelícula 2546: 3.32\nPelícula 2548: 3.93\nPelícula 2550: 3.70\nPelícula 2552: 3.62\nPelícula 2554: 4.02\nPelícula 2556: 3.49\nPelícula 2558: 3.56\nPelícula 2560: 4.12\nPelícula 2562: 3.86\nPelícula 2564: 3.77\nPelícula 2566: 3.36\nPelícula 2568: 3.42\nPelícula 2570: 3.81\nPelícula 2572: 4.19\nPelícula 2574: 4.61\nPelícula 2576: 3.08\nPelícula 2578: 4.14\nPelícula 2580: 3.70\nPelícula 2582: 4.00\nPelícula 2584: 3.70\nPelícula 2586: 4.12\nPelícula 2588: 3.80\nPelícula 2590: 3.20\nPelícula 2592: 3.63\nPelícula 2594: 3.11\nPelícula 2596: 3.76\nPelícula 2598: 3.70\nPelícula 2602: 3.34\nPelícula 2604: 3.90\nPelícula 2606: 4.22\nPelícula 2608: 4.01\nPelícula 2610: 3.11\nPelícula 2612: 3.09\nPelícula 2614: 4.13\nPelícula 2616: 3.58\nPelícula 2618: 3.16\nPelícula 2620: 3.53\nPelícula 2622: 3.92\nPelícula 2624: 4.15\nPelícula 2626: 4.05\nPelícula 2628: 3.33\nPelícula 2630: 3.59\nPelícula 2632: 3.59\nPelícula 2634: 3.95\nPelícula 2636: 3.79\nPelícula 2638: 3.10\nPelícula 2640: 3.81\nPelícula 2642: 3.92\nPelícula 2644: 3.86\nPelícula 2646: 4.13\nPelícula 2648: 3.94\nPelícula 2650: 3.73\nPelícula 2652: 4.05\nPelícula 2654: 4.08\nPelícula 2656: 4.09\nPelícula 2658: 3.90\nPelícula 2660: 3.68\nPelícula 2662: 3.69\nPelícula 2664: 3.45\nPelícula 2666: 3.87\nPelícula 2668: 3.42\nPelícula 2670: 3.55\nPelícula 2672: 3.63\nPelícula 2674: 4.14\nPelícula 2676: 4.17\nPelícula 2678: 3.90\nPelícula 2680: 3.29\nPelícula 2684: 3.53\nPelícula 2688: 3.47\nPelícula 2690: 4.22\nPelícula 2692: 3.82\nPelícula 2694: 4.50\nPelícula 2696: 3.30\nPelícula 2698: 4.00\nPelícula 2700: 3.39\nPelícula 2704: 4.04\nPelícula 2706: 4.08\nPelícula 2708: 3.08\nPelícula 2710: 3.20\nP\n\n*** WARNING: max output size exceeded, skipping output. ***\n\nPelícula 1287: 3.95\nPelícula 1289: 4.31\nPelícula 1291: 3.80\nPelícula 1293: 3.43\nPelícula 1295: 3.58\nPelícula 1297: 3.45\nPelícula 1299: 3.79\nPelícula 1301: 3.77\nPelícula 1303: 3.32\nPelícula 1305: 4.33\nPelícula 1307: 4.33\nPelícula 1309: 3.71\nPelícula 1311: 3.48\nPelícula 1313: 3.66\nPelícula 1315: 4.51\nPelícula 1317: 3.66\nPelícula 1319: 3.21\nPelícula 1321: 3.29\nPelícula 1323: 3.70\nPelícula 1325: 3.99\nPelícula 1327: 3.51\nPelícula 1329: 3.29\nPelícula 1331: 3.98\nPelícula 1333: 3.70\nPelícula 1335: 3.07\nPelícula 1337: 3.82\nPelícula 1343: 4.42\nPelícula 1345: 3.72\nPelícula 1347: 3.78\nPelícula 1349: 4.65\nPelícula 1351: 4.20\nPelícula 1353: 3.03\nPelícula 1355: 4.17\nPelícula 1359: 3.65\nPelícula 1361: 4.14\nPelícula 1363: 4.38\nPelícula 1365: 3.63\nPelícula 1367: 3.78\nPelícula 1369: 3.78\nPelícula 1371: 4.27\nPelícula 1373: 3.81\nPelícula 1375: 3.90\nPelícula 1379: 3.25\nPelícula 1381: 3.41\nPelícula 1383: 3.33\nPelícula 1385: 3.73\nPelícula 1387: 3.66\nPelícula 1389: 3.81\nPelícula 1391: 3.47\nPelícula 1393: 4.13\nPelícula 1395: 3.83\nPelícula 1397: 3.49\nPelícula 1399: 3.65\nPelícula 1401: 4.02\nPelícula 1403: 3.85\nPelícula 1405: 3.73\nPelícula 1407: 4.08\nPelícula 1409: 4.21\nPelícula 1411: 3.57\nPelícula 1413: 3.83\nPelícula 1415: 3.72\nPelícula 1417: 3.41\nPelícula 1421: 3.76\nPelícula 1423: 4.19\nPelícula 1425: 3.65\nPelícula 1427: 3.65\nPelícula 1429: 3.29\nPelícula 1431: 3.38\nPelícula 1433: 3.34\nPelícula 1435: 3.46\nPelícula 1437: 4.54\nPelícula 1439: 3.90\nPelícula 1441: 3.63\nPelícula 1443: 4.25\nPelícula 1447: 3.24\nPelícula 1451: 3.90\nPelícula 1453: 3.57\nPelícula 1455: 3.75\nPelícula 1457: 3.95\nPelícula 1459: 4.05\nPelícula 1461: 3.34\nPelícula 1463: 3.59\nPelícula 1465: 3.74\nPelícula 1467: 3.53\nPelícula 1469: 4.06\nPelícula 1471: 3.81\nPelícula 1475: 3.90\nPelícula 1477: 4.06\nPelícula 1479: 4.10\nPelícula 1481: 4.38\nPelícula 1483: 3.10\nPelícula 1485: 3.91\nPelícula 1487: 3.22\nPelícula 1491: 3.25\nPelícula 1493: 3.75\nPelícula 1497: 3.86\nPelícula 1499: 3.94\nPelícula 1501: 3.73\nPelícula 1503: 3.51\nPelícula 1505: 3.74\nPelícula 1507: 4.19\nPelícula 1511: 4.09\nPelícula 1513: 4.06\nPelícula 1515: 3.75\nPelícula 1517: 3.61\nPelícula 1519: 3.53\nPelícula 1521: 3.26\nPelícula 1523: 3.72\nPelícula 1525: 3.66\nPelícula 1527: 3.15\nPelícula 1529: 3.77\nPelícula 1531: 3.46\nPelícula 1533: 3.84\nPelícula 1535: 3.90\nPelícula 1537: 3.76\nPelícula 1539: 4.37\nPelícula 1541: 4.42\nPelícula 1543: 3.46\nPelícula 1545: 3.10\nPelícula 1547: 3.93\nPelícula 1549: 3.62\nPelícula 1551: 3.94\nPelícula 1553: 3.72\nPelícula 1555: 4.35\nPelícula 1557: 3.98\nPelícula 1559: 3.59\nPelícula 1561: 4.01\nPelícula 1563: 3.81\nPelícula 1565: 3.74\nPelícula 1567: 3.89\nPelícula 1569: 4.59\nPelícula 1571: 3.95\nPelícula 1573: 3.69\nPelícula 1575: 3.87\nPelícula 1577: 4.10\nPelícula 1579: 3.45\nPelícula 1581: 3.22\nPelícula 1583: 3.73\nPelícula 1585: 3.61\nPelícula 1587: 3.33\nPelícula 1589: 3.78\nPelícula 1591: 4.34\nPelícula 1593: 3.04\nPelícula 1595: 4.05\nPelícula 1597: 3.56\nPelícula 1599: 3.30\nPelícula 1601: 3.91\nPelícula 1603: 3.84\nPelícula 1605: 3.31\nPelícula 1607: 3.18\nPelícula 1609: 3.42\nPelícula 1611: 3.57\nPelícula 1613: 3.43\nPelícula 1615: 3.05\nPelícula 1617: 3.08\nPelícula 1619: 4.03\nPelícula 1621: 3.14\nPelícula 1623: 4.21\nPelícula 1625: 3.36\nPelícula 1629: 3.49\nPelícula 1631: 3.84\nPelícula 1635: 3.78\nPelícula 1637: 3.99\nPelícula 1639: 3.66\nPelícula 1643: 4.29\nPelícula 1645: 4.06\nPelícula 1647: 3.23\nPelícula 1649: 3.84\nPelícula 1651: 3.20\nPelícula 1653: 3.92\nPelícula 1655: 3.80\nPelícula 1657: 3.89\nPelícula 1661: 3.89\nPelícula 1663: 4.13\nPelícula 1665: 3.68\nPelícula 1667: 3.41\nPelícula 1669: 3.73\nPelícula 1671: 3.86\nPelícula 1673: 4.37\nPelícula 1675: 3.21\nPelícula 1677: 3.56\nPelícula 1679: 3.93\nPelícula 1681: 4.13\nPelícula 1683: 3.49\nPelícula 1685: 3.57\nPelícula 1687: 3.53\nPelícula 1689: 3.61\nPelícula 1691: 3.52\nPelícula 1693: 3.74\nPelícula 1695: 3.65\nPelícula 1697: 4.18\nPelícula 1699: 4.31\nPelícula 1701: 3.55\nPelícula 1703: 4.08\nPelícula 1705: 3.69\nPelícula 1707: 4.33\nPelícula 1709: 3.70\nPelícula 1711: 3.62\nPelícula 1713: 3.33\nPelícula 1715: 3.46\nPelícula 1717: 3.82\nPelícula 1723: 3.67\nPelícula 1725: 3.75\nPelícula 1727: 4.04\nPelícula 1729: 3.09\nPelícula 1731: 3.40\nPelícula 1733: 3.53\nPelícula 1735: 3.23\nPelícula 1737: 3.41\nPelícula 1739: 3.77\nPelícula 1741: 3.98\nPelícula 1743: 3.97\nPelícula 1745: 3.71\nPelícula 1751: 4.43\nPelícula 1753: 3.94\nPelícula 1755: 3.57\nPelícula 1757: 3.69\nPelícula 1759: 3.72\nPelícula 1763: 3.77\nPelícula 1765: 3.98\nPelícula 1767: 3.58\nPelícula 1771: 4.33\nPelícula 1773: 3.77\nPelícula 1775: 3.72\nPelícula 1777: 3.89\nPelícula 1779: 3.30\nPelícula 1781: 3.42\nPelícula 1783: 3.57\nPelícula 1785: 3.06\nPelícula 1787: 3.32\nPelícula 1789: 4.17\nPelícula 1791: 3.59\nPelícula 1793: 3.40\nPelícula 1795: 4.32\nPelícula 1797: 4.18\nPelícula 1799: 3.52\nPelícula 1801: 3.95\nPelícula 1803: 3.43\nPelícula 1805: 4.09\nPelícula 1807: 3.64\nPelícula 1809: 3.14\nPelícula 1811: 3.90\nPelícula 1813: 3.50\nPelícula 1815: 3.79\nPelícula 1817: 3.02\nPelícula 1819: 3.73\nPelícula 1821: 4.04\nPelícula 1823: 4.00\nPelícula 1825: 3.52\nPelícula 1827: 3.59\nPelícula 1829: 3.33\nPelícula 1831: 3.51\nPelícula 1833: 3.31\nPelícula 1835: 4.11\nPelícula 1837: 3.50\nPelícula 1839: 3.98\nPelícula 1843: 3.69\nPelícula 1845: 3.21\nPelícula 1847: 4.32\nPelícula 1849: 3.71\nPelícula 1853: 4.12\nPelícula 1855: 3.14\nPelícula 1857: 4.27\nPelícula 1859: 3.57\nPelícula 1861: 3.34\nPelícula 1863: 4.50\nPelícula 1865: 3.58\nPelícula 1869: 3.92\nPelícula 1871: 3.73\nPelícula 1873: 3.49\nPelícula 1875: 3.62\nPelícula 1877: 3.13\nPelícula 1879: 3.93\nPelícula 1881: 4.33\nPelícula 1883: 3.33\nPelícula 1885: 4.16\nPelícula 1887: 3.38\nPelícula 1889: 3.27\nPelícula 1891: 3.55\nPelícula 1893: 3.75\nPelícula 1895: 4.03\nPelícula 1897: 3.71\nPelícula 1899: 3.79\nPelícula 1901: 4.17\nPelícula 1903: 4.02\nPelícula 1905: 4.11\nPelícula 1907: 3.83\nPelícula 1909: 3.53\nPelícula 1911: 3.55\nPelícula 1913: 4.30\nPelícula 1915: 3.61\nPelícula 1917: 3.90\nPelícula 1919: 3.56\nPelícula 1921: 3.26\nPelícula 1923: 3.28\nPelícula 1925: 3.65\nPelícula 1927: 3.95\nPelícula 1929: 3.56\nPelícula 1931: 3.62\nPelícula 1933: 3.47\nPelícula 1935: 3.48\nPelícula 1937: 3.18\nPelícula 1939: 3.78\nPelícula 1941: 3.05\nPelícula 1943: 3.62\nPelícula 1947: 3.95\nPelícula 1949: 4.18\nPelícula 1951: 3.02\nPelícula 1953: 3.79\nPelícula 1955: 3.55\nPelícula 1957: 3.94\nPelícula 1959: 4.51\nPelícula 1961: 3.55\nPelícula 1963: 4.18\nPelícula 1965: 3.12\nPelícula 1967: 3.54\nPelícula 1969: 3.82\nPelícula 1971: 4.27\nPelícula 1973: 3.84\nPelícula 1975: 3.84\nPelícula 1977: 3.63\nPelícula 1979: 3.11\nPelícula 1981: 3.03\nPelícula 1983: 4.14\nPelícula 1985: 3.58\nPelícula 1987: 3.62\nPelícula 1989: 3.33\nPelícula 1991: 4.29\nPelícula 1993: 3.75\nPelícula 1995: 3.90\nPelícula 1997: 4.08\nPelícula 1999: 3.82\nPelícula 2001: 3.59\nPelícula 2003: 4.34\nPelícula 2007: 3.90\nPelícula 2009: 4.04\nPelícula 2011: 3.84\nPelícula 2013: 3.90\nPelícula 2015: 3.13\nPelícula 2017: 3.90\nPelícula 2019: 3.56\nPelícula 2021: 3.85\nPelícula 2023: 3.92\nPelícula 2025: 3.68\nPelícula 2027: 4.02\nPelícula 2029: 3.16\nPelícula 2031: 3.56\nPelícula 2035: 3.57\nPelícula 2037: 3.45\nPelícula 2039: 3.58\nPelícula 2041: 3.55\nPelícula 2045: 4.04\nPelícula 2047: 3.59\nPelícula 2049: 4.11\nPelícula 2051: 3.43\nPelícula 2053: 3.40\nPelícula 2055: 4.17\nPelícula 2057: 3.86\nPelícula 2059: 3.55\nPelícula 2061: 4.30\nPelícula 2065: 4.45\nPelícula 2067: 3.57\nPelícula 2069: 3.91\nPelícula 2071: 3.41\nPelícula 2073: 3.70\nPelícula 2075: 3.33\nPelícula 2077: 3.23\nPelícula 2079: 3.47\nPelícula 2081: 3.12\nPelícula 2083: 4.35\nPelícula 2085: 3.66\nPelícula 2087: 3.57\nPelícula 2089: 3.75\nPelícula 2091: 4.09\nPelícula 2093: 3.48\nPelícula 2095: 3.36\nPelícula 2097: 3.29\nPelícula 2099: 3.53\nPelícula 2101: 3.30\nPelícula 2103: 3.87\nPelícula 2105: 3.22\nPelícula 2107: 4.07\nPelícula 2111: 3.75\nPelícula 2113: 3.85\nPelícula 2115: 3.86\nPelícula 2117: 4.26\nPelícula 2119: 3.54\nPelícula 2121: 3.67\nPelícula 2123: 4.09\nPelícula 2125: 3.87\nPelícula 2127: 3.21\nPelícula 2129: 3.27\nPelícula 2131: 3.37\nPelícula 2133: 3.25\nPelícula 2135: 3.73\nPelícula 2137: 4.13\nPelícula 2139: 4.13\nPelícula 2141: 4.20\nPelícula 2143: 3.12\nPelícula 2145: 4.06\nPelícula 2147: 3.58\nPelícula 2149: 3.81\nPelícula 2151: 3.18\nPelícula 2153: 3.85\nPelícula 2155: 4.69\nPelícula 2157: 3.49\nPelícula 2159: 4.47\nPelícula 2161: 3.58\nPelícula 2163: 4.10\nPelícula 2165: 4.09\nPelícula 2169: 3.81\nPelícula 2171: 4.45\nPelícula 2173: 3.77\nPelícula 2175: 4.14\nPelícula 2177: 3.62\nPelícula 2179: 3.27\nPelícula 2181: 3.33\nPelícula 2183: 3.69\nPelícula 2185: 4.28\nPelícula 2187: 3.73\nPelícula 2189: 3.60\nPelícula 2191: 3.18\nPelícula 2193: 4.00\nPelícula 2195: 3.41\nPelícula 2197: 4.11\nPelícula 2199: 3.07\nPelícula 2201: 4.35\nPelícula 2203: 4.05\nPelícula 2205: 3.08\nPelícula 2207: 4.24\nPelícula 2209: 3.43\nPelícula 2211: 3.97\nPelícula 2213: 3.64\nPelícula 2215: 3.27\nPelícula 2217: 3.20\nPelícula 2219: 3.68\nPelícula 2221: 3.60\nPelícula 2223: 3.09\nPelícula 2225: 3.34\nPelícula 2227: 3.98\nPelícula 2229: 3.49\nPelícula 2231: 3.67\nPelícula 2233: 3.34\nPelícula 2235: 3.91\nPelícula 2237: 3.92\nPelícula 2239: 4.09\nPelícula 2241: 4.25\nPelícula 2243: 4.68\nPelícula 2245: 3.10\nPelícula 2247: 3.92\nPelícula 2249: 3.93\nPelícula 2251: 3.66\nPelícula 2253: 4.10\nPelícula 2255: 3.67\nPelícula 2257: 3.54\nPelícula 2259: 4.47\nPelícula 2261: 3.40\nPelícula 2263: 3.71\nPelícula 2265: 3.64\nPelícula 2267: 3.55\nPelícula 2269: 3.36\nPelícula 2271: 4.11\nPelícula 2273: 3.85\nPelícula 2275: 3.86\nPelícula 2277: 3.39\nPelícula 2279: 3.64\nPelícula 2281: 4.05\nPelícula 2283: 3.70\nPelícula 2285: 3.63\nPelícula 2287: 4.44\nPelícula 2289: 4.05\nPelícula 2291: 4.00\nPelícula 2293: 4.32\nPelícula 2295: 4.41\nPelícula 2297: 4.05\nPelícula 2301: 3.88\nPelícula 2303: 4.17\nPelícula 2305: 3.13\nPelícula 2307: 4.39\nPelícula 2309: 3.51\nPelícula 2311: 4.00\nPelícula 2313: 4.42\nPelícula 2317: 4.16\nPelícula 2319: 3.77\nPelícula 2321: 3.80\nPelícula 2323: 3.67\nPelícula 2325: 3.36\nPelícula 2327: 3.34\nPelícula 2329: 3.38\nPelícula 2331: 4.21\nPelícula 2333: 3.71\nPelícula 2335: 3.71\nPelícula 2337: 4.18\nPelícula 2339: 4.96\nPelícula 2341: 3.28\nPelícula 2343: 4.19\nPelícula 2345: 3.74\nPelícula 2347: 3.91\nPelícula 2349: 3.10\nPelícula 2351: 3.45\nPelícula 2353: 3.61\nPelícula 2355: 3.56\nPelícula 2357: 3.93\nPelícula 2359: 3.63\nPelícula 2361: 3.61\nPelícula 2363: 4.58\nPelícula 2365: 4.19\nPelícula 2367: 3.79\nPelícula 2369: 4.45\nPelícula 2371: 3.68\nPelícula 2373: 4.10\nPelícula 2375: 3.70\nPelícula 2377: 3.97\nPelícula 2379: 4.19\nPelícula 2381: 3.20\nPelícula 2383: 3.53\nPelícula 2385: 3.78\nPelícula 2387: 3.82\nPelícula 2389: 3.85\nPelícula 2391: 3.69\nPelícula 2393: 3.89\nPelícula 2395: 3.72\nPelícula 2397: 4.00\nPelícula 2399: 3.77\nPelícula 2401: 4.36\nPelícula 2403: 3.47\nPelícula 2405: 3.86\nPelícula 2407: 4.06\nPelícula 2409: 3.88\nPelícula 2411: 3.50\nPelícula 2413: 3.33\nPelícula 2415: 3.67\nPelícula 2417: 4.45\nPelícula 2419: 3.33\nPelícula 2421: 3.82\nPelícula 2423: 4.04\nPelícula 2425: 3.62\nPelícula 2427: 3.88\nPelícula 2429: 3.94\nPelícula 2431: 3.50\nPelícula 2433: 3.65\nPelícula 2435: 3.75\nPelícula 2437: 3.60\nPelícula 2441: 4.07\nPelícula 2443: 3.38\nPelícula 2445: 3.54\nPelícula 2447: 4.21\nPelícula 2449: 3.81\nPelícula 2451: 3.05\nPelícula 2453: 3.53\nPelícula 2457: 3.17\nPelícula 2459: 3.75\nPelícula 2461: 3.74\nPelícula 2463: 3.22\nPelícula 2465: 4.31\nPelícula 2467: 4.41\nPelícula 2469: 3.71\nPelícula 2471: 3.16\nPelícula 2473: 3.84\nPelícula 2475: 4.05\nPelícula 2477: 4.48\nPelícula 2479: 3.85\nPelícula 2481: 3.91\nPelícula 2483: 3.90\nPelícula 2485: 3.67\nPelícula 2487: 3.70\nPelícula 2489: 3.40\nPelícula 2491: 3.04\nPelícula 2493: 3.53\nPelícula 2495: 3.49\nPelícula 2497: 4.50\nPelícula 2499: 3.62\nPelícula 2501: 3.91\nPelícula 2503: 3.02\nPelícula 2505: 4.09\nPelícula 2507: 3.94\nPelícula 2509: 3.34\nPelícula 2511: 4.21\nPelícula 2513: 4.08\nPelícula 2515: 4.14\nPelícula 2517: 3.30\nPelícula 2519: 3.94\nPelícula 2521: 3.89\nPelícula 2523: 4.01\nPelícula 2525: 3.54\nPelícula 2527: 4.14\nPelícula 2529: 3.69\nPelícula 2531: 3.81\nPelícula 2533: 3.92\nPelícula 2535: 3.98\nPelícula 2537: 3.03\nPelícula 2539: 3.80\nPelícula 2541: 3.32\nPelícula 2543: 4.46\nPelícula 2545: 4.10\nPelícula 2547: 4.14\nPelícula 2549: 3.09\nPelícula 2551: 3.30\nPelícula 2553: 4.13\nPelícula 2555: 3.60\nPelícula 2557: 3.65\nPelícula 2559: 3.84\nPelícula 2561: 3.78\nPelícula 2565: 3.72\nPelícula 2567: 3.49\nPelícula 2569: 3.46\nPelícula 2571: 4.07\nPelícula 2573: 4.01\nPelícula 2575: 3.73\nPelícula 2577: 3.15\nPelícula 2579: 4.16\nPelícula 2581: 4.05\nPelícula 2583: 4.34\nPelícula 2585: 3.71\nPelícula 2587: 4.03\nPelícula 2589: 3.52\nPelícula 2591: 3.80\nPelícula 2593: 4.54\nPelícula 2595: 3.35\nPelícula 2597: 3.88\nPelícula 2599: 3.62\nPelícula 2601: 3.79\nPelícula 2603: 3.88\nPelícula 2605: 3.94\nPelícula 2607: 4.18\nPelícula 2609: 4.31\nPelícula 2611: 3.35\nPelícula 2613: 4.09\nPelícula 2615: 3.49\nPelícula 2617: 3.59\nPelícula 2619: 4.24\nPelícula 2623: 3.76\nPelícula 2625: 3.39\nPelícula 2627: 3.24\nPelícula 2629: 4.01\nPelícula 2631: 4.27\nPelícula 2633: 3.76\nPelícula 2635: 3.44\nPelícula 2637: 3.41\nPelícula 2639: 3.88\nPelícula 2641: 4.10\nPelícula 2643: 3.40\nPelícula 2645: 3.40\nPelícula 2647: 4.33\nPelícula 2649: 3.15\nPelícula 2651: 3.31\nPelícula 2653: 3.62\nPelícula 2655: 3.13\nPelícula 2657: 4.05\nPelícula 2659: 4.11\nPelícula 2661: 3.61\nPelícula 2663: 3.69\nPelícula 2665: 3.07\nPelícula 2667: 3.41\nPelícula 2669: 3.75\nPelícula 2671: 3.22\nPelícula 2673: 3.75\nPelícula 2675: 3.32\nPelícula 2677: 3.71\nPelícula 2679: 3.78\nPelícula 2681: 3.63\nPelícula 2683: 4.37\nPelícula 2685: 3.60\nPelícula 2687: 4.26\nPelícula 2689: 4.39\nPelícula 2691: 4.49\nPelícula 2693: 3.88\nPelícula 2695: 3.98\nPelícula 2697: 4.41\nPelícula 2699: 4.16\nPelícula 2701: 3.22\nPelícula 2703: 3.68\nPelícula 2705: 4.09\nPelícula 2707: 3.52\nPelícula 2715: 3.33\nPelícula 2717: 3.76\nPelícula 2719: 4.15\nPelícula 2721: 3.82\nPelícula 2723: 3.43\nPelícula 2725: 3.63\nPelícula 2727: 3.35\nPelícula 2729: 4.48\nPelícula 2731: 4.27\nPelícula 2733: 4.43\nPelícula 2735: 3.42\nPelícula 2737: 3.55\nPelícula 2739: 3.41\nPelícula 2741: 4.00\nPelícula 2743: 3.57\nPelícula 2745: 3.85\nPelícula 2747: 4.30\nPelícula 2749: 3.96\nPelícula 2751: 3.43\nPelícula 2753: 3.78\nPelícula 2755: 4.43\nPelícula 2757: 3.95\nPelícula 2759: 3.55\nPelícula 2761: 3.52\nPelícula 2765: 3.62\nPelícula 2767: 3.27\nPelícula 2769: 3.75\nPelícula 2773: 4.07\nPelícula 2775: 4.38\nPelícula 2777: 3.50\nPelícula 2779: 3.94\nPelícula 2781: 4.26\nPelícula 2783: 3.91\nPelícula 2785: 3.15\nPelícula 2787: 3.97\nPelícula 2789: 3.78\nPelícula 2791: 4.56\nPelícula 2793: 4.07\nPelícula 2795: 3.62\nPelícula 2799: 4.13\nPelícula 2801: 3.18\nPelícula 2803: 3.79\nPelícula 2805: 3.90\nPelícula 2807: 3.39\nPelícula 2809: 4.34\nPelícula 2811: 3.67\nPelícula 2815: 3.69\nPelícula 2817: 4.21\nPelícula 2819: 3.90\nPelícula 2821: 3.63\nPelícula 2825: 3.96\nPelícula 2827: 3.24\nPelícula 2831: 4.22\nPelícula 2833: 3.30\nPelícula 2835: 3.87\nPelícula 2837: 3.30\nPelícula 2839: 3.31\nPelícula 2841: 4.17\nPelícula 2845: 3.94\nPelícula 2849: 4.51\nPelícula 2851: 3.58\nPelícula 2853: 3.46\nPelícula 2857: 3.16\nPelícula 2859: 4.20\nPelícula 2861: 3.37\nPelícula 2863: 3.64\nPelícula 2865: 3.73\nPelícula 2867: 4.25\nPelícula 2869: 3.73\nPelícula 2871: 3.61\nPelícula 2873: 3.57\nPelícula 2875: 4.31\nPelícula 2877: 3.48\nPelícula 2879: 3.96\nPelícula 2881: 3.82\nPelícula 2885: 4.09\nPelícula 2887: 3.52\nPelícula 2889: 3.81\nPelícula 2891: 3.36\nPelícula 2893: 3.86\nPelícula 2895: 3.74\nPelícula 2897: 3.62\nPelícula 2899: 3.95\nPelícula 2901: 4.29\nPelícula 2903: 4.09\nPelícula 2905: 3.70\nPelícula 2907: 3.29\nPelícula 2909: 3.82\nPelícula 2911: 3.63\nPelícula 2913: 3.96\nPelícula 2915: 3.76\nPelícula 2917: 3.53\nPelícula 2919: 3.77\nPelícula 2921: 3.28\nPelícula 2923: 3.95\nPelícula 2925: 3.84\nPelícula 2927: 3.79\nPelícula 2929: 3.93\nPelícula 2931: 3.63\nPelícula 2933: 3.78\nPelícula 2935: 3.42\nPelícula 2937: 3.53\nPelícula 2939: 3.78\nPelícula 2941: 3.46\nPelícula 2943: 4.40\nPelícula 2945: 3.84\nPelícula 2947: 3.71\nPelícula 2949: 3.75\nPelícula 2951: 4.23\nPelícula 2953: 3.20\nPelícula 2955: 3.24\nPelícula 2957: 4.45\nPelícula 2959: 3.97\nPelícula 2961: 3.98\nPelícula 2963: 3.97\nPelícula 2965: 3.59\nPelícula 2967: 3.46\nPelícula 2969: 3.71\nPelícula 2971: 3.83\nPelícula 2973: 3.44\nPelícula 2975: 4.19\nPelícula 2977: 3.24\nPelícula 2979: 4.00\nPelícula 2981: 4.27\nPelícula 2983: 4.36\nPelícula 2985: 3.53\nPelícula 2987: 3.65\nPelícula 2989: 3.74\nPelícula 2991: 3.97\nPelícula 2993: 3.82\nPelícula 2995: 3.85\nPelícula 2997: 4.01\nPelícula 3001: 3.99\nPelícula 3003: 3.92\nPelícula 3005: 3.80\nPelícula 3009: 4.00\nPelícula 3011: 4.32\nPelícula 3013: 3.45\nPelícula 3015: 3.43\nPelícula 3017: 3.28\nPelícula 3019: 4.15\nPelícula 3021: 3.25\nPelícula 3023: 3.52\nPelícula 3025: 4.11\nPelícula 3027: 4.22\nPelícula 3029: 3.91\nPelícula 3031: 3.90\nPelícula 3033: 3.60\nPelícula 3035: 3.81\nPelícula 3037: 4.22\nPelícula 3039: 4.41\nPelícula 3041: 3.48\nPelícula 3045: 4.28\nPelícula 3047: 3.64\nPelícula 3049: 4.27\nPelícula 3051: 3.26\nPelícula 3053: 3.25\nPelícula 3055: 3.51\nPelícula 3057: 3.47\nPelícula 3059: 4.00\nPelícula 3061: 4.12\nPelícula 3063: 3.69\nPelícula 3065: 3.79\nPelícula 3067: 3.75\nPelícula 3071: 3.08\nPelícula 3073: 4.54\nPelícula 3075: 3.63\nPelícula 3077: 3.85\nPelícula 3079: 3.88\nPelícula 3081: 4.04\nPelícula 3083: 3.85\nPelícula 3085: 4.17\nPelícula 3087: 3.92\nPelícula 3089: 4.34\nPelícula 3091: 3.75\nPelícula 3093: 3.80\nPelícula 3095: 3.90\nPelícula 3097: 3.63\nPelícula 3099: 3.28\nPelícula 3101: 4.15\nPelícula 3103: 4.13\nPelícula 3105: 3.99\nPelícula 3107: 3.56\nPelícula 3109: 3.53\nPelícula 3111: 3.24\nPelícula 3113: 3.68\nPelícula 3115: 3.42\nPelícula 3117: 4.30\nPelícula 3119: 3.38\nPelícula 3121: 3.47\nPelícula 3123: 3.56\nPelícula 3125: 3.73\nPelícula 3127: 4.12\nPelícula 3129: 3.27\nPelícula 3131: 3.35\nPelícula 3133: 3.29\nPelícula 3135: 4.10\nPelícula 3137: 3.43\nPelícula 3139: 4.12\nPelícula 3141: 4.11\nPelícula 3143: 3.35\nPelícula 3145: 3.73\nPelícula 3147: 3.48\nPelícula 3149: 4.11\nPelícula 3151: 4.12\nPelícula 3153: 3.61\nPelícula 3155: 4.04\nPelícula 3157: 3.56\nPelícula 3159: 4.03\nPelícula 3161: 4.14\nPelícula 3163: 3.93\nPelícula 3165: 3.70\nPelícula 3167: 4.03\nPelícula 3169: 3.77\nPelícula 3171: 4.18\nPelícula 3173: 4.17\nPelícula 3175: 4.09\nPelícula 3177: 4.18\nPelícula 3179: 3.20\nPelícula 3181: 4.36\nPelícula 3183: 3.35\nPelícula 3185: 3.99\nPelícula 3187: 4.33\nPelícula 3189: 3.18\nPelícula 3191: 3.15\nPelícula 3193: 3.15\nPelícula 3195: 3.50\nPelícula 3197: 3.32\nPelícula 3199: 3.47\nPelícula 3201: 4.08\nPelícula 3203: 4.05\nPelícula 3205: 3.41\nPelícula 3207: 4.14\nPelícula 3211: 4.05\nPelícula 3213: 3.69\nPelícula 3215: 3.25\nPelícula 3217: 3.86\nPelícula 3219: 3.75\nPelícula 3221: 4.29\nPelícula 3223: 3.56\nPelícula 3225: 3.67\nPelícula 3227: 3.73\nPelícula 3229: 3.40\nPelícula 3231: 4.12\nPelícula 3233: 4.09\nPelícula 3235: 4.11\nPelícula 3237: 3.88\nPelícula 3239: 3.55\nPelícula 3241: 3.71\nPelícula 3243: 3.82\nPelícula 3247: 3.90\nPelícula 3249: 3.74\nPelícula 3251: 4.46\nPelícula 3253: 3.86\nPelícula 3255: 3.62\nPelícula 3257: 4.26\nPelícula 3259: 4.05\nPelícula 3261: 3.24\nPelícula 3263: 3.93\nPelícula 3267: 3.86\nPelícula 3269: 3.86\nPelícula 3271: 3.82\nPelícula 3273: 4.10\nPelícula 3275: 3.48\nPelícula 3277: 4.05\nPelícula 3281: 4.03\nPelícula 3283: 3.60\nPelícula 3285: 3.42\nPelícula 3287: 4.58\nPelícula 3289: 3.84\nPelícula 3291: 3.75\nPelícula 3293: 3.29\nPelícula 3295: 3.82\nPelícula 3297: 3.24\nPelícula 3299: 4.05\nPelícula 3301: 3.70\nPelícula 3303: 4.40\nPelícula 3305: 4.28\nPelícula 3307: 3.62\nPelícula 3309: 3.65\nPelícula 3313: 3.61\nPelícula 3315: 4.02\nPelícula 3317: 3.97\nPelícula 3319: 3.44\nPelícula 3321: 4.00\nPelícula 3323: 3.84\nPelícula 3327: 3.51\nPelícula 3329: 3.51\nPelícula 3331: 3.61\nPelícula 3333: 3.53\nPelícula 3335: 4.07\nPelícula 3337: 3.72\nPelícula 3339: 4.01\nPelícula 3341: 3.96\nPelícula 3343: 4.12\nPelícula 3345: 3.55\nPelícula 3347: 4.40\nPelícula 3349: 3.69\nPelícula 3351: 4.00\nPelícula 3353: 3.87\nPelícula 3355: 3.94\nPelícula 3357: 4.07\nPelícula 3359: 3.48\nPelícula 3361: 3.84\nPelícula 3363: 3.54\nPelícula 3365: 4.16\nPelícula 3367: 4.26\nPelícula 3369: 3.91\nPelícula 3371: 3.43\nPelícula 3373: 3.50\nPelícula 3375: 3.74\nPelícula 3377: 3.98\nPelícula 3379: 3.72\nPelícula 3381: 3.48\nPelícula 3383: 3.61\nPelícula 3385: 3.33\nPelícula 3387: 3.38\nPelícula 3391: 3.72\nPelícula 3393: 3.54\nPelícula 3395: 3.70\nPelícula 3397: 4.07\nPelícula 3399: 3.55\nPelícula 3403: 4.14\nPelícula 3405: 4.12\nPelícula 3407: 3.50\nPelícula 3409: 4.20\nPelícula 3413: 4.11\nPelícula 3415: 4.01\nPelícula 3417: 3.87\nPelícula 3419: 4.03\nPelícula 3421: 4.33\nPelícula 3423: 3.94\nPelícula 3425: 3.54\nPelícula 3427: 3.76\nPelícula 3429: 3.60\nPelícula 3431: 3.81\nPelícula 3433: 3.02\nPelícula 3435: 3.83\nPelícula 3437: 4.50\nPelícula 3439: 4.10\nPelícula 3443: 3.92\nPelícula 3445: 3.88\nPelícula 3447: 3.86\nPelícula 3449: 4.17\nPelícula 3451: 3.87\nPelícula 3453: 3.37\nPelícula 3455: 4.04\nPelícula 3457: 3.52\nPelícula 3459: 3.79\nPelícula 3461: 4.70\nPelícula 3463: 3.89\nPelícula 3465: 3.81\nPelícula 3467: 4.08\nPelícula 3469: 3.88\nPelícula 3471: 3.17\nPelícula 3473: 3.99\nPelícula 3475: 3.02\nPelícula 3477: 3.96\nPelícula 3479: 3.59\nPelícula 3481: 3.98\nPelícula 3483: 3.81\nPelícula 3485: 4.25\nPelícula 3487: 3.53\nPelícula 3491: 3.82\nPelícula 3493: 3.58\nPelícula 3495: 3.29\nPelícula 3497: 4.18\nPelícula 3499: 3.49\nPelícula 3501: 4.21\nPelícula 3503: 4.09\nPelícula 3505: 3.62\nPelícula 3507: 3.26\nPelícula 3511: 3.88\nPelícula 3513: 3.41\nPelícula 3515: 3.86\nPelícula 3517: 3.87\nPelícula 3519: 3.05\nPelícula 3521: 3.79\nPelícula 3523: 3.82\nPelícula 3525: 3.48\nPelícula 3527: 3.56\nPelícula 3529: 3.04\nPelícula 3531: 4.23\nPelícula 3533: 3.55\nPelícula 3535: 3.97\nPelícula 3539: 4.04\nPelícula 3541: 4.23\nPelícula 3543: 3.61\nPelícula 3545: 3.43\nPelícula 3547: 3.54\nPelícula 3549: 3.95\nPelícula 3551: 3.93\nPelícula 3553: 4.09\nPelícula 3555: 3.11\nPelícula 3557: 3.86\nPelícula 3559: 4.39\nPelícula 3561: 3.98\nPelícula 3563: 3.84\nPelícula 3565: 3.17\nPelícula 3567: 3.96\nPelícula 3571: 3.37\nPelícula 3573: 3.36\nPelícula 3575: 3.32\nPelícula 3577: 3.73\nPelícula 3579: 3.32\nPelícula 3581: 3.24\nPelícula 3583: 4.20\nPelícula 3585: 3.69\nPelícula 3587: 4.35\nPelícula 3591: 3.71\nPelícula 3593: 3.39\nPelícula 3595: 4.00\nPelícula 3597: 3.97\nPelícula 3599: 3.45\nPelícula 3601: 4.13\nPelícula 3605: 3.95\nPelícula 3607: 3.44\nPelícula 3609: 3.16\nPelícula 3611: 4.03\nPelícula 3613: 3.86\nPelícula 3615: 3.43\nPelícula 3617: 3.62\nPelícula 3619: 3.68\nPelícula 3621: 3.11\nPelícula 3623: 3.68\nPelícula 3625: 3.28\nPelícula 3627: 3.64\nPelícula 3629: 4.16\nPelícula 3631: 3.88\nPelícula 3633: 4.00\nPelícula 3635: 4.21\nPelícula 3641: 3.64\nPelícula 3643: 3.49\nPelícula 3645: 3.86\nPelícula 3647: 3.79\nPelícula 3649: 4.25\nPelícula 3651: 3.95\nPelícula 3653: 4.21\nPelícula 3655: 3.78\nPelícula 3657: 4.16\nPelícula 3659: 4.22\nPelícula 3661: 3.92\nPelícula 3663: 3.45\nPelícula 3665: 3.86\nPelícula 3667: 3.93\nPelícula 3669: 3.19\nPelícula 3671: 4.20\nPelícula 3673: 3.90\nPelícula 3675: 3.49\nPelícula 3677: 3.95\nPelícula 3679: 3.56\nPelícula 3681: 3.87\nPelícula 3683: 3.10\nPelícula 3685: 4.07\nPelícula 3687: 3.08\nPelícula 3691: 3.67\nPelícula 3693: 3.45\nPelícula 3695: 3.99\nPelícula 3697: 4.03\nPelícula 3699: 4.61\nPelícula 3701: 3.75\nPelícula 3703: 3.30\nPelícula 3705: 3.70\nPelícula 3707: 3.82\nPelícula 3709: 3.27\nPelícula 3711: 4.19\nPelícula 3713: 3.75\nPelícula 3715: 3.75\nPelícula 3717: 3.77\nPelícula 3719: 3.81\nPelícula 3721: 3.71\nPelícula 3723: 4.26\nPelícula 3725: 3.69\nPelícula 3727: 3.23\nPelícula 3729: 3.78\nPelícula 3733: 3.82\nPelícula 3735: 3.64\nPelícula 3737: 3.90\nPelícula 3739: 3.55\nPelícula 3741: 3.61\nPelícula 3743: 3.56\nPelícula 3745: 3.30\nPelícula 3747: 4.03\nPelícula 3749: 3.69\nPelícula 3751: 3.39\nPelícula 3753: 3.78\nPelícula 3755: 4.47\nPelícula 3757: 4.26\nPelícula 3759: 4.01\nPelícula 3761: 4.19\nPelícula 3763: 3.89\nPelícula 3765: 4.00\nPelícula 3767: 3.20\nPelícula 3769: 4.29\nPelícula 3773: 3.43\nPelícula 3775: 3.81\nPelícula 3777: 3.63\nPelícula 3779: 3.62\nPelícula 3781: 4.48\nPelícula 3783: 3.88\nPelícula 3785: 3.20\nPelícula 3787: 4.05\nPelícula 3789: 4.23\nPelícula 3791: 3.39\nPelícula 3795: 4.14\nPelícula 3797: 3.48\nPelícula 3799: 3.99\nPelícula 3801: 3.81\nPelícula 3803: 3.64\nPelícula 3805: 3.78\nPelícula 3807: 3.34\nPelícula 3809: 4.40\nPelícula 3811: 3.80\nPelícula 3813: 4.45\nPelícula 3815: 4.33\nPelícula 3817: 3.45\nPelícula 3819: 4.04\nPelícula 3823: 3.95\nPelícula 3827: 3.75\nPelícula 3829: 3.01\nPelícula 3831: 3.40\nPelícula 3833: 3.67\nPelícula 3835: 4.47\nPelícula 3837: 3.77\nPelícula 3839: 3.34\nPelícula 3841: 3.34\nPelícula 3845: 4.12\nPelícula 3849: 3.15\nPelícula 3851: 3.12\nPelícula 3853: 4.25\nPelícula 3855: 3.71\nPelícula 3857: 3.93\nPelícula 3859: 3.41\nPelícula 3861: 3.98\nPelícula 3863: 3.76\nPelícula 3867: 4.00\nPelícula 3871: 3.30\nPelícula 3873: 3.70\nPelícula 3875: 3.72\nPelícula 3877: 4.41\nPelícula 3879: 3.30\nPelícula 3881: 3.59\nPelícula 3883: 3.25\nPelícula 3885: 3.69\nPelícula 3887: 3.34\nPelícula 3889: 4.29\nPelícula 3891: 4.16\nPelícula 3895: 3.30\nPelícula 3897: 4.10\nPelícula 3899: 3.58\nPelícula 3901: 3.55\nPelícula 3903: 3.33\nPelícula 3905: 3.91\nPelícula 3907: 3.58\nPelícula 3909: 3.41\nPelícula 3911: 3.64\nPelícula 3913: 3.66\nPelícula 3915: 3.65\nPelícula 3917: 3.65\nPelícula 3919: 4.07\nPelícula 3921: 3.93\nPelícula 3923: 3.78\nPelícula 3925: 3.97\nPelícula 3927: 3.94\nPelícula 3929: 3.03\nPelícula 3931: 3.51\nPelícula 3933: 3.88\nPelícula 3935: 3.42\nPelícula 3937: 4.27\nPelícula 3939: 3.71\nPelícula 3941: 3.02\nPelícula 3943: 4.22\nPelícula 3945: 3.42\nPelícula 3947: 4.12\nPelícula 3949: 3.82\nPelícula 3951: 3.60\n"
     ]
    }
   ],
   "source": [
    "from pyspark.sql import SparkSession\n",
    "\n",
    "# Usamos el SparkSession preexistente de Databricks\n",
    "spark = SparkSession.builder.getOrCreate()\n",
    "sc = spark.sparkContext\n",
    "\n",
    "# Cargamos el archivo de ratings\n",
    "ratings_rdd = sc.textFile(\"/FileStore/ratings.txt\")\n",
    "\n",
    "# Paso 1: Dividir las líneas por \"::\" y seleccionar el id de la película y la calificación\n",
    "ratings_rdd = ratings_rdd.map(lambda x: x.split(\"::\"))\n",
    "\n",
    "# Paso 2: Crear un RDD de tuplas (película_id, calificación)\n",
    "movie_ratings_rdd = ratings_rdd.map(lambda x: (int(x[0]), float(x[2])))\n",
    "\n",
    "# Paso 3: Sumar las calificaciones y contar las votaciones por película\n",
    "sum_ratings = movie_ratings_rdd.reduceByKey(lambda x, y: x + y)\n",
    "count_ratings = movie_ratings_rdd.mapValues(lambda x: 1).reduceByKey(lambda x, y: x + y)\n",
    "\n",
    "# Paso 4: Unir las sumas y los conteos para calcular la calificación media\n",
    "average_ratings = sum_ratings.join(count_ratings).mapValues(lambda x: x[0] / x[1])\n",
    "\n",
    "# Paso 5: Filtrar las películas cuya calificación media sea superior a 3\n",
    "movies_above_3 = average_ratings.filter(lambda x: x[1] > 3)\n",
    "\n",
    "# Paso 6: Mostrar las películas cuya calificación media es superior a 3\n",
    "print(\"Películas con calificación media superior a 3:\")\n",
    "for movie, avg_rating in movies_above_3.collect():\n",
    "    print(f\"Película {movie}: {avg_rating:.2f}\")\n"
   ]
  },
  {
   "cell_type": "markdown",
   "metadata": {
    "application/vnd.databricks.v1+cell": {
     "cellMetadata": {},
     "inputWidgets": {},
     "nuid": "204a5b63-f498-4e2a-ba2d-d21f6278ac67",
     "showTitle": false,
     "tableResultSettingsMap": {},
     "title": ""
    }
   },
   "source": [
    "# Proyecto"
   ]
  },
  {
   "cell_type": "markdown",
   "metadata": {
    "application/vnd.databricks.v1+cell": {
     "cellMetadata": {},
     "inputWidgets": {},
     "nuid": "ccd32600-1412-41e5-8dae-e437c54aa322",
     "showTitle": false,
     "tableResultSettingsMap": {},
     "title": ""
    }
   },
   "source": [
    "A continuación planteamos el siguiente proyecto para realizar en clase:"
   ]
  },
  {
   "cell_type": "markdown",
   "metadata": {
    "application/vnd.databricks.v1+cell": {
     "cellMetadata": {},
     "inputWidgets": {},
     "nuid": "3d9c37d2-0a23-479f-8b49-4078abbc7f0d",
     "showTitle": false,
     "tableResultSettingsMap": {},
     "title": ""
    }
   },
   "source": [
    "**1.** Tenemos las calificaciones de las asignaturas de [matemáticas](https://tajamar365.sharepoint.com/:t:/s/3405-MasterIA2024-2025/EWlo3ON8o4dLjZAmnJa4E2gBG2zbPGb2_kx0UJaqNiMzCA?e=8XRr7X), [inglés](https://tajamar365.sharepoint.com/:t:/s/3405-MasterIA2024-2025/EWbI5WURy9RMk5kPpMVU6HoBIKSpzjWjdSz982dWS3nboQ?e=C5TONj) y [física](https://tajamar365.sharepoint.com/:t:/s/3405-MasterIA2024-2025/EYNDTyKO2UdOt2t3GPKCZ0UBt9-lasNRDclinzD-dCleBw?e=l9MIiu) de los alumnos del instituto en 3 documentos de texto. A partir de estos ficheros:"
   ]
  },
  {
   "cell_type": "markdown",
   "metadata": {
    "application/vnd.databricks.v1+cell": {
     "cellMetadata": {},
     "inputWidgets": {},
     "nuid": "c56eb571-e416-41f1-bac5-cadb80ee6dd5",
     "showTitle": false,
     "tableResultSettingsMap": {},
     "title": ""
    }
   },
   "source": [
    "a. Crea 3 RDD de pares, uno para cada asignatura, con los alumnos y sus notas"
   ]
  },
  {
   "cell_type": "code",
   "execution_count": 0,
   "metadata": {
    "application/vnd.databricks.v1+cell": {
     "cellMetadata": {
      "byteLimit": 2048000,
      "rowLimit": 10000
     },
     "inputWidgets": {},
     "nuid": "f7d8e1bc-79b0-4c3e-8194-a10e0cb2b583",
     "showTitle": false,
     "tableResultSettingsMap": {},
     "title": ""
    }
   },
   "outputs": [
    {
     "output_type": "stream",
     "name": "stdout",
     "output_type": "stream",
     "text": [
      "Notas de Física:\nAlumno: Angel, Nota: 9.0\nAlumno: Maria, Nota: 3.0\nAlumno: Ramon, Nota: 7.0\nAlumno: Jorge, Nota: 5.0\nAlumno: Susana, Nota: 9.0\nAlumno: Anabel, Nota: 2.0\nAlumno: Pedro, Nota: 2.0\nAlumno: Rocio, Nota: 5.0\nAlumno: Carlos, Nota: 4.0\nAlumno: Rocio, Nota: 7.0\nAlumno: Triana, Nota: 3.0\nAlumno: Andres, Nota: 4.0\nAlumno: Fernando, Nota: 9.0\nAlumno: Leonardo, Nota: 6.0\nAlumno: Oscar, Nota: 5.0\nAlumno: Isabel, Nota: 8.0\nAlumno: Jose Juan, Nota: 3.0\nAlumno: Nicolas, Nota: 7.0\nAlumno: Alejandro, Nota: 3.0\nAlumno: Rosa, Nota: 8.0\n\nNotas de Inglés:\nAlumno: Angel, Nota: 4.0\nAlumno: Maria, Nota: 6.0\nAlumno: Ramon, Nota: 8.0\nAlumno: Jorge, Nota: 5.0\nAlumno: Susana, Nota: 2.0\nAlumno: Anabel, Nota: 7.0\nAlumno: Rocio, Nota: 4.0\nAlumno: Carlos, Nota: 8.0\nAlumno: Triana, Nota: 4.0\nAlumno: Andres, Nota: 6.0\nAlumno: Fernando, Nota: 7.0\nAlumno: Leonardo, Nota: 4.0\nAlumno: Oscar, Nota: 3.0\nAlumno: Isabel, Nota: 7.0\nAlumno: Jose Juan, Nota: 3.0\nAlumno: Nicolas, Nota: 5.0\nAlumno: Alejandro, Nota: 7.0\nAlumno: Rosa, Nota: 9.0\n\nNotas de Matemáticas:\nAlumno: Angel, Nota: 6.0\nAlumno: Maria, Nota: 2.0\nAlumno: Ramon, Nota: 4.5\nAlumno: Jorge, Nota: 10.0\nAlumno: Susana, Nota: 9.0\nAlumno: Anabel, Nota: 8.0\nAlumno: Pedro, Nota: 5.0\nAlumno: Rocio, Nota: 6.0\nAlumno: Carlos, Nota: 4.0\nAlumno: Triana, Nota: 3.0\nAlumno: Andres, Nota: 4.0\nAlumno: Fernando, Nota: 5.0\nAlumno: Leonardo, Nota: 1.0\nAlumno: Oscar, Nota: 7.0\nAlumno: Isabel, Nota: 8.0\nAlumno: Jose Juan, Nota: 5.0\nAlumno: Nicolas, Nota: 2.0\nAlumno: Alejandro, Nota: 5.0\nAlumno: Rosa, Nota: 6.0\n"
     ]
    }
   ],
   "source": [
    "# Cargar los datos para cada asignatura (asumiendo que los archivos tienen la estructura 'nombre,nota')\n",
    "rdd_fisica = sc.textFile(\"/FileStore/notas_fisica.txt\").map(lambda x: (x.split(\",\")[0], float(x.split(\",\")[1])))\n",
    "rdd_ingles = sc.textFile(\"/FileStore/notas_ingles.txt\").map(lambda x: (x.split(\",\")[0], float(x.split(\",\")[1])))\n",
    "rdd_mates = sc.textFile(\"/FileStore/notas_mates.txt\").map(lambda x: (x.split(\",\")[0], float(x.split(\",\")[1])))\n",
    "\n",
    "# a. Crear 3 RDD de pares para cada asignatura\n",
    "\n",
    "# Notas de Física\n",
    "print(\"Notas de Física:\")\n",
    "fisica_sample = rdd_fisica.collect()  # Toma todos los registros de Física\n",
    "for alumno, nota in fisica_sample:\n",
    "    print(f\"Alumno: {alumno}, Nota: {nota}\")\n",
    "\n",
    "# Notas de Inglés\n",
    "print(\"\\nNotas de Inglés:\")\n",
    "ingles_sample = rdd_ingles.collect()  # Toma todos los registros de Inglés\n",
    "for alumno, nota in ingles_sample:\n",
    "    print(f\"Alumno: {alumno}, Nota: {nota}\")\n",
    "\n",
    "# Notas de Matemáticas\n",
    "print(\"\\nNotas de Matemáticas:\")\n",
    "mates_sample = rdd_mates.collect()  # Toma todos los registros de Matemáticas\n",
    "for alumno, nota in mates_sample:\n",
    "    print(f\"Alumno: {alumno}, Nota: {nota}\")\n"
   ]
  },
  {
   "cell_type": "markdown",
   "metadata": {
    "application/vnd.databricks.v1+cell": {
     "cellMetadata": {},
     "inputWidgets": {},
     "nuid": "13a2880e-6c80-4136-84a7-46f48a3d9585",
     "showTitle": false,
     "tableResultSettingsMap": {},
     "title": ""
    }
   },
   "source": [
    "b. Crea un solo RDD con todas las notas  "
   ]
  },
  {
   "cell_type": "code",
   "execution_count": 0,
   "metadata": {
    "application/vnd.databricks.v1+cell": {
     "cellMetadata": {
      "byteLimit": 2048000,
      "rowLimit": 10000
     },
     "inputWidgets": {},
     "nuid": "5a4c6275-9008-49ce-b820-01202b0f82ad",
     "showTitle": false,
     "tableResultSettingsMap": {},
     "title": ""
    }
   },
   "outputs": [
    {
     "output_type": "stream",
     "name": "stdout",
     "output_type": "stream",
     "text": [
      "RDD con todas las notas (primeros 10):\nAlumno: Angel, Nota: 9.0\nAlumno: Maria, Nota: 3.0\nAlumno: Ramon, Nota: 7.0\nAlumno: Jorge, Nota: 5.0\nAlumno: Susana, Nota: 9.0\nAlumno: Anabel, Nota: 2.0\nAlumno: Pedro, Nota: 2.0\nAlumno: Rocio, Nota: 5.0\nAlumno: Carlos, Nota: 4.0\nAlumno: Rocio, Nota: 7.0\n"
     ]
    }
   ],
   "source": [
    "# b. Crear un solo RDD con todas las notas\n",
    "\n",
    "# Unir los tres RDD (Fisica, Ingles, y Mates)\n",
    "rdd_completo = rdd_fisica.union(rdd_ingles).union(rdd_mates)\n",
    "\n",
    "# Mostrar los primeros 10 resultados del RDD completo\n",
    "print(\"RDD con todas las notas (primeros 10):\")\n",
    "for alumno, nota in rdd_completo.take(10):\n",
    "    print(f\"Alumno: {alumno}, Nota: {nota}\")"
   ]
  },
  {
   "cell_type": "markdown",
   "metadata": {
    "application/vnd.databricks.v1+cell": {
     "cellMetadata": {},
     "inputWidgets": {},
     "nuid": "2fdbbfb4-40f4-49fd-9242-778204f7966d",
     "showTitle": false,
     "tableResultSettingsMap": {},
     "title": ""
    }
   },
   "source": [
    "c. ¿Cuál es la nota más baja que ha tenido cada alumno?"
   ]
  },
  {
   "cell_type": "code",
   "execution_count": 0,
   "metadata": {
    "application/vnd.databricks.v1+cell": {
     "cellMetadata": {
      "byteLimit": 2048000,
      "rowLimit": 10000
     },
     "inputWidgets": {},
     "nuid": "c49c541b-ebd1-4b5a-9a3a-3018c736883d",
     "showTitle": false,
     "tableResultSettingsMap": {},
     "title": ""
    }
   },
   "outputs": [
    {
     "output_type": "stream",
     "name": "stdout",
     "output_type": "stream",
     "text": [
      "Nota más baja por alumno (primeros 10):\nAlumno: Angel, Nota más baja: 4.0\nAlumno: Carlos, Nota más baja: 4.0\nAlumno: Anabel, Nota más baja: 2.0\nAlumno: Jorge, Nota más baja: 5.0\nAlumno: Susana, Nota más baja: 2.0\nAlumno: Andres, Nota más baja: 4.0\nAlumno: Jose Juan, Nota más baja: 3.0\nAlumno: Rocio, Nota más baja: 4.0\nAlumno: Fernando, Nota más baja: 5.0\nAlumno: Oscar, Nota más baja: 3.0\n"
     ]
    }
   ],
   "source": [
    "# c. ¿Cuál es la nota más baja que ha tenido cada alumno?\n",
    "\n",
    "# Unir las tres asignaturas en un solo RDD\n",
    "union_rdd = rdd_fisica.union(rdd_ingles).union(rdd_mates)\n",
    "\n",
    "# Agrupar por alumno y calcular la nota más baja\n",
    "nota_baja = union_rdd.groupByKey().mapValues(lambda x: min(x))\n",
    "\n",
    "# Mostrar las primeras 10 notas más bajas por alumno\n",
    "print(\"Nota más baja por alumno (primeros 10):\")\n",
    "for alumno, baja in nota_baja.take(10):\n",
    "    print(f\"Alumno: {alumno}, Nota más baja: {baja}\")\n"
   ]
  },
  {
   "cell_type": "markdown",
   "metadata": {
    "application/vnd.databricks.v1+cell": {
     "cellMetadata": {},
     "inputWidgets": {},
     "nuid": "61ae4581-dcb7-4a01-ac75-fbd4ef385735",
     "showTitle": false,
     "tableResultSettingsMap": {},
     "title": ""
    }
   },
   "source": [
    "d. ¿Cuál es la nota media de cada alumno?"
   ]
  },
  {
   "cell_type": "code",
   "execution_count": 0,
   "metadata": {
    "application/vnd.databricks.v1+cell": {
     "cellMetadata": {
      "byteLimit": 2048000,
      "rowLimit": 10000
     },
     "inputWidgets": {},
     "nuid": "0bf871a3-a6c2-4b28-92b3-424ed0fd9d56",
     "showTitle": false,
     "tableResultSettingsMap": {},
     "title": ""
    }
   },
   "outputs": [
    {
     "output_type": "stream",
     "name": "stdout",
     "output_type": "stream",
     "text": [
      "Nota media por alumno (primeros 10):\nAlumno: Angel, Nota media: 6.33\nAlumno: Carlos, Nota media: 5.33\nAlumno: Anabel, Nota media: 5.67\nAlumno: Jorge, Nota media: 6.67\nAlumno: Susana, Nota media: 6.67\nAlumno: Andres, Nota media: 4.67\nAlumno: Jose Juan, Nota media: 3.67\nAlumno: Rocio, Nota media: 5.5\nAlumno: Fernando, Nota media: 7.0\nAlumno: Oscar, Nota media: 5.0\n"
     ]
    }
   ],
   "source": [
    "# d. ¿Cuál es la nota media de cada alumno?\n",
    "\n",
    "# Unir las tres asignaturas en un solo RDD\n",
    "union_rdd = rdd_fisica.union(rdd_ingles).union(rdd_mates)\n",
    "\n",
    "# Agrupar por alumno (key) y calcular la media de las notas\n",
    "nota_media = union_rdd.groupByKey().mapValues(lambda x: round(sum(x) / len(x), 2))\n",
    "\n",
    "# Mostrar las primeras 10 notas medias por alumno\n",
    "print(\"Nota media por alumno (primeros 10):\")\n",
    "for alumno, media in nota_media.take(10):\n",
    "    print(f\"Alumno: {alumno}, Nota media: {media}\")\n"
   ]
  },
  {
   "cell_type": "markdown",
   "metadata": {
    "application/vnd.databricks.v1+cell": {
     "cellMetadata": {},
     "inputWidgets": {},
     "nuid": "b0922bfa-40dc-4ff8-9c6b-f37fedd3adcd",
     "showTitle": false,
     "tableResultSettingsMap": {},
     "title": ""
    }
   },
   "source": [
    "e. ¿Cuantos estudiantes suspende cada asignatura? "
   ]
  },
  {
   "cell_type": "code",
   "execution_count": 0,
   "metadata": {
    "application/vnd.databricks.v1+cell": {
     "cellMetadata": {
      "byteLimit": 2048000,
      "rowLimit": 10000
     },
     "inputWidgets": {},
     "nuid": "4e540ac7-6356-4f51-b026-61a0c607cdd3",
     "showTitle": false,
     "tableResultSettingsMap": {},
     "title": ""
    }
   },
   "outputs": [
    {
     "output_type": "stream",
     "name": "stdout",
     "output_type": "stream",
     "text": [
      "Suspensos en Física: 8\nSuspensos en Inglés: 7\nSuspensos en Matemáticas: 7\n"
     ]
    }
   ],
   "source": [
    "# e. ¿Cuántos estudiantes suspende cada asignatura?\n",
    "suspensos_fisica = rdd_fisica.filter(lambda x: x[1] < 5).count()\n",
    "suspensos_ingles = rdd_ingles.filter(lambda x: x[1] < 5).count()\n",
    "suspensos_mates = rdd_mates.filter(lambda x: x[1] < 5).count()\n",
    "\n",
    "print(\"Suspensos en Física:\", suspensos_fisica)\n",
    "print(\"Suspensos en Inglés:\", suspensos_ingles)\n",
    "print(\"Suspensos en Matemáticas:\", suspensos_mates)"
   ]
  },
  {
   "cell_type": "markdown",
   "metadata": {
    "application/vnd.databricks.v1+cell": {
     "cellMetadata": {},
     "inputWidgets": {},
     "nuid": "37d2048e-03e4-4d9a-80cb-b790622bab8b",
     "showTitle": false,
     "tableResultSettingsMap": {},
     "title": ""
    }
   },
   "source": [
    "f. ¿En qué asignatura suspende más gente?"
   ]
  },
  {
   "cell_type": "code",
   "execution_count": 0,
   "metadata": {
    "application/vnd.databricks.v1+cell": {
     "cellMetadata": {
      "byteLimit": 2048000,
      "rowLimit": 10000
     },
     "inputWidgets": {},
     "nuid": "bfd433ee-e3c3-48be-9d8b-a8d0e2c89a42",
     "showTitle": false,
     "tableResultSettingsMap": {},
     "title": ""
    }
   },
   "outputs": [
    {
     "output_type": "stream",
     "name": "stdout",
     "output_type": "stream",
     "text": [
      "Más suspensos en Física: 8\n"
     ]
    }
   ],
   "source": [
    "# f. ¿En qué asignatura suspende más gente?\n",
    "\n",
    "# Contar los suspensos en cada asignatura\n",
    "suspensos_fisica = rdd_fisica.filter(lambda x: x[1] < 5).count()\n",
    "suspensos_ingles = rdd_ingles.filter(lambda x: x[1] < 5).count()\n",
    "suspensos_mates = rdd_mates.filter(lambda x: x[1] < 5).count()\n",
    "\n",
    "# Comparar el número de suspensos\n",
    "max_suspensos = max(suspensos_fisica, suspensos_ingles, suspensos_mates)\n",
    "\n",
    "# Imprimir el resultado según la asignatura con más suspensos\n",
    "if max_suspensos == suspensos_fisica:\n",
    "    print(\"Más suspensos en Física:\", suspensos_fisica)\n",
    "elif max_suspensos == suspensos_ingles:\n",
    "    print(\"Más suspensos en Inglés:\", suspensos_ingles)\n",
    "else:\n",
    "    print(\"Más suspensos en Matemáticas:\", suspensos_mates)\n"
   ]
  },
  {
   "cell_type": "markdown",
   "metadata": {
    "application/vnd.databricks.v1+cell": {
     "cellMetadata": {},
     "inputWidgets": {},
     "nuid": "ce1cdc88-18bc-407a-984d-79d17f0a9258",
     "showTitle": false,
     "tableResultSettingsMap": {},
     "title": ""
    }
   },
   "source": [
    "g. Total de notables o sobresalientes por alumno, es decir, cantidad de notas superiores o igual a 7.  "
   ]
  },
  {
   "cell_type": "code",
   "execution_count": 0,
   "metadata": {
    "application/vnd.databricks.v1+cell": {
     "cellMetadata": {
      "byteLimit": 2048000,
      "rowLimit": 10000
     },
     "inputWidgets": {},
     "nuid": "21a9ab42-26f9-4c0e-817b-fc831f4ed068",
     "showTitle": false,
     "tableResultSettingsMap": {},
     "title": ""
    }
   },
   "outputs": [
    {
     "output_type": "stream",
     "name": "stdout",
     "output_type": "stream",
     "text": [
      "Notables o sobresalientes por alumno:\nAngel: 1\nCarlos: 1\nAnabel: 2\nSusana: 2\nJorge: 1\nRocio: 1\nFernando: 2\nIsabel: 3\nAlejandro: 1\nOscar: 1\nRamon: 2\nNicolas: 1\nRosa: 2\n"
     ]
    }
   ],
   "source": [
    "# g. Total de notables o sobresalientes por alumno (notas >= 7)\n",
    "# Unir los RDD de física, inglés y mates, filtrar las notas >= 7\n",
    "notables_por_alumno = rdd_fisica.union(rdd_ingles).union(rdd_mates) \\\n",
    "    .filter(lambda x: x[1] >= 7) \\\n",
    "    .map(lambda x: (x[0], 1)) \\\n",
    "    .reduceByKey(lambda x, y: x + y)\n",
    "\n",
    "# Recoger los resultados\n",
    "notables_por_alumno_result = notables_por_alumno.collect()\n",
    "\n",
    "# Imprimir los resultados\n",
    "print(\"Notables o sobresalientes por alumno:\")\n",
    "for alumno, total in notables_por_alumno_result:\n",
    "    print(f\"{alumno}: {total}\")\n"
   ]
  },
  {
   "cell_type": "markdown",
   "metadata": {
    "application/vnd.databricks.v1+cell": {
     "cellMetadata": {},
     "inputWidgets": {},
     "nuid": "73f238c8-7f02-45e3-ab33-085d5946107d",
     "showTitle": false,
     "tableResultSettingsMap": {},
     "title": ""
    }
   },
   "source": [
    "h. ¿Qué alumno no se ha presentado a inglés?"
   ]
  },
  {
   "cell_type": "code",
   "execution_count": 0,
   "metadata": {
    "application/vnd.databricks.v1+cell": {
     "cellMetadata": {
      "byteLimit": 2048000,
      "rowLimit": 10000
     },
     "inputWidgets": {},
     "nuid": "7af38dea-f415-4eab-acb0-4fe7f58089f5",
     "showTitle": false,
     "tableResultSettingsMap": {},
     "title": ""
    }
   },
   "outputs": [
    {
     "output_type": "stream",
     "name": "stdout",
     "output_type": "stream",
     "text": [
      "Alumnos que no se han presentado a Inglés:\nPedro\n"
     ]
    }
   ],
   "source": [
    "# h. ¿Qué alumno no se ha presentado a inglés?\n",
    "# Recoger los alumnos que se han presentado a inglés\n",
    "alumnos_ingles = rdd_ingles.map(lambda x: x[0]).collect()\n",
    "\n",
    "# Unir los RDD de física y mates, obtener los alumnos y eliminar los que están en inglés\n",
    "alumnos_no_ingles = rdd_fisica.union(rdd_mates).map(lambda x: x[0]).distinct().subtract(sc.parallelize(alumnos_ingles))\n",
    "\n",
    "# Recoger los resultados\n",
    "alumnos_no_ingles_result = alumnos_no_ingles.collect()\n",
    "\n",
    "# Imprimir los resultados\n",
    "print(\"Alumnos que no se han presentado a Inglés:\")\n",
    "for alumno in alumnos_no_ingles_result:\n",
    "    print(alumno)\n"
   ]
  },
  {
   "cell_type": "markdown",
   "metadata": {
    "application/vnd.databricks.v1+cell": {
     "cellMetadata": {},
     "inputWidgets": {},
     "nuid": "486c40b0-36df-47f4-8695-a6d048ec47ef",
     "showTitle": false,
     "tableResultSettingsMap": {},
     "title": ""
    }
   },
   "source": [
    "i. ¿A cuántas asignaturas se ha presentado cada alumno?"
   ]
  },
  {
   "cell_type": "code",
   "execution_count": 0,
   "metadata": {
    "application/vnd.databricks.v1+cell": {
     "cellMetadata": {
      "byteLimit": 2048000,
      "rowLimit": 10000
     },
     "inputWidgets": {},
     "nuid": "bae79e89-25f2-4d4e-860b-e5aed54ea039",
     "showTitle": false,
     "tableResultSettingsMap": {},
     "title": ""
    }
   },
   "outputs": [
    {
     "output_type": "stream",
     "name": "stdout",
     "output_type": "stream",
     "text": [
      "Número de asignaturas a las que se ha presentado cada alumno:\nRocio: 4\nAngel: 3\nCarlos: 3\nAnabel: 3\nJorge: 3\nSusana: 3\nAndres: 3\nJose Juan: 3\nFernando: 3\nOscar: 3\nIsabel: 3\nAlejandro: 3\nRamon: 3\nLeonardo: 3\nNicolas: 3\nMaria: 3\nTriana: 3\nRosa: 3\nPedro: 2\n"
     ]
    }
   ],
   "source": [
    "# i. ¿A cuántas asignaturas se ha presentado cada alumno?\n",
    "asignaturas_presentadas = rdd_fisica.map(lambda x: (x[0], 1)) \\\n",
    "                                    .union(rdd_ingles.map(lambda x: (x[0], 1))) \\\n",
    "                                    .union(rdd_mates.map(lambda x: (x[0], 1)))\n",
    "\n",
    "# Contamos cuántas asignaturas se ha presentado cada alumno\n",
    "asignaturas_presentadas_count = asignaturas_presentadas.reduceByKey(lambda x, y: x + y)\n",
    "\n",
    "# Recoger los resultados\n",
    "asignaturas_presentadas_result = asignaturas_presentadas_count.collect()\n",
    "\n",
    "# Imprimir los resultados ordenados\n",
    "print(\"Número de asignaturas a las que se ha presentado cada alumno:\")\n",
    "for alumno, num_asignaturas in sorted(asignaturas_presentadas_result, key=lambda x: x[1], reverse=True):\n",
    "    print(f\"{alumno}: {num_asignaturas}\")\n"
   ]
  },
  {
   "cell_type": "markdown",
   "metadata": {
    "application/vnd.databricks.v1+cell": {
     "cellMetadata": {},
     "inputWidgets": {},
     "nuid": "d24640cd-6af3-483e-aeee-5d15a18193ee",
     "showTitle": false,
     "tableResultSettingsMap": {},
     "title": ""
    }
   },
   "source": [
    "j. Obtén un RDD con cada alumno con sus notas"
   ]
  },
  {
   "cell_type": "code",
   "execution_count": 0,
   "metadata": {
    "application/vnd.databricks.v1+cell": {
     "cellMetadata": {
      "byteLimit": 2048000,
      "rowLimit": 10000
     },
     "inputWidgets": {},
     "nuid": "f09f0c3b-52fa-4239-a352-a738d1903589",
     "showTitle": false,
     "tableResultSettingsMap": {},
     "title": ""
    }
   },
   "outputs": [
    {
     "output_type": "stream",
     "name": "stdout",
     "output_type": "stream",
     "text": [
      "Notas totales por alumno (todos los registros):\nCarlos: Física = 4.0, Inglés = 8.0, Matemáticas = 4.0\nAngel: Física = 9.0, Inglés = 4.0, Matemáticas = 6.0\nAnabel: Física = 2.0, Inglés = 7.0, Matemáticas = 8.0\nJorge: Física = 5.0, Inglés = 5.0, Matemáticas = 10.0\nSusana: Física = 9.0, Inglés = 2.0, Matemáticas = 9.0\nAndres: Física = 4.0, Inglés = 6.0, Matemáticas = 4.0\nJose Juan: Física = 3.0, Inglés = 3.0, Matemáticas = 5.0\nOscar: Física = 5.0, Inglés = 3.0, Matemáticas = 7.0\nRocio: Física = 5.0, Inglés = 4.0, Matemáticas = 6.0\nRocio: Física = 7.0, Inglés = 4.0, Matemáticas = 6.0\nFernando: Física = 9.0, Inglés = 7.0, Matemáticas = 5.0\nIsabel: Física = 8.0, Inglés = 7.0, Matemáticas = 8.0\nAlejandro: Física = 3.0, Inglés = 7.0, Matemáticas = 5.0\nRamon: Física = 7.0, Inglés = 8.0, Matemáticas = 4.5\nPedro: Física = 2.0, Inglés = 0, Matemáticas = 5.0\nLeonardo: Física = 6.0, Inglés = 4.0, Matemáticas = 1.0\nNicolas: Física = 7.0, Inglés = 5.0, Matemáticas = 2.0\nMaria: Física = 3.0, Inglés = 6.0, Matemáticas = 2.0\nTriana: Física = 3.0, Inglés = 4.0, Matemáticas = 3.0\nRosa: Física = 8.0, Inglés = 9.0, Matemáticas = 6.0\n"
     ]
    }
   ],
   "source": [
    "# j. Obtener un RDD con cada alumno y sus notas en todas las asignaturas\n",
    "notas_totales = rdd_fisica.fullOuterJoin(rdd_ingles).fullOuterJoin(rdd_mates).mapValues(\n",
    "    lambda x: (\n",
    "        x[0][0] if x[0][0] is not None else 0,  # Nota de Física (si existe, sino 0)\n",
    "        x[0][1] if x[0][1] is not None else 0,  # Nota de Inglés (si existe, sino 0)\n",
    "        x[1] if x[1] is not None else 0          # Nota de Matemáticas (si existe, sino 0)\n",
    "    )\n",
    ")\n",
    "\n",
    "# Recoger los resultados\n",
    "notas_totales_result = notas_totales.collect()\n",
    "\n",
    "# Imprimir los resultados de forma ordenada\n",
    "print(\"Notas totales por alumno (todos los registros):\")\n",
    "for alumno, notas in notas_totales_result:\n",
    "    print(f\"{alumno}: Física = {notas[0]}, Inglés = {notas[1]}, Matemáticas = {notas[2]}\")\n"
   ]
  },
  {
   "cell_type": "code",
   "execution_count": 0,
   "metadata": {
    "application/vnd.databricks.v1+cell": {
     "cellMetadata": {},
     "inputWidgets": {},
     "nuid": "5811f38d-9eab-4b5c-a88f-5b817d8bc974",
     "showTitle": false,
     "tableResultSettingsMap": {},
     "title": ""
    }
   },
   "outputs": [],
   "source": []
  }
 ],
 "metadata": {
  "application/vnd.databricks.v1+notebook": {
   "dashboards": [],
   "environmentMetadata": null,
   "language": "python",
   "notebookMetadata": {
    "pythonIndentUnit": 2
   },
   "notebookName": "notebook",
   "widgets": {}
  },
  "kernelspec": {
   "display_name": "Python 3 (ipykernel)",
   "language": "python",
   "name": "python3"
  },
  "language_info": {
   "codemirror_mode": {
    "name": "ipython",
    "version": 3
   },
   "file_extension": ".py",
   "mimetype": "text/x-python",
   "name": "python",
   "nbconvert_exporter": "python",
   "pygments_lexer": "ipython3",
   "version": "3.12.7"
  }
 },
 "nbformat": 4,
 "nbformat_minor": 0
}
